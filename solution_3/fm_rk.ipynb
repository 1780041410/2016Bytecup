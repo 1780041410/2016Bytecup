{
 "cells": [
  {
   "cell_type": "code",
   "execution_count": 1,
   "metadata": {
    "collapsed": true
   },
   "outputs": [],
   "source": [
    "import graphlab as gl"
   ]
  },
  {
   "cell_type": "code",
   "execution_count": 2,
   "metadata": {
    "collapsed": false
   },
   "outputs": [
    {
     "name": "stdout",
     "output_type": "stream",
     "text": [
      "This non-commercial license of GraphLab Create for academic use is assigned to 847423348@qq.com and will expire on November 01, 2017.\n"
     ]
    },
    {
     "name": "stderr",
     "output_type": "stream",
     "text": [
      "[INFO] graphlab.cython.cy_server: GraphLab Create v2.1 started. Logging: C:\\Users\\ZHENGH~1\\AppData\\Local\\Temp\\graphlab_server_1479472489.log.0\n"
     ]
    },
    {
     "data": {
      "text/html": [
       "<pre>Finished parsing file H:\\天池\\2016Byte Cup国际机器学习竞赛\\bytecup_s2\\ensemble\\train_1117.csv</pre>"
      ],
      "text/plain": [
       "Finished parsing file H:\\天池\\2016Byte Cup国际机器学习竞赛\\bytecup_s2\\ensemble\\train_1117.csv"
      ]
     },
     "metadata": {},
     "output_type": "display_data"
    },
    {
     "data": {
      "text/html": [
       "<pre>Parsing completed. Parsed 100 lines in 1.08527 secs.</pre>"
      ],
      "text/plain": [
       "Parsing completed. Parsed 100 lines in 1.08527 secs."
      ]
     },
     "metadata": {},
     "output_type": "display_data"
    },
    {
     "name": "stdout",
     "output_type": "stream",
     "text": [
      "------------------------------------------------------\n",
      "Inferred types from first 100 line(s) of file as \n",
      "column_type_hints=[long,str,str,long,float,float,float,float,float,float,float,float,str,str,str,float,float,str,str,str,str]\n",
      "If parsing fails due to incorrect types, you can correct\n",
      "the inferred type list above and pass it to read_csv in\n",
      "the column_type_hints argument\n",
      "------------------------------------------------------\n"
     ]
    },
    {
     "data": {
      "text/html": [
       "<pre>Finished parsing file H:\\天池\\2016Byte Cup国际机器学习竞赛\\bytecup_s2\\ensemble\\train_1117.csv</pre>"
      ],
      "text/plain": [
       "Finished parsing file H:\\天池\\2016Byte Cup国际机器学习竞赛\\bytecup_s2\\ensemble\\train_1117.csv"
      ]
     },
     "metadata": {},
     "output_type": "display_data"
    },
    {
     "data": {
      "text/html": [
       "<pre>Parsing completed. Parsed 236619 lines in 1.28942 secs.</pre>"
      ],
      "text/plain": [
       "Parsing completed. Parsed 236619 lines in 1.28942 secs."
      ]
     },
     "metadata": {},
     "output_type": "display_data"
    }
   ],
   "source": [
    "train_1117=gl.SFrame.read_csv(\"train_1117.csv\")"
   ]
  },
  {
   "cell_type": "code",
   "execution_count": 3,
   "metadata": {
    "collapsed": false
   },
   "outputs": [
    {
     "data": {
      "text/html": [
       "<pre>Finished parsing file H:\\天池\\2016Byte Cup国际机器学习竞赛\\bytecup_s2\\ensemble\\val_1117.csv</pre>"
      ],
      "text/plain": [
       "Finished parsing file H:\\天池\\2016Byte Cup国际机器学习竞赛\\bytecup_s2\\ensemble\\val_1117.csv"
      ]
     },
     "metadata": {},
     "output_type": "display_data"
    },
    {
     "data": {
      "text/html": [
       "<pre>Parsing completed. Parsed 100 lines in 0.214653 secs.</pre>"
      ],
      "text/plain": [
       "Parsing completed. Parsed 100 lines in 0.214653 secs."
      ]
     },
     "metadata": {},
     "output_type": "display_data"
    },
    {
     "name": "stdout",
     "output_type": "stream",
     "text": [
      "------------------------------------------------------\n",
      "Inferred types from first 100 line(s) of file as \n",
      "column_type_hints=[long,str,str,long,float,float,float,float,float,float,float,float,str,str,str,float,float,str,str,str,str]\n",
      "If parsing fails due to incorrect types, you can correct\n",
      "the inferred type list above and pass it to read_csv in\n",
      "the column_type_hints argument\n",
      "------------------------------------------------------\n"
     ]
    },
    {
     "data": {
      "text/html": [
       "<pre>Finished parsing file H:\\天池\\2016Byte Cup国际机器学习竞赛\\bytecup_s2\\ensemble\\val_1117.csv</pre>"
      ],
      "text/plain": [
       "Finished parsing file H:\\天池\\2016Byte Cup国际机器学习竞赛\\bytecup_s2\\ensemble\\val_1117.csv"
      ]
     },
     "metadata": {},
     "output_type": "display_data"
    },
    {
     "data": {
      "text/html": [
       "<pre>Parsing completed. Parsed 41757 lines in 0.169157 secs.</pre>"
      ],
      "text/plain": [
       "Parsing completed. Parsed 41757 lines in 0.169157 secs."
      ]
     },
     "metadata": {},
     "output_type": "display_data"
    }
   ],
   "source": [
    "val_1117=gl.SFrame.read_csv(\"val_1117.csv\")"
   ]
  },
  {
   "cell_type": "code",
   "execution_count": 4,
   "metadata": {
    "collapsed": false
   },
   "outputs": [
    {
     "data": {
      "text/html": [
       "<div style=\"max-height:1000px;max-width:1500px;overflow:auto;\"><table frame=\"box\" rules=\"cols\">\n",
       "    <tr>\n",
       "        <th style=\"padding-left: 1em; padding-right: 1em; text-align: center\">uid</th>\n",
       "        <th style=\"padding-left: 1em; padding-right: 1em; text-align: center\">huidalv</th>\n",
       "    </tr>\n",
       "    <tr>\n",
       "        <td style=\"padding-left: 1em; padding-right: 1em; text-align: center; vertical-align: top\">a7c17f2b8bae3ceca30919b88<br>6b5d974 ...</td>\n",
       "        <td style=\"padding-left: 1em; padding-right: 1em; text-align: center; vertical-align: top\">0.0</td>\n",
       "    </tr>\n",
       "    <tr>\n",
       "        <td style=\"padding-left: 1em; padding-right: 1em; text-align: center; vertical-align: top\">488a1e8078c626e80f5a9524c<br>87cf3f6 ...</td>\n",
       "        <td style=\"padding-left: 1em; padding-right: 1em; text-align: center; vertical-align: top\">0.0</td>\n",
       "    </tr>\n",
       "    <tr>\n",
       "        <td style=\"padding-left: 1em; padding-right: 1em; text-align: center; vertical-align: top\">b77b83c34993bfc51d2a47527<br>3e4318c ...</td>\n",
       "        <td style=\"padding-left: 1em; padding-right: 1em; text-align: center; vertical-align: top\">0.032258065</td>\n",
       "    </tr>\n",
       "    <tr>\n",
       "        <td style=\"padding-left: 1em; padding-right: 1em; text-align: center; vertical-align: top\">dc19b397abe3c9107e8042f18<br>256ebfe ...</td>\n",
       "        <td style=\"padding-left: 1em; padding-right: 1em; text-align: center; vertical-align: top\">0.965517241</td>\n",
       "    </tr>\n",
       "    <tr>\n",
       "        <td style=\"padding-left: 1em; padding-right: 1em; text-align: center; vertical-align: top\">844db1a03803d96c226021456<br>6909265 ...</td>\n",
       "        <td style=\"padding-left: 1em; padding-right: 1em; text-align: center; vertical-align: top\">0.0</td>\n",
       "    </tr>\n",
       "    <tr>\n",
       "        <td style=\"padding-left: 1em; padding-right: 1em; text-align: center; vertical-align: top\">8828da9390553748ce2400107<br>288ddbb ...</td>\n",
       "        <td style=\"padding-left: 1em; padding-right: 1em; text-align: center; vertical-align: top\">0.0</td>\n",
       "    </tr>\n",
       "    <tr>\n",
       "        <td style=\"padding-left: 1em; padding-right: 1em; text-align: center; vertical-align: top\">8c9fa7ffb62477853828e59bc<br>fe94dc0 ...</td>\n",
       "        <td style=\"padding-left: 1em; padding-right: 1em; text-align: center; vertical-align: top\">0.153846154</td>\n",
       "    </tr>\n",
       "    <tr>\n",
       "        <td style=\"padding-left: 1em; padding-right: 1em; text-align: center; vertical-align: top\">984e7a963b96ee0e47ec113fb<br>18c3cd1 ...</td>\n",
       "        <td style=\"padding-left: 1em; padding-right: 1em; text-align: center; vertical-align: top\">0.0</td>\n",
       "    </tr>\n",
       "    <tr>\n",
       "        <td style=\"padding-left: 1em; padding-right: 1em; text-align: center; vertical-align: top\">23e718a1db38e35dad98d8bf9<br>abd0c03 ...</td>\n",
       "        <td style=\"padding-left: 1em; padding-right: 1em; text-align: center; vertical-align: top\">0.0</td>\n",
       "    </tr>\n",
       "    <tr>\n",
       "        <td style=\"padding-left: 1em; padding-right: 1em; text-align: center; vertical-align: top\">b8ead4a65d2245bf9fe1c6d83<br>00ae37f ...</td>\n",
       "        <td style=\"padding-left: 1em; padding-right: 1em; text-align: center; vertical-align: top\">0.431372549</td>\n",
       "    </tr>\n",
       "</table>\n",
       "[236619 rows x 2 columns]<br/>Note: Only the head of the SFrame is printed.<br/>You can use print_rows(num_rows=m, num_columns=n) to print more rows and columns.\n",
       "</div>"
      ],
      "text/plain": [
       "Columns:\n",
       "\tuid\tstr\n",
       "\thuidalv\tfloat\n",
       "\n",
       "Rows: 236619\n",
       "\n",
       "Data:\n",
       "+-------------------------------+-------------+\n",
       "|              uid              |   huidalv   |\n",
       "+-------------------------------+-------------+\n",
       "| a7c17f2b8bae3ceca30919b886... |     0.0     |\n",
       "| 488a1e8078c626e80f5a9524c8... |     0.0     |\n",
       "| b77b83c34993bfc51d2a475273... | 0.032258065 |\n",
       "| dc19b397abe3c9107e8042f182... | 0.965517241 |\n",
       "| 844db1a03803d96c2260214566... |     0.0     |\n",
       "| 8828da9390553748ce24001072... |     0.0     |\n",
       "| 8c9fa7ffb62477853828e59bcf... | 0.153846154 |\n",
       "| 984e7a963b96ee0e47ec113fb1... |     0.0     |\n",
       "| 23e718a1db38e35dad98d8bf9a... |     0.0     |\n",
       "| b8ead4a65d2245bf9fe1c6d830... | 0.431372549 |\n",
       "+-------------------------------+-------------+\n",
       "[236619 rows x 2 columns]\n",
       "Note: Only the head of the SFrame is printed.\n",
       "You can use print_rows(num_rows=m, num_columns=n) to print more rows and columns."
      ]
     },
     "execution_count": 4,
     "metadata": {},
     "output_type": "execute_result"
    }
   ],
   "source": [
    "first_user_data =train_1117[['uid','huidalv']] \n",
    "first_user_data"
   ]
  },
  {
   "cell_type": "code",
   "execution_count": 5,
   "metadata": {
    "collapsed": false
   },
   "outputs": [
    {
     "data": {
      "text/html": [
       "<div style=\"max-height:1000px;max-width:1500px;overflow:auto;\"><table frame=\"box\" rules=\"cols\">\n",
       "    <tr>\n",
       "        <th style=\"padding-left: 1em; padding-right: 1em; text-align: center\">qid</th>\n",
       "        <th style=\"padding-left: 1em; padding-right: 1em; text-align: center\">q_label</th>\n",
       "        <th style=\"padding-left: 1em; padding-right: 1em; text-align: center\">q_sp</th>\n",
       "    </tr>\n",
       "    <tr>\n",
       "        <td style=\"padding-left: 1em; padding-right: 1em; text-align: center; vertical-align: top\">012c6349c9afec5973d491023<br>5b53459 ...</td>\n",
       "        <td style=\"padding-left: 1em; padding-right: 1em; text-align: center; vertical-align: top\">ql19</td>\n",
       "        <td style=\"padding-left: 1em; padding-right: 1em; text-align: center; vertical-align: top\">0.006</td>\n",
       "    </tr>\n",
       "    <tr>\n",
       "        <td style=\"padding-left: 1em; padding-right: 1em; text-align: center; vertical-align: top\">751a959c8d38865ee96ee534a<br>99ea247 ...</td>\n",
       "        <td style=\"padding-left: 1em; padding-right: 1em; text-align: center; vertical-align: top\">ql15</td>\n",
       "        <td style=\"padding-left: 1em; padding-right: 1em; text-align: center; vertical-align: top\">0.014</td>\n",
       "    </tr>\n",
       "    <tr>\n",
       "        <td style=\"padding-left: 1em; padding-right: 1em; text-align: center; vertical-align: top\">8dc8067df63d4901fe15cb853<br>34ef6dd ...</td>\n",
       "        <td style=\"padding-left: 1em; padding-right: 1em; text-align: center; vertical-align: top\">ql3</td>\n",
       "        <td style=\"padding-left: 1em; padding-right: 1em; text-align: center; vertical-align: top\">0.01</td>\n",
       "    </tr>\n",
       "    <tr>\n",
       "        <td style=\"padding-left: 1em; padding-right: 1em; text-align: center; vertical-align: top\">783677b9b233d5b8d0dd9feb4<br>808489e ...</td>\n",
       "        <td style=\"padding-left: 1em; padding-right: 1em; text-align: center; vertical-align: top\">ql8</td>\n",
       "        <td style=\"padding-left: 1em; padding-right: 1em; text-align: center; vertical-align: top\">0.158</td>\n",
       "    </tr>\n",
       "    <tr>\n",
       "        <td style=\"padding-left: 1em; padding-right: 1em; text-align: center; vertical-align: top\">1de6a64d1b21349b67c7938ca<br>52d30a0 ...</td>\n",
       "        <td style=\"padding-left: 1em; padding-right: 1em; text-align: center; vertical-align: top\">ql8</td>\n",
       "        <td style=\"padding-left: 1em; padding-right: 1em; text-align: center; vertical-align: top\">0.014</td>\n",
       "    </tr>\n",
       "    <tr>\n",
       "        <td style=\"padding-left: 1em; padding-right: 1em; text-align: center; vertical-align: top\">0f929b143d6c670874ae558f2<br>1f49bad ...</td>\n",
       "        <td style=\"padding-left: 1em; padding-right: 1em; text-align: center; vertical-align: top\">ql8</td>\n",
       "        <td style=\"padding-left: 1em; padding-right: 1em; text-align: center; vertical-align: top\">0.016</td>\n",
       "    </tr>\n",
       "    <tr>\n",
       "        <td style=\"padding-left: 1em; padding-right: 1em; text-align: center; vertical-align: top\">c3a777c0d4e9a579889c931e7<br>ce78116 ...</td>\n",
       "        <td style=\"padding-left: 1em; padding-right: 1em; text-align: center; vertical-align: top\">ql0</td>\n",
       "        <td style=\"padding-left: 1em; padding-right: 1em; text-align: center; vertical-align: top\">0.004</td>\n",
       "    </tr>\n",
       "    <tr>\n",
       "        <td style=\"padding-left: 1em; padding-right: 1em; text-align: center; vertical-align: top\">c31ef2faf3a00962aa0ff18d2<br>a5be459 ...</td>\n",
       "        <td style=\"padding-left: 1em; padding-right: 1em; text-align: center; vertical-align: top\">ql3</td>\n",
       "        <td style=\"padding-left: 1em; padding-right: 1em; text-align: center; vertical-align: top\">0.008</td>\n",
       "    </tr>\n",
       "    <tr>\n",
       "        <td style=\"padding-left: 1em; padding-right: 1em; text-align: center; vertical-align: top\">255a6b2b6991fc073e6a99be2<br>dea74b7 ...</td>\n",
       "        <td style=\"padding-left: 1em; padding-right: 1em; text-align: center; vertical-align: top\">ql3</td>\n",
       "        <td style=\"padding-left: 1em; padding-right: 1em; text-align: center; vertical-align: top\">0.016</td>\n",
       "    </tr>\n",
       "    <tr>\n",
       "        <td style=\"padding-left: 1em; padding-right: 1em; text-align: center; vertical-align: top\">c8c387ff1bb82869c36d24433<br>f4e82b2 ...</td>\n",
       "        <td style=\"padding-left: 1em; padding-right: 1em; text-align: center; vertical-align: top\">ql4</td>\n",
       "        <td style=\"padding-left: 1em; padding-right: 1em; text-align: center; vertical-align: top\">0.018</td>\n",
       "    </tr>\n",
       "</table>\n",
       "[236619 rows x 3 columns]<br/>Note: Only the head of the SFrame is printed.<br/>You can use print_rows(num_rows=m, num_columns=n) to print more rows and columns.\n",
       "</div>"
      ],
      "text/plain": [
       "Columns:\n",
       "\tqid\tstr\n",
       "\tq_label\tstr\n",
       "\tq_sp\tfloat\n",
       "\n",
       "Rows: 236619\n",
       "\n",
       "Data:\n",
       "+-------------------------------+---------+-------+\n",
       "|              qid              | q_label |  q_sp |\n",
       "+-------------------------------+---------+-------+\n",
       "| 012c6349c9afec5973d4910235... |   ql19  | 0.006 |\n",
       "| 751a959c8d38865ee96ee534a9... |   ql15  | 0.014 |\n",
       "| 8dc8067df63d4901fe15cb8533... |   ql3   |  0.01 |\n",
       "| 783677b9b233d5b8d0dd9feb48... |   ql8   | 0.158 |\n",
       "| 1de6a64d1b21349b67c7938ca5... |   ql8   | 0.014 |\n",
       "| 0f929b143d6c670874ae558f21... |   ql8   | 0.016 |\n",
       "| c3a777c0d4e9a579889c931e7c... |   ql0   | 0.004 |\n",
       "| c31ef2faf3a00962aa0ff18d2a... |   ql3   | 0.008 |\n",
       "| 255a6b2b6991fc073e6a99be2d... |   ql3   | 0.016 |\n",
       "| c8c387ff1bb82869c36d24433f... |   ql4   | 0.018 |\n",
       "+-------------------------------+---------+-------+\n",
       "[236619 rows x 3 columns]\n",
       "Note: Only the head of the SFrame is printed.\n",
       "You can use print_rows(num_rows=m, num_columns=n) to print more rows and columns."
      ]
     },
     "execution_count": 5,
     "metadata": {},
     "output_type": "execute_result"
    }
   ],
   "source": [
    "first_item_data=train_1117[['qid','q_label','q_sp']] \n",
    "first_item_data"
   ]
  },
  {
   "cell_type": "code",
   "execution_count": 6,
   "metadata": {
    "collapsed": false
   },
   "outputs": [
    {
     "data": {
      "text/html": [
       "<div style=\"max-height:1000px;max-width:1500px;overflow:auto;\"><table frame=\"box\" rules=\"cols\">\n",
       "    <tr>\n",
       "        <th style=\"padding-left: 1em; padding-right: 1em; text-align: center\">uid</th>\n",
       "        <th style=\"padding-left: 1em; padding-right: 1em; text-align: center\">qid</th>\n",
       "        <th style=\"padding-left: 1em; padding-right: 1em; text-align: center\">label_huidalv</th>\n",
       "    </tr>\n",
       "    <tr>\n",
       "        <td style=\"padding-left: 1em; padding-right: 1em; text-align: center; vertical-align: top\">d70980ddb697c82dde0ca045a<br>74d2196 ...</td>\n",
       "        <td style=\"padding-left: 1em; padding-right: 1em; text-align: center; vertical-align: top\">42397911dd1971d18188d81e8<br>ed83239 ...</td>\n",
       "        <td style=\"padding-left: 1em; padding-right: 1em; text-align: center; vertical-align: top\">0.0</td>\n",
       "    </tr>\n",
       "    <tr>\n",
       "        <td style=\"padding-left: 1em; padding-right: 1em; text-align: center; vertical-align: top\">8f86d63f981fa1124425f7dd9<br>fc31964 ...</td>\n",
       "        <td style=\"padding-left: 1em; padding-right: 1em; text-align: center; vertical-align: top\">53c32d0d606dcbcf00a9ff4db<br>23c2286 ...</td>\n",
       "        <td style=\"padding-left: 1em; padding-right: 1em; text-align: center; vertical-align: top\">0.0</td>\n",
       "    </tr>\n",
       "    <tr>\n",
       "        <td style=\"padding-left: 1em; padding-right: 1em; text-align: center; vertical-align: top\">25c275344e94527121b68341a<br>9b2a426 ...</td>\n",
       "        <td style=\"padding-left: 1em; padding-right: 1em; text-align: center; vertical-align: top\">70a388511a6dd3ad4b9f7b007<br>138f8b0 ...</td>\n",
       "        <td style=\"padding-left: 1em; padding-right: 1em; text-align: center; vertical-align: top\">0.0</td>\n",
       "    </tr>\n",
       "    <tr>\n",
       "        <td style=\"padding-left: 1em; padding-right: 1em; text-align: center; vertical-align: top\">676174a6480a4b380b157e1a1<br>c5ff11c ...</td>\n",
       "        <td style=\"padding-left: 1em; padding-right: 1em; text-align: center; vertical-align: top\">2488e4ce88d866957e67b1f58<br>6dcab20 ...</td>\n",
       "        <td style=\"padding-left: 1em; padding-right: 1em; text-align: center; vertical-align: top\">0.0</td>\n",
       "    </tr>\n",
       "    <tr>\n",
       "        <td style=\"padding-left: 1em; padding-right: 1em; text-align: center; vertical-align: top\">b1d6afc9eddcbc93c5aee8c45<br>6bdfe27 ...</td>\n",
       "        <td style=\"padding-left: 1em; padding-right: 1em; text-align: center; vertical-align: top\">19a80e0ddde0a880c45b6606b<br>9f2cae9 ...</td>\n",
       "        <td style=\"padding-left: 1em; padding-right: 1em; text-align: center; vertical-align: top\">0.0</td>\n",
       "    </tr>\n",
       "    <tr>\n",
       "        <td style=\"padding-left: 1em; padding-right: 1em; text-align: center; vertical-align: top\">057edf8ffbed776f1f8118d03<br>c427e08 ...</td>\n",
       "        <td style=\"padding-left: 1em; padding-right: 1em; text-align: center; vertical-align: top\">9e3142abcaf30ef91dfae12d3<br>64186a0 ...</td>\n",
       "        <td style=\"padding-left: 1em; padding-right: 1em; text-align: center; vertical-align: top\">0.12195122</td>\n",
       "    </tr>\n",
       "    <tr>\n",
       "        <td style=\"padding-left: 1em; padding-right: 1em; text-align: center; vertical-align: top\">fe3fd2508d5918d9506d0feb6<br>9b34a7f ...</td>\n",
       "        <td style=\"padding-left: 1em; padding-right: 1em; text-align: center; vertical-align: top\">6dd3cb1333adc6ddc9118e66b<br>de0fe7d ...</td>\n",
       "        <td style=\"padding-left: 1em; padding-right: 1em; text-align: center; vertical-align: top\">0.0</td>\n",
       "    </tr>\n",
       "    <tr>\n",
       "        <td style=\"padding-left: 1em; padding-right: 1em; text-align: center; vertical-align: top\">bdcaac9218493d48460eb3321<br>0381ada ...</td>\n",
       "        <td style=\"padding-left: 1em; padding-right: 1em; text-align: center; vertical-align: top\">e078aa89e4e1403b7942adc69<br>85c146e ...</td>\n",
       "        <td style=\"padding-left: 1em; padding-right: 1em; text-align: center; vertical-align: top\">0.0</td>\n",
       "    </tr>\n",
       "    <tr>\n",
       "        <td style=\"padding-left: 1em; padding-right: 1em; text-align: center; vertical-align: top\">6055c3e9b80b9ce4b00c00460<br>3af37bd ...</td>\n",
       "        <td style=\"padding-left: 1em; padding-right: 1em; text-align: center; vertical-align: top\">768022a60b263c6943b2b8aae<br>6cbe53f ...</td>\n",
       "        <td style=\"padding-left: 1em; padding-right: 1em; text-align: center; vertical-align: top\">0.125</td>\n",
       "    </tr>\n",
       "    <tr>\n",
       "        <td style=\"padding-left: 1em; padding-right: 1em; text-align: center; vertical-align: top\">c8955c0328ea8495c0c03ee53<br>4544c6e ...</td>\n",
       "        <td style=\"padding-left: 1em; padding-right: 1em; text-align: center; vertical-align: top\">9a9867d0ecdf6a3df385265db<br>336242e ...</td>\n",
       "        <td style=\"padding-left: 1em; padding-right: 1em; text-align: center; vertical-align: top\">0.0</td>\n",
       "    </tr>\n",
       "</table>\n",
       "[41757 rows x 3 columns]<br/>Note: Only the head of the SFrame is printed.<br/>You can use print_rows(num_rows=m, num_columns=n) to print more rows and columns.\n",
       "</div>"
      ],
      "text/plain": [
       "Columns:\n",
       "\tuid\tstr\n",
       "\tqid\tstr\n",
       "\tlabel_huidalv\tfloat\n",
       "\n",
       "Rows: 41757\n",
       "\n",
       "Data:\n",
       "+-------------------------------+-------------------------------+---------------+\n",
       "|              uid              |              qid              | label_huidalv |\n",
       "+-------------------------------+-------------------------------+---------------+\n",
       "| d70980ddb697c82dde0ca045a7... | 42397911dd1971d18188d81e8e... |      0.0      |\n",
       "| 8f86d63f981fa1124425f7dd9f... | 53c32d0d606dcbcf00a9ff4db2... |      0.0      |\n",
       "| 25c275344e94527121b68341a9... | 70a388511a6dd3ad4b9f7b0071... |      0.0      |\n",
       "| 676174a6480a4b380b157e1a1c... | 2488e4ce88d866957e67b1f586... |      0.0      |\n",
       "| b1d6afc9eddcbc93c5aee8c456... | 19a80e0ddde0a880c45b6606b9... |      0.0      |\n",
       "| 057edf8ffbed776f1f8118d03c... | 9e3142abcaf30ef91dfae12d36... |   0.12195122  |\n",
       "| fe3fd2508d5918d9506d0feb69... | 6dd3cb1333adc6ddc9118e66bd... |      0.0      |\n",
       "| bdcaac9218493d48460eb33210... | e078aa89e4e1403b7942adc698... |      0.0      |\n",
       "| 6055c3e9b80b9ce4b00c004603... | 768022a60b263c6943b2b8aae6... |     0.125     |\n",
       "| c8955c0328ea8495c0c03ee534... | 9a9867d0ecdf6a3df385265db3... |      0.0      |\n",
       "+-------------------------------+-------------------------------+---------------+\n",
       "[41757 rows x 3 columns]\n",
       "Note: Only the head of the SFrame is printed.\n",
       "You can use print_rows(num_rows=m, num_columns=n) to print more rows and columns."
      ]
     },
     "execution_count": 6,
     "metadata": {},
     "output_type": "execute_result"
    }
   ],
   "source": [
    "first_train_gl=train_1117[['uid','qid','label','label_huidalv']]\n",
    "first_validate_gl=val_1117[['uid','qid','label_huidalv']]\n",
    "first_validate_gl"
   ]
  },
  {
   "cell_type": "code",
   "execution_count": 7,
   "metadata": {
    "collapsed": false,
    "scrolled": true
   },
   "outputs": [
    {
     "data": {
      "text/html": [
       "<pre>Recsys training: model = ranking_factorization_recommender</pre>"
      ],
      "text/plain": [
       "Recsys training: model = ranking_factorization_recommender"
      ]
     },
     "metadata": {},
     "output_type": "display_data"
    },
    {
     "data": {
      "text/html": [
       "<pre>Preparing data set.</pre>"
      ],
      "text/plain": [
       "Preparing data set."
      ]
     },
     "metadata": {},
     "output_type": "display_data"
    },
    {
     "data": {
      "text/html": [
       "<pre>    Data has 236619 observations with 26046 users and 7599 items.</pre>"
      ],
      "text/plain": [
       "    Data has 236619 observations with 26046 users and 7599 items."
      ]
     },
     "metadata": {},
     "output_type": "display_data"
    },
    {
     "data": {
      "text/html": [
       "<pre>    Data prepared in: 0.514866s</pre>"
      ],
      "text/plain": [
       "    Data prepared in: 0.514866s"
      ]
     },
     "metadata": {},
     "output_type": "display_data"
    },
    {
     "data": {
      "text/html": [
       "<pre>Training ranking_factorization_recommender for recommendations.</pre>"
      ],
      "text/plain": [
       "Training ranking_factorization_recommender for recommendations."
      ]
     },
     "metadata": {},
     "output_type": "display_data"
    },
    {
     "data": {
      "text/html": [
       "<pre>+--------------------------------+--------------------------------------------------+----------+</pre>"
      ],
      "text/plain": [
       "+--------------------------------+--------------------------------------------------+----------+"
      ]
     },
     "metadata": {},
     "output_type": "display_data"
    },
    {
     "data": {
      "text/html": [
       "<pre>| Parameter                      | Description                                      | Value    |</pre>"
      ],
      "text/plain": [
       "| Parameter                      | Description                                      | Value    |"
      ]
     },
     "metadata": {},
     "output_type": "display_data"
    },
    {
     "data": {
      "text/html": [
       "<pre>+--------------------------------+--------------------------------------------------+----------+</pre>"
      ],
      "text/plain": [
       "+--------------------------------+--------------------------------------------------+----------+"
      ]
     },
     "metadata": {},
     "output_type": "display_data"
    },
    {
     "data": {
      "text/html": [
       "<pre>| num_factors                    | Factor Dimension                                 | 256      |</pre>"
      ],
      "text/plain": [
       "| num_factors                    | Factor Dimension                                 | 256      |"
      ]
     },
     "metadata": {},
     "output_type": "display_data"
    },
    {
     "data": {
      "text/html": [
       "<pre>| regularization                 | L2 Regularization on Factors                     | 0.004    |</pre>"
      ],
      "text/plain": [
       "| regularization                 | L2 Regularization on Factors                     | 0.004    |"
      ]
     },
     "metadata": {},
     "output_type": "display_data"
    },
    {
     "data": {
      "text/html": [
       "<pre>| solver                         | Solver used for training                         | adagrad  |</pre>"
      ],
      "text/plain": [
       "| solver                         | Solver used for training                         | adagrad  |"
      ]
     },
     "metadata": {},
     "output_type": "display_data"
    },
    {
     "data": {
      "text/html": [
       "<pre>| linear_regularization          | L2 Regularization on Linear Coefficients         | 0.004    |</pre>"
      ],
      "text/plain": [
       "| linear_regularization          | L2 Regularization on Linear Coefficients         | 0.004    |"
      ]
     },
     "metadata": {},
     "output_type": "display_data"
    },
    {
     "data": {
      "text/html": [
       "<pre>| ranking_regularization         | Rank-based Regularization Weight                 | 0.004    |</pre>"
      ],
      "text/plain": [
       "| ranking_regularization         | Rank-based Regularization Weight                 | 0.004    |"
      ]
     },
     "metadata": {},
     "output_type": "display_data"
    },
    {
     "data": {
      "text/html": [
       "<pre>| unobserved_rating_value        | Ranking Target Rating for Unobserved Interacti...| 0        |</pre>"
      ],
      "text/plain": [
       "| unobserved_rating_value        | Ranking Target Rating for Unobserved Interacti...| 0        |"
      ]
     },
     "metadata": {},
     "output_type": "display_data"
    },
    {
     "data": {
      "text/html": [
       "<pre>| num_sampled_negative_examples  | # Negative Samples Considered per Observation    | 50       |</pre>"
      ],
      "text/plain": [
       "| num_sampled_negative_examples  | # Negative Samples Considered per Observation    | 50       |"
      ]
     },
     "metadata": {},
     "output_type": "display_data"
    },
    {
     "data": {
      "text/html": [
       "<pre>| binary_target                  | Assume Binary Targets                            | True     |</pre>"
      ],
      "text/plain": [
       "| binary_target                  | Assume Binary Targets                            | True     |"
      ]
     },
     "metadata": {},
     "output_type": "display_data"
    },
    {
     "data": {
      "text/html": [
       "<pre>| side_data_factorization        | Assign Factors for Side Data                     | True     |</pre>"
      ],
      "text/plain": [
       "| side_data_factorization        | Assign Factors for Side Data                     | True     |"
      ]
     },
     "metadata": {},
     "output_type": "display_data"
    },
    {
     "data": {
      "text/html": [
       "<pre>| max_iterations                 | Maximum Number of Iterations                     | 500      |</pre>"
      ],
      "text/plain": [
       "| max_iterations                 | Maximum Number of Iterations                     | 500      |"
      ]
     },
     "metadata": {},
     "output_type": "display_data"
    },
    {
     "data": {
      "text/html": [
       "<pre>+--------------------------------+--------------------------------------------------+----------+</pre>"
      ],
      "text/plain": [
       "+--------------------------------+--------------------------------------------------+----------+"
      ]
     },
     "metadata": {},
     "output_type": "display_data"
    },
    {
     "data": {
      "text/html": [
       "<pre>  Optimizing model using SGD; tuning step size.</pre>"
      ],
      "text/plain": [
       "  Optimizing model using SGD; tuning step size."
      ]
     },
     "metadata": {},
     "output_type": "display_data"
    },
    {
     "data": {
      "text/html": [
       "<pre>  Using 29577 / 236619 points for tuning the step size.</pre>"
      ],
      "text/plain": [
       "  Using 29577 / 236619 points for tuning the step size."
      ]
     },
     "metadata": {},
     "output_type": "display_data"
    },
    {
     "data": {
      "text/html": [
       "<pre>+---------+-------------------+------------------------------------------+</pre>"
      ],
      "text/plain": [
       "+---------+-------------------+------------------------------------------+"
      ]
     },
     "metadata": {},
     "output_type": "display_data"
    },
    {
     "data": {
      "text/html": [
       "<pre>| Attempt | Initial Step Size | Estimated Objective Value                |</pre>"
      ],
      "text/plain": [
       "| Attempt | Initial Step Size | Estimated Objective Value                |"
      ]
     },
     "metadata": {},
     "output_type": "display_data"
    },
    {
     "data": {
      "text/html": [
       "<pre>+---------+-------------------+------------------------------------------+</pre>"
      ],
      "text/plain": [
       "+---------+-------------------+------------------------------------------+"
      ]
     },
     "metadata": {},
     "output_type": "display_data"
    },
    {
     "data": {
      "text/html": [
       "<pre>| 0       | 0.0778374         | Not Viable                               |</pre>"
      ],
      "text/plain": [
       "| 0       | 0.0778374         | Not Viable                               |"
      ]
     },
     "metadata": {},
     "output_type": "display_data"
    },
    {
     "data": {
      "text/html": [
       "<pre>| 1       | 0.0194594         | 0.563513                                 |</pre>"
      ],
      "text/plain": [
       "| 1       | 0.0194594         | 0.563513                                 |"
      ]
     },
     "metadata": {},
     "output_type": "display_data"
    },
    {
     "data": {
      "text/html": [
       "<pre>| 2       | 0.00972968        | 0.818206                                 |</pre>"
      ],
      "text/plain": [
       "| 2       | 0.00972968        | 0.818206                                 |"
      ]
     },
     "metadata": {},
     "output_type": "display_data"
    },
    {
     "data": {
      "text/html": [
       "<pre>| 3       | 0.00486484        | No Decrease (2.15302 >= 1.48078)         |</pre>"
      ],
      "text/plain": [
       "| 3       | 0.00486484        | No Decrease (2.15302 >= 1.48078)         |"
      ]
     },
     "metadata": {},
     "output_type": "display_data"
    },
    {
     "data": {
      "text/html": [
       "<pre>| 4       | 0.00121621        | No Decrease (1.51753 >= 1.48078)         |</pre>"
      ],
      "text/plain": [
       "| 4       | 0.00121621        | No Decrease (1.51753 >= 1.48078)         |"
      ]
     },
     "metadata": {},
     "output_type": "display_data"
    },
    {
     "data": {
      "text/html": [
       "<pre>+---------+-------------------+------------------------------------------+</pre>"
      ],
      "text/plain": [
       "+---------+-------------------+------------------------------------------+"
      ]
     },
     "metadata": {},
     "output_type": "display_data"
    },
    {
     "data": {
      "text/html": [
       "<pre>| Final   | 0.0194594         | 0.563513                                 |</pre>"
      ],
      "text/plain": [
       "| Final   | 0.0194594         | 0.563513                                 |"
      ]
     },
     "metadata": {},
     "output_type": "display_data"
    },
    {
     "data": {
      "text/html": [
       "<pre>+---------+-------------------+------------------------------------------+</pre>"
      ],
      "text/plain": [
       "+---------+-------------------+------------------------------------------+"
      ]
     },
     "metadata": {},
     "output_type": "display_data"
    },
    {
     "data": {
      "text/html": [
       "<pre>Starting Optimization.</pre>"
      ],
      "text/plain": [
       "Starting Optimization."
      ]
     },
     "metadata": {},
     "output_type": "display_data"
    },
    {
     "data": {
      "text/html": [
       "<pre>+---------+--------------+-------------------+-----------------------------------+-------------+</pre>"
      ],
      "text/plain": [
       "+---------+--------------+-------------------+-----------------------------------+-------------+"
      ]
     },
     "metadata": {},
     "output_type": "display_data"
    },
    {
     "data": {
      "text/html": [
       "<pre>| Iter.   | Elapsed Time | Approx. Objective | Approx. Training Predictive Error | Step Size   |</pre>"
      ],
      "text/plain": [
       "| Iter.   | Elapsed Time | Approx. Objective | Approx. Training Predictive Error | Step Size   |"
      ]
     },
     "metadata": {},
     "output_type": "display_data"
    },
    {
     "data": {
      "text/html": [
       "<pre>+---------+--------------+-------------------+-----------------------------------+-------------+</pre>"
      ],
      "text/plain": [
       "+---------+--------------+-------------------+-----------------------------------+-------------+"
      ]
     },
     "metadata": {},
     "output_type": "display_data"
    },
    {
     "data": {
      "text/html": [
       "<pre>| Initial | 0us          | 1.4806            | 0.734968                          |             |</pre>"
      ],
      "text/plain": [
       "| Initial | 0us          | 1.4806            | 0.734968                          |             |"
      ]
     },
     "metadata": {},
     "output_type": "display_data"
    },
    {
     "data": {
      "text/html": [
       "<pre>+---------+--------------+-------------------+-----------------------------------+-------------+</pre>"
      ],
      "text/plain": [
       "+---------+--------------+-------------------+-----------------------------------+-------------+"
      ]
     },
     "metadata": {},
     "output_type": "display_data"
    },
    {
     "data": {
      "text/html": [
       "<pre>| 1       | 15.22s       | DIVERGED          | DIVERGED                          | 0.0194594   |</pre>"
      ],
      "text/plain": [
       "| 1       | 15.22s       | DIVERGED          | DIVERGED                          | 0.0194594   |"
      ]
     },
     "metadata": {},
     "output_type": "display_data"
    },
    {
     "data": {
      "text/html": [
       "<pre>| RESET   | 22.32s       | 1.48019           | 0.734925                          |             |</pre>"
      ],
      "text/plain": [
       "| RESET   | 22.32s       | 1.48019           | 0.734925                          |             |"
      ]
     },
     "metadata": {},
     "output_type": "display_data"
    },
    {
     "data": {
      "text/html": [
       "<pre>| 1       | 37.80s       | DIVERGED          | DIVERGED                          | 0.00972968  |</pre>"
      ],
      "text/plain": [
       "| 1       | 37.80s       | DIVERGED          | DIVERGED                          | 0.00972968  |"
      ]
     },
     "metadata": {},
     "output_type": "display_data"
    },
    {
     "data": {
      "text/html": [
       "<pre>| RESET   | 45.06s       | 1.48019           | 0.734925                          |             |</pre>"
      ],
      "text/plain": [
       "| RESET   | 45.06s       | 1.48019           | 0.734925                          |             |"
      ]
     },
     "metadata": {},
     "output_type": "display_data"
    },
    {
     "data": {
      "text/html": [
       "<pre>| 1       | 1m 0s        | DIVERGED          | DIVERGED                          | 0.00486484  |</pre>"
      ],
      "text/plain": [
       "| 1       | 1m 0s        | DIVERGED          | DIVERGED                          | 0.00486484  |"
      ]
     },
     "metadata": {},
     "output_type": "display_data"
    },
    {
     "data": {
      "text/html": [
       "<pre>| RESET   | 1m 6s        | 1.48019           | 0.734925                          |             |</pre>"
      ],
      "text/plain": [
       "| RESET   | 1m 6s        | 1.48019           | 0.734925                          |             |"
      ]
     },
     "metadata": {},
     "output_type": "display_data"
    },
    {
     "data": {
      "text/html": [
       "<pre>| 1       | 1m 15s       | 2.66062           | 0.506295                          | 0.00243242  |</pre>"
      ],
      "text/plain": [
       "| 1       | 1m 15s       | 2.66062           | 0.506295                          | 0.00243242  |"
      ]
     },
     "metadata": {},
     "output_type": "display_data"
    },
    {
     "data": {
      "text/html": [
       "<pre>| 2       | 1m 23s       | 1.04381           | 0.475103                          | 0.00243242  |</pre>"
      ],
      "text/plain": [
       "| 2       | 1m 23s       | 1.04381           | 0.475103                          | 0.00243242  |"
      ]
     },
     "metadata": {},
     "output_type": "display_data"
    },
    {
     "data": {
      "text/html": [
       "<pre>| 3       | 1m 31s       | 0.869506          | 0.443064                          | 0.00243242  |</pre>"
      ],
      "text/plain": [
       "| 3       | 1m 31s       | 0.869506          | 0.443064                          | 0.00243242  |"
      ]
     },
     "metadata": {},
     "output_type": "display_data"
    },
    {
     "data": {
      "text/html": [
       "<pre>| 4       | 1m 40s       | 0.813778          | 0.420617                          | 0.00243242  |</pre>"
      ],
      "text/plain": [
       "| 4       | 1m 40s       | 0.813778          | 0.420617                          | 0.00243242  |"
      ]
     },
     "metadata": {},
     "output_type": "display_data"
    },
    {
     "data": {
      "text/html": [
       "<pre>| 5       | 1m 49s       | 0.775703          | 0.405232                          | 0.00243242  |</pre>"
      ],
      "text/plain": [
       "| 5       | 1m 49s       | 0.775703          | 0.405232                          | 0.00243242  |"
      ]
     },
     "metadata": {},
     "output_type": "display_data"
    },
    {
     "data": {
      "text/html": [
       "<pre>| 6       | 1m 57s       | 0.746076          | 0.393582                          | 0.00243242  |</pre>"
      ],
      "text/plain": [
       "| 6       | 1m 57s       | 0.746076          | 0.393582                          | 0.00243242  |"
      ]
     },
     "metadata": {},
     "output_type": "display_data"
    },
    {
     "data": {
      "text/html": [
       "<pre>| 7       | 2m 6s        | 0.72185           | 0.38449                           | 0.00243242  |</pre>"
      ],
      "text/plain": [
       "| 7       | 2m 6s        | 0.72185           | 0.38449                           | 0.00243242  |"
      ]
     },
     "metadata": {},
     "output_type": "display_data"
    },
    {
     "data": {
      "text/html": [
       "<pre>| 8       | 2m 14s       | 0.701199          | 0.376917                          | 0.00243242  |</pre>"
      ],
      "text/plain": [
       "| 8       | 2m 14s       | 0.701199          | 0.376917                          | 0.00243242  |"
      ]
     },
     "metadata": {},
     "output_type": "display_data"
    },
    {
     "data": {
      "text/html": [
       "<pre>| 9       | 2m 23s       | 0.683394          | 0.370545                          | 0.00243242  |</pre>"
      ],
      "text/plain": [
       "| 9       | 2m 23s       | 0.683394          | 0.370545                          | 0.00243242  |"
      ]
     },
     "metadata": {},
     "output_type": "display_data"
    },
    {
     "data": {
      "text/html": [
       "<pre>| 10      | 2m 32s       | 0.667376          | 0.364876                          | 0.00243242  |</pre>"
      ],
      "text/plain": [
       "| 10      | 2m 32s       | 0.667376          | 0.364876                          | 0.00243242  |"
      ]
     },
     "metadata": {},
     "output_type": "display_data"
    },
    {
     "data": {
      "text/html": [
       "<pre>| 11      | 2m 40s       | 0.653263          | 0.359903                          | 0.00243242  |</pre>"
      ],
      "text/plain": [
       "| 11      | 2m 40s       | 0.653263          | 0.359903                          | 0.00243242  |"
      ]
     },
     "metadata": {},
     "output_type": "display_data"
    },
    {
     "data": {
      "text/html": [
       "<pre>| 12      | 2m 49s       | 0.640264          | 0.355612                          | 0.00243242  |</pre>"
      ],
      "text/plain": [
       "| 12      | 2m 49s       | 0.640264          | 0.355612                          | 0.00243242  |"
      ]
     },
     "metadata": {},
     "output_type": "display_data"
    },
    {
     "data": {
      "text/html": [
       "<pre>| 13      | 2m 58s       | 0.628621          | 0.35164                           | 0.00243242  |</pre>"
      ],
      "text/plain": [
       "| 13      | 2m 58s       | 0.628621          | 0.35164                           | 0.00243242  |"
      ]
     },
     "metadata": {},
     "output_type": "display_data"
    },
    {
     "data": {
      "text/html": [
       "<pre>| 14      | 3m 6s        | 0.617815          | 0.347809                          | 0.00243242  |</pre>"
      ],
      "text/plain": [
       "| 14      | 3m 6s        | 0.617815          | 0.347809                          | 0.00243242  |"
      ]
     },
     "metadata": {},
     "output_type": "display_data"
    },
    {
     "data": {
      "text/html": [
       "<pre>| 15      | 3m 16s       | 0.607815          | 0.344381                          | 0.00243242  |</pre>"
      ],
      "text/plain": [
       "| 15      | 3m 16s       | 0.607815          | 0.344381                          | 0.00243242  |"
      ]
     },
     "metadata": {},
     "output_type": "display_data"
    },
    {
     "data": {
      "text/html": [
       "<pre>| 16      | 3m 24s       | 0.598533          | 0.34141                           | 0.00243242  |</pre>"
      ],
      "text/plain": [
       "| 16      | 3m 24s       | 0.598533          | 0.34141                           | 0.00243242  |"
      ]
     },
     "metadata": {},
     "output_type": "display_data"
    },
    {
     "data": {
      "text/html": [
       "<pre>| 17      | 3m 33s       | 0.590043          | 0.338535                          | 0.00243242  |</pre>"
      ],
      "text/plain": [
       "| 17      | 3m 33s       | 0.590043          | 0.338535                          | 0.00243242  |"
      ]
     },
     "metadata": {},
     "output_type": "display_data"
    },
    {
     "data": {
      "text/html": [
       "<pre>| 18      | 3m 42s       | 0.582025          | 0.335944                          | 0.00243242  |</pre>"
      ],
      "text/plain": [
       "| 18      | 3m 42s       | 0.582025          | 0.335944                          | 0.00243242  |"
      ]
     },
     "metadata": {},
     "output_type": "display_data"
    },
    {
     "data": {
      "text/html": [
       "<pre>| 19      | 3m 50s       | 0.574502          | 0.333466                          | 0.00243242  |</pre>"
      ],
      "text/plain": [
       "| 19      | 3m 50s       | 0.574502          | 0.333466                          | 0.00243242  |"
      ]
     },
     "metadata": {},
     "output_type": "display_data"
    },
    {
     "data": {
      "text/html": [
       "<pre>| 20      | 3m 59s       | 0.567501          | 0.331185                          | 0.00243242  |</pre>"
      ],
      "text/plain": [
       "| 20      | 3m 59s       | 0.567501          | 0.331185                          | 0.00243242  |"
      ]
     },
     "metadata": {},
     "output_type": "display_data"
    },
    {
     "data": {
      "text/html": [
       "<pre>| 21      | 4m 7s        | 0.56083           | 0.328998                          | 0.00243242  |</pre>"
      ],
      "text/plain": [
       "| 21      | 4m 7s        | 0.56083           | 0.328998                          | 0.00243242  |"
      ]
     },
     "metadata": {},
     "output_type": "display_data"
    },
    {
     "data": {
      "text/html": [
       "<pre>| 22      | 4m 16s       | 0.554647          | 0.326976                          | 0.00243242  |</pre>"
      ],
      "text/plain": [
       "| 22      | 4m 16s       | 0.554647          | 0.326976                          | 0.00243242  |"
      ]
     },
     "metadata": {},
     "output_type": "display_data"
    },
    {
     "data": {
      "text/html": [
       "<pre>| 23      | 4m 25s       | 0.548755          | 0.325197                          | 0.00243242  |</pre>"
      ],
      "text/plain": [
       "| 23      | 4m 25s       | 0.548755          | 0.325197                          | 0.00243242  |"
      ]
     },
     "metadata": {},
     "output_type": "display_data"
    },
    {
     "data": {
      "text/html": [
       "<pre>| 24      | 4m 33s       | 0.543252          | 0.323484                          | 0.00243242  |</pre>"
      ],
      "text/plain": [
       "| 24      | 4m 33s       | 0.543252          | 0.323484                          | 0.00243242  |"
      ]
     },
     "metadata": {},
     "output_type": "display_data"
    },
    {
     "data": {
      "text/html": [
       "<pre>| 25      | 4m 42s       | 0.537949          | 0.321844                          | 0.00243242  |</pre>"
      ],
      "text/plain": [
       "| 25      | 4m 42s       | 0.537949          | 0.321844                          | 0.00243242  |"
      ]
     },
     "metadata": {},
     "output_type": "display_data"
    },
    {
     "data": {
      "text/html": [
       "<pre>| 26      | 4m 51s       | 0.532945          | 0.320251                          | 0.00243242  |</pre>"
      ],
      "text/plain": [
       "| 26      | 4m 51s       | 0.532945          | 0.320251                          | 0.00243242  |"
      ]
     },
     "metadata": {},
     "output_type": "display_data"
    },
    {
     "data": {
      "text/html": [
       "<pre>| 27      | 4m 59s       | 0.528167          | 0.318716                          | 0.00243242  |</pre>"
      ],
      "text/plain": [
       "| 27      | 4m 59s       | 0.528167          | 0.318716                          | 0.00243242  |"
      ]
     },
     "metadata": {},
     "output_type": "display_data"
    },
    {
     "data": {
      "text/html": [
       "<pre>| 28      | 5m 8s        | 0.52366           | 0.31729                           | 0.00243242  |</pre>"
      ],
      "text/plain": [
       "| 28      | 5m 8s        | 0.52366           | 0.31729                           | 0.00243242  |"
      ]
     },
     "metadata": {},
     "output_type": "display_data"
    },
    {
     "data": {
      "text/html": [
       "<pre>| 29      | 5m 16s       | 0.519311          | 0.316053                          | 0.00243242  |</pre>"
      ],
      "text/plain": [
       "| 29      | 5m 16s       | 0.519311          | 0.316053                          | 0.00243242  |"
      ]
     },
     "metadata": {},
     "output_type": "display_data"
    },
    {
     "data": {
      "text/html": [
       "<pre>| 30      | 5m 25s       | 0.515261          | 0.314834                          | 0.00243242  |</pre>"
      ],
      "text/plain": [
       "| 30      | 5m 25s       | 0.515261          | 0.314834                          | 0.00243242  |"
      ]
     },
     "metadata": {},
     "output_type": "display_data"
    },
    {
     "data": {
      "text/html": [
       "<pre>| 31      | 5m 34s       | 0.51126           | 0.313651                          | 0.00243242  |</pre>"
      ],
      "text/plain": [
       "| 31      | 5m 34s       | 0.51126           | 0.313651                          | 0.00243242  |"
      ]
     },
     "metadata": {},
     "output_type": "display_data"
    },
    {
     "data": {
      "text/html": [
       "<pre>| 32      | 5m 43s       | 0.507666          | 0.312451                          | 0.00243242  |</pre>"
      ],
      "text/plain": [
       "| 32      | 5m 43s       | 0.507666          | 0.312451                          | 0.00243242  |"
      ]
     },
     "metadata": {},
     "output_type": "display_data"
    },
    {
     "data": {
      "text/html": [
       "<pre>| 33      | 5m 51s       | 0.503925          | 0.311471                          | 0.00243242  |</pre>"
      ],
      "text/plain": [
       "| 33      | 5m 51s       | 0.503925          | 0.311471                          | 0.00243242  |"
      ]
     },
     "metadata": {},
     "output_type": "display_data"
    },
    {
     "data": {
      "text/html": [
       "<pre>| 34      | 6m 0s        | 0.500685          | 0.310372                          | 0.00243242  |</pre>"
      ],
      "text/plain": [
       "| 34      | 6m 0s        | 0.500685          | 0.310372                          | 0.00243242  |"
      ]
     },
     "metadata": {},
     "output_type": "display_data"
    },
    {
     "data": {
      "text/html": [
       "<pre>| 35      | 6m 8s        | 0.497445          | 0.309514                          | 0.00243242  |</pre>"
      ],
      "text/plain": [
       "| 35      | 6m 8s        | 0.497445          | 0.309514                          | 0.00243242  |"
      ]
     },
     "metadata": {},
     "output_type": "display_data"
    },
    {
     "data": {
      "text/html": [
       "<pre>| 36      | 6m 17s       | 0.494136          | 0.308466                          | 0.00243242  |</pre>"
      ],
      "text/plain": [
       "| 36      | 6m 17s       | 0.494136          | 0.308466                          | 0.00243242  |"
      ]
     },
     "metadata": {},
     "output_type": "display_data"
    },
    {
     "data": {
      "text/html": [
       "<pre>| 37      | 6m 26s       | 0.491139          | 0.307679                          | 0.00243242  |</pre>"
      ],
      "text/plain": [
       "| 37      | 6m 26s       | 0.491139          | 0.307679                          | 0.00243242  |"
      ]
     },
     "metadata": {},
     "output_type": "display_data"
    },
    {
     "data": {
      "text/html": [
       "<pre>| 38      | 6m 34s       | 0.488178          | 0.306801                          | 0.00243242  |</pre>"
      ],
      "text/plain": [
       "| 38      | 6m 34s       | 0.488178          | 0.306801                          | 0.00243242  |"
      ]
     },
     "metadata": {},
     "output_type": "display_data"
    },
    {
     "data": {
      "text/html": [
       "<pre>| 39      | 6m 43s       | 0.485363          | 0.305985                          | 0.00243242  |</pre>"
      ],
      "text/plain": [
       "| 39      | 6m 43s       | 0.485363          | 0.305985                          | 0.00243242  |"
      ]
     },
     "metadata": {},
     "output_type": "display_data"
    },
    {
     "data": {
      "text/html": [
       "<pre>| 40      | 6m 52s       | 0.482781          | 0.305161                          | 0.00243242  |</pre>"
      ],
      "text/plain": [
       "| 40      | 6m 52s       | 0.482781          | 0.305161                          | 0.00243242  |"
      ]
     },
     "metadata": {},
     "output_type": "display_data"
    },
    {
     "data": {
      "text/html": [
       "<pre>| 41      | 7m 0s        | 0.480092          | 0.304329                          | 0.00243242  |</pre>"
      ],
      "text/plain": [
       "| 41      | 7m 0s        | 0.480092          | 0.304329                          | 0.00243242  |"
      ]
     },
     "metadata": {},
     "output_type": "display_data"
    },
    {
     "data": {
      "text/html": [
       "<pre>| 42      | 7m 9s        | 0.477599          | 0.303547                          | 0.00243242  |</pre>"
      ],
      "text/plain": [
       "| 42      | 7m 9s        | 0.477599          | 0.303547                          | 0.00243242  |"
      ]
     },
     "metadata": {},
     "output_type": "display_data"
    },
    {
     "data": {
      "text/html": [
       "<pre>| 43      | 7m 17s       | 0.475111          | 0.302904                          | 0.00243242  |</pre>"
      ],
      "text/plain": [
       "| 43      | 7m 17s       | 0.475111          | 0.302904                          | 0.00243242  |"
      ]
     },
     "metadata": {},
     "output_type": "display_data"
    },
    {
     "data": {
      "text/html": [
       "<pre>| 44      | 7m 26s       | 0.472776          | 0.302251                          | 0.00243242  |</pre>"
      ],
      "text/plain": [
       "| 44      | 7m 26s       | 0.472776          | 0.302251                          | 0.00243242  |"
      ]
     },
     "metadata": {},
     "output_type": "display_data"
    },
    {
     "data": {
      "text/html": [
       "<pre>| 45      | 7m 35s       | 0.470562          | 0.301552                          | 0.00243242  |</pre>"
      ],
      "text/plain": [
       "| 45      | 7m 35s       | 0.470562          | 0.301552                          | 0.00243242  |"
      ]
     },
     "metadata": {},
     "output_type": "display_data"
    },
    {
     "data": {
      "text/html": [
       "<pre>| 46      | 7m 43s       | 0.468582          | 0.300842                          | 0.00243242  |</pre>"
      ],
      "text/plain": [
       "| 46      | 7m 43s       | 0.468582          | 0.300842                          | 0.00243242  |"
      ]
     },
     "metadata": {},
     "output_type": "display_data"
    },
    {
     "data": {
      "text/html": [
       "<pre>| 47      | 7m 52s       | 0.467104          | 0.299439                          | 0.00243242  |</pre>"
      ],
      "text/plain": [
       "| 47      | 7m 52s       | 0.467104          | 0.299439                          | 0.00243242  |"
      ]
     },
     "metadata": {},
     "output_type": "display_data"
    },
    {
     "data": {
      "text/html": [
       "<pre>| 48      | 8m 0s        | 0.465035          | 0.298613                          | 0.00243242  |</pre>"
      ],
      "text/plain": [
       "| 48      | 8m 0s        | 0.465035          | 0.298613                          | 0.00243242  |"
      ]
     },
     "metadata": {},
     "output_type": "display_data"
    },
    {
     "data": {
      "text/html": [
       "<pre>| 49      | 8m 9s        | 0.463252          | 0.298462                          | 0.00243242  |</pre>"
      ],
      "text/plain": [
       "| 49      | 8m 9s        | 0.463252          | 0.298462                          | 0.00243242  |"
      ]
     },
     "metadata": {},
     "output_type": "display_data"
    },
    {
     "data": {
      "text/html": [
       "<pre>| 50      | 8m 17s       | 0.463985          | 0.295688                          | 0.00243242  |</pre>"
      ],
      "text/plain": [
       "| 50      | 8m 17s       | 0.463985          | 0.295688                          | 0.00243242  |"
      ]
     },
     "metadata": {},
     "output_type": "display_data"
    },
    {
     "data": {
      "text/html": [
       "<pre>| 51      | 8m 26s       | 0.46059           | 0.295772                          | 0.00243242  |</pre>"
      ],
      "text/plain": [
       "| 51      | 8m 26s       | 0.46059           | 0.295772                          | 0.00243242  |"
      ]
     },
     "metadata": {},
     "output_type": "display_data"
    },
    {
     "data": {
      "text/html": [
       "<pre>| 52      | 8m 35s       | 0.457635          | 0.296896                          | 0.00243242  |</pre>"
      ],
      "text/plain": [
       "| 52      | 8m 35s       | 0.457635          | 0.296896                          | 0.00243242  |"
      ]
     },
     "metadata": {},
     "output_type": "display_data"
    },
    {
     "data": {
      "text/html": [
       "<pre>| 53      | 8m 43s       | 0.455838          | 0.297315                          | 0.00243242  |</pre>"
      ],
      "text/plain": [
       "| 53      | 8m 43s       | 0.455838          | 0.297315                          | 0.00243242  |"
      ]
     },
     "metadata": {},
     "output_type": "display_data"
    },
    {
     "data": {
      "text/html": [
       "<pre>| 54      | 8m 52s       | 0.454161          | 0.297285                          | 0.00243242  |</pre>"
      ],
      "text/plain": [
       "| 54      | 8m 52s       | 0.454161          | 0.297285                          | 0.00243242  |"
      ]
     },
     "metadata": {},
     "output_type": "display_data"
    },
    {
     "data": {
      "text/html": [
       "<pre>| 55      | 9m 0s        | 0.452522          | 0.296822                          | 0.00243242  |</pre>"
      ],
      "text/plain": [
       "| 55      | 9m 0s        | 0.452522          | 0.296822                          | 0.00243242  |"
      ]
     },
     "metadata": {},
     "output_type": "display_data"
    },
    {
     "data": {
      "text/html": [
       "<pre>| 56      | 9m 9s        | 0.450907          | 0.296341                          | 0.00243242  |</pre>"
      ],
      "text/plain": [
       "| 56      | 9m 9s        | 0.450907          | 0.296341                          | 0.00243242  |"
      ]
     },
     "metadata": {},
     "output_type": "display_data"
    },
    {
     "data": {
      "text/html": [
       "<pre>| 57      | 9m 17s       | 0.449371          | 0.29567                           | 0.00243242  |</pre>"
      ],
      "text/plain": [
       "| 57      | 9m 17s       | 0.449371          | 0.29567                           | 0.00243242  |"
      ]
     },
     "metadata": {},
     "output_type": "display_data"
    },
    {
     "data": {
      "text/html": [
       "<pre>| 58      | 9m 26s       | 0.447797          | 0.295052                          | 0.00243242  |</pre>"
      ],
      "text/plain": [
       "| 58      | 9m 26s       | 0.447797          | 0.295052                          | 0.00243242  |"
      ]
     },
     "metadata": {},
     "output_type": "display_data"
    },
    {
     "data": {
      "text/html": [
       "<pre>| 59      | 9m 35s       | 0.4464            | 0.294606                          | 0.00243242  |</pre>"
      ],
      "text/plain": [
       "| 59      | 9m 35s       | 0.4464            | 0.294606                          | 0.00243242  |"
      ]
     },
     "metadata": {},
     "output_type": "display_data"
    },
    {
     "data": {
      "text/html": [
       "<pre>| 60      | 9m 43s       | 0.444923          | 0.294153                          | 0.00243242  |</pre>"
      ],
      "text/plain": [
       "| 60      | 9m 43s       | 0.444923          | 0.294153                          | 0.00243242  |"
      ]
     },
     "metadata": {},
     "output_type": "display_data"
    },
    {
     "data": {
      "text/html": [
       "<pre>| 61      | 9m 52s       | 0.44343           | 0.293709                          | 0.00243242  |</pre>"
      ],
      "text/plain": [
       "| 61      | 9m 52s       | 0.44343           | 0.293709                          | 0.00243242  |"
      ]
     },
     "metadata": {},
     "output_type": "display_data"
    },
    {
     "data": {
      "text/html": [
       "<pre>| 62      | 10m 0s       | 0.442162          | 0.293369                          | 0.00243242  |</pre>"
      ],
      "text/plain": [
       "| 62      | 10m 0s       | 0.442162          | 0.293369                          | 0.00243242  |"
      ]
     },
     "metadata": {},
     "output_type": "display_data"
    },
    {
     "data": {
      "text/html": [
       "<pre>| 63      | 10m 9s       | 0.440721          | 0.2928                            | 0.00243242  |</pre>"
      ],
      "text/plain": [
       "| 63      | 10m 9s       | 0.440721          | 0.2928                            | 0.00243242  |"
      ]
     },
     "metadata": {},
     "output_type": "display_data"
    },
    {
     "data": {
      "text/html": [
       "<pre>| 64      | 10m 18s      | 0.439475          | 0.292331                          | 0.00243242  |</pre>"
      ],
      "text/plain": [
       "| 64      | 10m 18s      | 0.439475          | 0.292331                          | 0.00243242  |"
      ]
     },
     "metadata": {},
     "output_type": "display_data"
    },
    {
     "data": {
      "text/html": [
       "<pre>| 65      | 10m 26s      | 0.438269          | 0.291883                          | 0.00243242  |</pre>"
      ],
      "text/plain": [
       "| 65      | 10m 26s      | 0.438269          | 0.291883                          | 0.00243242  |"
      ]
     },
     "metadata": {},
     "output_type": "display_data"
    },
    {
     "data": {
      "text/html": [
       "<pre>| 66      | 10m 34s      | 0.437252          | 0.291325                          | 0.00243242  |</pre>"
      ],
      "text/plain": [
       "| 66      | 10m 34s      | 0.437252          | 0.291325                          | 0.00243242  |"
      ]
     },
     "metadata": {},
     "output_type": "display_data"
    },
    {
     "data": {
      "text/html": [
       "<pre>| 67      | 10m 43s      | 0.435834          | 0.290951                          | 0.00243242  |</pre>"
      ],
      "text/plain": [
       "| 67      | 10m 43s      | 0.435834          | 0.290951                          | 0.00243242  |"
      ]
     },
     "metadata": {},
     "output_type": "display_data"
    },
    {
     "data": {
      "text/html": [
       "<pre>| 68      | 10m 52s      | 0.434524          | 0.290487                          | 0.00243242  |</pre>"
      ],
      "text/plain": [
       "| 68      | 10m 52s      | 0.434524          | 0.290487                          | 0.00243242  |"
      ]
     },
     "metadata": {},
     "output_type": "display_data"
    },
    {
     "data": {
      "text/html": [
       "<pre>| 69      | 11m 0s       | 0.433508          | 0.290168                          | 0.00243242  |</pre>"
      ],
      "text/plain": [
       "| 69      | 11m 0s       | 0.433508          | 0.290168                          | 0.00243242  |"
      ]
     },
     "metadata": {},
     "output_type": "display_data"
    },
    {
     "data": {
      "text/html": [
       "<pre>| 70      | 11m 9s       | 0.43215           | 0.289938                          | 0.00243242  |</pre>"
      ],
      "text/plain": [
       "| 70      | 11m 9s       | 0.43215           | 0.289938                          | 0.00243242  |"
      ]
     },
     "metadata": {},
     "output_type": "display_data"
    },
    {
     "data": {
      "text/html": [
       "<pre>| 71      | 11m 17s      | 0.431066          | 0.289515                          | 0.00243242  |</pre>"
      ],
      "text/plain": [
       "| 71      | 11m 17s      | 0.431066          | 0.289515                          | 0.00243242  |"
      ]
     },
     "metadata": {},
     "output_type": "display_data"
    },
    {
     "data": {
      "text/html": [
       "<pre>| 72      | 11m 25s      | 0.429945          | 0.289258                          | 0.00243242  |</pre>"
      ],
      "text/plain": [
       "| 72      | 11m 25s      | 0.429945          | 0.289258                          | 0.00243242  |"
      ]
     },
     "metadata": {},
     "output_type": "display_data"
    },
    {
     "data": {
      "text/html": [
       "<pre>| 73      | 11m 34s      | 0.428949          | 0.288806                          | 0.00243242  |</pre>"
      ],
      "text/plain": [
       "| 73      | 11m 34s      | 0.428949          | 0.288806                          | 0.00243242  |"
      ]
     },
     "metadata": {},
     "output_type": "display_data"
    },
    {
     "data": {
      "text/html": [
       "<pre>| 74      | 11m 42s      | 0.427864          | 0.288489                          | 0.00243242  |</pre>"
      ],
      "text/plain": [
       "| 74      | 11m 42s      | 0.427864          | 0.288489                          | 0.00243242  |"
      ]
     },
     "metadata": {},
     "output_type": "display_data"
    },
    {
     "data": {
      "text/html": [
       "<pre>| 75      | 11m 51s      | 0.42678           | 0.288435                          | 0.00243242  |</pre>"
      ],
      "text/plain": [
       "| 75      | 11m 51s      | 0.42678           | 0.288435                          | 0.00243242  |"
      ]
     },
     "metadata": {},
     "output_type": "display_data"
    },
    {
     "data": {
      "text/html": [
       "<pre>| 76      | 12m 0s       | 0.425813          | 0.288117                          | 0.00243242  |</pre>"
      ],
      "text/plain": [
       "| 76      | 12m 0s       | 0.425813          | 0.288117                          | 0.00243242  |"
      ]
     },
     "metadata": {},
     "output_type": "display_data"
    },
    {
     "data": {
      "text/html": [
       "<pre>| 77      | 12m 8s       | 0.424842          | 0.287739                          | 0.00243242  |</pre>"
      ],
      "text/plain": [
       "| 77      | 12m 8s       | 0.424842          | 0.287739                          | 0.00243242  |"
      ]
     },
     "metadata": {},
     "output_type": "display_data"
    },
    {
     "data": {
      "text/html": [
       "<pre>| 78      | 12m 17s      | 0.423923          | 0.287506                          | 0.00243242  |</pre>"
      ],
      "text/plain": [
       "| 78      | 12m 17s      | 0.423923          | 0.287506                          | 0.00243242  |"
      ]
     },
     "metadata": {},
     "output_type": "display_data"
    },
    {
     "data": {
      "text/html": [
       "<pre>| 79      | 12m 25s      | 0.423104          | 0.287234                          | 0.00243242  |</pre>"
      ],
      "text/plain": [
       "| 79      | 12m 25s      | 0.423104          | 0.287234                          | 0.00243242  |"
      ]
     },
     "metadata": {},
     "output_type": "display_data"
    },
    {
     "data": {
      "text/html": [
       "<pre>| 80      | 12m 34s      | 0.422219          | 0.286953                          | 0.00243242  |</pre>"
      ],
      "text/plain": [
       "| 80      | 12m 34s      | 0.422219          | 0.286953                          | 0.00243242  |"
      ]
     },
     "metadata": {},
     "output_type": "display_data"
    },
    {
     "data": {
      "text/html": [
       "<pre>| 81      | 12m 42s      | 0.421393          | 0.286997                          | 0.00243242  |</pre>"
      ],
      "text/plain": [
       "| 81      | 12m 42s      | 0.421393          | 0.286997                          | 0.00243242  |"
      ]
     },
     "metadata": {},
     "output_type": "display_data"
    },
    {
     "data": {
      "text/html": [
       "<pre>| 82      | 12m 51s      | 0.420635          | 0.286856                          | 0.00243242  |</pre>"
      ],
      "text/plain": [
       "| 82      | 12m 51s      | 0.420635          | 0.286856                          | 0.00243242  |"
      ]
     },
     "metadata": {},
     "output_type": "display_data"
    },
    {
     "data": {
      "text/html": [
       "<pre>| 83      | 12m 59s      | 0.419805          | 0.286704                          | 0.00243242  |</pre>"
      ],
      "text/plain": [
       "| 83      | 12m 59s      | 0.419805          | 0.286704                          | 0.00243242  |"
      ]
     },
     "metadata": {},
     "output_type": "display_data"
    },
    {
     "data": {
      "text/html": [
       "<pre>| 84      | 13m 9s       | 0.419083          | 0.286528                          | 0.00243242  |</pre>"
      ],
      "text/plain": [
       "| 84      | 13m 9s       | 0.419083          | 0.286528                          | 0.00243242  |"
      ]
     },
     "metadata": {},
     "output_type": "display_data"
    },
    {
     "data": {
      "text/html": [
       "<pre>| 85      | 13m 18s      | 0.418333          | 0.286285                          | 0.00243242  |</pre>"
      ],
      "text/plain": [
       "| 85      | 13m 18s      | 0.418333          | 0.286285                          | 0.00243242  |"
      ]
     },
     "metadata": {},
     "output_type": "display_data"
    },
    {
     "data": {
      "text/html": [
       "<pre>| 86      | 13m 27s      | 0.417801          | 0.286054                          | 0.00243242  |</pre>"
      ],
      "text/plain": [
       "| 86      | 13m 27s      | 0.417801          | 0.286054                          | 0.00243242  |"
      ]
     },
     "metadata": {},
     "output_type": "display_data"
    },
    {
     "data": {
      "text/html": [
       "<pre>| 87      | 13m 36s      | 0.417033          | 0.286158                          | 0.00243242  |</pre>"
      ],
      "text/plain": [
       "| 87      | 13m 36s      | 0.417033          | 0.286158                          | 0.00243242  |"
      ]
     },
     "metadata": {},
     "output_type": "display_data"
    },
    {
     "data": {
      "text/html": [
       "<pre>| 88      | 13m 44s      | 0.416068          | 0.285856                          | 0.00243242  |</pre>"
      ],
      "text/plain": [
       "| 88      | 13m 44s      | 0.416068          | 0.285856                          | 0.00243242  |"
      ]
     },
     "metadata": {},
     "output_type": "display_data"
    },
    {
     "data": {
      "text/html": [
       "<pre>| 89      | 13m 53s      | 0.41576           | 0.286115                          | 0.00243242  |</pre>"
      ],
      "text/plain": [
       "| 89      | 13m 53s      | 0.41576           | 0.286115                          | 0.00243242  |"
      ]
     },
     "metadata": {},
     "output_type": "display_data"
    },
    {
     "data": {
      "text/html": [
       "<pre>| 90      | 14m 1s       | 0.415267          | 0.285915                          | 0.00243242  |</pre>"
      ],
      "text/plain": [
       "| 90      | 14m 1s       | 0.415267          | 0.285915                          | 0.00243242  |"
      ]
     },
     "metadata": {},
     "output_type": "display_data"
    },
    {
     "data": {
      "text/html": [
       "<pre>| 91      | 14m 10s      | 0.41447           | 0.285857                          | 0.00243242  |</pre>"
      ],
      "text/plain": [
       "| 91      | 14m 10s      | 0.41447           | 0.285857                          | 0.00243242  |"
      ]
     },
     "metadata": {},
     "output_type": "display_data"
    },
    {
     "data": {
      "text/html": [
       "<pre>| 92      | 14m 19s      | 0.413747          | 0.28561                           | 0.00243242  |</pre>"
      ],
      "text/plain": [
       "| 92      | 14m 19s      | 0.413747          | 0.28561                           | 0.00243242  |"
      ]
     },
     "metadata": {},
     "output_type": "display_data"
    },
    {
     "data": {
      "text/html": [
       "<pre>| 93      | 14m 27s      | 0.413371          | 0.28587                           | 0.00243242  |</pre>"
      ],
      "text/plain": [
       "| 93      | 14m 27s      | 0.413371          | 0.28587                           | 0.00243242  |"
      ]
     },
     "metadata": {},
     "output_type": "display_data"
    },
    {
     "data": {
      "text/html": [
       "<pre>| 94      | 14m 36s      | 0.41261           | 0.285884                          | 0.00243242  |</pre>"
      ],
      "text/plain": [
       "| 94      | 14m 36s      | 0.41261           | 0.285884                          | 0.00243242  |"
      ]
     },
     "metadata": {},
     "output_type": "display_data"
    },
    {
     "data": {
      "text/html": [
       "<pre>| 95      | 14m 44s      | 0.41201           | 0.285834                          | 0.00243242  |</pre>"
      ],
      "text/plain": [
       "| 95      | 14m 44s      | 0.41201           | 0.285834                          | 0.00243242  |"
      ]
     },
     "metadata": {},
     "output_type": "display_data"
    },
    {
     "data": {
      "text/html": [
       "<pre>| 96      | 14m 53s      | 0.411613          | 0.285898                          | 0.00243242  |</pre>"
      ],
      "text/plain": [
       "| 96      | 14m 53s      | 0.411613          | 0.285898                          | 0.00243242  |"
      ]
     },
     "metadata": {},
     "output_type": "display_data"
    },
    {
     "data": {
      "text/html": [
       "<pre>| 97      | 15m 1s       | 0.410967          | 0.285838                          | 0.00243242  |</pre>"
      ],
      "text/plain": [
       "| 97      | 15m 1s       | 0.410967          | 0.285838                          | 0.00243242  |"
      ]
     },
     "metadata": {},
     "output_type": "display_data"
    },
    {
     "data": {
      "text/html": [
       "<pre>| 98      | 15m 10s      | 0.410323          | 0.285692                          | 0.00243242  |</pre>"
      ],
      "text/plain": [
       "| 98      | 15m 10s      | 0.410323          | 0.285692                          | 0.00243242  |"
      ]
     },
     "metadata": {},
     "output_type": "display_data"
    },
    {
     "data": {
      "text/html": [
       "<pre>| 99      | 15m 18s      | 0.409839          | 0.285684                          | 0.00243242  |</pre>"
      ],
      "text/plain": [
       "| 99      | 15m 18s      | 0.409839          | 0.285684                          | 0.00243242  |"
      ]
     },
     "metadata": {},
     "output_type": "display_data"
    },
    {
     "data": {
      "text/html": [
       "<pre>| 100     | 15m 27s      | 0.409231          | 0.285457                          | 0.00243242  |</pre>"
      ],
      "text/plain": [
       "| 100     | 15m 27s      | 0.409231          | 0.285457                          | 0.00243242  |"
      ]
     },
     "metadata": {},
     "output_type": "display_data"
    },
    {
     "data": {
      "text/html": [
       "<pre>| 101     | 15m 35s      | 0.408671          | 0.285427                          | 0.00243242  |</pre>"
      ],
      "text/plain": [
       "| 101     | 15m 35s      | 0.408671          | 0.285427                          | 0.00243242  |"
      ]
     },
     "metadata": {},
     "output_type": "display_data"
    },
    {
     "data": {
      "text/html": [
       "<pre>| 102     | 15m 44s      | 0.408384          | 0.285248                          | 0.00243242  |</pre>"
      ],
      "text/plain": [
       "| 102     | 15m 44s      | 0.408384          | 0.285248                          | 0.00243242  |"
      ]
     },
     "metadata": {},
     "output_type": "display_data"
    },
    {
     "data": {
      "text/html": [
       "<pre>| 103     | 15m 53s      | 0.40764           | 0.285288                          | 0.00243242  |</pre>"
      ],
      "text/plain": [
       "| 103     | 15m 53s      | 0.40764           | 0.285288                          | 0.00243242  |"
      ]
     },
     "metadata": {},
     "output_type": "display_data"
    },
    {
     "data": {
      "text/html": [
       "<pre>| 104     | 16m 1s       | 0.407072          | 0.285258                          | 0.00243242  |</pre>"
      ],
      "text/plain": [
       "| 104     | 16m 1s       | 0.407072          | 0.285258                          | 0.00243242  |"
      ]
     },
     "metadata": {},
     "output_type": "display_data"
    },
    {
     "data": {
      "text/html": [
       "<pre>| 105     | 16m 10s      | 0.406519          | 0.284926                          | 0.00243242  |</pre>"
      ],
      "text/plain": [
       "| 105     | 16m 10s      | 0.406519          | 0.284926                          | 0.00243242  |"
      ]
     },
     "metadata": {},
     "output_type": "display_data"
    },
    {
     "data": {
      "text/html": [
       "<pre>| 106     | 16m 18s      | 0.406111          | 0.284887                          | 0.00243242  |</pre>"
      ],
      "text/plain": [
       "| 106     | 16m 18s      | 0.406111          | 0.284887                          | 0.00243242  |"
      ]
     },
     "metadata": {},
     "output_type": "display_data"
    },
    {
     "data": {
      "text/html": [
       "<pre>| 107     | 16m 27s      | 0.405467          | 0.284803                          | 0.00243242  |</pre>"
      ],
      "text/plain": [
       "| 107     | 16m 27s      | 0.405467          | 0.284803                          | 0.00243242  |"
      ]
     },
     "metadata": {},
     "output_type": "display_data"
    },
    {
     "data": {
      "text/html": [
       "<pre>| 108     | 16m 35s      | 0.405299          | 0.284439                          | 0.00243242  |</pre>"
      ],
      "text/plain": [
       "| 108     | 16m 35s      | 0.405299          | 0.284439                          | 0.00243242  |"
      ]
     },
     "metadata": {},
     "output_type": "display_data"
    },
    {
     "data": {
      "text/html": [
       "<pre>| 109     | 16m 44s      | 0.404678          | 0.284194                          | 0.00243242  |</pre>"
      ],
      "text/plain": [
       "| 109     | 16m 44s      | 0.404678          | 0.284194                          | 0.00243242  |"
      ]
     },
     "metadata": {},
     "output_type": "display_data"
    },
    {
     "data": {
      "text/html": [
       "<pre>| 110     | 16m 52s      | 0.403801          | 0.284063                          | 0.00243242  |</pre>"
      ],
      "text/plain": [
       "| 110     | 16m 52s      | 0.403801          | 0.284063                          | 0.00243242  |"
      ]
     },
     "metadata": {},
     "output_type": "display_data"
    },
    {
     "data": {
      "text/html": [
       "<pre>| 111     | 17m 1s       | 0.403502          | 0.283783                          | 0.00243242  |</pre>"
      ],
      "text/plain": [
       "| 111     | 17m 1s       | 0.403502          | 0.283783                          | 0.00243242  |"
      ]
     },
     "metadata": {},
     "output_type": "display_data"
    },
    {
     "data": {
      "text/html": [
       "<pre>| 112     | 17m 9s       | 0.402831          | 0.284096                          | 0.00243242  |</pre>"
      ],
      "text/plain": [
       "| 112     | 17m 9s       | 0.402831          | 0.284096                          | 0.00243242  |"
      ]
     },
     "metadata": {},
     "output_type": "display_data"
    },
    {
     "data": {
      "text/html": [
       "<pre>| 113     | 17m 18s      | 0.402235          | 0.283927                          | 0.00243242  |</pre>"
      ],
      "text/plain": [
       "| 113     | 17m 18s      | 0.402235          | 0.283927                          | 0.00243242  |"
      ]
     },
     "metadata": {},
     "output_type": "display_data"
    },
    {
     "data": {
      "text/html": [
       "<pre>| 114     | 17m 26s      | 0.401701          | 0.283783                          | 0.00243242  |</pre>"
      ],
      "text/plain": [
       "| 114     | 17m 26s      | 0.401701          | 0.283783                          | 0.00243242  |"
      ]
     },
     "metadata": {},
     "output_type": "display_data"
    },
    {
     "data": {
      "text/html": [
       "<pre>| 115     | 17m 35s      | 0.401105          | 0.283535                          | 0.00243242  |</pre>"
      ],
      "text/plain": [
       "| 115     | 17m 35s      | 0.401105          | 0.283535                          | 0.00243242  |"
      ]
     },
     "metadata": {},
     "output_type": "display_data"
    },
    {
     "data": {
      "text/html": [
       "<pre>| 116     | 17m 43s      | 0.400659          | 0.283505                          | 0.00243242  |</pre>"
      ],
      "text/plain": [
       "| 116     | 17m 43s      | 0.400659          | 0.283505                          | 0.00243242  |"
      ]
     },
     "metadata": {},
     "output_type": "display_data"
    },
    {
     "data": {
      "text/html": [
       "<pre>| 117     | 17m 52s      | 0.400222          | 0.283299                          | 0.00243242  |</pre>"
      ],
      "text/plain": [
       "| 117     | 17m 52s      | 0.400222          | 0.283299                          | 0.00243242  |"
      ]
     },
     "metadata": {},
     "output_type": "display_data"
    },
    {
     "data": {
      "text/html": [
       "<pre>| 118     | 18m 0s       | 0.399955          | 0.283064                          | 0.00243242  |</pre>"
      ],
      "text/plain": [
       "| 118     | 18m 0s       | 0.399955          | 0.283064                          | 0.00243242  |"
      ]
     },
     "metadata": {},
     "output_type": "display_data"
    },
    {
     "data": {
      "text/html": [
       "<pre>| 119     | 18m 9s       | 0.399224          | 0.282966                          | 0.00243242  |</pre>"
      ],
      "text/plain": [
       "| 119     | 18m 9s       | 0.399224          | 0.282966                          | 0.00243242  |"
      ]
     },
     "metadata": {},
     "output_type": "display_data"
    },
    {
     "data": {
      "text/html": [
       "<pre>| 120     | 18m 18s      | 0.399171          | 0.282615                          | 0.00243242  |</pre>"
      ],
      "text/plain": [
       "| 120     | 18m 18s      | 0.399171          | 0.282615                          | 0.00243242  |"
      ]
     },
     "metadata": {},
     "output_type": "display_data"
    },
    {
     "data": {
      "text/html": [
       "<pre>| 121     | 18m 26s      | 0.398373          | 0.282515                          | 0.00243242  |</pre>"
      ],
      "text/plain": [
       "| 121     | 18m 26s      | 0.398373          | 0.282515                          | 0.00243242  |"
      ]
     },
     "metadata": {},
     "output_type": "display_data"
    },
    {
     "data": {
      "text/html": [
       "<pre>| 122     | 18m 35s      | 0.397883          | 0.282279                          | 0.00243242  |</pre>"
      ],
      "text/plain": [
       "| 122     | 18m 35s      | 0.397883          | 0.282279                          | 0.00243242  |"
      ]
     },
     "metadata": {},
     "output_type": "display_data"
    },
    {
     "data": {
      "text/html": [
       "<pre>| 123     | 18m 44s      | 0.397449          | 0.2824                            | 0.00243242  |</pre>"
      ],
      "text/plain": [
       "| 123     | 18m 44s      | 0.397449          | 0.2824                            | 0.00243242  |"
      ]
     },
     "metadata": {},
     "output_type": "display_data"
    },
    {
     "data": {
      "text/html": [
       "<pre>| 124     | 18m 53s      | 0.396952          | 0.282084                          | 0.00243242  |</pre>"
      ],
      "text/plain": [
       "| 124     | 18m 53s      | 0.396952          | 0.282084                          | 0.00243242  |"
      ]
     },
     "metadata": {},
     "output_type": "display_data"
    },
    {
     "data": {
      "text/html": [
       "<pre>| 125     | 19m 2s       | 0.396536          | 0.281972                          | 0.00243242  |</pre>"
      ],
      "text/plain": [
       "| 125     | 19m 2s       | 0.396536          | 0.281972                          | 0.00243242  |"
      ]
     },
     "metadata": {},
     "output_type": "display_data"
    },
    {
     "data": {
      "text/html": [
       "<pre>| 126     | 19m 10s      | 0.396118          | 0.281885                          | 0.00243242  |</pre>"
      ],
      "text/plain": [
       "| 126     | 19m 10s      | 0.396118          | 0.281885                          | 0.00243242  |"
      ]
     },
     "metadata": {},
     "output_type": "display_data"
    },
    {
     "data": {
      "text/html": [
       "<pre>| 127     | 19m 19s      | 0.395711          | 0.281778                          | 0.00243242  |</pre>"
      ],
      "text/plain": [
       "| 127     | 19m 19s      | 0.395711          | 0.281778                          | 0.00243242  |"
      ]
     },
     "metadata": {},
     "output_type": "display_data"
    },
    {
     "data": {
      "text/html": [
       "<pre>| 128     | 19m 27s      | 0.395272          | 0.281646                          | 0.00243242  |</pre>"
      ],
      "text/plain": [
       "| 128     | 19m 27s      | 0.395272          | 0.281646                          | 0.00243242  |"
      ]
     },
     "metadata": {},
     "output_type": "display_data"
    },
    {
     "data": {
      "text/html": [
       "<pre>| 129     | 19m 36s      | 0.395006          | 0.281463                          | 0.00243242  |</pre>"
      ],
      "text/plain": [
       "| 129     | 19m 36s      | 0.395006          | 0.281463                          | 0.00243242  |"
      ]
     },
     "metadata": {},
     "output_type": "display_data"
    },
    {
     "data": {
      "text/html": [
       "<pre>| 130     | 19m 45s      | 0.394252          | 0.281217                          | 0.00243242  |</pre>"
      ],
      "text/plain": [
       "| 130     | 19m 45s      | 0.394252          | 0.281217                          | 0.00243242  |"
      ]
     },
     "metadata": {},
     "output_type": "display_data"
    },
    {
     "data": {
      "text/html": [
       "<pre>| 131     | 19m 53s      | 0.394334          | 0.281145                          | 0.00243242  |</pre>"
      ],
      "text/plain": [
       "| 131     | 19m 53s      | 0.394334          | 0.281145                          | 0.00243242  |"
      ]
     },
     "metadata": {},
     "output_type": "display_data"
    },
    {
     "data": {
      "text/html": [
       "<pre>| 132     | 20m 2s       | 0.393509          | 0.280937                          | 0.00243242  |</pre>"
      ],
      "text/plain": [
       "| 132     | 20m 2s       | 0.393509          | 0.280937                          | 0.00243242  |"
      ]
     },
     "metadata": {},
     "output_type": "display_data"
    },
    {
     "data": {
      "text/html": [
       "<pre>| 133     | 20m 11s      | 0.393341          | 0.280825                          | 0.00243242  |</pre>"
      ],
      "text/plain": [
       "| 133     | 20m 11s      | 0.393341          | 0.280825                          | 0.00243242  |"
      ]
     },
     "metadata": {},
     "output_type": "display_data"
    },
    {
     "data": {
      "text/html": [
       "<pre>| 134     | 20m 19s      | 0.392717          | 0.280636                          | 0.00243242  |</pre>"
      ],
      "text/plain": [
       "| 134     | 20m 19s      | 0.392717          | 0.280636                          | 0.00243242  |"
      ]
     },
     "metadata": {},
     "output_type": "display_data"
    },
    {
     "data": {
      "text/html": [
       "<pre>| 135     | 20m 28s      | 0.392341          | 0.280532                          | 0.00243242  |</pre>"
      ],
      "text/plain": [
       "| 135     | 20m 28s      | 0.392341          | 0.280532                          | 0.00243242  |"
      ]
     },
     "metadata": {},
     "output_type": "display_data"
    },
    {
     "data": {
      "text/html": [
       "<pre>| 136     | 20m 37s      | 0.391915          | 0.280546                          | 0.00243242  |</pre>"
      ],
      "text/plain": [
       "| 136     | 20m 37s      | 0.391915          | 0.280546                          | 0.00243242  |"
      ]
     },
     "metadata": {},
     "output_type": "display_data"
    },
    {
     "data": {
      "text/html": [
       "<pre>| 137     | 20m 45s      | 0.391561          | 0.280479                          | 0.00243242  |</pre>"
      ],
      "text/plain": [
       "| 137     | 20m 45s      | 0.391561          | 0.280479                          | 0.00243242  |"
      ]
     },
     "metadata": {},
     "output_type": "display_data"
    },
    {
     "data": {
      "text/html": [
       "<pre>| 138     | 20m 54s      | 0.391149          | 0.280494                          | 0.00243242  |</pre>"
      ],
      "text/plain": [
       "| 138     | 20m 54s      | 0.391149          | 0.280494                          | 0.00243242  |"
      ]
     },
     "metadata": {},
     "output_type": "display_data"
    },
    {
     "data": {
      "text/html": [
       "<pre>| 139     | 21m 2s       | 0.390903          | 0.280255                          | 0.00243242  |</pre>"
      ],
      "text/plain": [
       "| 139     | 21m 2s       | 0.390903          | 0.280255                          | 0.00243242  |"
      ]
     },
     "metadata": {},
     "output_type": "display_data"
    },
    {
     "data": {
      "text/html": [
       "<pre>| 140     | 21m 11s      | 0.390443          | 0.280146                          | 0.00243242  |</pre>"
      ],
      "text/plain": [
       "| 140     | 21m 11s      | 0.390443          | 0.280146                          | 0.00243242  |"
      ]
     },
     "metadata": {},
     "output_type": "display_data"
    },
    {
     "data": {
      "text/html": [
       "<pre>| 141     | 21m 20s      | 0.390124          | 0.279746                          | 0.00243242  |</pre>"
      ],
      "text/plain": [
       "| 141     | 21m 20s      | 0.390124          | 0.279746                          | 0.00243242  |"
      ]
     },
     "metadata": {},
     "output_type": "display_data"
    },
    {
     "data": {
      "text/html": [
       "<pre>| 142     | 21m 28s      | 0.389544          | 0.279564                          | 0.00243242  |</pre>"
      ],
      "text/plain": [
       "| 142     | 21m 28s      | 0.389544          | 0.279564                          | 0.00243242  |"
      ]
     },
     "metadata": {},
     "output_type": "display_data"
    },
    {
     "data": {
      "text/html": [
       "<pre>| 143     | 21m 37s      | 0.389458          | 0.27958                           | 0.00243242  |</pre>"
      ],
      "text/plain": [
       "| 143     | 21m 37s      | 0.389458          | 0.27958                           | 0.00243242  |"
      ]
     },
     "metadata": {},
     "output_type": "display_data"
    },
    {
     "data": {
      "text/html": [
       "<pre>| 144     | 21m 45s      | 0.388994          | 0.279502                          | 0.00243242  |</pre>"
      ],
      "text/plain": [
       "| 144     | 21m 45s      | 0.388994          | 0.279502                          | 0.00243242  |"
      ]
     },
     "metadata": {},
     "output_type": "display_data"
    },
    {
     "data": {
      "text/html": [
       "<pre>| 145     | 21m 54s      | 0.388648          | 0.279461                          | 0.00243242  |</pre>"
      ],
      "text/plain": [
       "| 145     | 21m 54s      | 0.388648          | 0.279461                          | 0.00243242  |"
      ]
     },
     "metadata": {},
     "output_type": "display_data"
    },
    {
     "data": {
      "text/html": [
       "<pre>| 146     | 22m 3s       | 0.388228          | 0.279292                          | 0.00243242  |</pre>"
      ],
      "text/plain": [
       "| 146     | 22m 3s       | 0.388228          | 0.279292                          | 0.00243242  |"
      ]
     },
     "metadata": {},
     "output_type": "display_data"
    },
    {
     "data": {
      "text/html": [
       "<pre>| 147     | 22m 12s      | 0.387843          | 0.279114                          | 0.00243242  |</pre>"
      ],
      "text/plain": [
       "| 147     | 22m 12s      | 0.387843          | 0.279114                          | 0.00243242  |"
      ]
     },
     "metadata": {},
     "output_type": "display_data"
    },
    {
     "data": {
      "text/html": [
       "<pre>| 148     | 22m 21s      | 0.387465          | 0.279143                          | 0.00243242  |</pre>"
      ],
      "text/plain": [
       "| 148     | 22m 21s      | 0.387465          | 0.279143                          | 0.00243242  |"
      ]
     },
     "metadata": {},
     "output_type": "display_data"
    },
    {
     "data": {
      "text/html": [
       "<pre>| 149     | 22m 30s      | 0.38718           | 0.279163                          | 0.00243242  |</pre>"
      ],
      "text/plain": [
       "| 149     | 22m 30s      | 0.38718           | 0.279163                          | 0.00243242  |"
      ]
     },
     "metadata": {},
     "output_type": "display_data"
    },
    {
     "data": {
      "text/html": [
       "<pre>| 150     | 22m 39s      | 0.386872          | 0.279009                          | 0.00243242  |</pre>"
      ],
      "text/plain": [
       "| 150     | 22m 39s      | 0.386872          | 0.279009                          | 0.00243242  |"
      ]
     },
     "metadata": {},
     "output_type": "display_data"
    },
    {
     "data": {
      "text/html": [
       "<pre>| 151     | 22m 47s      | 0.386637          | 0.27882                           | 0.00243242  |</pre>"
      ],
      "text/plain": [
       "| 151     | 22m 47s      | 0.386637          | 0.27882                           | 0.00243242  |"
      ]
     },
     "metadata": {},
     "output_type": "display_data"
    },
    {
     "data": {
      "text/html": [
       "<pre>| 152     | 22m 56s      | 0.386181          | 0.278489                          | 0.00243242  |</pre>"
      ],
      "text/plain": [
       "| 152     | 22m 56s      | 0.386181          | 0.278489                          | 0.00243242  |"
      ]
     },
     "metadata": {},
     "output_type": "display_data"
    },
    {
     "data": {
      "text/html": [
       "<pre>| 153     | 23m 4s       | 0.38601           | 0.278341                          | 0.00243242  |</pre>"
      ],
      "text/plain": [
       "| 153     | 23m 4s       | 0.38601           | 0.278341                          | 0.00243242  |"
      ]
     },
     "metadata": {},
     "output_type": "display_data"
    },
    {
     "data": {
      "text/html": [
       "<pre>| 154     | 23m 13s      | 0.385653          | 0.278452                          | 0.00243242  |</pre>"
      ],
      "text/plain": [
       "| 154     | 23m 13s      | 0.385653          | 0.278452                          | 0.00243242  |"
      ]
     },
     "metadata": {},
     "output_type": "display_data"
    },
    {
     "data": {
      "text/html": [
       "<pre>| 155     | 23m 21s      | 0.385356          | 0.278094                          | 0.00243242  |</pre>"
      ],
      "text/plain": [
       "| 155     | 23m 21s      | 0.385356          | 0.278094                          | 0.00243242  |"
      ]
     },
     "metadata": {},
     "output_type": "display_data"
    },
    {
     "data": {
      "text/html": [
       "<pre>| 156     | 23m 30s      | 0.384971          | 0.278085                          | 0.00243242  |</pre>"
      ],
      "text/plain": [
       "| 156     | 23m 30s      | 0.384971          | 0.278085                          | 0.00243242  |"
      ]
     },
     "metadata": {},
     "output_type": "display_data"
    },
    {
     "data": {
      "text/html": [
       "<pre>| 157     | 23m 38s      | 0.384788          | 0.277917                          | 0.00243242  |</pre>"
      ],
      "text/plain": [
       "| 157     | 23m 38s      | 0.384788          | 0.277917                          | 0.00243242  |"
      ]
     },
     "metadata": {},
     "output_type": "display_data"
    },
    {
     "data": {
      "text/html": [
       "<pre>| 158     | 23m 47s      | 0.38438           | 0.277811                          | 0.00243242  |</pre>"
      ],
      "text/plain": [
       "| 158     | 23m 47s      | 0.38438           | 0.277811                          | 0.00243242  |"
      ]
     },
     "metadata": {},
     "output_type": "display_data"
    },
    {
     "data": {
      "text/html": [
       "<pre>| 159     | 23m 55s      | 0.38398           | 0.277913                          | 0.00243242  |</pre>"
      ],
      "text/plain": [
       "| 159     | 23m 55s      | 0.38398           | 0.277913                          | 0.00243242  |"
      ]
     },
     "metadata": {},
     "output_type": "display_data"
    },
    {
     "data": {
      "text/html": [
       "<pre>| 160     | 24m 3s       | 0.383761          | 0.277998                          | 0.00243242  |</pre>"
      ],
      "text/plain": [
       "| 160     | 24m 3s       | 0.383761          | 0.277998                          | 0.00243242  |"
      ]
     },
     "metadata": {},
     "output_type": "display_data"
    },
    {
     "data": {
      "text/html": [
       "<pre>| 161     | 24m 12s      | 0.383449          | 0.277826                          | 0.00243242  |</pre>"
      ],
      "text/plain": [
       "| 161     | 24m 12s      | 0.383449          | 0.277826                          | 0.00243242  |"
      ]
     },
     "metadata": {},
     "output_type": "display_data"
    },
    {
     "data": {
      "text/html": [
       "<pre>| 162     | 24m 21s      | 0.383063          | 0.277593                          | 0.00243242  |</pre>"
      ],
      "text/plain": [
       "| 162     | 24m 21s      | 0.383063          | 0.277593                          | 0.00243242  |"
      ]
     },
     "metadata": {},
     "output_type": "display_data"
    },
    {
     "data": {
      "text/html": [
       "<pre>| 163     | 24m 29s      | 0.382874          | 0.277503                          | 0.00243242  |</pre>"
      ],
      "text/plain": [
       "| 163     | 24m 29s      | 0.382874          | 0.277503                          | 0.00243242  |"
      ]
     },
     "metadata": {},
     "output_type": "display_data"
    },
    {
     "data": {
      "text/html": [
       "<pre>| 164     | 24m 38s      | 0.382548          | 0.277343                          | 0.00243242  |</pre>"
      ],
      "text/plain": [
       "| 164     | 24m 38s      | 0.382548          | 0.277343                          | 0.00243242  |"
      ]
     },
     "metadata": {},
     "output_type": "display_data"
    },
    {
     "data": {
      "text/html": [
       "<pre>| 165     | 24m 46s      | 0.382185          | 0.277061                          | 0.00243242  |</pre>"
      ],
      "text/plain": [
       "| 165     | 24m 46s      | 0.382185          | 0.277061                          | 0.00243242  |"
      ]
     },
     "metadata": {},
     "output_type": "display_data"
    },
    {
     "data": {
      "text/html": [
       "<pre>| 166     | 24m 55s      | 0.382094          | 0.277113                          | 0.00243242  |</pre>"
      ],
      "text/plain": [
       "| 166     | 24m 55s      | 0.382094          | 0.277113                          | 0.00243242  |"
      ]
     },
     "metadata": {},
     "output_type": "display_data"
    },
    {
     "data": {
      "text/html": [
       "<pre>| 167     | 25m 3s       | 0.381907          | 0.277027                          | 0.00243242  |</pre>"
      ],
      "text/plain": [
       "| 167     | 25m 3s       | 0.381907          | 0.277027                          | 0.00243242  |"
      ]
     },
     "metadata": {},
     "output_type": "display_data"
    },
    {
     "data": {
      "text/html": [
       "<pre>| 168     | 25m 12s      | 0.381371          | 0.276766                          | 0.00243242  |</pre>"
      ],
      "text/plain": [
       "| 168     | 25m 12s      | 0.381371          | 0.276766                          | 0.00243242  |"
      ]
     },
     "metadata": {},
     "output_type": "display_data"
    },
    {
     "data": {
      "text/html": [
       "<pre>| 169     | 25m 20s      | 0.381196          | 0.276629                          | 0.00243242  |</pre>"
      ],
      "text/plain": [
       "| 169     | 25m 20s      | 0.381196          | 0.276629                          | 0.00243242  |"
      ]
     },
     "metadata": {},
     "output_type": "display_data"
    },
    {
     "data": {
      "text/html": [
       "<pre>| 170     | 25m 29s      | 0.380803          | 0.276728                          | 0.00243242  |</pre>"
      ],
      "text/plain": [
       "| 170     | 25m 29s      | 0.380803          | 0.276728                          | 0.00243242  |"
      ]
     },
     "metadata": {},
     "output_type": "display_data"
    },
    {
     "data": {
      "text/html": [
       "<pre>| 171     | 25m 37s      | 0.380481          | 0.276617                          | 0.00243242  |</pre>"
      ],
      "text/plain": [
       "| 171     | 25m 37s      | 0.380481          | 0.276617                          | 0.00243242  |"
      ]
     },
     "metadata": {},
     "output_type": "display_data"
    },
    {
     "data": {
      "text/html": [
       "<pre>| 172     | 25m 46s      | 0.380308          | 0.27651                           | 0.00243242  |</pre>"
      ],
      "text/plain": [
       "| 172     | 25m 46s      | 0.380308          | 0.27651                           | 0.00243242  |"
      ]
     },
     "metadata": {},
     "output_type": "display_data"
    },
    {
     "data": {
      "text/html": [
       "<pre>| 173     | 25m 55s      | 0.380044          | 0.2765                            | 0.00243242  |</pre>"
      ],
      "text/plain": [
       "| 173     | 25m 55s      | 0.380044          | 0.2765                            | 0.00243242  |"
      ]
     },
     "metadata": {},
     "output_type": "display_data"
    },
    {
     "data": {
      "text/html": [
       "<pre>| 174     | 26m 3s       | 0.379759          | 0.276465                          | 0.00243242  |</pre>"
      ],
      "text/plain": [
       "| 174     | 26m 3s       | 0.379759          | 0.276465                          | 0.00243242  |"
      ]
     },
     "metadata": {},
     "output_type": "display_data"
    },
    {
     "data": {
      "text/html": [
       "<pre>| 175     | 26m 12s      | 0.379572          | 0.276269                          | 0.00243242  |</pre>"
      ],
      "text/plain": [
       "| 175     | 26m 12s      | 0.379572          | 0.276269                          | 0.00243242  |"
      ]
     },
     "metadata": {},
     "output_type": "display_data"
    },
    {
     "data": {
      "text/html": [
       "<pre>| 176     | 26m 20s      | 0.379291          | 0.276311                          | 0.00243242  |</pre>"
      ],
      "text/plain": [
       "| 176     | 26m 20s      | 0.379291          | 0.276311                          | 0.00243242  |"
      ]
     },
     "metadata": {},
     "output_type": "display_data"
    },
    {
     "data": {
      "text/html": [
       "<pre>| 177     | 26m 29s      | 0.37896           | 0.276309                          | 0.00243242  |</pre>"
      ],
      "text/plain": [
       "| 177     | 26m 29s      | 0.37896           | 0.276309                          | 0.00243242  |"
      ]
     },
     "metadata": {},
     "output_type": "display_data"
    },
    {
     "data": {
      "text/html": [
       "<pre>| 178     | 26m 37s      | 0.378884          | 0.276099                          | 0.00243242  |</pre>"
      ],
      "text/plain": [
       "| 178     | 26m 37s      | 0.378884          | 0.276099                          | 0.00243242  |"
      ]
     },
     "metadata": {},
     "output_type": "display_data"
    },
    {
     "data": {
      "text/html": [
       "<pre>| 179     | 26m 46s      | 0.378592          | 0.276024                          | 0.00243242  |</pre>"
      ],
      "text/plain": [
       "| 179     | 26m 46s      | 0.378592          | 0.276024                          | 0.00243242  |"
      ]
     },
     "metadata": {},
     "output_type": "display_data"
    },
    {
     "data": {
      "text/html": [
       "<pre>| 180     | 26m 54s      | 0.378543          | 0.275742                          | 0.00243242  |</pre>"
      ],
      "text/plain": [
       "| 180     | 26m 54s      | 0.378543          | 0.275742                          | 0.00243242  |"
      ]
     },
     "metadata": {},
     "output_type": "display_data"
    },
    {
     "data": {
      "text/html": [
       "<pre>| 181     | 27m 3s       | 0.378053          | 0.275479                          | 0.00243242  |</pre>"
      ],
      "text/plain": [
       "| 181     | 27m 3s       | 0.378053          | 0.275479                          | 0.00243242  |"
      ]
     },
     "metadata": {},
     "output_type": "display_data"
    },
    {
     "data": {
      "text/html": [
       "<pre>| 182     | 27m 11s      | 0.377596          | 0.275564                          | 0.00243242  |</pre>"
      ],
      "text/plain": [
       "| 182     | 27m 11s      | 0.377596          | 0.275564                          | 0.00243242  |"
      ]
     },
     "metadata": {},
     "output_type": "display_data"
    },
    {
     "data": {
      "text/html": [
       "<pre>| 183     | 27m 20s      | 0.377833          | 0.275261                          | 0.00243242  |</pre>"
      ],
      "text/plain": [
       "| 183     | 27m 20s      | 0.377833          | 0.275261                          | 0.00243242  |"
      ]
     },
     "metadata": {},
     "output_type": "display_data"
    },
    {
     "data": {
      "text/html": [
       "<pre>| 184     | 27m 29s      | 0.377301          | 0.275469                          | 0.00243242  |</pre>"
      ],
      "text/plain": [
       "| 184     | 27m 29s      | 0.377301          | 0.275469                          | 0.00243242  |"
      ]
     },
     "metadata": {},
     "output_type": "display_data"
    },
    {
     "data": {
      "text/html": [
       "<pre>| 185     | 27m 38s      | 0.376944          | 0.275539                          | 0.00243242  |</pre>"
      ],
      "text/plain": [
       "| 185     | 27m 38s      | 0.376944          | 0.275539                          | 0.00243242  |"
      ]
     },
     "metadata": {},
     "output_type": "display_data"
    },
    {
     "data": {
      "text/html": [
       "<pre>| 186     | 27m 46s      | 0.376928          | 0.275427                          | 0.00243242  |</pre>"
      ],
      "text/plain": [
       "| 186     | 27m 46s      | 0.376928          | 0.275427                          | 0.00243242  |"
      ]
     },
     "metadata": {},
     "output_type": "display_data"
    },
    {
     "data": {
      "text/html": [
       "<pre>| 187     | 27m 55s      | 0.376496          | 0.275186                          | 0.00243242  |</pre>"
      ],
      "text/plain": [
       "| 187     | 27m 55s      | 0.376496          | 0.275186                          | 0.00243242  |"
      ]
     },
     "metadata": {},
     "output_type": "display_data"
    },
    {
     "data": {
      "text/html": [
       "<pre>| 188     | 28m 3s       | 0.376251          | 0.275166                          | 0.00243242  |</pre>"
      ],
      "text/plain": [
       "| 188     | 28m 3s       | 0.376251          | 0.275166                          | 0.00243242  |"
      ]
     },
     "metadata": {},
     "output_type": "display_data"
    },
    {
     "data": {
      "text/html": [
       "<pre>| 189     | 28m 12s      | 0.376201          | 0.275111                          | 0.00243242  |</pre>"
      ],
      "text/plain": [
       "| 189     | 28m 12s      | 0.376201          | 0.275111                          | 0.00243242  |"
      ]
     },
     "metadata": {},
     "output_type": "display_data"
    },
    {
     "data": {
      "text/html": [
       "<pre>| 190     | 28m 21s      | 0.375927          | 0.274927                          | 0.00243242  |</pre>"
      ],
      "text/plain": [
       "| 190     | 28m 21s      | 0.375927          | 0.274927                          | 0.00243242  |"
      ]
     },
     "metadata": {},
     "output_type": "display_data"
    },
    {
     "data": {
      "text/html": [
       "<pre>| 191     | 28m 29s      | 0.375654          | 0.274817                          | 0.00243242  |</pre>"
      ],
      "text/plain": [
       "| 191     | 28m 29s      | 0.375654          | 0.274817                          | 0.00243242  |"
      ]
     },
     "metadata": {},
     "output_type": "display_data"
    },
    {
     "data": {
      "text/html": [
       "<pre>| 192     | 28m 37s      | 0.375457          | 0.27455                           | 0.00243242  |</pre>"
      ],
      "text/plain": [
       "| 192     | 28m 37s      | 0.375457          | 0.27455                           | 0.00243242  |"
      ]
     },
     "metadata": {},
     "output_type": "display_data"
    },
    {
     "data": {
      "text/html": [
       "<pre>| 193     | 28m 46s      | 0.375145          | 0.274561                          | 0.00243242  |</pre>"
      ],
      "text/plain": [
       "| 193     | 28m 46s      | 0.375145          | 0.274561                          | 0.00243242  |"
      ]
     },
     "metadata": {},
     "output_type": "display_data"
    },
    {
     "data": {
      "text/html": [
       "<pre>| 194     | 28m 55s      | 0.37498           | 0.274659                          | 0.00243242  |</pre>"
      ],
      "text/plain": [
       "| 194     | 28m 55s      | 0.37498           | 0.274659                          | 0.00243242  |"
      ]
     },
     "metadata": {},
     "output_type": "display_data"
    },
    {
     "data": {
      "text/html": [
       "<pre>| 195     | 29m 3s       | 0.374775          | 0.274462                          | 0.00243242  |</pre>"
      ],
      "text/plain": [
       "| 195     | 29m 3s       | 0.374775          | 0.274462                          | 0.00243242  |"
      ]
     },
     "metadata": {},
     "output_type": "display_data"
    },
    {
     "data": {
      "text/html": [
       "<pre>| 196     | 29m 12s      | 0.374626          | 0.274464                          | 0.00243242  |</pre>"
      ],
      "text/plain": [
       "| 196     | 29m 12s      | 0.374626          | 0.274464                          | 0.00243242  |"
      ]
     },
     "metadata": {},
     "output_type": "display_data"
    },
    {
     "data": {
      "text/html": [
       "<pre>| 197     | 29m 20s      | 0.374205          | 0.274396                          | 0.00243242  |</pre>"
      ],
      "text/plain": [
       "| 197     | 29m 20s      | 0.374205          | 0.274396                          | 0.00243242  |"
      ]
     },
     "metadata": {},
     "output_type": "display_data"
    },
    {
     "data": {
      "text/html": [
       "<pre>| 198     | 29m 28s      | 0.374209          | 0.274347                          | 0.00243242  |</pre>"
      ],
      "text/plain": [
       "| 198     | 29m 28s      | 0.374209          | 0.274347                          | 0.00243242  |"
      ]
     },
     "metadata": {},
     "output_type": "display_data"
    },
    {
     "data": {
      "text/html": [
       "<pre>| 199     | 29m 37s      | 0.373932          | 0.274083                          | 0.00243242  |</pre>"
      ],
      "text/plain": [
       "| 199     | 29m 37s      | 0.373932          | 0.274083                          | 0.00243242  |"
      ]
     },
     "metadata": {},
     "output_type": "display_data"
    },
    {
     "data": {
      "text/html": [
       "<pre>| 200     | 29m 46s      | 0.3736            | 0.274142                          | 0.00243242  |</pre>"
      ],
      "text/plain": [
       "| 200     | 29m 46s      | 0.3736            | 0.274142                          | 0.00243242  |"
      ]
     },
     "metadata": {},
     "output_type": "display_data"
    },
    {
     "data": {
      "text/html": [
       "<pre>| 201     | 29m 54s      | 0.373563          | 0.274053                          | 0.00243242  |</pre>"
      ],
      "text/plain": [
       "| 201     | 29m 54s      | 0.373563          | 0.274053                          | 0.00243242  |"
      ]
     },
     "metadata": {},
     "output_type": "display_data"
    },
    {
     "data": {
      "text/html": [
       "<pre>| 202     | 30m 3s       | 0.373344          | 0.273974                          | 0.00243242  |</pre>"
      ],
      "text/plain": [
       "| 202     | 30m 3s       | 0.373344          | 0.273974                          | 0.00243242  |"
      ]
     },
     "metadata": {},
     "output_type": "display_data"
    },
    {
     "data": {
      "text/html": [
       "<pre>| 203     | 30m 12s      | 0.37324           | 0.273883                          | 0.00243242  |</pre>"
      ],
      "text/plain": [
       "| 203     | 30m 12s      | 0.37324           | 0.273883                          | 0.00243242  |"
      ]
     },
     "metadata": {},
     "output_type": "display_data"
    },
    {
     "data": {
      "text/html": [
       "<pre>| 204     | 30m 20s      | 0.372943          | 0.273871                          | 0.00243242  |</pre>"
      ],
      "text/plain": [
       "| 204     | 30m 20s      | 0.372943          | 0.273871                          | 0.00243242  |"
      ]
     },
     "metadata": {},
     "output_type": "display_data"
    },
    {
     "data": {
      "text/html": [
       "<pre>| 205     | 30m 29s      | 0.37276           | 0.27373                           | 0.00243242  |</pre>"
      ],
      "text/plain": [
       "| 205     | 30m 29s      | 0.37276           | 0.27373                           | 0.00243242  |"
      ]
     },
     "metadata": {},
     "output_type": "display_data"
    },
    {
     "data": {
      "text/html": [
       "<pre>| 206     | 30m 38s      | 0.372377          | 0.273525                          | 0.00243242  |</pre>"
      ],
      "text/plain": [
       "| 206     | 30m 38s      | 0.372377          | 0.273525                          | 0.00243242  |"
      ]
     },
     "metadata": {},
     "output_type": "display_data"
    },
    {
     "data": {
      "text/html": [
       "<pre>| 207     | 30m 47s      | 0.372269          | 0.273599                          | 0.00243242  |</pre>"
      ],
      "text/plain": [
       "| 207     | 30m 47s      | 0.372269          | 0.273599                          | 0.00243242  |"
      ]
     },
     "metadata": {},
     "output_type": "display_data"
    },
    {
     "data": {
      "text/html": [
       "<pre>| 208     | 30m 55s      | 0.372022          | 0.27344                           | 0.00243242  |</pre>"
      ],
      "text/plain": [
       "| 208     | 30m 55s      | 0.372022          | 0.27344                           | 0.00243242  |"
      ]
     },
     "metadata": {},
     "output_type": "display_data"
    },
    {
     "data": {
      "text/html": [
       "<pre>| 209     | 31m 4s       | 0.371958          | 0.273414                          | 0.00243242  |</pre>"
      ],
      "text/plain": [
       "| 209     | 31m 4s       | 0.371958          | 0.273414                          | 0.00243242  |"
      ]
     },
     "metadata": {},
     "output_type": "display_data"
    },
    {
     "data": {
      "text/html": [
       "<pre>| 210     | 31m 13s      | 0.371842          | 0.273329                          | 0.00243242  |</pre>"
      ],
      "text/plain": [
       "| 210     | 31m 13s      | 0.371842          | 0.273329                          | 0.00243242  |"
      ]
     },
     "metadata": {},
     "output_type": "display_data"
    },
    {
     "data": {
      "text/html": [
       "<pre>| 211     | 31m 21s      | 0.371504          | 0.27322                           | 0.00243242  |</pre>"
      ],
      "text/plain": [
       "| 211     | 31m 21s      | 0.371504          | 0.27322                           | 0.00243242  |"
      ]
     },
     "metadata": {},
     "output_type": "display_data"
    },
    {
     "data": {
      "text/html": [
       "<pre>| 212     | 31m 30s      | 0.37118           | 0.273291                          | 0.00243242  |</pre>"
      ],
      "text/plain": [
       "| 212     | 31m 30s      | 0.37118           | 0.273291                          | 0.00243242  |"
      ]
     },
     "metadata": {},
     "output_type": "display_data"
    },
    {
     "data": {
      "text/html": [
       "<pre>| 213     | 31m 39s      | 0.371013          | 0.273249                          | 0.00243242  |</pre>"
      ],
      "text/plain": [
       "| 213     | 31m 39s      | 0.371013          | 0.273249                          | 0.00243242  |"
      ]
     },
     "metadata": {},
     "output_type": "display_data"
    },
    {
     "data": {
      "text/html": [
       "<pre>| 214     | 31m 48s      | 0.371053          | 0.272899                          | 0.00243242  |</pre>"
      ],
      "text/plain": [
       "| 214     | 31m 48s      | 0.371053          | 0.272899                          | 0.00243242  |"
      ]
     },
     "metadata": {},
     "output_type": "display_data"
    },
    {
     "data": {
      "text/html": [
       "<pre>| 215     | 31m 57s      | 0.370673          | 0.273097                          | 0.00243242  |</pre>"
      ],
      "text/plain": [
       "| 215     | 31m 57s      | 0.370673          | 0.273097                          | 0.00243242  |"
      ]
     },
     "metadata": {},
     "output_type": "display_data"
    },
    {
     "data": {
      "text/html": [
       "<pre>| 216     | 32m 6s       | 0.370475          | 0.273083                          | 0.00243242  |</pre>"
      ],
      "text/plain": [
       "| 216     | 32m 6s       | 0.370475          | 0.273083                          | 0.00243242  |"
      ]
     },
     "metadata": {},
     "output_type": "display_data"
    },
    {
     "data": {
      "text/html": [
       "<pre>| 217     | 32m 15s      | 0.370438          | 0.272877                          | 0.00243242  |</pre>"
      ],
      "text/plain": [
       "| 217     | 32m 15s      | 0.370438          | 0.272877                          | 0.00243242  |"
      ]
     },
     "metadata": {},
     "output_type": "display_data"
    },
    {
     "data": {
      "text/html": [
       "<pre>| 218     | 32m 24s      | 0.370312          | 0.272713                          | 0.00243242  |</pre>"
      ],
      "text/plain": [
       "| 218     | 32m 24s      | 0.370312          | 0.272713                          | 0.00243242  |"
      ]
     },
     "metadata": {},
     "output_type": "display_data"
    },
    {
     "data": {
      "text/html": [
       "<pre>| 219     | 32m 32s      | 0.369999          | 0.272679                          | 0.00243242  |</pre>"
      ],
      "text/plain": [
       "| 219     | 32m 32s      | 0.369999          | 0.272679                          | 0.00243242  |"
      ]
     },
     "metadata": {},
     "output_type": "display_data"
    },
    {
     "data": {
      "text/html": [
       "<pre>| 220     | 32m 41s      | 0.369735          | 0.272513                          | 0.00243242  |</pre>"
      ],
      "text/plain": [
       "| 220     | 32m 41s      | 0.369735          | 0.272513                          | 0.00243242  |"
      ]
     },
     "metadata": {},
     "output_type": "display_data"
    },
    {
     "data": {
      "text/html": [
       "<pre>| 221     | 32m 50s      | 0.369578          | 0.272363                          | 0.00243242  |</pre>"
      ],
      "text/plain": [
       "| 221     | 32m 50s      | 0.369578          | 0.272363                          | 0.00243242  |"
      ]
     },
     "metadata": {},
     "output_type": "display_data"
    },
    {
     "data": {
      "text/html": [
       "<pre>| 222     | 32m 59s      | 0.369632          | 0.272468                          | 0.00243242  |</pre>"
      ],
      "text/plain": [
       "| 222     | 32m 59s      | 0.369632          | 0.272468                          | 0.00243242  |"
      ]
     },
     "metadata": {},
     "output_type": "display_data"
    },
    {
     "data": {
      "text/html": [
       "<pre>| 223     | 33m 7s       | 0.369312          | 0.272481                          | 0.00243242  |</pre>"
      ],
      "text/plain": [
       "| 223     | 33m 7s       | 0.369312          | 0.272481                          | 0.00243242  |"
      ]
     },
     "metadata": {},
     "output_type": "display_data"
    },
    {
     "data": {
      "text/html": [
       "<pre>| 224     | 33m 17s      | 0.36918           | 0.272464                          | 0.00243242  |</pre>"
      ],
      "text/plain": [
       "| 224     | 33m 17s      | 0.36918           | 0.272464                          | 0.00243242  |"
      ]
     },
     "metadata": {},
     "output_type": "display_data"
    },
    {
     "data": {
      "text/html": [
       "<pre>| 225     | 33m 26s      | 0.36899           | 0.272371                          | 0.00243242  |</pre>"
      ],
      "text/plain": [
       "| 225     | 33m 26s      | 0.36899           | 0.272371                          | 0.00243242  |"
      ]
     },
     "metadata": {},
     "output_type": "display_data"
    },
    {
     "data": {
      "text/html": [
       "<pre>| 226     | 33m 34s      | 0.368877          | 0.272088                          | 0.00243242  |</pre>"
      ],
      "text/plain": [
       "| 226     | 33m 34s      | 0.368877          | 0.272088                          | 0.00243242  |"
      ]
     },
     "metadata": {},
     "output_type": "display_data"
    },
    {
     "data": {
      "text/html": [
       "<pre>| 227     | 33m 43s      | 0.36878           | 0.272158                          | 0.00243242  |</pre>"
      ],
      "text/plain": [
       "| 227     | 33m 43s      | 0.36878           | 0.272158                          | 0.00243242  |"
      ]
     },
     "metadata": {},
     "output_type": "display_data"
    },
    {
     "data": {
      "text/html": [
       "<pre>| 228     | 33m 52s      | 0.368334          | 0.27219                           | 0.00243242  |</pre>"
      ],
      "text/plain": [
       "| 228     | 33m 52s      | 0.368334          | 0.27219                           | 0.00243242  |"
      ]
     },
     "metadata": {},
     "output_type": "display_data"
    },
    {
     "data": {
      "text/html": [
       "<pre>| 229     | 34m 1s       | 0.368216          | 0.272157                          | 0.00243242  |</pre>"
      ],
      "text/plain": [
       "| 229     | 34m 1s       | 0.368216          | 0.272157                          | 0.00243242  |"
      ]
     },
     "metadata": {},
     "output_type": "display_data"
    },
    {
     "data": {
      "text/html": [
       "<pre>| 230     | 34m 10s      | 0.368115          | 0.272132                          | 0.00243242  |</pre>"
      ],
      "text/plain": [
       "| 230     | 34m 10s      | 0.368115          | 0.272132                          | 0.00243242  |"
      ]
     },
     "metadata": {},
     "output_type": "display_data"
    },
    {
     "data": {
      "text/html": [
       "<pre>| 231     | 34m 19s      | 0.36789           | 0.272129                          | 0.00243242  |</pre>"
      ],
      "text/plain": [
       "| 231     | 34m 19s      | 0.36789           | 0.272129                          | 0.00243242  |"
      ]
     },
     "metadata": {},
     "output_type": "display_data"
    },
    {
     "data": {
      "text/html": [
       "<pre>| 232     | 34m 27s      | 0.367705          | 0.272037                          | 0.00243242  |</pre>"
      ],
      "text/plain": [
       "| 232     | 34m 27s      | 0.367705          | 0.272037                          | 0.00243242  |"
      ]
     },
     "metadata": {},
     "output_type": "display_data"
    },
    {
     "data": {
      "text/html": [
       "<pre>| 233     | 34m 36s      | 0.36792           | 0.2719                            | 0.00243242  |</pre>"
      ],
      "text/plain": [
       "| 233     | 34m 36s      | 0.36792           | 0.2719                            | 0.00243242  |"
      ]
     },
     "metadata": {},
     "output_type": "display_data"
    },
    {
     "data": {
      "text/html": [
       "<pre>| 234     | 34m 45s      | 0.367514          | 0.271765                          | 0.00243242  |</pre>"
      ],
      "text/plain": [
       "| 234     | 34m 45s      | 0.367514          | 0.271765                          | 0.00243242  |"
      ]
     },
     "metadata": {},
     "output_type": "display_data"
    },
    {
     "data": {
      "text/html": [
       "<pre>| 235     | 34m 54s      | 0.367349          | 0.271724                          | 0.00243242  |</pre>"
      ],
      "text/plain": [
       "| 235     | 34m 54s      | 0.367349          | 0.271724                          | 0.00243242  |"
      ]
     },
     "metadata": {},
     "output_type": "display_data"
    },
    {
     "data": {
      "text/html": [
       "<pre>| 236     | 35m 2s       | 0.367202          | 0.271452                          | 0.00243242  |</pre>"
      ],
      "text/plain": [
       "| 236     | 35m 2s       | 0.367202          | 0.271452                          | 0.00243242  |"
      ]
     },
     "metadata": {},
     "output_type": "display_data"
    },
    {
     "data": {
      "text/html": [
       "<pre>| 237     | 35m 11s      | 0.367012          | 0.271549                          | 0.00243242  |</pre>"
      ],
      "text/plain": [
       "| 237     | 35m 11s      | 0.367012          | 0.271549                          | 0.00243242  |"
      ]
     },
     "metadata": {},
     "output_type": "display_data"
    },
    {
     "data": {
      "text/html": [
       "<pre>| 238     | 35m 20s      | 0.366857          | 0.271689                          | 0.00243242  |</pre>"
      ],
      "text/plain": [
       "| 238     | 35m 20s      | 0.366857          | 0.271689                          | 0.00243242  |"
      ]
     },
     "metadata": {},
     "output_type": "display_data"
    },
    {
     "data": {
      "text/html": [
       "<pre>| 239     | 35m 28s      | 0.366797          | 0.271553                          | 0.00243242  |</pre>"
      ],
      "text/plain": [
       "| 239     | 35m 28s      | 0.366797          | 0.271553                          | 0.00243242  |"
      ]
     },
     "metadata": {},
     "output_type": "display_data"
    },
    {
     "data": {
      "text/html": [
       "<pre>| 240     | 35m 37s      | 0.366765          | 0.271453                          | 0.00243242  |</pre>"
      ],
      "text/plain": [
       "| 240     | 35m 37s      | 0.366765          | 0.271453                          | 0.00243242  |"
      ]
     },
     "metadata": {},
     "output_type": "display_data"
    },
    {
     "data": {
      "text/html": [
       "<pre>| 241     | 35m 46s      | 0.366625          | 0.271407                          | 0.00243242  |</pre>"
      ],
      "text/plain": [
       "| 241     | 35m 46s      | 0.366625          | 0.271407                          | 0.00243242  |"
      ]
     },
     "metadata": {},
     "output_type": "display_data"
    },
    {
     "data": {
      "text/html": [
       "<pre>| 242     | 35m 55s      | 0.366415          | 0.271341                          | 0.00243242  |</pre>"
      ],
      "text/plain": [
       "| 242     | 35m 55s      | 0.366415          | 0.271341                          | 0.00243242  |"
      ]
     },
     "metadata": {},
     "output_type": "display_data"
    },
    {
     "data": {
      "text/html": [
       "<pre>| 243     | 36m 4s       | 0.366141          | 0.271374                          | 0.00243242  |</pre>"
      ],
      "text/plain": [
       "| 243     | 36m 4s       | 0.366141          | 0.271374                          | 0.00243242  |"
      ]
     },
     "metadata": {},
     "output_type": "display_data"
    },
    {
     "data": {
      "text/html": [
       "<pre>| 244     | 36m 12s      | 0.36615           | 0.271518                          | 0.00243242  |</pre>"
      ],
      "text/plain": [
       "| 244     | 36m 12s      | 0.36615           | 0.271518                          | 0.00243242  |"
      ]
     },
     "metadata": {},
     "output_type": "display_data"
    },
    {
     "data": {
      "text/html": [
       "<pre>| 245     | 36m 21s      | 0.366109          | 0.271307                          | 0.00243242  |</pre>"
      ],
      "text/plain": [
       "| 245     | 36m 21s      | 0.366109          | 0.271307                          | 0.00243242  |"
      ]
     },
     "metadata": {},
     "output_type": "display_data"
    },
    {
     "data": {
      "text/html": [
       "<pre>| 246     | 36m 30s      | 0.365928          | 0.271274                          | 0.00243242  |</pre>"
      ],
      "text/plain": [
       "| 246     | 36m 30s      | 0.365928          | 0.271274                          | 0.00243242  |"
      ]
     },
     "metadata": {},
     "output_type": "display_data"
    },
    {
     "data": {
      "text/html": [
       "<pre>| 247     | 36m 38s      | 0.365721          | 0.27138                           | 0.00243242  |</pre>"
      ],
      "text/plain": [
       "| 247     | 36m 38s      | 0.365721          | 0.27138                           | 0.00243242  |"
      ]
     },
     "metadata": {},
     "output_type": "display_data"
    },
    {
     "data": {
      "text/html": [
       "<pre>| 248     | 36m 47s      | 0.365723          | 0.271198                          | 0.00243242  |</pre>"
      ],
      "text/plain": [
       "| 248     | 36m 47s      | 0.365723          | 0.271198                          | 0.00243242  |"
      ]
     },
     "metadata": {},
     "output_type": "display_data"
    },
    {
     "data": {
      "text/html": [
       "<pre>| 249     | 36m 56s      | 0.365568          | 0.271346                          | 0.00243242  |</pre>"
      ],
      "text/plain": [
       "| 249     | 36m 56s      | 0.365568          | 0.271346                          | 0.00243242  |"
      ]
     },
     "metadata": {},
     "output_type": "display_data"
    },
    {
     "data": {
      "text/html": [
       "<pre>| 250     | 37m 4s       | 0.365503          | 0.271435                          | 0.00243242  |</pre>"
      ],
      "text/plain": [
       "| 250     | 37m 4s       | 0.365503          | 0.271435                          | 0.00243242  |"
      ]
     },
     "metadata": {},
     "output_type": "display_data"
    },
    {
     "data": {
      "text/html": [
       "<pre>| 251     | 37m 13s      | 0.365339          | 0.271453                          | 0.00243242  |</pre>"
      ],
      "text/plain": [
       "| 251     | 37m 13s      | 0.365339          | 0.271453                          | 0.00243242  |"
      ]
     },
     "metadata": {},
     "output_type": "display_data"
    },
    {
     "data": {
      "text/html": [
       "<pre>| 252     | 37m 22s      | 0.365189          | 0.271442                          | 0.00243242  |</pre>"
      ],
      "text/plain": [
       "| 252     | 37m 22s      | 0.365189          | 0.271442                          | 0.00243242  |"
      ]
     },
     "metadata": {},
     "output_type": "display_data"
    },
    {
     "data": {
      "text/html": [
       "<pre>| 253     | 37m 30s      | 0.365199          | 0.271512                          | 0.00243242  |</pre>"
      ],
      "text/plain": [
       "| 253     | 37m 30s      | 0.365199          | 0.271512                          | 0.00243242  |"
      ]
     },
     "metadata": {},
     "output_type": "display_data"
    },
    {
     "data": {
      "text/html": [
       "<pre>| 254     | 37m 39s      | 0.365002          | 0.271423                          | 0.00243242  |</pre>"
      ],
      "text/plain": [
       "| 254     | 37m 39s      | 0.365002          | 0.271423                          | 0.00243242  |"
      ]
     },
     "metadata": {},
     "output_type": "display_data"
    },
    {
     "data": {
      "text/html": [
       "<pre>| 255     | 37m 48s      | 0.365096          | 0.271541                          | 0.00243242  |</pre>"
      ],
      "text/plain": [
       "| 255     | 37m 48s      | 0.365096          | 0.271541                          | 0.00243242  |"
      ]
     },
     "metadata": {},
     "output_type": "display_data"
    },
    {
     "data": {
      "text/html": [
       "<pre>| 256     | 37m 56s      | 0.36493           | 0.271492                          | 0.00243242  |</pre>"
      ],
      "text/plain": [
       "| 256     | 37m 56s      | 0.36493           | 0.271492                          | 0.00243242  |"
      ]
     },
     "metadata": {},
     "output_type": "display_data"
    },
    {
     "data": {
      "text/html": [
       "<pre>| 257     | 38m 5s       | 0.364851          | 0.271492                          | 0.00243242  |</pre>"
      ],
      "text/plain": [
       "| 257     | 38m 5s       | 0.364851          | 0.271492                          | 0.00243242  |"
      ]
     },
     "metadata": {},
     "output_type": "display_data"
    },
    {
     "data": {
      "text/html": [
       "<pre>| 258     | 38m 14s      | 0.36491           | 0.271487                          | 0.00243242  |</pre>"
      ],
      "text/plain": [
       "| 258     | 38m 14s      | 0.36491           | 0.271487                          | 0.00243242  |"
      ]
     },
     "metadata": {},
     "output_type": "display_data"
    },
    {
     "data": {
      "text/html": [
       "<pre>| 259     | 38m 22s      | 0.364892          | 0.271591                          | 0.00243242  |</pre>"
      ],
      "text/plain": [
       "| 259     | 38m 22s      | 0.364892          | 0.271591                          | 0.00243242  |"
      ]
     },
     "metadata": {},
     "output_type": "display_data"
    },
    {
     "data": {
      "text/html": [
       "<pre>| 260     | 38m 31s      | 0.364705          | 0.271653                          | 0.00243242  |</pre>"
      ],
      "text/plain": [
       "| 260     | 38m 31s      | 0.364705          | 0.271653                          | 0.00243242  |"
      ]
     },
     "metadata": {},
     "output_type": "display_data"
    },
    {
     "data": {
      "text/html": [
       "<pre>| 261     | 38m 39s      | 0.36449           | 0.271774                          | 0.00243242  |</pre>"
      ],
      "text/plain": [
       "| 261     | 38m 39s      | 0.36449           | 0.271774                          | 0.00243242  |"
      ]
     },
     "metadata": {},
     "output_type": "display_data"
    },
    {
     "data": {
      "text/html": [
       "<pre>| 262     | 38m 48s      | 0.364421          | 0.271821                          | 0.00243242  |</pre>"
      ],
      "text/plain": [
       "| 262     | 38m 48s      | 0.364421          | 0.271821                          | 0.00243242  |"
      ]
     },
     "metadata": {},
     "output_type": "display_data"
    },
    {
     "data": {
      "text/html": [
       "<pre>| 263     | 38m 57s      | 0.364365          | 0.271926                          | 0.00243242  |</pre>"
      ],
      "text/plain": [
       "| 263     | 38m 57s      | 0.364365          | 0.271926                          | 0.00243242  |"
      ]
     },
     "metadata": {},
     "output_type": "display_data"
    },
    {
     "data": {
      "text/html": [
       "<pre>| 264     | 39m 6s       | 0.364261          | 0.271917                          | 0.00243242  |</pre>"
      ],
      "text/plain": [
       "| 264     | 39m 6s       | 0.364261          | 0.271917                          | 0.00243242  |"
      ]
     },
     "metadata": {},
     "output_type": "display_data"
    },
    {
     "data": {
      "text/html": [
       "<pre>| 265     | 39m 14s      | 0.364412          | 0.272103                          | 0.00243242  |</pre>"
      ],
      "text/plain": [
       "| 265     | 39m 14s      | 0.364412          | 0.272103                          | 0.00243242  |"
      ]
     },
     "metadata": {},
     "output_type": "display_data"
    },
    {
     "data": {
      "text/html": [
       "<pre>| 266     | 39m 23s      | 0.364083          | 0.272013                          | 0.00243242  |</pre>"
      ],
      "text/plain": [
       "| 266     | 39m 23s      | 0.364083          | 0.272013                          | 0.00243242  |"
      ]
     },
     "metadata": {},
     "output_type": "display_data"
    },
    {
     "data": {
      "text/html": [
       "<pre>| 267     | 39m 32s      | 0.36403           | 0.272048                          | 0.00243242  |</pre>"
      ],
      "text/plain": [
       "| 267     | 39m 32s      | 0.36403           | 0.272048                          | 0.00243242  |"
      ]
     },
     "metadata": {},
     "output_type": "display_data"
    },
    {
     "data": {
      "text/html": [
       "<pre>| 268     | 39m 40s      | 0.364101          | 0.272149                          | 0.00243242  |</pre>"
      ],
      "text/plain": [
       "| 268     | 39m 40s      | 0.364101          | 0.272149                          | 0.00243242  |"
      ]
     },
     "metadata": {},
     "output_type": "display_data"
    },
    {
     "data": {
      "text/html": [
       "<pre>| 269     | 39m 49s      | 0.364004          | 0.272192                          | 0.00243242  |</pre>"
      ],
      "text/plain": [
       "| 269     | 39m 49s      | 0.364004          | 0.272192                          | 0.00243242  |"
      ]
     },
     "metadata": {},
     "output_type": "display_data"
    },
    {
     "data": {
      "text/html": [
       "<pre>| 270     | 39m 58s      | 0.364102          | 0.272061                          | 0.00243242  |</pre>"
      ],
      "text/plain": [
       "| 270     | 39m 58s      | 0.364102          | 0.272061                          | 0.00243242  |"
      ]
     },
     "metadata": {},
     "output_type": "display_data"
    },
    {
     "data": {
      "text/html": [
       "<pre>| 271     | 40m 6s       | 0.363999          | 0.27208                           | 0.00243242  |</pre>"
      ],
      "text/plain": [
       "| 271     | 40m 6s       | 0.363999          | 0.27208                           | 0.00243242  |"
      ]
     },
     "metadata": {},
     "output_type": "display_data"
    },
    {
     "data": {
      "text/html": [
       "<pre>| 272     | 40m 15s      | 0.36388           | 0.27214                           | 0.00243242  |</pre>"
      ],
      "text/plain": [
       "| 272     | 40m 15s      | 0.36388           | 0.27214                           | 0.00243242  |"
      ]
     },
     "metadata": {},
     "output_type": "display_data"
    },
    {
     "data": {
      "text/html": [
       "<pre>| 273     | 40m 23s      | 0.363777          | 0.272315                          | 0.00243242  |</pre>"
      ],
      "text/plain": [
       "| 273     | 40m 23s      | 0.363777          | 0.272315                          | 0.00243242  |"
      ]
     },
     "metadata": {},
     "output_type": "display_data"
    },
    {
     "data": {
      "text/html": [
       "<pre>| 274     | 40m 32s      | 0.363666          | 0.272394                          | 0.00243242  |</pre>"
      ],
      "text/plain": [
       "| 274     | 40m 32s      | 0.363666          | 0.272394                          | 0.00243242  |"
      ]
     },
     "metadata": {},
     "output_type": "display_data"
    },
    {
     "data": {
      "text/html": [
       "<pre>| 275     | 40m 41s      | 0.363454          | 0.272566                          | 0.00243242  |</pre>"
      ],
      "text/plain": [
       "| 275     | 40m 41s      | 0.363454          | 0.272566                          | 0.00243242  |"
      ]
     },
     "metadata": {},
     "output_type": "display_data"
    },
    {
     "data": {
      "text/html": [
       "<pre>| 276     | 40m 49s      | 0.363469          | 0.272633                          | 0.00243242  |</pre>"
      ],
      "text/plain": [
       "| 276     | 40m 49s      | 0.363469          | 0.272633                          | 0.00243242  |"
      ]
     },
     "metadata": {},
     "output_type": "display_data"
    },
    {
     "data": {
      "text/html": [
       "<pre>| 277     | 40m 58s      | 0.363618          | 0.272584                          | 0.00243242  |</pre>"
      ],
      "text/plain": [
       "| 277     | 40m 58s      | 0.363618          | 0.272584                          | 0.00243242  |"
      ]
     },
     "metadata": {},
     "output_type": "display_data"
    },
    {
     "data": {
      "text/html": [
       "<pre>| 278     | 41m 7s       | 0.363607          | 0.272466                          | 0.00243242  |</pre>"
      ],
      "text/plain": [
       "| 278     | 41m 7s       | 0.363607          | 0.272466                          | 0.00243242  |"
      ]
     },
     "metadata": {},
     "output_type": "display_data"
    },
    {
     "data": {
      "text/html": [
       "<pre>| 279     | 41m 16s      | 0.363664          | 0.272644                          | 0.00243242  |</pre>"
      ],
      "text/plain": [
       "| 279     | 41m 16s      | 0.363664          | 0.272644                          | 0.00243242  |"
      ]
     },
     "metadata": {},
     "output_type": "display_data"
    },
    {
     "data": {
      "text/html": [
       "<pre>| 280     | 41m 24s      | 0.363304          | 0.272592                          | 0.00243242  |</pre>"
      ],
      "text/plain": [
       "| 280     | 41m 24s      | 0.363304          | 0.272592                          | 0.00243242  |"
      ]
     },
     "metadata": {},
     "output_type": "display_data"
    },
    {
     "data": {
      "text/html": [
       "<pre>| 281     | 41m 33s      | 0.363163          | 0.272748                          | 0.00243242  |</pre>"
      ],
      "text/plain": [
       "| 281     | 41m 33s      | 0.363163          | 0.272748                          | 0.00243242  |"
      ]
     },
     "metadata": {},
     "output_type": "display_data"
    },
    {
     "data": {
      "text/html": [
       "<pre>| 282     | 41m 41s      | 0.363068          | 0.272635                          | 0.00243242  |</pre>"
      ],
      "text/plain": [
       "| 282     | 41m 41s      | 0.363068          | 0.272635                          | 0.00243242  |"
      ]
     },
     "metadata": {},
     "output_type": "display_data"
    },
    {
     "data": {
      "text/html": [
       "<pre>| 283     | 41m 50s      | 0.363067          | 0.272656                          | 0.00243242  |</pre>"
      ],
      "text/plain": [
       "| 283     | 41m 50s      | 0.363067          | 0.272656                          | 0.00243242  |"
      ]
     },
     "metadata": {},
     "output_type": "display_data"
    },
    {
     "data": {
      "text/html": [
       "<pre>| 284     | 41m 58s      | 0.36317           | 0.272825                          | 0.00243242  |</pre>"
      ],
      "text/plain": [
       "| 284     | 41m 58s      | 0.36317           | 0.272825                          | 0.00243242  |"
      ]
     },
     "metadata": {},
     "output_type": "display_data"
    },
    {
     "data": {
      "text/html": [
       "<pre>| 285     | 42m 7s       | 0.363249          | 0.272864                          | 0.00243242  |</pre>"
      ],
      "text/plain": [
       "| 285     | 42m 7s       | 0.363249          | 0.272864                          | 0.00243242  |"
      ]
     },
     "metadata": {},
     "output_type": "display_data"
    },
    {
     "data": {
      "text/html": [
       "<pre>| 286     | 42m 16s      | 0.36335           | 0.272639                          | 0.00243242  |</pre>"
      ],
      "text/plain": [
       "| 286     | 42m 16s      | 0.36335           | 0.272639                          | 0.00243242  |"
      ]
     },
     "metadata": {},
     "output_type": "display_data"
    },
    {
     "data": {
      "text/html": [
       "<pre>| 287     | 42m 24s      | 0.362868          | 0.272661                          | 0.00243242  |</pre>"
      ],
      "text/plain": [
       "| 287     | 42m 24s      | 0.362868          | 0.272661                          | 0.00243242  |"
      ]
     },
     "metadata": {},
     "output_type": "display_data"
    },
    {
     "data": {
      "text/html": [
       "<pre>| 288     | 42m 32s      | 0.362669          | 0.272798                          | 0.00243242  |</pre>"
      ],
      "text/plain": [
       "| 288     | 42m 32s      | 0.362669          | 0.272798                          | 0.00243242  |"
      ]
     },
     "metadata": {},
     "output_type": "display_data"
    },
    {
     "data": {
      "text/html": [
       "<pre>| 289     | 42m 41s      | 0.36264           | 0.272926                          | 0.00243242  |</pre>"
      ],
      "text/plain": [
       "| 289     | 42m 41s      | 0.36264           | 0.272926                          | 0.00243242  |"
      ]
     },
     "metadata": {},
     "output_type": "display_data"
    },
    {
     "data": {
      "text/html": [
       "<pre>| 290     | 42m 50s      | 0.362681          | 0.273071                          | 0.00243242  |</pre>"
      ],
      "text/plain": [
       "| 290     | 42m 50s      | 0.362681          | 0.273071                          | 0.00243242  |"
      ]
     },
     "metadata": {},
     "output_type": "display_data"
    },
    {
     "data": {
      "text/html": [
       "<pre>| 291     | 42m 58s      | 0.362721          | 0.272957                          | 0.00243242  |</pre>"
      ],
      "text/plain": [
       "| 291     | 42m 58s      | 0.362721          | 0.272957                          | 0.00243242  |"
      ]
     },
     "metadata": {},
     "output_type": "display_data"
    },
    {
     "data": {
      "text/html": [
       "<pre>| 292     | 43m 7s       | 0.362819          | 0.272915                          | 0.00243242  |</pre>"
      ],
      "text/plain": [
       "| 292     | 43m 7s       | 0.362819          | 0.272915                          | 0.00243242  |"
      ]
     },
     "metadata": {},
     "output_type": "display_data"
    },
    {
     "data": {
      "text/html": [
       "<pre>| 293     | 43m 15s      | 0.36268           | 0.273043                          | 0.00243242  |</pre>"
      ],
      "text/plain": [
       "| 293     | 43m 15s      | 0.36268           | 0.273043                          | 0.00243242  |"
      ]
     },
     "metadata": {},
     "output_type": "display_data"
    },
    {
     "data": {
      "text/html": [
       "<pre>| 294     | 43m 24s      | 0.362539          | 0.27316                           | 0.00243242  |</pre>"
      ],
      "text/plain": [
       "| 294     | 43m 24s      | 0.362539          | 0.27316                           | 0.00243242  |"
      ]
     },
     "metadata": {},
     "output_type": "display_data"
    },
    {
     "data": {
      "text/html": [
       "<pre>| 295     | 43m 32s      | 0.362386          | 0.273328                          | 0.00243242  |</pre>"
      ],
      "text/plain": [
       "| 295     | 43m 32s      | 0.362386          | 0.273328                          | 0.00243242  |"
      ]
     },
     "metadata": {},
     "output_type": "display_data"
    },
    {
     "data": {
      "text/html": [
       "<pre>| 296     | 43m 41s      | 0.362333          | 0.273328                          | 0.00243242  |</pre>"
      ],
      "text/plain": [
       "| 296     | 43m 41s      | 0.362333          | 0.273328                          | 0.00243242  |"
      ]
     },
     "metadata": {},
     "output_type": "display_data"
    },
    {
     "data": {
      "text/html": [
       "<pre>| 297     | 43m 49s      | 0.362304          | 0.273474                          | 0.00243242  |</pre>"
      ],
      "text/plain": [
       "| 297     | 43m 49s      | 0.362304          | 0.273474                          | 0.00243242  |"
      ]
     },
     "metadata": {},
     "output_type": "display_data"
    },
    {
     "data": {
      "text/html": [
       "<pre>| 298     | 43m 58s      | 0.362229          | 0.273368                          | 0.00243242  |</pre>"
      ],
      "text/plain": [
       "| 298     | 43m 58s      | 0.362229          | 0.273368                          | 0.00243242  |"
      ]
     },
     "metadata": {},
     "output_type": "display_data"
    },
    {
     "data": {
      "text/html": [
       "<pre>| 299     | 44m 7s       | 0.362212          | 0.273358                          | 0.00243242  |</pre>"
      ],
      "text/plain": [
       "| 299     | 44m 7s       | 0.362212          | 0.273358                          | 0.00243242  |"
      ]
     },
     "metadata": {},
     "output_type": "display_data"
    },
    {
     "data": {
      "text/html": [
       "<pre>| 300     | 44m 15s      | 0.362119          | 0.27349                           | 0.00243242  |</pre>"
      ],
      "text/plain": [
       "| 300     | 44m 15s      | 0.362119          | 0.27349                           | 0.00243242  |"
      ]
     },
     "metadata": {},
     "output_type": "display_data"
    },
    {
     "data": {
      "text/html": [
       "<pre>| 301     | 44m 24s      | 0.361995          | 0.273502                          | 0.00243242  |</pre>"
      ],
      "text/plain": [
       "| 301     | 44m 24s      | 0.361995          | 0.273502                          | 0.00243242  |"
      ]
     },
     "metadata": {},
     "output_type": "display_data"
    },
    {
     "data": {
      "text/html": [
       "<pre>| 302     | 44m 32s      | 0.362153          | 0.273569                          | 0.00243242  |</pre>"
      ],
      "text/plain": [
       "| 302     | 44m 32s      | 0.362153          | 0.273569                          | 0.00243242  |"
      ]
     },
     "metadata": {},
     "output_type": "display_data"
    },
    {
     "data": {
      "text/html": [
       "<pre>| 303     | 44m 41s      | 0.362453          | 0.273604                          | 0.00243242  |</pre>"
      ],
      "text/plain": [
       "| 303     | 44m 41s      | 0.362453          | 0.273604                          | 0.00243242  |"
      ]
     },
     "metadata": {},
     "output_type": "display_data"
    },
    {
     "data": {
      "text/html": [
       "<pre>| 304     | 44m 49s      | 0.362111          | 0.27356                           | 0.00243242  |</pre>"
      ],
      "text/plain": [
       "| 304     | 44m 49s      | 0.362111          | 0.27356                           | 0.00243242  |"
      ]
     },
     "metadata": {},
     "output_type": "display_data"
    },
    {
     "data": {
      "text/html": [
       "<pre>| 305     | 44m 58s      | 0.362208          | 0.273632                          | 0.00243242  |</pre>"
      ],
      "text/plain": [
       "| 305     | 44m 58s      | 0.362208          | 0.273632                          | 0.00243242  |"
      ]
     },
     "metadata": {},
     "output_type": "display_data"
    },
    {
     "data": {
      "text/html": [
       "<pre>| 306     | 45m 7s       | 0.362054          | 0.273572                          | 0.00243242  |</pre>"
      ],
      "text/plain": [
       "| 306     | 45m 7s       | 0.362054          | 0.273572                          | 0.00243242  |"
      ]
     },
     "metadata": {},
     "output_type": "display_data"
    },
    {
     "data": {
      "text/html": [
       "<pre>| 307     | 45m 15s      | 0.361956          | 0.273547                          | 0.00243242  |</pre>"
      ],
      "text/plain": [
       "| 307     | 45m 15s      | 0.361956          | 0.273547                          | 0.00243242  |"
      ]
     },
     "metadata": {},
     "output_type": "display_data"
    },
    {
     "data": {
      "text/html": [
       "<pre>| 308     | 45m 24s      | 0.361768          | 0.273793                          | 0.00243242  |</pre>"
      ],
      "text/plain": [
       "| 308     | 45m 24s      | 0.361768          | 0.273793                          | 0.00243242  |"
      ]
     },
     "metadata": {},
     "output_type": "display_data"
    },
    {
     "data": {
      "text/html": [
       "<pre>| 309     | 45m 33s      | 0.361886          | 0.273894                          | 0.00243242  |</pre>"
      ],
      "text/plain": [
       "| 309     | 45m 33s      | 0.361886          | 0.273894                          | 0.00243242  |"
      ]
     },
     "metadata": {},
     "output_type": "display_data"
    },
    {
     "data": {
      "text/html": [
       "<pre>| 310     | 45m 42s      | 0.361808          | 0.273987                          | 0.00243242  |</pre>"
      ],
      "text/plain": [
       "| 310     | 45m 42s      | 0.361808          | 0.273987                          | 0.00243242  |"
      ]
     },
     "metadata": {},
     "output_type": "display_data"
    },
    {
     "data": {
      "text/html": [
       "<pre>| 311     | 45m 51s      | 0.361553          | 0.273894                          | 0.00243242  |</pre>"
      ],
      "text/plain": [
       "| 311     | 45m 51s      | 0.361553          | 0.273894                          | 0.00243242  |"
      ]
     },
     "metadata": {},
     "output_type": "display_data"
    },
    {
     "data": {
      "text/html": [
       "<pre>| 312     | 46m 0s       | 0.361427          | 0.273981                          | 0.00243242  |</pre>"
      ],
      "text/plain": [
       "| 312     | 46m 0s       | 0.361427          | 0.273981                          | 0.00243242  |"
      ]
     },
     "metadata": {},
     "output_type": "display_data"
    },
    {
     "data": {
      "text/html": [
       "<pre>| 313     | 46m 9s       | 0.361336          | 0.273916                          | 0.00243242  |</pre>"
      ],
      "text/plain": [
       "| 313     | 46m 9s       | 0.361336          | 0.273916                          | 0.00243242  |"
      ]
     },
     "metadata": {},
     "output_type": "display_data"
    },
    {
     "data": {
      "text/html": [
       "<pre>| 314     | 46m 17s      | 0.361384          | 0.273734                          | 0.00243242  |</pre>"
      ],
      "text/plain": [
       "| 314     | 46m 17s      | 0.361384          | 0.273734                          | 0.00243242  |"
      ]
     },
     "metadata": {},
     "output_type": "display_data"
    },
    {
     "data": {
      "text/html": [
       "<pre>| 315     | 46m 26s      | 0.361408          | 0.273918                          | 0.00243242  |</pre>"
      ],
      "text/plain": [
       "| 315     | 46m 26s      | 0.361408          | 0.273918                          | 0.00243242  |"
      ]
     },
     "metadata": {},
     "output_type": "display_data"
    },
    {
     "data": {
      "text/html": [
       "<pre>| 316     | 46m 35s      | 0.361343          | 0.274025                          | 0.00243242  |</pre>"
      ],
      "text/plain": [
       "| 316     | 46m 35s      | 0.361343          | 0.274025                          | 0.00243242  |"
      ]
     },
     "metadata": {},
     "output_type": "display_data"
    },
    {
     "data": {
      "text/html": [
       "<pre>| 317     | 46m 43s      | 0.361216          | 0.273995                          | 0.00243242  |</pre>"
      ],
      "text/plain": [
       "| 317     | 46m 43s      | 0.361216          | 0.273995                          | 0.00243242  |"
      ]
     },
     "metadata": {},
     "output_type": "display_data"
    },
    {
     "data": {
      "text/html": [
       "<pre>| 318     | 46m 52s      | 0.361074          | 0.273998                          | 0.00243242  |</pre>"
      ],
      "text/plain": [
       "| 318     | 46m 52s      | 0.361074          | 0.273998                          | 0.00243242  |"
      ]
     },
     "metadata": {},
     "output_type": "display_data"
    },
    {
     "data": {
      "text/html": [
       "<pre>| 319     | 47m 1s       | 0.361014          | 0.273879                          | 0.00243242  |</pre>"
      ],
      "text/plain": [
       "| 319     | 47m 1s       | 0.361014          | 0.273879                          | 0.00243242  |"
      ]
     },
     "metadata": {},
     "output_type": "display_data"
    },
    {
     "data": {
      "text/html": [
       "<pre>| 320     | 47m 9s       | 0.360902          | 0.273919                          | 0.00243242  |</pre>"
      ],
      "text/plain": [
       "| 320     | 47m 9s       | 0.360902          | 0.273919                          | 0.00243242  |"
      ]
     },
     "metadata": {},
     "output_type": "display_data"
    },
    {
     "data": {
      "text/html": [
       "<pre>| 321     | 47m 18s      | 0.36109           | 0.274069                          | 0.00243242  |</pre>"
      ],
      "text/plain": [
       "| 321     | 47m 18s      | 0.36109           | 0.274069                          | 0.00243242  |"
      ]
     },
     "metadata": {},
     "output_type": "display_data"
    },
    {
     "data": {
      "text/html": [
       "<pre>| 322     | 47m 26s      | 0.361107          | 0.27397                           | 0.00243242  |</pre>"
      ],
      "text/plain": [
       "| 322     | 47m 26s      | 0.361107          | 0.27397                           | 0.00243242  |"
      ]
     },
     "metadata": {},
     "output_type": "display_data"
    },
    {
     "data": {
      "text/html": [
       "<pre>| 323     | 47m 35s      | 0.360732          | 0.273851                          | 0.00243242  |</pre>"
      ],
      "text/plain": [
       "| 323     | 47m 35s      | 0.360732          | 0.273851                          | 0.00243242  |"
      ]
     },
     "metadata": {},
     "output_type": "display_data"
    },
    {
     "data": {
      "text/html": [
       "<pre>| 324     | 47m 44s      | 0.360741          | 0.273859                          | 0.00243242  |</pre>"
      ],
      "text/plain": [
       "| 324     | 47m 44s      | 0.360741          | 0.273859                          | 0.00243242  |"
      ]
     },
     "metadata": {},
     "output_type": "display_data"
    },
    {
     "data": {
      "text/html": [
       "<pre>| 325     | 47m 52s      | 0.360626          | 0.273757                          | 0.00243242  |</pre>"
      ],
      "text/plain": [
       "| 325     | 47m 52s      | 0.360626          | 0.273757                          | 0.00243242  |"
      ]
     },
     "metadata": {},
     "output_type": "display_data"
    },
    {
     "data": {
      "text/html": [
       "<pre>| 326     | 48m 1s       | 0.360505          | 0.273604                          | 0.00243242  |</pre>"
      ],
      "text/plain": [
       "| 326     | 48m 1s       | 0.360505          | 0.273604                          | 0.00243242  |"
      ]
     },
     "metadata": {},
     "output_type": "display_data"
    },
    {
     "data": {
      "text/html": [
       "<pre>| 327     | 48m 9s       | 0.360705          | 0.273704                          | 0.00243242  |</pre>"
      ],
      "text/plain": [
       "| 327     | 48m 9s       | 0.360705          | 0.273704                          | 0.00243242  |"
      ]
     },
     "metadata": {},
     "output_type": "display_data"
    },
    {
     "data": {
      "text/html": [
       "<pre>| 328     | 48m 18s      | 0.360398          | 0.273584                          | 0.00243242  |</pre>"
      ],
      "text/plain": [
       "| 328     | 48m 18s      | 0.360398          | 0.273584                          | 0.00243242  |"
      ]
     },
     "metadata": {},
     "output_type": "display_data"
    },
    {
     "data": {
      "text/html": [
       "<pre>| 329     | 48m 26s      | 0.360147          | 0.2736                            | 0.00243242  |</pre>"
      ],
      "text/plain": [
       "| 329     | 48m 26s      | 0.360147          | 0.2736                            | 0.00243242  |"
      ]
     },
     "metadata": {},
     "output_type": "display_data"
    },
    {
     "data": {
      "text/html": [
       "<pre>| 330     | 48m 35s      | 0.3601            | 0.27367                           | 0.00243242  |</pre>"
      ],
      "text/plain": [
       "| 330     | 48m 35s      | 0.3601            | 0.27367                           | 0.00243242  |"
      ]
     },
     "metadata": {},
     "output_type": "display_data"
    },
    {
     "data": {
      "text/html": [
       "<pre>| 331     | 48m 43s      | 0.35991           | 0.27367                           | 0.00243242  |</pre>"
      ],
      "text/plain": [
       "| 331     | 48m 43s      | 0.35991           | 0.27367                           | 0.00243242  |"
      ]
     },
     "metadata": {},
     "output_type": "display_data"
    },
    {
     "data": {
      "text/html": [
       "<pre>| 332     | 48m 52s      | 0.359878          | 0.273608                          | 0.00243242  |</pre>"
      ],
      "text/plain": [
       "| 332     | 48m 52s      | 0.359878          | 0.273608                          | 0.00243242  |"
      ]
     },
     "metadata": {},
     "output_type": "display_data"
    },
    {
     "data": {
      "text/html": [
       "<pre>| 333     | 49m 0s       | 0.359945          | 0.273748                          | 0.00243242  |</pre>"
      ],
      "text/plain": [
       "| 333     | 49m 0s       | 0.359945          | 0.273748                          | 0.00243242  |"
      ]
     },
     "metadata": {},
     "output_type": "display_data"
    },
    {
     "data": {
      "text/html": [
       "<pre>| 334     | 49m 8s       | 0.359801          | 0.273632                          | 0.00243242  |</pre>"
      ],
      "text/plain": [
       "| 334     | 49m 8s       | 0.359801          | 0.273632                          | 0.00243242  |"
      ]
     },
     "metadata": {},
     "output_type": "display_data"
    },
    {
     "data": {
      "text/html": [
       "<pre>| 335     | 49m 17s      | 0.359659          | 0.273562                          | 0.00243242  |</pre>"
      ],
      "text/plain": [
       "| 335     | 49m 17s      | 0.359659          | 0.273562                          | 0.00243242  |"
      ]
     },
     "metadata": {},
     "output_type": "display_data"
    },
    {
     "data": {
      "text/html": [
       "<pre>| 336     | 49m 25s      | 0.359653          | 0.273551                          | 0.00243242  |</pre>"
      ],
      "text/plain": [
       "| 336     | 49m 25s      | 0.359653          | 0.273551                          | 0.00243242  |"
      ]
     },
     "metadata": {},
     "output_type": "display_data"
    },
    {
     "data": {
      "text/html": [
       "<pre>| 337     | 49m 34s      | 0.359735          | 0.273509                          | 0.00243242  |</pre>"
      ],
      "text/plain": [
       "| 337     | 49m 34s      | 0.359735          | 0.273509                          | 0.00243242  |"
      ]
     },
     "metadata": {},
     "output_type": "display_data"
    },
    {
     "data": {
      "text/html": [
       "<pre>| 338     | 49m 43s      | 0.359692          | 0.273429                          | 0.00243242  |</pre>"
      ],
      "text/plain": [
       "| 338     | 49m 43s      | 0.359692          | 0.273429                          | 0.00243242  |"
      ]
     },
     "metadata": {},
     "output_type": "display_data"
    },
    {
     "data": {
      "text/html": [
       "<pre>| 339     | 49m 51s      | 0.359589          | 0.273443                          | 0.00243242  |</pre>"
      ],
      "text/plain": [
       "| 339     | 49m 51s      | 0.359589          | 0.273443                          | 0.00243242  |"
      ]
     },
     "metadata": {},
     "output_type": "display_data"
    },
    {
     "data": {
      "text/html": [
       "<pre>| 340     | 50m 0s       | 0.35962           | 0.27332                           | 0.00243242  |</pre>"
      ],
      "text/plain": [
       "| 340     | 50m 0s       | 0.35962           | 0.27332                           | 0.00243242  |"
      ]
     },
     "metadata": {},
     "output_type": "display_data"
    },
    {
     "data": {
      "text/html": [
       "<pre>| 341     | 50m 8s       | 0.359344          | 0.27326                           | 0.00243242  |</pre>"
      ],
      "text/plain": [
       "| 341     | 50m 8s       | 0.359344          | 0.27326                           | 0.00243242  |"
      ]
     },
     "metadata": {},
     "output_type": "display_data"
    },
    {
     "data": {
      "text/html": [
       "<pre>| 342     | 50m 17s      | 0.359058          | 0.273171                          | 0.00243242  |</pre>"
      ],
      "text/plain": [
       "| 342     | 50m 17s      | 0.359058          | 0.273171                          | 0.00243242  |"
      ]
     },
     "metadata": {},
     "output_type": "display_data"
    },
    {
     "data": {
      "text/html": [
       "<pre>| 343     | 50m 25s      | 0.359075          | 0.273125                          | 0.00243242  |</pre>"
      ],
      "text/plain": [
       "| 343     | 50m 25s      | 0.359075          | 0.273125                          | 0.00243242  |"
      ]
     },
     "metadata": {},
     "output_type": "display_data"
    },
    {
     "data": {
      "text/html": [
       "<pre>| 344     | 50m 34s      | 0.359041          | 0.273107                          | 0.00243242  |</pre>"
      ],
      "text/plain": [
       "| 344     | 50m 34s      | 0.359041          | 0.273107                          | 0.00243242  |"
      ]
     },
     "metadata": {},
     "output_type": "display_data"
    },
    {
     "data": {
      "text/html": [
       "<pre>| 345     | 50m 42s      | 0.358997          | 0.273132                          | 0.00243242  |</pre>"
      ],
      "text/plain": [
       "| 345     | 50m 42s      | 0.358997          | 0.273132                          | 0.00243242  |"
      ]
     },
     "metadata": {},
     "output_type": "display_data"
    },
    {
     "data": {
      "text/html": [
       "<pre>| 346     | 50m 51s      | 0.358852          | 0.272965                          | 0.00243242  |</pre>"
      ],
      "text/plain": [
       "| 346     | 50m 51s      | 0.358852          | 0.272965                          | 0.00243242  |"
      ]
     },
     "metadata": {},
     "output_type": "display_data"
    },
    {
     "data": {
      "text/html": [
       "<pre>| 347     | 51m 0s       | 0.358849          | 0.272934                          | 0.00243242  |</pre>"
      ],
      "text/plain": [
       "| 347     | 51m 0s       | 0.358849          | 0.272934                          | 0.00243242  |"
      ]
     },
     "metadata": {},
     "output_type": "display_data"
    },
    {
     "data": {
      "text/html": [
       "<pre>| 348     | 51m 8s       | 0.358752          | 0.273064                          | 0.00243242  |</pre>"
      ],
      "text/plain": [
       "| 348     | 51m 8s       | 0.358752          | 0.273064                          | 0.00243242  |"
      ]
     },
     "metadata": {},
     "output_type": "display_data"
    },
    {
     "data": {
      "text/html": [
       "<pre>| 349     | 51m 17s      | 0.358729          | 0.272953                          | 0.00243242  |</pre>"
      ],
      "text/plain": [
       "| 349     | 51m 17s      | 0.358729          | 0.272953                          | 0.00243242  |"
      ]
     },
     "metadata": {},
     "output_type": "display_data"
    },
    {
     "data": {
      "text/html": [
       "<pre>| 350     | 51m 25s      | 0.358524          | 0.272853                          | 0.00243242  |</pre>"
      ],
      "text/plain": [
       "| 350     | 51m 25s      | 0.358524          | 0.272853                          | 0.00243242  |"
      ]
     },
     "metadata": {},
     "output_type": "display_data"
    },
    {
     "data": {
      "text/html": [
       "<pre>| 351     | 51m 34s      | 0.358414          | 0.272888                          | 0.00243242  |</pre>"
      ],
      "text/plain": [
       "| 351     | 51m 34s      | 0.358414          | 0.272888                          | 0.00243242  |"
      ]
     },
     "metadata": {},
     "output_type": "display_data"
    },
    {
     "data": {
      "text/html": [
       "<pre>| 352     | 51m 42s      | 0.358391          | 0.272791                          | 0.00243242  |</pre>"
      ],
      "text/plain": [
       "| 352     | 51m 42s      | 0.358391          | 0.272791                          | 0.00243242  |"
      ]
     },
     "metadata": {},
     "output_type": "display_data"
    },
    {
     "data": {
      "text/html": [
       "<pre>| 353     | 51m 51s      | 0.358261          | 0.272722                          | 0.00243242  |</pre>"
      ],
      "text/plain": [
       "| 353     | 51m 51s      | 0.358261          | 0.272722                          | 0.00243242  |"
      ]
     },
     "metadata": {},
     "output_type": "display_data"
    },
    {
     "data": {
      "text/html": [
       "<pre>| 354     | 51m 59s      | 0.358093          | 0.272551                          | 0.00243242  |</pre>"
      ],
      "text/plain": [
       "| 354     | 51m 59s      | 0.358093          | 0.272551                          | 0.00243242  |"
      ]
     },
     "metadata": {},
     "output_type": "display_data"
    },
    {
     "data": {
      "text/html": [
       "<pre>| 355     | 52m 8s       | 0.357832          | 0.272344                          | 0.00243242  |</pre>"
      ],
      "text/plain": [
       "| 355     | 52m 8s       | 0.357832          | 0.272344                          | 0.00243242  |"
      ]
     },
     "metadata": {},
     "output_type": "display_data"
    },
    {
     "data": {
      "text/html": [
       "<pre>| 356     | 52m 16s      | 0.35753           | 0.272117                          | 0.00243242  |</pre>"
      ],
      "text/plain": [
       "| 356     | 52m 16s      | 0.35753           | 0.272117                          | 0.00243242  |"
      ]
     },
     "metadata": {},
     "output_type": "display_data"
    },
    {
     "data": {
      "text/html": [
       "<pre>| 357     | 52m 25s      | 0.3574            | 0.272105                          | 0.00243242  |</pre>"
      ],
      "text/plain": [
       "| 357     | 52m 25s      | 0.3574            | 0.272105                          | 0.00243242  |"
      ]
     },
     "metadata": {},
     "output_type": "display_data"
    },
    {
     "data": {
      "text/html": [
       "<pre>| 358     | 52m 34s      | 0.357474          | 0.272234                          | 0.00243242  |</pre>"
      ],
      "text/plain": [
       "| 358     | 52m 34s      | 0.357474          | 0.272234                          | 0.00243242  |"
      ]
     },
     "metadata": {},
     "output_type": "display_data"
    },
    {
     "data": {
      "text/html": [
       "<pre>| 359     | 52m 42s      | 0.357204          | 0.271966                          | 0.00243242  |</pre>"
      ],
      "text/plain": [
       "| 359     | 52m 42s      | 0.357204          | 0.271966                          | 0.00243242  |"
      ]
     },
     "metadata": {},
     "output_type": "display_data"
    },
    {
     "data": {
      "text/html": [
       "<pre>| 360     | 52m 51s      | 0.357063          | 0.271813                          | 0.00243242  |</pre>"
      ],
      "text/plain": [
       "| 360     | 52m 51s      | 0.357063          | 0.271813                          | 0.00243242  |"
      ]
     },
     "metadata": {},
     "output_type": "display_data"
    },
    {
     "data": {
      "text/html": [
       "<pre>| 361     | 53m 0s       | 0.356987          | 0.271603                          | 0.00243242  |</pre>"
      ],
      "text/plain": [
       "| 361     | 53m 0s       | 0.356987          | 0.271603                          | 0.00243242  |"
      ]
     },
     "metadata": {},
     "output_type": "display_data"
    },
    {
     "data": {
      "text/html": [
       "<pre>| 362     | 53m 8s       | 0.356898          | 0.271349                          | 0.00243242  |</pre>"
      ],
      "text/plain": [
       "| 362     | 53m 8s       | 0.356898          | 0.271349                          | 0.00243242  |"
      ]
     },
     "metadata": {},
     "output_type": "display_data"
    },
    {
     "data": {
      "text/html": [
       "<pre>| 363     | 53m 17s      | 0.35666           | 0.271034                          | 0.00243242  |</pre>"
      ],
      "text/plain": [
       "| 363     | 53m 17s      | 0.35666           | 0.271034                          | 0.00243242  |"
      ]
     },
     "metadata": {},
     "output_type": "display_data"
    },
    {
     "data": {
      "text/html": [
       "<pre>| 364     | 53m 25s      | 0.356323          | 0.270639                          | 0.00243242  |</pre>"
      ],
      "text/plain": [
       "| 364     | 53m 25s      | 0.356323          | 0.270639                          | 0.00243242  |"
      ]
     },
     "metadata": {},
     "output_type": "display_data"
    },
    {
     "data": {
      "text/html": [
       "<pre>| 365     | 53m 34s      | 0.356263          | 0.270368                          | 0.00243242  |</pre>"
      ],
      "text/plain": [
       "| 365     | 53m 34s      | 0.356263          | 0.270368                          | 0.00243242  |"
      ]
     },
     "metadata": {},
     "output_type": "display_data"
    },
    {
     "data": {
      "text/html": [
       "<pre>| 366     | 53m 43s      | 0.356119          | 0.270121                          | 0.00243242  |</pre>"
      ],
      "text/plain": [
       "| 366     | 53m 43s      | 0.356119          | 0.270121                          | 0.00243242  |"
      ]
     },
     "metadata": {},
     "output_type": "display_data"
    },
    {
     "data": {
      "text/html": [
       "<pre>| 367     | 53m 51s      | 0.355754          | 0.269872                          | 0.00243242  |</pre>"
      ],
      "text/plain": [
       "| 367     | 53m 51s      | 0.355754          | 0.269872                          | 0.00243242  |"
      ]
     },
     "metadata": {},
     "output_type": "display_data"
    },
    {
     "data": {
      "text/html": [
       "<pre>| 368     | 54m 0s       | 0.355578          | 0.269642                          | 0.00243242  |</pre>"
      ],
      "text/plain": [
       "| 368     | 54m 0s       | 0.355578          | 0.269642                          | 0.00243242  |"
      ]
     },
     "metadata": {},
     "output_type": "display_data"
    },
    {
     "data": {
      "text/html": [
       "<pre>| 369     | 54m 8s       | 0.35533           | 0.269397                          | 0.00243242  |</pre>"
      ],
      "text/plain": [
       "| 369     | 54m 8s       | 0.35533           | 0.269397                          | 0.00243242  |"
      ]
     },
     "metadata": {},
     "output_type": "display_data"
    },
    {
     "data": {
      "text/html": [
       "<pre>| 370     | 54m 17s      | 0.355233          | 0.269291                          | 0.00243242  |</pre>"
      ],
      "text/plain": [
       "| 370     | 54m 17s      | 0.355233          | 0.269291                          | 0.00243242  |"
      ]
     },
     "metadata": {},
     "output_type": "display_data"
    },
    {
     "data": {
      "text/html": [
       "<pre>| 371     | 54m 26s      | 0.355138          | 0.269112                          | 0.00243242  |</pre>"
      ],
      "text/plain": [
       "| 371     | 54m 26s      | 0.355138          | 0.269112                          | 0.00243242  |"
      ]
     },
     "metadata": {},
     "output_type": "display_data"
    },
    {
     "data": {
      "text/html": [
       "<pre>| 372     | 54m 34s      | 0.354938          | 0.268953                          | 0.00243242  |</pre>"
      ],
      "text/plain": [
       "| 372     | 54m 34s      | 0.354938          | 0.268953                          | 0.00243242  |"
      ]
     },
     "metadata": {},
     "output_type": "display_data"
    },
    {
     "data": {
      "text/html": [
       "<pre>| 373     | 54m 43s      | 0.354928          | 0.268913                          | 0.00243242  |</pre>"
      ],
      "text/plain": [
       "| 373     | 54m 43s      | 0.354928          | 0.268913                          | 0.00243242  |"
      ]
     },
     "metadata": {},
     "output_type": "display_data"
    },
    {
     "data": {
      "text/html": [
       "<pre>| 374     | 54m 52s      | 0.354604          | 0.268725                          | 0.00243242  |</pre>"
      ],
      "text/plain": [
       "| 374     | 54m 52s      | 0.354604          | 0.268725                          | 0.00243242  |"
      ]
     },
     "metadata": {},
     "output_type": "display_data"
    },
    {
     "data": {
      "text/html": [
       "<pre>| 375     | 55m 0s       | 0.354596          | 0.26868                           | 0.00243242  |</pre>"
      ],
      "text/plain": [
       "| 375     | 55m 0s       | 0.354596          | 0.26868                           | 0.00243242  |"
      ]
     },
     "metadata": {},
     "output_type": "display_data"
    },
    {
     "data": {
      "text/html": [
       "<pre>| 376     | 55m 9s       | 0.354417          | 0.268559                          | 0.00243242  |</pre>"
      ],
      "text/plain": [
       "| 376     | 55m 9s       | 0.354417          | 0.268559                          | 0.00243242  |"
      ]
     },
     "metadata": {},
     "output_type": "display_data"
    },
    {
     "data": {
      "text/html": [
       "<pre>| 377     | 55m 17s      | 0.354303          | 0.268306                          | 0.00243242  |</pre>"
      ],
      "text/plain": [
       "| 377     | 55m 17s      | 0.354303          | 0.268306                          | 0.00243242  |"
      ]
     },
     "metadata": {},
     "output_type": "display_data"
    },
    {
     "data": {
      "text/html": [
       "<pre>| 378     | 55m 26s      | 0.354156          | 0.268226                          | 0.00243242  |</pre>"
      ],
      "text/plain": [
       "| 378     | 55m 26s      | 0.354156          | 0.268226                          | 0.00243242  |"
      ]
     },
     "metadata": {},
     "output_type": "display_data"
    },
    {
     "data": {
      "text/html": [
       "<pre>| 379     | 55m 34s      | 0.354158          | 0.268243                          | 0.00243242  |</pre>"
      ],
      "text/plain": [
       "| 379     | 55m 34s      | 0.354158          | 0.268243                          | 0.00243242  |"
      ]
     },
     "metadata": {},
     "output_type": "display_data"
    },
    {
     "data": {
      "text/html": [
       "<pre>| 380     | 55m 43s      | 0.354111          | 0.26819                           | 0.00243242  |</pre>"
      ],
      "text/plain": [
       "| 380     | 55m 43s      | 0.354111          | 0.26819                           | 0.00243242  |"
      ]
     },
     "metadata": {},
     "output_type": "display_data"
    },
    {
     "data": {
      "text/html": [
       "<pre>| 381     | 55m 52s      | 0.354033          | 0.268126                          | 0.00243242  |</pre>"
      ],
      "text/plain": [
       "| 381     | 55m 52s      | 0.354033          | 0.268126                          | 0.00243242  |"
      ]
     },
     "metadata": {},
     "output_type": "display_data"
    },
    {
     "data": {
      "text/html": [
       "<pre>| 382     | 56m 0s       | 0.353893          | 0.267959                          | 0.00243242  |</pre>"
      ],
      "text/plain": [
       "| 382     | 56m 0s       | 0.353893          | 0.267959                          | 0.00243242  |"
      ]
     },
     "metadata": {},
     "output_type": "display_data"
    },
    {
     "data": {
      "text/html": [
       "<pre>| 383     | 56m 9s       | 0.353712          | 0.26781                           | 0.00243242  |</pre>"
      ],
      "text/plain": [
       "| 383     | 56m 9s       | 0.353712          | 0.26781                           | 0.00243242  |"
      ]
     },
     "metadata": {},
     "output_type": "display_data"
    },
    {
     "data": {
      "text/html": [
       "<pre>| 384     | 56m 17s      | 0.35358           | 0.267766                          | 0.00243242  |</pre>"
      ],
      "text/plain": [
       "| 384     | 56m 17s      | 0.35358           | 0.267766                          | 0.00243242  |"
      ]
     },
     "metadata": {},
     "output_type": "display_data"
    },
    {
     "data": {
      "text/html": [
       "<pre>| 385     | 56m 26s      | 0.353423          | 0.26771                           | 0.00243242  |</pre>"
      ],
      "text/plain": [
       "| 385     | 56m 26s      | 0.353423          | 0.26771                           | 0.00243242  |"
      ]
     },
     "metadata": {},
     "output_type": "display_data"
    },
    {
     "data": {
      "text/html": [
       "<pre>| 386     | 56m 34s      | 0.353433          | 0.267653                          | 0.00243242  |</pre>"
      ],
      "text/plain": [
       "| 386     | 56m 34s      | 0.353433          | 0.267653                          | 0.00243242  |"
      ]
     },
     "metadata": {},
     "output_type": "display_data"
    },
    {
     "data": {
      "text/html": [
       "<pre>| 387     | 56m 43s      | 0.35332           | 0.267693                          | 0.00243242  |</pre>"
      ],
      "text/plain": [
       "| 387     | 56m 43s      | 0.35332           | 0.267693                          | 0.00243242  |"
      ]
     },
     "metadata": {},
     "output_type": "display_data"
    },
    {
     "data": {
      "text/html": [
       "<pre>| 388     | 56m 52s      | 0.353218          | 0.267565                          | 0.00243242  |</pre>"
      ],
      "text/plain": [
       "| 388     | 56m 52s      | 0.353218          | 0.267565                          | 0.00243242  |"
      ]
     },
     "metadata": {},
     "output_type": "display_data"
    },
    {
     "data": {
      "text/html": [
       "<pre>| 389     | 57m 0s       | 0.353275          | 0.267661                          | 0.00243242  |</pre>"
      ],
      "text/plain": [
       "| 389     | 57m 0s       | 0.353275          | 0.267661                          | 0.00243242  |"
      ]
     },
     "metadata": {},
     "output_type": "display_data"
    },
    {
     "data": {
      "text/html": [
       "<pre>| 390     | 57m 8s       | 0.3532            | 0.267604                          | 0.00243242  |</pre>"
      ],
      "text/plain": [
       "| 390     | 57m 8s       | 0.3532            | 0.267604                          | 0.00243242  |"
      ]
     },
     "metadata": {},
     "output_type": "display_data"
    },
    {
     "data": {
      "text/html": [
       "<pre>| 391     | 57m 17s      | 0.353138          | 0.267555                          | 0.00243242  |</pre>"
      ],
      "text/plain": [
       "| 391     | 57m 17s      | 0.353138          | 0.267555                          | 0.00243242  |"
      ]
     },
     "metadata": {},
     "output_type": "display_data"
    },
    {
     "data": {
      "text/html": [
       "<pre>| 392     | 57m 26s      | 0.353026          | 0.267501                          | 0.00243242  |</pre>"
      ],
      "text/plain": [
       "| 392     | 57m 26s      | 0.353026          | 0.267501                          | 0.00243242  |"
      ]
     },
     "metadata": {},
     "output_type": "display_data"
    },
    {
     "data": {
      "text/html": [
       "<pre>| 393     | 57m 34s      | 0.352902          | 0.26741                           | 0.00243242  |</pre>"
      ],
      "text/plain": [
       "| 393     | 57m 34s      | 0.352902          | 0.26741                           | 0.00243242  |"
      ]
     },
     "metadata": {},
     "output_type": "display_data"
    },
    {
     "data": {
      "text/html": [
       "<pre>| 394     | 57m 43s      | 0.353052          | 0.267456                          | 0.00243242  |</pre>"
      ],
      "text/plain": [
       "| 394     | 57m 43s      | 0.353052          | 0.267456                          | 0.00243242  |"
      ]
     },
     "metadata": {},
     "output_type": "display_data"
    },
    {
     "data": {
      "text/html": [
       "<pre>| 395     | 57m 51s      | 0.352991          | 0.267371                          | 0.00243242  |</pre>"
      ],
      "text/plain": [
       "| 395     | 57m 51s      | 0.352991          | 0.267371                          | 0.00243242  |"
      ]
     },
     "metadata": {},
     "output_type": "display_data"
    },
    {
     "data": {
      "text/html": [
       "<pre>| 396     | 58m 0s       | 0.3529            | 0.267219                          | 0.00243242  |</pre>"
      ],
      "text/plain": [
       "| 396     | 58m 0s       | 0.3529            | 0.267219                          | 0.00243242  |"
      ]
     },
     "metadata": {},
     "output_type": "display_data"
    },
    {
     "data": {
      "text/html": [
       "<pre>| 397     | 58m 8s       | 0.352994          | 0.267159                          | 0.00243242  |</pre>"
      ],
      "text/plain": [
       "| 397     | 58m 8s       | 0.352994          | 0.267159                          | 0.00243242  |"
      ]
     },
     "metadata": {},
     "output_type": "display_data"
    },
    {
     "data": {
      "text/html": [
       "<pre>| 398     | 58m 17s      | 0.35275           | 0.267076                          | 0.00243242  |</pre>"
      ],
      "text/plain": [
       "| 398     | 58m 17s      | 0.35275           | 0.267076                          | 0.00243242  |"
      ]
     },
     "metadata": {},
     "output_type": "display_data"
    },
    {
     "data": {
      "text/html": [
       "<pre>| 399     | 58m 25s      | 0.352768          | 0.267075                          | 0.00243242  |</pre>"
      ],
      "text/plain": [
       "| 399     | 58m 25s      | 0.352768          | 0.267075                          | 0.00243242  |"
      ]
     },
     "metadata": {},
     "output_type": "display_data"
    },
    {
     "data": {
      "text/html": [
       "<pre>| 400     | 58m 34s      | 0.352454          | 0.266891                          | 0.00243242  |</pre>"
      ],
      "text/plain": [
       "| 400     | 58m 34s      | 0.352454          | 0.266891                          | 0.00243242  |"
      ]
     },
     "metadata": {},
     "output_type": "display_data"
    },
    {
     "data": {
      "text/html": [
       "<pre>| 401     | 58m 43s      | 0.352339          | 0.266946                          | 0.00243242  |</pre>"
      ],
      "text/plain": [
       "| 401     | 58m 43s      | 0.352339          | 0.266946                          | 0.00243242  |"
      ]
     },
     "metadata": {},
     "output_type": "display_data"
    },
    {
     "data": {
      "text/html": [
       "<pre>| 402     | 58m 52s      | 0.352367          | 0.266954                          | 0.00243242  |</pre>"
      ],
      "text/plain": [
       "| 402     | 58m 52s      | 0.352367          | 0.266954                          | 0.00243242  |"
      ]
     },
     "metadata": {},
     "output_type": "display_data"
    },
    {
     "data": {
      "text/html": [
       "<pre>| 403     | 59m 1s       | 0.352415          | 0.266911                          | 0.00243242  |</pre>"
      ],
      "text/plain": [
       "| 403     | 59m 1s       | 0.352415          | 0.266911                          | 0.00243242  |"
      ]
     },
     "metadata": {},
     "output_type": "display_data"
    },
    {
     "data": {
      "text/html": [
       "<pre>| 404     | 59m 9s       | 0.35243           | 0.266928                          | 0.00243242  |</pre>"
      ],
      "text/plain": [
       "| 404     | 59m 9s       | 0.35243           | 0.266928                          | 0.00243242  |"
      ]
     },
     "metadata": {},
     "output_type": "display_data"
    },
    {
     "data": {
      "text/html": [
       "<pre>| 405     | 59m 18s      | 0.352144          | 0.266878                          | 0.00243242  |</pre>"
      ],
      "text/plain": [
       "| 405     | 59m 18s      | 0.352144          | 0.266878                          | 0.00243242  |"
      ]
     },
     "metadata": {},
     "output_type": "display_data"
    },
    {
     "data": {
      "text/html": [
       "<pre>| 406     | 59m 26s      | 0.352059          | 0.266972                          | 0.00243242  |</pre>"
      ],
      "text/plain": [
       "| 406     | 59m 26s      | 0.352059          | 0.266972                          | 0.00243242  |"
      ]
     },
     "metadata": {},
     "output_type": "display_data"
    },
    {
     "data": {
      "text/html": [
       "<pre>| 407     | 59m 35s      | 0.352001          | 0.266984                          | 0.00243242  |</pre>"
      ],
      "text/plain": [
       "| 407     | 59m 35s      | 0.352001          | 0.266984                          | 0.00243242  |"
      ]
     },
     "metadata": {},
     "output_type": "display_data"
    },
    {
     "data": {
      "text/html": [
       "<pre>| 408     | 59m 43s      | 0.351875          | 0.266855                          | 0.00243242  |</pre>"
      ],
      "text/plain": [
       "| 408     | 59m 43s      | 0.351875          | 0.266855                          | 0.00243242  |"
      ]
     },
     "metadata": {},
     "output_type": "display_data"
    },
    {
     "data": {
      "text/html": [
       "<pre>| 409     | 59m 52s      | 0.351979          | 0.266782                          | 0.00243242  |</pre>"
      ],
      "text/plain": [
       "| 409     | 59m 52s      | 0.351979          | 0.266782                          | 0.00243242  |"
      ]
     },
     "metadata": {},
     "output_type": "display_data"
    },
    {
     "data": {
      "text/html": [
       "<pre>| 410     | 1h 0m        | 0.351877          | 0.266761                          | 0.00243242  |</pre>"
      ],
      "text/plain": [
       "| 410     | 1h 0m        | 0.351877          | 0.266761                          | 0.00243242  |"
      ]
     },
     "metadata": {},
     "output_type": "display_data"
    },
    {
     "data": {
      "text/html": [
       "<pre>| 411     | 1h 0m        | 0.35179           | 0.266663                          | 0.00243242  |</pre>"
      ],
      "text/plain": [
       "| 411     | 1h 0m        | 0.35179           | 0.266663                          | 0.00243242  |"
      ]
     },
     "metadata": {},
     "output_type": "display_data"
    },
    {
     "data": {
      "text/html": [
       "<pre>| 412     | 1h 0m        | 0.351733          | 0.266597                          | 0.00243242  |</pre>"
      ],
      "text/plain": [
       "| 412     | 1h 0m        | 0.351733          | 0.266597                          | 0.00243242  |"
      ]
     },
     "metadata": {},
     "output_type": "display_data"
    },
    {
     "data": {
      "text/html": [
       "<pre>| 413     | 1h 0m        | 0.351794          | 0.266472                          | 0.00243242  |</pre>"
      ],
      "text/plain": [
       "| 413     | 1h 0m        | 0.351794          | 0.266472                          | 0.00243242  |"
      ]
     },
     "metadata": {},
     "output_type": "display_data"
    },
    {
     "data": {
      "text/html": [
       "<pre>| 414     | 1h 0m        | 0.352092          | 0.266307                          | 0.00243242  |</pre>"
      ],
      "text/plain": [
       "| 414     | 1h 0m        | 0.352092          | 0.266307                          | 0.00243242  |"
      ]
     },
     "metadata": {},
     "output_type": "display_data"
    },
    {
     "data": {
      "text/html": [
       "<pre>| 415     | 1h 0m        | 0.351882          | 0.266129                          | 0.00243242  |</pre>"
      ],
      "text/plain": [
       "| 415     | 1h 0m        | 0.351882          | 0.266129                          | 0.00243242  |"
      ]
     },
     "metadata": {},
     "output_type": "display_data"
    },
    {
     "data": {
      "text/html": [
       "<pre>| 416     | 1h 0m        | 0.351837          | 0.266343                          | 0.00243242  |</pre>"
      ],
      "text/plain": [
       "| 416     | 1h 0m        | 0.351837          | 0.266343                          | 0.00243242  |"
      ]
     },
     "metadata": {},
     "output_type": "display_data"
    },
    {
     "data": {
      "text/html": [
       "<pre>| 417     | 1h 1m        | 0.351787          | 0.26647                           | 0.00243242  |</pre>"
      ],
      "text/plain": [
       "| 417     | 1h 1m        | 0.351787          | 0.26647                           | 0.00243242  |"
      ]
     },
     "metadata": {},
     "output_type": "display_data"
    },
    {
     "data": {
      "text/html": [
       "<pre>| 418     | 1h 1m        | 0.351476          | 0.266421                          | 0.00243242  |</pre>"
      ],
      "text/plain": [
       "| 418     | 1h 1m        | 0.351476          | 0.266421                          | 0.00243242  |"
      ]
     },
     "metadata": {},
     "output_type": "display_data"
    },
    {
     "data": {
      "text/html": [
       "<pre>| 419     | 1h 1m        | 0.351301          | 0.266465                          | 0.00243242  |</pre>"
      ],
      "text/plain": [
       "| 419     | 1h 1m        | 0.351301          | 0.266465                          | 0.00243242  |"
      ]
     },
     "metadata": {},
     "output_type": "display_data"
    },
    {
     "data": {
      "text/html": [
       "<pre>| 420     | 1h 1m        | 0.351356          | 0.266459                          | 0.00243242  |</pre>"
      ],
      "text/plain": [
       "| 420     | 1h 1m        | 0.351356          | 0.266459                          | 0.00243242  |"
      ]
     },
     "metadata": {},
     "output_type": "display_data"
    },
    {
     "data": {
      "text/html": [
       "<pre>| 421     | 1h 1m        | 0.351087          | 0.266294                          | 0.00243242  |</pre>"
      ],
      "text/plain": [
       "| 421     | 1h 1m        | 0.351087          | 0.266294                          | 0.00243242  |"
      ]
     },
     "metadata": {},
     "output_type": "display_data"
    },
    {
     "data": {
      "text/html": [
       "<pre>| 422     | 1h 1m        | 0.350896          | 0.266361                          | 0.00243242  |</pre>"
      ],
      "text/plain": [
       "| 422     | 1h 1m        | 0.350896          | 0.266361                          | 0.00243242  |"
      ]
     },
     "metadata": {},
     "output_type": "display_data"
    },
    {
     "data": {
      "text/html": [
       "<pre>| 423     | 1h 1m        | 0.350876          | 0.2664                            | 0.00243242  |</pre>"
      ],
      "text/plain": [
       "| 423     | 1h 1m        | 0.350876          | 0.2664                            | 0.00243242  |"
      ]
     },
     "metadata": {},
     "output_type": "display_data"
    },
    {
     "data": {
      "text/html": [
       "<pre>| 424     | 1h 1m        | 0.350899          | 0.266347                          | 0.00243242  |</pre>"
      ],
      "text/plain": [
       "| 424     | 1h 1m        | 0.350899          | 0.266347                          | 0.00243242  |"
      ]
     },
     "metadata": {},
     "output_type": "display_data"
    },
    {
     "data": {
      "text/html": [
       "<pre>| 425     | 1h 2m        | 0.350969          | 0.266262                          | 0.00243242  |</pre>"
      ],
      "text/plain": [
       "| 425     | 1h 2m        | 0.350969          | 0.266262                          | 0.00243242  |"
      ]
     },
     "metadata": {},
     "output_type": "display_data"
    },
    {
     "data": {
      "text/html": [
       "<pre>| 426     | 1h 2m        | 0.350776          | 0.266112                          | 0.00243242  |</pre>"
      ],
      "text/plain": [
       "| 426     | 1h 2m        | 0.350776          | 0.266112                          | 0.00243242  |"
      ]
     },
     "metadata": {},
     "output_type": "display_data"
    },
    {
     "data": {
      "text/html": [
       "<pre>| 427     | 1h 2m        | 0.350711          | 0.266047                          | 0.00243242  |</pre>"
      ],
      "text/plain": [
       "| 427     | 1h 2m        | 0.350711          | 0.266047                          | 0.00243242  |"
      ]
     },
     "metadata": {},
     "output_type": "display_data"
    },
    {
     "data": {
      "text/html": [
       "<pre>| 428     | 1h 2m        | 0.350617          | 0.266022                          | 0.00243242  |</pre>"
      ],
      "text/plain": [
       "| 428     | 1h 2m        | 0.350617          | 0.266022                          | 0.00243242  |"
      ]
     },
     "metadata": {},
     "output_type": "display_data"
    },
    {
     "data": {
      "text/html": [
       "<pre>| 429     | 1h 2m        | 0.350658          | 0.265983                          | 0.00243242  |</pre>"
      ],
      "text/plain": [
       "| 429     | 1h 2m        | 0.350658          | 0.265983                          | 0.00243242  |"
      ]
     },
     "metadata": {},
     "output_type": "display_data"
    },
    {
     "data": {
      "text/html": [
       "<pre>| 430     | 1h 2m        | 0.350558          | 0.265877                          | 0.00243242  |</pre>"
      ],
      "text/plain": [
       "| 430     | 1h 2m        | 0.350558          | 0.265877                          | 0.00243242  |"
      ]
     },
     "metadata": {},
     "output_type": "display_data"
    },
    {
     "data": {
      "text/html": [
       "<pre>| 431     | 1h 2m        | 0.350556          | 0.265778                          | 0.00243242  |</pre>"
      ],
      "text/plain": [
       "| 431     | 1h 2m        | 0.350556          | 0.265778                          | 0.00243242  |"
      ]
     },
     "metadata": {},
     "output_type": "display_data"
    },
    {
     "data": {
      "text/html": [
       "<pre>| 432     | 1h 3m        | 0.350447          | 0.265847                          | 0.00243242  |</pre>"
      ],
      "text/plain": [
       "| 432     | 1h 3m        | 0.350447          | 0.265847                          | 0.00243242  |"
      ]
     },
     "metadata": {},
     "output_type": "display_data"
    },
    {
     "data": {
      "text/html": [
       "<pre>| 433     | 1h 3m        | 0.350358          | 0.26582                           | 0.00243242  |</pre>"
      ],
      "text/plain": [
       "| 433     | 1h 3m        | 0.350358          | 0.26582                           | 0.00243242  |"
      ]
     },
     "metadata": {},
     "output_type": "display_data"
    },
    {
     "data": {
      "text/html": [
       "<pre>| 434     | 1h 3m        | 0.350183          | 0.265744                          | 0.00243242  |</pre>"
      ],
      "text/plain": [
       "| 434     | 1h 3m        | 0.350183          | 0.265744                          | 0.00243242  |"
      ]
     },
     "metadata": {},
     "output_type": "display_data"
    },
    {
     "data": {
      "text/html": [
       "<pre>| 435     | 1h 3m        | 0.350397          | 0.265799                          | 0.00243242  |</pre>"
      ],
      "text/plain": [
       "| 435     | 1h 3m        | 0.350397          | 0.265799                          | 0.00243242  |"
      ]
     },
     "metadata": {},
     "output_type": "display_data"
    },
    {
     "data": {
      "text/html": [
       "<pre>| 436     | 1h 3m        | 0.350263          | 0.265829                          | 0.00243242  |</pre>"
      ],
      "text/plain": [
       "| 436     | 1h 3m        | 0.350263          | 0.265829                          | 0.00243242  |"
      ]
     },
     "metadata": {},
     "output_type": "display_data"
    },
    {
     "data": {
      "text/html": [
       "<pre>| 437     | 1h 3m        | 0.350144          | 0.265836                          | 0.00243242  |</pre>"
      ],
      "text/plain": [
       "| 437     | 1h 3m        | 0.350144          | 0.265836                          | 0.00243242  |"
      ]
     },
     "metadata": {},
     "output_type": "display_data"
    },
    {
     "data": {
      "text/html": [
       "<pre>| 438     | 1h 3m        | 0.350096          | 0.26584                           | 0.00243242  |</pre>"
      ],
      "text/plain": [
       "| 438     | 1h 3m        | 0.350096          | 0.26584                           | 0.00243242  |"
      ]
     },
     "metadata": {},
     "output_type": "display_data"
    },
    {
     "data": {
      "text/html": [
       "<pre>| 439     | 1h 4m        | 0.349974          | 0.26572                           | 0.00243242  |</pre>"
      ],
      "text/plain": [
       "| 439     | 1h 4m        | 0.349974          | 0.26572                           | 0.00243242  |"
      ]
     },
     "metadata": {},
     "output_type": "display_data"
    },
    {
     "data": {
      "text/html": [
       "<pre>| 440     | 1h 4m        | 0.350032          | 0.265675                          | 0.00243242  |</pre>"
      ],
      "text/plain": [
       "| 440     | 1h 4m        | 0.350032          | 0.265675                          | 0.00243242  |"
      ]
     },
     "metadata": {},
     "output_type": "display_data"
    },
    {
     "data": {
      "text/html": [
       "<pre>| 441     | 1h 4m        | 0.350124          | 0.265648                          | 0.00243242  |</pre>"
      ],
      "text/plain": [
       "| 441     | 1h 4m        | 0.350124          | 0.265648                          | 0.00243242  |"
      ]
     },
     "metadata": {},
     "output_type": "display_data"
    },
    {
     "data": {
      "text/html": [
       "<pre>| 442     | 1h 4m        | 0.350334          | 0.265539                          | 0.00243242  |</pre>"
      ],
      "text/plain": [
       "| 442     | 1h 4m        | 0.350334          | 0.265539                          | 0.00243242  |"
      ]
     },
     "metadata": {},
     "output_type": "display_data"
    },
    {
     "data": {
      "text/html": [
       "<pre>| 443     | 1h 4m        | 0.349924          | 0.265568                          | 0.00243242  |</pre>"
      ],
      "text/plain": [
       "| 443     | 1h 4m        | 0.349924          | 0.265568                          | 0.00243242  |"
      ]
     },
     "metadata": {},
     "output_type": "display_data"
    },
    {
     "data": {
      "text/html": [
       "<pre>| 444     | 1h 4m        | 0.349731          | 0.265616                          | 0.00243242  |</pre>"
      ],
      "text/plain": [
       "| 444     | 1h 4m        | 0.349731          | 0.265616                          | 0.00243242  |"
      ]
     },
     "metadata": {},
     "output_type": "display_data"
    },
    {
     "data": {
      "text/html": [
       "<pre>| 445     | 1h 4m        | 0.349765          | 0.265567                          | 0.00243242  |</pre>"
      ],
      "text/plain": [
       "| 445     | 1h 4m        | 0.349765          | 0.265567                          | 0.00243242  |"
      ]
     },
     "metadata": {},
     "output_type": "display_data"
    },
    {
     "data": {
      "text/html": [
       "<pre>| 446     | 1h 5m        | 0.349802          | 0.265534                          | 0.00243242  |</pre>"
      ],
      "text/plain": [
       "| 446     | 1h 5m        | 0.349802          | 0.265534                          | 0.00243242  |"
      ]
     },
     "metadata": {},
     "output_type": "display_data"
    },
    {
     "data": {
      "text/html": [
       "<pre>| 447     | 1h 5m        | 0.349814          | 0.265351                          | 0.00243242  |</pre>"
      ],
      "text/plain": [
       "| 447     | 1h 5m        | 0.349814          | 0.265351                          | 0.00243242  |"
      ]
     },
     "metadata": {},
     "output_type": "display_data"
    },
    {
     "data": {
      "text/html": [
       "<pre>| 448     | 1h 5m        | 0.349662          | 0.26532                           | 0.00243242  |</pre>"
      ],
      "text/plain": [
       "| 448     | 1h 5m        | 0.349662          | 0.26532                           | 0.00243242  |"
      ]
     },
     "metadata": {},
     "output_type": "display_data"
    },
    {
     "data": {
      "text/html": [
       "<pre>| 449     | 1h 5m        | 0.349793          | 0.265225                          | 0.00243242  |</pre>"
      ],
      "text/plain": [
       "| 449     | 1h 5m        | 0.349793          | 0.265225                          | 0.00243242  |"
      ]
     },
     "metadata": {},
     "output_type": "display_data"
    },
    {
     "data": {
      "text/html": [
       "<pre>| 450     | 1h 5m        | 0.34973           | 0.26536                           | 0.00243242  |</pre>"
      ],
      "text/plain": [
       "| 450     | 1h 5m        | 0.34973           | 0.26536                           | 0.00243242  |"
      ]
     },
     "metadata": {},
     "output_type": "display_data"
    },
    {
     "data": {
      "text/html": [
       "<pre>| 451     | 1h 5m        | 0.349709          | 0.265321                          | 0.00243242  |</pre>"
      ],
      "text/plain": [
       "| 451     | 1h 5m        | 0.349709          | 0.265321                          | 0.00243242  |"
      ]
     },
     "metadata": {},
     "output_type": "display_data"
    },
    {
     "data": {
      "text/html": [
       "<pre>| 452     | 1h 5m        | 0.349317          | 0.265321                          | 0.00243242  |</pre>"
      ],
      "text/plain": [
       "| 452     | 1h 5m        | 0.349317          | 0.265321                          | 0.00243242  |"
      ]
     },
     "metadata": {},
     "output_type": "display_data"
    },
    {
     "data": {
      "text/html": [
       "<pre>| 453     | 1h 6m        | 0.349273          | 0.265198                          | 0.00243242  |</pre>"
      ],
      "text/plain": [
       "| 453     | 1h 6m        | 0.349273          | 0.265198                          | 0.00243242  |"
      ]
     },
     "metadata": {},
     "output_type": "display_data"
    },
    {
     "data": {
      "text/html": [
       "<pre>| 454     | 1h 6m        | 0.349032          | 0.265126                          | 0.00243242  |</pre>"
      ],
      "text/plain": [
       "| 454     | 1h 6m        | 0.349032          | 0.265126                          | 0.00243242  |"
      ]
     },
     "metadata": {},
     "output_type": "display_data"
    },
    {
     "data": {
      "text/html": [
       "<pre>| 455     | 1h 6m        | 0.349089          | 0.265213                          | 0.00243242  |</pre>"
      ],
      "text/plain": [
       "| 455     | 1h 6m        | 0.349089          | 0.265213                          | 0.00243242  |"
      ]
     },
     "metadata": {},
     "output_type": "display_data"
    },
    {
     "data": {
      "text/html": [
       "<pre>| 456     | 1h 6m        | 0.34886           | 0.264969                          | 0.00243242  |</pre>"
      ],
      "text/plain": [
       "| 456     | 1h 6m        | 0.34886           | 0.264969                          | 0.00243242  |"
      ]
     },
     "metadata": {},
     "output_type": "display_data"
    },
    {
     "data": {
      "text/html": [
       "<pre>| 457     | 1h 6m        | 0.348825          | 0.264911                          | 0.00243242  |</pre>"
      ],
      "text/plain": [
       "| 457     | 1h 6m        | 0.348825          | 0.264911                          | 0.00243242  |"
      ]
     },
     "metadata": {},
     "output_type": "display_data"
    },
    {
     "data": {
      "text/html": [
       "<pre>| 458     | 1h 6m        | 0.348879          | 0.264954                          | 0.00243242  |</pre>"
      ],
      "text/plain": [
       "| 458     | 1h 6m        | 0.348879          | 0.264954                          | 0.00243242  |"
      ]
     },
     "metadata": {},
     "output_type": "display_data"
    },
    {
     "data": {
      "text/html": [
       "<pre>| 459     | 1h 6m        | 0.34902           | 0.264932                          | 0.00243242  |</pre>"
      ],
      "text/plain": [
       "| 459     | 1h 6m        | 0.34902           | 0.264932                          | 0.00243242  |"
      ]
     },
     "metadata": {},
     "output_type": "display_data"
    },
    {
     "data": {
      "text/html": [
       "<pre>| 460     | 1h 7m        | 0.348972          | 0.264835                          | 0.00243242  |</pre>"
      ],
      "text/plain": [
       "| 460     | 1h 7m        | 0.348972          | 0.264835                          | 0.00243242  |"
      ]
     },
     "metadata": {},
     "output_type": "display_data"
    },
    {
     "data": {
      "text/html": [
       "<pre>| 461     | 1h 7m        | 0.348892          | 0.26482                           | 0.00243242  |</pre>"
      ],
      "text/plain": [
       "| 461     | 1h 7m        | 0.348892          | 0.26482                           | 0.00243242  |"
      ]
     },
     "metadata": {},
     "output_type": "display_data"
    },
    {
     "data": {
      "text/html": [
       "<pre>| 462     | 1h 7m        | 0.34872           | 0.264686                          | 0.00243242  |</pre>"
      ],
      "text/plain": [
       "| 462     | 1h 7m        | 0.34872           | 0.264686                          | 0.00243242  |"
      ]
     },
     "metadata": {},
     "output_type": "display_data"
    },
    {
     "data": {
      "text/html": [
       "<pre>| 463     | 1h 7m        | 0.348621          | 0.264567                          | 0.00243242  |</pre>"
      ],
      "text/plain": [
       "| 463     | 1h 7m        | 0.348621          | 0.264567                          | 0.00243242  |"
      ]
     },
     "metadata": {},
     "output_type": "display_data"
    },
    {
     "data": {
      "text/html": [
       "<pre>| 464     | 1h 7m        | 0.348729          | 0.264443                          | 0.00243242  |</pre>"
      ],
      "text/plain": [
       "| 464     | 1h 7m        | 0.348729          | 0.264443                          | 0.00243242  |"
      ]
     },
     "metadata": {},
     "output_type": "display_data"
    },
    {
     "data": {
      "text/html": [
       "<pre>| 465     | 1h 7m        | 0.348671          | 0.264319                          | 0.00243242  |</pre>"
      ],
      "text/plain": [
       "| 465     | 1h 7m        | 0.348671          | 0.264319                          | 0.00243242  |"
      ]
     },
     "metadata": {},
     "output_type": "display_data"
    },
    {
     "data": {
      "text/html": [
       "<pre>| 466     | 1h 7m        | 0.3484            | 0.26415                           | 0.00243242  |</pre>"
      ],
      "text/plain": [
       "| 466     | 1h 7m        | 0.3484            | 0.26415                           | 0.00243242  |"
      ]
     },
     "metadata": {},
     "output_type": "display_data"
    },
    {
     "data": {
      "text/html": [
       "<pre>| 467     | 1h 8m        | 0.348306          | 0.263912                          | 0.00243242  |</pre>"
      ],
      "text/plain": [
       "| 467     | 1h 8m        | 0.348306          | 0.263912                          | 0.00243242  |"
      ]
     },
     "metadata": {},
     "output_type": "display_data"
    },
    {
     "data": {
      "text/html": [
       "<pre>| 468     | 1h 8m        | 0.348409          | 0.263803                          | 0.00243242  |</pre>"
      ],
      "text/plain": [
       "| 468     | 1h 8m        | 0.348409          | 0.263803                          | 0.00243242  |"
      ]
     },
     "metadata": {},
     "output_type": "display_data"
    },
    {
     "data": {
      "text/html": [
       "<pre>| 469     | 1h 8m        | 0.34794           | 0.263387                          | 0.00243242  |</pre>"
      ],
      "text/plain": [
       "| 469     | 1h 8m        | 0.34794           | 0.263387                          | 0.00243242  |"
      ]
     },
     "metadata": {},
     "output_type": "display_data"
    },
    {
     "data": {
      "text/html": [
       "<pre>| 470     | 1h 8m        | 0.347763          | 0.263266                          | 0.00243242  |</pre>"
      ],
      "text/plain": [
       "| 470     | 1h 8m        | 0.347763          | 0.263266                          | 0.00243242  |"
      ]
     },
     "metadata": {},
     "output_type": "display_data"
    },
    {
     "data": {
      "text/html": [
       "<pre>| 471     | 1h 8m        | 0.347384          | 0.262975                          | 0.00243242  |</pre>"
      ],
      "text/plain": [
       "| 471     | 1h 8m        | 0.347384          | 0.262975                          | 0.00243242  |"
      ]
     },
     "metadata": {},
     "output_type": "display_data"
    },
    {
     "data": {
      "text/html": [
       "<pre>| 472     | 1h 8m        | 0.347207          | 0.262803                          | 0.00243242  |</pre>"
      ],
      "text/plain": [
       "| 472     | 1h 8m        | 0.347207          | 0.262803                          | 0.00243242  |"
      ]
     },
     "metadata": {},
     "output_type": "display_data"
    },
    {
     "data": {
      "text/html": [
       "<pre>| 473     | 1h 8m        | 0.347045          | 0.262565                          | 0.00243242  |</pre>"
      ],
      "text/plain": [
       "| 473     | 1h 8m        | 0.347045          | 0.262565                          | 0.00243242  |"
      ]
     },
     "metadata": {},
     "output_type": "display_data"
    },
    {
     "data": {
      "text/html": [
       "<pre>| 474     | 1h 9m        | 0.346986          | 0.262421                          | 0.00243242  |</pre>"
      ],
      "text/plain": [
       "| 474     | 1h 9m        | 0.346986          | 0.262421                          | 0.00243242  |"
      ]
     },
     "metadata": {},
     "output_type": "display_data"
    },
    {
     "data": {
      "text/html": [
       "<pre>| 475     | 1h 9m        | 0.346947          | 0.262308                          | 0.00243242  |</pre>"
      ],
      "text/plain": [
       "| 475     | 1h 9m        | 0.346947          | 0.262308                          | 0.00243242  |"
      ]
     },
     "metadata": {},
     "output_type": "display_data"
    },
    {
     "data": {
      "text/html": [
       "<pre>| 476     | 1h 9m        | 0.346883          | 0.262103                          | 0.00243242  |</pre>"
      ],
      "text/plain": [
       "| 476     | 1h 9m        | 0.346883          | 0.262103                          | 0.00243242  |"
      ]
     },
     "metadata": {},
     "output_type": "display_data"
    },
    {
     "data": {
      "text/html": [
       "<pre>| 477     | 1h 9m        | 0.346777          | 0.261951                          | 0.00243242  |</pre>"
      ],
      "text/plain": [
       "| 477     | 1h 9m        | 0.346777          | 0.261951                          | 0.00243242  |"
      ]
     },
     "metadata": {},
     "output_type": "display_data"
    },
    {
     "data": {
      "text/html": [
       "<pre>| 478     | 1h 9m        | 0.34676           | 0.261899                          | 0.00243242  |</pre>"
      ],
      "text/plain": [
       "| 478     | 1h 9m        | 0.34676           | 0.261899                          | 0.00243242  |"
      ]
     },
     "metadata": {},
     "output_type": "display_data"
    },
    {
     "data": {
      "text/html": [
       "<pre>| 479     | 1h 9m        | 0.346652          | 0.261797                          | 0.00243242  |</pre>"
      ],
      "text/plain": [
       "| 479     | 1h 9m        | 0.346652          | 0.261797                          | 0.00243242  |"
      ]
     },
     "metadata": {},
     "output_type": "display_data"
    },
    {
     "data": {
      "text/html": [
       "<pre>| 480     | 1h 10m       | 0.346459          | 0.261626                          | 0.00243242  |</pre>"
      ],
      "text/plain": [
       "| 480     | 1h 10m       | 0.346459          | 0.261626                          | 0.00243242  |"
      ]
     },
     "metadata": {},
     "output_type": "display_data"
    },
    {
     "data": {
      "text/html": [
       "<pre>| 481     | 1h 10m       | 0.346523          | 0.261558                          | 0.00243242  |</pre>"
      ],
      "text/plain": [
       "| 481     | 1h 10m       | 0.346523          | 0.261558                          | 0.00243242  |"
      ]
     },
     "metadata": {},
     "output_type": "display_data"
    },
    {
     "data": {
      "text/html": [
       "<pre>| 482     | 1h 10m       | 0.346392          | 0.261295                          | 0.00243242  |</pre>"
      ],
      "text/plain": [
       "| 482     | 1h 10m       | 0.346392          | 0.261295                          | 0.00243242  |"
      ]
     },
     "metadata": {},
     "output_type": "display_data"
    },
    {
     "data": {
      "text/html": [
       "<pre>| 483     | 1h 10m       | 0.34627           | 0.261309                          | 0.00243242  |</pre>"
      ],
      "text/plain": [
       "| 483     | 1h 10m       | 0.34627           | 0.261309                          | 0.00243242  |"
      ]
     },
     "metadata": {},
     "output_type": "display_data"
    },
    {
     "data": {
      "text/html": [
       "<pre>| 484     | 1h 10m       | 0.346231          | 0.261253                          | 0.00243242  |</pre>"
      ],
      "text/plain": [
       "| 484     | 1h 10m       | 0.346231          | 0.261253                          | 0.00243242  |"
      ]
     },
     "metadata": {},
     "output_type": "display_data"
    },
    {
     "data": {
      "text/html": [
       "<pre>| 485     | 1h 10m       | 0.346167          | 0.261171                          | 0.00243242  |</pre>"
      ],
      "text/plain": [
       "| 485     | 1h 10m       | 0.346167          | 0.261171                          | 0.00243242  |"
      ]
     },
     "metadata": {},
     "output_type": "display_data"
    },
    {
     "data": {
      "text/html": [
       "<pre>| 486     | 1h 10m       | 0.346115          | 0.261186                          | 0.00243242  |</pre>"
      ],
      "text/plain": [
       "| 486     | 1h 10m       | 0.346115          | 0.261186                          | 0.00243242  |"
      ]
     },
     "metadata": {},
     "output_type": "display_data"
    },
    {
     "data": {
      "text/html": [
       "<pre>| 487     | 1h 11m       | 0.346003          | 0.261117                          | 0.00243242  |</pre>"
      ],
      "text/plain": [
       "| 487     | 1h 11m       | 0.346003          | 0.261117                          | 0.00243242  |"
      ]
     },
     "metadata": {},
     "output_type": "display_data"
    },
    {
     "data": {
      "text/html": [
       "<pre>| 488     | 1h 11m       | 0.345918          | 0.2611                            | 0.00243242  |</pre>"
      ],
      "text/plain": [
       "| 488     | 1h 11m       | 0.345918          | 0.2611                            | 0.00243242  |"
      ]
     },
     "metadata": {},
     "output_type": "display_data"
    },
    {
     "data": {
      "text/html": [
       "<pre>| 489     | 1h 11m       | 0.345865          | 0.261054                          | 0.00243242  |</pre>"
      ],
      "text/plain": [
       "| 489     | 1h 11m       | 0.345865          | 0.261054                          | 0.00243242  |"
      ]
     },
     "metadata": {},
     "output_type": "display_data"
    },
    {
     "data": {
      "text/html": [
       "<pre>| 490     | 1h 11m       | 0.3459            | 0.261006                          | 0.00243242  |</pre>"
      ],
      "text/plain": [
       "| 490     | 1h 11m       | 0.3459            | 0.261006                          | 0.00243242  |"
      ]
     },
     "metadata": {},
     "output_type": "display_data"
    },
    {
     "data": {
      "text/html": [
       "<pre>| 491     | 1h 11m       | 0.345778          | 0.260987                          | 0.00243242  |</pre>"
      ],
      "text/plain": [
       "| 491     | 1h 11m       | 0.345778          | 0.260987                          | 0.00243242  |"
      ]
     },
     "metadata": {},
     "output_type": "display_data"
    },
    {
     "data": {
      "text/html": [
       "<pre>| 492     | 1h 11m       | 0.34587           | 0.261009                          | 0.00243242  |</pre>"
      ],
      "text/plain": [
       "| 492     | 1h 11m       | 0.34587           | 0.261009                          | 0.00243242  |"
      ]
     },
     "metadata": {},
     "output_type": "display_data"
    },
    {
     "data": {
      "text/html": [
       "<pre>| 493     | 1h 11m       | 0.345686          | 0.260883                          | 0.00243242  |</pre>"
      ],
      "text/plain": [
       "| 493     | 1h 11m       | 0.345686          | 0.260883                          | 0.00243242  |"
      ]
     },
     "metadata": {},
     "output_type": "display_data"
    },
    {
     "data": {
      "text/html": [
       "<pre>| 494     | 1h 11m       | 0.345552          | 0.260801                          | 0.00243242  |</pre>"
      ],
      "text/plain": [
       "| 494     | 1h 11m       | 0.345552          | 0.260801                          | 0.00243242  |"
      ]
     },
     "metadata": {},
     "output_type": "display_data"
    },
    {
     "data": {
      "text/html": [
       "<pre>| 495     | 1h 12m       | 0.345601          | 0.260786                          | 0.00243242  |</pre>"
      ],
      "text/plain": [
       "| 495     | 1h 12m       | 0.345601          | 0.260786                          | 0.00243242  |"
      ]
     },
     "metadata": {},
     "output_type": "display_data"
    },
    {
     "data": {
      "text/html": [
       "<pre>| 496     | 1h 12m       | 0.345648          | 0.260717                          | 0.00243242  |</pre>"
      ],
      "text/plain": [
       "| 496     | 1h 12m       | 0.345648          | 0.260717                          | 0.00243242  |"
      ]
     },
     "metadata": {},
     "output_type": "display_data"
    },
    {
     "data": {
      "text/html": [
       "<pre>| 497     | 1h 12m       | 0.345659          | 0.260699                          | 0.00243242  |</pre>"
      ],
      "text/plain": [
       "| 497     | 1h 12m       | 0.345659          | 0.260699                          | 0.00243242  |"
      ]
     },
     "metadata": {},
     "output_type": "display_data"
    },
    {
     "data": {
      "text/html": [
       "<pre>| 498     | 1h 12m       | 0.345589          | 0.26062                           | 0.00243242  |</pre>"
      ],
      "text/plain": [
       "| 498     | 1h 12m       | 0.345589          | 0.26062                           | 0.00243242  |"
      ]
     },
     "metadata": {},
     "output_type": "display_data"
    },
    {
     "data": {
      "text/html": [
       "<pre>| 499     | 1h 12m       | 0.345396          | 0.260524                          | 0.00243242  |</pre>"
      ],
      "text/plain": [
       "| 499     | 1h 12m       | 0.345396          | 0.260524                          | 0.00243242  |"
      ]
     },
     "metadata": {},
     "output_type": "display_data"
    },
    {
     "data": {
      "text/html": [
       "<pre>| 500     | 1h 12m       | 0.34538           | 0.260513                          | 0.00243242  |</pre>"
      ],
      "text/plain": [
       "| 500     | 1h 12m       | 0.34538           | 0.260513                          | 0.00243242  |"
      ]
     },
     "metadata": {},
     "output_type": "display_data"
    },
    {
     "data": {
      "text/html": [
       "<pre>+---------+--------------+-------------------+-----------------------------------+-------------+</pre>"
      ],
      "text/plain": [
       "+---------+--------------+-------------------+-----------------------------------+-------------+"
      ]
     },
     "metadata": {},
     "output_type": "display_data"
    },
    {
     "data": {
      "text/html": [
       "<pre>Optimization Complete: Maximum number of passes through the data reached.</pre>"
      ],
      "text/plain": [
       "Optimization Complete: Maximum number of passes through the data reached."
      ]
     },
     "metadata": {},
     "output_type": "display_data"
    },
    {
     "data": {
      "text/html": [
       "<pre>Computing final objective value and training Predictive Error.</pre>"
      ],
      "text/plain": [
       "Computing final objective value and training Predictive Error."
      ]
     },
     "metadata": {},
     "output_type": "display_data"
    },
    {
     "data": {
      "text/html": [
       "<pre>       Final objective value: 0.349666</pre>"
      ],
      "text/plain": [
       "       Final objective value: 0.349666"
      ]
     },
     "metadata": {},
     "output_type": "display_data"
    },
    {
     "data": {
      "text/html": [
       "<pre>       Final training Predictive Error: 0.2654</pre>"
      ],
      "text/plain": [
       "       Final training Predictive Error: 0.2654"
      ]
     },
     "metadata": {},
     "output_type": "display_data"
    }
   ],
   "source": [
    "m = gl.recommender.ranking_factorization_recommender.create(first_train_gl,user_id='uid',item_id='qid',\n",
    "                                                            user_data=first_user_data,item_data=first_item_data,\n",
    "                                                            target='label',\n",
    "                                                            num_sampled_negative_examples =50,\n",
    "                                                            max_iterations=500,solver='auto',\n",
    "                                                            binary_target=True,\n",
    "                                                            linear_regularization =0.004,regularization =0.004,\n",
    "                                                            side_data_factorization =True,\n",
    "                                                            ranking_regularization =0.004,\n",
    "                                                            num_factors=256,                      \n",
    "                                                            unobserved_rating_value =0,\n",
    "                                                            random_seed=500 )\n",
    "m.save('rk_first_ensemble.model')"
   ]
  },
  {
   "cell_type": "code",
   "execution_count": 8,
   "metadata": {
    "collapsed": false
   },
   "outputs": [],
   "source": [
    "m.save('rk_ensemble/rk_first_ensemble.model')"
   ]
  },
  {
   "cell_type": "code",
   "execution_count": 13,
   "metadata": {
    "collapsed": false
   },
   "outputs": [],
   "source": [
    "first_validate_user_data =val_1117[['uid','huidalv']] \n",
    "first_validate_item_data =val_1117[['qid','q_label','q_sp']] "
   ]
  },
  {
   "cell_type": "code",
   "execution_count": 10,
   "metadata": {
    "collapsed": false
   },
   "outputs": [],
   "source": [
    "first_recs = m.predict(first_validate_gl,new_user_data=first_validate_user_data,new_item_data=first_validate_item_data)"
   ]
  },
  {
   "cell_type": "code",
   "execution_count": 11,
   "metadata": {
    "collapsed": false
   },
   "outputs": [
    {
     "data": {
      "text/plain": [
       "dtype: float\n",
       "Rows: 41757\n",
       "[0.04914999528173126, 0.049091173669357856, 0.0486324773757944, 0.0491500307535573, 0.048555295032949655, 0.06450184183595885, 0.049251520781451646, 0.04917936951766042, 0.06437986183415505, 0.04863256050988916, 0.05721055928156425, 0.04913750967770144, 0.04920842030496128, 0.08380890961576164, 0.047625166748866125, 0.04815718528370682, 0.0850552668632812, 0.0475671906424089, 0.04922120508592511, 0.08520165650192948, 0.04916086422714607, 0.05877325466127512, 0.04909133371863656, 0.04905114862063865, 0.04914269678272416, 0.06109595552992069, 0.04910284457578231, 0.04840901824367264, 0.13860464611990836, 0.053363022248492376, 0.054185517854399165, 0.07654235596264451, 0.04793230296690055, 0.05669455418302484, 0.06259613122500784, 0.05397448073646139, 0.04848089548034804, 0.11648652205944439, 0.048169122790486664, 0.05784529583799431, 0.04913695996282573, 0.07114945202864713, 0.04908048263196056, 0.06866762372101379, 0.04912835982969716, 0.04909548881980265, 0.04833482575746155, 0.10158782186019792, 0.047848641858453354, 0.048781893457435214, 0.047918261064093, 0.11677783400653104, 0.04914520295995133, 0.04927043141770311, 0.12427937510170024, 0.049088511404267295, 0.11714176932537447, 0.05508941779568873, 0.04915415417546968, 0.07404399011477729, 0.12170721342205064, 0.055956020866031596, 0.04912692450648008, 0.04915525681270533, 0.047392498858375424, 0.048695909246299206, 0.048574191444222585, 0.048946646266654494, 0.04908161786632572, 0.04852296331713833, 0.04904458169478976, 0.047563532985187715, 0.04779724465240035, 0.049209649056820945, 0.049144732009402524, 0.049078386922033056, 0.048083440122178786, 0.09987725636753543, 0.04923158772686211, 0.04925588213759025, 0.06865001092309192, 0.05846207700219737, 0.05338637953717799, 0.048724564348010105, 0.04916376446278008, 0.0482046901384179, 0.049088062953342095, 0.0490634087653719, 0.04918401789461925, 0.048413712299786714, 0.04914667358123707, 0.05075068578983252, 0.08353990233968522, 0.04866234199204275, 0.14386898995134334, 0.04915050578338803, 0.04823097607076207, 0.08667251746455008, 0.04915577479826517, 0.04808373150627822, ... ]"
      ]
     },
     "execution_count": 11,
     "metadata": {},
     "output_type": "execute_result"
    }
   ],
   "source": [
    "first_recs"
   ]
  },
  {
   "cell_type": "code",
   "execution_count": 14,
   "metadata": {
    "collapsed": false
   },
   "outputs": [
    {
     "data": {
      "text/html": [
       "<div style=\"max-height:1000px;max-width:1500px;overflow:auto;\"><table frame=\"box\" rules=\"cols\">\n",
       "    <tr>\n",
       "        <th style=\"padding-left: 1em; padding-right: 1em; text-align: center\">X1</th>\n",
       "        <th style=\"padding-left: 1em; padding-right: 1em; text-align: center\">qid</th>\n",
       "        <th style=\"padding-left: 1em; padding-right: 1em; text-align: center\">uid</th>\n",
       "        <th style=\"padding-left: 1em; padding-right: 1em; text-align: center\">label</th>\n",
       "        <th style=\"padding-left: 1em; padding-right: 1em; text-align: center\">zj_answers</th>\n",
       "        <th style=\"padding-left: 1em; padding-right: 1em; text-align: center\">zj_tuisong</th>\n",
       "        <th style=\"padding-left: 1em; padding-right: 1em; text-align: center\">zj_q_label_answers</th>\n",
       "    </tr>\n",
       "    <tr>\n",
       "        <td style=\"padding-left: 1em; padding-right: 1em; text-align: center; vertical-align: top\">214368</td>\n",
       "        <td style=\"padding-left: 1em; padding-right: 1em; text-align: center; vertical-align: top\">42397911dd1971d18188d81e8<br>ed83239 ...</td>\n",
       "        <td style=\"padding-left: 1em; padding-right: 1em; text-align: center; vertical-align: top\">d70980ddb697c82dde0ca045a<br>74d2196 ...</td>\n",
       "        <td style=\"padding-left: 1em; padding-right: 1em; text-align: center; vertical-align: top\">0</td>\n",
       "        <td style=\"padding-left: 1em; padding-right: 1em; text-align: center; vertical-align: top\">0.0</td>\n",
       "        <td style=\"padding-left: 1em; padding-right: 1em; text-align: center; vertical-align: top\">0.236363636</td>\n",
       "        <td style=\"padding-left: 1em; padding-right: 1em; text-align: center; vertical-align: top\">0.0</td>\n",
       "    </tr>\n",
       "    <tr>\n",
       "        <td style=\"padding-left: 1em; padding-right: 1em; text-align: center; vertical-align: top\">157852</td>\n",
       "        <td style=\"padding-left: 1em; padding-right: 1em; text-align: center; vertical-align: top\">53c32d0d606dcbcf00a9ff4db<br>23c2286 ...</td>\n",
       "        <td style=\"padding-left: 1em; padding-right: 1em; text-align: center; vertical-align: top\">8f86d63f981fa1124425f7dd9<br>fc31964 ...</td>\n",
       "        <td style=\"padding-left: 1em; padding-right: 1em; text-align: center; vertical-align: top\">0</td>\n",
       "        <td style=\"padding-left: 1em; padding-right: 1em; text-align: center; vertical-align: top\">0.0</td>\n",
       "        <td style=\"padding-left: 1em; padding-right: 1em; text-align: center; vertical-align: top\">0.127272727</td>\n",
       "        <td style=\"padding-left: 1em; padding-right: 1em; text-align: center; vertical-align: top\">0.0</td>\n",
       "    </tr>\n",
       "    <tr>\n",
       "        <td style=\"padding-left: 1em; padding-right: 1em; text-align: center; vertical-align: top\">92754</td>\n",
       "        <td style=\"padding-left: 1em; padding-right: 1em; text-align: center; vertical-align: top\">70a388511a6dd3ad4b9f7b007<br>138f8b0 ...</td>\n",
       "        <td style=\"padding-left: 1em; padding-right: 1em; text-align: center; vertical-align: top\">25c275344e94527121b68341a<br>9b2a426 ...</td>\n",
       "        <td style=\"padding-left: 1em; padding-right: 1em; text-align: center; vertical-align: top\">0</td>\n",
       "        <td style=\"padding-left: 1em; padding-right: 1em; text-align: center; vertical-align: top\">0.0</td>\n",
       "        <td style=\"padding-left: 1em; padding-right: 1em; text-align: center; vertical-align: top\">0.536363636</td>\n",
       "        <td style=\"padding-left: 1em; padding-right: 1em; text-align: center; vertical-align: top\">0.0</td>\n",
       "    </tr>\n",
       "    <tr>\n",
       "        <td style=\"padding-left: 1em; padding-right: 1em; text-align: center; vertical-align: top\">218754</td>\n",
       "        <td style=\"padding-left: 1em; padding-right: 1em; text-align: center; vertical-align: top\">2488e4ce88d866957e67b1f58<br>6dcab20 ...</td>\n",
       "        <td style=\"padding-left: 1em; padding-right: 1em; text-align: center; vertical-align: top\">676174a6480a4b380b157e1a1<br>c5ff11c ...</td>\n",
       "        <td style=\"padding-left: 1em; padding-right: 1em; text-align: center; vertical-align: top\">0</td>\n",
       "        <td style=\"padding-left: 1em; padding-right: 1em; text-align: center; vertical-align: top\">0.0</td>\n",
       "        <td style=\"padding-left: 1em; padding-right: 1em; text-align: center; vertical-align: top\">0.072727273</td>\n",
       "        <td style=\"padding-left: 1em; padding-right: 1em; text-align: center; vertical-align: top\">0.0</td>\n",
       "    </tr>\n",
       "    <tr>\n",
       "        <td style=\"padding-left: 1em; padding-right: 1em; text-align: center; vertical-align: top\">27298</td>\n",
       "        <td style=\"padding-left: 1em; padding-right: 1em; text-align: center; vertical-align: top\">19a80e0ddde0a880c45b6606b<br>9f2cae9 ...</td>\n",
       "        <td style=\"padding-left: 1em; padding-right: 1em; text-align: center; vertical-align: top\">b1d6afc9eddcbc93c5aee8c45<br>6bdfe27 ...</td>\n",
       "        <td style=\"padding-left: 1em; padding-right: 1em; text-align: center; vertical-align: top\">0</td>\n",
       "        <td style=\"padding-left: 1em; padding-right: 1em; text-align: center; vertical-align: top\">0.0</td>\n",
       "        <td style=\"padding-left: 1em; padding-right: 1em; text-align: center; vertical-align: top\">0.327272727</td>\n",
       "        <td style=\"padding-left: 1em; padding-right: 1em; text-align: center; vertical-align: top\">0.0</td>\n",
       "    </tr>\n",
       "    <tr>\n",
       "        <td style=\"padding-left: 1em; padding-right: 1em; text-align: center; vertical-align: top\">136800</td>\n",
       "        <td style=\"padding-left: 1em; padding-right: 1em; text-align: center; vertical-align: top\">9e3142abcaf30ef91dfae12d3<br>64186a0 ...</td>\n",
       "        <td style=\"padding-left: 1em; padding-right: 1em; text-align: center; vertical-align: top\">057edf8ffbed776f1f8118d03<br>c427e08 ...</td>\n",
       "        <td style=\"padding-left: 1em; padding-right: 1em; text-align: center; vertical-align: top\">0</td>\n",
       "        <td style=\"padding-left: 1em; padding-right: 1em; text-align: center; vertical-align: top\">0.055555556</td>\n",
       "        <td style=\"padding-left: 1em; padding-right: 1em; text-align: center; vertical-align: top\">0.372727273</td>\n",
       "        <td style=\"padding-left: 1em; padding-right: 1em; text-align: center; vertical-align: top\">0.055555556</td>\n",
       "    </tr>\n",
       "    <tr>\n",
       "        <td style=\"padding-left: 1em; padding-right: 1em; text-align: center; vertical-align: top\">111128</td>\n",
       "        <td style=\"padding-left: 1em; padding-right: 1em; text-align: center; vertical-align: top\">6dd3cb1333adc6ddc9118e66b<br>de0fe7d ...</td>\n",
       "        <td style=\"padding-left: 1em; padding-right: 1em; text-align: center; vertical-align: top\">fe3fd2508d5918d9506d0feb6<br>9b34a7f ...</td>\n",
       "        <td style=\"padding-left: 1em; padding-right: 1em; text-align: center; vertical-align: top\">0</td>\n",
       "        <td style=\"padding-left: 1em; padding-right: 1em; text-align: center; vertical-align: top\">0.0</td>\n",
       "        <td style=\"padding-left: 1em; padding-right: 1em; text-align: center; vertical-align: top\">0.009090909</td>\n",
       "        <td style=\"padding-left: 1em; padding-right: 1em; text-align: center; vertical-align: top\">0.0</td>\n",
       "    </tr>\n",
       "    <tr>\n",
       "        <td style=\"padding-left: 1em; padding-right: 1em; text-align: center; vertical-align: top\">246623</td>\n",
       "        <td style=\"padding-left: 1em; padding-right: 1em; text-align: center; vertical-align: top\">e078aa89e4e1403b7942adc69<br>85c146e ...</td>\n",
       "        <td style=\"padding-left: 1em; padding-right: 1em; text-align: center; vertical-align: top\">bdcaac9218493d48460eb3321<br>0381ada ...</td>\n",
       "        <td style=\"padding-left: 1em; padding-right: 1em; text-align: center; vertical-align: top\">0</td>\n",
       "        <td style=\"padding-left: 1em; padding-right: 1em; text-align: center; vertical-align: top\">0.0</td>\n",
       "        <td style=\"padding-left: 1em; padding-right: 1em; text-align: center; vertical-align: top\">0.109090909</td>\n",
       "        <td style=\"padding-left: 1em; padding-right: 1em; text-align: center; vertical-align: top\">0.0</td>\n",
       "    </tr>\n",
       "    <tr>\n",
       "        <td style=\"padding-left: 1em; padding-right: 1em; text-align: center; vertical-align: top\">20929</td>\n",
       "        <td style=\"padding-left: 1em; padding-right: 1em; text-align: center; vertical-align: top\">768022a60b263c6943b2b8aae<br>6cbe53f ...</td>\n",
       "        <td style=\"padding-left: 1em; padding-right: 1em; text-align: center; vertical-align: top\">6055c3e9b80b9ce4b00c00460<br>3af37bd ...</td>\n",
       "        <td style=\"padding-left: 1em; padding-right: 1em; text-align: center; vertical-align: top\">0</td>\n",
       "        <td style=\"padding-left: 1em; padding-right: 1em; text-align: center; vertical-align: top\">0.011111111</td>\n",
       "        <td style=\"padding-left: 1em; padding-right: 1em; text-align: center; vertical-align: top\">0.072727273</td>\n",
       "        <td style=\"padding-left: 1em; padding-right: 1em; text-align: center; vertical-align: top\">0.011111111</td>\n",
       "    </tr>\n",
       "    <tr>\n",
       "        <td style=\"padding-left: 1em; padding-right: 1em; text-align: center; vertical-align: top\">119320</td>\n",
       "        <td style=\"padding-left: 1em; padding-right: 1em; text-align: center; vertical-align: top\">9a9867d0ecdf6a3df385265db<br>336242e ...</td>\n",
       "        <td style=\"padding-left: 1em; padding-right: 1em; text-align: center; vertical-align: top\">c8955c0328ea8495c0c03ee53<br>4544c6e ...</td>\n",
       "        <td style=\"padding-left: 1em; padding-right: 1em; text-align: center; vertical-align: top\">0</td>\n",
       "        <td style=\"padding-left: 1em; padding-right: 1em; text-align: center; vertical-align: top\">0.0</td>\n",
       "        <td style=\"padding-left: 1em; padding-right: 1em; text-align: center; vertical-align: top\">0.172727273</td>\n",
       "        <td style=\"padding-left: 1em; padding-right: 1em; text-align: center; vertical-align: top\">0.0</td>\n",
       "    </tr>\n",
       "</table>\n",
       "<table frame=\"box\" rules=\"cols\">\n",
       "    <tr>\n",
       "        <th style=\"padding-left: 1em; padding-right: 1em; text-align: center\">zj_q_label_tuisong</th>\n",
       "        <th style=\"padding-left: 1em; padding-right: 1em; text-align: center\">huidalv</th>\n",
       "        <th style=\"padding-left: 1em; padding-right: 1em; text-align: center\">label_huidalv</th>\n",
       "        <th style=\"padding-left: 1em; padding-right: 1em; text-align: center\">huidabi</th>\n",
       "        <th style=\"padding-left: 1em; padding-right: 1em; text-align: center\">huidalvbi</th>\n",
       "        <th style=\"padding-left: 1em; padding-right: 1em; text-align: center\">q_label</th>\n",
       "        <th style=\"padding-left: 1em; padding-right: 1em; text-align: center\">zj_label</th>\n",
       "        <th style=\"padding-left: 1em; padding-right: 1em; text-align: center\">q_hot</th>\n",
       "        <th style=\"padding-left: 1em; padding-right: 1em; text-align: center\">q_sp</th>\n",
       "    </tr>\n",
       "    <tr>\n",
       "        <td style=\"padding-left: 1em; padding-right: 1em; text-align: center; vertical-align: top\">0.227272727</td>\n",
       "        <td style=\"padding-left: 1em; padding-right: 1em; text-align: center; vertical-align: top\">0.0</td>\n",
       "        <td style=\"padding-left: 1em; padding-right: 1em; text-align: center; vertical-align: top\">0.0</td>\n",
       "        <td style=\"padding-left: 1em; padding-right: 1em; text-align: center; vertical-align: top\">0.0</td>\n",
       "        <td style=\"padding-left: 1em; padding-right: 1em; text-align: center; vertical-align: top\">0.0</td>\n",
       "        <td style=\"padding-left: 1em; padding-right: 1em; text-align: center; vertical-align: top\">ql2</td>\n",
       "        <td style=\"padding-left: 1em; padding-right: 1em; text-align: center; vertical-align: top\">39/41</td>\n",
       "        <td style=\"padding-left: 1em; padding-right: 1em; text-align: center; vertical-align: top\">hot5</td>\n",
       "        <td style=\"padding-left: 1em; padding-right: 1em; text-align: center; vertical-align: top\">0.008</td>\n",
       "    </tr>\n",
       "    <tr>\n",
       "        <td style=\"padding-left: 1em; padding-right: 1em; text-align: center; vertical-align: top\">0.118181818</td>\n",
       "        <td style=\"padding-left: 1em; padding-right: 1em; text-align: center; vertical-align: top\">0.0</td>\n",
       "        <td style=\"padding-left: 1em; padding-right: 1em; text-align: center; vertical-align: top\">0.0</td>\n",
       "        <td style=\"padding-left: 1em; padding-right: 1em; text-align: center; vertical-align: top\">0.0</td>\n",
       "        <td style=\"padding-left: 1em; padding-right: 1em; text-align: center; vertical-align: top\">0.0</td>\n",
       "        <td style=\"padding-left: 1em; padding-right: 1em; text-align: center; vertical-align: top\">ql11</td>\n",
       "        <td style=\"padding-left: 1em; padding-right: 1em; text-align: center; vertical-align: top\">51/53</td>\n",
       "        <td style=\"padding-left: 1em; padding-right: 1em; text-align: center; vertical-align: top\">hot5</td>\n",
       "        <td style=\"padding-left: 1em; padding-right: 1em; text-align: center; vertical-align: top\">0.01</td>\n",
       "    </tr>\n",
       "    <tr>\n",
       "        <td style=\"padding-left: 1em; padding-right: 1em; text-align: center; vertical-align: top\">0.536363636</td>\n",
       "        <td style=\"padding-left: 1em; padding-right: 1em; text-align: center; vertical-align: top\">0.0</td>\n",
       "        <td style=\"padding-left: 1em; padding-right: 1em; text-align: center; vertical-align: top\">0.0</td>\n",
       "        <td style=\"padding-left: 1em; padding-right: 1em; text-align: center; vertical-align: top\">0.0</td>\n",
       "        <td style=\"padding-left: 1em; padding-right: 1em; text-align: center; vertical-align: top\">0.0</td>\n",
       "        <td style=\"padding-left: 1em; padding-right: 1em; text-align: center; vertical-align: top\">ql8</td>\n",
       "        <td style=\"padding-left: 1em; padding-right: 1em; text-align: center; vertical-align: top\">48/49/61/98</td>\n",
       "        <td style=\"padding-left: 1em; padding-right: 1em; text-align: center; vertical-align: top\">hot3</td>\n",
       "        <td style=\"padding-left: 1em; padding-right: 1em; text-align: center; vertical-align: top\">0.024</td>\n",
       "    </tr>\n",
       "    <tr>\n",
       "        <td style=\"padding-left: 1em; padding-right: 1em; text-align: center; vertical-align: top\">0.054545455</td>\n",
       "        <td style=\"padding-left: 1em; padding-right: 1em; text-align: center; vertical-align: top\">0.0</td>\n",
       "        <td style=\"padding-left: 1em; padding-right: 1em; text-align: center; vertical-align: top\">0.0</td>\n",
       "        <td style=\"padding-left: 1em; padding-right: 1em; text-align: center; vertical-align: top\">0.0</td>\n",
       "        <td style=\"padding-left: 1em; padding-right: 1em; text-align: center; vertical-align: top\">0.0</td>\n",
       "        <td style=\"padding-left: 1em; padding-right: 1em; text-align: center; vertical-align: top\">ql15</td>\n",
       "        <td style=\"padding-left: 1em; padding-right: 1em; text-align: center; vertical-align: top\">21</td>\n",
       "        <td style=\"padding-left: 1em; padding-right: 1em; text-align: center; vertical-align: top\">hot5</td>\n",
       "        <td style=\"padding-left: 1em; padding-right: 1em; text-align: center; vertical-align: top\">0.01</td>\n",
       "    </tr>\n",
       "    <tr>\n",
       "        <td style=\"padding-left: 1em; padding-right: 1em; text-align: center; vertical-align: top\">0.318181818</td>\n",
       "        <td style=\"padding-left: 1em; padding-right: 1em; text-align: center; vertical-align: top\">0.0</td>\n",
       "        <td style=\"padding-left: 1em; padding-right: 1em; text-align: center; vertical-align: top\">0.0</td>\n",
       "        <td style=\"padding-left: 1em; padding-right: 1em; text-align: center; vertical-align: top\">0.0</td>\n",
       "        <td style=\"padding-left: 1em; padding-right: 1em; text-align: center; vertical-align: top\">0.0</td>\n",
       "        <td style=\"padding-left: 1em; padding-right: 1em; text-align: center; vertical-align: top\">ql8</td>\n",
       "        <td style=\"padding-left: 1em; padding-right: 1em; text-align: center; vertical-align: top\">48/49/64/50</td>\n",
       "        <td style=\"padding-left: 1em; padding-right: 1em; text-align: center; vertical-align: top\">hot2</td>\n",
       "        <td style=\"padding-left: 1em; padding-right: 1em; text-align: center; vertical-align: top\">0.032</td>\n",
       "    </tr>\n",
       "    <tr>\n",
       "        <td style=\"padding-left: 1em; padding-right: 1em; text-align: center; vertical-align: top\">0.372727273</td>\n",
       "        <td style=\"padding-left: 1em; padding-right: 1em; text-align: center; vertical-align: top\">0.12195122</td>\n",
       "        <td style=\"padding-left: 1em; padding-right: 1em; text-align: center; vertical-align: top\">0.12195122</td>\n",
       "        <td style=\"padding-left: 1em; padding-right: 1em; text-align: center; vertical-align: top\">1.0</td>\n",
       "        <td style=\"padding-left: 1em; padding-right: 1em; text-align: center; vertical-align: top\">1.0</td>\n",
       "        <td style=\"padding-left: 1em; padding-right: 1em; text-align: center; vertical-align: top\">ql8</td>\n",
       "        <td style=\"padding-left: 1em; padding-right: 1em; text-align: center; vertical-align: top\">0</td>\n",
       "        <td style=\"padding-left: 1em; padding-right: 1em; text-align: center; vertical-align: top\">hot1</td>\n",
       "        <td style=\"padding-left: 1em; padding-right: 1em; text-align: center; vertical-align: top\">0.15</td>\n",
       "    </tr>\n",
       "    <tr>\n",
       "        <td style=\"padding-left: 1em; padding-right: 1em; text-align: center; vertical-align: top\">0.009090909</td>\n",
       "        <td style=\"padding-left: 1em; padding-right: 1em; text-align: center; vertical-align: top\">0.0</td>\n",
       "        <td style=\"padding-left: 1em; padding-right: 1em; text-align: center; vertical-align: top\">0.0</td>\n",
       "        <td style=\"padding-left: 1em; padding-right: 1em; text-align: center; vertical-align: top\">0.0</td>\n",
       "        <td style=\"padding-left: 1em; padding-right: 1em; text-align: center; vertical-align: top\">0.0</td>\n",
       "        <td style=\"padding-left: 1em; padding-right: 1em; text-align: center; vertical-align: top\">ql8</td>\n",
       "        <td style=\"padding-left: 1em; padding-right: 1em; text-align: center; vertical-align: top\">48/98</td>\n",
       "        <td style=\"padding-left: 1em; padding-right: 1em; text-align: center; vertical-align: top\">hot3</td>\n",
       "        <td style=\"padding-left: 1em; padding-right: 1em; text-align: center; vertical-align: top\">0.024</td>\n",
       "    </tr>\n",
       "    <tr>\n",
       "        <td style=\"padding-left: 1em; padding-right: 1em; text-align: center; vertical-align: top\">0.109090909</td>\n",
       "        <td style=\"padding-left: 1em; padding-right: 1em; text-align: center; vertical-align: top\">0.0</td>\n",
       "        <td style=\"padding-left: 1em; padding-right: 1em; text-align: center; vertical-align: top\">0.0</td>\n",
       "        <td style=\"padding-left: 1em; padding-right: 1em; text-align: center; vertical-align: top\">0.0</td>\n",
       "        <td style=\"padding-left: 1em; padding-right: 1em; text-align: center; vertical-align: top\">0.0</td>\n",
       "        <td style=\"padding-left: 1em; padding-right: 1em; text-align: center; vertical-align: top\">ql8</td>\n",
       "        <td style=\"padding-left: 1em; padding-right: 1em; text-align: center; vertical-align: top\">48/49/64/61</td>\n",
       "        <td style=\"padding-left: 1em; padding-right: 1em; text-align: center; vertical-align: top\">hot2</td>\n",
       "        <td style=\"padding-left: 1em; padding-right: 1em; text-align: center; vertical-align: top\">0.058</td>\n",
       "    </tr>\n",
       "    <tr>\n",
       "        <td style=\"padding-left: 1em; padding-right: 1em; text-align: center; vertical-align: top\">0.072727273</td>\n",
       "        <td style=\"padding-left: 1em; padding-right: 1em; text-align: center; vertical-align: top\">0.125</td>\n",
       "        <td style=\"padding-left: 1em; padding-right: 1em; text-align: center; vertical-align: top\">0.125</td>\n",
       "        <td style=\"padding-left: 1em; padding-right: 1em; text-align: center; vertical-align: top\">1.0</td>\n",
       "        <td style=\"padding-left: 1em; padding-right: 1em; text-align: center; vertical-align: top\">1.0</td>\n",
       "        <td style=\"padding-left: 1em; padding-right: 1em; text-align: center; vertical-align: top\">ql3</td>\n",
       "        <td style=\"padding-left: 1em; padding-right: 1em; text-align: center; vertical-align: top\">18/19/20</td>\n",
       "        <td style=\"padding-left: 1em; padding-right: 1em; text-align: center; vertical-align: top\">hot1</td>\n",
       "        <td style=\"padding-left: 1em; padding-right: 1em; text-align: center; vertical-align: top\">0.312</td>\n",
       "    </tr>\n",
       "    <tr>\n",
       "        <td style=\"padding-left: 1em; padding-right: 1em; text-align: center; vertical-align: top\">0.172727273</td>\n",
       "        <td style=\"padding-left: 1em; padding-right: 1em; text-align: center; vertical-align: top\">0.0</td>\n",
       "        <td style=\"padding-left: 1em; padding-right: 1em; text-align: center; vertical-align: top\">0.0</td>\n",
       "        <td style=\"padding-left: 1em; padding-right: 1em; text-align: center; vertical-align: top\">0.0</td>\n",
       "        <td style=\"padding-left: 1em; padding-right: 1em; text-align: center; vertical-align: top\">0.0</td>\n",
       "        <td style=\"padding-left: 1em; padding-right: 1em; text-align: center; vertical-align: top\">ql3</td>\n",
       "        <td style=\"padding-left: 1em; padding-right: 1em; text-align: center; vertical-align: top\">18/20</td>\n",
       "        <td style=\"padding-left: 1em; padding-right: 1em; text-align: center; vertical-align: top\">hot4</td>\n",
       "        <td style=\"padding-left: 1em; padding-right: 1em; text-align: center; vertical-align: top\">0.018</td>\n",
       "    </tr>\n",
       "</table>\n",
       "<table frame=\"box\" rules=\"cols\">\n",
       "    <tr>\n",
       "        <th style=\"padding-left: 1em; padding-right: 1em; text-align: center\">sp_rate</th>\n",
       "        <th style=\"padding-left: 1em; padding-right: 1em; text-align: center\">qz_word_ratio</th>\n",
       "        <th style=\"padding-left: 1em; padding-right: 1em; text-align: center\">qz_char_ratio</th>\n",
       "        <th style=\"padding-left: 1em; padding-right: 1em; text-align: center\">qz_word_dist</th>\n",
       "        <th style=\"padding-left: 1em; padding-right: 1em; text-align: center\">qz_char_dist</th>\n",
       "        <th style=\"padding-left: 1em; padding-right: 1em; text-align: center\">label_feature</th>\n",
       "    </tr>\n",
       "    <tr>\n",
       "        <td style=\"padding-left: 1em; padding-right: 1em; text-align: center; vertical-align: top\">0.8</td>\n",
       "        <td style=\"padding-left: 1em; padding-right: 1em; text-align: center; vertical-align: top\">r4</td>\n",
       "        <td style=\"padding-left: 1em; padding-right: 1em; text-align: center; vertical-align: top\">r4</td>\n",
       "        <td style=\"padding-left: 1em; padding-right: 1em; text-align: center; vertical-align: top\">d4</td>\n",
       "        <td style=\"padding-left: 1em; padding-right: 1em; text-align: center; vertical-align: top\">d6</td>\n",
       "        <td style=\"padding-left: 1em; padding-right: 1em; text-align: center; vertical-align: top\">0.0491499952817</td>\n",
       "    </tr>\n",
       "    <tr>\n",
       "        <td style=\"padding-left: 1em; padding-right: 1em; text-align: center; vertical-align: top\">0.833333333</td>\n",
       "        <td style=\"padding-left: 1em; padding-right: 1em; text-align: center; vertical-align: top\">r4</td>\n",
       "        <td style=\"padding-left: 1em; padding-right: 1em; text-align: center; vertical-align: top\">r5</td>\n",
       "        <td style=\"padding-left: 1em; padding-right: 1em; text-align: center; vertical-align: top\">d4</td>\n",
       "        <td style=\"padding-left: 1em; padding-right: 1em; text-align: center; vertical-align: top\">d4</td>\n",
       "        <td style=\"padding-left: 1em; padding-right: 1em; text-align: center; vertical-align: top\">0.0490911736694</td>\n",
       "    </tr>\n",
       "    <tr>\n",
       "        <td style=\"padding-left: 1em; padding-right: 1em; text-align: center; vertical-align: top\">0.52173913</td>\n",
       "        <td style=\"padding-left: 1em; padding-right: 1em; text-align: center; vertical-align: top\">r4</td>\n",
       "        <td style=\"padding-left: 1em; padding-right: 1em; text-align: center; vertical-align: top\">r4</td>\n",
       "        <td style=\"padding-left: 1em; padding-right: 1em; text-align: center; vertical-align: top\">d5</td>\n",
       "        <td style=\"padding-left: 1em; padding-right: 1em; text-align: center; vertical-align: top\">d5</td>\n",
       "        <td style=\"padding-left: 1em; padding-right: 1em; text-align: center; vertical-align: top\">0.0486324773758</td>\n",
       "    </tr>\n",
       "    <tr>\n",
       "        <td style=\"padding-left: 1em; padding-right: 1em; text-align: center; vertical-align: top\">1.0</td>\n",
       "        <td style=\"padding-left: 1em; padding-right: 1em; text-align: center; vertical-align: top\">r5</td>\n",
       "        <td style=\"padding-left: 1em; padding-right: 1em; text-align: center; vertical-align: top\">r4</td>\n",
       "        <td style=\"padding-left: 1em; padding-right: 1em; text-align: center; vertical-align: top\">d4</td>\n",
       "        <td style=\"padding-left: 1em; padding-right: 1em; text-align: center; vertical-align: top\">d6</td>\n",
       "        <td style=\"padding-left: 1em; padding-right: 1em; text-align: center; vertical-align: top\">0.0491500307536</td>\n",
       "    </tr>\n",
       "    <tr>\n",
       "        <td style=\"padding-left: 1em; padding-right: 1em; text-align: center; vertical-align: top\">0.231884058</td>\n",
       "        <td style=\"padding-left: 1em; padding-right: 1em; text-align: center; vertical-align: top\">r3</td>\n",
       "        <td style=\"padding-left: 1em; padding-right: 1em; text-align: center; vertical-align: top\">r4</td>\n",
       "        <td style=\"padding-left: 1em; padding-right: 1em; text-align: center; vertical-align: top\">d5</td>\n",
       "        <td style=\"padding-left: 1em; padding-right: 1em; text-align: center; vertical-align: top\">d6</td>\n",
       "        <td style=\"padding-left: 1em; padding-right: 1em; text-align: center; vertical-align: top\">0.0485552950329</td>\n",
       "    </tr>\n",
       "    <tr>\n",
       "        <td style=\"padding-left: 1em; padding-right: 1em; text-align: center; vertical-align: top\">0.273722628</td>\n",
       "        <td style=\"padding-left: 1em; padding-right: 1em; text-align: center; vertical-align: top\">r3</td>\n",
       "        <td style=\"padding-left: 1em; padding-right: 1em; text-align: center; vertical-align: top\">r4</td>\n",
       "        <td style=\"padding-left: 1em; padding-right: 1em; text-align: center; vertical-align: top\">d5</td>\n",
       "        <td style=\"padding-left: 1em; padding-right: 1em; text-align: center; vertical-align: top\">d5</td>\n",
       "        <td style=\"padding-left: 1em; padding-right: 1em; text-align: center; vertical-align: top\">0.064501841836</td>\n",
       "    </tr>\n",
       "    <tr>\n",
       "        <td style=\"padding-left: 1em; padding-right: 1em; text-align: center; vertical-align: top\">0.48</td>\n",
       "        <td style=\"padding-left: 1em; padding-right: 1em; text-align: center; vertical-align: top\">r4</td>\n",
       "        <td style=\"padding-left: 1em; padding-right: 1em; text-align: center; vertical-align: top\">r4</td>\n",
       "        <td style=\"padding-left: 1em; padding-right: 1em; text-align: center; vertical-align: top\">d5</td>\n",
       "        <td style=\"padding-left: 1em; padding-right: 1em; text-align: center; vertical-align: top\">d6</td>\n",
       "        <td style=\"padding-left: 1em; padding-right: 1em; text-align: center; vertical-align: top\">0.0492515207815</td>\n",
       "    </tr>\n",
       "    <tr>\n",
       "        <td style=\"padding-left: 1em; padding-right: 1em; text-align: center; vertical-align: top\">0.318681319</td>\n",
       "        <td style=\"padding-left: 1em; padding-right: 1em; text-align: center; vertical-align: top\">r2</td>\n",
       "        <td style=\"padding-left: 1em; padding-right: 1em; text-align: center; vertical-align: top\">r5</td>\n",
       "        <td style=\"padding-left: 1em; padding-right: 1em; text-align: center; vertical-align: top\">d4</td>\n",
       "        <td style=\"padding-left: 1em; padding-right: 1em; text-align: center; vertical-align: top\">d5</td>\n",
       "        <td style=\"padding-left: 1em; padding-right: 1em; text-align: center; vertical-align: top\">0.0491793695177</td>\n",
       "    </tr>\n",
       "    <tr>\n",
       "        <td style=\"padding-left: 1em; padding-right: 1em; text-align: center; vertical-align: top\">0.275618375</td>\n",
       "        <td style=\"padding-left: 1em; padding-right: 1em; text-align: center; vertical-align: top\">r4</td>\n",
       "        <td style=\"padding-left: 1em; padding-right: 1em; text-align: center; vertical-align: top\">r5</td>\n",
       "        <td style=\"padding-left: 1em; padding-right: 1em; text-align: center; vertical-align: top\">d5</td>\n",
       "        <td style=\"padding-left: 1em; padding-right: 1em; text-align: center; vertical-align: top\">d5</td>\n",
       "        <td style=\"padding-left: 1em; padding-right: 1em; text-align: center; vertical-align: top\">0.0643798618342</td>\n",
       "    </tr>\n",
       "    <tr>\n",
       "        <td style=\"padding-left: 1em; padding-right: 1em; text-align: center; vertical-align: top\">0.75</td>\n",
       "        <td style=\"padding-left: 1em; padding-right: 1em; text-align: center; vertical-align: top\">r3</td>\n",
       "        <td style=\"padding-left: 1em; padding-right: 1em; text-align: center; vertical-align: top\">r3</td>\n",
       "        <td style=\"padding-left: 1em; padding-right: 1em; text-align: center; vertical-align: top\">d5</td>\n",
       "        <td style=\"padding-left: 1em; padding-right: 1em; text-align: center; vertical-align: top\">d5</td>\n",
       "        <td style=\"padding-left: 1em; padding-right: 1em; text-align: center; vertical-align: top\">0.0486325605099</td>\n",
       "    </tr>\n",
       "</table>\n",
       "[41757 rows x 22 columns]<br/>Note: Only the head of the SFrame is printed.<br/>You can use print_rows(num_rows=m, num_columns=n) to print more rows and columns.\n",
       "</div>"
      ],
      "text/plain": [
       "Columns:\n",
       "\tX1\tint\n",
       "\tqid\tstr\n",
       "\tuid\tstr\n",
       "\tlabel\tint\n",
       "\tzj_answers\tfloat\n",
       "\tzj_tuisong\tfloat\n",
       "\tzj_q_label_answers\tfloat\n",
       "\tzj_q_label_tuisong\tfloat\n",
       "\thuidalv\tfloat\n",
       "\tlabel_huidalv\tfloat\n",
       "\thuidabi\tfloat\n",
       "\thuidalvbi\tfloat\n",
       "\tq_label\tstr\n",
       "\tzj_label\tstr\n",
       "\tq_hot\tstr\n",
       "\tq_sp\tfloat\n",
       "\tsp_rate\tfloat\n",
       "\tqz_word_ratio\tstr\n",
       "\tqz_char_ratio\tstr\n",
       "\tqz_word_dist\tstr\n",
       "\tqz_char_dist\tstr\n",
       "\tlabel_feature\tfloat\n",
       "\n",
       "Rows: 41757\n",
       "\n",
       "Data:\n",
       "+--------+-------------------------------+-------------------------------+-------+\n",
       "|   X1   |              qid              |              uid              | label |\n",
       "+--------+-------------------------------+-------------------------------+-------+\n",
       "| 214368 | 42397911dd1971d18188d81e8e... | d70980ddb697c82dde0ca045a7... |   0   |\n",
       "| 157852 | 53c32d0d606dcbcf00a9ff4db2... | 8f86d63f981fa1124425f7dd9f... |   0   |\n",
       "| 92754  | 70a388511a6dd3ad4b9f7b0071... | 25c275344e94527121b68341a9... |   0   |\n",
       "| 218754 | 2488e4ce88d866957e67b1f586... | 676174a6480a4b380b157e1a1c... |   0   |\n",
       "| 27298  | 19a80e0ddde0a880c45b6606b9... | b1d6afc9eddcbc93c5aee8c456... |   0   |\n",
       "| 136800 | 9e3142abcaf30ef91dfae12d36... | 057edf8ffbed776f1f8118d03c... |   0   |\n",
       "| 111128 | 6dd3cb1333adc6ddc9118e66bd... | fe3fd2508d5918d9506d0feb69... |   0   |\n",
       "| 246623 | e078aa89e4e1403b7942adc698... | bdcaac9218493d48460eb33210... |   0   |\n",
       "| 20929  | 768022a60b263c6943b2b8aae6... | 6055c3e9b80b9ce4b00c004603... |   0   |\n",
       "| 119320 | 9a9867d0ecdf6a3df385265db3... | c8955c0328ea8495c0c03ee534... |   0   |\n",
       "+--------+-------------------------------+-------------------------------+-------+\n",
       "+-------------+-------------+--------------------+--------------------+\n",
       "|  zj_answers |  zj_tuisong | zj_q_label_answers | zj_q_label_tuisong |\n",
       "+-------------+-------------+--------------------+--------------------+\n",
       "|     0.0     | 0.236363636 |        0.0         |    0.227272727     |\n",
       "|     0.0     | 0.127272727 |        0.0         |    0.118181818     |\n",
       "|     0.0     | 0.536363636 |        0.0         |    0.536363636     |\n",
       "|     0.0     | 0.072727273 |        0.0         |    0.054545455     |\n",
       "|     0.0     | 0.327272727 |        0.0         |    0.318181818     |\n",
       "| 0.055555556 | 0.372727273 |    0.055555556     |    0.372727273     |\n",
       "|     0.0     | 0.009090909 |        0.0         |    0.009090909     |\n",
       "|     0.0     | 0.109090909 |        0.0         |    0.109090909     |\n",
       "| 0.011111111 | 0.072727273 |    0.011111111     |    0.072727273     |\n",
       "|     0.0     | 0.172727273 |        0.0         |    0.172727273     |\n",
       "+-------------+-------------+--------------------+--------------------+\n",
       "+------------+---------------+---------+-----------+---------+-------------+\n",
       "|  huidalv   | label_huidalv | huidabi | huidalvbi | q_label |   zj_label  |\n",
       "+------------+---------------+---------+-----------+---------+-------------+\n",
       "|    0.0     |      0.0      |   0.0   |    0.0    |   ql2   |    39/41    |\n",
       "|    0.0     |      0.0      |   0.0   |    0.0    |   ql11  |    51/53    |\n",
       "|    0.0     |      0.0      |   0.0   |    0.0    |   ql8   | 48/49/61/98 |\n",
       "|    0.0     |      0.0      |   0.0   |    0.0    |   ql15  |      21     |\n",
       "|    0.0     |      0.0      |   0.0   |    0.0    |   ql8   | 48/49/64/50 |\n",
       "| 0.12195122 |   0.12195122  |   1.0   |    1.0    |   ql8   |      0      |\n",
       "|    0.0     |      0.0      |   0.0   |    0.0    |   ql8   |    48/98    |\n",
       "|    0.0     |      0.0      |   0.0   |    0.0    |   ql8   | 48/49/64/61 |\n",
       "|   0.125    |     0.125     |   1.0   |    1.0    |   ql3   |   18/19/20  |\n",
       "|    0.0     |      0.0      |   0.0   |    0.0    |   ql3   |    18/20    |\n",
       "+------------+---------------+---------+-----------+---------+-------------+\n",
       "+-------+-------+-------------+---------------+---------------+--------------+-----+\n",
       "| q_hot |  q_sp |   sp_rate   | qz_word_ratio | qz_char_ratio | qz_word_dist | ... |\n",
       "+-------+-------+-------------+---------------+---------------+--------------+-----+\n",
       "|  hot5 | 0.008 |     0.8     |       r4      |       r4      |      d4      | ... |\n",
       "|  hot5 |  0.01 | 0.833333333 |       r4      |       r5      |      d4      | ... |\n",
       "|  hot3 | 0.024 |  0.52173913 |       r4      |       r4      |      d5      | ... |\n",
       "|  hot5 |  0.01 |     1.0     |       r5      |       r4      |      d4      | ... |\n",
       "|  hot2 | 0.032 | 0.231884058 |       r3      |       r4      |      d5      | ... |\n",
       "|  hot1 |  0.15 | 0.273722628 |       r3      |       r4      |      d5      | ... |\n",
       "|  hot3 | 0.024 |     0.48    |       r4      |       r4      |      d5      | ... |\n",
       "|  hot2 | 0.058 | 0.318681319 |       r2      |       r5      |      d4      | ... |\n",
       "|  hot1 | 0.312 | 0.275618375 |       r4      |       r5      |      d5      | ... |\n",
       "|  hot4 | 0.018 |     0.75    |       r3      |       r3      |      d5      | ... |\n",
       "+-------+-------+-------------+---------------+---------------+--------------+-----+\n",
       "[41757 rows x 22 columns]\n",
       "Note: Only the head of the SFrame is printed.\n",
       "You can use print_rows(num_rows=m, num_columns=n) to print more rows and columns."
      ]
     },
     "execution_count": 14,
     "metadata": {},
     "output_type": "execute_result"
    }
   ],
   "source": [
    "val_1117.add_column(first_recs,name='label_feature')"
   ]
  },
  {
   "cell_type": "markdown",
   "metadata": {},
   "source": [
    "初始模型对val_1117进行预测，预测值作为新特征添加到原始样本中，作为一个个模型的训练集。\n",
    "同样对验证集和测试集做相同处理，添加预测标签特征。"
   ]
  },
  {
   "cell_type": "code",
   "execution_count": 15,
   "metadata": {
    "collapsed": false
   },
   "outputs": [
    {
     "data": {
      "text/html": [
       "<pre>Finished parsing file H:\\天池\\2016Byte Cup国际机器学习竞赛\\bytecup_s2\\ensemble\\validate_1115_for_predict.csv</pre>"
      ],
      "text/plain": [
       "Finished parsing file H:\\天池\\2016Byte Cup国际机器学习竞赛\\bytecup_s2\\ensemble\\validate_1115_for_predict.csv"
      ]
     },
     "metadata": {},
     "output_type": "display_data"
    },
    {
     "data": {
      "text/html": [
       "<pre>Parsing completed. Parsed 100 lines in 0.11258 secs.</pre>"
      ],
      "text/plain": [
       "Parsing completed. Parsed 100 lines in 0.11258 secs."
      ]
     },
     "metadata": {},
     "output_type": "display_data"
    },
    {
     "name": "stdout",
     "output_type": "stream",
     "text": [
      "------------------------------------------------------\n",
      "Inferred types from first 100 line(s) of file as \n",
      "column_type_hints=[str,str,str,float,float,float,float,float,float,float,float,str,str,str,float,float,str,str,str,str]\n",
      "If parsing fails due to incorrect types, you can correct\n",
      "the inferred type list above and pass it to read_csv in\n",
      "the column_type_hints argument\n",
      "------------------------------------------------------\n"
     ]
    },
    {
     "data": {
      "text/html": [
       "<pre>Finished parsing file H:\\天池\\2016Byte Cup国际机器学习竞赛\\bytecup_s2\\ensemble\\validate_1115_for_predict.csv</pre>"
      ],
      "text/plain": [
       "Finished parsing file H:\\天池\\2016Byte Cup国际机器学习竞赛\\bytecup_s2\\ensemble\\validate_1115_for_predict.csv"
      ]
     },
     "metadata": {},
     "output_type": "display_data"
    },
    {
     "data": {
      "text/html": [
       "<pre>Parsing completed. Parsed 30466 lines in 0.138098 secs.</pre>"
      ],
      "text/plain": [
       "Parsing completed. Parsed 30466 lines in 0.138098 secs."
      ]
     },
     "metadata": {},
     "output_type": "display_data"
    },
    {
     "data": {
      "text/html": [
       "<div style=\"max-height:1000px;max-width:1500px;overflow:auto;\"><table frame=\"box\" rules=\"cols\">\n",
       "    <tr>\n",
       "        <th style=\"padding-left: 1em; padding-right: 1em; text-align: center\">qid</th>\n",
       "        <th style=\"padding-left: 1em; padding-right: 1em; text-align: center\">uid</th>\n",
       "        <th style=\"padding-left: 1em; padding-right: 1em; text-align: center\">label</th>\n",
       "        <th style=\"padding-left: 1em; padding-right: 1em; text-align: center\">zj_answers</th>\n",
       "        <th style=\"padding-left: 1em; padding-right: 1em; text-align: center\">zj_tuisong</th>\n",
       "        <th style=\"padding-left: 1em; padding-right: 1em; text-align: center\">zj_q_label_answers</th>\n",
       "    </tr>\n",
       "    <tr>\n",
       "        <td style=\"padding-left: 1em; padding-right: 1em; text-align: center; vertical-align: top\">c4ea7890323733160a8ac1057<br>2a7e82b ...</td>\n",
       "        <td style=\"padding-left: 1em; padding-right: 1em; text-align: center; vertical-align: top\">9fd62346098d0dc38db95835c<br>85cfad8 ...</td>\n",
       "        <td style=\"padding-left: 1em; padding-right: 1em; text-align: center; vertical-align: top\"></td>\n",
       "        <td style=\"padding-left: 1em; padding-right: 1em; text-align: center; vertical-align: top\">0.022222222</td>\n",
       "        <td style=\"padding-left: 1em; padding-right: 1em; text-align: center; vertical-align: top\">0.245454545</td>\n",
       "        <td style=\"padding-left: 1em; padding-right: 1em; text-align: center; vertical-align: top\">0.022222222</td>\n",
       "    </tr>\n",
       "    <tr>\n",
       "        <td style=\"padding-left: 1em; padding-right: 1em; text-align: center; vertical-align: top\">2230fb779978bdd67efc36dde<br>378db95 ...</td>\n",
       "        <td style=\"padding-left: 1em; padding-right: 1em; text-align: center; vertical-align: top\">9be98a49dc3fec089a6ba1b2d<br>16527f2 ...</td>\n",
       "        <td style=\"padding-left: 1em; padding-right: 1em; text-align: center; vertical-align: top\"></td>\n",
       "        <td style=\"padding-left: 1em; padding-right: 1em; text-align: center; vertical-align: top\">0.111111111</td>\n",
       "        <td style=\"padding-left: 1em; padding-right: 1em; text-align: center; vertical-align: top\">0.227272727</td>\n",
       "        <td style=\"padding-left: 1em; padding-right: 1em; text-align: center; vertical-align: top\">0.111111111</td>\n",
       "    </tr>\n",
       "    <tr>\n",
       "        <td style=\"padding-left: 1em; padding-right: 1em; text-align: center; vertical-align: top\">25d769e0ee4a62e21950f36dc<br>1bedf6f ...</td>\n",
       "        <td style=\"padding-left: 1em; padding-right: 1em; text-align: center; vertical-align: top\">aead7ff49df1672d8a856aff3<br>e516326 ...</td>\n",
       "        <td style=\"padding-left: 1em; padding-right: 1em; text-align: center; vertical-align: top\"></td>\n",
       "        <td style=\"padding-left: 1em; padding-right: 1em; text-align: center; vertical-align: top\">0.055555556</td>\n",
       "        <td style=\"padding-left: 1em; padding-right: 1em; text-align: center; vertical-align: top\">0.418181818</td>\n",
       "        <td style=\"padding-left: 1em; padding-right: 1em; text-align: center; vertical-align: top\">0.055555556</td>\n",
       "    </tr>\n",
       "    <tr>\n",
       "        <td style=\"padding-left: 1em; padding-right: 1em; text-align: center; vertical-align: top\">63f76d1bd32598f9cae613b07<br>9a10d71 ...</td>\n",
       "        <td style=\"padding-left: 1em; padding-right: 1em; text-align: center; vertical-align: top\">c35e3dfad8652aab7d13dd218<br>26566ae ...</td>\n",
       "        <td style=\"padding-left: 1em; padding-right: 1em; text-align: center; vertical-align: top\"></td>\n",
       "        <td style=\"padding-left: 1em; padding-right: 1em; text-align: center; vertical-align: top\">0.0</td>\n",
       "        <td style=\"padding-left: 1em; padding-right: 1em; text-align: center; vertical-align: top\">0.009090909</td>\n",
       "        <td style=\"padding-left: 1em; padding-right: 1em; text-align: center; vertical-align: top\">0.0</td>\n",
       "    </tr>\n",
       "    <tr>\n",
       "        <td style=\"padding-left: 1em; padding-right: 1em; text-align: center; vertical-align: top\">afe3cb02f2d41f2d6bd2a7fce<br>d09a6d5 ...</td>\n",
       "        <td style=\"padding-left: 1em; padding-right: 1em; text-align: center; vertical-align: top\">b9270484db950810dac40a280<br>42872e5 ...</td>\n",
       "        <td style=\"padding-left: 1em; padding-right: 1em; text-align: center; vertical-align: top\"></td>\n",
       "        <td style=\"padding-left: 1em; padding-right: 1em; text-align: center; vertical-align: top\">0.0</td>\n",
       "        <td style=\"padding-left: 1em; padding-right: 1em; text-align: center; vertical-align: top\">0.090909091</td>\n",
       "        <td style=\"padding-left: 1em; padding-right: 1em; text-align: center; vertical-align: top\">0.0</td>\n",
       "    </tr>\n",
       "    <tr>\n",
       "        <td style=\"padding-left: 1em; padding-right: 1em; text-align: center; vertical-align: top\">cd652f5a79d9e7a988b34d776<br>a5e1f5c ...</td>\n",
       "        <td style=\"padding-left: 1em; padding-right: 1em; text-align: center; vertical-align: top\">869bc1678a1aaa3308ef6f037<br>bddcc95 ...</td>\n",
       "        <td style=\"padding-left: 1em; padding-right: 1em; text-align: center; vertical-align: top\"></td>\n",
       "        <td style=\"padding-left: 1em; padding-right: 1em; text-align: center; vertical-align: top\">0.0</td>\n",
       "        <td style=\"padding-left: 1em; padding-right: 1em; text-align: center; vertical-align: top\">0.027272727</td>\n",
       "        <td style=\"padding-left: 1em; padding-right: 1em; text-align: center; vertical-align: top\">0.0</td>\n",
       "    </tr>\n",
       "    <tr>\n",
       "        <td style=\"padding-left: 1em; padding-right: 1em; text-align: center; vertical-align: top\">eab868cc0a6f346039abe08b4<br>479c669 ...</td>\n",
       "        <td style=\"padding-left: 1em; padding-right: 1em; text-align: center; vertical-align: top\">707ebfbd1175964805bc265ba<br>1fb8a11 ...</td>\n",
       "        <td style=\"padding-left: 1em; padding-right: 1em; text-align: center; vertical-align: top\"></td>\n",
       "        <td style=\"padding-left: 1em; padding-right: 1em; text-align: center; vertical-align: top\">0.0</td>\n",
       "        <td style=\"padding-left: 1em; padding-right: 1em; text-align: center; vertical-align: top\">0.081818182</td>\n",
       "        <td style=\"padding-left: 1em; padding-right: 1em; text-align: center; vertical-align: top\">0.0</td>\n",
       "    </tr>\n",
       "    <tr>\n",
       "        <td style=\"padding-left: 1em; padding-right: 1em; text-align: center; vertical-align: top\">12ce043b88b0a0de4f2b89812<br>ce640ce ...</td>\n",
       "        <td style=\"padding-left: 1em; padding-right: 1em; text-align: center; vertical-align: top\">70c0135fc59ef2349af969777<br>49cb33c ...</td>\n",
       "        <td style=\"padding-left: 1em; padding-right: 1em; text-align: center; vertical-align: top\"></td>\n",
       "        <td style=\"padding-left: 1em; padding-right: 1em; text-align: center; vertical-align: top\">0.0</td>\n",
       "        <td style=\"padding-left: 1em; padding-right: 1em; text-align: center; vertical-align: top\">0.1</td>\n",
       "        <td style=\"padding-left: 1em; padding-right: 1em; text-align: center; vertical-align: top\">0.0</td>\n",
       "    </tr>\n",
       "    <tr>\n",
       "        <td style=\"padding-left: 1em; padding-right: 1em; text-align: center; vertical-align: top\">b018c1fe7f4ae86842adb8816<br>637f8a9 ...</td>\n",
       "        <td style=\"padding-left: 1em; padding-right: 1em; text-align: center; vertical-align: top\">926b71f1431de9e1362869ebb<br>5536cc4 ...</td>\n",
       "        <td style=\"padding-left: 1em; padding-right: 1em; text-align: center; vertical-align: top\"></td>\n",
       "        <td style=\"padding-left: 1em; padding-right: 1em; text-align: center; vertical-align: top\">0.0</td>\n",
       "        <td style=\"padding-left: 1em; padding-right: 1em; text-align: center; vertical-align: top\">0.063636364</td>\n",
       "        <td style=\"padding-left: 1em; padding-right: 1em; text-align: center; vertical-align: top\">0.0</td>\n",
       "    </tr>\n",
       "    <tr>\n",
       "        <td style=\"padding-left: 1em; padding-right: 1em; text-align: center; vertical-align: top\">fca24c20b595458ab3d6a1672<br>b1fd6d0 ...</td>\n",
       "        <td style=\"padding-left: 1em; padding-right: 1em; text-align: center; vertical-align: top\">9dd6e6f3103c75368357fd099<br>f3cb425 ...</td>\n",
       "        <td style=\"padding-left: 1em; padding-right: 1em; text-align: center; vertical-align: top\"></td>\n",
       "        <td style=\"padding-left: 1em; padding-right: 1em; text-align: center; vertical-align: top\">0.0</td>\n",
       "        <td style=\"padding-left: 1em; padding-right: 1em; text-align: center; vertical-align: top\">0.018181818</td>\n",
       "        <td style=\"padding-left: 1em; padding-right: 1em; text-align: center; vertical-align: top\">0.0</td>\n",
       "    </tr>\n",
       "</table>\n",
       "<table frame=\"box\" rules=\"cols\">\n",
       "    <tr>\n",
       "        <th style=\"padding-left: 1em; padding-right: 1em; text-align: center\">zj_q_label_tuisong</th>\n",
       "        <th style=\"padding-left: 1em; padding-right: 1em; text-align: center\">huidalv</th>\n",
       "        <th style=\"padding-left: 1em; padding-right: 1em; text-align: center\">label_huidalv</th>\n",
       "        <th style=\"padding-left: 1em; padding-right: 1em; text-align: center\">huidabi</th>\n",
       "        <th style=\"padding-left: 1em; padding-right: 1em; text-align: center\">huidalvbi</th>\n",
       "        <th style=\"padding-left: 1em; padding-right: 1em; text-align: center\">q_label</th>\n",
       "        <th style=\"padding-left: 1em; padding-right: 1em; text-align: center\">zj_label</th>\n",
       "        <th style=\"padding-left: 1em; padding-right: 1em; text-align: center\">q_hot</th>\n",
       "        <th style=\"padding-left: 1em; padding-right: 1em; text-align: center\">q_sp</th>\n",
       "    </tr>\n",
       "    <tr>\n",
       "        <td style=\"padding-left: 1em; padding-right: 1em; text-align: center; vertical-align: top\">0.236363636</td>\n",
       "        <td style=\"padding-left: 1em; padding-right: 1em; text-align: center; vertical-align: top\">0.074074074</td>\n",
       "        <td style=\"padding-left: 1em; padding-right: 1em; text-align: center; vertical-align: top\">0.076923077</td>\n",
       "        <td style=\"padding-left: 1em; padding-right: 1em; text-align: center; vertical-align: top\">1.0</td>\n",
       "        <td style=\"padding-left: 1em; padding-right: 1em; text-align: center; vertical-align: top\">1.038461</td>\n",
       "        <td style=\"padding-left: 1em; padding-right: 1em; text-align: center; vertical-align: top\">ql8</td>\n",
       "        <td style=\"padding-left: 1em; padding-right: 1em; text-align: center; vertical-align: top\">0</td>\n",
       "        <td style=\"padding-left: 1em; padding-right: 1em; text-align: center; vertical-align: top\">hot1</td>\n",
       "        <td style=\"padding-left: 1em; padding-right: 1em; text-align: center; vertical-align: top\">0.1</td>\n",
       "    </tr>\n",
       "    <tr>\n",
       "        <td style=\"padding-left: 1em; padding-right: 1em; text-align: center; vertical-align: top\">0.209090909</td>\n",
       "        <td style=\"padding-left: 1em; padding-right: 1em; text-align: center; vertical-align: top\">0.4</td>\n",
       "        <td style=\"padding-left: 1em; padding-right: 1em; text-align: center; vertical-align: top\">0.434782609</td>\n",
       "        <td style=\"padding-left: 1em; padding-right: 1em; text-align: center; vertical-align: top\">1.0</td>\n",
       "        <td style=\"padding-left: 1em; padding-right: 1em; text-align: center; vertical-align: top\">1.086956</td>\n",
       "        <td style=\"padding-left: 1em; padding-right: 1em; text-align: center; vertical-align: top\">ql0</td>\n",
       "        <td style=\"padding-left: 1em; padding-right: 1em; text-align: center; vertical-align: top\">27/72/29/30</td>\n",
       "        <td style=\"padding-left: 1em; padding-right: 1em; text-align: center; vertical-align: top\">hot4</td>\n",
       "        <td style=\"padding-left: 1em; padding-right: 1em; text-align: center; vertical-align: top\">0.006</td>\n",
       "    </tr>\n",
       "    <tr>\n",
       "        <td style=\"padding-left: 1em; padding-right: 1em; text-align: center; vertical-align: top\">0.418181818</td>\n",
       "        <td style=\"padding-left: 1em; padding-right: 1em; text-align: center; vertical-align: top\">0.108695652</td>\n",
       "        <td style=\"padding-left: 1em; padding-right: 1em; text-align: center; vertical-align: top\">0.108695652</td>\n",
       "        <td style=\"padding-left: 1em; padding-right: 1em; text-align: center; vertical-align: top\">1.0</td>\n",
       "        <td style=\"padding-left: 1em; padding-right: 1em; text-align: center; vertical-align: top\">1.0</td>\n",
       "        <td style=\"padding-left: 1em; padding-right: 1em; text-align: center; vertical-align: top\">ql8</td>\n",
       "        <td style=\"padding-left: 1em; padding-right: 1em; text-align: center; vertical-align: top\">0/1</td>\n",
       "        <td style=\"padding-left: 1em; padding-right: 1em; text-align: center; vertical-align: top\">hot1</td>\n",
       "        <td style=\"padding-left: 1em; padding-right: 1em; text-align: center; vertical-align: top\">0.108</td>\n",
       "    </tr>\n",
       "    <tr>\n",
       "        <td style=\"padding-left: 1em; padding-right: 1em; text-align: center; vertical-align: top\">0.0</td>\n",
       "        <td style=\"padding-left: 1em; padding-right: 1em; text-align: center; vertical-align: top\">0.0</td>\n",
       "        <td style=\"padding-left: 1em; padding-right: 1em; text-align: center; vertical-align: top\">0.0</td>\n",
       "        <td style=\"padding-left: 1em; padding-right: 1em; text-align: center; vertical-align: top\">0.0</td>\n",
       "        <td style=\"padding-left: 1em; padding-right: 1em; text-align: center; vertical-align: top\">0.0</td>\n",
       "        <td style=\"padding-left: 1em; padding-right: 1em; text-align: center; vertical-align: top\">ql6</td>\n",
       "        <td style=\"padding-left: 1em; padding-right: 1em; text-align: center; vertical-align: top\">23</td>\n",
       "        <td style=\"padding-left: 1em; padding-right: 1em; text-align: center; vertical-align: top\">hot3</td>\n",
       "        <td style=\"padding-left: 1em; padding-right: 1em; text-align: center; vertical-align: top\">0.034</td>\n",
       "    </tr>\n",
       "    <tr>\n",
       "        <td style=\"padding-left: 1em; padding-right: 1em; text-align: center; vertical-align: top\">0.090909091</td>\n",
       "        <td style=\"padding-left: 1em; padding-right: 1em; text-align: center; vertical-align: top\">0.0</td>\n",
       "        <td style=\"padding-left: 1em; padding-right: 1em; text-align: center; vertical-align: top\">0.0</td>\n",
       "        <td style=\"padding-left: 1em; padding-right: 1em; text-align: center; vertical-align: top\">0.0</td>\n",
       "        <td style=\"padding-left: 1em; padding-right: 1em; text-align: center; vertical-align: top\">0.0</td>\n",
       "        <td style=\"padding-left: 1em; padding-right: 1em; text-align: center; vertical-align: top\">ql6</td>\n",
       "        <td style=\"padding-left: 1em; padding-right: 1em; text-align: center; vertical-align: top\">38/42/69/43</td>\n",
       "        <td style=\"padding-left: 1em; padding-right: 1em; text-align: center; vertical-align: top\">hot5</td>\n",
       "        <td style=\"padding-left: 1em; padding-right: 1em; text-align: center; vertical-align: top\">0.002</td>\n",
       "    </tr>\n",
       "    <tr>\n",
       "        <td style=\"padding-left: 1em; padding-right: 1em; text-align: center; vertical-align: top\">0.027272727</td>\n",
       "        <td style=\"padding-left: 1em; padding-right: 1em; text-align: center; vertical-align: top\">0.0</td>\n",
       "        <td style=\"padding-left: 1em; padding-right: 1em; text-align: center; vertical-align: top\">0.0</td>\n",
       "        <td style=\"padding-left: 1em; padding-right: 1em; text-align: center; vertical-align: top\">0.0</td>\n",
       "        <td style=\"padding-left: 1em; padding-right: 1em; text-align: center; vertical-align: top\">0.0</td>\n",
       "        <td style=\"padding-left: 1em; padding-right: 1em; text-align: center; vertical-align: top\">ql15</td>\n",
       "        <td style=\"padding-left: 1em; padding-right: 1em; text-align: center; vertical-align: top\">21/80</td>\n",
       "        <td style=\"padding-left: 1em; padding-right: 1em; text-align: center; vertical-align: top\">hot4</td>\n",
       "        <td style=\"padding-left: 1em; padding-right: 1em; text-align: center; vertical-align: top\">0.014</td>\n",
       "    </tr>\n",
       "    <tr>\n",
       "        <td style=\"padding-left: 1em; padding-right: 1em; text-align: center; vertical-align: top\">0.081818182</td>\n",
       "        <td style=\"padding-left: 1em; padding-right: 1em; text-align: center; vertical-align: top\">0.0</td>\n",
       "        <td style=\"padding-left: 1em; padding-right: 1em; text-align: center; vertical-align: top\">0.0</td>\n",
       "        <td style=\"padding-left: 1em; padding-right: 1em; text-align: center; vertical-align: top\">0.0</td>\n",
       "        <td style=\"padding-left: 1em; padding-right: 1em; text-align: center; vertical-align: top\">0.0</td>\n",
       "        <td style=\"padding-left: 1em; padding-right: 1em; text-align: center; vertical-align: top\">ql3</td>\n",
       "        <td style=\"padding-left: 1em; padding-right: 1em; text-align: center; vertical-align: top\">18/19/20</td>\n",
       "        <td style=\"padding-left: 1em; padding-right: 1em; text-align: center; vertical-align: top\">hot3</td>\n",
       "        <td style=\"padding-left: 1em; padding-right: 1em; text-align: center; vertical-align: top\">0.016</td>\n",
       "    </tr>\n",
       "    <tr>\n",
       "        <td style=\"padding-left: 1em; padding-right: 1em; text-align: center; vertical-align: top\">0.1</td>\n",
       "        <td style=\"padding-left: 1em; padding-right: 1em; text-align: center; vertical-align: top\">0.0</td>\n",
       "        <td style=\"padding-left: 1em; padding-right: 1em; text-align: center; vertical-align: top\">0.0</td>\n",
       "        <td style=\"padding-left: 1em; padding-right: 1em; text-align: center; vertical-align: top\">0.0</td>\n",
       "        <td style=\"padding-left: 1em; padding-right: 1em; text-align: center; vertical-align: top\">0.0</td>\n",
       "        <td style=\"padding-left: 1em; padding-right: 1em; text-align: center; vertical-align: top\">ql3</td>\n",
       "        <td style=\"padding-left: 1em; padding-right: 1em; text-align: center; vertical-align: top\">18/19/20</td>\n",
       "        <td style=\"padding-left: 1em; padding-right: 1em; text-align: center; vertical-align: top\">hot3</td>\n",
       "        <td style=\"padding-left: 1em; padding-right: 1em; text-align: center; vertical-align: top\">0.032</td>\n",
       "    </tr>\n",
       "    <tr>\n",
       "        <td style=\"padding-left: 1em; padding-right: 1em; text-align: center; vertical-align: top\">0.063636364</td>\n",
       "        <td style=\"padding-left: 1em; padding-right: 1em; text-align: center; vertical-align: top\">0.0</td>\n",
       "        <td style=\"padding-left: 1em; padding-right: 1em; text-align: center; vertical-align: top\">0.0</td>\n",
       "        <td style=\"padding-left: 1em; padding-right: 1em; text-align: center; vertical-align: top\">0.0</td>\n",
       "        <td style=\"padding-left: 1em; padding-right: 1em; text-align: center; vertical-align: top\">0.0</td>\n",
       "        <td style=\"padding-left: 1em; padding-right: 1em; text-align: center; vertical-align: top\">ql4</td>\n",
       "        <td style=\"padding-left: 1em; padding-right: 1em; text-align: center; vertical-align: top\">75</td>\n",
       "        <td style=\"padding-left: 1em; padding-right: 1em; text-align: center; vertical-align: top\">hot5</td>\n",
       "        <td style=\"padding-left: 1em; padding-right: 1em; text-align: center; vertical-align: top\">0.002</td>\n",
       "    </tr>\n",
       "    <tr>\n",
       "        <td style=\"padding-left: 1em; padding-right: 1em; text-align: center; vertical-align: top\">0.018181818</td>\n",
       "        <td style=\"padding-left: 1em; padding-right: 1em; text-align: center; vertical-align: top\">0.0</td>\n",
       "        <td style=\"padding-left: 1em; padding-right: 1em; text-align: center; vertical-align: top\">0.0</td>\n",
       "        <td style=\"padding-left: 1em; padding-right: 1em; text-align: center; vertical-align: top\">0.0</td>\n",
       "        <td style=\"padding-left: 1em; padding-right: 1em; text-align: center; vertical-align: top\">0.0</td>\n",
       "        <td style=\"padding-left: 1em; padding-right: 1em; text-align: center; vertical-align: top\">ql12</td>\n",
       "        <td style=\"padding-left: 1em; padding-right: 1em; text-align: center; vertical-align: top\">33/89</td>\n",
       "        <td style=\"padding-left: 1em; padding-right: 1em; text-align: center; vertical-align: top\">hot1</td>\n",
       "        <td style=\"padding-left: 1em; padding-right: 1em; text-align: center; vertical-align: top\">0.136</td>\n",
       "    </tr>\n",
       "</table>\n",
       "<table frame=\"box\" rules=\"cols\">\n",
       "    <tr>\n",
       "        <th style=\"padding-left: 1em; padding-right: 1em; text-align: center\">sp_rate</th>\n",
       "        <th style=\"padding-left: 1em; padding-right: 1em; text-align: center\">qz_word_ratio</th>\n",
       "        <th style=\"padding-left: 1em; padding-right: 1em; text-align: center\">qz_char_ratio</th>\n",
       "        <th style=\"padding-left: 1em; padding-right: 1em; text-align: center\">qz_word_dist</th>\n",
       "        <th style=\"padding-left: 1em; padding-right: 1em; text-align: center\">qz_char_dist</th>\n",
       "        <th style=\"padding-left: 1em; padding-right: 1em; text-align: center\">label_feature</th>\n",
       "    </tr>\n",
       "    <tr>\n",
       "        <td style=\"padding-left: 1em; padding-right: 1em; text-align: center; vertical-align: top\">0.393700787</td>\n",
       "        <td style=\"padding-left: 1em; padding-right: 1em; text-align: center; vertical-align: top\">r4</td>\n",
       "        <td style=\"padding-left: 1em; padding-right: 1em; text-align: center; vertical-align: top\">r3</td>\n",
       "        <td style=\"padding-left: 1em; padding-right: 1em; text-align: center; vertical-align: top\">d4</td>\n",
       "        <td style=\"padding-left: 1em; padding-right: 1em; text-align: center; vertical-align: top\">d6</td>\n",
       "        <td style=\"padding-left: 1em; padding-right: 1em; text-align: center; vertical-align: top\">0.0581521891857</td>\n",
       "    </tr>\n",
       "    <tr>\n",
       "        <td style=\"padding-left: 1em; padding-right: 1em; text-align: center; vertical-align: top\">0.230769231</td>\n",
       "        <td style=\"padding-left: 1em; padding-right: 1em; text-align: center; vertical-align: top\">r3</td>\n",
       "        <td style=\"padding-left: 1em; padding-right: 1em; text-align: center; vertical-align: top\">r1</td>\n",
       "        <td style=\"padding-left: 1em; padding-right: 1em; text-align: center; vertical-align: top\">d6</td>\n",
       "        <td style=\"padding-left: 1em; padding-right: 1em; text-align: center; vertical-align: top\">d7</td>\n",
       "        <td style=\"padding-left: 1em; padding-right: 1em; text-align: center; vertical-align: top\">0.121501830089</td>\n",
       "    </tr>\n",
       "    <tr>\n",
       "        <td style=\"padding-left: 1em; padding-right: 1em; text-align: center; vertical-align: top\">0.15</td>\n",
       "        <td style=\"padding-left: 1em; padding-right: 1em; text-align: center; vertical-align: top\">r5</td>\n",
       "        <td style=\"padding-left: 1em; padding-right: 1em; text-align: center; vertical-align: top\">r3</td>\n",
       "        <td style=\"padding-left: 1em; padding-right: 1em; text-align: center; vertical-align: top\">d4</td>\n",
       "        <td style=\"padding-left: 1em; padding-right: 1em; text-align: center; vertical-align: top\">d5</td>\n",
       "        <td style=\"padding-left: 1em; padding-right: 1em; text-align: center; vertical-align: top\">0.0625081689575</td>\n",
       "    </tr>\n",
       "    <tr>\n",
       "        <td style=\"padding-left: 1em; padding-right: 1em; text-align: center; vertical-align: top\">0.5</td>\n",
       "        <td style=\"padding-left: 1em; padding-right: 1em; text-align: center; vertical-align: top\">r4</td>\n",
       "        <td style=\"padding-left: 1em; padding-right: 1em; text-align: center; vertical-align: top\">r4</td>\n",
       "        <td style=\"padding-left: 1em; padding-right: 1em; text-align: center; vertical-align: top\">d4</td>\n",
       "        <td style=\"padding-left: 1em; padding-right: 1em; text-align: center; vertical-align: top\">d5</td>\n",
       "        <td style=\"padding-left: 1em; padding-right: 1em; text-align: center; vertical-align: top\">0.0492004638165</td>\n",
       "    </tr>\n",
       "    <tr>\n",
       "        <td style=\"padding-left: 1em; padding-right: 1em; text-align: center; vertical-align: top\">1.0</td>\n",
       "        <td style=\"padding-left: 1em; padding-right: 1em; text-align: center; vertical-align: top\">r3</td>\n",
       "        <td style=\"padding-left: 1em; padding-right: 1em; text-align: center; vertical-align: top\">r3</td>\n",
       "        <td style=\"padding-left: 1em; padding-right: 1em; text-align: center; vertical-align: top\">d5</td>\n",
       "        <td style=\"padding-left: 1em; padding-right: 1em; text-align: center; vertical-align: top\">d6</td>\n",
       "        <td style=\"padding-left: 1em; padding-right: 1em; text-align: center; vertical-align: top\">0.0491706128526</td>\n",
       "    </tr>\n",
       "    <tr>\n",
       "        <td style=\"padding-left: 1em; padding-right: 1em; text-align: center; vertical-align: top\">0.583333333</td>\n",
       "        <td style=\"padding-left: 1em; padding-right: 1em; text-align: center; vertical-align: top\">r4</td>\n",
       "        <td style=\"padding-left: 1em; padding-right: 1em; text-align: center; vertical-align: top\">r5</td>\n",
       "        <td style=\"padding-left: 1em; padding-right: 1em; text-align: center; vertical-align: top\">d4</td>\n",
       "        <td style=\"padding-left: 1em; padding-right: 1em; text-align: center; vertical-align: top\">d4</td>\n",
       "        <td style=\"padding-left: 1em; padding-right: 1em; text-align: center; vertical-align: top\">0.0491742634388</td>\n",
       "    </tr>\n",
       "    <tr>\n",
       "        <td style=\"padding-left: 1em; padding-right: 1em; text-align: center; vertical-align: top\">0.258064516</td>\n",
       "        <td style=\"padding-left: 1em; padding-right: 1em; text-align: center; vertical-align: top\">r4</td>\n",
       "        <td style=\"padding-left: 1em; padding-right: 1em; text-align: center; vertical-align: top\">r3</td>\n",
       "        <td style=\"padding-left: 1em; padding-right: 1em; text-align: center; vertical-align: top\">d4</td>\n",
       "        <td style=\"padding-left: 1em; padding-right: 1em; text-align: center; vertical-align: top\">d5</td>\n",
       "        <td style=\"padding-left: 1em; padding-right: 1em; text-align: center; vertical-align: top\">0.0488234806034</td>\n",
       "    </tr>\n",
       "    <tr>\n",
       "        <td style=\"padding-left: 1em; padding-right: 1em; text-align: center; vertical-align: top\">0.727272727</td>\n",
       "        <td style=\"padding-left: 1em; padding-right: 1em; text-align: center; vertical-align: top\">r3</td>\n",
       "        <td style=\"padding-left: 1em; padding-right: 1em; text-align: center; vertical-align: top\">r3</td>\n",
       "        <td style=\"padding-left: 1em; padding-right: 1em; text-align: center; vertical-align: top\">d4</td>\n",
       "        <td style=\"padding-left: 1em; padding-right: 1em; text-align: center; vertical-align: top\">d5</td>\n",
       "        <td style=\"padding-left: 1em; padding-right: 1em; text-align: center; vertical-align: top\">0.0487911898879</td>\n",
       "    </tr>\n",
       "    <tr>\n",
       "        <td style=\"padding-left: 1em; padding-right: 1em; text-align: center; vertical-align: top\">1.0</td>\n",
       "        <td style=\"padding-left: 1em; padding-right: 1em; text-align: center; vertical-align: top\">r2</td>\n",
       "        <td style=\"padding-left: 1em; padding-right: 1em; text-align: center; vertical-align: top\">r4</td>\n",
       "        <td style=\"padding-left: 1em; padding-right: 1em; text-align: center; vertical-align: top\">d5</td>\n",
       "        <td style=\"padding-left: 1em; padding-right: 1em; text-align: center; vertical-align: top\">d6</td>\n",
       "        <td style=\"padding-left: 1em; padding-right: 1em; text-align: center; vertical-align: top\">0.0490933333984</td>\n",
       "    </tr>\n",
       "    <tr>\n",
       "        <td style=\"padding-left: 1em; padding-right: 1em; text-align: center; vertical-align: top\">0.103030303</td>\n",
       "        <td style=\"padding-left: 1em; padding-right: 1em; text-align: center; vertical-align: top\">r3</td>\n",
       "        <td style=\"padding-left: 1em; padding-right: 1em; text-align: center; vertical-align: top\">r5</td>\n",
       "        <td style=\"padding-left: 1em; padding-right: 1em; text-align: center; vertical-align: top\">d4</td>\n",
       "        <td style=\"padding-left: 1em; padding-right: 1em; text-align: center; vertical-align: top\">d5</td>\n",
       "        <td style=\"padding-left: 1em; padding-right: 1em; text-align: center; vertical-align: top\">0.049167670853</td>\n",
       "    </tr>\n",
       "</table>\n",
       "[30466 rows x 21 columns]<br/>Note: Only the head of the SFrame is printed.<br/>You can use print_rows(num_rows=m, num_columns=n) to print more rows and columns.\n",
       "</div>"
      ],
      "text/plain": [
       "Columns:\n",
       "\tqid\tstr\n",
       "\tuid\tstr\n",
       "\tlabel\tstr\n",
       "\tzj_answers\tfloat\n",
       "\tzj_tuisong\tfloat\n",
       "\tzj_q_label_answers\tfloat\n",
       "\tzj_q_label_tuisong\tfloat\n",
       "\thuidalv\tfloat\n",
       "\tlabel_huidalv\tfloat\n",
       "\thuidabi\tfloat\n",
       "\thuidalvbi\tfloat\n",
       "\tq_label\tstr\n",
       "\tzj_label\tstr\n",
       "\tq_hot\tstr\n",
       "\tq_sp\tfloat\n",
       "\tsp_rate\tfloat\n",
       "\tqz_word_ratio\tstr\n",
       "\tqz_char_ratio\tstr\n",
       "\tqz_word_dist\tstr\n",
       "\tqz_char_dist\tstr\n",
       "\tlabel_feature\tfloat\n",
       "\n",
       "Rows: 30466\n",
       "\n",
       "Data:\n",
       "+-------------------------------+-------------------------------+-------+\n",
       "|              qid              |              uid              | label |\n",
       "+-------------------------------+-------------------------------+-------+\n",
       "| c4ea7890323733160a8ac10572... | 9fd62346098d0dc38db95835c8... |       |\n",
       "| 2230fb779978bdd67efc36dde3... | 9be98a49dc3fec089a6ba1b2d1... |       |\n",
       "| 25d769e0ee4a62e21950f36dc1... | aead7ff49df1672d8a856aff3e... |       |\n",
       "| 63f76d1bd32598f9cae613b079... | c35e3dfad8652aab7d13dd2182... |       |\n",
       "| afe3cb02f2d41f2d6bd2a7fced... | b9270484db950810dac40a2804... |       |\n",
       "| cd652f5a79d9e7a988b34d776a... | 869bc1678a1aaa3308ef6f037b... |       |\n",
       "| eab868cc0a6f346039abe08b44... | 707ebfbd1175964805bc265ba1... |       |\n",
       "| 12ce043b88b0a0de4f2b89812c... | 70c0135fc59ef2349af9697774... |       |\n",
       "| b018c1fe7f4ae86842adb88166... | 926b71f1431de9e1362869ebb5... |       |\n",
       "| fca24c20b595458ab3d6a1672b... | 9dd6e6f3103c75368357fd099f... |       |\n",
       "+-------------------------------+-------------------------------+-------+\n",
       "+-------------+-------------+--------------------+--------------------+\n",
       "|  zj_answers |  zj_tuisong | zj_q_label_answers | zj_q_label_tuisong |\n",
       "+-------------+-------------+--------------------+--------------------+\n",
       "| 0.022222222 | 0.245454545 |    0.022222222     |    0.236363636     |\n",
       "| 0.111111111 | 0.227272727 |    0.111111111     |    0.209090909     |\n",
       "| 0.055555556 | 0.418181818 |    0.055555556     |    0.418181818     |\n",
       "|     0.0     | 0.009090909 |        0.0         |        0.0         |\n",
       "|     0.0     | 0.090909091 |        0.0         |    0.090909091     |\n",
       "|     0.0     | 0.027272727 |        0.0         |    0.027272727     |\n",
       "|     0.0     | 0.081818182 |        0.0         |    0.081818182     |\n",
       "|     0.0     |     0.1     |        0.0         |        0.1         |\n",
       "|     0.0     | 0.063636364 |        0.0         |    0.063636364     |\n",
       "|     0.0     | 0.018181818 |        0.0         |    0.018181818     |\n",
       "+-------------+-------------+--------------------+--------------------+\n",
       "+-------------+---------------+---------+-----------+---------+-------------+\n",
       "|   huidalv   | label_huidalv | huidabi | huidalvbi | q_label |   zj_label  |\n",
       "+-------------+---------------+---------+-----------+---------+-------------+\n",
       "| 0.074074074 |  0.076923077  |   1.0   |  1.038461 |   ql8   |      0      |\n",
       "|     0.4     |  0.434782609  |   1.0   |  1.086956 |   ql0   | 27/72/29/30 |\n",
       "| 0.108695652 |  0.108695652  |   1.0   |    1.0    |   ql8   |     0/1     |\n",
       "|     0.0     |      0.0      |   0.0   |    0.0    |   ql6   |      23     |\n",
       "|     0.0     |      0.0      |   0.0   |    0.0    |   ql6   | 38/42/69/43 |\n",
       "|     0.0     |      0.0      |   0.0   |    0.0    |   ql15  |    21/80    |\n",
       "|     0.0     |      0.0      |   0.0   |    0.0    |   ql3   |   18/19/20  |\n",
       "|     0.0     |      0.0      |   0.0   |    0.0    |   ql3   |   18/19/20  |\n",
       "|     0.0     |      0.0      |   0.0   |    0.0    |   ql4   |      75     |\n",
       "|     0.0     |      0.0      |   0.0   |    0.0    |   ql12  |    33/89    |\n",
       "+-------------+---------------+---------+-----------+---------+-------------+\n",
       "+-------+-------+-------------+---------------+---------------+--------------+\n",
       "| q_hot |  q_sp |   sp_rate   | qz_word_ratio | qz_char_ratio | qz_word_dist |\n",
       "+-------+-------+-------------+---------------+---------------+--------------+\n",
       "|  hot1 |  0.1  | 0.393700787 |       r4      |       r3      |      d4      |\n",
       "|  hot4 | 0.006 | 0.230769231 |       r3      |       r1      |      d6      |\n",
       "|  hot1 | 0.108 |     0.15    |       r5      |       r3      |      d4      |\n",
       "|  hot3 | 0.034 |     0.5     |       r4      |       r4      |      d4      |\n",
       "|  hot5 | 0.002 |     1.0     |       r3      |       r3      |      d5      |\n",
       "|  hot4 | 0.014 | 0.583333333 |       r4      |       r5      |      d4      |\n",
       "|  hot3 | 0.016 | 0.258064516 |       r4      |       r3      |      d4      |\n",
       "|  hot3 | 0.032 | 0.727272727 |       r3      |       r3      |      d4      |\n",
       "|  hot5 | 0.002 |     1.0     |       r2      |       r4      |      d5      |\n",
       "|  hot1 | 0.136 | 0.103030303 |       r3      |       r5      |      d4      |\n",
       "+-------+-------+-------------+---------------+---------------+--------------+\n",
       "+--------------+-----+\n",
       "| qz_char_dist | ... |\n",
       "+--------------+-----+\n",
       "|      d6      | ... |\n",
       "|      d7      | ... |\n",
       "|      d5      | ... |\n",
       "|      d5      | ... |\n",
       "|      d6      | ... |\n",
       "|      d4      | ... |\n",
       "|      d5      | ... |\n",
       "|      d5      | ... |\n",
       "|      d6      | ... |\n",
       "|      d5      | ... |\n",
       "+--------------+-----+\n",
       "[30466 rows x 21 columns]\n",
       "Note: Only the head of the SFrame is printed.\n",
       "You can use print_rows(num_rows=m, num_columns=n) to print more rows and columns."
      ]
     },
     "execution_count": 15,
     "metadata": {},
     "output_type": "execute_result"
    }
   ],
   "source": [
    "validate_for_predict=gl.SFrame.read_csv(\"validate_1115_for_predict.csv\")\n",
    "validate_gl=validate_for_predict[['uid','qid','label_huidalv']]\n",
    "validate_user_data =validate_for_predict[['uid','huidalv']] \n",
    "validate_item_data =validate_for_predict[['qid','q_label','q_sp']] \n",
    "\n",
    "val_recs = m.predict(validate_gl,new_user_data=validate_user_data,new_item_data=validate_item_data)\n",
    "validate_for_predict.add_column(val_recs,name='label_feature')"
   ]
  },
  {
   "cell_type": "code",
   "execution_count": 16,
   "metadata": {
    "collapsed": false
   },
   "outputs": [
    {
     "data": {
      "text/html": [
       "<pre>Finished parsing file H:\\天池\\2016Byte Cup国际机器学习竞赛\\bytecup_s2\\ensemble\\test_1115_for_predict.csv</pre>"
      ],
      "text/plain": [
       "Finished parsing file H:\\天池\\2016Byte Cup国际机器学习竞赛\\bytecup_s2\\ensemble\\test_1115_for_predict.csv"
      ]
     },
     "metadata": {},
     "output_type": "display_data"
    },
    {
     "data": {
      "text/html": [
       "<pre>Parsing completed. Parsed 100 lines in 0.081558 secs.</pre>"
      ],
      "text/plain": [
       "Parsing completed. Parsed 100 lines in 0.081558 secs."
      ]
     },
     "metadata": {},
     "output_type": "display_data"
    },
    {
     "name": "stdout",
     "output_type": "stream",
     "text": [
      "------------------------------------------------------\n",
      "Inferred types from first 100 line(s) of file as \n",
      "column_type_hints=[str,str,str,float,float,float,float,float,float,float,float,str,str,float,float]\n",
      "If parsing fails due to incorrect types, you can correct\n",
      "the inferred type list above and pass it to read_csv in\n",
      "the column_type_hints argument\n",
      "------------------------------------------------------\n"
     ]
    },
    {
     "data": {
      "text/html": [
       "<pre>Finished parsing file H:\\天池\\2016Byte Cup国际机器学习竞赛\\bytecup_s2\\ensemble\\test_1115_for_predict.csv</pre>"
      ],
      "text/plain": [
       "Finished parsing file H:\\天池\\2016Byte Cup国际机器学习竞赛\\bytecup_s2\\ensemble\\test_1115_for_predict.csv"
      ]
     },
     "metadata": {},
     "output_type": "display_data"
    },
    {
     "data": {
      "text/html": [
       "<pre>Parsing completed. Parsed 30167 lines in 0.073575 secs.</pre>"
      ],
      "text/plain": [
       "Parsing completed. Parsed 30167 lines in 0.073575 secs."
      ]
     },
     "metadata": {},
     "output_type": "display_data"
    },
    {
     "data": {
      "text/html": [
       "<div style=\"max-height:1000px;max-width:1500px;overflow:auto;\"><table frame=\"box\" rules=\"cols\">\n",
       "    <tr>\n",
       "        <th style=\"padding-left: 1em; padding-right: 1em; text-align: center\">qid</th>\n",
       "        <th style=\"padding-left: 1em; padding-right: 1em; text-align: center\">uid</th>\n",
       "        <th style=\"padding-left: 1em; padding-right: 1em; text-align: center\">label</th>\n",
       "        <th style=\"padding-left: 1em; padding-right: 1em; text-align: center\">zj_answers</th>\n",
       "        <th style=\"padding-left: 1em; padding-right: 1em; text-align: center\">zj_tuisong</th>\n",
       "        <th style=\"padding-left: 1em; padding-right: 1em; text-align: center\">zj_q_label_answers</th>\n",
       "    </tr>\n",
       "    <tr>\n",
       "        <td style=\"padding-left: 1em; padding-right: 1em; text-align: center; vertical-align: top\">3d31e9a8328518f98d00beabf<br>d7ce337 ...</td>\n",
       "        <td style=\"padding-left: 1em; padding-right: 1em; text-align: center; vertical-align: top\">c8dae6a8d94b0c60267c3baf2<br>4bb471f ...</td>\n",
       "        <td style=\"padding-left: 1em; padding-right: 1em; text-align: center; vertical-align: top\"></td>\n",
       "        <td style=\"padding-left: 1em; padding-right: 1em; text-align: center; vertical-align: top\">0.0</td>\n",
       "        <td style=\"padding-left: 1em; padding-right: 1em; text-align: center; vertical-align: top\">0.081818182</td>\n",
       "        <td style=\"padding-left: 1em; padding-right: 1em; text-align: center; vertical-align: top\">0.0</td>\n",
       "    </tr>\n",
       "    <tr>\n",
       "        <td style=\"padding-left: 1em; padding-right: 1em; text-align: center; vertical-align: top\">58b9aa96712020827834a5357<br>93db3b6 ...</td>\n",
       "        <td style=\"padding-left: 1em; padding-right: 1em; text-align: center; vertical-align: top\">b6b3a645fdd05d80afb55cb98<br>73ce571 ...</td>\n",
       "        <td style=\"padding-left: 1em; padding-right: 1em; text-align: center; vertical-align: top\"></td>\n",
       "        <td style=\"padding-left: 1em; padding-right: 1em; text-align: center; vertical-align: top\">0.033333333</td>\n",
       "        <td style=\"padding-left: 1em; padding-right: 1em; text-align: center; vertical-align: top\">0.236363636</td>\n",
       "        <td style=\"padding-left: 1em; padding-right: 1em; text-align: center; vertical-align: top\">0.033333333</td>\n",
       "    </tr>\n",
       "    <tr>\n",
       "        <td style=\"padding-left: 1em; padding-right: 1em; text-align: center; vertical-align: top\">e3cd5546fa63fe120810c8971<br>ccc532c ...</td>\n",
       "        <td style=\"padding-left: 1em; padding-right: 1em; text-align: center; vertical-align: top\">b6b3a645fdd05d80afb55cb98<br>73ce571 ...</td>\n",
       "        <td style=\"padding-left: 1em; padding-right: 1em; text-align: center; vertical-align: top\"></td>\n",
       "        <td style=\"padding-left: 1em; padding-right: 1em; text-align: center; vertical-align: top\">0.033333333</td>\n",
       "        <td style=\"padding-left: 1em; padding-right: 1em; text-align: center; vertical-align: top\">0.236363636</td>\n",
       "        <td style=\"padding-left: 1em; padding-right: 1em; text-align: center; vertical-align: top\">0.033333333</td>\n",
       "    </tr>\n",
       "    <tr>\n",
       "        <td style=\"padding-left: 1em; padding-right: 1em; text-align: center; vertical-align: top\">e888f91bd5d4710599cf217ee<br>69dbdd6 ...</td>\n",
       "        <td style=\"padding-left: 1em; padding-right: 1em; text-align: center; vertical-align: top\">b6b3a645fdd05d80afb55cb98<br>73ce571 ...</td>\n",
       "        <td style=\"padding-left: 1em; padding-right: 1em; text-align: center; vertical-align: top\"></td>\n",
       "        <td style=\"padding-left: 1em; padding-right: 1em; text-align: center; vertical-align: top\">0.033333333</td>\n",
       "        <td style=\"padding-left: 1em; padding-right: 1em; text-align: center; vertical-align: top\">0.236363636</td>\n",
       "        <td style=\"padding-left: 1em; padding-right: 1em; text-align: center; vertical-align: top\">0.033333333</td>\n",
       "    </tr>\n",
       "    <tr>\n",
       "        <td style=\"padding-left: 1em; padding-right: 1em; text-align: center; vertical-align: top\">929e035befdd897e56565aca8<br>3b56e46 ...</td>\n",
       "        <td style=\"padding-left: 1em; padding-right: 1em; text-align: center; vertical-align: top\">b7175c64a65ff56fdac5ed799<br>db50c31 ...</td>\n",
       "        <td style=\"padding-left: 1em; padding-right: 1em; text-align: center; vertical-align: top\"></td>\n",
       "        <td style=\"padding-left: 1em; padding-right: 1em; text-align: center; vertical-align: top\">0.0</td>\n",
       "        <td style=\"padding-left: 1em; padding-right: 1em; text-align: center; vertical-align: top\">0.009090909</td>\n",
       "        <td style=\"padding-left: 1em; padding-right: 1em; text-align: center; vertical-align: top\">0.0</td>\n",
       "    </tr>\n",
       "    <tr>\n",
       "        <td style=\"padding-left: 1em; padding-right: 1em; text-align: center; vertical-align: top\">624add4fbd780fb9e61cbe509<br>d23b954 ...</td>\n",
       "        <td style=\"padding-left: 1em; padding-right: 1em; text-align: center; vertical-align: top\">9a08d2d18b2ddba7695e69523<br>e03313d ...</td>\n",
       "        <td style=\"padding-left: 1em; padding-right: 1em; text-align: center; vertical-align: top\"></td>\n",
       "        <td style=\"padding-left: 1em; padding-right: 1em; text-align: center; vertical-align: top\">0.0</td>\n",
       "        <td style=\"padding-left: 1em; padding-right: 1em; text-align: center; vertical-align: top\">0.172727273</td>\n",
       "        <td style=\"padding-left: 1em; padding-right: 1em; text-align: center; vertical-align: top\">0.0</td>\n",
       "    </tr>\n",
       "    <tr>\n",
       "        <td style=\"padding-left: 1em; padding-right: 1em; text-align: center; vertical-align: top\">de8ac0376a95037d42abe5518<br>a089144 ...</td>\n",
       "        <td style=\"padding-left: 1em; padding-right: 1em; text-align: center; vertical-align: top\">9e0ffeca058841af74d477c3f<br>103e40b ...</td>\n",
       "        <td style=\"padding-left: 1em; padding-right: 1em; text-align: center; vertical-align: top\"></td>\n",
       "        <td style=\"padding-left: 1em; padding-right: 1em; text-align: center; vertical-align: top\">0.066666667</td>\n",
       "        <td style=\"padding-left: 1em; padding-right: 1em; text-align: center; vertical-align: top\">0.163636364</td>\n",
       "        <td style=\"padding-left: 1em; padding-right: 1em; text-align: center; vertical-align: top\">0.011111111</td>\n",
       "    </tr>\n",
       "    <tr>\n",
       "        <td style=\"padding-left: 1em; padding-right: 1em; text-align: center; vertical-align: top\">53cf4803a5628259b6ca756d2<br>8bdd2ff ...</td>\n",
       "        <td style=\"padding-left: 1em; padding-right: 1em; text-align: center; vertical-align: top\">9e0ffeca058841af74d477c3f<br>103e40b ...</td>\n",
       "        <td style=\"padding-left: 1em; padding-right: 1em; text-align: center; vertical-align: top\"></td>\n",
       "        <td style=\"padding-left: 1em; padding-right: 1em; text-align: center; vertical-align: top\">0.066666667</td>\n",
       "        <td style=\"padding-left: 1em; padding-right: 1em; text-align: center; vertical-align: top\">0.163636364</td>\n",
       "        <td style=\"padding-left: 1em; padding-right: 1em; text-align: center; vertical-align: top\">0.011111111</td>\n",
       "    </tr>\n",
       "    <tr>\n",
       "        <td style=\"padding-left: 1em; padding-right: 1em; text-align: center; vertical-align: top\">11214e3a0b482b08e02d7931a<br>6e33b9c ...</td>\n",
       "        <td style=\"padding-left: 1em; padding-right: 1em; text-align: center; vertical-align: top\">9e0ffeca058841af74d477c3f<br>103e40b ...</td>\n",
       "        <td style=\"padding-left: 1em; padding-right: 1em; text-align: center; vertical-align: top\"></td>\n",
       "        <td style=\"padding-left: 1em; padding-right: 1em; text-align: center; vertical-align: top\">0.066666667</td>\n",
       "        <td style=\"padding-left: 1em; padding-right: 1em; text-align: center; vertical-align: top\">0.163636364</td>\n",
       "        <td style=\"padding-left: 1em; padding-right: 1em; text-align: center; vertical-align: top\">0.011111111</td>\n",
       "    </tr>\n",
       "    <tr>\n",
       "        <td style=\"padding-left: 1em; padding-right: 1em; text-align: center; vertical-align: top\">1de7a84143ec9dffd656e5cf6<br>082505e ...</td>\n",
       "        <td style=\"padding-left: 1em; padding-right: 1em; text-align: center; vertical-align: top\">9e4e3a64e537fd53993555104<br>c64a673 ...</td>\n",
       "        <td style=\"padding-left: 1em; padding-right: 1em; text-align: center; vertical-align: top\"></td>\n",
       "        <td style=\"padding-left: 1em; padding-right: 1em; text-align: center; vertical-align: top\">0.011111111</td>\n",
       "        <td style=\"padding-left: 1em; padding-right: 1em; text-align: center; vertical-align: top\">0.090909091</td>\n",
       "        <td style=\"padding-left: 1em; padding-right: 1em; text-align: center; vertical-align: top\">0.011111111</td>\n",
       "    </tr>\n",
       "</table>\n",
       "<table frame=\"box\" rules=\"cols\">\n",
       "    <tr>\n",
       "        <th style=\"padding-left: 1em; padding-right: 1em; text-align: center\">zj_q_label_tuisong</th>\n",
       "        <th style=\"padding-left: 1em; padding-right: 1em; text-align: center\">huidalv</th>\n",
       "        <th style=\"padding-left: 1em; padding-right: 1em; text-align: center\">label_huidalv</th>\n",
       "        <th style=\"padding-left: 1em; padding-right: 1em; text-align: center\">huidabi</th>\n",
       "        <th style=\"padding-left: 1em; padding-right: 1em; text-align: center\">huidalvbi</th>\n",
       "        <th style=\"padding-left: 1em; padding-right: 1em; text-align: center\">q_label</th>\n",
       "        <th style=\"padding-left: 1em; padding-right: 1em; text-align: center\">q_hot</th>\n",
       "        <th style=\"padding-left: 1em; padding-right: 1em; text-align: center\">q_sp</th>\n",
       "        <th style=\"padding-left: 1em; padding-right: 1em; text-align: center\">sp_rate</th>\n",
       "    </tr>\n",
       "    <tr>\n",
       "        <td style=\"padding-left: 1em; padding-right: 1em; text-align: center; vertical-align: top\">0.063636364</td>\n",
       "        <td style=\"padding-left: 1em; padding-right: 1em; text-align: center; vertical-align: top\">0.0</td>\n",
       "        <td style=\"padding-left: 1em; padding-right: 1em; text-align: center; vertical-align: top\">0.0</td>\n",
       "        <td style=\"padding-left: 1em; padding-right: 1em; text-align: center; vertical-align: top\">0.0</td>\n",
       "        <td style=\"padding-left: 1em; padding-right: 1em; text-align: center; vertical-align: top\">0.0</td>\n",
       "        <td style=\"padding-left: 1em; padding-right: 1em; text-align: center; vertical-align: top\">ql9</td>\n",
       "        <td style=\"padding-left: 1em; padding-right: 1em; text-align: center; vertical-align: top\">zero</td>\n",
       "        <td style=\"padding-left: 1em; padding-right: 1em; text-align: center; vertical-align: top\">0.002</td>\n",
       "        <td style=\"padding-left: 1em; padding-right: 1em; text-align: center; vertical-align: top\">0.5</td>\n",
       "    </tr>\n",
       "    <tr>\n",
       "        <td style=\"padding-left: 1em; padding-right: 1em; text-align: center; vertical-align: top\">0.236363636</td>\n",
       "        <td style=\"padding-left: 1em; padding-right: 1em; text-align: center; vertical-align: top\">0.115384615</td>\n",
       "        <td style=\"padding-left: 1em; padding-right: 1em; text-align: center; vertical-align: top\">0.115384615</td>\n",
       "        <td style=\"padding-left: 1em; padding-right: 1em; text-align: center; vertical-align: top\">1.0</td>\n",
       "        <td style=\"padding-left: 1em; padding-right: 1em; text-align: center; vertical-align: top\">1.0</td>\n",
       "        <td style=\"padding-left: 1em; padding-right: 1em; text-align: center; vertical-align: top\">ql8</td>\n",
       "        <td style=\"padding-left: 1em; padding-right: 1em; text-align: center; vertical-align: top\">hot3</td>\n",
       "        <td style=\"padding-left: 1em; padding-right: 1em; text-align: center; vertical-align: top\">0.016</td>\n",
       "        <td style=\"padding-left: 1em; padding-right: 1em; text-align: center; vertical-align: top\">0.333333333</td>\n",
       "    </tr>\n",
       "    <tr>\n",
       "        <td style=\"padding-left: 1em; padding-right: 1em; text-align: center; vertical-align: top\">0.236363636</td>\n",
       "        <td style=\"padding-left: 1em; padding-right: 1em; text-align: center; vertical-align: top\">0.115384615</td>\n",
       "        <td style=\"padding-left: 1em; padding-right: 1em; text-align: center; vertical-align: top\">0.115384615</td>\n",
       "        <td style=\"padding-left: 1em; padding-right: 1em; text-align: center; vertical-align: top\">1.0</td>\n",
       "        <td style=\"padding-left: 1em; padding-right: 1em; text-align: center; vertical-align: top\">1.0</td>\n",
       "        <td style=\"padding-left: 1em; padding-right: 1em; text-align: center; vertical-align: top\">ql8</td>\n",
       "        <td style=\"padding-left: 1em; padding-right: 1em; text-align: center; vertical-align: top\">hot3</td>\n",
       "        <td style=\"padding-left: 1em; padding-right: 1em; text-align: center; vertical-align: top\">0.016</td>\n",
       "        <td style=\"padding-left: 1em; padding-right: 1em; text-align: center; vertical-align: top\">0.210526316</td>\n",
       "    </tr>\n",
       "    <tr>\n",
       "        <td style=\"padding-left: 1em; padding-right: 1em; text-align: center; vertical-align: top\">0.236363636</td>\n",
       "        <td style=\"padding-left: 1em; padding-right: 1em; text-align: center; vertical-align: top\">0.115384615</td>\n",
       "        <td style=\"padding-left: 1em; padding-right: 1em; text-align: center; vertical-align: top\">0.115384615</td>\n",
       "        <td style=\"padding-left: 1em; padding-right: 1em; text-align: center; vertical-align: top\">1.0</td>\n",
       "        <td style=\"padding-left: 1em; padding-right: 1em; text-align: center; vertical-align: top\">1.0</td>\n",
       "        <td style=\"padding-left: 1em; padding-right: 1em; text-align: center; vertical-align: top\">ql8</td>\n",
       "        <td style=\"padding-left: 1em; padding-right: 1em; text-align: center; vertical-align: top\">hot1</td>\n",
       "        <td style=\"padding-left: 1em; padding-right: 1em; text-align: center; vertical-align: top\">0.04</td>\n",
       "        <td style=\"padding-left: 1em; padding-right: 1em; text-align: center; vertical-align: top\">0.148148148</td>\n",
       "    </tr>\n",
       "    <tr>\n",
       "        <td style=\"padding-left: 1em; padding-right: 1em; text-align: center; vertical-align: top\">0.009090909</td>\n",
       "        <td style=\"padding-left: 1em; padding-right: 1em; text-align: center; vertical-align: top\">0.0</td>\n",
       "        <td style=\"padding-left: 1em; padding-right: 1em; text-align: center; vertical-align: top\">0.0</td>\n",
       "        <td style=\"padding-left: 1em; padding-right: 1em; text-align: center; vertical-align: top\">0.0</td>\n",
       "        <td style=\"padding-left: 1em; padding-right: 1em; text-align: center; vertical-align: top\">0.0</td>\n",
       "        <td style=\"padding-left: 1em; padding-right: 1em; text-align: center; vertical-align: top\">ql8</td>\n",
       "        <td style=\"padding-left: 1em; padding-right: 1em; text-align: center; vertical-align: top\">hot4</td>\n",
       "        <td style=\"padding-left: 1em; padding-right: 1em; text-align: center; vertical-align: top\">0.012</td>\n",
       "        <td style=\"padding-left: 1em; padding-right: 1em; text-align: center; vertical-align: top\">0.375</td>\n",
       "    </tr>\n",
       "    <tr>\n",
       "        <td style=\"padding-left: 1em; padding-right: 1em; text-align: center; vertical-align: top\">0.054545455</td>\n",
       "        <td style=\"padding-left: 1em; padding-right: 1em; text-align: center; vertical-align: top\">0.0</td>\n",
       "        <td style=\"padding-left: 1em; padding-right: 1em; text-align: center; vertical-align: top\">0.0</td>\n",
       "        <td style=\"padding-left: 1em; padding-right: 1em; text-align: center; vertical-align: top\">0.0</td>\n",
       "        <td style=\"padding-left: 1em; padding-right: 1em; text-align: center; vertical-align: top\">0.0</td>\n",
       "        <td style=\"padding-left: 1em; padding-right: 1em; text-align: center; vertical-align: top\">ql19</td>\n",
       "        <td style=\"padding-left: 1em; padding-right: 1em; text-align: center; vertical-align: top\">hot3</td>\n",
       "        <td style=\"padding-left: 1em; padding-right: 1em; text-align: center; vertical-align: top\">0.014</td>\n",
       "        <td style=\"padding-left: 1em; padding-right: 1em; text-align: center; vertical-align: top\">0.24137931</td>\n",
       "    </tr>\n",
       "    <tr>\n",
       "        <td style=\"padding-left: 1em; padding-right: 1em; text-align: center; vertical-align: top\">0.045454545</td>\n",
       "        <td style=\"padding-left: 1em; padding-right: 1em; text-align: center; vertical-align: top\">0.333333333</td>\n",
       "        <td style=\"padding-left: 1em; padding-right: 1em; text-align: center; vertical-align: top\">0.2</td>\n",
       "        <td style=\"padding-left: 1em; padding-right: 1em; text-align: center; vertical-align: top\">0.166666667</td>\n",
       "        <td style=\"padding-left: 1em; padding-right: 1em; text-align: center; vertical-align: top\">0.6</td>\n",
       "        <td style=\"padding-left: 1em; padding-right: 1em; text-align: center; vertical-align: top\">ql6</td>\n",
       "        <td style=\"padding-left: 1em; padding-right: 1em; text-align: center; vertical-align: top\">hot5</td>\n",
       "        <td style=\"padding-left: 1em; padding-right: 1em; text-align: center; vertical-align: top\">0.008</td>\n",
       "        <td style=\"padding-left: 1em; padding-right: 1em; text-align: center; vertical-align: top\">0.571428571</td>\n",
       "    </tr>\n",
       "    <tr>\n",
       "        <td style=\"padding-left: 1em; padding-right: 1em; text-align: center; vertical-align: top\">0.045454545</td>\n",
       "        <td style=\"padding-left: 1em; padding-right: 1em; text-align: center; vertical-align: top\">0.333333333</td>\n",
       "        <td style=\"padding-left: 1em; padding-right: 1em; text-align: center; vertical-align: top\">0.2</td>\n",
       "        <td style=\"padding-left: 1em; padding-right: 1em; text-align: center; vertical-align: top\">0.166666667</td>\n",
       "        <td style=\"padding-left: 1em; padding-right: 1em; text-align: center; vertical-align: top\">0.6</td>\n",
       "        <td style=\"padding-left: 1em; padding-right: 1em; text-align: center; vertical-align: top\">ql6</td>\n",
       "        <td style=\"padding-left: 1em; padding-right: 1em; text-align: center; vertical-align: top\">zero</td>\n",
       "        <td style=\"padding-left: 1em; padding-right: 1em; text-align: center; vertical-align: top\">0.002</td>\n",
       "        <td style=\"padding-left: 1em; padding-right: 1em; text-align: center; vertical-align: top\">1.0</td>\n",
       "    </tr>\n",
       "    <tr>\n",
       "        <td style=\"padding-left: 1em; padding-right: 1em; text-align: center; vertical-align: top\">0.045454545</td>\n",
       "        <td style=\"padding-left: 1em; padding-right: 1em; text-align: center; vertical-align: top\">0.333333333</td>\n",
       "        <td style=\"padding-left: 1em; padding-right: 1em; text-align: center; vertical-align: top\">0.2</td>\n",
       "        <td style=\"padding-left: 1em; padding-right: 1em; text-align: center; vertical-align: top\">0.166666667</td>\n",
       "        <td style=\"padding-left: 1em; padding-right: 1em; text-align: center; vertical-align: top\">0.6</td>\n",
       "        <td style=\"padding-left: 1em; padding-right: 1em; text-align: center; vertical-align: top\">ql6</td>\n",
       "        <td style=\"padding-left: 1em; padding-right: 1em; text-align: center; vertical-align: top\">hot1</td>\n",
       "        <td style=\"padding-left: 1em; padding-right: 1em; text-align: center; vertical-align: top\">0.068</td>\n",
       "        <td style=\"padding-left: 1em; padding-right: 1em; text-align: center; vertical-align: top\">0.320754717</td>\n",
       "    </tr>\n",
       "    <tr>\n",
       "        <td style=\"padding-left: 1em; padding-right: 1em; text-align: center; vertical-align: top\">0.090909091</td>\n",
       "        <td style=\"padding-left: 1em; padding-right: 1em; text-align: center; vertical-align: top\">0.1</td>\n",
       "        <td style=\"padding-left: 1em; padding-right: 1em; text-align: center; vertical-align: top\">0.1</td>\n",
       "        <td style=\"padding-left: 1em; padding-right: 1em; text-align: center; vertical-align: top\">1.0</td>\n",
       "        <td style=\"padding-left: 1em; padding-right: 1em; text-align: center; vertical-align: top\">1.0</td>\n",
       "        <td style=\"padding-left: 1em; padding-right: 1em; text-align: center; vertical-align: top\">ql3</td>\n",
       "        <td style=\"padding-left: 1em; padding-right: 1em; text-align: center; vertical-align: top\">hot5</td>\n",
       "        <td style=\"padding-left: 1em; padding-right: 1em; text-align: center; vertical-align: top\">0.016</td>\n",
       "        <td style=\"padding-left: 1em; padding-right: 1em; text-align: center; vertical-align: top\">0.8</td>\n",
       "    </tr>\n",
       "</table>\n",
       "<table frame=\"box\" rules=\"cols\">\n",
       "    <tr>\n",
       "        <th style=\"padding-left: 1em; padding-right: 1em; text-align: center\">label_feature</th>\n",
       "    </tr>\n",
       "    <tr>\n",
       "        <td style=\"padding-left: 1em; padding-right: 1em; text-align: center; vertical-align: top\">0.0490683967382</td>\n",
       "    </tr>\n",
       "    <tr>\n",
       "        <td style=\"padding-left: 1em; padding-right: 1em; text-align: center; vertical-align: top\">0.0634342394641</td>\n",
       "    </tr>\n",
       "    <tr>\n",
       "        <td style=\"padding-left: 1em; padding-right: 1em; text-align: center; vertical-align: top\">0.0634557898536</td>\n",
       "    </tr>\n",
       "    <tr>\n",
       "        <td style=\"padding-left: 1em; padding-right: 1em; text-align: center; vertical-align: top\">0.0634330084668</td>\n",
       "    </tr>\n",
       "    <tr>\n",
       "        <td style=\"padding-left: 1em; padding-right: 1em; text-align: center; vertical-align: top\">0.048834294636</td>\n",
       "    </tr>\n",
       "    <tr>\n",
       "        <td style=\"padding-left: 1em; padding-right: 1em; text-align: center; vertical-align: top\">0.049164887121</td>\n",
       "    </tr>\n",
       "    <tr>\n",
       "        <td style=\"padding-left: 1em; padding-right: 1em; text-align: center; vertical-align: top\">0.0878576668725</td>\n",
       "    </tr>\n",
       "    <tr>\n",
       "        <td style=\"padding-left: 1em; padding-right: 1em; text-align: center; vertical-align: top\">0.0878551496566</td>\n",
       "    </tr>\n",
       "    <tr>\n",
       "        <td style=\"padding-left: 1em; padding-right: 1em; text-align: center; vertical-align: top\">0.0878691609134</td>\n",
       "    </tr>\n",
       "    <tr>\n",
       "        <td style=\"padding-left: 1em; padding-right: 1em; text-align: center; vertical-align: top\">0.0595268485824</td>\n",
       "    </tr>\n",
       "</table>\n",
       "[30167 rows x 16 columns]<br/>Note: Only the head of the SFrame is printed.<br/>You can use print_rows(num_rows=m, num_columns=n) to print more rows and columns.\n",
       "</div>"
      ],
      "text/plain": [
       "Columns:\n",
       "\tqid\tstr\n",
       "\tuid\tstr\n",
       "\tlabel\tstr\n",
       "\tzj_answers\tfloat\n",
       "\tzj_tuisong\tfloat\n",
       "\tzj_q_label_answers\tfloat\n",
       "\tzj_q_label_tuisong\tfloat\n",
       "\thuidalv\tfloat\n",
       "\tlabel_huidalv\tfloat\n",
       "\thuidabi\tfloat\n",
       "\thuidalvbi\tfloat\n",
       "\tq_label\tstr\n",
       "\tq_hot\tstr\n",
       "\tq_sp\tfloat\n",
       "\tsp_rate\tfloat\n",
       "\tlabel_feature\tfloat\n",
       "\n",
       "Rows: 30167\n",
       "\n",
       "Data:\n",
       "+-------------------------------+-------------------------------+-------+\n",
       "|              qid              |              uid              | label |\n",
       "+-------------------------------+-------------------------------+-------+\n",
       "| 3d31e9a8328518f98d00beabfd... | c8dae6a8d94b0c60267c3baf24... |       |\n",
       "| 58b9aa96712020827834a53579... | b6b3a645fdd05d80afb55cb987... |       |\n",
       "| e3cd5546fa63fe120810c8971c... | b6b3a645fdd05d80afb55cb987... |       |\n",
       "| e888f91bd5d4710599cf217ee6... | b6b3a645fdd05d80afb55cb987... |       |\n",
       "| 929e035befdd897e56565aca83... | b7175c64a65ff56fdac5ed799d... |       |\n",
       "| 624add4fbd780fb9e61cbe509d... | 9a08d2d18b2ddba7695e69523e... |       |\n",
       "| de8ac0376a95037d42abe5518a... | 9e0ffeca058841af74d477c3f1... |       |\n",
       "| 53cf4803a5628259b6ca756d28... | 9e0ffeca058841af74d477c3f1... |       |\n",
       "| 11214e3a0b482b08e02d7931a6... | 9e0ffeca058841af74d477c3f1... |       |\n",
       "| 1de7a84143ec9dffd656e5cf60... | 9e4e3a64e537fd53993555104c... |       |\n",
       "+-------------------------------+-------------------------------+-------+\n",
       "+-------------+-------------+--------------------+--------------------+\n",
       "|  zj_answers |  zj_tuisong | zj_q_label_answers | zj_q_label_tuisong |\n",
       "+-------------+-------------+--------------------+--------------------+\n",
       "|     0.0     | 0.081818182 |        0.0         |    0.063636364     |\n",
       "| 0.033333333 | 0.236363636 |    0.033333333     |    0.236363636     |\n",
       "| 0.033333333 | 0.236363636 |    0.033333333     |    0.236363636     |\n",
       "| 0.033333333 | 0.236363636 |    0.033333333     |    0.236363636     |\n",
       "|     0.0     | 0.009090909 |        0.0         |    0.009090909     |\n",
       "|     0.0     | 0.172727273 |        0.0         |    0.054545455     |\n",
       "| 0.066666667 | 0.163636364 |    0.011111111     |    0.045454545     |\n",
       "| 0.066666667 | 0.163636364 |    0.011111111     |    0.045454545     |\n",
       "| 0.066666667 | 0.163636364 |    0.011111111     |    0.045454545     |\n",
       "| 0.011111111 | 0.090909091 |    0.011111111     |    0.090909091     |\n",
       "+-------------+-------------+--------------------+--------------------+\n",
       "+-------------+---------------+-------------+-----------+---------+-------+\n",
       "|   huidalv   | label_huidalv |   huidabi   | huidalvbi | q_label | q_hot |\n",
       "+-------------+---------------+-------------+-----------+---------+-------+\n",
       "|     0.0     |      0.0      |     0.0     |    0.0    |   ql9   |  zero |\n",
       "| 0.115384615 |  0.115384615  |     1.0     |    1.0    |   ql8   |  hot3 |\n",
       "| 0.115384615 |  0.115384615  |     1.0     |    1.0    |   ql8   |  hot3 |\n",
       "| 0.115384615 |  0.115384615  |     1.0     |    1.0    |   ql8   |  hot1 |\n",
       "|     0.0     |      0.0      |     0.0     |    0.0    |   ql8   |  hot4 |\n",
       "|     0.0     |      0.0      |     0.0     |    0.0    |   ql19  |  hot3 |\n",
       "| 0.333333333 |      0.2      | 0.166666667 |    0.6    |   ql6   |  hot5 |\n",
       "| 0.333333333 |      0.2      | 0.166666667 |    0.6    |   ql6   |  zero |\n",
       "| 0.333333333 |      0.2      | 0.166666667 |    0.6    |   ql6   |  hot1 |\n",
       "|     0.1     |      0.1      |     1.0     |    1.0    |   ql3   |  hot5 |\n",
       "+-------------+---------------+-------------+-----------+---------+-------+\n",
       "+-------+-------------+-----------------+\n",
       "|  q_sp |   sp_rate   |  label_feature  |\n",
       "+-------+-------------+-----------------+\n",
       "| 0.002 |     0.5     | 0.0490683967382 |\n",
       "| 0.016 | 0.333333333 | 0.0634342394641 |\n",
       "| 0.016 | 0.210526316 | 0.0634557898536 |\n",
       "|  0.04 | 0.148148148 | 0.0634330084668 |\n",
       "| 0.012 |    0.375    |  0.048834294636 |\n",
       "| 0.014 |  0.24137931 |  0.049164887121 |\n",
       "| 0.008 | 0.571428571 | 0.0878576668725 |\n",
       "| 0.002 |     1.0     | 0.0878551496566 |\n",
       "| 0.068 | 0.320754717 | 0.0878691609134 |\n",
       "| 0.016 |     0.8     | 0.0595268485824 |\n",
       "+-------+-------------+-----------------+\n",
       "[30167 rows x 16 columns]\n",
       "Note: Only the head of the SFrame is printed.\n",
       "You can use print_rows(num_rows=m, num_columns=n) to print more rows and columns."
      ]
     },
     "execution_count": 16,
     "metadata": {},
     "output_type": "execute_result"
    }
   ],
   "source": [
    "test_for_predict=gl.SFrame.read_csv(\"test_1115_for_predict.csv\")\n",
    "test_gl=test_for_predict[['uid','qid','label_huidalv']]\n",
    "test_user_data =test_for_predict[['uid','huidalv']] \n",
    "test_item_data =test_for_predict[['qid','q_label','q_sp']]\n",
    "\n",
    "test_recs = m.predict(test_gl,new_user_data=test_user_data,new_item_data=test_item_data)\n",
    "test_for_predict.add_column(test_recs,name='label_feature')"
   ]
  },
  {
   "cell_type": "code",
   "execution_count": 19,
   "metadata": {
    "collapsed": true
   },
   "outputs": [],
   "source": [
    "val_1117[['qid','uid','label_feature']].save('rk_ensemble/rk_new_train.csv') \n",
    "validate_for_predict[['qid','uid','label_feature']].save('rk_ensemble/rk_new_validate_for_predict.csv') \n",
    "test_for_predict[['qid','uid','label_feature']].save('rk_ensemble/rk_new_test_for_predict.csv') "
   ]
  },
  {
   "cell_type": "code",
   "execution_count": 29,
   "metadata": {
    "collapsed": false
   },
   "outputs": [],
   "source": [
    "new_train=val_1117[['qid','uid','label','huidalv','label_huidalv','q_label','q_sp','label_feature']]\n",
    "new_validate_for_predict=validate_for_predict[['qid','uid','label','huidalv','label_huidalv','q_label','q_sp','label_feature']]\n",
    "new_test_for_predict=test_for_predict[['qid','uid','label','huidalv','label_huidalv','q_label','q_sp','label_feature']]"
   ]
  },
  {
   "cell_type": "code",
   "execution_count": 32,
   "metadata": {
    "collapsed": false
   },
   "outputs": [],
   "source": [
    "new_train.save('new_train.csv') \n",
    "new_validate_for_predict.save('new_validate_for_predict.csv') \n",
    "new_test_for_predict.save('new_test_for_predict.csv') "
   ]
  },
  {
   "cell_type": "markdown",
   "metadata": {},
   "source": [
    "把val集作为训练集重新训练模型"
   ]
  },
  {
   "cell_type": "code",
   "execution_count": 33,
   "metadata": {
    "collapsed": true
   },
   "outputs": [],
   "source": [
    "second_train_gl=new_train[['uid','qid','label','label_feature']]\n",
    "second_validate_gl=new_validate_for_predict[['uid','qid','label_feature']]\n",
    "\n",
    "second_user_data =train_1117[['uid','huidalv']] \n",
    "second_item_data=train_1117[['qid','q_label','q_sp']] "
   ]
  },
  {
   "cell_type": "code",
   "execution_count": 36,
   "metadata": {
    "collapsed": false
   },
   "outputs": [
    {
     "data": {
      "text/html": [
       "<pre>Recsys training: model = factorization_recommender</pre>"
      ],
      "text/plain": [
       "Recsys training: model = factorization_recommender"
      ]
     },
     "metadata": {},
     "output_type": "display_data"
    },
    {
     "data": {
      "text/html": [
       "<pre>Preparing data set.</pre>"
      ],
      "text/plain": [
       "Preparing data set."
      ]
     },
     "metadata": {},
     "output_type": "display_data"
    },
    {
     "data": {
      "text/html": [
       "<pre>    Data has 139188 observations with 27127 users and 7708 items.</pre>"
      ],
      "text/plain": [
       "    Data has 139188 observations with 27127 users and 7708 items."
      ]
     },
     "metadata": {},
     "output_type": "display_data"
    },
    {
     "data": {
      "text/html": [
       "<pre>    Data prepared in: 0.206727s</pre>"
      ],
      "text/plain": [
       "    Data prepared in: 0.206727s"
      ]
     },
     "metadata": {},
     "output_type": "display_data"
    },
    {
     "data": {
      "text/html": [
       "<pre>Training factorization_recommender for recommendations.</pre>"
      ],
      "text/plain": [
       "Training factorization_recommender for recommendations."
      ]
     },
     "metadata": {},
     "output_type": "display_data"
    },
    {
     "data": {
      "text/html": [
       "<pre>+--------------------------------+--------------------------------------------------+----------+</pre>"
      ],
      "text/plain": [
       "+--------------------------------+--------------------------------------------------+----------+"
      ]
     },
     "metadata": {},
     "output_type": "display_data"
    },
    {
     "data": {
      "text/html": [
       "<pre>| Parameter                      | Description                                      | Value    |</pre>"
      ],
      "text/plain": [
       "| Parameter                      | Description                                      | Value    |"
      ]
     },
     "metadata": {},
     "output_type": "display_data"
    },
    {
     "data": {
      "text/html": [
       "<pre>+--------------------------------+--------------------------------------------------+----------+</pre>"
      ],
      "text/plain": [
       "+--------------------------------+--------------------------------------------------+----------+"
      ]
     },
     "metadata": {},
     "output_type": "display_data"
    },
    {
     "data": {
      "text/html": [
       "<pre>| num_factors                    | Factor Dimension                                 | 1024     |</pre>"
      ],
      "text/plain": [
       "| num_factors                    | Factor Dimension                                 | 1024     |"
      ]
     },
     "metadata": {},
     "output_type": "display_data"
    },
    {
     "data": {
      "text/html": [
       "<pre>| regularization                 | L2 Regularization on Factors                     | 0.006    |</pre>"
      ],
      "text/plain": [
       "| regularization                 | L2 Regularization on Factors                     | 0.006    |"
      ]
     },
     "metadata": {},
     "output_type": "display_data"
    },
    {
     "data": {
      "text/html": [
       "<pre>| solver                         | Solver used for training                         | adagrad  |</pre>"
      ],
      "text/plain": [
       "| solver                         | Solver used for training                         | adagrad  |"
      ]
     },
     "metadata": {},
     "output_type": "display_data"
    },
    {
     "data": {
      "text/html": [
       "<pre>| linear_regularization          | L2 Regularization on Linear Coefficients         | 0.006    |</pre>"
      ],
      "text/plain": [
       "| linear_regularization          | L2 Regularization on Linear Coefficients         | 0.006    |"
      ]
     },
     "metadata": {},
     "output_type": "display_data"
    },
    {
     "data": {
      "text/html": [
       "<pre>| binary_target                  | Assume Binary Targets                            | True     |</pre>"
      ],
      "text/plain": [
       "| binary_target                  | Assume Binary Targets                            | True     |"
      ]
     },
     "metadata": {},
     "output_type": "display_data"
    },
    {
     "data": {
      "text/html": [
       "<pre>| side_data_factorization        | Assign Factors for Side Data                     | True     |</pre>"
      ],
      "text/plain": [
       "| side_data_factorization        | Assign Factors for Side Data                     | True     |"
      ]
     },
     "metadata": {},
     "output_type": "display_data"
    },
    {
     "data": {
      "text/html": [
       "<pre>| max_iterations                 | Maximum Number of Iterations                     | 2000     |</pre>"
      ],
      "text/plain": [
       "| max_iterations                 | Maximum Number of Iterations                     | 2000     |"
      ]
     },
     "metadata": {},
     "output_type": "display_data"
    },
    {
     "data": {
      "text/html": [
       "<pre>+--------------------------------+--------------------------------------------------+----------+</pre>"
      ],
      "text/plain": [
       "+--------------------------------+--------------------------------------------------+----------+"
      ]
     },
     "metadata": {},
     "output_type": "display_data"
    },
    {
     "data": {
      "text/html": [
       "<pre>  Optimizing model using SGD; tuning step size.</pre>"
      ],
      "text/plain": [
       "  Optimizing model using SGD; tuning step size."
      ]
     },
     "metadata": {},
     "output_type": "display_data"
    },
    {
     "data": {
      "text/html": [
       "<pre>  Using 17398 / 139188 points for tuning the step size.</pre>"
      ],
      "text/plain": [
       "  Using 17398 / 139188 points for tuning the step size."
      ]
     },
     "metadata": {},
     "output_type": "display_data"
    },
    {
     "data": {
      "text/html": [
       "<pre>+---------+-------------------+------------------------------------------+</pre>"
      ],
      "text/plain": [
       "+---------+-------------------+------------------------------------------+"
      ]
     },
     "metadata": {},
     "output_type": "display_data"
    },
    {
     "data": {
      "text/html": [
       "<pre>| Attempt | Initial Step Size | Estimated Objective Value                |</pre>"
      ],
      "text/plain": [
       "| Attempt | Initial Step Size | Estimated Objective Value                |"
      ]
     },
     "metadata": {},
     "output_type": "display_data"
    },
    {
     "data": {
      "text/html": [
       "<pre>+---------+-------------------+------------------------------------------+</pre>"
      ],
      "text/plain": [
       "+---------+-------------------+------------------------------------------+"
      ]
     },
     "metadata": {},
     "output_type": "display_data"
    },
    {
     "data": {
      "text/html": [
       "<pre>| 0       | 0.0882059         | Not Viable                               |</pre>"
      ],
      "text/plain": [
       "| 0       | 0.0882059         | Not Viable                               |"
      ]
     },
     "metadata": {},
     "output_type": "display_data"
    },
    {
     "data": {
      "text/html": [
       "<pre>| 1       | 0.0220515         | Not Viable                               |</pre>"
      ],
      "text/plain": [
       "| 1       | 0.0220515         | Not Viable                               |"
      ]
     },
     "metadata": {},
     "output_type": "display_data"
    },
    {
     "data": {
      "text/html": [
       "<pre>| 2       | 0.00551287        | No Decrease (3.32654 >= 0.734636)        |</pre>"
      ],
      "text/plain": [
       "| 2       | 0.00551287        | No Decrease (3.32654 >= 0.734636)        |"
      ]
     },
     "metadata": {},
     "output_type": "display_data"
    },
    {
     "data": {
      "text/html": [
       "<pre>| 3       | 0.00137822        | No Decrease (2.39036 >= 0.734636)        |</pre>"
      ],
      "text/plain": [
       "| 3       | 0.00137822        | No Decrease (2.39036 >= 0.734636)        |"
      ]
     },
     "metadata": {},
     "output_type": "display_data"
    },
    {
     "data": {
      "text/html": [
       "<pre>| 4       | 0.000344554       | No Decrease (0.932083 >= 0.734636)       |</pre>"
      ],
      "text/plain": [
       "| 4       | 0.000344554       | No Decrease (0.932083 >= 0.734636)       |"
      ]
     },
     "metadata": {},
     "output_type": "display_data"
    },
    {
     "data": {
      "text/html": [
       "<pre>| 5       | 8.61386e-005      | No Decrease (0.743398 >= 0.734636)       |</pre>"
      ],
      "text/plain": [
       "| 5       | 8.61386e-005      | No Decrease (0.743398 >= 0.734636)       |"
      ]
     },
     "metadata": {},
     "output_type": "display_data"
    },
    {
     "data": {
      "text/html": [
       "<pre>| 6       | 2.15346e-005      | 0.732811                                 |</pre>"
      ],
      "text/plain": [
       "| 6       | 2.15346e-005      | 0.732811                                 |"
      ]
     },
     "metadata": {},
     "output_type": "display_data"
    },
    {
     "data": {
      "text/html": [
       "<pre>| 7       | 1.07673e-005      | 0.733509                                 |</pre>"
      ],
      "text/plain": [
       "| 7       | 1.07673e-005      | 0.733509                                 |"
      ]
     },
     "metadata": {},
     "output_type": "display_data"
    },
    {
     "data": {
      "text/html": [
       "<pre>| 8       | 5.38366e-006      | 0.73401                                  |</pre>"
      ],
      "text/plain": [
       "| 8       | 5.38366e-006      | 0.73401                                  |"
      ]
     },
     "metadata": {},
     "output_type": "display_data"
    },
    {
     "data": {
      "text/html": [
       "<pre>| 9       | 2.69183e-006      | 0.734302                                 |</pre>"
      ],
      "text/plain": [
       "| 9       | 2.69183e-006      | 0.734302                                 |"
      ]
     },
     "metadata": {},
     "output_type": "display_data"
    },
    {
     "data": {
      "text/html": [
       "<pre>+---------+-------------------+------------------------------------------+</pre>"
      ],
      "text/plain": [
       "+---------+-------------------+------------------------------------------+"
      ]
     },
     "metadata": {},
     "output_type": "display_data"
    },
    {
     "data": {
      "text/html": [
       "<pre>| Final   | 2.15346e-005      | 0.732811                                 |</pre>"
      ],
      "text/plain": [
       "| Final   | 2.15346e-005      | 0.732811                                 |"
      ]
     },
     "metadata": {},
     "output_type": "display_data"
    },
    {
     "data": {
      "text/html": [
       "<pre>+---------+-------------------+------------------------------------------+</pre>"
      ],
      "text/plain": [
       "+---------+-------------------+------------------------------------------+"
      ]
     },
     "metadata": {},
     "output_type": "display_data"
    },
    {
     "data": {
      "text/html": [
       "<pre>Starting Optimization.</pre>"
      ],
      "text/plain": [
       "Starting Optimization."
      ]
     },
     "metadata": {},
     "output_type": "display_data"
    },
    {
     "data": {
      "text/html": [
       "<pre>+---------+--------------+-------------------+-----------------------------------+-------------+</pre>"
      ],
      "text/plain": [
       "+---------+--------------+-------------------+-----------------------------------+-------------+"
      ]
     },
     "metadata": {},
     "output_type": "display_data"
    },
    {
     "data": {
      "text/html": [
       "<pre>| Iter.   | Elapsed Time | Approx. Objective | Approx. Training Predictive Error | Step Size   |</pre>"
      ],
      "text/plain": [
       "| Iter.   | Elapsed Time | Approx. Objective | Approx. Training Predictive Error | Step Size   |"
      ]
     },
     "metadata": {},
     "output_type": "display_data"
    },
    {
     "data": {
      "text/html": [
       "<pre>+---------+--------------+-------------------+-----------------------------------+-------------+</pre>"
      ],
      "text/plain": [
       "+---------+--------------+-------------------+-----------------------------------+-------------+"
      ]
     },
     "metadata": {},
     "output_type": "display_data"
    },
    {
     "data": {
      "text/html": [
       "<pre>| Initial | 0us          | 0.73459           | 0.734572                          |             |</pre>"
      ],
      "text/plain": [
       "| Initial | 0us          | 0.73459           | 0.734572                          |             |"
      ]
     },
     "metadata": {},
     "output_type": "display_data"
    },
    {
     "data": {
      "text/html": [
       "<pre>+---------+--------------+-------------------+-----------------------------------+-------------+</pre>"
      ],
      "text/plain": [
       "+---------+--------------+-------------------+-----------------------------------+-------------+"
      ]
     },
     "metadata": {},
     "output_type": "display_data"
    },
    {
     "data": {
      "text/html": [
       "<pre>| 1       | 1.36s        | 0.734838          | 0.731523                          |             |</pre>"
      ],
      "text/plain": [
       "| 1       | 1.36s        | 0.734838          | 0.731523                          |             |"
      ]
     },
     "metadata": {},
     "output_type": "display_data"
    },
    {
     "data": {
      "text/html": [
       "<pre>| 2       | 3.07s        | 0.734922          | 0.72782                           |             |</pre>"
      ],
      "text/plain": [
       "| 2       | 3.07s        | 0.734922          | 0.72782                           |             |"
      ]
     },
     "metadata": {},
     "output_type": "display_data"
    },
    {
     "data": {
      "text/html": [
       "<pre>| 3       | 4.55s        | 0.735577          | 0.724713                          |             |</pre>"
      ],
      "text/plain": [
       "| 3       | 4.55s        | 0.735577          | 0.724713                          |             |"
      ]
     },
     "metadata": {},
     "output_type": "display_data"
    },
    {
     "data": {
      "text/html": [
       "<pre>| 4       | 6.08s        | 0.736414          | 0.721847                          |             |</pre>"
      ],
      "text/plain": [
       "| 4       | 6.08s        | 0.736414          | 0.721847                          |             |"
      ]
     },
     "metadata": {},
     "output_type": "display_data"
    },
    {
     "data": {
      "text/html": [
       "<pre>| 5       | 7.83s        | 0.737257          | 0.71913                           |             |</pre>"
      ],
      "text/plain": [
       "| 5       | 7.83s        | 0.737257          | 0.71913                           |             |"
      ]
     },
     "metadata": {},
     "output_type": "display_data"
    },
    {
     "data": {
      "text/html": [
       "<pre>| 6       | 9.58s        | 0.73813           | 0.716566                          |             |</pre>"
      ],
      "text/plain": [
       "| 6       | 9.58s        | 0.73813           | 0.716566                          |             |"
      ]
     },
     "metadata": {},
     "output_type": "display_data"
    },
    {
     "data": {
      "text/html": [
       "<pre>| 7       | 11.26s       | 0.738989          | 0.714119                          |             |</pre>"
      ],
      "text/plain": [
       "| 7       | 11.26s       | 0.738989          | 0.714119                          |             |"
      ]
     },
     "metadata": {},
     "output_type": "display_data"
    },
    {
     "data": {
      "text/html": [
       "<pre>| 8       | 12.83s       | 0.739809          | 0.711777                          |             |</pre>"
      ],
      "text/plain": [
       "| 8       | 12.83s       | 0.739809          | 0.711777                          |             |"
      ]
     },
     "metadata": {},
     "output_type": "display_data"
    },
    {
     "data": {
      "text/html": [
       "<pre>| 9       | 14.49s       | 0.740626          | 0.709532                          |             |</pre>"
      ],
      "text/plain": [
       "| 9       | 14.49s       | 0.740626          | 0.709532                          |             |"
      ]
     },
     "metadata": {},
     "output_type": "display_data"
    },
    {
     "data": {
      "text/html": [
       "<pre>| 10      | 16.11s       | 0.741325          | 0.707391                          |             |</pre>"
      ],
      "text/plain": [
       "| 10      | 16.11s       | 0.741325          | 0.707391                          |             |"
      ]
     },
     "metadata": {},
     "output_type": "display_data"
    },
    {
     "data": {
      "text/html": [
       "<pre>| 11      | 17.71s       | 0.742007          | 0.705332                          |             |</pre>"
      ],
      "text/plain": [
       "| 11      | 17.71s       | 0.742007          | 0.705332                          |             |"
      ]
     },
     "metadata": {},
     "output_type": "display_data"
    },
    {
     "data": {
      "text/html": [
       "<pre>| 12      | 19.21s       | 0.742661          | 0.703342                          |             |</pre>"
      ],
      "text/plain": [
       "| 12      | 19.21s       | 0.742661          | 0.703342                          |             |"
      ]
     },
     "metadata": {},
     "output_type": "display_data"
    },
    {
     "data": {
      "text/html": [
       "<pre>| 13      | 20.69s       | 0.743294          | 0.701426                          |             |</pre>"
      ],
      "text/plain": [
       "| 13      | 20.69s       | 0.743294          | 0.701426                          |             |"
      ]
     },
     "metadata": {},
     "output_type": "display_data"
    },
    {
     "data": {
      "text/html": [
       "<pre>| 14      | 22.16s       | 0.743881          | 0.699593                          |             |</pre>"
      ],
      "text/plain": [
       "| 14      | 22.16s       | 0.743881          | 0.699593                          |             |"
      ]
     },
     "metadata": {},
     "output_type": "display_data"
    },
    {
     "data": {
      "text/html": [
       "<pre>| 15      | 23.67s       | 0.744414          | 0.697819                          |             |</pre>"
      ],
      "text/plain": [
       "| 15      | 23.67s       | 0.744414          | 0.697819                          |             |"
      ]
     },
     "metadata": {},
     "output_type": "display_data"
    },
    {
     "data": {
      "text/html": [
       "<pre>| 16      | 25.14s       | 0.744932          | 0.696104                          |             |</pre>"
      ],
      "text/plain": [
       "| 16      | 25.14s       | 0.744932          | 0.696104                          |             |"
      ]
     },
     "metadata": {},
     "output_type": "display_data"
    },
    {
     "data": {
      "text/html": [
       "<pre>| 17      | 26.63s       | 0.745358          | 0.694434                          |             |</pre>"
      ],
      "text/plain": [
       "| 17      | 26.63s       | 0.745358          | 0.694434                          |             |"
      ]
     },
     "metadata": {},
     "output_type": "display_data"
    },
    {
     "data": {
      "text/html": [
       "<pre>| 18      | 28.09s       | 0.745791          | 0.692841                          |             |</pre>"
      ],
      "text/plain": [
       "| 18      | 28.09s       | 0.745791          | 0.692841                          |             |"
      ]
     },
     "metadata": {},
     "output_type": "display_data"
    },
    {
     "data": {
      "text/html": [
       "<pre>| 19      | 29.57s       | 0.746184          | 0.691308                          |             |</pre>"
      ],
      "text/plain": [
       "| 19      | 29.57s       | 0.746184          | 0.691308                          |             |"
      ]
     },
     "metadata": {},
     "output_type": "display_data"
    },
    {
     "data": {
      "text/html": [
       "<pre>| 20      | 31.03s       | 0.746515          | 0.689812                          |             |</pre>"
      ],
      "text/plain": [
       "| 20      | 31.03s       | 0.746515          | 0.689812                          |             |"
      ]
     },
     "metadata": {},
     "output_type": "display_data"
    },
    {
     "data": {
      "text/html": [
       "<pre>| 21      | 32.58s       | 0.746829          | 0.688346                          |             |</pre>"
      ],
      "text/plain": [
       "| 21      | 32.58s       | 0.746829          | 0.688346                          |             |"
      ]
     },
     "metadata": {},
     "output_type": "display_data"
    },
    {
     "data": {
      "text/html": [
       "<pre>| 22      | 34.33s       | 0.747113          | 0.68695                           |             |</pre>"
      ],
      "text/plain": [
       "| 22      | 34.33s       | 0.747113          | 0.68695                           |             |"
      ]
     },
     "metadata": {},
     "output_type": "display_data"
    },
    {
     "data": {
      "text/html": [
       "<pre>| 23      | 36.04s       | 0.747337          | 0.685584                          |             |</pre>"
      ],
      "text/plain": [
       "| 23      | 36.04s       | 0.747337          | 0.685584                          |             |"
      ]
     },
     "metadata": {},
     "output_type": "display_data"
    },
    {
     "data": {
      "text/html": [
       "<pre>| 24      | 37.71s       | 0.747529          | 0.684271                          |             |</pre>"
      ],
      "text/plain": [
       "| 24      | 37.71s       | 0.747529          | 0.684271                          |             |"
      ]
     },
     "metadata": {},
     "output_type": "display_data"
    },
    {
     "data": {
      "text/html": [
       "<pre>| 25      | 39.39s       | 0.747668          | 0.682988                          |             |</pre>"
      ],
      "text/plain": [
       "| 25      | 39.39s       | 0.747668          | 0.682988                          |             |"
      ]
     },
     "metadata": {},
     "output_type": "display_data"
    },
    {
     "data": {
      "text/html": [
       "<pre>| 26      | 41.05s       | 0.747797          | 0.681756                          |             |</pre>"
      ],
      "text/plain": [
       "| 26      | 41.05s       | 0.747797          | 0.681756                          |             |"
      ]
     },
     "metadata": {},
     "output_type": "display_data"
    },
    {
     "data": {
      "text/html": [
       "<pre>| 27      | 42.86s       | 0.747864          | 0.680548                          |             |</pre>"
      ],
      "text/plain": [
       "| 27      | 42.86s       | 0.747864          | 0.680548                          |             |"
      ]
     },
     "metadata": {},
     "output_type": "display_data"
    },
    {
     "data": {
      "text/html": [
       "<pre>| 28      | 44.36s       | 0.747934          | 0.679375                          |             |</pre>"
      ],
      "text/plain": [
       "| 28      | 44.36s       | 0.747934          | 0.679375                          |             |"
      ]
     },
     "metadata": {},
     "output_type": "display_data"
    },
    {
     "data": {
      "text/html": [
       "<pre>| 29      | 45.93s       | 0.747957          | 0.678229                          |             |</pre>"
      ],
      "text/plain": [
       "| 29      | 45.93s       | 0.747957          | 0.678229                          |             |"
      ]
     },
     "metadata": {},
     "output_type": "display_data"
    },
    {
     "data": {
      "text/html": [
       "<pre>| 30      | 47.50s       | 0.747994          | 0.677125                          |             |</pre>"
      ],
      "text/plain": [
       "| 30      | 47.50s       | 0.747994          | 0.677125                          |             |"
      ]
     },
     "metadata": {},
     "output_type": "display_data"
    },
    {
     "data": {
      "text/html": [
       "<pre>| 31      | 49.08s       | 0.747966          | 0.67605                           |             |</pre>"
      ],
      "text/plain": [
       "| 31      | 49.08s       | 0.747966          | 0.67605                           |             |"
      ]
     },
     "metadata": {},
     "output_type": "display_data"
    },
    {
     "data": {
      "text/html": [
       "<pre>| 32      | 50.44s       | 0.747945          | 0.675028                          |             |</pre>"
      ],
      "text/plain": [
       "| 32      | 50.44s       | 0.747945          | 0.675028                          |             |"
      ]
     },
     "metadata": {},
     "output_type": "display_data"
    },
    {
     "data": {
      "text/html": [
       "<pre>| 33      | 51.92s       | 0.747909          | 0.674024                          |             |</pre>"
      ],
      "text/plain": [
       "| 33      | 51.92s       | 0.747909          | 0.674024                          |             |"
      ]
     },
     "metadata": {},
     "output_type": "display_data"
    },
    {
     "data": {
      "text/html": [
       "<pre>| 34      | 53.28s       | 0.747834          | 0.673014                          |             |</pre>"
      ],
      "text/plain": [
       "| 34      | 53.28s       | 0.747834          | 0.673014                          |             |"
      ]
     },
     "metadata": {},
     "output_type": "display_data"
    },
    {
     "data": {
      "text/html": [
       "<pre>| 35      | 54.69s       | 0.747747          | 0.672046                          |             |</pre>"
      ],
      "text/plain": [
       "| 35      | 54.69s       | 0.747747          | 0.672046                          |             |"
      ]
     },
     "metadata": {},
     "output_type": "display_data"
    },
    {
     "data": {
      "text/html": [
       "<pre>| 36      | 56.12s       | 0.747646          | 0.671123                          |             |</pre>"
      ],
      "text/plain": [
       "| 36      | 56.12s       | 0.747646          | 0.671123                          |             |"
      ]
     },
     "metadata": {},
     "output_type": "display_data"
    },
    {
     "data": {
      "text/html": [
       "<pre>| 37      | 57.52s       | 0.747527          | 0.670224                          |             |</pre>"
      ],
      "text/plain": [
       "| 37      | 57.52s       | 0.747527          | 0.670224                          |             |"
      ]
     },
     "metadata": {},
     "output_type": "display_data"
    },
    {
     "data": {
      "text/html": [
       "<pre>| 38      | 58.94s       | 0.747354          | 0.669322                          |             |</pre>"
      ],
      "text/plain": [
       "| 38      | 58.94s       | 0.747354          | 0.669322                          |             |"
      ]
     },
     "metadata": {},
     "output_type": "display_data"
    },
    {
     "data": {
      "text/html": [
       "<pre>| 39      | 1m 0s        | 0.747204          | 0.668481                          |             |</pre>"
      ],
      "text/plain": [
       "| 39      | 1m 0s        | 0.747204          | 0.668481                          |             |"
      ]
     },
     "metadata": {},
     "output_type": "display_data"
    },
    {
     "data": {
      "text/html": [
       "<pre>| 40      | 1m 1s        | 0.747014          | 0.667635                          |             |</pre>"
      ],
      "text/plain": [
       "| 40      | 1m 1s        | 0.747014          | 0.667635                          |             |"
      ]
     },
     "metadata": {},
     "output_type": "display_data"
    },
    {
     "data": {
      "text/html": [
       "<pre>| 41      | 1m 3s        | 0.746814          | 0.666816                          |             |</pre>"
      ],
      "text/plain": [
       "| 41      | 1m 3s        | 0.746814          | 0.666816                          |             |"
      ]
     },
     "metadata": {},
     "output_type": "display_data"
    },
    {
     "data": {
      "text/html": [
       "<pre>| 42      | 1m 4s        | 0.746576          | 0.665992                          |             |</pre>"
      ],
      "text/plain": [
       "| 42      | 1m 4s        | 0.746576          | 0.665992                          |             |"
      ]
     },
     "metadata": {},
     "output_type": "display_data"
    },
    {
     "data": {
      "text/html": [
       "<pre>| 43      | 1m 5s        | 0.746352          | 0.665218                          |             |</pre>"
      ],
      "text/plain": [
       "| 43      | 1m 5s        | 0.746352          | 0.665218                          |             |"
      ]
     },
     "metadata": {},
     "output_type": "display_data"
    },
    {
     "data": {
      "text/html": [
       "<pre>| 44      | 1m 7s        | 0.746091          | 0.664461                          |             |</pre>"
      ],
      "text/plain": [
       "| 44      | 1m 7s        | 0.746091          | 0.664461                          |             |"
      ]
     },
     "metadata": {},
     "output_type": "display_data"
    },
    {
     "data": {
      "text/html": [
       "<pre>| 45      | 1m 8s        | 0.745833          | 0.663731                          |             |</pre>"
      ],
      "text/plain": [
       "| 45      | 1m 8s        | 0.745833          | 0.663731                          |             |"
      ]
     },
     "metadata": {},
     "output_type": "display_data"
    },
    {
     "data": {
      "text/html": [
       "<pre>| 46      | 1m 9s        | 0.745556          | 0.662993                          |             |</pre>"
      ],
      "text/plain": [
       "| 46      | 1m 9s        | 0.745556          | 0.662993                          |             |"
      ]
     },
     "metadata": {},
     "output_type": "display_data"
    },
    {
     "data": {
      "text/html": [
       "<pre>| 47      | 1m 11s       | 0.745248          | 0.662285                          |             |</pre>"
      ],
      "text/plain": [
       "| 47      | 1m 11s       | 0.745248          | 0.662285                          |             |"
      ]
     },
     "metadata": {},
     "output_type": "display_data"
    },
    {
     "data": {
      "text/html": [
       "<pre>| 48      | 1m 12s       | 0.744932          | 0.661586                          |             |</pre>"
      ],
      "text/plain": [
       "| 48      | 1m 12s       | 0.744932          | 0.661586                          |             |"
      ]
     },
     "metadata": {},
     "output_type": "display_data"
    },
    {
     "data": {
      "text/html": [
       "<pre>| 49      | 1m 13s       | 0.744605          | 0.660903                          |             |</pre>"
      ],
      "text/plain": [
       "| 49      | 1m 13s       | 0.744605          | 0.660903                          |             |"
      ]
     },
     "metadata": {},
     "output_type": "display_data"
    },
    {
     "data": {
      "text/html": [
       "<pre>| 50      | 1m 15s       | 0.744255          | 0.660226                          |             |</pre>"
      ],
      "text/plain": [
       "| 50      | 1m 15s       | 0.744255          | 0.660226                          |             |"
      ]
     },
     "metadata": {},
     "output_type": "display_data"
    },
    {
     "data": {
      "text/html": [
       "<pre>| 51      | 1m 16s       | 0.743937          | 0.659593                          |             |</pre>"
      ],
      "text/plain": [
       "| 51      | 1m 16s       | 0.743937          | 0.659593                          |             |"
      ]
     },
     "metadata": {},
     "output_type": "display_data"
    },
    {
     "data": {
      "text/html": [
       "<pre>| 52      | 1m 17s       | 0.743593          | 0.658954                          |             |</pre>"
      ],
      "text/plain": [
       "| 52      | 1m 17s       | 0.743593          | 0.658954                          |             |"
      ]
     },
     "metadata": {},
     "output_type": "display_data"
    },
    {
     "data": {
      "text/html": [
       "<pre>| 53      | 1m 19s       | 0.743261          | 0.658358                          |             |</pre>"
      ],
      "text/plain": [
       "| 53      | 1m 19s       | 0.743261          | 0.658358                          |             |"
      ]
     },
     "metadata": {},
     "output_type": "display_data"
    },
    {
     "data": {
      "text/html": [
       "<pre>| 54      | 1m 20s       | 0.742877          | 0.657734                          |             |</pre>"
      ],
      "text/plain": [
       "| 54      | 1m 20s       | 0.742877          | 0.657734                          |             |"
      ]
     },
     "metadata": {},
     "output_type": "display_data"
    },
    {
     "data": {
      "text/html": [
       "<pre>| 55      | 1m 22s       | 0.742509          | 0.657149                          |             |</pre>"
      ],
      "text/plain": [
       "| 55      | 1m 22s       | 0.742509          | 0.657149                          |             |"
      ]
     },
     "metadata": {},
     "output_type": "display_data"
    },
    {
     "data": {
      "text/html": [
       "<pre>| 56      | 1m 23s       | 0.742102          | 0.656558                          |             |</pre>"
      ],
      "text/plain": [
       "| 56      | 1m 23s       | 0.742102          | 0.656558                          |             |"
      ]
     },
     "metadata": {},
     "output_type": "display_data"
    },
    {
     "data": {
      "text/html": [
       "<pre>| 57      | 1m 24s       | 0.741726          | 0.655992                          |             |</pre>"
      ],
      "text/plain": [
       "| 57      | 1m 24s       | 0.741726          | 0.655992                          |             |"
      ]
     },
     "metadata": {},
     "output_type": "display_data"
    },
    {
     "data": {
      "text/html": [
       "<pre>| 58      | 1m 26s       | 0.741348          | 0.655461                          |             |</pre>"
      ],
      "text/plain": [
       "| 58      | 1m 26s       | 0.741348          | 0.655461                          |             |"
      ]
     },
     "metadata": {},
     "output_type": "display_data"
    },
    {
     "data": {
      "text/html": [
       "<pre>| 59      | 1m 27s       | 0.740953          | 0.654921                          |             |</pre>"
      ],
      "text/plain": [
       "| 59      | 1m 27s       | 0.740953          | 0.654921                          |             |"
      ]
     },
     "metadata": {},
     "output_type": "display_data"
    },
    {
     "data": {
      "text/html": [
       "<pre>| 60      | 1m 29s       | 0.740533          | 0.654387                          |             |</pre>"
      ],
      "text/plain": [
       "| 60      | 1m 29s       | 0.740533          | 0.654387                          |             |"
      ]
     },
     "metadata": {},
     "output_type": "display_data"
    },
    {
     "data": {
      "text/html": [
       "<pre>| 61      | 1m 30s       | 0.740147          | 0.653896                          |             |</pre>"
      ],
      "text/plain": [
       "| 61      | 1m 30s       | 0.740147          | 0.653896                          |             |"
      ]
     },
     "metadata": {},
     "output_type": "display_data"
    },
    {
     "data": {
      "text/html": [
       "<pre>| 62      | 1m 31s       | 0.739712          | 0.653377                          |             |</pre>"
      ],
      "text/plain": [
       "| 62      | 1m 31s       | 0.739712          | 0.653377                          |             |"
      ]
     },
     "metadata": {},
     "output_type": "display_data"
    },
    {
     "data": {
      "text/html": [
       "<pre>| 63      | 1m 33s       | 0.739293          | 0.652884                          |             |</pre>"
      ],
      "text/plain": [
       "| 63      | 1m 33s       | 0.739293          | 0.652884                          |             |"
      ]
     },
     "metadata": {},
     "output_type": "display_data"
    },
    {
     "data": {
      "text/html": [
       "<pre>| 64      | 1m 34s       | 0.738828          | 0.652379                          |             |</pre>"
      ],
      "text/plain": [
       "| 64      | 1m 34s       | 0.738828          | 0.652379                          |             |"
      ]
     },
     "metadata": {},
     "output_type": "display_data"
    },
    {
     "data": {
      "text/html": [
       "<pre>| 65      | 1m 36s       | 0.738403          | 0.651927                          |             |</pre>"
      ],
      "text/plain": [
       "| 65      | 1m 36s       | 0.738403          | 0.651927                          |             |"
      ]
     },
     "metadata": {},
     "output_type": "display_data"
    },
    {
     "data": {
      "text/html": [
       "<pre>| 66      | 1m 37s       | 0.737963          | 0.651483                          |             |</pre>"
      ],
      "text/plain": [
       "| 66      | 1m 37s       | 0.737963          | 0.651483                          |             |"
      ]
     },
     "metadata": {},
     "output_type": "display_data"
    },
    {
     "data": {
      "text/html": [
       "<pre>| 67      | 1m 38s       | 0.737488          | 0.651007                          |             |</pre>"
      ],
      "text/plain": [
       "| 67      | 1m 38s       | 0.737488          | 0.651007                          |             |"
      ]
     },
     "metadata": {},
     "output_type": "display_data"
    },
    {
     "data": {
      "text/html": [
       "<pre>| 68      | 1m 39s       | 0.737046          | 0.650572                          |             |</pre>"
      ],
      "text/plain": [
       "| 68      | 1m 39s       | 0.737046          | 0.650572                          |             |"
      ]
     },
     "metadata": {},
     "output_type": "display_data"
    },
    {
     "data": {
      "text/html": [
       "<pre>| 69      | 1m 41s       | 0.736588          | 0.650136                          |             |</pre>"
      ],
      "text/plain": [
       "| 69      | 1m 41s       | 0.736588          | 0.650136                          |             |"
      ]
     },
     "metadata": {},
     "output_type": "display_data"
    },
    {
     "data": {
      "text/html": [
       "<pre>| 70      | 1m 42s       | 0.73613           | 0.649705                          |             |</pre>"
      ],
      "text/plain": [
       "| 70      | 1m 42s       | 0.73613           | 0.649705                          |             |"
      ]
     },
     "metadata": {},
     "output_type": "display_data"
    },
    {
     "data": {
      "text/html": [
       "<pre>| 71      | 1m 43s       | 0.735654          | 0.649261                          |             |</pre>"
      ],
      "text/plain": [
       "| 71      | 1m 43s       | 0.735654          | 0.649261                          |             |"
      ]
     },
     "metadata": {},
     "output_type": "display_data"
    },
    {
     "data": {
      "text/html": [
       "<pre>| 72      | 1m 45s       | 0.735195          | 0.648852                          |             |</pre>"
      ],
      "text/plain": [
       "| 72      | 1m 45s       | 0.735195          | 0.648852                          |             |"
      ]
     },
     "metadata": {},
     "output_type": "display_data"
    },
    {
     "data": {
      "text/html": [
       "<pre>| 73      | 1m 46s       | 0.734747          | 0.648455                          |             |</pre>"
      ],
      "text/plain": [
       "| 73      | 1m 46s       | 0.734747          | 0.648455                          |             |"
      ]
     },
     "metadata": {},
     "output_type": "display_data"
    },
    {
     "data": {
      "text/html": [
       "<pre>| 74      | 1m 47s       | 0.734285          | 0.648047                          |             |</pre>"
      ],
      "text/plain": [
       "| 74      | 1m 47s       | 0.734285          | 0.648047                          |             |"
      ]
     },
     "metadata": {},
     "output_type": "display_data"
    },
    {
     "data": {
      "text/html": [
       "<pre>| 75      | 1m 49s       | 0.733826          | 0.647655                          |             |</pre>"
      ],
      "text/plain": [
       "| 75      | 1m 49s       | 0.733826          | 0.647655                          |             |"
      ]
     },
     "metadata": {},
     "output_type": "display_data"
    },
    {
     "data": {
      "text/html": [
       "<pre>| 76      | 1m 50s       | 0.733379          | 0.647284                          |             |</pre>"
      ],
      "text/plain": [
       "| 76      | 1m 50s       | 0.733379          | 0.647284                          |             |"
      ]
     },
     "metadata": {},
     "output_type": "display_data"
    },
    {
     "data": {
      "text/html": [
       "<pre>| 77      | 1m 51s       | 0.732915          | 0.646896                          |             |</pre>"
      ],
      "text/plain": [
       "| 77      | 1m 51s       | 0.732915          | 0.646896                          |             |"
      ]
     },
     "metadata": {},
     "output_type": "display_data"
    },
    {
     "data": {
      "text/html": [
       "<pre>| 78      | 1m 53s       | 0.732422          | 0.646523                          |             |</pre>"
      ],
      "text/plain": [
       "| 78      | 1m 53s       | 0.732422          | 0.646523                          |             |"
      ]
     },
     "metadata": {},
     "output_type": "display_data"
    },
    {
     "data": {
      "text/html": [
       "<pre>| 79      | 1m 54s       | 0.73194           | 0.646152                          |             |</pre>"
      ],
      "text/plain": [
       "| 79      | 1m 54s       | 0.73194           | 0.646152                          |             |"
      ]
     },
     "metadata": {},
     "output_type": "display_data"
    },
    {
     "data": {
      "text/html": [
       "<pre>| 80      | 1m 55s       | 0.731441          | 0.645775                          |             |</pre>"
      ],
      "text/plain": [
       "| 80      | 1m 55s       | 0.731441          | 0.645775                          |             |"
      ]
     },
     "metadata": {},
     "output_type": "display_data"
    },
    {
     "data": {
      "text/html": [
       "<pre>| 81      | 1m 57s       | 0.730936          | 0.645413                          |             |</pre>"
      ],
      "text/plain": [
       "| 81      | 1m 57s       | 0.730936          | 0.645413                          |             |"
      ]
     },
     "metadata": {},
     "output_type": "display_data"
    },
    {
     "data": {
      "text/html": [
       "<pre>| 82      | 1m 58s       | 0.73045           | 0.645085                          |             |</pre>"
      ],
      "text/plain": [
       "| 82      | 1m 58s       | 0.73045           | 0.645085                          |             |"
      ]
     },
     "metadata": {},
     "output_type": "display_data"
    },
    {
     "data": {
      "text/html": [
       "<pre>| 83      | 1m 59s       | 0.729923          | 0.64472                           |             |</pre>"
      ],
      "text/plain": [
       "| 83      | 1m 59s       | 0.729923          | 0.64472                           |             |"
      ]
     },
     "metadata": {},
     "output_type": "display_data"
    },
    {
     "data": {
      "text/html": [
       "<pre>| 84      | 2m 1s        | 0.729452          | 0.644399                          |             |</pre>"
      ],
      "text/plain": [
       "| 84      | 2m 1s        | 0.729452          | 0.644399                          |             |"
      ]
     },
     "metadata": {},
     "output_type": "display_data"
    },
    {
     "data": {
      "text/html": [
       "<pre>| 85      | 2m 2s        | 0.728932          | 0.644044                          |             |</pre>"
      ],
      "text/plain": [
       "| 85      | 2m 2s        | 0.728932          | 0.644044                          |             |"
      ]
     },
     "metadata": {},
     "output_type": "display_data"
    },
    {
     "data": {
      "text/html": [
       "<pre>| 86      | 2m 3s        | 0.728456          | 0.643717                          |             |</pre>"
      ],
      "text/plain": [
       "| 86      | 2m 3s        | 0.728456          | 0.643717                          |             |"
      ]
     },
     "metadata": {},
     "output_type": "display_data"
    },
    {
     "data": {
      "text/html": [
       "<pre>| 87      | 2m 5s        | 0.727941          | 0.643377                          |             |</pre>"
      ],
      "text/plain": [
       "| 87      | 2m 5s        | 0.727941          | 0.643377                          |             |"
      ]
     },
     "metadata": {},
     "output_type": "display_data"
    },
    {
     "data": {
      "text/html": [
       "<pre>| 88      | 2m 6s        | 0.727463          | 0.643079                          |             |</pre>"
      ],
      "text/plain": [
       "| 88      | 2m 6s        | 0.727463          | 0.643079                          |             |"
      ]
     },
     "metadata": {},
     "output_type": "display_data"
    },
    {
     "data": {
      "text/html": [
       "<pre>| 89      | 2m 8s        | 0.726937          | 0.642741                          |             |</pre>"
      ],
      "text/plain": [
       "| 89      | 2m 8s        | 0.726937          | 0.642741                          |             |"
      ]
     },
     "metadata": {},
     "output_type": "display_data"
    },
    {
     "data": {
      "text/html": [
       "<pre>| 90      | 2m 9s        | 0.726443          | 0.642436                          |             |</pre>"
      ],
      "text/plain": [
       "| 90      | 2m 9s        | 0.726443          | 0.642436                          |             |"
      ]
     },
     "metadata": {},
     "output_type": "display_data"
    },
    {
     "data": {
      "text/html": [
       "<pre>| 91      | 2m 10s       | 0.725938          | 0.642127                          |             |</pre>"
      ],
      "text/plain": [
       "| 91      | 2m 10s       | 0.725938          | 0.642127                          |             |"
      ]
     },
     "metadata": {},
     "output_type": "display_data"
    },
    {
     "data": {
      "text/html": [
       "<pre>| 92      | 2m 12s       | 0.725438          | 0.641824                          |             |</pre>"
      ],
      "text/plain": [
       "| 92      | 2m 12s       | 0.725438          | 0.641824                          |             |"
      ]
     },
     "metadata": {},
     "output_type": "display_data"
    },
    {
     "data": {
      "text/html": [
       "<pre>| 93      | 2m 13s       | 0.724938          | 0.641514                          |             |</pre>"
      ],
      "text/plain": [
       "| 93      | 2m 13s       | 0.724938          | 0.641514                          |             |"
      ]
     },
     "metadata": {},
     "output_type": "display_data"
    },
    {
     "data": {
      "text/html": [
       "<pre>| 94      | 2m 14s       | 0.724442          | 0.641206                          |             |</pre>"
      ],
      "text/plain": [
       "| 94      | 2m 14s       | 0.724442          | 0.641206                          |             |"
      ]
     },
     "metadata": {},
     "output_type": "display_data"
    },
    {
     "data": {
      "text/html": [
       "<pre>| 95      | 2m 16s       | 0.723955          | 0.640917                          |             |</pre>"
      ],
      "text/plain": [
       "| 95      | 2m 16s       | 0.723955          | 0.640917                          |             |"
      ]
     },
     "metadata": {},
     "output_type": "display_data"
    },
    {
     "data": {
      "text/html": [
       "<pre>| 96      | 2m 17s       | 0.723448          | 0.640614                          |             |</pre>"
      ],
      "text/plain": [
       "| 96      | 2m 17s       | 0.723448          | 0.640614                          |             |"
      ]
     },
     "metadata": {},
     "output_type": "display_data"
    },
    {
     "data": {
      "text/html": [
       "<pre>| 97      | 2m 18s       | 0.722951          | 0.640336                          |             |</pre>"
      ],
      "text/plain": [
       "| 97      | 2m 18s       | 0.722951          | 0.640336                          |             |"
      ]
     },
     "metadata": {},
     "output_type": "display_data"
    },
    {
     "data": {
      "text/html": [
       "<pre>| 98      | 2m 20s       | 0.722433          | 0.640049                          |             |</pre>"
      ],
      "text/plain": [
       "| 98      | 2m 20s       | 0.722433          | 0.640049                          |             |"
      ]
     },
     "metadata": {},
     "output_type": "display_data"
    },
    {
     "data": {
      "text/html": [
       "<pre>| 99      | 2m 21s       | 0.721947          | 0.639789                          |             |</pre>"
      ],
      "text/plain": [
       "| 99      | 2m 21s       | 0.721947          | 0.639789                          |             |"
      ]
     },
     "metadata": {},
     "output_type": "display_data"
    },
    {
     "data": {
      "text/html": [
       "<pre>| 100     | 2m 22s       | 0.72144           | 0.639509                          |             |</pre>"
      ],
      "text/plain": [
       "| 100     | 2m 22s       | 0.72144           | 0.639509                          |             |"
      ]
     },
     "metadata": {},
     "output_type": "display_data"
    },
    {
     "data": {
      "text/html": [
       "<pre>| 101     | 2m 23s       | 0.72091           | 0.639227                          |             |</pre>"
      ],
      "text/plain": [
       "| 101     | 2m 23s       | 0.72091           | 0.639227                          |             |"
      ]
     },
     "metadata": {},
     "output_type": "display_data"
    },
    {
     "data": {
      "text/html": [
       "<pre>| 102     | 2m 25s       | 0.720434          | 0.638978                          |             |</pre>"
      ],
      "text/plain": [
       "| 102     | 2m 25s       | 0.720434          | 0.638978                          |             |"
      ]
     },
     "metadata": {},
     "output_type": "display_data"
    },
    {
     "data": {
      "text/html": [
       "<pre>| 103     | 2m 26s       | 0.719923          | 0.638694                          |             |</pre>"
      ],
      "text/plain": [
       "| 103     | 2m 26s       | 0.719923          | 0.638694                          |             |"
      ]
     },
     "metadata": {},
     "output_type": "display_data"
    },
    {
     "data": {
      "text/html": [
       "<pre>| 104     | 2m 28s       | 0.719432          | 0.638437                          |             |</pre>"
      ],
      "text/plain": [
       "| 104     | 2m 28s       | 0.719432          | 0.638437                          |             |"
      ]
     },
     "metadata": {},
     "output_type": "display_data"
    },
    {
     "data": {
      "text/html": [
       "<pre>| 105     | 2m 29s       | 0.718931          | 0.638196                          |             |</pre>"
      ],
      "text/plain": [
       "| 105     | 2m 29s       | 0.718931          | 0.638196                          |             |"
      ]
     },
     "metadata": {},
     "output_type": "display_data"
    },
    {
     "data": {
      "text/html": [
       "<pre>| 106     | 2m 31s       | 0.718424          | 0.637937                          |             |</pre>"
      ],
      "text/plain": [
       "| 106     | 2m 31s       | 0.718424          | 0.637937                          |             |"
      ]
     },
     "metadata": {},
     "output_type": "display_data"
    },
    {
     "data": {
      "text/html": [
       "<pre>| 107     | 2m 32s       | 0.71796           | 0.637729                          |             |</pre>"
      ],
      "text/plain": [
       "| 107     | 2m 32s       | 0.71796           | 0.637729                          |             |"
      ]
     },
     "metadata": {},
     "output_type": "display_data"
    },
    {
     "data": {
      "text/html": [
       "<pre>| 108     | 2m 33s       | 0.717497          | 0.637517                          |             |</pre>"
      ],
      "text/plain": [
       "| 108     | 2m 33s       | 0.717497          | 0.637517                          |             |"
      ]
     },
     "metadata": {},
     "output_type": "display_data"
    },
    {
     "data": {
      "text/html": [
       "<pre>| 109     | 2m 35s       | 0.716996          | 0.637263                          |             |</pre>"
      ],
      "text/plain": [
       "| 109     | 2m 35s       | 0.716996          | 0.637263                          |             |"
      ]
     },
     "metadata": {},
     "output_type": "display_data"
    },
    {
     "data": {
      "text/html": [
       "<pre>| 110     | 2m 36s       | 0.716512          | 0.637041                          |             |</pre>"
      ],
      "text/plain": [
       "| 110     | 2m 36s       | 0.716512          | 0.637041                          |             |"
      ]
     },
     "metadata": {},
     "output_type": "display_data"
    },
    {
     "data": {
      "text/html": [
       "<pre>| 111     | 2m 37s       | 0.716005          | 0.636801                          |             |</pre>"
      ],
      "text/plain": [
       "| 111     | 2m 37s       | 0.716005          | 0.636801                          |             |"
      ]
     },
     "metadata": {},
     "output_type": "display_data"
    },
    {
     "data": {
      "text/html": [
       "<pre>| 112     | 2m 39s       | 0.715549          | 0.636598                          |             |</pre>"
      ],
      "text/plain": [
       "| 112     | 2m 39s       | 0.715549          | 0.636598                          |             |"
      ]
     },
     "metadata": {},
     "output_type": "display_data"
    },
    {
     "data": {
      "text/html": [
       "<pre>| 113     | 2m 40s       | 0.715062          | 0.636365                          |             |</pre>"
      ],
      "text/plain": [
       "| 113     | 2m 40s       | 0.715062          | 0.636365                          |             |"
      ]
     },
     "metadata": {},
     "output_type": "display_data"
    },
    {
     "data": {
      "text/html": [
       "<pre>| 114     | 2m 41s       | 0.714603          | 0.636157                          |             |</pre>"
      ],
      "text/plain": [
       "| 114     | 2m 41s       | 0.714603          | 0.636157                          |             |"
      ]
     },
     "metadata": {},
     "output_type": "display_data"
    },
    {
     "data": {
      "text/html": [
       "<pre>| 115     | 2m 43s       | 0.714106          | 0.635922                          |             |</pre>"
      ],
      "text/plain": [
       "| 115     | 2m 43s       | 0.714106          | 0.635922                          |             |"
      ]
     },
     "metadata": {},
     "output_type": "display_data"
    },
    {
     "data": {
      "text/html": [
       "<pre>| 116     | 2m 44s       | 0.713643          | 0.635724                          |             |</pre>"
      ],
      "text/plain": [
       "| 116     | 2m 44s       | 0.713643          | 0.635724                          |             |"
      ]
     },
     "metadata": {},
     "output_type": "display_data"
    },
    {
     "data": {
      "text/html": [
       "<pre>| 117     | 2m 45s       | 0.713144          | 0.635483                          |             |</pre>"
      ],
      "text/plain": [
       "| 117     | 2m 45s       | 0.713144          | 0.635483                          |             |"
      ]
     },
     "metadata": {},
     "output_type": "display_data"
    },
    {
     "data": {
      "text/html": [
       "<pre>| 118     | 2m 47s       | 0.712673          | 0.635275                          |             |</pre>"
      ],
      "text/plain": [
       "| 118     | 2m 47s       | 0.712673          | 0.635275                          |             |"
      ]
     },
     "metadata": {},
     "output_type": "display_data"
    },
    {
     "data": {
      "text/html": [
       "<pre>| 119     | 2m 48s       | 0.712198          | 0.63505                           |             |</pre>"
      ],
      "text/plain": [
       "| 119     | 2m 48s       | 0.712198          | 0.63505                           |             |"
      ]
     },
     "metadata": {},
     "output_type": "display_data"
    },
    {
     "data": {
      "text/html": [
       "<pre>| 120     | 2m 50s       | 0.711719          | 0.634833                          |             |</pre>"
      ],
      "text/plain": [
       "| 120     | 2m 50s       | 0.711719          | 0.634833                          |             |"
      ]
     },
     "metadata": {},
     "output_type": "display_data"
    },
    {
     "data": {
      "text/html": [
       "<pre>| 121     | 2m 51s       | 0.71127           | 0.634634                          |             |</pre>"
      ],
      "text/plain": [
       "| 121     | 2m 51s       | 0.71127           | 0.634634                          |             |"
      ]
     },
     "metadata": {},
     "output_type": "display_data"
    },
    {
     "data": {
      "text/html": [
       "<pre>| 122     | 2m 52s       | 0.710791          | 0.634408                          |             |</pre>"
      ],
      "text/plain": [
       "| 122     | 2m 52s       | 0.710791          | 0.634408                          |             |"
      ]
     },
     "metadata": {},
     "output_type": "display_data"
    },
    {
     "data": {
      "text/html": [
       "<pre>| 123     | 2m 54s       | 0.710339          | 0.634198                          |             |</pre>"
      ],
      "text/plain": [
       "| 123     | 2m 54s       | 0.710339          | 0.634198                          |             |"
      ]
     },
     "metadata": {},
     "output_type": "display_data"
    },
    {
     "data": {
      "text/html": [
       "<pre>| 124     | 2m 55s       | 0.709893          | 0.633997                          |             |</pre>"
      ],
      "text/plain": [
       "| 124     | 2m 55s       | 0.709893          | 0.633997                          |             |"
      ]
     },
     "metadata": {},
     "output_type": "display_data"
    },
    {
     "data": {
      "text/html": [
       "<pre>| 125     | 2m 56s       | 0.709416          | 0.633781                          |             |</pre>"
      ],
      "text/plain": [
       "| 125     | 2m 56s       | 0.709416          | 0.633781                          |             |"
      ]
     },
     "metadata": {},
     "output_type": "display_data"
    },
    {
     "data": {
      "text/html": [
       "<pre>| 126     | 2m 58s       | 0.708919          | 0.633574                          |             |</pre>"
      ],
      "text/plain": [
       "| 126     | 2m 58s       | 0.708919          | 0.633574                          |             |"
      ]
     },
     "metadata": {},
     "output_type": "display_data"
    },
    {
     "data": {
      "text/html": [
       "<pre>| 127     | 2m 59s       | 0.708458          | 0.633381                          |             |</pre>"
      ],
      "text/plain": [
       "| 127     | 2m 59s       | 0.708458          | 0.633381                          |             |"
      ]
     },
     "metadata": {},
     "output_type": "display_data"
    },
    {
     "data": {
      "text/html": [
       "<pre>| 128     | 3m 0s        | 0.707997          | 0.633189                          |             |</pre>"
      ],
      "text/plain": [
       "| 128     | 3m 0s        | 0.707997          | 0.633189                          |             |"
      ]
     },
     "metadata": {},
     "output_type": "display_data"
    },
    {
     "data": {
      "text/html": [
       "<pre>| 129     | 3m 2s        | 0.707503          | 0.632969                          |             |</pre>"
      ],
      "text/plain": [
       "| 129     | 3m 2s        | 0.707503          | 0.632969                          |             |"
      ]
     },
     "metadata": {},
     "output_type": "display_data"
    },
    {
     "data": {
      "text/html": [
       "<pre>| 130     | 3m 3s        | 0.707037          | 0.63277                           |             |</pre>"
      ],
      "text/plain": [
       "| 130     | 3m 3s        | 0.707037          | 0.63277                           |             |"
      ]
     },
     "metadata": {},
     "output_type": "display_data"
    },
    {
     "data": {
      "text/html": [
       "<pre>| 131     | 3m 4s        | 0.706573          | 0.632562                          |             |</pre>"
      ],
      "text/plain": [
       "| 131     | 3m 4s        | 0.706573          | 0.632562                          |             |"
      ]
     },
     "metadata": {},
     "output_type": "display_data"
    },
    {
     "data": {
      "text/html": [
       "<pre>| 132     | 3m 6s        | 0.706123          | 0.632378                          |             |</pre>"
      ],
      "text/plain": [
       "| 132     | 3m 6s        | 0.706123          | 0.632378                          |             |"
      ]
     },
     "metadata": {},
     "output_type": "display_data"
    },
    {
     "data": {
      "text/html": [
       "<pre>| 133     | 3m 7s        | 0.705682          | 0.632198                          |             |</pre>"
      ],
      "text/plain": [
       "| 133     | 3m 7s        | 0.705682          | 0.632198                          |             |"
      ]
     },
     "metadata": {},
     "output_type": "display_data"
    },
    {
     "data": {
      "text/html": [
       "<pre>| 134     | 3m 8s        | 0.705219          | 0.631997                          |             |</pre>"
      ],
      "text/plain": [
       "| 134     | 3m 8s        | 0.705219          | 0.631997                          |             |"
      ]
     },
     "metadata": {},
     "output_type": "display_data"
    },
    {
     "data": {
      "text/html": [
       "<pre>| 135     | 3m 10s       | 0.704755          | 0.631813                          |             |</pre>"
      ],
      "text/plain": [
       "| 135     | 3m 10s       | 0.704755          | 0.631813                          |             |"
      ]
     },
     "metadata": {},
     "output_type": "display_data"
    },
    {
     "data": {
      "text/html": [
       "<pre>| 136     | 3m 11s       | 0.704291          | 0.631628                          |             |</pre>"
      ],
      "text/plain": [
       "| 136     | 3m 11s       | 0.704291          | 0.631628                          |             |"
      ]
     },
     "metadata": {},
     "output_type": "display_data"
    },
    {
     "data": {
      "text/html": [
       "<pre>| 137     | 3m 12s       | 0.70383           | 0.631442                          |             |</pre>"
      ],
      "text/plain": [
       "| 137     | 3m 12s       | 0.70383           | 0.631442                          |             |"
      ]
     },
     "metadata": {},
     "output_type": "display_data"
    },
    {
     "data": {
      "text/html": [
       "<pre>| 138     | 3m 14s       | 0.703345          | 0.631251                          |             |</pre>"
      ],
      "text/plain": [
       "| 138     | 3m 14s       | 0.703345          | 0.631251                          |             |"
      ]
     },
     "metadata": {},
     "output_type": "display_data"
    },
    {
     "data": {
      "text/html": [
       "<pre>| 139     | 3m 15s       | 0.702883          | 0.631051                          |             |</pre>"
      ],
      "text/plain": [
       "| 139     | 3m 15s       | 0.702883          | 0.631051                          |             |"
      ]
     },
     "metadata": {},
     "output_type": "display_data"
    },
    {
     "data": {
      "text/html": [
       "<pre>| 140     | 3m 16s       | 0.702459          | 0.630877                          |             |</pre>"
      ],
      "text/plain": [
       "| 140     | 3m 16s       | 0.702459          | 0.630877                          |             |"
      ]
     },
     "metadata": {},
     "output_type": "display_data"
    },
    {
     "data": {
      "text/html": [
       "<pre>| 141     | 3m 18s       | 0.701996          | 0.630681                          |             |</pre>"
      ],
      "text/plain": [
       "| 141     | 3m 18s       | 0.701996          | 0.630681                          |             |"
      ]
     },
     "metadata": {},
     "output_type": "display_data"
    },
    {
     "data": {
      "text/html": [
       "<pre>| 142     | 3m 19s       | 0.701528          | 0.630485                          |             |</pre>"
      ],
      "text/plain": [
       "| 142     | 3m 19s       | 0.701528          | 0.630485                          |             |"
      ]
     },
     "metadata": {},
     "output_type": "display_data"
    },
    {
     "data": {
      "text/html": [
       "<pre>| 143     | 3m 20s       | 0.701049          | 0.630283                          |             |</pre>"
      ],
      "text/plain": [
       "| 143     | 3m 20s       | 0.701049          | 0.630283                          |             |"
      ]
     },
     "metadata": {},
     "output_type": "display_data"
    },
    {
     "data": {
      "text/html": [
       "<pre>| 144     | 3m 22s       | 0.700591          | 0.630082                          |             |</pre>"
      ],
      "text/plain": [
       "| 144     | 3m 22s       | 0.700591          | 0.630082                          |             |"
      ]
     },
     "metadata": {},
     "output_type": "display_data"
    },
    {
     "data": {
      "text/html": [
       "<pre>| 145     | 3m 23s       | 0.700106          | 0.629863                          |             |</pre>"
      ],
      "text/plain": [
       "| 145     | 3m 23s       | 0.700106          | 0.629863                          |             |"
      ]
     },
     "metadata": {},
     "output_type": "display_data"
    },
    {
     "data": {
      "text/html": [
       "<pre>| 146     | 3m 24s       | 0.699668          | 0.629683                          |             |</pre>"
      ],
      "text/plain": [
       "| 146     | 3m 24s       | 0.699668          | 0.629683                          |             |"
      ]
     },
     "metadata": {},
     "output_type": "display_data"
    },
    {
     "data": {
      "text/html": [
       "<pre>| 147     | 3m 26s       | 0.699176          | 0.629444                          |             |</pre>"
      ],
      "text/plain": [
       "| 147     | 3m 26s       | 0.699176          | 0.629444                          |             |"
      ]
     },
     "metadata": {},
     "output_type": "display_data"
    },
    {
     "data": {
      "text/html": [
       "<pre>| 148     | 3m 27s       | 0.698735          | 0.629265                          |             |</pre>"
      ],
      "text/plain": [
       "| 148     | 3m 27s       | 0.698735          | 0.629265                          |             |"
      ]
     },
     "metadata": {},
     "output_type": "display_data"
    },
    {
     "data": {
      "text/html": [
       "<pre>| 149     | 3m 28s       | 0.698268          | 0.629055                          |             |</pre>"
      ],
      "text/plain": [
       "| 149     | 3m 28s       | 0.698268          | 0.629055                          |             |"
      ]
     },
     "metadata": {},
     "output_type": "display_data"
    },
    {
     "data": {
      "text/html": [
       "<pre>| 150     | 3m 30s       | 0.697813          | 0.628849                          |             |</pre>"
      ],
      "text/plain": [
       "| 150     | 3m 30s       | 0.697813          | 0.628849                          |             |"
      ]
     },
     "metadata": {},
     "output_type": "display_data"
    },
    {
     "data": {
      "text/html": [
       "<pre>| 151     | 3m 31s       | 0.697383          | 0.628654                          |             |</pre>"
      ],
      "text/plain": [
       "| 151     | 3m 31s       | 0.697383          | 0.628654                          |             |"
      ]
     },
     "metadata": {},
     "output_type": "display_data"
    },
    {
     "data": {
      "text/html": [
       "<pre>| 152     | 3m 33s       | 0.696937          | 0.628464                          |             |</pre>"
      ],
      "text/plain": [
       "| 152     | 3m 33s       | 0.696937          | 0.628464                          |             |"
      ]
     },
     "metadata": {},
     "output_type": "display_data"
    },
    {
     "data": {
      "text/html": [
       "<pre>| 153     | 3m 34s       | 0.696485          | 0.628264                          |             |</pre>"
      ],
      "text/plain": [
       "| 153     | 3m 34s       | 0.696485          | 0.628264                          |             |"
      ]
     },
     "metadata": {},
     "output_type": "display_data"
    },
    {
     "data": {
      "text/html": [
       "<pre>| 154     | 3m 35s       | 0.696023          | 0.628042                          |             |</pre>"
      ],
      "text/plain": [
       "| 154     | 3m 35s       | 0.696023          | 0.628042                          |             |"
      ]
     },
     "metadata": {},
     "output_type": "display_data"
    },
    {
     "data": {
      "text/html": [
       "<pre>| 155     | 3m 37s       | 0.695574          | 0.627851                          |             |</pre>"
      ],
      "text/plain": [
       "| 155     | 3m 37s       | 0.695574          | 0.627851                          |             |"
      ]
     },
     "metadata": {},
     "output_type": "display_data"
    },
    {
     "data": {
      "text/html": [
       "<pre>| 156     | 3m 38s       | 0.695126          | 0.627648                          |             |</pre>"
      ],
      "text/plain": [
       "| 156     | 3m 38s       | 0.695126          | 0.627648                          |             |"
      ]
     },
     "metadata": {},
     "output_type": "display_data"
    },
    {
     "data": {
      "text/html": [
       "<pre>| 157     | 3m 40s       | 0.694677          | 0.627438                          |             |</pre>"
      ],
      "text/plain": [
       "| 157     | 3m 40s       | 0.694677          | 0.627438                          |             |"
      ]
     },
     "metadata": {},
     "output_type": "display_data"
    },
    {
     "data": {
      "text/html": [
       "<pre>| 158     | 3m 41s       | 0.694251          | 0.627244                          |             |</pre>"
      ],
      "text/plain": [
       "| 158     | 3m 41s       | 0.694251          | 0.627244                          |             |"
      ]
     },
     "metadata": {},
     "output_type": "display_data"
    },
    {
     "data": {
      "text/html": [
       "<pre>| 159     | 3m 42s       | 0.693791          | 0.627028                          |             |</pre>"
      ],
      "text/plain": [
       "| 159     | 3m 42s       | 0.693791          | 0.627028                          |             |"
      ]
     },
     "metadata": {},
     "output_type": "display_data"
    },
    {
     "data": {
      "text/html": [
       "<pre>| 160     | 3m 44s       | 0.693361          | 0.626845                          |             |</pre>"
      ],
      "text/plain": [
       "| 160     | 3m 44s       | 0.693361          | 0.626845                          |             |"
      ]
     },
     "metadata": {},
     "output_type": "display_data"
    },
    {
     "data": {
      "text/html": [
       "<pre>| 161     | 3m 45s       | 0.692906          | 0.626634                          |             |</pre>"
      ],
      "text/plain": [
       "| 161     | 3m 45s       | 0.692906          | 0.626634                          |             |"
      ]
     },
     "metadata": {},
     "output_type": "display_data"
    },
    {
     "data": {
      "text/html": [
       "<pre>| 162     | 3m 46s       | 0.692474          | 0.626432                          |             |</pre>"
      ],
      "text/plain": [
       "| 162     | 3m 46s       | 0.692474          | 0.626432                          |             |"
      ]
     },
     "metadata": {},
     "output_type": "display_data"
    },
    {
     "data": {
      "text/html": [
       "<pre>| 163     | 3m 48s       | 0.692048          | 0.626256                          |             |</pre>"
      ],
      "text/plain": [
       "| 163     | 3m 48s       | 0.692048          | 0.626256                          |             |"
      ]
     },
     "metadata": {},
     "output_type": "display_data"
    },
    {
     "data": {
      "text/html": [
       "<pre>| 164     | 3m 49s       | 0.691596          | 0.626039                          |             |</pre>"
      ],
      "text/plain": [
       "| 164     | 3m 49s       | 0.691596          | 0.626039                          |             |"
      ]
     },
     "metadata": {},
     "output_type": "display_data"
    },
    {
     "data": {
      "text/html": [
       "<pre>| 165     | 3m 50s       | 0.691136          | 0.62582                           |             |</pre>"
      ],
      "text/plain": [
       "| 165     | 3m 50s       | 0.691136          | 0.62582                           |             |"
      ]
     },
     "metadata": {},
     "output_type": "display_data"
    },
    {
     "data": {
      "text/html": [
       "<pre>| 166     | 3m 52s       | 0.690704          | 0.625624                          |             |</pre>"
      ],
      "text/plain": [
       "| 166     | 3m 52s       | 0.690704          | 0.625624                          |             |"
      ]
     },
     "metadata": {},
     "output_type": "display_data"
    },
    {
     "data": {
      "text/html": [
       "<pre>| 167     | 3m 53s       | 0.690237          | 0.625406                          |             |</pre>"
      ],
      "text/plain": [
       "| 167     | 3m 53s       | 0.690237          | 0.625406                          |             |"
      ]
     },
     "metadata": {},
     "output_type": "display_data"
    },
    {
     "data": {
      "text/html": [
       "<pre>| 168     | 3m 55s       | 0.689797          | 0.625204                          |             |</pre>"
      ],
      "text/plain": [
       "| 168     | 3m 55s       | 0.689797          | 0.625204                          |             |"
      ]
     },
     "metadata": {},
     "output_type": "display_data"
    },
    {
     "data": {
      "text/html": [
       "<pre>| 169     | 3m 56s       | 0.689326          | 0.624972                          |             |</pre>"
      ],
      "text/plain": [
       "| 169     | 3m 56s       | 0.689326          | 0.624972                          |             |"
      ]
     },
     "metadata": {},
     "output_type": "display_data"
    },
    {
     "data": {
      "text/html": [
       "<pre>| 170     | 3m 57s       | 0.688895          | 0.624781                          |             |</pre>"
      ],
      "text/plain": [
       "| 170     | 3m 57s       | 0.688895          | 0.624781                          |             |"
      ]
     },
     "metadata": {},
     "output_type": "display_data"
    },
    {
     "data": {
      "text/html": [
       "<pre>| 171     | 3m 59s       | 0.688455          | 0.624569                          |             |</pre>"
      ],
      "text/plain": [
       "| 171     | 3m 59s       | 0.688455          | 0.624569                          |             |"
      ]
     },
     "metadata": {},
     "output_type": "display_data"
    },
    {
     "data": {
      "text/html": [
       "<pre>| 172     | 4m 0s        | 0.688009          | 0.624341                          |             |</pre>"
      ],
      "text/plain": [
       "| 172     | 4m 0s        | 0.688009          | 0.624341                          |             |"
      ]
     },
     "metadata": {},
     "output_type": "display_data"
    },
    {
     "data": {
      "text/html": [
       "<pre>| 173     | 4m 2s        | 0.687562          | 0.624121                          |             |</pre>"
      ],
      "text/plain": [
       "| 173     | 4m 2s        | 0.687562          | 0.624121                          |             |"
      ]
     },
     "metadata": {},
     "output_type": "display_data"
    },
    {
     "data": {
      "text/html": [
       "<pre>| 174     | 4m 3s        | 0.687145          | 0.623927                          |             |</pre>"
      ],
      "text/plain": [
       "| 174     | 4m 3s        | 0.687145          | 0.623927                          |             |"
      ]
     },
     "metadata": {},
     "output_type": "display_data"
    },
    {
     "data": {
      "text/html": [
       "<pre>| 175     | 4m 4s        | 0.686723          | 0.623729                          |             |</pre>"
      ],
      "text/plain": [
       "| 175     | 4m 4s        | 0.686723          | 0.623729                          |             |"
      ]
     },
     "metadata": {},
     "output_type": "display_data"
    },
    {
     "data": {
      "text/html": [
       "<pre>| 176     | 4m 6s        | 0.686265          | 0.623506                          |             |</pre>"
      ],
      "text/plain": [
       "| 176     | 4m 6s        | 0.686265          | 0.623506                          |             |"
      ]
     },
     "metadata": {},
     "output_type": "display_data"
    },
    {
     "data": {
      "text/html": [
       "<pre>| 177     | 4m 7s        | 0.685818          | 0.623291                          |             |</pre>"
      ],
      "text/plain": [
       "| 177     | 4m 7s        | 0.685818          | 0.623291                          |             |"
      ]
     },
     "metadata": {},
     "output_type": "display_data"
    },
    {
     "data": {
      "text/html": [
       "<pre>| 178     | 4m 9s        | 0.685382          | 0.623093                          |             |</pre>"
      ],
      "text/plain": [
       "| 178     | 4m 9s        | 0.685382          | 0.623093                          |             |"
      ]
     },
     "metadata": {},
     "output_type": "display_data"
    },
    {
     "data": {
      "text/html": [
       "<pre>| 179     | 4m 10s       | 0.68496           | 0.622892                          |             |</pre>"
      ],
      "text/plain": [
       "| 179     | 4m 10s       | 0.68496           | 0.622892                          |             |"
      ]
     },
     "metadata": {},
     "output_type": "display_data"
    },
    {
     "data": {
      "text/html": [
       "<pre>| 180     | 4m 11s       | 0.684488          | 0.622657                          |             |</pre>"
      ],
      "text/plain": [
       "| 180     | 4m 11s       | 0.684488          | 0.622657                          |             |"
      ]
     },
     "metadata": {},
     "output_type": "display_data"
    },
    {
     "data": {
      "text/html": [
       "<pre>| 181     | 4m 13s       | 0.684113          | 0.622499                          |             |</pre>"
      ],
      "text/plain": [
       "| 181     | 4m 13s       | 0.684113          | 0.622499                          |             |"
      ]
     },
     "metadata": {},
     "output_type": "display_data"
    },
    {
     "data": {
      "text/html": [
       "<pre>| 182     | 4m 14s       | 0.68367           | 0.622293                          |             |</pre>"
      ],
      "text/plain": [
       "| 182     | 4m 14s       | 0.68367           | 0.622293                          |             |"
      ]
     },
     "metadata": {},
     "output_type": "display_data"
    },
    {
     "data": {
      "text/html": [
       "<pre>| 183     | 4m 15s       | 0.683221          | 0.622083                          |             |</pre>"
      ],
      "text/plain": [
       "| 183     | 4m 15s       | 0.683221          | 0.622083                          |             |"
      ]
     },
     "metadata": {},
     "output_type": "display_data"
    },
    {
     "data": {
      "text/html": [
       "<pre>| 184     | 4m 17s       | 0.682773          | 0.621878                          |             |</pre>"
      ],
      "text/plain": [
       "| 184     | 4m 17s       | 0.682773          | 0.621878                          |             |"
      ]
     },
     "metadata": {},
     "output_type": "display_data"
    },
    {
     "data": {
      "text/html": [
       "<pre>| 185     | 4m 18s       | 0.682338          | 0.621681                          |             |</pre>"
      ],
      "text/plain": [
       "| 185     | 4m 18s       | 0.682338          | 0.621681                          |             |"
      ]
     },
     "metadata": {},
     "output_type": "display_data"
    },
    {
     "data": {
      "text/html": [
       "<pre>| 186     | 4m 20s       | 0.681918          | 0.621491                          |             |</pre>"
      ],
      "text/plain": [
       "| 186     | 4m 20s       | 0.681918          | 0.621491                          |             |"
      ]
     },
     "metadata": {},
     "output_type": "display_data"
    },
    {
     "data": {
      "text/html": [
       "<pre>| 187     | 4m 21s       | 0.681483          | 0.621275                          |             |</pre>"
      ],
      "text/plain": [
       "| 187     | 4m 21s       | 0.681483          | 0.621275                          |             |"
      ]
     },
     "metadata": {},
     "output_type": "display_data"
    },
    {
     "data": {
      "text/html": [
       "<pre>| 188     | 4m 22s       | 0.681072          | 0.621096                          |             |</pre>"
      ],
      "text/plain": [
       "| 188     | 4m 22s       | 0.681072          | 0.621096                          |             |"
      ]
     },
     "metadata": {},
     "output_type": "display_data"
    },
    {
     "data": {
      "text/html": [
       "<pre>| 189     | 4m 24s       | 0.680612          | 0.620881                          |             |</pre>"
      ],
      "text/plain": [
       "| 189     | 4m 24s       | 0.680612          | 0.620881                          |             |"
      ]
     },
     "metadata": {},
     "output_type": "display_data"
    },
    {
     "data": {
      "text/html": [
       "<pre>| 190     | 4m 25s       | 0.680185          | 0.620703                          |             |</pre>"
      ],
      "text/plain": [
       "| 190     | 4m 25s       | 0.680185          | 0.620703                          |             |"
      ]
     },
     "metadata": {},
     "output_type": "display_data"
    },
    {
     "data": {
      "text/html": [
       "<pre>| 191     | 4m 26s       | 0.679743          | 0.620503                          |             |</pre>"
      ],
      "text/plain": [
       "| 191     | 4m 26s       | 0.679743          | 0.620503                          |             |"
      ]
     },
     "metadata": {},
     "output_type": "display_data"
    },
    {
     "data": {
      "text/html": [
       "<pre>| 192     | 4m 28s       | 0.67933           | 0.620318                          |             |</pre>"
      ],
      "text/plain": [
       "| 192     | 4m 28s       | 0.67933           | 0.620318                          |             |"
      ]
     },
     "metadata": {},
     "output_type": "display_data"
    },
    {
     "data": {
      "text/html": [
       "<pre>| 193     | 4m 29s       | 0.678879          | 0.620103                          |             |</pre>"
      ],
      "text/plain": [
       "| 193     | 4m 29s       | 0.678879          | 0.620103                          |             |"
      ]
     },
     "metadata": {},
     "output_type": "display_data"
    },
    {
     "data": {
      "text/html": [
       "<pre>| 194     | 4m 30s       | 0.678459          | 0.619919                          |             |</pre>"
      ],
      "text/plain": [
       "| 194     | 4m 30s       | 0.678459          | 0.619919                          |             |"
      ]
     },
     "metadata": {},
     "output_type": "display_data"
    },
    {
     "data": {
      "text/html": [
       "<pre>| 195     | 4m 32s       | 0.678047          | 0.619754                          |             |</pre>"
      ],
      "text/plain": [
       "| 195     | 4m 32s       | 0.678047          | 0.619754                          |             |"
      ]
     },
     "metadata": {},
     "output_type": "display_data"
    },
    {
     "data": {
      "text/html": [
       "<pre>| 196     | 4m 33s       | 0.6776            | 0.619554                          |             |</pre>"
      ],
      "text/plain": [
       "| 196     | 4m 33s       | 0.6776            | 0.619554                          |             |"
      ]
     },
     "metadata": {},
     "output_type": "display_data"
    },
    {
     "data": {
      "text/html": [
       "<pre>| 197     | 4m 34s       | 0.677189          | 0.619379                          |             |</pre>"
      ],
      "text/plain": [
       "| 197     | 4m 34s       | 0.677189          | 0.619379                          |             |"
      ]
     },
     "metadata": {},
     "output_type": "display_data"
    },
    {
     "data": {
      "text/html": [
       "<pre>| 198     | 4m 36s       | 0.676744          | 0.619177                          |             |</pre>"
      ],
      "text/plain": [
       "| 198     | 4m 36s       | 0.676744          | 0.619177                          |             |"
      ]
     },
     "metadata": {},
     "output_type": "display_data"
    },
    {
     "data": {
      "text/html": [
       "<pre>| 199     | 4m 38s       | 0.676336          | 0.618999                          |             |</pre>"
      ],
      "text/plain": [
       "| 199     | 4m 38s       | 0.676336          | 0.618999                          |             |"
      ]
     },
     "metadata": {},
     "output_type": "display_data"
    },
    {
     "data": {
      "text/html": [
       "<pre>| 200     | 4m 39s       | 0.67591           | 0.618805                          |             |</pre>"
      ],
      "text/plain": [
       "| 200     | 4m 39s       | 0.67591           | 0.618805                          |             |"
      ]
     },
     "metadata": {},
     "output_type": "display_data"
    },
    {
     "data": {
      "text/html": [
       "<pre>| 201     | 4m 41s       | 0.67548           | 0.618619                          |             |</pre>"
      ],
      "text/plain": [
       "| 201     | 4m 41s       | 0.67548           | 0.618619                          |             |"
      ]
     },
     "metadata": {},
     "output_type": "display_data"
    },
    {
     "data": {
      "text/html": [
       "<pre>| 202     | 4m 42s       | 0.675046          | 0.618423                          |             |</pre>"
      ],
      "text/plain": [
       "| 202     | 4m 42s       | 0.675046          | 0.618423                          |             |"
      ]
     },
     "metadata": {},
     "output_type": "display_data"
    },
    {
     "data": {
      "text/html": [
       "<pre>| 203     | 4m 44s       | 0.674631          | 0.618234                          |             |</pre>"
      ],
      "text/plain": [
       "| 203     | 4m 44s       | 0.674631          | 0.618234                          |             |"
      ]
     },
     "metadata": {},
     "output_type": "display_data"
    },
    {
     "data": {
      "text/html": [
       "<pre>| 204     | 4m 45s       | 0.67421           | 0.618046                          |             |</pre>"
      ],
      "text/plain": [
       "| 204     | 4m 45s       | 0.67421           | 0.618046                          |             |"
      ]
     },
     "metadata": {},
     "output_type": "display_data"
    },
    {
     "data": {
      "text/html": [
       "<pre>| 205     | 4m 47s       | 0.673789          | 0.617862                          |             |</pre>"
      ],
      "text/plain": [
       "| 205     | 4m 47s       | 0.673789          | 0.617862                          |             |"
      ]
     },
     "metadata": {},
     "output_type": "display_data"
    },
    {
     "data": {
      "text/html": [
       "<pre>| 206     | 4m 48s       | 0.67335           | 0.617656                          |             |</pre>"
      ],
      "text/plain": [
       "| 206     | 4m 48s       | 0.67335           | 0.617656                          |             |"
      ]
     },
     "metadata": {},
     "output_type": "display_data"
    },
    {
     "data": {
      "text/html": [
       "<pre>| 207     | 4m 50s       | 0.672953          | 0.617478                          |             |</pre>"
      ],
      "text/plain": [
       "| 207     | 4m 50s       | 0.672953          | 0.617478                          |             |"
      ]
     },
     "metadata": {},
     "output_type": "display_data"
    },
    {
     "data": {
      "text/html": [
       "<pre>| 208     | 4m 51s       | 0.672528          | 0.617284                          |             |</pre>"
      ],
      "text/plain": [
       "| 208     | 4m 51s       | 0.672528          | 0.617284                          |             |"
      ]
     },
     "metadata": {},
     "output_type": "display_data"
    },
    {
     "data": {
      "text/html": [
       "<pre>| 209     | 4m 52s       | 0.672115          | 0.617092                          |             |</pre>"
      ],
      "text/plain": [
       "| 209     | 4m 52s       | 0.672115          | 0.617092                          |             |"
      ]
     },
     "metadata": {},
     "output_type": "display_data"
    },
    {
     "data": {
      "text/html": [
       "<pre>| 210     | 4m 54s       | 0.671696          | 0.616898                          |             |</pre>"
      ],
      "text/plain": [
       "| 210     | 4m 54s       | 0.671696          | 0.616898                          |             |"
      ]
     },
     "metadata": {},
     "output_type": "display_data"
    },
    {
     "data": {
      "text/html": [
       "<pre>| 211     | 4m 55s       | 0.671284          | 0.616707                          |             |</pre>"
      ],
      "text/plain": [
       "| 211     | 4m 55s       | 0.671284          | 0.616707                          |             |"
      ]
     },
     "metadata": {},
     "output_type": "display_data"
    },
    {
     "data": {
      "text/html": [
       "<pre>| 212     | 4m 57s       | 0.670882          | 0.616516                          |             |</pre>"
      ],
      "text/plain": [
       "| 212     | 4m 57s       | 0.670882          | 0.616516                          |             |"
      ]
     },
     "metadata": {},
     "output_type": "display_data"
    },
    {
     "data": {
      "text/html": [
       "<pre>| 213     | 4m 58s       | 0.670463          | 0.616312                          |             |</pre>"
      ],
      "text/plain": [
       "| 213     | 4m 58s       | 0.670463          | 0.616312                          |             |"
      ]
     },
     "metadata": {},
     "output_type": "display_data"
    },
    {
     "data": {
      "text/html": [
       "<pre>| 214     | 4m 59s       | 0.670084          | 0.616153                          |             |</pre>"
      ],
      "text/plain": [
       "| 214     | 4m 59s       | 0.670084          | 0.616153                          |             |"
      ]
     },
     "metadata": {},
     "output_type": "display_data"
    },
    {
     "data": {
      "text/html": [
       "<pre>| 215     | 5m 1s        | 0.669656          | 0.61594                           |             |</pre>"
      ],
      "text/plain": [
       "| 215     | 5m 1s        | 0.669656          | 0.61594                           |             |"
      ]
     },
     "metadata": {},
     "output_type": "display_data"
    },
    {
     "data": {
      "text/html": [
       "<pre>| 216     | 5m 2s        | 0.669248          | 0.615732                          |             |</pre>"
      ],
      "text/plain": [
       "| 216     | 5m 2s        | 0.669248          | 0.615732                          |             |"
      ]
     },
     "metadata": {},
     "output_type": "display_data"
    },
    {
     "data": {
      "text/html": [
       "<pre>| 217     | 5m 3s        | 0.66886           | 0.615556                          |             |</pre>"
      ],
      "text/plain": [
       "| 217     | 5m 3s        | 0.66886           | 0.615556                          |             |"
      ]
     },
     "metadata": {},
     "output_type": "display_data"
    },
    {
     "data": {
      "text/html": [
       "<pre>| 218     | 5m 5s        | 0.668436          | 0.615349                          |             |</pre>"
      ],
      "text/plain": [
       "| 218     | 5m 5s        | 0.668436          | 0.615349                          |             |"
      ]
     },
     "metadata": {},
     "output_type": "display_data"
    },
    {
     "data": {
      "text/html": [
       "<pre>| 219     | 5m 6s        | 0.668023          | 0.615142                          |             |</pre>"
      ],
      "text/plain": [
       "| 219     | 5m 6s        | 0.668023          | 0.615142                          |             |"
      ]
     },
     "metadata": {},
     "output_type": "display_data"
    },
    {
     "data": {
      "text/html": [
       "<pre>| 220     | 5m 7s        | 0.667644          | 0.614969                          |             |</pre>"
      ],
      "text/plain": [
       "| 220     | 5m 7s        | 0.667644          | 0.614969                          |             |"
      ]
     },
     "metadata": {},
     "output_type": "display_data"
    },
    {
     "data": {
      "text/html": [
       "<pre>| 221     | 5m 9s        | 0.667271          | 0.614775                          |             |</pre>"
      ],
      "text/plain": [
       "| 221     | 5m 9s        | 0.667271          | 0.614775                          |             |"
      ]
     },
     "metadata": {},
     "output_type": "display_data"
    },
    {
     "data": {
      "text/html": [
       "<pre>| 222     | 5m 10s       | 0.666877          | 0.614578                          |             |</pre>"
      ],
      "text/plain": [
       "| 222     | 5m 10s       | 0.666877          | 0.614578                          |             |"
      ]
     },
     "metadata": {},
     "output_type": "display_data"
    },
    {
     "data": {
      "text/html": [
       "<pre>| 223     | 5m 11s       | 0.666469          | 0.614369                          |             |</pre>"
      ],
      "text/plain": [
       "| 223     | 5m 11s       | 0.666469          | 0.614369                          |             |"
      ]
     },
     "metadata": {},
     "output_type": "display_data"
    },
    {
     "data": {
      "text/html": [
       "<pre>| 224     | 5m 13s       | 0.666084          | 0.614181                          |             |</pre>"
      ],
      "text/plain": [
       "| 224     | 5m 13s       | 0.666084          | 0.614181                          |             |"
      ]
     },
     "metadata": {},
     "output_type": "display_data"
    },
    {
     "data": {
      "text/html": [
       "<pre>| 225     | 5m 14s       | 0.665689          | 0.613975                          |             |</pre>"
      ],
      "text/plain": [
       "| 225     | 5m 14s       | 0.665689          | 0.613975                          |             |"
      ]
     },
     "metadata": {},
     "output_type": "display_data"
    },
    {
     "data": {
      "text/html": [
       "<pre>| 226     | 5m 15s       | 0.665301          | 0.613775                          |             |</pre>"
      ],
      "text/plain": [
       "| 226     | 5m 15s       | 0.665301          | 0.613775                          |             |"
      ]
     },
     "metadata": {},
     "output_type": "display_data"
    },
    {
     "data": {
      "text/html": [
       "<pre>| 227     | 5m 16s       | 0.664926          | 0.613584                          |             |</pre>"
      ],
      "text/plain": [
       "| 227     | 5m 16s       | 0.664926          | 0.613584                          |             |"
      ]
     },
     "metadata": {},
     "output_type": "display_data"
    },
    {
     "data": {
      "text/html": [
       "<pre>| 228     | 5m 18s       | 0.664518          | 0.613372                          |             |</pre>"
      ],
      "text/plain": [
       "| 228     | 5m 18s       | 0.664518          | 0.613372                          |             |"
      ]
     },
     "metadata": {},
     "output_type": "display_data"
    },
    {
     "data": {
      "text/html": [
       "<pre>| 229     | 5m 19s       | 0.664135          | 0.613171                          |             |</pre>"
      ],
      "text/plain": [
       "| 229     | 5m 19s       | 0.664135          | 0.613171                          |             |"
      ]
     },
     "metadata": {},
     "output_type": "display_data"
    },
    {
     "data": {
      "text/html": [
       "<pre>| 230     | 5m 20s       | 0.663764          | 0.612977                          |             |</pre>"
      ],
      "text/plain": [
       "| 230     | 5m 20s       | 0.663764          | 0.612977                          |             |"
      ]
     },
     "metadata": {},
     "output_type": "display_data"
    },
    {
     "data": {
      "text/html": [
       "<pre>| 231     | 5m 22s       | 0.663377          | 0.612773                          |             |</pre>"
      ],
      "text/plain": [
       "| 231     | 5m 22s       | 0.663377          | 0.612773                          |             |"
      ]
     },
     "metadata": {},
     "output_type": "display_data"
    },
    {
     "data": {
      "text/html": [
       "<pre>| 232     | 5m 23s       | 0.662995          | 0.612575                          |             |</pre>"
      ],
      "text/plain": [
       "| 232     | 5m 23s       | 0.662995          | 0.612575                          |             |"
      ]
     },
     "metadata": {},
     "output_type": "display_data"
    },
    {
     "data": {
      "text/html": [
       "<pre>| 233     | 5m 25s       | 0.662597          | 0.612365                          |             |</pre>"
      ],
      "text/plain": [
       "| 233     | 5m 25s       | 0.662597          | 0.612365                          |             |"
      ]
     },
     "metadata": {},
     "output_type": "display_data"
    },
    {
     "data": {
      "text/html": [
       "<pre>| 234     | 5m 26s       | 0.662219          | 0.612163                          |             |</pre>"
      ],
      "text/plain": [
       "| 234     | 5m 26s       | 0.662219          | 0.612163                          |             |"
      ]
     },
     "metadata": {},
     "output_type": "display_data"
    },
    {
     "data": {
      "text/html": [
       "<pre>| 235     | 5m 27s       | 0.661838          | 0.611958                          |             |</pre>"
      ],
      "text/plain": [
       "| 235     | 5m 27s       | 0.661838          | 0.611958                          |             |"
      ]
     },
     "metadata": {},
     "output_type": "display_data"
    },
    {
     "data": {
      "text/html": [
       "<pre>| 236     | 5m 29s       | 0.661451          | 0.61174                           |             |</pre>"
      ],
      "text/plain": [
       "| 236     | 5m 29s       | 0.661451          | 0.61174                           |             |"
      ]
     },
     "metadata": {},
     "output_type": "display_data"
    },
    {
     "data": {
      "text/html": [
       "<pre>| 237     | 5m 30s       | 0.66108           | 0.611542                          |             |</pre>"
      ],
      "text/plain": [
       "| 237     | 5m 30s       | 0.66108           | 0.611542                          |             |"
      ]
     },
     "metadata": {},
     "output_type": "display_data"
    },
    {
     "data": {
      "text/html": [
       "<pre>| 238     | 5m 32s       | 0.66071           | 0.611339                          |             |</pre>"
      ],
      "text/plain": [
       "| 238     | 5m 32s       | 0.66071           | 0.611339                          |             |"
      ]
     },
     "metadata": {},
     "output_type": "display_data"
    },
    {
     "data": {
      "text/html": [
       "<pre>| 239     | 5m 33s       | 0.660356          | 0.611139                          |             |</pre>"
      ],
      "text/plain": [
       "| 239     | 5m 33s       | 0.660356          | 0.611139                          |             |"
      ]
     },
     "metadata": {},
     "output_type": "display_data"
    },
    {
     "data": {
      "text/html": [
       "<pre>| 240     | 5m 34s       | 0.659992          | 0.610938                          |             |</pre>"
      ],
      "text/plain": [
       "| 240     | 5m 34s       | 0.659992          | 0.610938                          |             |"
      ]
     },
     "metadata": {},
     "output_type": "display_data"
    },
    {
     "data": {
      "text/html": [
       "<pre>| 241     | 5m 36s       | 0.659601          | 0.610692                          |             |</pre>"
      ],
      "text/plain": [
       "| 241     | 5m 36s       | 0.659601          | 0.610692                          |             |"
      ]
     },
     "metadata": {},
     "output_type": "display_data"
    },
    {
     "data": {
      "text/html": [
       "<pre>| 242     | 5m 37s       | 0.659251          | 0.610502                          |             |</pre>"
      ],
      "text/plain": [
       "| 242     | 5m 37s       | 0.659251          | 0.610502                          |             |"
      ]
     },
     "metadata": {},
     "output_type": "display_data"
    },
    {
     "data": {
      "text/html": [
       "<pre>| 243     | 5m 38s       | 0.658875          | 0.610296                          |             |</pre>"
      ],
      "text/plain": [
       "| 243     | 5m 38s       | 0.658875          | 0.610296                          |             |"
      ]
     },
     "metadata": {},
     "output_type": "display_data"
    },
    {
     "data": {
      "text/html": [
       "<pre>| 244     | 5m 40s       | 0.658537          | 0.610113                          |             |</pre>"
      ],
      "text/plain": [
       "| 244     | 5m 40s       | 0.658537          | 0.610113                          |             |"
      ]
     },
     "metadata": {},
     "output_type": "display_data"
    },
    {
     "data": {
      "text/html": [
       "<pre>| 245     | 5m 41s       | 0.658217          | 0.609947                          |             |</pre>"
      ],
      "text/plain": [
       "| 245     | 5m 41s       | 0.658217          | 0.609947                          |             |"
      ]
     },
     "metadata": {},
     "output_type": "display_data"
    },
    {
     "data": {
      "text/html": [
       "<pre>| 246     | 5m 42s       | 0.657923          | 0.609808                          |             |</pre>"
      ],
      "text/plain": [
       "| 246     | 5m 42s       | 0.657923          | 0.609808                          |             |"
      ]
     },
     "metadata": {},
     "output_type": "display_data"
    },
    {
     "data": {
      "text/html": [
       "<pre>| 247     | 5m 44s       | 0.657597          | 0.609644                          |             |</pre>"
      ],
      "text/plain": [
       "| 247     | 5m 44s       | 0.657597          | 0.609644                          |             |"
      ]
     },
     "metadata": {},
     "output_type": "display_data"
    },
    {
     "data": {
      "text/html": [
       "<pre>| 248     | 5m 45s       | 0.657305          | 0.609498                          |             |</pre>"
      ],
      "text/plain": [
       "| 248     | 5m 45s       | 0.657305          | 0.609498                          |             |"
      ]
     },
     "metadata": {},
     "output_type": "display_data"
    },
    {
     "data": {
      "text/html": [
       "<pre>| 249     | 5m 47s       | 0.656981          | 0.609331                          |             |</pre>"
      ],
      "text/plain": [
       "| 249     | 5m 47s       | 0.656981          | 0.609331                          |             |"
      ]
     },
     "metadata": {},
     "output_type": "display_data"
    },
    {
     "data": {
      "text/html": [
       "<pre>| 250     | 5m 48s       | 0.656682          | 0.609181                          |             |</pre>"
      ],
      "text/plain": [
       "| 250     | 5m 48s       | 0.656682          | 0.609181                          |             |"
      ]
     },
     "metadata": {},
     "output_type": "display_data"
    },
    {
     "data": {
      "text/html": [
       "<pre>| 251     | 5m 49s       | 0.656367          | 0.609015                          |             |</pre>"
      ],
      "text/plain": [
       "| 251     | 5m 49s       | 0.656367          | 0.609015                          |             |"
      ]
     },
     "metadata": {},
     "output_type": "display_data"
    },
    {
     "data": {
      "text/html": [
       "<pre>| 252     | 5m 51s       | 0.656073          | 0.608863                          |             |</pre>"
      ],
      "text/plain": [
       "| 252     | 5m 51s       | 0.656073          | 0.608863                          |             |"
      ]
     },
     "metadata": {},
     "output_type": "display_data"
    },
    {
     "data": {
      "text/html": [
       "<pre>| 253     | 5m 52s       | 0.655773          | 0.6087                            |             |</pre>"
      ],
      "text/plain": [
       "| 253     | 5m 52s       | 0.655773          | 0.6087                            |             |"
      ]
     },
     "metadata": {},
     "output_type": "display_data"
    },
    {
     "data": {
      "text/html": [
       "<pre>| 254     | 5m 53s       | 0.655492          | 0.608559                          |             |</pre>"
      ],
      "text/plain": [
       "| 254     | 5m 53s       | 0.655492          | 0.608559                          |             |"
      ]
     },
     "metadata": {},
     "output_type": "display_data"
    },
    {
     "data": {
      "text/html": [
       "<pre>| 255     | 5m 55s       | 0.655177          | 0.608387                          |             |</pre>"
      ],
      "text/plain": [
       "| 255     | 5m 55s       | 0.655177          | 0.608387                          |             |"
      ]
     },
     "metadata": {},
     "output_type": "display_data"
    },
    {
     "data": {
      "text/html": [
       "<pre>| 256     | 5m 56s       | 0.65489           | 0.60824                           |             |</pre>"
      ],
      "text/plain": [
       "| 256     | 5m 56s       | 0.65489           | 0.60824                           |             |"
      ]
     },
     "metadata": {},
     "output_type": "display_data"
    },
    {
     "data": {
      "text/html": [
       "<pre>| 257     | 5m 57s       | 0.654591          | 0.608078                          |             |</pre>"
      ],
      "text/plain": [
       "| 257     | 5m 57s       | 0.654591          | 0.608078                          |             |"
      ]
     },
     "metadata": {},
     "output_type": "display_data"
    },
    {
     "data": {
      "text/html": [
       "<pre>| 258     | 5m 59s       | 0.654295          | 0.607918                          |             |</pre>"
      ],
      "text/plain": [
       "| 258     | 5m 59s       | 0.654295          | 0.607918                          |             |"
      ]
     },
     "metadata": {},
     "output_type": "display_data"
    },
    {
     "data": {
      "text/html": [
       "<pre>| 259     | 6m 0s        | 0.653996          | 0.607753                          |             |</pre>"
      ],
      "text/plain": [
       "| 259     | 6m 0s        | 0.653996          | 0.607753                          |             |"
      ]
     },
     "metadata": {},
     "output_type": "display_data"
    },
    {
     "data": {
      "text/html": [
       "<pre>| 260     | 6m 1s        | 0.653697          | 0.607591                          |             |</pre>"
      ],
      "text/plain": [
       "| 260     | 6m 1s        | 0.653697          | 0.607591                          |             |"
      ]
     },
     "metadata": {},
     "output_type": "display_data"
    },
    {
     "data": {
      "text/html": [
       "<pre>| 261     | 6m 2s        | 0.65339           | 0.607425                          |             |</pre>"
      ],
      "text/plain": [
       "| 261     | 6m 2s        | 0.65339           | 0.607425                          |             |"
      ]
     },
     "metadata": {},
     "output_type": "display_data"
    },
    {
     "data": {
      "text/html": [
       "<pre>| 262     | 6m 4s        | 0.653106          | 0.607271                          |             |</pre>"
      ],
      "text/plain": [
       "| 262     | 6m 4s        | 0.653106          | 0.607271                          |             |"
      ]
     },
     "metadata": {},
     "output_type": "display_data"
    },
    {
     "data": {
      "text/html": [
       "<pre>| 263     | 6m 5s        | 0.652806          | 0.6071                            |             |</pre>"
      ],
      "text/plain": [
       "| 263     | 6m 5s        | 0.652806          | 0.6071                            |             |"
      ]
     },
     "metadata": {},
     "output_type": "display_data"
    },
    {
     "data": {
      "text/html": [
       "<pre>| 264     | 6m 6s        | 0.65252           | 0.606935                          |             |</pre>"
      ],
      "text/plain": [
       "| 264     | 6m 6s        | 0.65252           | 0.606935                          |             |"
      ]
     },
     "metadata": {},
     "output_type": "display_data"
    },
    {
     "data": {
      "text/html": [
       "<pre>| 265     | 6m 8s        | 0.652239          | 0.606774                          |             |</pre>"
      ],
      "text/plain": [
       "| 265     | 6m 8s        | 0.652239          | 0.606774                          |             |"
      ]
     },
     "metadata": {},
     "output_type": "display_data"
    },
    {
     "data": {
      "text/html": [
       "<pre>| 266     | 6m 9s        | 0.651954          | 0.60661                           |             |</pre>"
      ],
      "text/plain": [
       "| 266     | 6m 9s        | 0.651954          | 0.60661                           |             |"
      ]
     },
     "metadata": {},
     "output_type": "display_data"
    },
    {
     "data": {
      "text/html": [
       "<pre>| 267     | 6m 10s       | 0.65165           | 0.606433                          |             |</pre>"
      ],
      "text/plain": [
       "| 267     | 6m 10s       | 0.65165           | 0.606433                          |             |"
      ]
     },
     "metadata": {},
     "output_type": "display_data"
    },
    {
     "data": {
      "text/html": [
       "<pre>| 268     | 6m 12s       | 0.651364          | 0.606268                          |             |</pre>"
      ],
      "text/plain": [
       "| 268     | 6m 12s       | 0.651364          | 0.606268                          |             |"
      ]
     },
     "metadata": {},
     "output_type": "display_data"
    },
    {
     "data": {
      "text/html": [
       "<pre>| 269     | 6m 13s       | 0.651086          | 0.60611                           |             |</pre>"
      ],
      "text/plain": [
       "| 269     | 6m 13s       | 0.651086          | 0.60611                           |             |"
      ]
     },
     "metadata": {},
     "output_type": "display_data"
    },
    {
     "data": {
      "text/html": [
       "<pre>| 270     | 6m 14s       | 0.650791          | 0.605929                          |             |</pre>"
      ],
      "text/plain": [
       "| 270     | 6m 14s       | 0.650791          | 0.605929                          |             |"
      ]
     },
     "metadata": {},
     "output_type": "display_data"
    },
    {
     "data": {
      "text/html": [
       "<pre>| 271     | 6m 16s       | 0.650516          | 0.605773                          |             |</pre>"
      ],
      "text/plain": [
       "| 271     | 6m 16s       | 0.650516          | 0.605773                          |             |"
      ]
     },
     "metadata": {},
     "output_type": "display_data"
    },
    {
     "data": {
      "text/html": [
       "<pre>| 272     | 6m 17s       | 0.650231          | 0.605598                          |             |</pre>"
      ],
      "text/plain": [
       "| 272     | 6m 17s       | 0.650231          | 0.605598                          |             |"
      ]
     },
     "metadata": {},
     "output_type": "display_data"
    },
    {
     "data": {
      "text/html": [
       "<pre>| 273     | 6m 18s       | 0.649948          | 0.605425                          |             |</pre>"
      ],
      "text/plain": [
       "| 273     | 6m 18s       | 0.649948          | 0.605425                          |             |"
      ]
     },
     "metadata": {},
     "output_type": "display_data"
    },
    {
     "data": {
      "text/html": [
       "<pre>| 274     | 6m 20s       | 0.649677          | 0.605268                          |             |</pre>"
      ],
      "text/plain": [
       "| 274     | 6m 20s       | 0.649677          | 0.605268                          |             |"
      ]
     },
     "metadata": {},
     "output_type": "display_data"
    },
    {
     "data": {
      "text/html": [
       "<pre>| 275     | 6m 21s       | 0.649387          | 0.605097                          |             |</pre>"
      ],
      "text/plain": [
       "| 275     | 6m 21s       | 0.649387          | 0.605097                          |             |"
      ]
     },
     "metadata": {},
     "output_type": "display_data"
    },
    {
     "data": {
      "text/html": [
       "<pre>| 276     | 6m 22s       | 0.649096          | 0.604921                          |             |</pre>"
      ],
      "text/plain": [
       "| 276     | 6m 22s       | 0.649096          | 0.604921                          |             |"
      ]
     },
     "metadata": {},
     "output_type": "display_data"
    },
    {
     "data": {
      "text/html": [
       "<pre>| 277     | 6m 23s       | 0.648829          | 0.604756                          |             |</pre>"
      ],
      "text/plain": [
       "| 277     | 6m 23s       | 0.648829          | 0.604756                          |             |"
      ]
     },
     "metadata": {},
     "output_type": "display_data"
    },
    {
     "data": {
      "text/html": [
       "<pre>| 278     | 6m 25s       | 0.648556          | 0.604589                          |             |</pre>"
      ],
      "text/plain": [
       "| 278     | 6m 25s       | 0.648556          | 0.604589                          |             |"
      ]
     },
     "metadata": {},
     "output_type": "display_data"
    },
    {
     "data": {
      "text/html": [
       "<pre>| 279     | 6m 26s       | 0.648282          | 0.604413                          |             |</pre>"
      ],
      "text/plain": [
       "| 279     | 6m 26s       | 0.648282          | 0.604413                          |             |"
      ]
     },
     "metadata": {},
     "output_type": "display_data"
    },
    {
     "data": {
      "text/html": [
       "<pre>| 280     | 6m 28s       | 0.648007          | 0.604243                          |             |</pre>"
      ],
      "text/plain": [
       "| 280     | 6m 28s       | 0.648007          | 0.604243                          |             |"
      ]
     },
     "metadata": {},
     "output_type": "display_data"
    },
    {
     "data": {
      "text/html": [
       "<pre>| 281     | 6m 29s       | 0.647742          | 0.604089                          |             |</pre>"
      ],
      "text/plain": [
       "| 281     | 6m 29s       | 0.647742          | 0.604089                          |             |"
      ]
     },
     "metadata": {},
     "output_type": "display_data"
    },
    {
     "data": {
      "text/html": [
       "<pre>| 282     | 6m 30s       | 0.64748           | 0.603941                          |             |</pre>"
      ],
      "text/plain": [
       "| 282     | 6m 30s       | 0.64748           | 0.603941                          |             |"
      ]
     },
     "metadata": {},
     "output_type": "display_data"
    },
    {
     "data": {
      "text/html": [
       "<pre>| 283     | 6m 32s       | 0.647235          | 0.603804                          |             |</pre>"
      ],
      "text/plain": [
       "| 283     | 6m 32s       | 0.647235          | 0.603804                          |             |"
      ]
     },
     "metadata": {},
     "output_type": "display_data"
    },
    {
     "data": {
      "text/html": [
       "<pre>| 284     | 6m 33s       | 0.646987          | 0.603665                          |             |</pre>"
      ],
      "text/plain": [
       "| 284     | 6m 33s       | 0.646987          | 0.603665                          |             |"
      ]
     },
     "metadata": {},
     "output_type": "display_data"
    },
    {
     "data": {
      "text/html": [
       "<pre>| 285     | 6m 34s       | 0.646729          | 0.603512                          |             |</pre>"
      ],
      "text/plain": [
       "| 285     | 6m 34s       | 0.646729          | 0.603512                          |             |"
      ]
     },
     "metadata": {},
     "output_type": "display_data"
    },
    {
     "data": {
      "text/html": [
       "<pre>| 286     | 6m 36s       | 0.646495          | 0.603374                          |             |</pre>"
      ],
      "text/plain": [
       "| 286     | 6m 36s       | 0.646495          | 0.603374                          |             |"
      ]
     },
     "metadata": {},
     "output_type": "display_data"
    },
    {
     "data": {
      "text/html": [
       "<pre>| 287     | 6m 37s       | 0.646247          | 0.603221                          |             |</pre>"
      ],
      "text/plain": [
       "| 287     | 6m 37s       | 0.646247          | 0.603221                          |             |"
      ]
     },
     "metadata": {},
     "output_type": "display_data"
    },
    {
     "data": {
      "text/html": [
       "<pre>| 288     | 6m 38s       | 0.645995          | 0.60307                           |             |</pre>"
      ],
      "text/plain": [
       "| 288     | 6m 38s       | 0.645995          | 0.60307                           |             |"
      ]
     },
     "metadata": {},
     "output_type": "display_data"
    },
    {
     "data": {
      "text/html": [
       "<pre>| 289     | 6m 40s       | 0.645759          | 0.602934                          |             |</pre>"
      ],
      "text/plain": [
       "| 289     | 6m 40s       | 0.645759          | 0.602934                          |             |"
      ]
     },
     "metadata": {},
     "output_type": "display_data"
    },
    {
     "data": {
      "text/html": [
       "<pre>| 290     | 6m 41s       | 0.645514          | 0.602783                          |             |</pre>"
      ],
      "text/plain": [
       "| 290     | 6m 41s       | 0.645514          | 0.602783                          |             |"
      ]
     },
     "metadata": {},
     "output_type": "display_data"
    },
    {
     "data": {
      "text/html": [
       "<pre>| 291     | 6m 42s       | 0.645283          | 0.602644                          |             |</pre>"
      ],
      "text/plain": [
       "| 291     | 6m 42s       | 0.645283          | 0.602644                          |             |"
      ]
     },
     "metadata": {},
     "output_type": "display_data"
    },
    {
     "data": {
      "text/html": [
       "<pre>| 292     | 6m 44s       | 0.645032          | 0.602489                          |             |</pre>"
      ],
      "text/plain": [
       "| 292     | 6m 44s       | 0.645032          | 0.602489                          |             |"
      ]
     },
     "metadata": {},
     "output_type": "display_data"
    },
    {
     "data": {
      "text/html": [
       "<pre>| 293     | 6m 45s       | 0.644775          | 0.602339                          |             |</pre>"
      ],
      "text/plain": [
       "| 293     | 6m 45s       | 0.644775          | 0.602339                          |             |"
      ]
     },
     "metadata": {},
     "output_type": "display_data"
    },
    {
     "data": {
      "text/html": [
       "<pre>| 294     | 6m 46s       | 0.644536          | 0.602205                          |             |</pre>"
      ],
      "text/plain": [
       "| 294     | 6m 46s       | 0.644536          | 0.602205                          |             |"
      ]
     },
     "metadata": {},
     "output_type": "display_data"
    },
    {
     "data": {
      "text/html": [
       "<pre>| 295     | 6m 48s       | 0.644282          | 0.602044                          |             |</pre>"
      ],
      "text/plain": [
       "| 295     | 6m 48s       | 0.644282          | 0.602044                          |             |"
      ]
     },
     "metadata": {},
     "output_type": "display_data"
    },
    {
     "data": {
      "text/html": [
       "<pre>| 296     | 6m 49s       | 0.644049          | 0.601899                          |             |</pre>"
      ],
      "text/plain": [
       "| 296     | 6m 49s       | 0.644049          | 0.601899                          |             |"
      ]
     },
     "metadata": {},
     "output_type": "display_data"
    },
    {
     "data": {
      "text/html": [
       "<pre>| 297     | 6m 51s       | 0.643808          | 0.601744                          |             |</pre>"
      ],
      "text/plain": [
       "| 297     | 6m 51s       | 0.643808          | 0.601744                          |             |"
      ]
     },
     "metadata": {},
     "output_type": "display_data"
    },
    {
     "data": {
      "text/html": [
       "<pre>| 298     | 6m 52s       | 0.643571          | 0.601593                          |             |</pre>"
      ],
      "text/plain": [
       "| 298     | 6m 52s       | 0.643571          | 0.601593                          |             |"
      ]
     },
     "metadata": {},
     "output_type": "display_data"
    },
    {
     "data": {
      "text/html": [
       "<pre>| 299     | 6m 53s       | 0.64334           | 0.601449                          |             |</pre>"
      ],
      "text/plain": [
       "| 299     | 6m 53s       | 0.64334           | 0.601449                          |             |"
      ]
     },
     "metadata": {},
     "output_type": "display_data"
    },
    {
     "data": {
      "text/html": [
       "<pre>| 300     | 6m 55s       | 0.643104          | 0.601297                          |             |</pre>"
      ],
      "text/plain": [
       "| 300     | 6m 55s       | 0.643104          | 0.601297                          |             |"
      ]
     },
     "metadata": {},
     "output_type": "display_data"
    },
    {
     "data": {
      "text/html": [
       "<pre>| 301     | 6m 56s       | 0.642876          | 0.601159                          |             |</pre>"
      ],
      "text/plain": [
       "| 301     | 6m 56s       | 0.642876          | 0.601159                          |             |"
      ]
     },
     "metadata": {},
     "output_type": "display_data"
    },
    {
     "data": {
      "text/html": [
       "<pre>| 302     | 6m 57s       | 0.642639          | 0.601006                          |             |</pre>"
      ],
      "text/plain": [
       "| 302     | 6m 57s       | 0.642639          | 0.601006                          |             |"
      ]
     },
     "metadata": {},
     "output_type": "display_data"
    },
    {
     "data": {
      "text/html": [
       "<pre>| 303     | 6m 58s       | 0.642398          | 0.600848                          |             |</pre>"
      ],
      "text/plain": [
       "| 303     | 6m 58s       | 0.642398          | 0.600848                          |             |"
      ]
     },
     "metadata": {},
     "output_type": "display_data"
    },
    {
     "data": {
      "text/html": [
       "<pre>| 304     | 7m 0s        | 0.642163          | 0.600695                          |             |</pre>"
      ],
      "text/plain": [
       "| 304     | 7m 0s        | 0.642163          | 0.600695                          |             |"
      ]
     },
     "metadata": {},
     "output_type": "display_data"
    },
    {
     "data": {
      "text/html": [
       "<pre>| 305     | 7m 1s        | 0.64193           | 0.600545                          |             |</pre>"
      ],
      "text/plain": [
       "| 305     | 7m 1s        | 0.64193           | 0.600545                          |             |"
      ]
     },
     "metadata": {},
     "output_type": "display_data"
    },
    {
     "data": {
      "text/html": [
       "<pre>| 306     | 7m 2s        | 0.641698          | 0.600399                          |             |</pre>"
      ],
      "text/plain": [
       "| 306     | 7m 2s        | 0.641698          | 0.600399                          |             |"
      ]
     },
     "metadata": {},
     "output_type": "display_data"
    },
    {
     "data": {
      "text/html": [
       "<pre>| 307     | 7m 4s        | 0.641464          | 0.600246                          |             |</pre>"
      ],
      "text/plain": [
       "| 307     | 7m 4s        | 0.641464          | 0.600246                          |             |"
      ]
     },
     "metadata": {},
     "output_type": "display_data"
    },
    {
     "data": {
      "text/html": [
       "<pre>| 308     | 7m 5s        | 0.641224          | 0.600091                          |             |</pre>"
      ],
      "text/plain": [
       "| 308     | 7m 5s        | 0.641224          | 0.600091                          |             |"
      ]
     },
     "metadata": {},
     "output_type": "display_data"
    },
    {
     "data": {
      "text/html": [
       "<pre>| 309     | 7m 6s        | 0.64099           | 0.599941                          |             |</pre>"
      ],
      "text/plain": [
       "| 309     | 7m 6s        | 0.64099           | 0.599941                          |             |"
      ]
     },
     "metadata": {},
     "output_type": "display_data"
    },
    {
     "data": {
      "text/html": [
       "<pre>| 310     | 7m 8s        | 0.640746          | 0.599785                          |             |</pre>"
      ],
      "text/plain": [
       "| 310     | 7m 8s        | 0.640746          | 0.599785                          |             |"
      ]
     },
     "metadata": {},
     "output_type": "display_data"
    },
    {
     "data": {
      "text/html": [
       "<pre>| 311     | 7m 9s        | 0.64052           | 0.599633                          |             |</pre>"
      ],
      "text/plain": [
       "| 311     | 7m 9s        | 0.64052           | 0.599633                          |             |"
      ]
     },
     "metadata": {},
     "output_type": "display_data"
    },
    {
     "data": {
      "text/html": [
       "<pre>| 312     | 7m 10s       | 0.640312          | 0.599498                          |             |</pre>"
      ],
      "text/plain": [
       "| 312     | 7m 10s       | 0.640312          | 0.599498                          |             |"
      ]
     },
     "metadata": {},
     "output_type": "display_data"
    },
    {
     "data": {
      "text/html": [
       "<pre>| 313     | 7m 12s       | 0.640082          | 0.599346                          |             |</pre>"
      ],
      "text/plain": [
       "| 313     | 7m 12s       | 0.640082          | 0.599346                          |             |"
      ]
     },
     "metadata": {},
     "output_type": "display_data"
    },
    {
     "data": {
      "text/html": [
       "<pre>| 314     | 7m 13s       | 0.639837          | 0.599176                          |             |</pre>"
      ],
      "text/plain": [
       "| 314     | 7m 13s       | 0.639837          | 0.599176                          |             |"
      ]
     },
     "metadata": {},
     "output_type": "display_data"
    },
    {
     "data": {
      "text/html": [
       "<pre>| 315     | 7m 14s       | 0.639601          | 0.599019                          |             |</pre>"
      ],
      "text/plain": [
       "| 315     | 7m 14s       | 0.639601          | 0.599019                          |             |"
      ]
     },
     "metadata": {},
     "output_type": "display_data"
    },
    {
     "data": {
      "text/html": [
       "<pre>| 316     | 7m 16s       | 0.639392          | 0.598877                          |             |</pre>"
      ],
      "text/plain": [
       "| 316     | 7m 16s       | 0.639392          | 0.598877                          |             |"
      ]
     },
     "metadata": {},
     "output_type": "display_data"
    },
    {
     "data": {
      "text/html": [
       "<pre>| 317     | 7m 17s       | 0.639158          | 0.598718                          |             |</pre>"
      ],
      "text/plain": [
       "| 317     | 7m 17s       | 0.639158          | 0.598718                          |             |"
      ]
     },
     "metadata": {},
     "output_type": "display_data"
    },
    {
     "data": {
      "text/html": [
       "<pre>| 318     | 7m 18s       | 0.638932          | 0.598564                          |             |</pre>"
      ],
      "text/plain": [
       "| 318     | 7m 18s       | 0.638932          | 0.598564                          |             |"
      ]
     },
     "metadata": {},
     "output_type": "display_data"
    },
    {
     "data": {
      "text/html": [
       "<pre>| 319     | 7m 20s       | 0.63871           | 0.598417                          |             |</pre>"
      ],
      "text/plain": [
       "| 319     | 7m 20s       | 0.63871           | 0.598417                          |             |"
      ]
     },
     "metadata": {},
     "output_type": "display_data"
    },
    {
     "data": {
      "text/html": [
       "<pre>| 320     | 7m 21s       | 0.638484          | 0.598262                          |             |</pre>"
      ],
      "text/plain": [
       "| 320     | 7m 21s       | 0.638484          | 0.598262                          |             |"
      ]
     },
     "metadata": {},
     "output_type": "display_data"
    },
    {
     "data": {
      "text/html": [
       "<pre>| 321     | 7m 22s       | 0.638268          | 0.598113                          |             |</pre>"
      ],
      "text/plain": [
       "| 321     | 7m 22s       | 0.638268          | 0.598113                          |             |"
      ]
     },
     "metadata": {},
     "output_type": "display_data"
    },
    {
     "data": {
      "text/html": [
       "<pre>| 322     | 7m 23s       | 0.63804           | 0.597962                          |             |</pre>"
      ],
      "text/plain": [
       "| 322     | 7m 23s       | 0.63804           | 0.597962                          |             |"
      ]
     },
     "metadata": {},
     "output_type": "display_data"
    },
    {
     "data": {
      "text/html": [
       "<pre>| 323     | 7m 25s       | 0.637811          | 0.597803                          |             |</pre>"
      ],
      "text/plain": [
       "| 323     | 7m 25s       | 0.637811          | 0.597803                          |             |"
      ]
     },
     "metadata": {},
     "output_type": "display_data"
    },
    {
     "data": {
      "text/html": [
       "<pre>| 324     | 7m 26s       | 0.637583          | 0.597653                          |             |</pre>"
      ],
      "text/plain": [
       "| 324     | 7m 26s       | 0.637583          | 0.597653                          |             |"
      ]
     },
     "metadata": {},
     "output_type": "display_data"
    },
    {
     "data": {
      "text/html": [
       "<pre>| 325     | 7m 28s       | 0.637352          | 0.597496                          |             |</pre>"
      ],
      "text/plain": [
       "| 325     | 7m 28s       | 0.637352          | 0.597496                          |             |"
      ]
     },
     "metadata": {},
     "output_type": "display_data"
    },
    {
     "data": {
      "text/html": [
       "<pre>| 326     | 7m 29s       | 0.637133          | 0.597344                          |             |</pre>"
      ],
      "text/plain": [
       "| 326     | 7m 29s       | 0.637133          | 0.597344                          |             |"
      ]
     },
     "metadata": {},
     "output_type": "display_data"
    },
    {
     "data": {
      "text/html": [
       "<pre>| 327     | 7m 30s       | 0.636911          | 0.597192                          |             |</pre>"
      ],
      "text/plain": [
       "| 327     | 7m 30s       | 0.636911          | 0.597192                          |             |"
      ]
     },
     "metadata": {},
     "output_type": "display_data"
    },
    {
     "data": {
      "text/html": [
       "<pre>| 328     | 7m 31s       | 0.636682          | 0.597036                          |             |</pre>"
      ],
      "text/plain": [
       "| 328     | 7m 31s       | 0.636682          | 0.597036                          |             |"
      ]
     },
     "metadata": {},
     "output_type": "display_data"
    },
    {
     "data": {
      "text/html": [
       "<pre>| 329     | 7m 33s       | 0.636462          | 0.596878                          |             |</pre>"
      ],
      "text/plain": [
       "| 329     | 7m 33s       | 0.636462          | 0.596878                          |             |"
      ]
     },
     "metadata": {},
     "output_type": "display_data"
    },
    {
     "data": {
      "text/html": [
       "<pre>| 330     | 7m 34s       | 0.636243          | 0.596724                          |             |</pre>"
      ],
      "text/plain": [
       "| 330     | 7m 34s       | 0.636243          | 0.596724                          |             |"
      ]
     },
     "metadata": {},
     "output_type": "display_data"
    },
    {
     "data": {
      "text/html": [
       "<pre>| 331     | 7m 36s       | 0.63602           | 0.59656                           |             |</pre>"
      ],
      "text/plain": [
       "| 331     | 7m 36s       | 0.63602           | 0.59656                           |             |"
      ]
     },
     "metadata": {},
     "output_type": "display_data"
    },
    {
     "data": {
      "text/html": [
       "<pre>| 332     | 7m 37s       | 0.635806          | 0.596416                          |             |</pre>"
      ],
      "text/plain": [
       "| 332     | 7m 37s       | 0.635806          | 0.596416                          |             |"
      ]
     },
     "metadata": {},
     "output_type": "display_data"
    },
    {
     "data": {
      "text/html": [
       "<pre>| 333     | 7m 39s       | 0.635583          | 0.596261                          |             |</pre>"
      ],
      "text/plain": [
       "| 333     | 7m 39s       | 0.635583          | 0.596261                          |             |"
      ]
     },
     "metadata": {},
     "output_type": "display_data"
    },
    {
     "data": {
      "text/html": [
       "<pre>| 334     | 7m 40s       | 0.635359          | 0.596105                          |             |</pre>"
      ],
      "text/plain": [
       "| 334     | 7m 40s       | 0.635359          | 0.596105                          |             |"
      ]
     },
     "metadata": {},
     "output_type": "display_data"
    },
    {
     "data": {
      "text/html": [
       "<pre>| 335     | 7m 41s       | 0.635147          | 0.595953                          |             |</pre>"
      ],
      "text/plain": [
       "| 335     | 7m 41s       | 0.635147          | 0.595953                          |             |"
      ]
     },
     "metadata": {},
     "output_type": "display_data"
    },
    {
     "data": {
      "text/html": [
       "<pre>| 336     | 7m 43s       | 0.634922          | 0.595797                          |             |</pre>"
      ],
      "text/plain": [
       "| 336     | 7m 43s       | 0.634922          | 0.595797                          |             |"
      ]
     },
     "metadata": {},
     "output_type": "display_data"
    },
    {
     "data": {
      "text/html": [
       "<pre>| 337     | 7m 44s       | 0.63471           | 0.595644                          |             |</pre>"
      ],
      "text/plain": [
       "| 337     | 7m 44s       | 0.63471           | 0.595644                          |             |"
      ]
     },
     "metadata": {},
     "output_type": "display_data"
    },
    {
     "data": {
      "text/html": [
       "<pre>| 338     | 7m 45s       | 0.634502          | 0.595492                          |             |</pre>"
      ],
      "text/plain": [
       "| 338     | 7m 45s       | 0.634502          | 0.595492                          |             |"
      ]
     },
     "metadata": {},
     "output_type": "display_data"
    },
    {
     "data": {
      "text/html": [
       "<pre>| 339     | 7m 47s       | 0.634285          | 0.595334                          |             |</pre>"
      ],
      "text/plain": [
       "| 339     | 7m 47s       | 0.634285          | 0.595334                          |             |"
      ]
     },
     "metadata": {},
     "output_type": "display_data"
    },
    {
     "data": {
      "text/html": [
       "<pre>| 340     | 7m 48s       | 0.634059          | 0.595172                          |             |</pre>"
      ],
      "text/plain": [
       "| 340     | 7m 48s       | 0.634059          | 0.595172                          |             |"
      ]
     },
     "metadata": {},
     "output_type": "display_data"
    },
    {
     "data": {
      "text/html": [
       "<pre>| 341     | 7m 49s       | 0.633847          | 0.595022                          |             |</pre>"
      ],
      "text/plain": [
       "| 341     | 7m 49s       | 0.633847          | 0.595022                          |             |"
      ]
     },
     "metadata": {},
     "output_type": "display_data"
    },
    {
     "data": {
      "text/html": [
       "<pre>| 342     | 7m 50s       | 0.633644          | 0.594883                          |             |</pre>"
      ],
      "text/plain": [
       "| 342     | 7m 50s       | 0.633644          | 0.594883                          |             |"
      ]
     },
     "metadata": {},
     "output_type": "display_data"
    },
    {
     "data": {
      "text/html": [
       "<pre>| 343     | 7m 52s       | 0.633413          | 0.594714                          |             |</pre>"
      ],
      "text/plain": [
       "| 343     | 7m 52s       | 0.633413          | 0.594714                          |             |"
      ]
     },
     "metadata": {},
     "output_type": "display_data"
    },
    {
     "data": {
      "text/html": [
       "<pre>| 344     | 7m 53s       | 0.633197          | 0.594557                          |             |</pre>"
      ],
      "text/plain": [
       "| 344     | 7m 53s       | 0.633197          | 0.594557                          |             |"
      ]
     },
     "metadata": {},
     "output_type": "display_data"
    },
    {
     "data": {
      "text/html": [
       "<pre>| 345     | 7m 55s       | 0.632988          | 0.594408                          |             |</pre>"
      ],
      "text/plain": [
       "| 345     | 7m 55s       | 0.632988          | 0.594408                          |             |"
      ]
     },
     "metadata": {},
     "output_type": "display_data"
    },
    {
     "data": {
      "text/html": [
       "<pre>| 346     | 7m 56s       | 0.632781          | 0.594257                          |             |</pre>"
      ],
      "text/plain": [
       "| 346     | 7m 56s       | 0.632781          | 0.594257                          |             |"
      ]
     },
     "metadata": {},
     "output_type": "display_data"
    },
    {
     "data": {
      "text/html": [
       "<pre>| 347     | 7m 58s       | 0.632566          | 0.594104                          |             |</pre>"
      ],
      "text/plain": [
       "| 347     | 7m 58s       | 0.632566          | 0.594104                          |             |"
      ]
     },
     "metadata": {},
     "output_type": "display_data"
    },
    {
     "data": {
      "text/html": [
       "<pre>| 348     | 7m 59s       | 0.632349          | 0.593942                          |             |</pre>"
      ],
      "text/plain": [
       "| 348     | 7m 59s       | 0.632349          | 0.593942                          |             |"
      ]
     },
     "metadata": {},
     "output_type": "display_data"
    },
    {
     "data": {
      "text/html": [
       "<pre>| 349     | 8m 0s        | 0.632137          | 0.59379                           |             |</pre>"
      ],
      "text/plain": [
       "| 349     | 8m 0s        | 0.632137          | 0.59379                           |             |"
      ]
     },
     "metadata": {},
     "output_type": "display_data"
    },
    {
     "data": {
      "text/html": [
       "<pre>| 350     | 8m 1s        | 0.631919          | 0.59363                           |             |</pre>"
      ],
      "text/plain": [
       "| 350     | 8m 1s        | 0.631919          | 0.59363                           |             |"
      ]
     },
     "metadata": {},
     "output_type": "display_data"
    },
    {
     "data": {
      "text/html": [
       "<pre>| 351     | 8m 3s        | 0.631713          | 0.59348                           |             |</pre>"
      ],
      "text/plain": [
       "| 351     | 8m 3s        | 0.631713          | 0.59348                           |             |"
      ]
     },
     "metadata": {},
     "output_type": "display_data"
    },
    {
     "data": {
      "text/html": [
       "<pre>| 352     | 8m 4s        | 0.631503          | 0.593324                          |             |</pre>"
      ],
      "text/plain": [
       "| 352     | 8m 4s        | 0.631503          | 0.593324                          |             |"
      ]
     },
     "metadata": {},
     "output_type": "display_data"
    },
    {
     "data": {
      "text/html": [
       "<pre>| 353     | 8m 5s        | 0.631303          | 0.593181                          |             |</pre>"
      ],
      "text/plain": [
       "| 353     | 8m 5s        | 0.631303          | 0.593181                          |             |"
      ]
     },
     "metadata": {},
     "output_type": "display_data"
    },
    {
     "data": {
      "text/html": [
       "<pre>| 354     | 8m 7s        | 0.631079          | 0.593014                          |             |</pre>"
      ],
      "text/plain": [
       "| 354     | 8m 7s        | 0.631079          | 0.593014                          |             |"
      ]
     },
     "metadata": {},
     "output_type": "display_data"
    },
    {
     "data": {
      "text/html": [
       "<pre>| 355     | 8m 8s        | 0.630867          | 0.592863                          |             |</pre>"
      ],
      "text/plain": [
       "| 355     | 8m 8s        | 0.630867          | 0.592863                          |             |"
      ]
     },
     "metadata": {},
     "output_type": "display_data"
    },
    {
     "data": {
      "text/html": [
       "<pre>| 356     | 8m 9s        | 0.63065           | 0.592699                          |             |</pre>"
      ],
      "text/plain": [
       "| 356     | 8m 9s        | 0.63065           | 0.592699                          |             |"
      ]
     },
     "metadata": {},
     "output_type": "display_data"
    },
    {
     "data": {
      "text/html": [
       "<pre>| 357     | 8m 11s       | 0.63044           | 0.592542                          |             |</pre>"
      ],
      "text/plain": [
       "| 357     | 8m 11s       | 0.63044           | 0.592542                          |             |"
      ]
     },
     "metadata": {},
     "output_type": "display_data"
    },
    {
     "data": {
      "text/html": [
       "<pre>| 358     | 8m 12s       | 0.630246          | 0.592402                          |             |</pre>"
      ],
      "text/plain": [
       "| 358     | 8m 12s       | 0.630246          | 0.592402                          |             |"
      ]
     },
     "metadata": {},
     "output_type": "display_data"
    },
    {
     "data": {
      "text/html": [
       "<pre>| 359     | 8m 13s       | 0.63004           | 0.592252                          |             |</pre>"
      ],
      "text/plain": [
       "| 359     | 8m 13s       | 0.63004           | 0.592252                          |             |"
      ]
     },
     "metadata": {},
     "output_type": "display_data"
    },
    {
     "data": {
      "text/html": [
       "<pre>| 360     | 8m 15s       | 0.629819          | 0.592082                          |             |</pre>"
      ],
      "text/plain": [
       "| 360     | 8m 15s       | 0.629819          | 0.592082                          |             |"
      ]
     },
     "metadata": {},
     "output_type": "display_data"
    },
    {
     "data": {
      "text/html": [
       "<pre>| 361     | 8m 16s       | 0.629624          | 0.591938                          |             |</pre>"
      ],
      "text/plain": [
       "| 361     | 8m 16s       | 0.629624          | 0.591938                          |             |"
      ]
     },
     "metadata": {},
     "output_type": "display_data"
    },
    {
     "data": {
      "text/html": [
       "<pre>| 362     | 8m 17s       | 0.629413          | 0.591782                          |             |</pre>"
      ],
      "text/plain": [
       "| 362     | 8m 17s       | 0.629413          | 0.591782                          |             |"
      ]
     },
     "metadata": {},
     "output_type": "display_data"
    },
    {
     "data": {
      "text/html": [
       "<pre>| 363     | 8m 19s       | 0.629199          | 0.591619                          |             |</pre>"
      ],
      "text/plain": [
       "| 363     | 8m 19s       | 0.629199          | 0.591619                          |             |"
      ]
     },
     "metadata": {},
     "output_type": "display_data"
    },
    {
     "data": {
      "text/html": [
       "<pre>| 364     | 8m 20s       | 0.628999          | 0.591474                          |             |</pre>"
      ],
      "text/plain": [
       "| 364     | 8m 20s       | 0.628999          | 0.591474                          |             |"
      ]
     },
     "metadata": {},
     "output_type": "display_data"
    },
    {
     "data": {
      "text/html": [
       "<pre>| 365     | 8m 21s       | 0.628787          | 0.591317                          |             |</pre>"
      ],
      "text/plain": [
       "| 365     | 8m 21s       | 0.628787          | 0.591317                          |             |"
      ]
     },
     "metadata": {},
     "output_type": "display_data"
    },
    {
     "data": {
      "text/html": [
       "<pre>| 366     | 8m 22s       | 0.628575          | 0.591161                          |             |</pre>"
      ],
      "text/plain": [
       "| 366     | 8m 22s       | 0.628575          | 0.591161                          |             |"
      ]
     },
     "metadata": {},
     "output_type": "display_data"
    },
    {
     "data": {
      "text/html": [
       "<pre>| 367     | 8m 24s       | 0.628374          | 0.591009                          |             |</pre>"
      ],
      "text/plain": [
       "| 367     | 8m 24s       | 0.628374          | 0.591009                          |             |"
      ]
     },
     "metadata": {},
     "output_type": "display_data"
    },
    {
     "data": {
      "text/html": [
       "<pre>| 368     | 8m 25s       | 0.628172          | 0.59086                           |             |</pre>"
      ],
      "text/plain": [
       "| 368     | 8m 25s       | 0.628172          | 0.59086                           |             |"
      ]
     },
     "metadata": {},
     "output_type": "display_data"
    },
    {
     "data": {
      "text/html": [
       "<pre>| 369     | 8m 26s       | 0.627951          | 0.590697                          |             |</pre>"
      ],
      "text/plain": [
       "| 369     | 8m 26s       | 0.627951          | 0.590697                          |             |"
      ]
     },
     "metadata": {},
     "output_type": "display_data"
    },
    {
     "data": {
      "text/html": [
       "<pre>| 370     | 8m 28s       | 0.627751          | 0.590547                          |             |</pre>"
      ],
      "text/plain": [
       "| 370     | 8m 28s       | 0.627751          | 0.590547                          |             |"
      ]
     },
     "metadata": {},
     "output_type": "display_data"
    },
    {
     "data": {
      "text/html": [
       "<pre>| 371     | 8m 29s       | 0.627541          | 0.59039                           |             |</pre>"
      ],
      "text/plain": [
       "| 371     | 8m 29s       | 0.627541          | 0.59039                           |             |"
      ]
     },
     "metadata": {},
     "output_type": "display_data"
    },
    {
     "data": {
      "text/html": [
       "<pre>| 372     | 8m 30s       | 0.627343          | 0.590239                          |             |</pre>"
      ],
      "text/plain": [
       "| 372     | 8m 30s       | 0.627343          | 0.590239                          |             |"
      ]
     },
     "metadata": {},
     "output_type": "display_data"
    },
    {
     "data": {
      "text/html": [
       "<pre>| 373     | 8m 32s       | 0.627146          | 0.590093                          |             |</pre>"
      ],
      "text/plain": [
       "| 373     | 8m 32s       | 0.627146          | 0.590093                          |             |"
      ]
     },
     "metadata": {},
     "output_type": "display_data"
    },
    {
     "data": {
      "text/html": [
       "<pre>| 374     | 8m 33s       | 0.626946          | 0.589939                          |             |</pre>"
      ],
      "text/plain": [
       "| 374     | 8m 33s       | 0.626946          | 0.589939                          |             |"
      ]
     },
     "metadata": {},
     "output_type": "display_data"
    },
    {
     "data": {
      "text/html": [
       "<pre>| 375     | 8m 34s       | 0.626737          | 0.589779                          |             |</pre>"
      ],
      "text/plain": [
       "| 375     | 8m 34s       | 0.626737          | 0.589779                          |             |"
      ]
     },
     "metadata": {},
     "output_type": "display_data"
    },
    {
     "data": {
      "text/html": [
       "<pre>| 376     | 8m 36s       | 0.62654           | 0.58963                           |             |</pre>"
      ],
      "text/plain": [
       "| 376     | 8m 36s       | 0.62654           | 0.58963                           |             |"
      ]
     },
     "metadata": {},
     "output_type": "display_data"
    },
    {
     "data": {
      "text/html": [
       "<pre>| 377     | 8m 37s       | 0.62634           | 0.589476                          |             |</pre>"
      ],
      "text/plain": [
       "| 377     | 8m 37s       | 0.62634           | 0.589476                          |             |"
      ]
     },
     "metadata": {},
     "output_type": "display_data"
    },
    {
     "data": {
      "text/html": [
       "<pre>| 378     | 8m 38s       | 0.62614           | 0.58933                           |             |</pre>"
      ],
      "text/plain": [
       "| 378     | 8m 38s       | 0.62614           | 0.58933                           |             |"
      ]
     },
     "metadata": {},
     "output_type": "display_data"
    },
    {
     "data": {
      "text/html": [
       "<pre>| 379     | 8m 40s       | 0.625933          | 0.58917                           |             |</pre>"
      ],
      "text/plain": [
       "| 379     | 8m 40s       | 0.625933          | 0.58917                           |             |"
      ]
     },
     "metadata": {},
     "output_type": "display_data"
    },
    {
     "data": {
      "text/html": [
       "<pre>| 380     | 8m 41s       | 0.625726          | 0.589011                          |             |</pre>"
      ],
      "text/plain": [
       "| 380     | 8m 41s       | 0.625726          | 0.589011                          |             |"
      ]
     },
     "metadata": {},
     "output_type": "display_data"
    },
    {
     "data": {
      "text/html": [
       "<pre>| 381     | 8m 43s       | 0.625535          | 0.588866                          |             |</pre>"
      ],
      "text/plain": [
       "| 381     | 8m 43s       | 0.625535          | 0.588866                          |             |"
      ]
     },
     "metadata": {},
     "output_type": "display_data"
    },
    {
     "data": {
      "text/html": [
       "<pre>| 382     | 8m 44s       | 0.625333          | 0.588714                          |             |</pre>"
      ],
      "text/plain": [
       "| 382     | 8m 44s       | 0.625333          | 0.588714                          |             |"
      ]
     },
     "metadata": {},
     "output_type": "display_data"
    },
    {
     "data": {
      "text/html": [
       "<pre>| 383     | 8m 45s       | 0.625129          | 0.588559                          |             |</pre>"
      ],
      "text/plain": [
       "| 383     | 8m 45s       | 0.625129          | 0.588559                          |             |"
      ]
     },
     "metadata": {},
     "output_type": "display_data"
    },
    {
     "data": {
      "text/html": [
       "<pre>| 384     | 8m 47s       | 0.624926          | 0.588399                          |             |</pre>"
      ],
      "text/plain": [
       "| 384     | 8m 47s       | 0.624926          | 0.588399                          |             |"
      ]
     },
     "metadata": {},
     "output_type": "display_data"
    },
    {
     "data": {
      "text/html": [
       "<pre>| 385     | 8m 48s       | 0.62474           | 0.588261                          |             |</pre>"
      ],
      "text/plain": [
       "| 385     | 8m 48s       | 0.62474           | 0.588261                          |             |"
      ]
     },
     "metadata": {},
     "output_type": "display_data"
    },
    {
     "data": {
      "text/html": [
       "<pre>| 386     | 8m 49s       | 0.624531          | 0.588102                          |             |</pre>"
      ],
      "text/plain": [
       "| 386     | 8m 49s       | 0.624531          | 0.588102                          |             |"
      ]
     },
     "metadata": {},
     "output_type": "display_data"
    },
    {
     "data": {
      "text/html": [
       "<pre>| 387     | 8m 51s       | 0.624329          | 0.587947                          |             |</pre>"
      ],
      "text/plain": [
       "| 387     | 8m 51s       | 0.624329          | 0.587947                          |             |"
      ]
     },
     "metadata": {},
     "output_type": "display_data"
    },
    {
     "data": {
      "text/html": [
       "<pre>| 388     | 8m 52s       | 0.624127          | 0.587788                          |             |</pre>"
      ],
      "text/plain": [
       "| 388     | 8m 52s       | 0.624127          | 0.587788                          |             |"
      ]
     },
     "metadata": {},
     "output_type": "display_data"
    },
    {
     "data": {
      "text/html": [
       "<pre>| 389     | 8m 53s       | 0.62393           | 0.587642                          |             |</pre>"
      ],
      "text/plain": [
       "| 389     | 8m 53s       | 0.62393           | 0.587642                          |             |"
      ]
     },
     "metadata": {},
     "output_type": "display_data"
    },
    {
     "data": {
      "text/html": [
       "<pre>| 390     | 8m 54s       | 0.623728          | 0.587488                          |             |</pre>"
      ],
      "text/plain": [
       "| 390     | 8m 54s       | 0.623728          | 0.587488                          |             |"
      ]
     },
     "metadata": {},
     "output_type": "display_data"
    },
    {
     "data": {
      "text/html": [
       "<pre>| 391     | 8m 56s       | 0.62353           | 0.587337                          |             |</pre>"
      ],
      "text/plain": [
       "| 391     | 8m 56s       | 0.62353           | 0.587337                          |             |"
      ]
     },
     "metadata": {},
     "output_type": "display_data"
    },
    {
     "data": {
      "text/html": [
       "<pre>| 392     | 8m 57s       | 0.623331          | 0.587184                          |             |</pre>"
      ],
      "text/plain": [
       "| 392     | 8m 57s       | 0.623331          | 0.587184                          |             |"
      ]
     },
     "metadata": {},
     "output_type": "display_data"
    },
    {
     "data": {
      "text/html": [
       "<pre>| 393     | 8m 58s       | 0.623124          | 0.587026                          |             |</pre>"
      ],
      "text/plain": [
       "| 393     | 8m 58s       | 0.623124          | 0.587026                          |             |"
      ]
     },
     "metadata": {},
     "output_type": "display_data"
    },
    {
     "data": {
      "text/html": [
       "<pre>| 394     | 9m 0s        | 0.622937          | 0.586883                          |             |</pre>"
      ],
      "text/plain": [
       "| 394     | 9m 0s        | 0.622937          | 0.586883                          |             |"
      ]
     },
     "metadata": {},
     "output_type": "display_data"
    },
    {
     "data": {
      "text/html": [
       "<pre>| 395     | 9m 1s        | 0.622737          | 0.586728                          |             |</pre>"
      ],
      "text/plain": [
       "| 395     | 9m 1s        | 0.622737          | 0.586728                          |             |"
      ]
     },
     "metadata": {},
     "output_type": "display_data"
    },
    {
     "data": {
      "text/html": [
       "<pre>| 396     | 9m 3s        | 0.622543          | 0.586576                          |             |</pre>"
      ],
      "text/plain": [
       "| 396     | 9m 3s        | 0.622543          | 0.586576                          |             |"
      ]
     },
     "metadata": {},
     "output_type": "display_data"
    },
    {
     "data": {
      "text/html": [
       "<pre>| 397     | 9m 4s        | 0.622352          | 0.586425                          |             |</pre>"
      ],
      "text/plain": [
       "| 397     | 9m 4s        | 0.622352          | 0.586425                          |             |"
      ]
     },
     "metadata": {},
     "output_type": "display_data"
    },
    {
     "data": {
      "text/html": [
       "<pre>| 398     | 9m 6s        | 0.622159          | 0.586275                          |             |</pre>"
      ],
      "text/plain": [
       "| 398     | 9m 6s        | 0.622159          | 0.586275                          |             |"
      ]
     },
     "metadata": {},
     "output_type": "display_data"
    },
    {
     "data": {
      "text/html": [
       "<pre>| 399     | 9m 7s        | 0.621967          | 0.586126                          |             |</pre>"
      ],
      "text/plain": [
       "| 399     | 9m 7s        | 0.621967          | 0.586126                          |             |"
      ]
     },
     "metadata": {},
     "output_type": "display_data"
    },
    {
     "data": {
      "text/html": [
       "<pre>| 400     | 9m 8s        | 0.621764          | 0.585966                          |             |</pre>"
      ],
      "text/plain": [
       "| 400     | 9m 8s        | 0.621764          | 0.585966                          |             |"
      ]
     },
     "metadata": {},
     "output_type": "display_data"
    },
    {
     "data": {
      "text/html": [
       "<pre>| 401     | 9m 9s        | 0.621577          | 0.585819                          |             |</pre>"
      ],
      "text/plain": [
       "| 401     | 9m 9s        | 0.621577          | 0.585819                          |             |"
      ]
     },
     "metadata": {},
     "output_type": "display_data"
    },
    {
     "data": {
      "text/html": [
       "<pre>| 402     | 9m 11s       | 0.621385          | 0.585666                          |             |</pre>"
      ],
      "text/plain": [
       "| 402     | 9m 11s       | 0.621385          | 0.585666                          |             |"
      ]
     },
     "metadata": {},
     "output_type": "display_data"
    },
    {
     "data": {
      "text/html": [
       "<pre>| 403     | 9m 12s       | 0.621189          | 0.585512                          |             |</pre>"
      ],
      "text/plain": [
       "| 403     | 9m 12s       | 0.621189          | 0.585512                          |             |"
      ]
     },
     "metadata": {},
     "output_type": "display_data"
    },
    {
     "data": {
      "text/html": [
       "<pre>| 404     | 9m 13s       | 0.620985          | 0.585351                          |             |</pre>"
      ],
      "text/plain": [
       "| 404     | 9m 13s       | 0.620985          | 0.585351                          |             |"
      ]
     },
     "metadata": {},
     "output_type": "display_data"
    },
    {
     "data": {
      "text/html": [
       "<pre>| 405     | 9m 15s       | 0.620812          | 0.58522                           |             |</pre>"
      ],
      "text/plain": [
       "| 405     | 9m 15s       | 0.620812          | 0.58522                           |             |"
      ]
     },
     "metadata": {},
     "output_type": "display_data"
    },
    {
     "data": {
      "text/html": [
       "<pre>| 406     | 9m 16s       | 0.620612          | 0.585059                          |             |</pre>"
      ],
      "text/plain": [
       "| 406     | 9m 16s       | 0.620612          | 0.585059                          |             |"
      ]
     },
     "metadata": {},
     "output_type": "display_data"
    },
    {
     "data": {
      "text/html": [
       "<pre>| 407     | 9m 17s       | 0.620416          | 0.584906                          |             |</pre>"
      ],
      "text/plain": [
       "| 407     | 9m 17s       | 0.620416          | 0.584906                          |             |"
      ]
     },
     "metadata": {},
     "output_type": "display_data"
    },
    {
     "data": {
      "text/html": [
       "<pre>| 408     | 9m 19s       | 0.620227          | 0.584756                          |             |</pre>"
      ],
      "text/plain": [
       "| 408     | 9m 19s       | 0.620227          | 0.584756                          |             |"
      ]
     },
     "metadata": {},
     "output_type": "display_data"
    },
    {
     "data": {
      "text/html": [
       "<pre>| 409     | 9m 20s       | 0.620043          | 0.584615                          |             |</pre>"
      ],
      "text/plain": [
       "| 409     | 9m 20s       | 0.620043          | 0.584615                          |             |"
      ]
     },
     "metadata": {},
     "output_type": "display_data"
    },
    {
     "data": {
      "text/html": [
       "<pre>| 410     | 9m 21s       | 0.619844          | 0.584459                          |             |</pre>"
      ],
      "text/plain": [
       "| 410     | 9m 21s       | 0.619844          | 0.584459                          |             |"
      ]
     },
     "metadata": {},
     "output_type": "display_data"
    },
    {
     "data": {
      "text/html": [
       "<pre>| 411     | 9m 23s       | 0.61966           | 0.584318                          |             |</pre>"
      ],
      "text/plain": [
       "| 411     | 9m 23s       | 0.61966           | 0.584318                          |             |"
      ]
     },
     "metadata": {},
     "output_type": "display_data"
    },
    {
     "data": {
      "text/html": [
       "<pre>| 412     | 9m 24s       | 0.61946           | 0.584156                          |             |</pre>"
      ],
      "text/plain": [
       "| 412     | 9m 24s       | 0.61946           | 0.584156                          |             |"
      ]
     },
     "metadata": {},
     "output_type": "display_data"
    },
    {
     "data": {
      "text/html": [
       "<pre>| 413     | 9m 25s       | 0.619268          | 0.584003                          |             |</pre>"
      ],
      "text/plain": [
       "| 413     | 9m 25s       | 0.619268          | 0.584003                          |             |"
      ]
     },
     "metadata": {},
     "output_type": "display_data"
    },
    {
     "data": {
      "text/html": [
       "<pre>| 414     | 9m 27s       | 0.619085          | 0.583863                          |             |</pre>"
      ],
      "text/plain": [
       "| 414     | 9m 27s       | 0.619085          | 0.583863                          |             |"
      ]
     },
     "metadata": {},
     "output_type": "display_data"
    },
    {
     "data": {
      "text/html": [
       "<pre>| 415     | 9m 28s       | 0.618882          | 0.583705                          |             |</pre>"
      ],
      "text/plain": [
       "| 415     | 9m 28s       | 0.618882          | 0.583705                          |             |"
      ]
     },
     "metadata": {},
     "output_type": "display_data"
    },
    {
     "data": {
      "text/html": [
       "<pre>| 416     | 9m 29s       | 0.61869           | 0.583552                          |             |</pre>"
      ],
      "text/plain": [
       "| 416     | 9m 29s       | 0.61869           | 0.583552                          |             |"
      ]
     },
     "metadata": {},
     "output_type": "display_data"
    },
    {
     "data": {
      "text/html": [
       "<pre>| 417     | 9m 31s       | 0.618498          | 0.583399                          |             |</pre>"
      ],
      "text/plain": [
       "| 417     | 9m 31s       | 0.618498          | 0.583399                          |             |"
      ]
     },
     "metadata": {},
     "output_type": "display_data"
    },
    {
     "data": {
      "text/html": [
       "<pre>| 418     | 9m 32s       | 0.618323          | 0.583258                          |             |</pre>"
      ],
      "text/plain": [
       "| 418     | 9m 32s       | 0.618323          | 0.583258                          |             |"
      ]
     },
     "metadata": {},
     "output_type": "display_data"
    },
    {
     "data": {
      "text/html": [
       "<pre>| 419     | 9m 33s       | 0.618128          | 0.583102                          |             |</pre>"
      ],
      "text/plain": [
       "| 419     | 9m 33s       | 0.618128          | 0.583102                          |             |"
      ]
     },
     "metadata": {},
     "output_type": "display_data"
    },
    {
     "data": {
      "text/html": [
       "<pre>| 420     | 9m 34s       | 0.617941          | 0.582959                          |             |</pre>"
      ],
      "text/plain": [
       "| 420     | 9m 34s       | 0.617941          | 0.582959                          |             |"
      ]
     },
     "metadata": {},
     "output_type": "display_data"
    },
    {
     "data": {
      "text/html": [
       "<pre>| 421     | 9m 36s       | 0.617748          | 0.582803                          |             |</pre>"
      ],
      "text/plain": [
       "| 421     | 9m 36s       | 0.617748          | 0.582803                          |             |"
      ]
     },
     "metadata": {},
     "output_type": "display_data"
    },
    {
     "data": {
      "text/html": [
       "<pre>| 422     | 9m 37s       | 0.617557          | 0.582654                          |             |</pre>"
      ],
      "text/plain": [
       "| 422     | 9m 37s       | 0.617557          | 0.582654                          |             |"
      ]
     },
     "metadata": {},
     "output_type": "display_data"
    },
    {
     "data": {
      "text/html": [
       "<pre>| 423     | 9m 39s       | 0.617371          | 0.582505                          |             |</pre>"
      ],
      "text/plain": [
       "| 423     | 9m 39s       | 0.617371          | 0.582505                          |             |"
      ]
     },
     "metadata": {},
     "output_type": "display_data"
    },
    {
     "data": {
      "text/html": [
       "<pre>| 424     | 9m 40s       | 0.61719           | 0.582357                          |             |</pre>"
      ],
      "text/plain": [
       "| 424     | 9m 40s       | 0.61719           | 0.582357                          |             |"
      ]
     },
     "metadata": {},
     "output_type": "display_data"
    },
    {
     "data": {
      "text/html": [
       "<pre>| 425     | 9m 41s       | 0.617006          | 0.58221                           |             |</pre>"
      ],
      "text/plain": [
       "| 425     | 9m 41s       | 0.617006          | 0.58221                           |             |"
      ]
     },
     "metadata": {},
     "output_type": "display_data"
    },
    {
     "data": {
      "text/html": [
       "<pre>| 426     | 9m 43s       | 0.616812          | 0.582056                          |             |</pre>"
      ],
      "text/plain": [
       "| 426     | 9m 43s       | 0.616812          | 0.582056                          |             |"
      ]
     },
     "metadata": {},
     "output_type": "display_data"
    },
    {
     "data": {
      "text/html": [
       "<pre>| 427     | 9m 44s       | 0.616635          | 0.581914                          |             |</pre>"
      ],
      "text/plain": [
       "| 427     | 9m 44s       | 0.616635          | 0.581914                          |             |"
      ]
     },
     "metadata": {},
     "output_type": "display_data"
    },
    {
     "data": {
      "text/html": [
       "<pre>| 428     | 9m 45s       | 0.616436          | 0.581758                          |             |</pre>"
      ],
      "text/plain": [
       "| 428     | 9m 45s       | 0.616436          | 0.581758                          |             |"
      ]
     },
     "metadata": {},
     "output_type": "display_data"
    },
    {
     "data": {
      "text/html": [
       "<pre>| 429     | 9m 47s       | 0.616239          | 0.581604                          |             |</pre>"
      ],
      "text/plain": [
       "| 429     | 9m 47s       | 0.616239          | 0.581604                          |             |"
      ]
     },
     "metadata": {},
     "output_type": "display_data"
    },
    {
     "data": {
      "text/html": [
       "<pre>| 430     | 9m 48s       | 0.616055          | 0.58146                           |             |</pre>"
      ],
      "text/plain": [
       "| 430     | 9m 48s       | 0.616055          | 0.58146                           |             |"
      ]
     },
     "metadata": {},
     "output_type": "display_data"
    },
    {
     "data": {
      "text/html": [
       "<pre>| 431     | 9m 50s       | 0.615872          | 0.581308                          |             |</pre>"
      ],
      "text/plain": [
       "| 431     | 9m 50s       | 0.615872          | 0.581308                          |             |"
      ]
     },
     "metadata": {},
     "output_type": "display_data"
    },
    {
     "data": {
      "text/html": [
       "<pre>| 432     | 9m 51s       | 0.615684          | 0.581158                          |             |</pre>"
      ],
      "text/plain": [
       "| 432     | 9m 51s       | 0.615684          | 0.581158                          |             |"
      ]
     },
     "metadata": {},
     "output_type": "display_data"
    },
    {
     "data": {
      "text/html": [
       "<pre>| 433     | 9m 52s       | 0.615497          | 0.58101                           |             |</pre>"
      ],
      "text/plain": [
       "| 433     | 9m 52s       | 0.615497          | 0.58101                           |             |"
      ]
     },
     "metadata": {},
     "output_type": "display_data"
    },
    {
     "data": {
      "text/html": [
       "<pre>| 434     | 9m 54s       | 0.615298          | 0.580851                          |             |</pre>"
      ],
      "text/plain": [
       "| 434     | 9m 54s       | 0.615298          | 0.580851                          |             |"
      ]
     },
     "metadata": {},
     "output_type": "display_data"
    },
    {
     "data": {
      "text/html": [
       "<pre>| 435     | 9m 55s       | 0.615131          | 0.580715                          |             |</pre>"
      ],
      "text/plain": [
       "| 435     | 9m 55s       | 0.615131          | 0.580715                          |             |"
      ]
     },
     "metadata": {},
     "output_type": "display_data"
    },
    {
     "data": {
      "text/html": [
       "<pre>| 436     | 9m 56s       | 0.614946          | 0.58056                           |             |</pre>"
      ],
      "text/plain": [
       "| 436     | 9m 56s       | 0.614946          | 0.58056                           |             |"
      ]
     },
     "metadata": {},
     "output_type": "display_data"
    },
    {
     "data": {
      "text/html": [
       "<pre>| 437     | 9m 58s       | 0.614767          | 0.580416                          |             |</pre>"
      ],
      "text/plain": [
       "| 437     | 9m 58s       | 0.614767          | 0.580416                          |             |"
      ]
     },
     "metadata": {},
     "output_type": "display_data"
    },
    {
     "data": {
      "text/html": [
       "<pre>| 438     | 9m 59s       | 0.614584          | 0.580274                          |             |</pre>"
      ],
      "text/plain": [
       "| 438     | 9m 59s       | 0.614584          | 0.580274                          |             |"
      ]
     },
     "metadata": {},
     "output_type": "display_data"
    },
    {
     "data": {
      "text/html": [
       "<pre>| 439     | 10m 0s       | 0.614389          | 0.580114                          |             |</pre>"
      ],
      "text/plain": [
       "| 439     | 10m 0s       | 0.614389          | 0.580114                          |             |"
      ]
     },
     "metadata": {},
     "output_type": "display_data"
    },
    {
     "data": {
      "text/html": [
       "<pre>| 440     | 10m 2s       | 0.614206          | 0.579969                          |             |</pre>"
      ],
      "text/plain": [
       "| 440     | 10m 2s       | 0.614206          | 0.579969                          |             |"
      ]
     },
     "metadata": {},
     "output_type": "display_data"
    },
    {
     "data": {
      "text/html": [
       "<pre>| 441     | 10m 3s       | 0.614015          | 0.57982                           |             |</pre>"
      ],
      "text/plain": [
       "| 441     | 10m 3s       | 0.614015          | 0.57982                           |             |"
      ]
     },
     "metadata": {},
     "output_type": "display_data"
    },
    {
     "data": {
      "text/html": [
       "<pre>| 442     | 10m 4s       | 0.613825          | 0.579671                          |             |</pre>"
      ],
      "text/plain": [
       "| 442     | 10m 4s       | 0.613825          | 0.579671                          |             |"
      ]
     },
     "metadata": {},
     "output_type": "display_data"
    },
    {
     "data": {
      "text/html": [
       "<pre>| 443     | 10m 6s       | 0.613647          | 0.579525                          |             |</pre>"
      ],
      "text/plain": [
       "| 443     | 10m 6s       | 0.613647          | 0.579525                          |             |"
      ]
     },
     "metadata": {},
     "output_type": "display_data"
    },
    {
     "data": {
      "text/html": [
       "<pre>| 444     | 10m 7s       | 0.613465          | 0.579376                          |             |</pre>"
      ],
      "text/plain": [
       "| 444     | 10m 7s       | 0.613465          | 0.579376                          |             |"
      ]
     },
     "metadata": {},
     "output_type": "display_data"
    },
    {
     "data": {
      "text/html": [
       "<pre>| 445     | 10m 9s       | 0.613285          | 0.57923                           |             |</pre>"
      ],
      "text/plain": [
       "| 445     | 10m 9s       | 0.613285          | 0.57923                           |             |"
      ]
     },
     "metadata": {},
     "output_type": "display_data"
    },
    {
     "data": {
      "text/html": [
       "<pre>| 446     | 10m 10s      | 0.613104          | 0.57909                           |             |</pre>"
      ],
      "text/plain": [
       "| 446     | 10m 10s      | 0.613104          | 0.57909                           |             |"
      ]
     },
     "metadata": {},
     "output_type": "display_data"
    },
    {
     "data": {
      "text/html": [
       "<pre>| 447     | 10m 11s      | 0.612901          | 0.578924                          |             |</pre>"
      ],
      "text/plain": [
       "| 447     | 10m 11s      | 0.612901          | 0.578924                          |             |"
      ]
     },
     "metadata": {},
     "output_type": "display_data"
    },
    {
     "data": {
      "text/html": [
       "<pre>| 448     | 10m 12s      | 0.612719          | 0.578778                          |             |</pre>"
      ],
      "text/plain": [
       "| 448     | 10m 12s      | 0.612719          | 0.578778                          |             |"
      ]
     },
     "metadata": {},
     "output_type": "display_data"
    },
    {
     "data": {
      "text/html": [
       "<pre>| 449     | 10m 14s      | 0.612549          | 0.578642                          |             |</pre>"
      ],
      "text/plain": [
       "| 449     | 10m 14s      | 0.612549          | 0.578642                          |             |"
      ]
     },
     "metadata": {},
     "output_type": "display_data"
    },
    {
     "data": {
      "text/html": [
       "<pre>| 450     | 10m 15s      | 0.612359          | 0.578486                          |             |</pre>"
      ],
      "text/plain": [
       "| 450     | 10m 15s      | 0.612359          | 0.578486                          |             |"
      ]
     },
     "metadata": {},
     "output_type": "display_data"
    },
    {
     "data": {
      "text/html": [
       "<pre>| 451     | 10m 16s      | 0.612178          | 0.578342                          |             |</pre>"
      ],
      "text/plain": [
       "| 451     | 10m 16s      | 0.612178          | 0.578342                          |             |"
      ]
     },
     "metadata": {},
     "output_type": "display_data"
    },
    {
     "data": {
      "text/html": [
       "<pre>| 452     | 10m 18s      | 0.61199           | 0.578189                          |             |</pre>"
      ],
      "text/plain": [
       "| 452     | 10m 18s      | 0.61199           | 0.578189                          |             |"
      ]
     },
     "metadata": {},
     "output_type": "display_data"
    },
    {
     "data": {
      "text/html": [
       "<pre>| 453     | 10m 19s      | 0.611815          | 0.578049                          |             |</pre>"
      ],
      "text/plain": [
       "| 453     | 10m 19s      | 0.611815          | 0.578049                          |             |"
      ]
     },
     "metadata": {},
     "output_type": "display_data"
    },
    {
     "data": {
      "text/html": [
       "<pre>| 454     | 10m 20s      | 0.611634          | 0.577898                          |             |</pre>"
      ],
      "text/plain": [
       "| 454     | 10m 20s      | 0.611634          | 0.577898                          |             |"
      ]
     },
     "metadata": {},
     "output_type": "display_data"
    },
    {
     "data": {
      "text/html": [
       "<pre>| 455     | 10m 22s      | 0.611454          | 0.577749                          |             |</pre>"
      ],
      "text/plain": [
       "| 455     | 10m 22s      | 0.611454          | 0.577749                          |             |"
      ]
     },
     "metadata": {},
     "output_type": "display_data"
    },
    {
     "data": {
      "text/html": [
       "<pre>| 456     | 10m 23s      | 0.611269          | 0.577599                          |             |</pre>"
      ],
      "text/plain": [
       "| 456     | 10m 23s      | 0.611269          | 0.577599                          |             |"
      ]
     },
     "metadata": {},
     "output_type": "display_data"
    },
    {
     "data": {
      "text/html": [
       "<pre>| 457     | 10m 24s      | 0.61109           | 0.577457                          |             |</pre>"
      ],
      "text/plain": [
       "| 457     | 10m 24s      | 0.61109           | 0.577457                          |             |"
      ]
     },
     "metadata": {},
     "output_type": "display_data"
    },
    {
     "data": {
      "text/html": [
       "<pre>| 458     | 10m 26s      | 0.610911          | 0.57731                           |             |</pre>"
      ],
      "text/plain": [
       "| 458     | 10m 26s      | 0.610911          | 0.57731                           |             |"
      ]
     },
     "metadata": {},
     "output_type": "display_data"
    },
    {
     "data": {
      "text/html": [
       "<pre>| 459     | 10m 27s      | 0.610724          | 0.57716                           |             |</pre>"
      ],
      "text/plain": [
       "| 459     | 10m 27s      | 0.610724          | 0.57716                           |             |"
      ]
     },
     "metadata": {},
     "output_type": "display_data"
    },
    {
     "data": {
      "text/html": [
       "<pre>| 460     | 10m 28s      | 0.610546          | 0.577011                          |             |</pre>"
      ],
      "text/plain": [
       "| 460     | 10m 28s      | 0.610546          | 0.577011                          |             |"
      ]
     },
     "metadata": {},
     "output_type": "display_data"
    },
    {
     "data": {
      "text/html": [
       "<pre>| 461     | 10m 30s      | 0.610361          | 0.576858                          |             |</pre>"
      ],
      "text/plain": [
       "| 461     | 10m 30s      | 0.610361          | 0.576858                          |             |"
      ]
     },
     "metadata": {},
     "output_type": "display_data"
    },
    {
     "data": {
      "text/html": [
       "<pre>| 462     | 10m 31s      | 0.610196          | 0.576727                          |             |</pre>"
      ],
      "text/plain": [
       "| 462     | 10m 31s      | 0.610196          | 0.576727                          |             |"
      ]
     },
     "metadata": {},
     "output_type": "display_data"
    },
    {
     "data": {
      "text/html": [
       "<pre>| 463     | 10m 32s      | 0.610013          | 0.576573                          |             |</pre>"
      ],
      "text/plain": [
       "| 463     | 10m 32s      | 0.610013          | 0.576573                          |             |"
      ]
     },
     "metadata": {},
     "output_type": "display_data"
    },
    {
     "data": {
      "text/html": [
       "<pre>| 464     | 10m 34s      | 0.609828          | 0.57642                           |             |</pre>"
      ],
      "text/plain": [
       "| 464     | 10m 34s      | 0.609828          | 0.57642                           |             |"
      ]
     },
     "metadata": {},
     "output_type": "display_data"
    },
    {
     "data": {
      "text/html": [
       "<pre>| 465     | 10m 35s      | 0.609648          | 0.576274                          |             |</pre>"
      ],
      "text/plain": [
       "| 465     | 10m 35s      | 0.609648          | 0.576274                          |             |"
      ]
     },
     "metadata": {},
     "output_type": "display_data"
    },
    {
     "data": {
      "text/html": [
       "<pre>| 466     | 10m 36s      | 0.609482          | 0.576138                          |             |</pre>"
      ],
      "text/plain": [
       "| 466     | 10m 36s      | 0.609482          | 0.576138                          |             |"
      ]
     },
     "metadata": {},
     "output_type": "display_data"
    },
    {
     "data": {
      "text/html": [
       "<pre>| 467     | 10m 37s      | 0.609289          | 0.575981                          |             |</pre>"
      ],
      "text/plain": [
       "| 467     | 10m 37s      | 0.609289          | 0.575981                          |             |"
      ]
     },
     "metadata": {},
     "output_type": "display_data"
    },
    {
     "data": {
      "text/html": [
       "<pre>| 468     | 10m 39s      | 0.609123          | 0.575846                          |             |</pre>"
      ],
      "text/plain": [
       "| 468     | 10m 39s      | 0.609123          | 0.575846                          |             |"
      ]
     },
     "metadata": {},
     "output_type": "display_data"
    },
    {
     "data": {
      "text/html": [
       "<pre>| 469     | 10m 40s      | 0.608942          | 0.575693                          |             |</pre>"
      ],
      "text/plain": [
       "| 469     | 10m 40s      | 0.608942          | 0.575693                          |             |"
      ]
     },
     "metadata": {},
     "output_type": "display_data"
    },
    {
     "data": {
      "text/html": [
       "<pre>| 470     | 10m 41s      | 0.608772          | 0.575552                          |             |</pre>"
      ],
      "text/plain": [
       "| 470     | 10m 41s      | 0.608772          | 0.575552                          |             |"
      ]
     },
     "metadata": {},
     "output_type": "display_data"
    },
    {
     "data": {
      "text/html": [
       "<pre>| 471     | 10m 43s      | 0.608587          | 0.575398                          |             |</pre>"
      ],
      "text/plain": [
       "| 471     | 10m 43s      | 0.608587          | 0.575398                          |             |"
      ]
     },
     "metadata": {},
     "output_type": "display_data"
    },
    {
     "data": {
      "text/html": [
       "<pre>| 472     | 10m 44s      | 0.608406          | 0.575251                          |             |</pre>"
      ],
      "text/plain": [
       "| 472     | 10m 44s      | 0.608406          | 0.575251                          |             |"
      ]
     },
     "metadata": {},
     "output_type": "display_data"
    },
    {
     "data": {
      "text/html": [
       "<pre>| 473     | 10m 45s      | 0.608234          | 0.57511                           |             |</pre>"
      ],
      "text/plain": [
       "| 473     | 10m 45s      | 0.608234          | 0.57511                           |             |"
      ]
     },
     "metadata": {},
     "output_type": "display_data"
    },
    {
     "data": {
      "text/html": [
       "<pre>| 474     | 10m 47s      | 0.608065          | 0.574968                          |             |</pre>"
      ],
      "text/plain": [
       "| 474     | 10m 47s      | 0.608065          | 0.574968                          |             |"
      ]
     },
     "metadata": {},
     "output_type": "display_data"
    },
    {
     "data": {
      "text/html": [
       "<pre>| 475     | 10m 48s      | 0.607885          | 0.574818                          |             |</pre>"
      ],
      "text/plain": [
       "| 475     | 10m 48s      | 0.607885          | 0.574818                          |             |"
      ]
     },
     "metadata": {},
     "output_type": "display_data"
    },
    {
     "data": {
      "text/html": [
       "<pre>| 476     | 10m 49s      | 0.607703          | 0.57467                           |             |</pre>"
      ],
      "text/plain": [
       "| 476     | 10m 49s      | 0.607703          | 0.57467                           |             |"
      ]
     },
     "metadata": {},
     "output_type": "display_data"
    },
    {
     "data": {
      "text/html": [
       "<pre>| 477     | 10m 51s      | 0.607533          | 0.574533                          |             |</pre>"
      ],
      "text/plain": [
       "| 477     | 10m 51s      | 0.607533          | 0.574533                          |             |"
      ]
     },
     "metadata": {},
     "output_type": "display_data"
    },
    {
     "data": {
      "text/html": [
       "<pre>| 478     | 10m 52s      | 0.607354          | 0.574384                          |             |</pre>"
      ],
      "text/plain": [
       "| 478     | 10m 52s      | 0.607354          | 0.574384                          |             |"
      ]
     },
     "metadata": {},
     "output_type": "display_data"
    },
    {
     "data": {
      "text/html": [
       "<pre>| 479     | 10m 54s      | 0.607172          | 0.574233                          |             |</pre>"
      ],
      "text/plain": [
       "| 479     | 10m 54s      | 0.607172          | 0.574233                          |             |"
      ]
     },
     "metadata": {},
     "output_type": "display_data"
    },
    {
     "data": {
      "text/html": [
       "<pre>| 480     | 10m 55s      | 0.606999          | 0.574093                          |             |</pre>"
      ],
      "text/plain": [
       "| 480     | 10m 55s      | 0.606999          | 0.574093                          |             |"
      ]
     },
     "metadata": {},
     "output_type": "display_data"
    },
    {
     "data": {
      "text/html": [
       "<pre>| 481     | 10m 56s      | 0.606823          | 0.573947                          |             |</pre>"
      ],
      "text/plain": [
       "| 481     | 10m 56s      | 0.606823          | 0.573947                          |             |"
      ]
     },
     "metadata": {},
     "output_type": "display_data"
    },
    {
     "data": {
      "text/html": [
       "<pre>| 482     | 10m 58s      | 0.60665           | 0.5738                            |             |</pre>"
      ],
      "text/plain": [
       "| 482     | 10m 58s      | 0.60665           | 0.5738                            |             |"
      ]
     },
     "metadata": {},
     "output_type": "display_data"
    },
    {
     "data": {
      "text/html": [
       "<pre>| 483     | 10m 59s      | 0.606477          | 0.573656                          |             |</pre>"
      ],
      "text/plain": [
       "| 483     | 10m 59s      | 0.606477          | 0.573656                          |             |"
      ]
     },
     "metadata": {},
     "output_type": "display_data"
    },
    {
     "data": {
      "text/html": [
       "<pre>| 484     | 11m 0s       | 0.606302          | 0.573507                          |             |</pre>"
      ],
      "text/plain": [
       "| 484     | 11m 0s       | 0.606302          | 0.573507                          |             |"
      ]
     },
     "metadata": {},
     "output_type": "display_data"
    },
    {
     "data": {
      "text/html": [
       "<pre>| 485     | 11m 2s       | 0.606129          | 0.573365                          |             |</pre>"
      ],
      "text/plain": [
       "| 485     | 11m 2s       | 0.606129          | 0.573365                          |             |"
      ]
     },
     "metadata": {},
     "output_type": "display_data"
    },
    {
     "data": {
      "text/html": [
       "<pre>| 486     | 11m 3s       | 0.605959          | 0.573225                          |             |</pre>"
      ],
      "text/plain": [
       "| 486     | 11m 3s       | 0.605959          | 0.573225                          |             |"
      ]
     },
     "metadata": {},
     "output_type": "display_data"
    },
    {
     "data": {
      "text/html": [
       "<pre>| 487     | 11m 4s       | 0.605786          | 0.573081                          |             |</pre>"
      ],
      "text/plain": [
       "| 487     | 11m 4s       | 0.605786          | 0.573081                          |             |"
      ]
     },
     "metadata": {},
     "output_type": "display_data"
    },
    {
     "data": {
      "text/html": [
       "<pre>| 488     | 11m 6s       | 0.605606          | 0.572932                          |             |</pre>"
      ],
      "text/plain": [
       "| 488     | 11m 6s       | 0.605606          | 0.572932                          |             |"
      ]
     },
     "metadata": {},
     "output_type": "display_data"
    },
    {
     "data": {
      "text/html": [
       "<pre>| 489     | 11m 7s       | 0.60543           | 0.572785                          |             |</pre>"
      ],
      "text/plain": [
       "| 489     | 11m 7s       | 0.60543           | 0.572785                          |             |"
      ]
     },
     "metadata": {},
     "output_type": "display_data"
    },
    {
     "data": {
      "text/html": [
       "<pre>| 490     | 11m 8s       | 0.605253          | 0.572636                          |             |</pre>"
      ],
      "text/plain": [
       "| 490     | 11m 8s       | 0.605253          | 0.572636                          |             |"
      ]
     },
     "metadata": {},
     "output_type": "display_data"
    },
    {
     "data": {
      "text/html": [
       "<pre>| 491     | 11m 10s      | 0.605079          | 0.572493                          |             |</pre>"
      ],
      "text/plain": [
       "| 491     | 11m 10s      | 0.605079          | 0.572493                          |             |"
      ]
     },
     "metadata": {},
     "output_type": "display_data"
    },
    {
     "data": {
      "text/html": [
       "<pre>| 492     | 11m 11s      | 0.604911          | 0.572351                          |             |</pre>"
      ],
      "text/plain": [
       "| 492     | 11m 11s      | 0.604911          | 0.572351                          |             |"
      ]
     },
     "metadata": {},
     "output_type": "display_data"
    },
    {
     "data": {
      "text/html": [
       "<pre>| 493     | 11m 12s      | 0.604736          | 0.572208                          |             |</pre>"
      ],
      "text/plain": [
       "| 493     | 11m 12s      | 0.604736          | 0.572208                          |             |"
      ]
     },
     "metadata": {},
     "output_type": "display_data"
    },
    {
     "data": {
      "text/html": [
       "<pre>| 494     | 11m 14s      | 0.604564          | 0.572057                          |             |</pre>"
      ],
      "text/plain": [
       "| 494     | 11m 14s      | 0.604564          | 0.572057                          |             |"
      ]
     },
     "metadata": {},
     "output_type": "display_data"
    },
    {
     "data": {
      "text/html": [
       "<pre>| 495     | 11m 15s      | 0.604398          | 0.571915                          |             |</pre>"
      ],
      "text/plain": [
       "| 495     | 11m 15s      | 0.604398          | 0.571915                          |             |"
      ]
     },
     "metadata": {},
     "output_type": "display_data"
    },
    {
     "data": {
      "text/html": [
       "<pre>| 496     | 11m 17s      | 0.60423           | 0.571773                          |             |</pre>"
      ],
      "text/plain": [
       "| 496     | 11m 17s      | 0.60423           | 0.571773                          |             |"
      ]
     },
     "metadata": {},
     "output_type": "display_data"
    },
    {
     "data": {
      "text/html": [
       "<pre>| 497     | 11m 18s      | 0.604057          | 0.571628                          |             |</pre>"
      ],
      "text/plain": [
       "| 497     | 11m 18s      | 0.604057          | 0.571628                          |             |"
      ]
     },
     "metadata": {},
     "output_type": "display_data"
    },
    {
     "data": {
      "text/html": [
       "<pre>| 498     | 11m 19s      | 0.603885          | 0.571487                          |             |</pre>"
      ],
      "text/plain": [
       "| 498     | 11m 19s      | 0.603885          | 0.571487                          |             |"
      ]
     },
     "metadata": {},
     "output_type": "display_data"
    },
    {
     "data": {
      "text/html": [
       "<pre>| 499     | 11m 21s      | 0.60371           | 0.57134                           |             |</pre>"
      ],
      "text/plain": [
       "| 499     | 11m 21s      | 0.60371           | 0.57134                           |             |"
      ]
     },
     "metadata": {},
     "output_type": "display_data"
    },
    {
     "data": {
      "text/html": [
       "<pre>| 500     | 11m 22s      | 0.603547          | 0.571202                          |             |</pre>"
      ],
      "text/plain": [
       "| 500     | 11m 22s      | 0.603547          | 0.571202                          |             |"
      ]
     },
     "metadata": {},
     "output_type": "display_data"
    },
    {
     "data": {
      "text/html": [
       "<pre>| 501     | 11m 23s      | 0.603366          | 0.571047                          |             |</pre>"
      ],
      "text/plain": [
       "| 501     | 11m 23s      | 0.603366          | 0.571047                          |             |"
      ]
     },
     "metadata": {},
     "output_type": "display_data"
    },
    {
     "data": {
      "text/html": [
       "<pre>| 502     | 11m 25s      | 0.603202          | 0.570908                          |             |</pre>"
      ],
      "text/plain": [
       "| 502     | 11m 25s      | 0.603202          | 0.570908                          |             |"
      ]
     },
     "metadata": {},
     "output_type": "display_data"
    },
    {
     "data": {
      "text/html": [
       "<pre>| 503     | 11m 26s      | 0.603034          | 0.570763                          |             |</pre>"
      ],
      "text/plain": [
       "| 503     | 11m 26s      | 0.603034          | 0.570763                          |             |"
      ]
     },
     "metadata": {},
     "output_type": "display_data"
    },
    {
     "data": {
      "text/html": [
       "<pre>| 504     | 11m 27s      | 0.602869          | 0.570623                          |             |</pre>"
      ],
      "text/plain": [
       "| 504     | 11m 27s      | 0.602869          | 0.570623                          |             |"
      ]
     },
     "metadata": {},
     "output_type": "display_data"
    },
    {
     "data": {
      "text/html": [
       "<pre>| 505     | 11m 29s      | 0.602693          | 0.570475                          |             |</pre>"
      ],
      "text/plain": [
       "| 505     | 11m 29s      | 0.602693          | 0.570475                          |             |"
      ]
     },
     "metadata": {},
     "output_type": "display_data"
    },
    {
     "data": {
      "text/html": [
       "<pre>| 506     | 11m 30s      | 0.602524          | 0.570329                          |             |</pre>"
      ],
      "text/plain": [
       "| 506     | 11m 30s      | 0.602524          | 0.570329                          |             |"
      ]
     },
     "metadata": {},
     "output_type": "display_data"
    },
    {
     "data": {
      "text/html": [
       "<pre>| 507     | 11m 31s      | 0.602353          | 0.570184                          |             |</pre>"
      ],
      "text/plain": [
       "| 507     | 11m 31s      | 0.602353          | 0.570184                          |             |"
      ]
     },
     "metadata": {},
     "output_type": "display_data"
    },
    {
     "data": {
      "text/html": [
       "<pre>| 508     | 11m 33s      | 0.602184          | 0.57004                           |             |</pre>"
      ],
      "text/plain": [
       "| 508     | 11m 33s      | 0.602184          | 0.57004                           |             |"
      ]
     },
     "metadata": {},
     "output_type": "display_data"
    },
    {
     "data": {
      "text/html": [
       "<pre>| 509     | 11m 34s      | 0.602011          | 0.569896                          |             |</pre>"
      ],
      "text/plain": [
       "| 509     | 11m 34s      | 0.602011          | 0.569896                          |             |"
      ]
     },
     "metadata": {},
     "output_type": "display_data"
    },
    {
     "data": {
      "text/html": [
       "<pre>| 510     | 11m 35s      | 0.601837          | 0.569748                          |             |</pre>"
      ],
      "text/plain": [
       "| 510     | 11m 35s      | 0.601837          | 0.569748                          |             |"
      ]
     },
     "metadata": {},
     "output_type": "display_data"
    },
    {
     "data": {
      "text/html": [
       "<pre>| 511     | 11m 37s      | 0.60167           | 0.569608                          |             |</pre>"
      ],
      "text/plain": [
       "| 511     | 11m 37s      | 0.60167           | 0.569608                          |             |"
      ]
     },
     "metadata": {},
     "output_type": "display_data"
    },
    {
     "data": {
      "text/html": [
       "<pre>| 512     | 11m 38s      | 0.60151           | 0.56947                           |             |</pre>"
      ],
      "text/plain": [
       "| 512     | 11m 38s      | 0.60151           | 0.56947                           |             |"
      ]
     },
     "metadata": {},
     "output_type": "display_data"
    },
    {
     "data": {
      "text/html": [
       "<pre>| 513     | 11m 39s      | 0.60133           | 0.569315                          |             |</pre>"
      ],
      "text/plain": [
       "| 513     | 11m 39s      | 0.60133           | 0.569315                          |             |"
      ]
     },
     "metadata": {},
     "output_type": "display_data"
    },
    {
     "data": {
      "text/html": [
       "<pre>| 514     | 11m 41s      | 0.601164          | 0.569174                          |             |</pre>"
      ],
      "text/plain": [
       "| 514     | 11m 41s      | 0.601164          | 0.569174                          |             |"
      ]
     },
     "metadata": {},
     "output_type": "display_data"
    },
    {
     "data": {
      "text/html": [
       "<pre>| 515     | 11m 42s      | 0.600997          | 0.56903                           |             |</pre>"
      ],
      "text/plain": [
       "| 515     | 11m 42s      | 0.600997          | 0.56903                           |             |"
      ]
     },
     "metadata": {},
     "output_type": "display_data"
    },
    {
     "data": {
      "text/html": [
       "<pre>| 516     | 11m 43s      | 0.60082           | 0.568877                          |             |</pre>"
      ],
      "text/plain": [
       "| 516     | 11m 43s      | 0.60082           | 0.568877                          |             |"
      ]
     },
     "metadata": {},
     "output_type": "display_data"
    },
    {
     "data": {
      "text/html": [
       "<pre>| 517     | 11m 44s      | 0.600664          | 0.568742                          |             |</pre>"
      ],
      "text/plain": [
       "| 517     | 11m 44s      | 0.600664          | 0.568742                          |             |"
      ]
     },
     "metadata": {},
     "output_type": "display_data"
    },
    {
     "data": {
      "text/html": [
       "<pre>| 518     | 11m 46s      | 0.600493          | 0.568596                          |             |</pre>"
      ],
      "text/plain": [
       "| 518     | 11m 46s      | 0.600493          | 0.568596                          |             |"
      ]
     },
     "metadata": {},
     "output_type": "display_data"
    },
    {
     "data": {
      "text/html": [
       "<pre>| 519     | 11m 47s      | 0.600324          | 0.568451                          |             |</pre>"
      ],
      "text/plain": [
       "| 519     | 11m 47s      | 0.600324          | 0.568451                          |             |"
      ]
     },
     "metadata": {},
     "output_type": "display_data"
    },
    {
     "data": {
      "text/html": [
       "<pre>| 520     | 11m 48s      | 0.600151          | 0.56831                           |             |</pre>"
      ],
      "text/plain": [
       "| 520     | 11m 48s      | 0.600151          | 0.56831                           |             |"
      ]
     },
     "metadata": {},
     "output_type": "display_data"
    },
    {
     "data": {
      "text/html": [
       "<pre>| 521     | 11m 50s      | 0.599984          | 0.568168                          |             |</pre>"
      ],
      "text/plain": [
       "| 521     | 11m 50s      | 0.599984          | 0.568168                          |             |"
      ]
     },
     "metadata": {},
     "output_type": "display_data"
    },
    {
     "data": {
      "text/html": [
       "<pre>| 522     | 11m 51s      | 0.599819          | 0.568025                          |             |</pre>"
      ],
      "text/plain": [
       "| 522     | 11m 51s      | 0.599819          | 0.568025                          |             |"
      ]
     },
     "metadata": {},
     "output_type": "display_data"
    },
    {
     "data": {
      "text/html": [
       "<pre>| 523     | 11m 52s      | 0.599658          | 0.567889                          |             |</pre>"
      ],
      "text/plain": [
       "| 523     | 11m 52s      | 0.599658          | 0.567889                          |             |"
      ]
     },
     "metadata": {},
     "output_type": "display_data"
    },
    {
     "data": {
      "text/html": [
       "<pre>| 524     | 11m 54s      | 0.599484          | 0.567738                          |             |</pre>"
      ],
      "text/plain": [
       "| 524     | 11m 54s      | 0.599484          | 0.567738                          |             |"
      ]
     },
     "metadata": {},
     "output_type": "display_data"
    },
    {
     "data": {
      "text/html": [
       "<pre>| 525     | 11m 55s      | 0.599322          | 0.567601                          |             |</pre>"
      ],
      "text/plain": [
       "| 525     | 11m 55s      | 0.599322          | 0.567601                          |             |"
      ]
     },
     "metadata": {},
     "output_type": "display_data"
    },
    {
     "data": {
      "text/html": [
       "<pre>| 526     | 11m 56s      | 0.599153          | 0.56745                           |             |</pre>"
      ],
      "text/plain": [
       "| 526     | 11m 56s      | 0.599153          | 0.56745                           |             |"
      ]
     },
     "metadata": {},
     "output_type": "display_data"
    },
    {
     "data": {
      "text/html": [
       "<pre>| 527     | 11m 58s      | 0.598991          | 0.567309                          |             |</pre>"
      ],
      "text/plain": [
       "| 527     | 11m 58s      | 0.598991          | 0.567309                          |             |"
      ]
     },
     "metadata": {},
     "output_type": "display_data"
    },
    {
     "data": {
      "text/html": [
       "<pre>| 528     | 11m 59s      | 0.598822          | 0.567166                          |             |</pre>"
      ],
      "text/plain": [
       "| 528     | 11m 59s      | 0.598822          | 0.567166                          |             |"
      ]
     },
     "metadata": {},
     "output_type": "display_data"
    },
    {
     "data": {
      "text/html": [
       "<pre>| 529     | 12m 1s       | 0.598659          | 0.567024                          |             |</pre>"
      ],
      "text/plain": [
       "| 529     | 12m 1s       | 0.598659          | 0.567024                          |             |"
      ]
     },
     "metadata": {},
     "output_type": "display_data"
    },
    {
     "data": {
      "text/html": [
       "<pre>| 530     | 12m 2s       | 0.598501          | 0.566887                          |             |</pre>"
      ],
      "text/plain": [
       "| 530     | 12m 2s       | 0.598501          | 0.566887                          |             |"
      ]
     },
     "metadata": {},
     "output_type": "display_data"
    },
    {
     "data": {
      "text/html": [
       "<pre>| 531     | 12m 3s       | 0.598325          | 0.566736                          |             |</pre>"
      ],
      "text/plain": [
       "| 531     | 12m 3s       | 0.598325          | 0.566736                          |             |"
      ]
     },
     "metadata": {},
     "output_type": "display_data"
    },
    {
     "data": {
      "text/html": [
       "<pre>| 532     | 12m 5s       | 0.598159          | 0.566595                          |             |</pre>"
      ],
      "text/plain": [
       "| 532     | 12m 5s       | 0.598159          | 0.566595                          |             |"
      ]
     },
     "metadata": {},
     "output_type": "display_data"
    },
    {
     "data": {
      "text/html": [
       "<pre>| 533     | 12m 6s       | 0.597989          | 0.566451                          |             |</pre>"
      ],
      "text/plain": [
       "| 533     | 12m 6s       | 0.597989          | 0.566451                          |             |"
      ]
     },
     "metadata": {},
     "output_type": "display_data"
    },
    {
     "data": {
      "text/html": [
       "<pre>| 534     | 12m 7s       | 0.597827          | 0.56631                           |             |</pre>"
      ],
      "text/plain": [
       "| 534     | 12m 7s       | 0.597827          | 0.56631                           |             |"
      ]
     },
     "metadata": {},
     "output_type": "display_data"
    },
    {
     "data": {
      "text/html": [
       "<pre>| 535     | 12m 9s       | 0.597666          | 0.566169                          |             |</pre>"
      ],
      "text/plain": [
       "| 535     | 12m 9s       | 0.597666          | 0.566169                          |             |"
      ]
     },
     "metadata": {},
     "output_type": "display_data"
    },
    {
     "data": {
      "text/html": [
       "<pre>| 536     | 12m 10s      | 0.597505          | 0.566032                          |             |</pre>"
      ],
      "text/plain": [
       "| 536     | 12m 10s      | 0.597505          | 0.566032                          |             |"
      ]
     },
     "metadata": {},
     "output_type": "display_data"
    },
    {
     "data": {
      "text/html": [
       "<pre>| 537     | 12m 11s      | 0.597335          | 0.565885                          |             |</pre>"
      ],
      "text/plain": [
       "| 537     | 12m 11s      | 0.597335          | 0.565885                          |             |"
      ]
     },
     "metadata": {},
     "output_type": "display_data"
    },
    {
     "data": {
      "text/html": [
       "<pre>| 538     | 12m 13s      | 0.59717           | 0.565743                          |             |</pre>"
      ],
      "text/plain": [
       "| 538     | 12m 13s      | 0.59717           | 0.565743                          |             |"
      ]
     },
     "metadata": {},
     "output_type": "display_data"
    },
    {
     "data": {
      "text/html": [
       "<pre>| 539     | 12m 14s      | 0.597012          | 0.565605                          |             |</pre>"
      ],
      "text/plain": [
       "| 539     | 12m 14s      | 0.597012          | 0.565605                          |             |"
      ]
     },
     "metadata": {},
     "output_type": "display_data"
    },
    {
     "data": {
      "text/html": [
       "<pre>| 540     | 12m 15s      | 0.596845          | 0.565464                          |             |</pre>"
      ],
      "text/plain": [
       "| 540     | 12m 15s      | 0.596845          | 0.565464                          |             |"
      ]
     },
     "metadata": {},
     "output_type": "display_data"
    },
    {
     "data": {
      "text/html": [
       "<pre>| 541     | 12m 17s      | 0.596681          | 0.565324                          |             |</pre>"
      ],
      "text/plain": [
       "| 541     | 12m 17s      | 0.596681          | 0.565324                          |             |"
      ]
     },
     "metadata": {},
     "output_type": "display_data"
    },
    {
     "data": {
      "text/html": [
       "<pre>| 542     | 12m 18s      | 0.596515          | 0.565181                          |             |</pre>"
      ],
      "text/plain": [
       "| 542     | 12m 18s      | 0.596515          | 0.565181                          |             |"
      ]
     },
     "metadata": {},
     "output_type": "display_data"
    },
    {
     "data": {
      "text/html": [
       "<pre>| 543     | 12m 20s      | 0.596358          | 0.565044                          |             |</pre>"
      ],
      "text/plain": [
       "| 543     | 12m 20s      | 0.596358          | 0.565044                          |             |"
      ]
     },
     "metadata": {},
     "output_type": "display_data"
    },
    {
     "data": {
      "text/html": [
       "<pre>| 544     | 12m 21s      | 0.596188          | 0.564897                          |             |</pre>"
      ],
      "text/plain": [
       "| 544     | 12m 21s      | 0.596188          | 0.564897                          |             |"
      ]
     },
     "metadata": {},
     "output_type": "display_data"
    },
    {
     "data": {
      "text/html": [
       "<pre>| 545     | 12m 22s      | 0.596018          | 0.564752                          |             |</pre>"
      ],
      "text/plain": [
       "| 545     | 12m 22s      | 0.596018          | 0.564752                          |             |"
      ]
     },
     "metadata": {},
     "output_type": "display_data"
    },
    {
     "data": {
      "text/html": [
       "<pre>| 546     | 12m 24s      | 0.595864          | 0.564618                          |             |</pre>"
      ],
      "text/plain": [
       "| 546     | 12m 24s      | 0.595864          | 0.564618                          |             |"
      ]
     },
     "metadata": {},
     "output_type": "display_data"
    },
    {
     "data": {
      "text/html": [
       "<pre>| 547     | 12m 25s      | 0.595702          | 0.564481                          |             |</pre>"
      ],
      "text/plain": [
       "| 547     | 12m 25s      | 0.595702          | 0.564481                          |             |"
      ]
     },
     "metadata": {},
     "output_type": "display_data"
    },
    {
     "data": {
      "text/html": [
       "<pre>| 548     | 12m 26s      | 0.595539          | 0.564337                          |             |</pre>"
      ],
      "text/plain": [
       "| 548     | 12m 26s      | 0.595539          | 0.564337                          |             |"
      ]
     },
     "metadata": {},
     "output_type": "display_data"
    },
    {
     "data": {
      "text/html": [
       "<pre>| 549     | 12m 28s      | 0.595372          | 0.564193                          |             |</pre>"
      ],
      "text/plain": [
       "| 549     | 12m 28s      | 0.595372          | 0.564193                          |             |"
      ]
     },
     "metadata": {},
     "output_type": "display_data"
    },
    {
     "data": {
      "text/html": [
       "<pre>| 550     | 12m 29s      | 0.595216          | 0.564055                          |             |</pre>"
      ],
      "text/plain": [
       "| 550     | 12m 29s      | 0.595216          | 0.564055                          |             |"
      ]
     },
     "metadata": {},
     "output_type": "display_data"
    },
    {
     "data": {
      "text/html": [
       "<pre>| 551     | 12m 30s      | 0.595054          | 0.563914                          |             |</pre>"
      ],
      "text/plain": [
       "| 551     | 12m 30s      | 0.595054          | 0.563914                          |             |"
      ]
     },
     "metadata": {},
     "output_type": "display_data"
    },
    {
     "data": {
      "text/html": [
       "<pre>| 552     | 12m 31s      | 0.594885          | 0.563769                          |             |</pre>"
      ],
      "text/plain": [
       "| 552     | 12m 31s      | 0.594885          | 0.563769                          |             |"
      ]
     },
     "metadata": {},
     "output_type": "display_data"
    },
    {
     "data": {
      "text/html": [
       "<pre>| 553     | 12m 33s      | 0.594729          | 0.563633                          |             |</pre>"
      ],
      "text/plain": [
       "| 553     | 12m 33s      | 0.594729          | 0.563633                          |             |"
      ]
     },
     "metadata": {},
     "output_type": "display_data"
    },
    {
     "data": {
      "text/html": [
       "<pre>| 554     | 12m 34s      | 0.594559          | 0.563487                          |             |</pre>"
      ],
      "text/plain": [
       "| 554     | 12m 34s      | 0.594559          | 0.563487                          |             |"
      ]
     },
     "metadata": {},
     "output_type": "display_data"
    },
    {
     "data": {
      "text/html": [
       "<pre>| 555     | 12m 35s      | 0.594399          | 0.563349                          |             |</pre>"
      ],
      "text/plain": [
       "| 555     | 12m 35s      | 0.594399          | 0.563349                          |             |"
      ]
     },
     "metadata": {},
     "output_type": "display_data"
    },
    {
     "data": {
      "text/html": [
       "<pre>| 556     | 12m 37s      | 0.594238          | 0.563212                          |             |</pre>"
      ],
      "text/plain": [
       "| 556     | 12m 37s      | 0.594238          | 0.563212                          |             |"
      ]
     },
     "metadata": {},
     "output_type": "display_data"
    },
    {
     "data": {
      "text/html": [
       "<pre>| 557     | 12m 38s      | 0.594076          | 0.563072                          |             |</pre>"
      ],
      "text/plain": [
       "| 557     | 12m 38s      | 0.594076          | 0.563072                          |             |"
      ]
     },
     "metadata": {},
     "output_type": "display_data"
    },
    {
     "data": {
      "text/html": [
       "<pre>| 558     | 12m 39s      | 0.593918          | 0.562935                          |             |</pre>"
      ],
      "text/plain": [
       "| 558     | 12m 39s      | 0.593918          | 0.562935                          |             |"
      ]
     },
     "metadata": {},
     "output_type": "display_data"
    },
    {
     "data": {
      "text/html": [
       "<pre>| 559     | 12m 41s      | 0.593757          | 0.562795                          |             |</pre>"
      ],
      "text/plain": [
       "| 559     | 12m 41s      | 0.593757          | 0.562795                          |             |"
      ]
     },
     "metadata": {},
     "output_type": "display_data"
    },
    {
     "data": {
      "text/html": [
       "<pre>| 560     | 12m 42s      | 0.593592          | 0.562649                          |             |</pre>"
      ],
      "text/plain": [
       "| 560     | 12m 42s      | 0.593592          | 0.562649                          |             |"
      ]
     },
     "metadata": {},
     "output_type": "display_data"
    },
    {
     "data": {
      "text/html": [
       "<pre>| 561     | 12m 43s      | 0.593428          | 0.562512                          |             |</pre>"
      ],
      "text/plain": [
       "| 561     | 12m 43s      | 0.593428          | 0.562512                          |             |"
      ]
     },
     "metadata": {},
     "output_type": "display_data"
    },
    {
     "data": {
      "text/html": [
       "<pre>| 562     | 12m 45s      | 0.593259          | 0.562373                          |             |</pre>"
      ],
      "text/plain": [
       "| 562     | 12m 45s      | 0.593259          | 0.562373                          |             |"
      ]
     },
     "metadata": {},
     "output_type": "display_data"
    },
    {
     "data": {
      "text/html": [
       "<pre>| 563     | 12m 46s      | 0.593099          | 0.562235                          |             |</pre>"
      ],
      "text/plain": [
       "| 563     | 12m 46s      | 0.593099          | 0.562235                          |             |"
      ]
     },
     "metadata": {},
     "output_type": "display_data"
    },
    {
     "data": {
      "text/html": [
       "<pre>| 564     | 12m 47s      | 0.592942          | 0.5621                            |             |</pre>"
      ],
      "text/plain": [
       "| 564     | 12m 47s      | 0.592942          | 0.5621                            |             |"
      ]
     },
     "metadata": {},
     "output_type": "display_data"
    },
    {
     "data": {
      "text/html": [
       "<pre>| 565     | 12m 49s      | 0.592779          | 0.561959                          |             |</pre>"
      ],
      "text/plain": [
       "| 565     | 12m 49s      | 0.592779          | 0.561959                          |             |"
      ]
     },
     "metadata": {},
     "output_type": "display_data"
    },
    {
     "data": {
      "text/html": [
       "<pre>| 566     | 12m 50s      | 0.592616          | 0.561815                          |             |</pre>"
      ],
      "text/plain": [
       "| 566     | 12m 50s      | 0.592616          | 0.561815                          |             |"
      ]
     },
     "metadata": {},
     "output_type": "display_data"
    },
    {
     "data": {
      "text/html": [
       "<pre>| 567     | 12m 51s      | 0.592459          | 0.561682                          |             |</pre>"
      ],
      "text/plain": [
       "| 567     | 12m 51s      | 0.592459          | 0.561682                          |             |"
      ]
     },
     "metadata": {},
     "output_type": "display_data"
    },
    {
     "data": {
      "text/html": [
       "<pre>| 568     | 12m 53s      | 0.592294          | 0.561538                          |             |</pre>"
      ],
      "text/plain": [
       "| 568     | 12m 53s      | 0.592294          | 0.561538                          |             |"
      ]
     },
     "metadata": {},
     "output_type": "display_data"
    },
    {
     "data": {
      "text/html": [
       "<pre>| 569     | 12m 54s      | 0.59214           | 0.56141                           |             |</pre>"
      ],
      "text/plain": [
       "| 569     | 12m 54s      | 0.59214           | 0.56141                           |             |"
      ]
     },
     "metadata": {},
     "output_type": "display_data"
    },
    {
     "data": {
      "text/html": [
       "<pre>| 570     | 12m 55s      | 0.591976          | 0.561269                          |             |</pre>"
      ],
      "text/plain": [
       "| 570     | 12m 55s      | 0.591976          | 0.561269                          |             |"
      ]
     },
     "metadata": {},
     "output_type": "display_data"
    },
    {
     "data": {
      "text/html": [
       "<pre>| 571     | 12m 57s      | 0.591815          | 0.56113                           |             |</pre>"
      ],
      "text/plain": [
       "| 571     | 12m 57s      | 0.591815          | 0.56113                           |             |"
      ]
     },
     "metadata": {},
     "output_type": "display_data"
    },
    {
     "data": {
      "text/html": [
       "<pre>| 572     | 12m 58s      | 0.59166           | 0.560995                          |             |</pre>"
      ],
      "text/plain": [
       "| 572     | 12m 58s      | 0.59166           | 0.560995                          |             |"
      ]
     },
     "metadata": {},
     "output_type": "display_data"
    },
    {
     "data": {
      "text/html": [
       "<pre>| 573     | 12m 59s      | 0.591497          | 0.560853                          |             |</pre>"
      ],
      "text/plain": [
       "| 573     | 12m 59s      | 0.591497          | 0.560853                          |             |"
      ]
     },
     "metadata": {},
     "output_type": "display_data"
    },
    {
     "data": {
      "text/html": [
       "<pre>| 574     | 13m 1s       | 0.591334          | 0.560714                          |             |</pre>"
      ],
      "text/plain": [
       "| 574     | 13m 1s       | 0.591334          | 0.560714                          |             |"
      ]
     },
     "metadata": {},
     "output_type": "display_data"
    },
    {
     "data": {
      "text/html": [
       "<pre>| 575     | 13m 2s       | 0.591171          | 0.560575                          |             |</pre>"
      ],
      "text/plain": [
       "| 575     | 13m 2s       | 0.591171          | 0.560575                          |             |"
      ]
     },
     "metadata": {},
     "output_type": "display_data"
    },
    {
     "data": {
      "text/html": [
       "<pre>| 576     | 13m 3s       | 0.591006          | 0.560432                          |             |</pre>"
      ],
      "text/plain": [
       "| 576     | 13m 3s       | 0.591006          | 0.560432                          |             |"
      ]
     },
     "metadata": {},
     "output_type": "display_data"
    },
    {
     "data": {
      "text/html": [
       "<pre>| 577     | 13m 5s       | 0.590851          | 0.560303                          |             |</pre>"
      ],
      "text/plain": [
       "| 577     | 13m 5s       | 0.590851          | 0.560303                          |             |"
      ]
     },
     "metadata": {},
     "output_type": "display_data"
    },
    {
     "data": {
      "text/html": [
       "<pre>| 578     | 13m 6s       | 0.590687          | 0.560161                          |             |</pre>"
      ],
      "text/plain": [
       "| 578     | 13m 6s       | 0.590687          | 0.560161                          |             |"
      ]
     },
     "metadata": {},
     "output_type": "display_data"
    },
    {
     "data": {
      "text/html": [
       "<pre>| 579     | 13m 8s       | 0.590528          | 0.560028                          |             |</pre>"
      ],
      "text/plain": [
       "| 579     | 13m 8s       | 0.590528          | 0.560028                          |             |"
      ]
     },
     "metadata": {},
     "output_type": "display_data"
    },
    {
     "data": {
      "text/html": [
       "<pre>| 580     | 13m 9s       | 0.59037           | 0.559894                          |             |</pre>"
      ],
      "text/plain": [
       "| 580     | 13m 9s       | 0.59037           | 0.559894                          |             |"
      ]
     },
     "metadata": {},
     "output_type": "display_data"
    },
    {
     "data": {
      "text/html": [
       "<pre>| 581     | 13m 10s      | 0.59021           | 0.559754                          |             |</pre>"
      ],
      "text/plain": [
       "| 581     | 13m 10s      | 0.59021           | 0.559754                          |             |"
      ]
     },
     "metadata": {},
     "output_type": "display_data"
    },
    {
     "data": {
      "text/html": [
       "<pre>| 582     | 13m 12s      | 0.590053          | 0.559616                          |             |</pre>"
      ],
      "text/plain": [
       "| 582     | 13m 12s      | 0.590053          | 0.559616                          |             |"
      ]
     },
     "metadata": {},
     "output_type": "display_data"
    },
    {
     "data": {
      "text/html": [
       "<pre>| 583     | 13m 13s      | 0.589896          | 0.559481                          |             |</pre>"
      ],
      "text/plain": [
       "| 583     | 13m 13s      | 0.589896          | 0.559481                          |             |"
      ]
     },
     "metadata": {},
     "output_type": "display_data"
    },
    {
     "data": {
      "text/html": [
       "<pre>| 584     | 13m 14s      | 0.58973           | 0.559339                          |             |</pre>"
      ],
      "text/plain": [
       "| 584     | 13m 14s      | 0.58973           | 0.559339                          |             |"
      ]
     },
     "metadata": {},
     "output_type": "display_data"
    },
    {
     "data": {
      "text/html": [
       "<pre>| 585     | 13m 16s      | 0.589576          | 0.559205                          |             |</pre>"
      ],
      "text/plain": [
       "| 585     | 13m 16s      | 0.589576          | 0.559205                          |             |"
      ]
     },
     "metadata": {},
     "output_type": "display_data"
    },
    {
     "data": {
      "text/html": [
       "<pre>| 586     | 13m 17s      | 0.589424          | 0.55907                           |             |</pre>"
      ],
      "text/plain": [
       "| 586     | 13m 17s      | 0.589424          | 0.55907                           |             |"
      ]
     },
     "metadata": {},
     "output_type": "display_data"
    },
    {
     "data": {
      "text/html": [
       "<pre>| 587     | 13m 18s      | 0.589263          | 0.558931                          |             |</pre>"
      ],
      "text/plain": [
       "| 587     | 13m 18s      | 0.589263          | 0.558931                          |             |"
      ]
     },
     "metadata": {},
     "output_type": "display_data"
    },
    {
     "data": {
      "text/html": [
       "<pre>| 588     | 13m 20s      | 0.589113          | 0.558802                          |             |</pre>"
      ],
      "text/plain": [
       "| 588     | 13m 20s      | 0.589113          | 0.558802                          |             |"
      ]
     },
     "metadata": {},
     "output_type": "display_data"
    },
    {
     "data": {
      "text/html": [
       "<pre>| 589     | 13m 21s      | 0.588949          | 0.558663                          |             |</pre>"
      ],
      "text/plain": [
       "| 589     | 13m 21s      | 0.588949          | 0.558663                          |             |"
      ]
     },
     "metadata": {},
     "output_type": "display_data"
    },
    {
     "data": {
      "text/html": [
       "<pre>| 590     | 13m 22s      | 0.588791          | 0.558527                          |             |</pre>"
      ],
      "text/plain": [
       "| 590     | 13m 22s      | 0.588791          | 0.558527                          |             |"
      ]
     },
     "metadata": {},
     "output_type": "display_data"
    },
    {
     "data": {
      "text/html": [
       "<pre>| 591     | 13m 24s      | 0.588631          | 0.558389                          |             |</pre>"
      ],
      "text/plain": [
       "| 591     | 13m 24s      | 0.588631          | 0.558389                          |             |"
      ]
     },
     "metadata": {},
     "output_type": "display_data"
    },
    {
     "data": {
      "text/html": [
       "<pre>| 592     | 13m 25s      | 0.588468          | 0.558249                          |             |</pre>"
      ],
      "text/plain": [
       "| 592     | 13m 25s      | 0.588468          | 0.558249                          |             |"
      ]
     },
     "metadata": {},
     "output_type": "display_data"
    },
    {
     "data": {
      "text/html": [
       "<pre>| 593     | 13m 27s      | 0.588313          | 0.558118                          |             |</pre>"
      ],
      "text/plain": [
       "| 593     | 13m 27s      | 0.588313          | 0.558118                          |             |"
      ]
     },
     "metadata": {},
     "output_type": "display_data"
    },
    {
     "data": {
      "text/html": [
       "<pre>| 594     | 13m 28s      | 0.588161          | 0.557984                          |             |</pre>"
      ],
      "text/plain": [
       "| 594     | 13m 28s      | 0.588161          | 0.557984                          |             |"
      ]
     },
     "metadata": {},
     "output_type": "display_data"
    },
    {
     "data": {
      "text/html": [
       "<pre>| 595     | 13m 29s      | 0.587954          | 0.557794                          |             |</pre>"
      ],
      "text/plain": [
       "| 595     | 13m 29s      | 0.587954          | 0.557794                          |             |"
      ]
     },
     "metadata": {},
     "output_type": "display_data"
    },
    {
     "data": {
      "text/html": [
       "<pre>| 596     | 13m 31s      | 0.587722          | 0.557578                          |             |</pre>"
      ],
      "text/plain": [
       "| 596     | 13m 31s      | 0.587722          | 0.557578                          |             |"
      ]
     },
     "metadata": {},
     "output_type": "display_data"
    },
    {
     "data": {
      "text/html": [
       "<pre>| 597     | 13m 32s      | 0.587485          | 0.557359                          |             |</pre>"
      ],
      "text/plain": [
       "| 597     | 13m 32s      | 0.587485          | 0.557359                          |             |"
      ]
     },
     "metadata": {},
     "output_type": "display_data"
    },
    {
     "data": {
      "text/html": [
       "<pre>| 598     | 13m 33s      | 0.587251          | 0.557146                          |             |</pre>"
      ],
      "text/plain": [
       "| 598     | 13m 33s      | 0.587251          | 0.557146                          |             |"
      ]
     },
     "metadata": {},
     "output_type": "display_data"
    },
    {
     "data": {
      "text/html": [
       "<pre>| 599     | 13m 34s      | 0.587023          | 0.556936                          |             |</pre>"
      ],
      "text/plain": [
       "| 599     | 13m 34s      | 0.587023          | 0.556936                          |             |"
      ]
     },
     "metadata": {},
     "output_type": "display_data"
    },
    {
     "data": {
      "text/html": [
       "<pre>| 600     | 13m 36s      | 0.586796          | 0.556725                          |             |</pre>"
      ],
      "text/plain": [
       "| 600     | 13m 36s      | 0.586796          | 0.556725                          |             |"
      ]
     },
     "metadata": {},
     "output_type": "display_data"
    },
    {
     "data": {
      "text/html": [
       "<pre>| 601     | 13m 37s      | 0.586562          | 0.556511                          |             |</pre>"
      ],
      "text/plain": [
       "| 601     | 13m 37s      | 0.586562          | 0.556511                          |             |"
      ]
     },
     "metadata": {},
     "output_type": "display_data"
    },
    {
     "data": {
      "text/html": [
       "<pre>| 602     | 13m 38s      | 0.58633           | 0.5563                            |             |</pre>"
      ],
      "text/plain": [
       "| 602     | 13m 38s      | 0.58633           | 0.5563                            |             |"
      ]
     },
     "metadata": {},
     "output_type": "display_data"
    },
    {
     "data": {
      "text/html": [
       "<pre>| 603     | 13m 40s      | 0.586109          | 0.556095                          |             |</pre>"
      ],
      "text/plain": [
       "| 603     | 13m 40s      | 0.586109          | 0.556095                          |             |"
      ]
     },
     "metadata": {},
     "output_type": "display_data"
    },
    {
     "data": {
      "text/html": [
       "<pre>| 604     | 13m 41s      | 0.585874          | 0.555883                          |             |</pre>"
      ],
      "text/plain": [
       "| 604     | 13m 41s      | 0.585874          | 0.555883                          |             |"
      ]
     },
     "metadata": {},
     "output_type": "display_data"
    },
    {
     "data": {
      "text/html": [
       "<pre>| 605     | 13m 42s      | 0.585647          | 0.555672                          |             |</pre>"
      ],
      "text/plain": [
       "| 605     | 13m 42s      | 0.585647          | 0.555672                          |             |"
      ]
     },
     "metadata": {},
     "output_type": "display_data"
    },
    {
     "data": {
      "text/html": [
       "<pre>| 606     | 13m 44s      | 0.585428          | 0.555472                          |             |</pre>"
      ],
      "text/plain": [
       "| 606     | 13m 44s      | 0.585428          | 0.555472                          |             |"
      ]
     },
     "metadata": {},
     "output_type": "display_data"
    },
    {
     "data": {
      "text/html": [
       "<pre>| 607     | 13m 45s      | 0.585199          | 0.555261                          |             |</pre>"
      ],
      "text/plain": [
       "| 607     | 13m 45s      | 0.585199          | 0.555261                          |             |"
      ]
     },
     "metadata": {},
     "output_type": "display_data"
    },
    {
     "data": {
      "text/html": [
       "<pre>| 608     | 13m 46s      | 0.584972          | 0.555049                          |             |</pre>"
      ],
      "text/plain": [
       "| 608     | 13m 46s      | 0.584972          | 0.555049                          |             |"
      ]
     },
     "metadata": {},
     "output_type": "display_data"
    },
    {
     "data": {
      "text/html": [
       "<pre>| 609     | 13m 48s      | 0.584754          | 0.554848                          |             |</pre>"
      ],
      "text/plain": [
       "| 609     | 13m 48s      | 0.584754          | 0.554848                          |             |"
      ]
     },
     "metadata": {},
     "output_type": "display_data"
    },
    {
     "data": {
      "text/html": [
       "<pre>| 610     | 13m 49s      | 0.584529          | 0.554645                          |             |</pre>"
      ],
      "text/plain": [
       "| 610     | 13m 49s      | 0.584529          | 0.554645                          |             |"
      ]
     },
     "metadata": {},
     "output_type": "display_data"
    },
    {
     "data": {
      "text/html": [
       "<pre>| 611     | 13m 50s      | 0.584303          | 0.554438                          |             |</pre>"
      ],
      "text/plain": [
       "| 611     | 13m 50s      | 0.584303          | 0.554438                          |             |"
      ]
     },
     "metadata": {},
     "output_type": "display_data"
    },
    {
     "data": {
      "text/html": [
       "<pre>| 612     | 13m 52s      | 0.584075          | 0.55423                           |             |</pre>"
      ],
      "text/plain": [
       "| 612     | 13m 52s      | 0.584075          | 0.55423                           |             |"
      ]
     },
     "metadata": {},
     "output_type": "display_data"
    },
    {
     "data": {
      "text/html": [
       "<pre>| 613     | 13m 53s      | 0.583861          | 0.554036                          |             |</pre>"
      ],
      "text/plain": [
       "| 613     | 13m 53s      | 0.583861          | 0.554036                          |             |"
      ]
     },
     "metadata": {},
     "output_type": "display_data"
    },
    {
     "data": {
      "text/html": [
       "<pre>| 614     | 13m 54s      | 0.583625          | 0.553819                          |             |</pre>"
      ],
      "text/plain": [
       "| 614     | 13m 54s      | 0.583625          | 0.553819                          |             |"
      ]
     },
     "metadata": {},
     "output_type": "display_data"
    },
    {
     "data": {
      "text/html": [
       "<pre>| 615     | 13m 56s      | 0.583411          | 0.553624                          |             |</pre>"
      ],
      "text/plain": [
       "| 615     | 13m 56s      | 0.583411          | 0.553624                          |             |"
      ]
     },
     "metadata": {},
     "output_type": "display_data"
    },
    {
     "data": {
      "text/html": [
       "<pre>| 616     | 13m 57s      | 0.583184          | 0.553419                          |             |</pre>"
      ],
      "text/plain": [
       "| 616     | 13m 57s      | 0.583184          | 0.553419                          |             |"
      ]
     },
     "metadata": {},
     "output_type": "display_data"
    },
    {
     "data": {
      "text/html": [
       "<pre>| 617     | 13m 58s      | 0.582966          | 0.55322                           |             |</pre>"
      ],
      "text/plain": [
       "| 617     | 13m 58s      | 0.582966          | 0.55322                           |             |"
      ]
     },
     "metadata": {},
     "output_type": "display_data"
    },
    {
     "data": {
      "text/html": [
       "<pre>| 618     | 13m 59s      | 0.58274           | 0.553013                          |             |</pre>"
      ],
      "text/plain": [
       "| 618     | 13m 59s      | 0.58274           | 0.553013                          |             |"
      ]
     },
     "metadata": {},
     "output_type": "display_data"
    },
    {
     "data": {
      "text/html": [
       "<pre>| 619     | 14m 1s       | 0.582522          | 0.552813                          |             |</pre>"
      ],
      "text/plain": [
       "| 619     | 14m 1s       | 0.582522          | 0.552813                          |             |"
      ]
     },
     "metadata": {},
     "output_type": "display_data"
    },
    {
     "data": {
      "text/html": [
       "<pre>| 620     | 14m 2s       | 0.5823            | 0.552613                          |             |</pre>"
      ],
      "text/plain": [
       "| 620     | 14m 2s       | 0.5823            | 0.552613                          |             |"
      ]
     },
     "metadata": {},
     "output_type": "display_data"
    },
    {
     "data": {
      "text/html": [
       "<pre>| 621     | 14m 3s       | 0.582087          | 0.552415                          |             |</pre>"
      ],
      "text/plain": [
       "| 621     | 14m 3s       | 0.582087          | 0.552415                          |             |"
      ]
     },
     "metadata": {},
     "output_type": "display_data"
    },
    {
     "data": {
      "text/html": [
       "<pre>| 622     | 14m 5s       | 0.581868          | 0.552215                          |             |</pre>"
      ],
      "text/plain": [
       "| 622     | 14m 5s       | 0.581868          | 0.552215                          |             |"
      ]
     },
     "metadata": {},
     "output_type": "display_data"
    },
    {
     "data": {
      "text/html": [
       "<pre>| 623     | 14m 6s       | 0.58165           | 0.552018                          |             |</pre>"
      ],
      "text/plain": [
       "| 623     | 14m 6s       | 0.58165           | 0.552018                          |             |"
      ]
     },
     "metadata": {},
     "output_type": "display_data"
    },
    {
     "data": {
      "text/html": [
       "<pre>| 624     | 14m 8s       | 0.581433          | 0.551821                          |             |</pre>"
      ],
      "text/plain": [
       "| 624     | 14m 8s       | 0.581433          | 0.551821                          |             |"
      ]
     },
     "metadata": {},
     "output_type": "display_data"
    },
    {
     "data": {
      "text/html": [
       "<pre>| 625     | 14m 9s       | 0.581215          | 0.55162                           |             |</pre>"
      ],
      "text/plain": [
       "| 625     | 14m 9s       | 0.581215          | 0.55162                           |             |"
      ]
     },
     "metadata": {},
     "output_type": "display_data"
    },
    {
     "data": {
      "text/html": [
       "<pre>| 626     | 14m 10s      | 0.580992          | 0.551419                          |             |</pre>"
      ],
      "text/plain": [
       "| 626     | 14m 10s      | 0.580992          | 0.551419                          |             |"
      ]
     },
     "metadata": {},
     "output_type": "display_data"
    },
    {
     "data": {
      "text/html": [
       "<pre>| 627     | 14m 12s      | 0.58077           | 0.551219                          |             |</pre>"
      ],
      "text/plain": [
       "| 627     | 14m 12s      | 0.58077           | 0.551219                          |             |"
      ]
     },
     "metadata": {},
     "output_type": "display_data"
    },
    {
     "data": {
      "text/html": [
       "<pre>| 628     | 14m 13s      | 0.580556          | 0.551021                          |             |</pre>"
      ],
      "text/plain": [
       "| 628     | 14m 13s      | 0.580556          | 0.551021                          |             |"
      ]
     },
     "metadata": {},
     "output_type": "display_data"
    },
    {
     "data": {
      "text/html": [
       "<pre>| 629     | 14m 15s      | 0.580345          | 0.550829                          |             |</pre>"
      ],
      "text/plain": [
       "| 629     | 14m 15s      | 0.580345          | 0.550829                          |             |"
      ]
     },
     "metadata": {},
     "output_type": "display_data"
    },
    {
     "data": {
      "text/html": [
       "<pre>| 630     | 14m 16s      | 0.580131          | 0.550634                          |             |</pre>"
      ],
      "text/plain": [
       "| 630     | 14m 16s      | 0.580131          | 0.550634                          |             |"
      ]
     },
     "metadata": {},
     "output_type": "display_data"
    },
    {
     "data": {
      "text/html": [
       "<pre>| 631     | 14m 17s      | 0.57992           | 0.550443                          |             |</pre>"
      ],
      "text/plain": [
       "| 631     | 14m 17s      | 0.57992           | 0.550443                          |             |"
      ]
     },
     "metadata": {},
     "output_type": "display_data"
    },
    {
     "data": {
      "text/html": [
       "<pre>| 632     | 14m 18s      | 0.579708          | 0.550245                          |             |</pre>"
      ],
      "text/plain": [
       "| 632     | 14m 18s      | 0.579708          | 0.550245                          |             |"
      ]
     },
     "metadata": {},
     "output_type": "display_data"
    },
    {
     "data": {
      "text/html": [
       "<pre>| 633     | 14m 20s      | 0.57949           | 0.550051                          |             |</pre>"
      ],
      "text/plain": [
       "| 633     | 14m 20s      | 0.57949           | 0.550051                          |             |"
      ]
     },
     "metadata": {},
     "output_type": "display_data"
    },
    {
     "data": {
      "text/html": [
       "<pre>| 634     | 14m 21s      | 0.579273          | 0.549855                          |             |</pre>"
      ],
      "text/plain": [
       "| 634     | 14m 21s      | 0.579273          | 0.549855                          |             |"
      ]
     },
     "metadata": {},
     "output_type": "display_data"
    },
    {
     "data": {
      "text/html": [
       "<pre>| 635     | 14m 22s      | 0.579063          | 0.549665                          |             |</pre>"
      ],
      "text/plain": [
       "| 635     | 14m 22s      | 0.579063          | 0.549665                          |             |"
      ]
     },
     "metadata": {},
     "output_type": "display_data"
    },
    {
     "data": {
      "text/html": [
       "<pre>| 636     | 14m 24s      | 0.578851          | 0.549472                          |             |</pre>"
      ],
      "text/plain": [
       "| 636     | 14m 24s      | 0.578851          | 0.549472                          |             |"
      ]
     },
     "metadata": {},
     "output_type": "display_data"
    },
    {
     "data": {
      "text/html": [
       "<pre>| 637     | 14m 25s      | 0.578634          | 0.549277                          |             |</pre>"
      ],
      "text/plain": [
       "| 637     | 14m 25s      | 0.578634          | 0.549277                          |             |"
      ]
     },
     "metadata": {},
     "output_type": "display_data"
    },
    {
     "data": {
      "text/html": [
       "<pre>| 638     | 14m 26s      | 0.578421          | 0.549082                          |             |</pre>"
      ],
      "text/plain": [
       "| 638     | 14m 26s      | 0.578421          | 0.549082                          |             |"
      ]
     },
     "metadata": {},
     "output_type": "display_data"
    },
    {
     "data": {
      "text/html": [
       "<pre>| 639     | 14m 28s      | 0.57821           | 0.548893                          |             |</pre>"
      ],
      "text/plain": [
       "| 639     | 14m 28s      | 0.57821           | 0.548893                          |             |"
      ]
     },
     "metadata": {},
     "output_type": "display_data"
    },
    {
     "data": {
      "text/html": [
       "<pre>| 640     | 14m 29s      | 0.577999          | 0.548702                          |             |</pre>"
      ],
      "text/plain": [
       "| 640     | 14m 29s      | 0.577999          | 0.548702                          |             |"
      ]
     },
     "metadata": {},
     "output_type": "display_data"
    },
    {
     "data": {
      "text/html": [
       "<pre>| 641     | 14m 31s      | 0.577786          | 0.548509                          |             |</pre>"
      ],
      "text/plain": [
       "| 641     | 14m 31s      | 0.577786          | 0.548509                          |             |"
      ]
     },
     "metadata": {},
     "output_type": "display_data"
    },
    {
     "data": {
      "text/html": [
       "<pre>| 642     | 14m 32s      | 0.577573          | 0.548317                          |             |</pre>"
      ],
      "text/plain": [
       "| 642     | 14m 32s      | 0.577573          | 0.548317                          |             |"
      ]
     },
     "metadata": {},
     "output_type": "display_data"
    },
    {
     "data": {
      "text/html": [
       "<pre>| 643     | 14m 33s      | 0.577365          | 0.548128                          |             |</pre>"
      ],
      "text/plain": [
       "| 643     | 14m 33s      | 0.577365          | 0.548128                          |             |"
      ]
     },
     "metadata": {},
     "output_type": "display_data"
    },
    {
     "data": {
      "text/html": [
       "<pre>| 644     | 14m 35s      | 0.577154          | 0.547941                          |             |</pre>"
      ],
      "text/plain": [
       "| 644     | 14m 35s      | 0.577154          | 0.547941                          |             |"
      ]
     },
     "metadata": {},
     "output_type": "display_data"
    },
    {
     "data": {
      "text/html": [
       "<pre>| 645     | 14m 36s      | 0.576935          | 0.547743                          |             |</pre>"
      ],
      "text/plain": [
       "| 645     | 14m 36s      | 0.576935          | 0.547743                          |             |"
      ]
     },
     "metadata": {},
     "output_type": "display_data"
    },
    {
     "data": {
      "text/html": [
       "<pre>| 646     | 14m 37s      | 0.576734          | 0.547562                          |             |</pre>"
      ],
      "text/plain": [
       "| 646     | 14m 37s      | 0.576734          | 0.547562                          |             |"
      ]
     },
     "metadata": {},
     "output_type": "display_data"
    },
    {
     "data": {
      "text/html": [
       "<pre>| 647     | 14m 39s      | 0.576529          | 0.547375                          |             |</pre>"
      ],
      "text/plain": [
       "| 647     | 14m 39s      | 0.576529          | 0.547375                          |             |"
      ]
     },
     "metadata": {},
     "output_type": "display_data"
    },
    {
     "data": {
      "text/html": [
       "<pre>| 648     | 14m 40s      | 0.576316          | 0.547184                          |             |</pre>"
      ],
      "text/plain": [
       "| 648     | 14m 40s      | 0.576316          | 0.547184                          |             |"
      ]
     },
     "metadata": {},
     "output_type": "display_data"
    },
    {
     "data": {
      "text/html": [
       "<pre>| 649     | 14m 41s      | 0.576106          | 0.546997                          |             |</pre>"
      ],
      "text/plain": [
       "| 649     | 14m 41s      | 0.576106          | 0.546997                          |             |"
      ]
     },
     "metadata": {},
     "output_type": "display_data"
    },
    {
     "data": {
      "text/html": [
       "<pre>| 650     | 14m 43s      | 0.575897          | 0.546809                          |             |</pre>"
      ],
      "text/plain": [
       "| 650     | 14m 43s      | 0.575897          | 0.546809                          |             |"
      ]
     },
     "metadata": {},
     "output_type": "display_data"
    },
    {
     "data": {
      "text/html": [
       "<pre>| 651     | 14m 44s      | 0.575684          | 0.546615                          |             |</pre>"
      ],
      "text/plain": [
       "| 651     | 14m 44s      | 0.575684          | 0.546615                          |             |"
      ]
     },
     "metadata": {},
     "output_type": "display_data"
    },
    {
     "data": {
      "text/html": [
       "<pre>| 652     | 14m 45s      | 0.57543           | 0.546377                          |             |</pre>"
      ],
      "text/plain": [
       "| 652     | 14m 45s      | 0.57543           | 0.546377                          |             |"
      ]
     },
     "metadata": {},
     "output_type": "display_data"
    },
    {
     "data": {
      "text/html": [
       "<pre>| 653     | 14m 47s      | 0.575167          | 0.546131                          |             |</pre>"
      ],
      "text/plain": [
       "| 653     | 14m 47s      | 0.575167          | 0.546131                          |             |"
      ]
     },
     "metadata": {},
     "output_type": "display_data"
    },
    {
     "data": {
      "text/html": [
       "<pre>| 654     | 14m 48s      | 0.574899          | 0.545884                          |             |</pre>"
      ],
      "text/plain": [
       "| 654     | 14m 48s      | 0.574899          | 0.545884                          |             |"
      ]
     },
     "metadata": {},
     "output_type": "display_data"
    },
    {
     "data": {
      "text/html": [
       "<pre>| 655     | 14m 49s      | 0.574634          | 0.545636                          |             |</pre>"
      ],
      "text/plain": [
       "| 655     | 14m 49s      | 0.574634          | 0.545636                          |             |"
      ]
     },
     "metadata": {},
     "output_type": "display_data"
    },
    {
     "data": {
      "text/html": [
       "<pre>| 656     | 14m 51s      | 0.57437           | 0.545389                          |             |</pre>"
      ],
      "text/plain": [
       "| 656     | 14m 51s      | 0.57437           | 0.545389                          |             |"
      ]
     },
     "metadata": {},
     "output_type": "display_data"
    },
    {
     "data": {
      "text/html": [
       "<pre>| 657     | 14m 52s      | 0.574118          | 0.545152                          |             |</pre>"
      ],
      "text/plain": [
       "| 657     | 14m 52s      | 0.574118          | 0.545152                          |             |"
      ]
     },
     "metadata": {},
     "output_type": "display_data"
    },
    {
     "data": {
      "text/html": [
       "<pre>| 658     | 14m 53s      | 0.573858          | 0.544907                          |             |</pre>"
      ],
      "text/plain": [
       "| 658     | 14m 53s      | 0.573858          | 0.544907                          |             |"
      ]
     },
     "metadata": {},
     "output_type": "display_data"
    },
    {
     "data": {
      "text/html": [
       "<pre>| 659     | 14m 55s      | 0.573602          | 0.544663                          |             |</pre>"
      ],
      "text/plain": [
       "| 659     | 14m 55s      | 0.573602          | 0.544663                          |             |"
      ]
     },
     "metadata": {},
     "output_type": "display_data"
    },
    {
     "data": {
      "text/html": [
       "<pre>| 660     | 14m 56s      | 0.573346          | 0.544426                          |             |</pre>"
      ],
      "text/plain": [
       "| 660     | 14m 56s      | 0.573346          | 0.544426                          |             |"
      ]
     },
     "metadata": {},
     "output_type": "display_data"
    },
    {
     "data": {
      "text/html": [
       "<pre>| 661     | 14m 57s      | 0.573083          | 0.544182                          |             |</pre>"
      ],
      "text/plain": [
       "| 661     | 14m 57s      | 0.573083          | 0.544182                          |             |"
      ]
     },
     "metadata": {},
     "output_type": "display_data"
    },
    {
     "data": {
      "text/html": [
       "<pre>| 662     | 14m 58s      | 0.572818          | 0.543934                          |             |</pre>"
      ],
      "text/plain": [
       "| 662     | 14m 58s      | 0.572818          | 0.543934                          |             |"
      ]
     },
     "metadata": {},
     "output_type": "display_data"
    },
    {
     "data": {
      "text/html": [
       "<pre>| 663     | 15m 0s       | 0.572558          | 0.543697                          |             |</pre>"
      ],
      "text/plain": [
       "| 663     | 15m 0s       | 0.572558          | 0.543697                          |             |"
      ]
     },
     "metadata": {},
     "output_type": "display_data"
    },
    {
     "data": {
      "text/html": [
       "<pre>| 664     | 15m 1s       | 0.572304          | 0.543464                          |             |</pre>"
      ],
      "text/plain": [
       "| 664     | 15m 1s       | 0.572304          | 0.543464                          |             |"
      ]
     },
     "metadata": {},
     "output_type": "display_data"
    },
    {
     "data": {
      "text/html": [
       "<pre>| 665     | 15m 2s       | 0.572042          | 0.543219                          |             |</pre>"
      ],
      "text/plain": [
       "| 665     | 15m 2s       | 0.572042          | 0.543219                          |             |"
      ]
     },
     "metadata": {},
     "output_type": "display_data"
    },
    {
     "data": {
      "text/html": [
       "<pre>| 666     | 15m 4s       | 0.571784          | 0.54298                           |             |</pre>"
      ],
      "text/plain": [
       "| 666     | 15m 4s       | 0.571784          | 0.54298                           |             |"
      ]
     },
     "metadata": {},
     "output_type": "display_data"
    },
    {
     "data": {
      "text/html": [
       "<pre>| 667     | 15m 5s       | 0.571527          | 0.542741                          |             |</pre>"
      ],
      "text/plain": [
       "| 667     | 15m 5s       | 0.571527          | 0.542741                          |             |"
      ]
     },
     "metadata": {},
     "output_type": "display_data"
    },
    {
     "data": {
      "text/html": [
       "<pre>| 668     | 15m 6s       | 0.571267          | 0.542501                          |             |</pre>"
      ],
      "text/plain": [
       "| 668     | 15m 6s       | 0.571267          | 0.542501                          |             |"
      ]
     },
     "metadata": {},
     "output_type": "display_data"
    },
    {
     "data": {
      "text/html": [
       "<pre>| 669     | 15m 8s       | 0.571017          | 0.542265                          |             |</pre>"
      ],
      "text/plain": [
       "| 669     | 15m 8s       | 0.571017          | 0.542265                          |             |"
      ]
     },
     "metadata": {},
     "output_type": "display_data"
    },
    {
     "data": {
      "text/html": [
       "<pre>| 670     | 15m 9s       | 0.570757          | 0.542026                          |             |</pre>"
      ],
      "text/plain": [
       "| 670     | 15m 9s       | 0.570757          | 0.542026                          |             |"
      ]
     },
     "metadata": {},
     "output_type": "display_data"
    },
    {
     "data": {
      "text/html": [
       "<pre>| 671     | 15m 10s      | 0.570501          | 0.54179                           |             |</pre>"
      ],
      "text/plain": [
       "| 671     | 15m 10s      | 0.570501          | 0.54179                           |             |"
      ]
     },
     "metadata": {},
     "output_type": "display_data"
    },
    {
     "data": {
      "text/html": [
       "<pre>| 672     | 15m 12s      | 0.570241          | 0.541549                          |             |</pre>"
      ],
      "text/plain": [
       "| 672     | 15m 12s      | 0.570241          | 0.541549                          |             |"
      ]
     },
     "metadata": {},
     "output_type": "display_data"
    },
    {
     "data": {
      "text/html": [
       "<pre>| 673     | 15m 13s      | 0.56999           | 0.541317                          |             |</pre>"
      ],
      "text/plain": [
       "| 673     | 15m 13s      | 0.56999           | 0.541317                          |             |"
      ]
     },
     "metadata": {},
     "output_type": "display_data"
    },
    {
     "data": {
      "text/html": [
       "<pre>| 674     | 15m 15s      | 0.569735          | 0.541081                          |             |</pre>"
      ],
      "text/plain": [
       "| 674     | 15m 15s      | 0.569735          | 0.541081                          |             |"
      ]
     },
     "metadata": {},
     "output_type": "display_data"
    },
    {
     "data": {
      "text/html": [
       "<pre>| 675     | 15m 16s      | 0.569474          | 0.540845                          |             |</pre>"
      ],
      "text/plain": [
       "| 675     | 15m 16s      | 0.569474          | 0.540845                          |             |"
      ]
     },
     "metadata": {},
     "output_type": "display_data"
    },
    {
     "data": {
      "text/html": [
       "<pre>| 676     | 15m 17s      | 0.569218          | 0.540611                          |             |</pre>"
      ],
      "text/plain": [
       "| 676     | 15m 17s      | 0.569218          | 0.540611                          |             |"
      ]
     },
     "metadata": {},
     "output_type": "display_data"
    },
    {
     "data": {
      "text/html": [
       "<pre>| 677     | 15m 19s      | 0.568959          | 0.540374                          |             |</pre>"
      ],
      "text/plain": [
       "| 677     | 15m 19s      | 0.568959          | 0.540374                          |             |"
      ]
     },
     "metadata": {},
     "output_type": "display_data"
    },
    {
     "data": {
      "text/html": [
       "<pre>| 678     | 15m 20s      | 0.568707          | 0.540142                          |             |</pre>"
      ],
      "text/plain": [
       "| 678     | 15m 20s      | 0.568707          | 0.540142                          |             |"
      ]
     },
     "metadata": {},
     "output_type": "display_data"
    },
    {
     "data": {
      "text/html": [
       "<pre>| 679     | 15m 22s      | 0.568462          | 0.539911                          |             |</pre>"
      ],
      "text/plain": [
       "| 679     | 15m 22s      | 0.568462          | 0.539911                          |             |"
      ]
     },
     "metadata": {},
     "output_type": "display_data"
    },
    {
     "data": {
      "text/html": [
       "<pre>| 680     | 15m 23s      | 0.568212          | 0.53968                           |             |</pre>"
      ],
      "text/plain": [
       "| 680     | 15m 23s      | 0.568212          | 0.53968                           |             |"
      ]
     },
     "metadata": {},
     "output_type": "display_data"
    },
    {
     "data": {
      "text/html": [
       "<pre>| 681     | 15m 24s      | 0.56796           | 0.539447                          |             |</pre>"
      ],
      "text/plain": [
       "| 681     | 15m 24s      | 0.56796           | 0.539447                          |             |"
      ]
     },
     "metadata": {},
     "output_type": "display_data"
    },
    {
     "data": {
      "text/html": [
       "<pre>| 682     | 15m 25s      | 0.567708          | 0.539216                          |             |</pre>"
      ],
      "text/plain": [
       "| 682     | 15m 25s      | 0.567708          | 0.539216                          |             |"
      ]
     },
     "metadata": {},
     "output_type": "display_data"
    },
    {
     "data": {
      "text/html": [
       "<pre>| 683     | 15m 27s      | 0.567457          | 0.538986                          |             |</pre>"
      ],
      "text/plain": [
       "| 683     | 15m 27s      | 0.567457          | 0.538986                          |             |"
      ]
     },
     "metadata": {},
     "output_type": "display_data"
    },
    {
     "data": {
      "text/html": [
       "<pre>| 684     | 15m 28s      | 0.567202          | 0.538754                          |             |</pre>"
      ],
      "text/plain": [
       "| 684     | 15m 28s      | 0.567202          | 0.538754                          |             |"
      ]
     },
     "metadata": {},
     "output_type": "display_data"
    },
    {
     "data": {
      "text/html": [
       "<pre>| 685     | 15m 29s      | 0.566955          | 0.538526                          |             |</pre>"
      ],
      "text/plain": [
       "| 685     | 15m 29s      | 0.566955          | 0.538526                          |             |"
      ]
     },
     "metadata": {},
     "output_type": "display_data"
    },
    {
     "data": {
      "text/html": [
       "<pre>| 686     | 15m 31s      | 0.566702          | 0.538295                          |             |</pre>"
      ],
      "text/plain": [
       "| 686     | 15m 31s      | 0.566702          | 0.538295                          |             |"
      ]
     },
     "metadata": {},
     "output_type": "display_data"
    },
    {
     "data": {
      "text/html": [
       "<pre>| 687     | 15m 32s      | 0.566451          | 0.538065                          |             |</pre>"
      ],
      "text/plain": [
       "| 687     | 15m 32s      | 0.566451          | 0.538065                          |             |"
      ]
     },
     "metadata": {},
     "output_type": "display_data"
    },
    {
     "data": {
      "text/html": [
       "<pre>| 688     | 15m 34s      | 0.566198          | 0.537837                          |             |</pre>"
      ],
      "text/plain": [
       "| 688     | 15m 34s      | 0.566198          | 0.537837                          |             |"
      ]
     },
     "metadata": {},
     "output_type": "display_data"
    },
    {
     "data": {
      "text/html": [
       "<pre>| 689     | 15m 35s      | 0.56595           | 0.537609                          |             |</pre>"
      ],
      "text/plain": [
       "| 689     | 15m 35s      | 0.56595           | 0.537609                          |             |"
      ]
     },
     "metadata": {},
     "output_type": "display_data"
    },
    {
     "data": {
      "text/html": [
       "<pre>| 690     | 15m 37s      | 0.565702          | 0.537384                          |             |</pre>"
      ],
      "text/plain": [
       "| 690     | 15m 37s      | 0.565702          | 0.537384                          |             |"
      ]
     },
     "metadata": {},
     "output_type": "display_data"
    },
    {
     "data": {
      "text/html": [
       "<pre>| 691     | 15m 38s      | 0.565452          | 0.537157                          |             |</pre>"
      ],
      "text/plain": [
       "| 691     | 15m 38s      | 0.565452          | 0.537157                          |             |"
      ]
     },
     "metadata": {},
     "output_type": "display_data"
    },
    {
     "data": {
      "text/html": [
       "<pre>| 692     | 15m 39s      | 0.565202          | 0.536928                          |             |</pre>"
      ],
      "text/plain": [
       "| 692     | 15m 39s      | 0.565202          | 0.536928                          |             |"
      ]
     },
     "metadata": {},
     "output_type": "display_data"
    },
    {
     "data": {
      "text/html": [
       "<pre>| 693     | 15m 41s      | 0.564955          | 0.536704                          |             |</pre>"
      ],
      "text/plain": [
       "| 693     | 15m 41s      | 0.564955          | 0.536704                          |             |"
      ]
     },
     "metadata": {},
     "output_type": "display_data"
    },
    {
     "data": {
      "text/html": [
       "<pre>| 694     | 15m 42s      | 0.564712          | 0.536479                          |             |</pre>"
      ],
      "text/plain": [
       "| 694     | 15m 42s      | 0.564712          | 0.536479                          |             |"
      ]
     },
     "metadata": {},
     "output_type": "display_data"
    },
    {
     "data": {
      "text/html": [
       "<pre>| 695     | 15m 43s      | 0.564457          | 0.536246                          |             |</pre>"
      ],
      "text/plain": [
       "| 695     | 15m 43s      | 0.564457          | 0.536246                          |             |"
      ]
     },
     "metadata": {},
     "output_type": "display_data"
    },
    {
     "data": {
      "text/html": [
       "<pre>| 696     | 15m 45s      | 0.564224          | 0.536032                          |             |</pre>"
      ],
      "text/plain": [
       "| 696     | 15m 45s      | 0.564224          | 0.536032                          |             |"
      ]
     },
     "metadata": {},
     "output_type": "display_data"
    },
    {
     "data": {
      "text/html": [
       "<pre>| 697     | 15m 46s      | 0.563975          | 0.535802                          |             |</pre>"
      ],
      "text/plain": [
       "| 697     | 15m 46s      | 0.563975          | 0.535802                          |             |"
      ]
     },
     "metadata": {},
     "output_type": "display_data"
    },
    {
     "data": {
      "text/html": [
       "<pre>| 698     | 15m 47s      | 0.563726          | 0.535575                          |             |</pre>"
      ],
      "text/plain": [
       "| 698     | 15m 47s      | 0.563726          | 0.535575                          |             |"
      ]
     },
     "metadata": {},
     "output_type": "display_data"
    },
    {
     "data": {
      "text/html": [
       "<pre>| 699     | 15m 49s      | 0.563485          | 0.535359                          |             |</pre>"
      ],
      "text/plain": [
       "| 699     | 15m 49s      | 0.563485          | 0.535359                          |             |"
      ]
     },
     "metadata": {},
     "output_type": "display_data"
    },
    {
     "data": {
      "text/html": [
       "<pre>| 700     | 15m 50s      | 0.563243          | 0.535137                          |             |</pre>"
      ],
      "text/plain": [
       "| 700     | 15m 50s      | 0.563243          | 0.535137                          |             |"
      ]
     },
     "metadata": {},
     "output_type": "display_data"
    },
    {
     "data": {
      "text/html": [
       "<pre>| 701     | 15m 51s      | 0.563001          | 0.534917                          |             |</pre>"
      ],
      "text/plain": [
       "| 701     | 15m 51s      | 0.563001          | 0.534917                          |             |"
      ]
     },
     "metadata": {},
     "output_type": "display_data"
    },
    {
     "data": {
      "text/html": [
       "<pre>| 702     | 15m 52s      | 0.562757          | 0.534696                          |             |</pre>"
      ],
      "text/plain": [
       "| 702     | 15m 52s      | 0.562757          | 0.534696                          |             |"
      ]
     },
     "metadata": {},
     "output_type": "display_data"
    },
    {
     "data": {
      "text/html": [
       "<pre>| 703     | 15m 54s      | 0.562508          | 0.534467                          |             |</pre>"
      ],
      "text/plain": [
       "| 703     | 15m 54s      | 0.562508          | 0.534467                          |             |"
      ]
     },
     "metadata": {},
     "output_type": "display_data"
    },
    {
     "data": {
      "text/html": [
       "<pre>| 704     | 15m 55s      | 0.562273          | 0.534251                          |             |</pre>"
      ],
      "text/plain": [
       "| 704     | 15m 55s      | 0.562273          | 0.534251                          |             |"
      ]
     },
     "metadata": {},
     "output_type": "display_data"
    },
    {
     "data": {
      "text/html": [
       "<pre>| 705     | 15m 56s      | 0.562035          | 0.534034                          |             |</pre>"
      ],
      "text/plain": [
       "| 705     | 15m 56s      | 0.562035          | 0.534034                          |             |"
      ]
     },
     "metadata": {},
     "output_type": "display_data"
    },
    {
     "data": {
      "text/html": [
       "<pre>| 706     | 15m 58s      | 0.561787          | 0.533811                          |             |</pre>"
      ],
      "text/plain": [
       "| 706     | 15m 58s      | 0.561787          | 0.533811                          |             |"
      ]
     },
     "metadata": {},
     "output_type": "display_data"
    },
    {
     "data": {
      "text/html": [
       "<pre>| 707     | 15m 59s      | 0.561548          | 0.533597                          |             |</pre>"
      ],
      "text/plain": [
       "| 707     | 15m 59s      | 0.561548          | 0.533597                          |             |"
      ]
     },
     "metadata": {},
     "output_type": "display_data"
    },
    {
     "data": {
      "text/html": [
       "<pre>| 708     | 16m 0s       | 0.561303          | 0.533374                          |             |</pre>"
      ],
      "text/plain": [
       "| 708     | 16m 0s       | 0.561303          | 0.533374                          |             |"
      ]
     },
     "metadata": {},
     "output_type": "display_data"
    },
    {
     "data": {
      "text/html": [
       "<pre>| 709     | 16m 2s       | 0.561069          | 0.533164                          |             |</pre>"
      ],
      "text/plain": [
       "| 709     | 16m 2s       | 0.561069          | 0.533164                          |             |"
      ]
     },
     "metadata": {},
     "output_type": "display_data"
    },
    {
     "data": {
      "text/html": [
       "<pre>| 710     | 16m 3s       | 0.560826          | 0.532944                          |             |</pre>"
      ],
      "text/plain": [
       "| 710     | 16m 3s       | 0.560826          | 0.532944                          |             |"
      ]
     },
     "metadata": {},
     "output_type": "display_data"
    },
    {
     "data": {
      "text/html": [
       "<pre>| 711     | 16m 4s       | 0.560589          | 0.532728                          |             |</pre>"
      ],
      "text/plain": [
       "| 711     | 16m 4s       | 0.560589          | 0.532728                          |             |"
      ]
     },
     "metadata": {},
     "output_type": "display_data"
    },
    {
     "data": {
      "text/html": [
       "<pre>| 712     | 16m 6s       | 0.560354          | 0.532514                          |             |</pre>"
      ],
      "text/plain": [
       "| 712     | 16m 6s       | 0.560354          | 0.532514                          |             |"
      ]
     },
     "metadata": {},
     "output_type": "display_data"
    },
    {
     "data": {
      "text/html": [
       "<pre>| 713     | 16m 7s       | 0.560118          | 0.5323                            |             |</pre>"
      ],
      "text/plain": [
       "| 713     | 16m 7s       | 0.560118          | 0.5323                            |             |"
      ]
     },
     "metadata": {},
     "output_type": "display_data"
    },
    {
     "data": {
      "text/html": [
       "<pre>| 714     | 16m 8s       | 0.559879          | 0.532082                          |             |</pre>"
      ],
      "text/plain": [
       "| 714     | 16m 8s       | 0.559879          | 0.532082                          |             |"
      ]
     },
     "metadata": {},
     "output_type": "display_data"
    },
    {
     "data": {
      "text/html": [
       "<pre>| 715     | 16m 10s      | 0.559647          | 0.531871                          |             |</pre>"
      ],
      "text/plain": [
       "| 715     | 16m 10s      | 0.559647          | 0.531871                          |             |"
      ]
     },
     "metadata": {},
     "output_type": "display_data"
    },
    {
     "data": {
      "text/html": [
       "<pre>| 716     | 16m 11s      | 0.55941           | 0.531656                          |             |</pre>"
      ],
      "text/plain": [
       "| 716     | 16m 11s      | 0.55941           | 0.531656                          |             |"
      ]
     },
     "metadata": {},
     "output_type": "display_data"
    },
    {
     "data": {
      "text/html": [
       "<pre>| 717     | 16m 12s      | 0.559173          | 0.531441                          |             |</pre>"
      ],
      "text/plain": [
       "| 717     | 16m 12s      | 0.559173          | 0.531441                          |             |"
      ]
     },
     "metadata": {},
     "output_type": "display_data"
    },
    {
     "data": {
      "text/html": [
       "<pre>| 718     | 16m 14s      | 0.558945          | 0.531233                          |             |</pre>"
      ],
      "text/plain": [
       "| 718     | 16m 14s      | 0.558945          | 0.531233                          |             |"
      ]
     },
     "metadata": {},
     "output_type": "display_data"
    },
    {
     "data": {
      "text/html": [
       "<pre>| 719     | 16m 15s      | 0.558705          | 0.531018                          |             |</pre>"
      ],
      "text/plain": [
       "| 719     | 16m 15s      | 0.558705          | 0.531018                          |             |"
      ]
     },
     "metadata": {},
     "output_type": "display_data"
    },
    {
     "data": {
      "text/html": [
       "<pre>| 720     | 16m 16s      | 0.558474          | 0.530807                          |             |</pre>"
      ],
      "text/plain": [
       "| 720     | 16m 16s      | 0.558474          | 0.530807                          |             |"
      ]
     },
     "metadata": {},
     "output_type": "display_data"
    },
    {
     "data": {
      "text/html": [
       "<pre>| 721     | 16m 18s      | 0.558242          | 0.530595                          |             |</pre>"
      ],
      "text/plain": [
       "| 721     | 16m 18s      | 0.558242          | 0.530595                          |             |"
      ]
     },
     "metadata": {},
     "output_type": "display_data"
    },
    {
     "data": {
      "text/html": [
       "<pre>| 722     | 16m 19s      | 0.558011          | 0.530387                          |             |</pre>"
      ],
      "text/plain": [
       "| 722     | 16m 19s      | 0.558011          | 0.530387                          |             |"
      ]
     },
     "metadata": {},
     "output_type": "display_data"
    },
    {
     "data": {
      "text/html": [
       "<pre>| 723     | 16m 20s      | 0.557778          | 0.530179                          |             |</pre>"
      ],
      "text/plain": [
       "| 723     | 16m 20s      | 0.557778          | 0.530179                          |             |"
      ]
     },
     "metadata": {},
     "output_type": "display_data"
    },
    {
     "data": {
      "text/html": [
       "<pre>| 724     | 16m 22s      | 0.557542          | 0.52997                           |             |</pre>"
      ],
      "text/plain": [
       "| 724     | 16m 22s      | 0.557542          | 0.52997                           |             |"
      ]
     },
     "metadata": {},
     "output_type": "display_data"
    },
    {
     "data": {
      "text/html": [
       "<pre>| 725     | 16m 23s      | 0.557312          | 0.529762                          |             |</pre>"
      ],
      "text/plain": [
       "| 725     | 16m 23s      | 0.557312          | 0.529762                          |             |"
      ]
     },
     "metadata": {},
     "output_type": "display_data"
    },
    {
     "data": {
      "text/html": [
       "<pre>| 726     | 16m 25s      | 0.557078          | 0.529552                          |             |</pre>"
      ],
      "text/plain": [
       "| 726     | 16m 25s      | 0.557078          | 0.529552                          |             |"
      ]
     },
     "metadata": {},
     "output_type": "display_data"
    },
    {
     "data": {
      "text/html": [
       "<pre>| 727     | 16m 26s      | 0.556848          | 0.529346                          |             |</pre>"
      ],
      "text/plain": [
       "| 727     | 16m 26s      | 0.556848          | 0.529346                          |             |"
      ]
     },
     "metadata": {},
     "output_type": "display_data"
    },
    {
     "data": {
      "text/html": [
       "<pre>| 728     | 16m 27s      | 0.55662           | 0.529139                          |             |</pre>"
      ],
      "text/plain": [
       "| 728     | 16m 27s      | 0.55662           | 0.529139                          |             |"
      ]
     },
     "metadata": {},
     "output_type": "display_data"
    },
    {
     "data": {
      "text/html": [
       "<pre>| 729     | 16m 29s      | 0.55639           | 0.528932                          |             |</pre>"
      ],
      "text/plain": [
       "| 729     | 16m 29s      | 0.55639           | 0.528932                          |             |"
      ]
     },
     "metadata": {},
     "output_type": "display_data"
    },
    {
     "data": {
      "text/html": [
       "<pre>| 730     | 16m 30s      | 0.556158          | 0.528725                          |             |</pre>"
      ],
      "text/plain": [
       "| 730     | 16m 30s      | 0.556158          | 0.528725                          |             |"
      ]
     },
     "metadata": {},
     "output_type": "display_data"
    },
    {
     "data": {
      "text/html": [
       "<pre>| 731     | 16m 31s      | 0.555935          | 0.528524                          |             |</pre>"
      ],
      "text/plain": [
       "| 731     | 16m 31s      | 0.555935          | 0.528524                          |             |"
      ]
     },
     "metadata": {},
     "output_type": "display_data"
    },
    {
     "data": {
      "text/html": [
       "<pre>| 732     | 16m 33s      | 0.555714          | 0.528321                          |             |</pre>"
      ],
      "text/plain": [
       "| 732     | 16m 33s      | 0.555714          | 0.528321                          |             |"
      ]
     },
     "metadata": {},
     "output_type": "display_data"
    },
    {
     "data": {
      "text/html": [
       "<pre>| 733     | 16m 34s      | 0.555487          | 0.528116                          |             |</pre>"
      ],
      "text/plain": [
       "| 733     | 16m 34s      | 0.555487          | 0.528116                          |             |"
      ]
     },
     "metadata": {},
     "output_type": "display_data"
    },
    {
     "data": {
      "text/html": [
       "<pre>| 734     | 16m 35s      | 0.555259          | 0.527913                          |             |</pre>"
      ],
      "text/plain": [
       "| 734     | 16m 35s      | 0.555259          | 0.527913                          |             |"
      ]
     },
     "metadata": {},
     "output_type": "display_data"
    },
    {
     "data": {
      "text/html": [
       "<pre>| 735     | 16m 37s      | 0.555034          | 0.527708                          |             |</pre>"
      ],
      "text/plain": [
       "| 735     | 16m 37s      | 0.555034          | 0.527708                          |             |"
      ]
     },
     "metadata": {},
     "output_type": "display_data"
    },
    {
     "data": {
      "text/html": [
       "<pre>| 736     | 16m 38s      | 0.554808          | 0.527509                          |             |</pre>"
      ],
      "text/plain": [
       "| 736     | 16m 38s      | 0.554808          | 0.527509                          |             |"
      ]
     },
     "metadata": {},
     "output_type": "display_data"
    },
    {
     "data": {
      "text/html": [
       "<pre>| 737     | 16m 39s      | 0.554583          | 0.527305                          |             |</pre>"
      ],
      "text/plain": [
       "| 737     | 16m 39s      | 0.554583          | 0.527305                          |             |"
      ]
     },
     "metadata": {},
     "output_type": "display_data"
    },
    {
     "data": {
      "text/html": [
       "<pre>| 738     | 16m 41s      | 0.55436           | 0.527103                          |             |</pre>"
      ],
      "text/plain": [
       "| 738     | 16m 41s      | 0.55436           | 0.527103                          |             |"
      ]
     },
     "metadata": {},
     "output_type": "display_data"
    },
    {
     "data": {
      "text/html": [
       "<pre>| 739     | 16m 42s      | 0.55414           | 0.526906                          |             |</pre>"
      ],
      "text/plain": [
       "| 739     | 16m 42s      | 0.55414           | 0.526906                          |             |"
      ]
     },
     "metadata": {},
     "output_type": "display_data"
    },
    {
     "data": {
      "text/html": [
       "<pre>| 740     | 16m 44s      | 0.553919          | 0.52671                           |             |</pre>"
      ],
      "text/plain": [
       "| 740     | 16m 44s      | 0.553919          | 0.52671                           |             |"
      ]
     },
     "metadata": {},
     "output_type": "display_data"
    },
    {
     "data": {
      "text/html": [
       "<pre>| 741     | 16m 45s      | 0.553697          | 0.526511                          |             |</pre>"
      ],
      "text/plain": [
       "| 741     | 16m 45s      | 0.553697          | 0.526511                          |             |"
      ]
     },
     "metadata": {},
     "output_type": "display_data"
    },
    {
     "data": {
      "text/html": [
       "<pre>| 742     | 16m 46s      | 0.553476          | 0.526311                          |             |</pre>"
      ],
      "text/plain": [
       "| 742     | 16m 46s      | 0.553476          | 0.526311                          |             |"
      ]
     },
     "metadata": {},
     "output_type": "display_data"
    },
    {
     "data": {
      "text/html": [
       "<pre>| 743     | 16m 48s      | 0.553263          | 0.526115                          |             |</pre>"
      ],
      "text/plain": [
       "| 743     | 16m 48s      | 0.553263          | 0.526115                          |             |"
      ]
     },
     "metadata": {},
     "output_type": "display_data"
    },
    {
     "data": {
      "text/html": [
       "<pre>| 744     | 16m 49s      | 0.553039          | 0.525916                          |             |</pre>"
      ],
      "text/plain": [
       "| 744     | 16m 49s      | 0.553039          | 0.525916                          |             |"
      ]
     },
     "metadata": {},
     "output_type": "display_data"
    },
    {
     "data": {
      "text/html": [
       "<pre>| 745     | 16m 50s      | 0.552821          | 0.525721                          |             |</pre>"
      ],
      "text/plain": [
       "| 745     | 16m 50s      | 0.552821          | 0.525721                          |             |"
      ]
     },
     "metadata": {},
     "output_type": "display_data"
    },
    {
     "data": {
      "text/html": [
       "<pre>| 746     | 16m 52s      | 0.552605          | 0.525526                          |             |</pre>"
      ],
      "text/plain": [
       "| 746     | 16m 52s      | 0.552605          | 0.525526                          |             |"
      ]
     },
     "metadata": {},
     "output_type": "display_data"
    },
    {
     "data": {
      "text/html": [
       "<pre>| 747     | 16m 53s      | 0.552384          | 0.525328                          |             |</pre>"
      ],
      "text/plain": [
       "| 747     | 16m 53s      | 0.552384          | 0.525328                          |             |"
      ]
     },
     "metadata": {},
     "output_type": "display_data"
    },
    {
     "data": {
      "text/html": [
       "<pre>| 748     | 16m 54s      | 0.552167          | 0.525133                          |             |</pre>"
      ],
      "text/plain": [
       "| 748     | 16m 54s      | 0.552167          | 0.525133                          |             |"
      ]
     },
     "metadata": {},
     "output_type": "display_data"
    },
    {
     "data": {
      "text/html": [
       "<pre>| 749     | 16m 56s      | 0.551951          | 0.52494                           |             |</pre>"
      ],
      "text/plain": [
       "| 749     | 16m 56s      | 0.551951          | 0.52494                           |             |"
      ]
     },
     "metadata": {},
     "output_type": "display_data"
    },
    {
     "data": {
      "text/html": [
       "<pre>| 750     | 16m 57s      | 0.551738          | 0.524751                          |             |</pre>"
      ],
      "text/plain": [
       "| 750     | 16m 57s      | 0.551738          | 0.524751                          |             |"
      ]
     },
     "metadata": {},
     "output_type": "display_data"
    },
    {
     "data": {
      "text/html": [
       "<pre>| 751     | 16m 58s      | 0.551521          | 0.524555                          |             |</pre>"
      ],
      "text/plain": [
       "| 751     | 16m 58s      | 0.551521          | 0.524555                          |             |"
      ]
     },
     "metadata": {},
     "output_type": "display_data"
    },
    {
     "data": {
      "text/html": [
       "<pre>| 752     | 16m 59s      | 0.551307          | 0.524364                          |             |</pre>"
      ],
      "text/plain": [
       "| 752     | 16m 59s      | 0.551307          | 0.524364                          |             |"
      ]
     },
     "metadata": {},
     "output_type": "display_data"
    },
    {
     "data": {
      "text/html": [
       "<pre>| 753     | 17m 1s       | 0.551093          | 0.524172                          |             |</pre>"
      ],
      "text/plain": [
       "| 753     | 17m 1s       | 0.551093          | 0.524172                          |             |"
      ]
     },
     "metadata": {},
     "output_type": "display_data"
    },
    {
     "data": {
      "text/html": [
       "<pre>| 754     | 17m 2s       | 0.550886          | 0.523984                          |             |</pre>"
      ],
      "text/plain": [
       "| 754     | 17m 2s       | 0.550886          | 0.523984                          |             |"
      ]
     },
     "metadata": {},
     "output_type": "display_data"
    },
    {
     "data": {
      "text/html": [
       "<pre>| 755     | 17m 3s       | 0.550668          | 0.523792                          |             |</pre>"
      ],
      "text/plain": [
       "| 755     | 17m 3s       | 0.550668          | 0.523792                          |             |"
      ]
     },
     "metadata": {},
     "output_type": "display_data"
    },
    {
     "data": {
      "text/html": [
       "<pre>| 756     | 17m 5s       | 0.550457          | 0.523602                          |             |</pre>"
      ],
      "text/plain": [
       "| 756     | 17m 5s       | 0.550457          | 0.523602                          |             |"
      ]
     },
     "metadata": {},
     "output_type": "display_data"
    },
    {
     "data": {
      "text/html": [
       "<pre>| 757     | 17m 6s       | 0.550242          | 0.523412                          |             |</pre>"
      ],
      "text/plain": [
       "| 757     | 17m 6s       | 0.550242          | 0.523412                          |             |"
      ]
     },
     "metadata": {},
     "output_type": "display_data"
    },
    {
     "data": {
      "text/html": [
       "<pre>| 758     | 17m 7s       | 0.55003           | 0.523222                          |             |</pre>"
      ],
      "text/plain": [
       "| 758     | 17m 7s       | 0.55003           | 0.523222                          |             |"
      ]
     },
     "metadata": {},
     "output_type": "display_data"
    },
    {
     "data": {
      "text/html": [
       "<pre>| 759     | 17m 9s       | 0.549822          | 0.523036                          |             |</pre>"
      ],
      "text/plain": [
       "| 759     | 17m 9s       | 0.549822          | 0.523036                          |             |"
      ]
     },
     "metadata": {},
     "output_type": "display_data"
    },
    {
     "data": {
      "text/html": [
       "<pre>| 760     | 17m 10s      | 0.549616          | 0.522851                          |             |</pre>"
      ],
      "text/plain": [
       "| 760     | 17m 10s      | 0.549616          | 0.522851                          |             |"
      ]
     },
     "metadata": {},
     "output_type": "display_data"
    },
    {
     "data": {
      "text/html": [
       "<pre>| 761     | 17m 11s      | 0.54941           | 0.522667                          |             |</pre>"
      ],
      "text/plain": [
       "| 761     | 17m 11s      | 0.54941           | 0.522667                          |             |"
      ]
     },
     "metadata": {},
     "output_type": "display_data"
    },
    {
     "data": {
      "text/html": [
       "<pre>| 762     | 17m 13s      | 0.549197          | 0.522477                          |             |</pre>"
      ],
      "text/plain": [
       "| 762     | 17m 13s      | 0.549197          | 0.522477                          |             |"
      ]
     },
     "metadata": {},
     "output_type": "display_data"
    },
    {
     "data": {
      "text/html": [
       "<pre>| 763     | 17m 14s      | 0.548993          | 0.522295                          |             |</pre>"
      ],
      "text/plain": [
       "| 763     | 17m 14s      | 0.548993          | 0.522295                          |             |"
      ]
     },
     "metadata": {},
     "output_type": "display_data"
    },
    {
     "data": {
      "text/html": [
       "<pre>| 764     | 17m 15s      | 0.548781          | 0.522106                          |             |</pre>"
      ],
      "text/plain": [
       "| 764     | 17m 15s      | 0.548781          | 0.522106                          |             |"
      ]
     },
     "metadata": {},
     "output_type": "display_data"
    },
    {
     "data": {
      "text/html": [
       "<pre>| 765     | 17m 17s      | 0.548575          | 0.521924                          |             |</pre>"
      ],
      "text/plain": [
       "| 765     | 17m 17s      | 0.548575          | 0.521924                          |             |"
      ]
     },
     "metadata": {},
     "output_type": "display_data"
    },
    {
     "data": {
      "text/html": [
       "<pre>| 766     | 17m 18s      | 0.548369          | 0.521741                          |             |</pre>"
      ],
      "text/plain": [
       "| 766     | 17m 18s      | 0.548369          | 0.521741                          |             |"
      ]
     },
     "metadata": {},
     "output_type": "display_data"
    },
    {
     "data": {
      "text/html": [
       "<pre>| 767     | 17m 19s      | 0.548163          | 0.521556                          |             |</pre>"
      ],
      "text/plain": [
       "| 767     | 17m 19s      | 0.548163          | 0.521556                          |             |"
      ]
     },
     "metadata": {},
     "output_type": "display_data"
    },
    {
     "data": {
      "text/html": [
       "<pre>| 768     | 17m 21s      | 0.547956          | 0.521372                          |             |</pre>"
      ],
      "text/plain": [
       "| 768     | 17m 21s      | 0.547956          | 0.521372                          |             |"
      ]
     },
     "metadata": {},
     "output_type": "display_data"
    },
    {
     "data": {
      "text/html": [
       "<pre>| 769     | 17m 22s      | 0.547756          | 0.521193                          |             |</pre>"
      ],
      "text/plain": [
       "| 769     | 17m 22s      | 0.547756          | 0.521193                          |             |"
      ]
     },
     "metadata": {},
     "output_type": "display_data"
    },
    {
     "data": {
      "text/html": [
       "<pre>| 770     | 17m 23s      | 0.547553          | 0.521014                          |             |</pre>"
      ],
      "text/plain": [
       "| 770     | 17m 23s      | 0.547553          | 0.521014                          |             |"
      ]
     },
     "metadata": {},
     "output_type": "display_data"
    },
    {
     "data": {
      "text/html": [
       "<pre>| 771     | 17m 25s      | 0.547348          | 0.52083                           |             |</pre>"
      ],
      "text/plain": [
       "| 771     | 17m 25s      | 0.547348          | 0.52083                           |             |"
      ]
     },
     "metadata": {},
     "output_type": "display_data"
    },
    {
     "data": {
      "text/html": [
       "<pre>| 772     | 17m 26s      | 0.547146          | 0.52065                           |             |</pre>"
      ],
      "text/plain": [
       "| 772     | 17m 26s      | 0.547146          | 0.52065                           |             |"
      ]
     },
     "metadata": {},
     "output_type": "display_data"
    },
    {
     "data": {
      "text/html": [
       "<pre>| 773     | 17m 28s      | 0.546944          | 0.520471                          |             |</pre>"
      ],
      "text/plain": [
       "| 773     | 17m 28s      | 0.546944          | 0.520471                          |             |"
      ]
     },
     "metadata": {},
     "output_type": "display_data"
    },
    {
     "data": {
      "text/html": [
       "<pre>| 774     | 17m 29s      | 0.546742          | 0.520291                          |             |</pre>"
      ],
      "text/plain": [
       "| 774     | 17m 29s      | 0.546742          | 0.520291                          |             |"
      ]
     },
     "metadata": {},
     "output_type": "display_data"
    },
    {
     "data": {
      "text/html": [
       "<pre>| 775     | 17m 30s      | 0.546542          | 0.520117                          |             |</pre>"
      ],
      "text/plain": [
       "| 775     | 17m 30s      | 0.546542          | 0.520117                          |             |"
      ]
     },
     "metadata": {},
     "output_type": "display_data"
    },
    {
     "data": {
      "text/html": [
       "<pre>| 776     | 17m 32s      | 0.546342          | 0.519937                          |             |</pre>"
      ],
      "text/plain": [
       "| 776     | 17m 32s      | 0.546342          | 0.519937                          |             |"
      ]
     },
     "metadata": {},
     "output_type": "display_data"
    },
    {
     "data": {
      "text/html": [
       "<pre>| 777     | 17m 33s      | 0.546144          | 0.519759                          |             |</pre>"
      ],
      "text/plain": [
       "| 777     | 17m 33s      | 0.546144          | 0.519759                          |             |"
      ]
     },
     "metadata": {},
     "output_type": "display_data"
    },
    {
     "data": {
      "text/html": [
       "<pre>| 778     | 17m 34s      | 0.545944          | 0.519582                          |             |</pre>"
      ],
      "text/plain": [
       "| 778     | 17m 34s      | 0.545944          | 0.519582                          |             |"
      ]
     },
     "metadata": {},
     "output_type": "display_data"
    },
    {
     "data": {
      "text/html": [
       "<pre>| 779     | 17m 36s      | 0.54575           | 0.519406                          |             |</pre>"
      ],
      "text/plain": [
       "| 779     | 17m 36s      | 0.54575           | 0.519406                          |             |"
      ]
     },
     "metadata": {},
     "output_type": "display_data"
    },
    {
     "data": {
      "text/html": [
       "<pre>| 780     | 17m 37s      | 0.545553          | 0.519232                          |             |</pre>"
      ],
      "text/plain": [
       "| 780     | 17m 37s      | 0.545553          | 0.519232                          |             |"
      ]
     },
     "metadata": {},
     "output_type": "display_data"
    },
    {
     "data": {
      "text/html": [
       "<pre>| 781     | 17m 38s      | 0.545347          | 0.519053                          |             |</pre>"
      ],
      "text/plain": [
       "| 781     | 17m 38s      | 0.545347          | 0.519053                          |             |"
      ]
     },
     "metadata": {},
     "output_type": "display_data"
    },
    {
     "data": {
      "text/html": [
       "<pre>| 782     | 17m 40s      | 0.545153          | 0.518879                          |             |</pre>"
      ],
      "text/plain": [
       "| 782     | 17m 40s      | 0.545153          | 0.518879                          |             |"
      ]
     },
     "metadata": {},
     "output_type": "display_data"
    },
    {
     "data": {
      "text/html": [
       "<pre>| 783     | 17m 41s      | 0.544956          | 0.518703                          |             |</pre>"
      ],
      "text/plain": [
       "| 783     | 17m 41s      | 0.544956          | 0.518703                          |             |"
      ]
     },
     "metadata": {},
     "output_type": "display_data"
    },
    {
     "data": {
      "text/html": [
       "<pre>| 784     | 17m 42s      | 0.54476           | 0.518527                          |             |</pre>"
      ],
      "text/plain": [
       "| 784     | 17m 42s      | 0.54476           | 0.518527                          |             |"
      ]
     },
     "metadata": {},
     "output_type": "display_data"
    },
    {
     "data": {
      "text/html": [
       "<pre>| 785     | 17m 44s      | 0.544567          | 0.518353                          |             |</pre>"
      ],
      "text/plain": [
       "| 785     | 17m 44s      | 0.544567          | 0.518353                          |             |"
      ]
     },
     "metadata": {},
     "output_type": "display_data"
    },
    {
     "data": {
      "text/html": [
       "<pre>| 786     | 17m 45s      | 0.544371          | 0.518179                          |             |</pre>"
      ],
      "text/plain": [
       "| 786     | 17m 45s      | 0.544371          | 0.518179                          |             |"
      ]
     },
     "metadata": {},
     "output_type": "display_data"
    },
    {
     "data": {
      "text/html": [
       "<pre>| 787     | 17m 46s      | 0.544177          | 0.518006                          |             |</pre>"
      ],
      "text/plain": [
       "| 787     | 17m 46s      | 0.544177          | 0.518006                          |             |"
      ]
     },
     "metadata": {},
     "output_type": "display_data"
    },
    {
     "data": {
      "text/html": [
       "<pre>| 788     | 17m 48s      | 0.543984          | 0.517833                          |             |</pre>"
      ],
      "text/plain": [
       "| 788     | 17m 48s      | 0.543984          | 0.517833                          |             |"
      ]
     },
     "metadata": {},
     "output_type": "display_data"
    },
    {
     "data": {
      "text/html": [
       "<pre>| 789     | 17m 49s      | 0.54379           | 0.517661                          |             |</pre>"
      ],
      "text/plain": [
       "| 789     | 17m 49s      | 0.54379           | 0.517661                          |             |"
      ]
     },
     "metadata": {},
     "output_type": "display_data"
    },
    {
     "data": {
      "text/html": [
       "<pre>| 790     | 17m 51s      | 0.543599          | 0.517491                          |             |</pre>"
      ],
      "text/plain": [
       "| 790     | 17m 51s      | 0.543599          | 0.517491                          |             |"
      ]
     },
     "metadata": {},
     "output_type": "display_data"
    },
    {
     "data": {
      "text/html": [
       "<pre>| 791     | 17m 52s      | 0.543402          | 0.517316                          |             |</pre>"
      ],
      "text/plain": [
       "| 791     | 17m 52s      | 0.543402          | 0.517316                          |             |"
      ]
     },
     "metadata": {},
     "output_type": "display_data"
    },
    {
     "data": {
      "text/html": [
       "<pre>| 792     | 17m 53s      | 0.543214          | 0.51715                           |             |</pre>"
      ],
      "text/plain": [
       "| 792     | 17m 53s      | 0.543214          | 0.51715                           |             |"
      ]
     },
     "metadata": {},
     "output_type": "display_data"
    },
    {
     "data": {
      "text/html": [
       "<pre>| 793     | 17m 54s      | 0.543021          | 0.516976                          |             |</pre>"
      ],
      "text/plain": [
       "| 793     | 17m 54s      | 0.543021          | 0.516976                          |             |"
      ]
     },
     "metadata": {},
     "output_type": "display_data"
    },
    {
     "data": {
      "text/html": [
       "<pre>| 794     | 17m 56s      | 0.542831          | 0.516807                          |             |</pre>"
      ],
      "text/plain": [
       "| 794     | 17m 56s      | 0.542831          | 0.516807                          |             |"
      ]
     },
     "metadata": {},
     "output_type": "display_data"
    },
    {
     "data": {
      "text/html": [
       "<pre>| 795     | 17m 57s      | 0.54264           | 0.516638                          |             |</pre>"
      ],
      "text/plain": [
       "| 795     | 17m 57s      | 0.54264           | 0.516638                          |             |"
      ]
     },
     "metadata": {},
     "output_type": "display_data"
    },
    {
     "data": {
      "text/html": [
       "<pre>| 796     | 17m 58s      | 0.542454          | 0.516471                          |             |</pre>"
      ],
      "text/plain": [
       "| 796     | 17m 58s      | 0.542454          | 0.516471                          |             |"
      ]
     },
     "metadata": {},
     "output_type": "display_data"
    },
    {
     "data": {
      "text/html": [
       "<pre>| 797     | 18m 0s       | 0.542261          | 0.516298                          |             |</pre>"
      ],
      "text/plain": [
       "| 797     | 18m 0s       | 0.542261          | 0.516298                          |             |"
      ]
     },
     "metadata": {},
     "output_type": "display_data"
    },
    {
     "data": {
      "text/html": [
       "<pre>| 798     | 18m 1s       | 0.542075          | 0.516134                          |             |</pre>"
      ],
      "text/plain": [
       "| 798     | 18m 1s       | 0.542075          | 0.516134                          |             |"
      ]
     },
     "metadata": {},
     "output_type": "display_data"
    },
    {
     "data": {
      "text/html": [
       "<pre>| 799     | 18m 2s       | 0.541891          | 0.515966                          |             |</pre>"
      ],
      "text/plain": [
       "| 799     | 18m 2s       | 0.541891          | 0.515966                          |             |"
      ]
     },
     "metadata": {},
     "output_type": "display_data"
    },
    {
     "data": {
      "text/html": [
       "<pre>| 800     | 18m 4s       | 0.541704          | 0.515799                          |             |</pre>"
      ],
      "text/plain": [
       "| 800     | 18m 4s       | 0.541704          | 0.515799                          |             |"
      ]
     },
     "metadata": {},
     "output_type": "display_data"
    },
    {
     "data": {
      "text/html": [
       "<pre>| 801     | 18m 5s       | 0.541516          | 0.515632                          |             |</pre>"
      ],
      "text/plain": [
       "| 801     | 18m 5s       | 0.541516          | 0.515632                          |             |"
      ]
     },
     "metadata": {},
     "output_type": "display_data"
    },
    {
     "data": {
      "text/html": [
       "<pre>| 802     | 18m 6s       | 0.541333          | 0.515469                          |             |</pre>"
      ],
      "text/plain": [
       "| 802     | 18m 6s       | 0.541333          | 0.515469                          |             |"
      ]
     },
     "metadata": {},
     "output_type": "display_data"
    },
    {
     "data": {
      "text/html": [
       "<pre>| 803     | 18m 8s       | 0.54115           | 0.515302                          |             |</pre>"
      ],
      "text/plain": [
       "| 803     | 18m 8s       | 0.54115           | 0.515302                          |             |"
      ]
     },
     "metadata": {},
     "output_type": "display_data"
    },
    {
     "data": {
      "text/html": [
       "<pre>| 804     | 18m 9s       | 0.540964          | 0.515138                          |             |</pre>"
      ],
      "text/plain": [
       "| 804     | 18m 9s       | 0.540964          | 0.515138                          |             |"
      ]
     },
     "metadata": {},
     "output_type": "display_data"
    },
    {
     "data": {
      "text/html": [
       "<pre>| 805     | 18m 10s      | 0.540775          | 0.514971                          |             |</pre>"
      ],
      "text/plain": [
       "| 805     | 18m 10s      | 0.540775          | 0.514971                          |             |"
      ]
     },
     "metadata": {},
     "output_type": "display_data"
    },
    {
     "data": {
      "text/html": [
       "<pre>| 806     | 18m 12s      | 0.540594          | 0.514809                          |             |</pre>"
      ],
      "text/plain": [
       "| 806     | 18m 12s      | 0.540594          | 0.514809                          |             |"
      ]
     },
     "metadata": {},
     "output_type": "display_data"
    },
    {
     "data": {
      "text/html": [
       "<pre>| 807     | 18m 13s      | 0.540412          | 0.514646                          |             |</pre>"
      ],
      "text/plain": [
       "| 807     | 18m 13s      | 0.540412          | 0.514646                          |             |"
      ]
     },
     "metadata": {},
     "output_type": "display_data"
    },
    {
     "data": {
      "text/html": [
       "<pre>| 808     | 18m 14s      | 0.540228          | 0.514481                          |             |</pre>"
      ],
      "text/plain": [
       "| 808     | 18m 14s      | 0.540228          | 0.514481                          |             |"
      ]
     },
     "metadata": {},
     "output_type": "display_data"
    },
    {
     "data": {
      "text/html": [
       "<pre>| 809     | 18m 15s      | 0.540047          | 0.514321                          |             |</pre>"
      ],
      "text/plain": [
       "| 809     | 18m 15s      | 0.540047          | 0.514321                          |             |"
      ]
     },
     "metadata": {},
     "output_type": "display_data"
    },
    {
     "data": {
      "text/html": [
       "<pre>| 810     | 18m 17s      | 0.53987           | 0.51416                           |             |</pre>"
      ],
      "text/plain": [
       "| 810     | 18m 17s      | 0.53987           | 0.51416                           |             |"
      ]
     },
     "metadata": {},
     "output_type": "display_data"
    },
    {
     "data": {
      "text/html": [
       "<pre>| 811     | 18m 18s      | 0.539685          | 0.513996                          |             |</pre>"
      ],
      "text/plain": [
       "| 811     | 18m 18s      | 0.539685          | 0.513996                          |             |"
      ]
     },
     "metadata": {},
     "output_type": "display_data"
    },
    {
     "data": {
      "text/html": [
       "<pre>| 812     | 18m 19s      | 0.539505          | 0.513833                          |             |</pre>"
      ],
      "text/plain": [
       "| 812     | 18m 19s      | 0.539505          | 0.513833                          |             |"
      ]
     },
     "metadata": {},
     "output_type": "display_data"
    },
    {
     "data": {
      "text/html": [
       "<pre>| 813     | 18m 21s      | 0.539325          | 0.513672                          |             |</pre>"
      ],
      "text/plain": [
       "| 813     | 18m 21s      | 0.539325          | 0.513672                          |             |"
      ]
     },
     "metadata": {},
     "output_type": "display_data"
    },
    {
     "data": {
      "text/html": [
       "<pre>| 814     | 18m 22s      | 0.539144          | 0.513511                          |             |</pre>"
      ],
      "text/plain": [
       "| 814     | 18m 22s      | 0.539144          | 0.513511                          |             |"
      ]
     },
     "metadata": {},
     "output_type": "display_data"
    },
    {
     "data": {
      "text/html": [
       "<pre>| 815     | 18m 23s      | 0.538966          | 0.513353                          |             |</pre>"
      ],
      "text/plain": [
       "| 815     | 18m 23s      | 0.538966          | 0.513353                          |             |"
      ]
     },
     "metadata": {},
     "output_type": "display_data"
    },
    {
     "data": {
      "text/html": [
       "<pre>| 816     | 18m 25s      | 0.53879           | 0.513194                          |             |</pre>"
      ],
      "text/plain": [
       "| 816     | 18m 25s      | 0.53879           | 0.513194                          |             |"
      ]
     },
     "metadata": {},
     "output_type": "display_data"
    },
    {
     "data": {
      "text/html": [
       "<pre>| 817     | 18m 26s      | 0.538615          | 0.513035                          |             |</pre>"
      ],
      "text/plain": [
       "| 817     | 18m 26s      | 0.538615          | 0.513035                          |             |"
      ]
     },
     "metadata": {},
     "output_type": "display_data"
    },
    {
     "data": {
      "text/html": [
       "<pre>| 818     | 18m 27s      | 0.538436          | 0.512875                          |             |</pre>"
      ],
      "text/plain": [
       "| 818     | 18m 27s      | 0.538436          | 0.512875                          |             |"
      ]
     },
     "metadata": {},
     "output_type": "display_data"
    },
    {
     "data": {
      "text/html": [
       "<pre>| 819     | 18m 29s      | 0.538263          | 0.512721                          |             |</pre>"
      ],
      "text/plain": [
       "| 819     | 18m 29s      | 0.538263          | 0.512721                          |             |"
      ]
     },
     "metadata": {},
     "output_type": "display_data"
    },
    {
     "data": {
      "text/html": [
       "<pre>| 820     | 18m 30s      | 0.538088          | 0.512562                          |             |</pre>"
      ],
      "text/plain": [
       "| 820     | 18m 30s      | 0.538088          | 0.512562                          |             |"
      ]
     },
     "metadata": {},
     "output_type": "display_data"
    },
    {
     "data": {
      "text/html": [
       "<pre>| 821     | 18m 31s      | 0.537911          | 0.512404                          |             |</pre>"
      ],
      "text/plain": [
       "| 821     | 18m 31s      | 0.537911          | 0.512404                          |             |"
      ]
     },
     "metadata": {},
     "output_type": "display_data"
    },
    {
     "data": {
      "text/html": [
       "<pre>| 822     | 18m 33s      | 0.537736          | 0.512248                          |             |</pre>"
      ],
      "text/plain": [
       "| 822     | 18m 33s      | 0.537736          | 0.512248                          |             |"
      ]
     },
     "metadata": {},
     "output_type": "display_data"
    },
    {
     "data": {
      "text/html": [
       "<pre>| 823     | 18m 34s      | 0.537564          | 0.512092                          |             |</pre>"
      ],
      "text/plain": [
       "| 823     | 18m 34s      | 0.537564          | 0.512092                          |             |"
      ]
     },
     "metadata": {},
     "output_type": "display_data"
    },
    {
     "data": {
      "text/html": [
       "<pre>| 824     | 18m 36s      | 0.537388          | 0.511936                          |             |</pre>"
      ],
      "text/plain": [
       "| 824     | 18m 36s      | 0.537388          | 0.511936                          |             |"
      ]
     },
     "metadata": {},
     "output_type": "display_data"
    },
    {
     "data": {
      "text/html": [
       "<pre>| 825     | 18m 37s      | 0.537218          | 0.511783                          |             |</pre>"
      ],
      "text/plain": [
       "| 825     | 18m 37s      | 0.537218          | 0.511783                          |             |"
      ]
     },
     "metadata": {},
     "output_type": "display_data"
    },
    {
     "data": {
      "text/html": [
       "<pre>| 826     | 18m 38s      | 0.537046          | 0.511629                          |             |</pre>"
      ],
      "text/plain": [
       "| 826     | 18m 38s      | 0.537046          | 0.511629                          |             |"
      ]
     },
     "metadata": {},
     "output_type": "display_data"
    },
    {
     "data": {
      "text/html": [
       "<pre>| 827     | 18m 40s      | 0.536876          | 0.511475                          |             |</pre>"
      ],
      "text/plain": [
       "| 827     | 18m 40s      | 0.536876          | 0.511475                          |             |"
      ]
     },
     "metadata": {},
     "output_type": "display_data"
    },
    {
     "data": {
      "text/html": [
       "<pre>| 828     | 18m 41s      | 0.536704          | 0.511321                          |             |</pre>"
      ],
      "text/plain": [
       "| 828     | 18m 41s      | 0.536704          | 0.511321                          |             |"
      ]
     },
     "metadata": {},
     "output_type": "display_data"
    },
    {
     "data": {
      "text/html": [
       "<pre>| 829     | 18m 42s      | 0.536535          | 0.51117                           |             |</pre>"
      ],
      "text/plain": [
       "| 829     | 18m 42s      | 0.536535          | 0.51117                           |             |"
      ]
     },
     "metadata": {},
     "output_type": "display_data"
    },
    {
     "data": {
      "text/html": [
       "<pre>| 830     | 18m 44s      | 0.536362          | 0.511013                          |             |</pre>"
      ],
      "text/plain": [
       "| 830     | 18m 44s      | 0.536362          | 0.511013                          |             |"
      ]
     },
     "metadata": {},
     "output_type": "display_data"
    },
    {
     "data": {
      "text/html": [
       "<pre>| 831     | 18m 45s      | 0.536195          | 0.510863                          |             |</pre>"
      ],
      "text/plain": [
       "| 831     | 18m 45s      | 0.536195          | 0.510863                          |             |"
      ]
     },
     "metadata": {},
     "output_type": "display_data"
    },
    {
     "data": {
      "text/html": [
       "<pre>| 832     | 18m 46s      | 0.536026          | 0.510711                          |             |</pre>"
      ],
      "text/plain": [
       "| 832     | 18m 46s      | 0.536026          | 0.510711                          |             |"
      ]
     },
     "metadata": {},
     "output_type": "display_data"
    },
    {
     "data": {
      "text/html": [
       "<pre>| 833     | 18m 47s      | 0.535858          | 0.510559                          |             |</pre>"
      ],
      "text/plain": [
       "| 833     | 18m 47s      | 0.535858          | 0.510559                          |             |"
      ]
     },
     "metadata": {},
     "output_type": "display_data"
    },
    {
     "data": {
      "text/html": [
       "<pre>| 834     | 18m 49s      | 0.535692          | 0.510409                          |             |</pre>"
      ],
      "text/plain": [
       "| 834     | 18m 49s      | 0.535692          | 0.510409                          |             |"
      ]
     },
     "metadata": {},
     "output_type": "display_data"
    },
    {
     "data": {
      "text/html": [
       "<pre>| 835     | 18m 50s      | 0.535524          | 0.510257                          |             |</pre>"
      ],
      "text/plain": [
       "| 835     | 18m 50s      | 0.535524          | 0.510257                          |             |"
      ]
     },
     "metadata": {},
     "output_type": "display_data"
    },
    {
     "data": {
      "text/html": [
       "<pre>| 836     | 18m 52s      | 0.535359          | 0.510109                          |             |</pre>"
      ],
      "text/plain": [
       "| 836     | 18m 52s      | 0.535359          | 0.510109                          |             |"
      ]
     },
     "metadata": {},
     "output_type": "display_data"
    },
    {
     "data": {
      "text/html": [
       "<pre>| 837     | 18m 53s      | 0.535192          | 0.509957                          |             |</pre>"
      ],
      "text/plain": [
       "| 837     | 18m 53s      | 0.535192          | 0.509957                          |             |"
      ]
     },
     "metadata": {},
     "output_type": "display_data"
    },
    {
     "data": {
      "text/html": [
       "<pre>| 838     | 18m 54s      | 0.535027          | 0.509809                          |             |</pre>"
      ],
      "text/plain": [
       "| 838     | 18m 54s      | 0.535027          | 0.509809                          |             |"
      ]
     },
     "metadata": {},
     "output_type": "display_data"
    },
    {
     "data": {
      "text/html": [
       "<pre>| 839     | 18m 56s      | 0.53486           | 0.509658                          |             |</pre>"
      ],
      "text/plain": [
       "| 839     | 18m 56s      | 0.53486           | 0.509658                          |             |"
      ]
     },
     "metadata": {},
     "output_type": "display_data"
    },
    {
     "data": {
      "text/html": [
       "<pre>| 840     | 18m 57s      | 0.534693          | 0.509511                          |             |</pre>"
      ],
      "text/plain": [
       "| 840     | 18m 57s      | 0.534693          | 0.509511                          |             |"
      ]
     },
     "metadata": {},
     "output_type": "display_data"
    },
    {
     "data": {
      "text/html": [
       "<pre>| 841     | 18m 58s      | 0.534531          | 0.509362                          |             |</pre>"
      ],
      "text/plain": [
       "| 841     | 18m 58s      | 0.534531          | 0.509362                          |             |"
      ]
     },
     "metadata": {},
     "output_type": "display_data"
    },
    {
     "data": {
      "text/html": [
       "<pre>| 842     | 19m 0s       | 0.534368          | 0.509215                          |             |</pre>"
      ],
      "text/plain": [
       "| 842     | 19m 0s       | 0.534368          | 0.509215                          |             |"
      ]
     },
     "metadata": {},
     "output_type": "display_data"
    },
    {
     "data": {
      "text/html": [
       "<pre>| 843     | 19m 1s       | 0.534203          | 0.509068                          |             |</pre>"
      ],
      "text/plain": [
       "| 843     | 19m 1s       | 0.534203          | 0.509068                          |             |"
      ]
     },
     "metadata": {},
     "output_type": "display_data"
    },
    {
     "data": {
      "text/html": [
       "<pre>| 844     | 19m 2s       | 0.534042          | 0.508922                          |             |</pre>"
      ],
      "text/plain": [
       "| 844     | 19m 2s       | 0.534042          | 0.508922                          |             |"
      ]
     },
     "metadata": {},
     "output_type": "display_data"
    },
    {
     "data": {
      "text/html": [
       "<pre>| 845     | 19m 4s       | 0.533879          | 0.508775                          |             |</pre>"
      ],
      "text/plain": [
       "| 845     | 19m 4s       | 0.533879          | 0.508775                          |             |"
      ]
     },
     "metadata": {},
     "output_type": "display_data"
    },
    {
     "data": {
      "text/html": [
       "<pre>| 846     | 19m 5s       | 0.533717          | 0.50863                           |             |</pre>"
      ],
      "text/plain": [
       "| 846     | 19m 5s       | 0.533717          | 0.50863                           |             |"
      ]
     },
     "metadata": {},
     "output_type": "display_data"
    },
    {
     "data": {
      "text/html": [
       "<pre>| 847     | 19m 6s       | 0.533558          | 0.508486                          |             |</pre>"
      ],
      "text/plain": [
       "| 847     | 19m 6s       | 0.533558          | 0.508486                          |             |"
      ]
     },
     "metadata": {},
     "output_type": "display_data"
    },
    {
     "data": {
      "text/html": [
       "<pre>| 848     | 19m 8s       | 0.533395          | 0.508338                          |             |</pre>"
      ],
      "text/plain": [
       "| 848     | 19m 8s       | 0.533395          | 0.508338                          |             |"
      ]
     },
     "metadata": {},
     "output_type": "display_data"
    },
    {
     "data": {
      "text/html": [
       "<pre>| 849     | 19m 9s       | 0.533237          | 0.508197                          |             |</pre>"
      ],
      "text/plain": [
       "| 849     | 19m 9s       | 0.533237          | 0.508197                          |             |"
      ]
     },
     "metadata": {},
     "output_type": "display_data"
    },
    {
     "data": {
      "text/html": [
       "<pre>| 850     | 19m 10s      | 0.53308           | 0.508053                          |             |</pre>"
      ],
      "text/plain": [
       "| 850     | 19m 10s      | 0.53308           | 0.508053                          |             |"
      ]
     },
     "metadata": {},
     "output_type": "display_data"
    },
    {
     "data": {
      "text/html": [
       "<pre>| 851     | 19m 12s      | 0.532916          | 0.507905                          |             |</pre>"
      ],
      "text/plain": [
       "| 851     | 19m 12s      | 0.532916          | 0.507905                          |             |"
      ]
     },
     "metadata": {},
     "output_type": "display_data"
    },
    {
     "data": {
      "text/html": [
       "<pre>| 852     | 19m 13s      | 0.532753          | 0.507761                          |             |</pre>"
      ],
      "text/plain": [
       "| 852     | 19m 13s      | 0.532753          | 0.507761                          |             |"
      ]
     },
     "metadata": {},
     "output_type": "display_data"
    },
    {
     "data": {
      "text/html": [
       "<pre>| 853     | 19m 14s      | 0.532601          | 0.50762                           |             |</pre>"
      ],
      "text/plain": [
       "| 853     | 19m 14s      | 0.532601          | 0.50762                           |             |"
      ]
     },
     "metadata": {},
     "output_type": "display_data"
    },
    {
     "data": {
      "text/html": [
       "<pre>| 854     | 19m 16s      | 0.532446          | 0.507481                          |             |</pre>"
      ],
      "text/plain": [
       "| 854     | 19m 16s      | 0.532446          | 0.507481                          |             |"
      ]
     },
     "metadata": {},
     "output_type": "display_data"
    },
    {
     "data": {
      "text/html": [
       "<pre>| 855     | 19m 17s      | 0.532285          | 0.507334                          |             |</pre>"
      ],
      "text/plain": [
       "| 855     | 19m 17s      | 0.532285          | 0.507334                          |             |"
      ]
     },
     "metadata": {},
     "output_type": "display_data"
    },
    {
     "data": {
      "text/html": [
       "<pre>| 856     | 19m 18s      | 0.532129          | 0.507192                          |             |</pre>"
      ],
      "text/plain": [
       "| 856     | 19m 18s      | 0.532129          | 0.507192                          |             |"
      ]
     },
     "metadata": {},
     "output_type": "display_data"
    },
    {
     "data": {
      "text/html": [
       "<pre>| 857     | 19m 20s      | 0.531971          | 0.507048                          |             |</pre>"
      ],
      "text/plain": [
       "| 857     | 19m 20s      | 0.531971          | 0.507048                          |             |"
      ]
     },
     "metadata": {},
     "output_type": "display_data"
    },
    {
     "data": {
      "text/html": [
       "<pre>| 858     | 19m 21s      | 0.531815          | 0.506905                          |             |</pre>"
      ],
      "text/plain": [
       "| 858     | 19m 21s      | 0.531815          | 0.506905                          |             |"
      ]
     },
     "metadata": {},
     "output_type": "display_data"
    },
    {
     "data": {
      "text/html": [
       "<pre>| 859     | 19m 22s      | 0.531661          | 0.506765                          |             |</pre>"
      ],
      "text/plain": [
       "| 859     | 19m 22s      | 0.531661          | 0.506765                          |             |"
      ]
     },
     "metadata": {},
     "output_type": "display_data"
    },
    {
     "data": {
      "text/html": [
       "<pre>| 860     | 19m 23s      | 0.531505          | 0.506624                          |             |</pre>"
      ],
      "text/plain": [
       "| 860     | 19m 23s      | 0.531505          | 0.506624                          |             |"
      ]
     },
     "metadata": {},
     "output_type": "display_data"
    },
    {
     "data": {
      "text/html": [
       "<pre>| 861     | 19m 25s      | 0.531354          | 0.506484                          |             |</pre>"
      ],
      "text/plain": [
       "| 861     | 19m 25s      | 0.531354          | 0.506484                          |             |"
      ]
     },
     "metadata": {},
     "output_type": "display_data"
    },
    {
     "data": {
      "text/html": [
       "<pre>| 862     | 19m 26s      | 0.5312            | 0.506344                          |             |</pre>"
      ],
      "text/plain": [
       "| 862     | 19m 26s      | 0.5312            | 0.506344                          |             |"
      ]
     },
     "metadata": {},
     "output_type": "display_data"
    },
    {
     "data": {
      "text/html": [
       "<pre>| 863     | 19m 27s      | 0.531047          | 0.506203                          |             |</pre>"
      ],
      "text/plain": [
       "| 863     | 19m 27s      | 0.531047          | 0.506203                          |             |"
      ]
     },
     "metadata": {},
     "output_type": "display_data"
    },
    {
     "data": {
      "text/html": [
       "<pre>| 864     | 19m 29s      | 0.530894          | 0.506063                          |             |</pre>"
      ],
      "text/plain": [
       "| 864     | 19m 29s      | 0.530894          | 0.506063                          |             |"
      ]
     },
     "metadata": {},
     "output_type": "display_data"
    },
    {
     "data": {
      "text/html": [
       "<pre>| 865     | 19m 30s      | 0.530742          | 0.505926                          |             |</pre>"
      ],
      "text/plain": [
       "| 865     | 19m 30s      | 0.530742          | 0.505926                          |             |"
      ]
     },
     "metadata": {},
     "output_type": "display_data"
    },
    {
     "data": {
      "text/html": [
       "<pre>| 866     | 19m 31s      | 0.53059           | 0.505786                          |             |</pre>"
      ],
      "text/plain": [
       "| 866     | 19m 31s      | 0.53059           | 0.505786                          |             |"
      ]
     },
     "metadata": {},
     "output_type": "display_data"
    },
    {
     "data": {
      "text/html": [
       "<pre>| 867     | 19m 33s      | 0.530439          | 0.505647                          |             |</pre>"
      ],
      "text/plain": [
       "| 867     | 19m 33s      | 0.530439          | 0.505647                          |             |"
      ]
     },
     "metadata": {},
     "output_type": "display_data"
    },
    {
     "data": {
      "text/html": [
       "<pre>| 868     | 19m 34s      | 0.530286          | 0.50551                           |             |</pre>"
      ],
      "text/plain": [
       "| 868     | 19m 34s      | 0.530286          | 0.50551                           |             |"
      ]
     },
     "metadata": {},
     "output_type": "display_data"
    },
    {
     "data": {
      "text/html": [
       "<pre>| 869     | 19m 35s      | 0.530134          | 0.50537                           |             |</pre>"
      ],
      "text/plain": [
       "| 869     | 19m 35s      | 0.530134          | 0.50537                           |             |"
      ]
     },
     "metadata": {},
     "output_type": "display_data"
    },
    {
     "data": {
      "text/html": [
       "<pre>| 870     | 19m 37s      | 0.529985          | 0.505233                          |             |</pre>"
      ],
      "text/plain": [
       "| 870     | 19m 37s      | 0.529985          | 0.505233                          |             |"
      ]
     },
     "metadata": {},
     "output_type": "display_data"
    },
    {
     "data": {
      "text/html": [
       "<pre>| 871     | 19m 38s      | 0.529835          | 0.505096                          |             |</pre>"
      ],
      "text/plain": [
       "| 871     | 19m 38s      | 0.529835          | 0.505096                          |             |"
      ]
     },
     "metadata": {},
     "output_type": "display_data"
    },
    {
     "data": {
      "text/html": [
       "<pre>| 872     | 19m 40s      | 0.529685          | 0.504959                          |             |</pre>"
      ],
      "text/plain": [
       "| 872     | 19m 40s      | 0.529685          | 0.504959                          |             |"
      ]
     },
     "metadata": {},
     "output_type": "display_data"
    },
    {
     "data": {
      "text/html": [
       "<pre>| 873     | 19m 41s      | 0.529532          | 0.504821                          |             |</pre>"
      ],
      "text/plain": [
       "| 873     | 19m 41s      | 0.529532          | 0.504821                          |             |"
      ]
     },
     "metadata": {},
     "output_type": "display_data"
    },
    {
     "data": {
      "text/html": [
       "<pre>| 874     | 19m 42s      | 0.529387          | 0.504688                          |             |</pre>"
      ],
      "text/plain": [
       "| 874     | 19m 42s      | 0.529387          | 0.504688                          |             |"
      ]
     },
     "metadata": {},
     "output_type": "display_data"
    },
    {
     "data": {
      "text/html": [
       "<pre>| 875     | 19m 44s      | 0.529239          | 0.50455                           |             |</pre>"
      ],
      "text/plain": [
       "| 875     | 19m 44s      | 0.529239          | 0.50455                           |             |"
      ]
     },
     "metadata": {},
     "output_type": "display_data"
    },
    {
     "data": {
      "text/html": [
       "<pre>| 876     | 19m 45s      | 0.52909           | 0.504413                          |             |</pre>"
      ],
      "text/plain": [
       "| 876     | 19m 45s      | 0.52909           | 0.504413                          |             |"
      ]
     },
     "metadata": {},
     "output_type": "display_data"
    },
    {
     "data": {
      "text/html": [
       "<pre>| 877     | 19m 46s      | 0.528943          | 0.50428                           |             |</pre>"
      ],
      "text/plain": [
       "| 877     | 19m 46s      | 0.528943          | 0.50428                           |             |"
      ]
     },
     "metadata": {},
     "output_type": "display_data"
    },
    {
     "data": {
      "text/html": [
       "<pre>| 878     | 19m 48s      | 0.528797          | 0.504145                          |             |</pre>"
      ],
      "text/plain": [
       "| 878     | 19m 48s      | 0.528797          | 0.504145                          |             |"
      ]
     },
     "metadata": {},
     "output_type": "display_data"
    },
    {
     "data": {
      "text/html": [
       "<pre>| 879     | 19m 49s      | 0.528653          | 0.50401                           |             |</pre>"
      ],
      "text/plain": [
       "| 879     | 19m 49s      | 0.528653          | 0.50401                           |             |"
      ]
     },
     "metadata": {},
     "output_type": "display_data"
    },
    {
     "data": {
      "text/html": [
       "<pre>| 880     | 19m 50s      | 0.528505          | 0.503875                          |             |</pre>"
      ],
      "text/plain": [
       "| 880     | 19m 50s      | 0.528505          | 0.503875                          |             |"
      ]
     },
     "metadata": {},
     "output_type": "display_data"
    },
    {
     "data": {
      "text/html": [
       "<pre>| 881     | 19m 52s      | 0.52836           | 0.503741                          |             |</pre>"
      ],
      "text/plain": [
       "| 881     | 19m 52s      | 0.52836           | 0.503741                          |             |"
      ]
     },
     "metadata": {},
     "output_type": "display_data"
    },
    {
     "data": {
      "text/html": [
       "<pre>| 882     | 19m 53s      | 0.528219          | 0.503611                          |             |</pre>"
      ],
      "text/plain": [
       "| 882     | 19m 53s      | 0.528219          | 0.503611                          |             |"
      ]
     },
     "metadata": {},
     "output_type": "display_data"
    },
    {
     "data": {
      "text/html": [
       "<pre>| 883     | 19m 54s      | 0.52807           | 0.503473                          |             |</pre>"
      ],
      "text/plain": [
       "| 883     | 19m 54s      | 0.52807           | 0.503473                          |             |"
      ]
     },
     "metadata": {},
     "output_type": "display_data"
    },
    {
     "data": {
      "text/html": [
       "<pre>| 884     | 19m 56s      | 0.527927          | 0.503342                          |             |</pre>"
      ],
      "text/plain": [
       "| 884     | 19m 56s      | 0.527927          | 0.503342                          |             |"
      ]
     },
     "metadata": {},
     "output_type": "display_data"
    },
    {
     "data": {
      "text/html": [
       "<pre>| 885     | 19m 57s      | 0.527785          | 0.503209                          |             |</pre>"
      ],
      "text/plain": [
       "| 885     | 19m 57s      | 0.527785          | 0.503209                          |             |"
      ]
     },
     "metadata": {},
     "output_type": "display_data"
    },
    {
     "data": {
      "text/html": [
       "<pre>| 886     | 19m 58s      | 0.527642          | 0.503077                          |             |</pre>"
      ],
      "text/plain": [
       "| 886     | 19m 58s      | 0.527642          | 0.503077                          |             |"
      ]
     },
     "metadata": {},
     "output_type": "display_data"
    },
    {
     "data": {
      "text/html": [
       "<pre>| 887     | 20m 0s       | 0.527501          | 0.502947                          |             |</pre>"
      ],
      "text/plain": [
       "| 887     | 20m 0s       | 0.527501          | 0.502947                          |             |"
      ]
     },
     "metadata": {},
     "output_type": "display_data"
    },
    {
     "data": {
      "text/html": [
       "<pre>| 888     | 20m 1s       | 0.527352          | 0.502811                          |             |</pre>"
      ],
      "text/plain": [
       "| 888     | 20m 1s       | 0.527352          | 0.502811                          |             |"
      ]
     },
     "metadata": {},
     "output_type": "display_data"
    },
    {
     "data": {
      "text/html": [
       "<pre>| 889     | 20m 3s       | 0.527212          | 0.502682                          |             |</pre>"
      ],
      "text/plain": [
       "| 889     | 20m 3s       | 0.527212          | 0.502682                          |             |"
      ]
     },
     "metadata": {},
     "output_type": "display_data"
    },
    {
     "data": {
      "text/html": [
       "<pre>| 890     | 20m 4s       | 0.527071          | 0.50255                           |             |</pre>"
      ],
      "text/plain": [
       "| 890     | 20m 4s       | 0.527071          | 0.50255                           |             |"
      ]
     },
     "metadata": {},
     "output_type": "display_data"
    },
    {
     "data": {
      "text/html": [
       "<pre>| 891     | 20m 5s       | 0.526929          | 0.502419                          |             |</pre>"
      ],
      "text/plain": [
       "| 891     | 20m 5s       | 0.526929          | 0.502419                          |             |"
      ]
     },
     "metadata": {},
     "output_type": "display_data"
    },
    {
     "data": {
      "text/html": [
       "<pre>| 892     | 20m 7s       | 0.526784          | 0.502285                          |             |</pre>"
      ],
      "text/plain": [
       "| 892     | 20m 7s       | 0.526784          | 0.502285                          |             |"
      ]
     },
     "metadata": {},
     "output_type": "display_data"
    },
    {
     "data": {
      "text/html": [
       "<pre>| 893     | 20m 8s       | 0.526645          | 0.502155                          |             |</pre>"
      ],
      "text/plain": [
       "| 893     | 20m 8s       | 0.526645          | 0.502155                          |             |"
      ]
     },
     "metadata": {},
     "output_type": "display_data"
    },
    {
     "data": {
      "text/html": [
       "<pre>| 894     | 20m 9s       | 0.526506          | 0.502025                          |             |</pre>"
      ],
      "text/plain": [
       "| 894     | 20m 9s       | 0.526506          | 0.502025                          |             |"
      ]
     },
     "metadata": {},
     "output_type": "display_data"
    },
    {
     "data": {
      "text/html": [
       "<pre>| 895     | 20m 11s      | 0.526367          | 0.501895                          |             |</pre>"
      ],
      "text/plain": [
       "| 895     | 20m 11s      | 0.526367          | 0.501895                          |             |"
      ]
     },
     "metadata": {},
     "output_type": "display_data"
    },
    {
     "data": {
      "text/html": [
       "<pre>| 896     | 20m 12s      | 0.52623           | 0.501766                          |             |</pre>"
      ],
      "text/plain": [
       "| 896     | 20m 12s      | 0.52623           | 0.501766                          |             |"
      ]
     },
     "metadata": {},
     "output_type": "display_data"
    },
    {
     "data": {
      "text/html": [
       "<pre>| 897     | 20m 13s      | 0.52609           | 0.501636                          |             |</pre>"
      ],
      "text/plain": [
       "| 897     | 20m 13s      | 0.52609           | 0.501636                          |             |"
      ]
     },
     "metadata": {},
     "output_type": "display_data"
    },
    {
     "data": {
      "text/html": [
       "<pre>| 898     | 20m 14s      | 0.525954          | 0.501508                          |             |</pre>"
      ],
      "text/plain": [
       "| 898     | 20m 14s      | 0.525954          | 0.501508                          |             |"
      ]
     },
     "metadata": {},
     "output_type": "display_data"
    },
    {
     "data": {
      "text/html": [
       "<pre>| 899     | 20m 16s      | 0.525817          | 0.50138                           |             |</pre>"
      ],
      "text/plain": [
       "| 899     | 20m 16s      | 0.525817          | 0.50138                           |             |"
      ]
     },
     "metadata": {},
     "output_type": "display_data"
    },
    {
     "data": {
      "text/html": [
       "<pre>| 900     | 20m 17s      | 0.525677          | 0.501249                          |             |</pre>"
      ],
      "text/plain": [
       "| 900     | 20m 17s      | 0.525677          | 0.501249                          |             |"
      ]
     },
     "metadata": {},
     "output_type": "display_data"
    },
    {
     "data": {
      "text/html": [
       "<pre>| 901     | 20m 18s      | 0.525541          | 0.501121                          |             |</pre>"
      ],
      "text/plain": [
       "| 901     | 20m 18s      | 0.525541          | 0.501121                          |             |"
      ]
     },
     "metadata": {},
     "output_type": "display_data"
    },
    {
     "data": {
      "text/html": [
       "<pre>| 902     | 20m 20s      | 0.525407          | 0.500995                          |             |</pre>"
      ],
      "text/plain": [
       "| 902     | 20m 20s      | 0.525407          | 0.500995                          |             |"
      ]
     },
     "metadata": {},
     "output_type": "display_data"
    },
    {
     "data": {
      "text/html": [
       "<pre>| 903     | 20m 21s      | 0.525272          | 0.500866                          |             |</pre>"
      ],
      "text/plain": [
       "| 903     | 20m 21s      | 0.525272          | 0.500866                          |             |"
      ]
     },
     "metadata": {},
     "output_type": "display_data"
    },
    {
     "data": {
      "text/html": [
       "<pre>| 904     | 20m 22s      | 0.525134          | 0.500737                          |             |</pre>"
      ],
      "text/plain": [
       "| 904     | 20m 22s      | 0.525134          | 0.500737                          |             |"
      ]
     },
     "metadata": {},
     "output_type": "display_data"
    },
    {
     "data": {
      "text/html": [
       "<pre>| 905     | 20m 24s      | 0.524999          | 0.50061                           |             |</pre>"
      ],
      "text/plain": [
       "| 905     | 20m 24s      | 0.524999          | 0.50061                           |             |"
      ]
     },
     "metadata": {},
     "output_type": "display_data"
    },
    {
     "data": {
      "text/html": [
       "<pre>| 906     | 20m 25s      | 0.524862          | 0.50048                           |             |</pre>"
      ],
      "text/plain": [
       "| 906     | 20m 25s      | 0.524862          | 0.50048                           |             |"
      ]
     },
     "metadata": {},
     "output_type": "display_data"
    },
    {
     "data": {
      "text/html": [
       "<pre>| 907     | 20m 26s      | 0.524728          | 0.500353                          |             |</pre>"
      ],
      "text/plain": [
       "| 907     | 20m 26s      | 0.524728          | 0.500353                          |             |"
      ]
     },
     "metadata": {},
     "output_type": "display_data"
    },
    {
     "data": {
      "text/html": [
       "<pre>| 908     | 20m 28s      | 0.524598          | 0.500229                          |             |</pre>"
      ],
      "text/plain": [
       "| 908     | 20m 28s      | 0.524598          | 0.500229                          |             |"
      ]
     },
     "metadata": {},
     "output_type": "display_data"
    },
    {
     "data": {
      "text/html": [
       "<pre>| 909     | 20m 29s      | 0.524463          | 0.500101                          |             |</pre>"
      ],
      "text/plain": [
       "| 909     | 20m 29s      | 0.524463          | 0.500101                          |             |"
      ]
     },
     "metadata": {},
     "output_type": "display_data"
    },
    {
     "data": {
      "text/html": [
       "<pre>| 910     | 20m 30s      | 0.524331          | 0.499976                          |             |</pre>"
      ],
      "text/plain": [
       "| 910     | 20m 30s      | 0.524331          | 0.499976                          |             |"
      ]
     },
     "metadata": {},
     "output_type": "display_data"
    },
    {
     "data": {
      "text/html": [
       "<pre>| 911     | 20m 32s      | 0.524198          | 0.499849                          |             |</pre>"
      ],
      "text/plain": [
       "| 911     | 20m 32s      | 0.524198          | 0.499849                          |             |"
      ]
     },
     "metadata": {},
     "output_type": "display_data"
    },
    {
     "data": {
      "text/html": [
       "<pre>| 912     | 20m 33s      | 0.524065          | 0.499724                          |             |</pre>"
      ],
      "text/plain": [
       "| 912     | 20m 33s      | 0.524065          | 0.499724                          |             |"
      ]
     },
     "metadata": {},
     "output_type": "display_data"
    },
    {
     "data": {
      "text/html": [
       "<pre>| 913     | 20m 34s      | 0.523934          | 0.4996                            |             |</pre>"
      ],
      "text/plain": [
       "| 913     | 20m 34s      | 0.523934          | 0.4996                            |             |"
      ]
     },
     "metadata": {},
     "output_type": "display_data"
    },
    {
     "data": {
      "text/html": [
       "<pre>| 914     | 20m 36s      | 0.523802          | 0.499476                          |             |</pre>"
      ],
      "text/plain": [
       "| 914     | 20m 36s      | 0.523802          | 0.499476                          |             |"
      ]
     },
     "metadata": {},
     "output_type": "display_data"
    },
    {
     "data": {
      "text/html": [
       "<pre>| 915     | 20m 37s      | 0.52367           | 0.49935                           |             |</pre>"
      ],
      "text/plain": [
       "| 915     | 20m 37s      | 0.52367           | 0.49935                           |             |"
      ]
     },
     "metadata": {},
     "output_type": "display_data"
    },
    {
     "data": {
      "text/html": [
       "<pre>| 916     | 20m 38s      | 0.523538          | 0.499226                          |             |</pre>"
      ],
      "text/plain": [
       "| 916     | 20m 38s      | 0.523538          | 0.499226                          |             |"
      ]
     },
     "metadata": {},
     "output_type": "display_data"
    },
    {
     "data": {
      "text/html": [
       "<pre>| 917     | 20m 40s      | 0.523404          | 0.499101                          |             |</pre>"
      ],
      "text/plain": [
       "| 917     | 20m 40s      | 0.523404          | 0.499101                          |             |"
      ]
     },
     "metadata": {},
     "output_type": "display_data"
    },
    {
     "data": {
      "text/html": [
       "<pre>| 918     | 20m 41s      | 0.523275          | 0.498977                          |             |</pre>"
      ],
      "text/plain": [
       "| 918     | 20m 41s      | 0.523275          | 0.498977                          |             |"
      ]
     },
     "metadata": {},
     "output_type": "display_data"
    },
    {
     "data": {
      "text/html": [
       "<pre>| 919     | 20m 42s      | 0.523144          | 0.498853                          |             |</pre>"
      ],
      "text/plain": [
       "| 919     | 20m 42s      | 0.523144          | 0.498853                          |             |"
      ]
     },
     "metadata": {},
     "output_type": "display_data"
    },
    {
     "data": {
      "text/html": [
       "<pre>| 920     | 20m 44s      | 0.523015          | 0.49873                           |             |</pre>"
      ],
      "text/plain": [
       "| 920     | 20m 44s      | 0.523015          | 0.49873                           |             |"
      ]
     },
     "metadata": {},
     "output_type": "display_data"
    },
    {
     "data": {
      "text/html": [
       "<pre>| 921     | 20m 45s      | 0.522887          | 0.498608                          |             |</pre>"
      ],
      "text/plain": [
       "| 921     | 20m 45s      | 0.522887          | 0.498608                          |             |"
      ]
     },
     "metadata": {},
     "output_type": "display_data"
    },
    {
     "data": {
      "text/html": [
       "<pre>| 922     | 20m 47s      | 0.522758          | 0.498485                          |             |</pre>"
      ],
      "text/plain": [
       "| 922     | 20m 47s      | 0.522758          | 0.498485                          |             |"
      ]
     },
     "metadata": {},
     "output_type": "display_data"
    },
    {
     "data": {
      "text/html": [
       "<pre>| 923     | 20m 48s      | 0.52263           | 0.498362                          |             |</pre>"
      ],
      "text/plain": [
       "| 923     | 20m 48s      | 0.52263           | 0.498362                          |             |"
      ]
     },
     "metadata": {},
     "output_type": "display_data"
    },
    {
     "data": {
      "text/html": [
       "<pre>| 924     | 20m 49s      | 0.522501          | 0.49824                           |             |</pre>"
      ],
      "text/plain": [
       "| 924     | 20m 49s      | 0.522501          | 0.49824                           |             |"
      ]
     },
     "metadata": {},
     "output_type": "display_data"
    },
    {
     "data": {
      "text/html": [
       "<pre>| 925     | 20m 51s      | 0.522372          | 0.498118                          |             |</pre>"
      ],
      "text/plain": [
       "| 925     | 20m 51s      | 0.522372          | 0.498118                          |             |"
      ]
     },
     "metadata": {},
     "output_type": "display_data"
    },
    {
     "data": {
      "text/html": [
       "<pre>| 926     | 20m 52s      | 0.522245          | 0.497996                          |             |</pre>"
      ],
      "text/plain": [
       "| 926     | 20m 52s      | 0.522245          | 0.497996                          |             |"
      ]
     },
     "metadata": {},
     "output_type": "display_data"
    },
    {
     "data": {
      "text/html": [
       "<pre>| 927     | 20m 53s      | 0.52212           | 0.497876                          |             |</pre>"
      ],
      "text/plain": [
       "| 927     | 20m 53s      | 0.52212           | 0.497876                          |             |"
      ]
     },
     "metadata": {},
     "output_type": "display_data"
    },
    {
     "data": {
      "text/html": [
       "<pre>| 928     | 20m 55s      | 0.521992          | 0.497754                          |             |</pre>"
      ],
      "text/plain": [
       "| 928     | 20m 55s      | 0.521992          | 0.497754                          |             |"
      ]
     },
     "metadata": {},
     "output_type": "display_data"
    },
    {
     "data": {
      "text/html": [
       "<pre>| 929     | 20m 56s      | 0.521867          | 0.497633                          |             |</pre>"
      ],
      "text/plain": [
       "| 929     | 20m 56s      | 0.521867          | 0.497633                          |             |"
      ]
     },
     "metadata": {},
     "output_type": "display_data"
    },
    {
     "data": {
      "text/html": [
       "<pre>| 930     | 20m 57s      | 0.521741          | 0.497514                          |             |</pre>"
      ],
      "text/plain": [
       "| 930     | 20m 57s      | 0.521741          | 0.497514                          |             |"
      ]
     },
     "metadata": {},
     "output_type": "display_data"
    },
    {
     "data": {
      "text/html": [
       "<pre>| 931     | 20m 59s      | 0.521619          | 0.497395                          |             |</pre>"
      ],
      "text/plain": [
       "| 931     | 20m 59s      | 0.521619          | 0.497395                          |             |"
      ]
     },
     "metadata": {},
     "output_type": "display_data"
    },
    {
     "data": {
      "text/html": [
       "<pre>| 932     | 21m 0s       | 0.521493          | 0.497275                          |             |</pre>"
      ],
      "text/plain": [
       "| 932     | 21m 0s       | 0.521493          | 0.497275                          |             |"
      ]
     },
     "metadata": {},
     "output_type": "display_data"
    },
    {
     "data": {
      "text/html": [
       "<pre>| 933     | 21m 1s       | 0.521366          | 0.497153                          |             |</pre>"
      ],
      "text/plain": [
       "| 933     | 21m 1s       | 0.521366          | 0.497153                          |             |"
      ]
     },
     "metadata": {},
     "output_type": "display_data"
    },
    {
     "data": {
      "text/html": [
       "<pre>| 934     | 21m 3s       | 0.521244          | 0.497035                          |             |</pre>"
      ],
      "text/plain": [
       "| 934     | 21m 3s       | 0.521244          | 0.497035                          |             |"
      ]
     },
     "metadata": {},
     "output_type": "display_data"
    },
    {
     "data": {
      "text/html": [
       "<pre>| 935     | 21m 4s       | 0.521121          | 0.496915                          |             |</pre>"
      ],
      "text/plain": [
       "| 935     | 21m 4s       | 0.521121          | 0.496915                          |             |"
      ]
     },
     "metadata": {},
     "output_type": "display_data"
    },
    {
     "data": {
      "text/html": [
       "<pre>| 936     | 21m 6s       | 0.520998          | 0.496797                          |             |</pre>"
      ],
      "text/plain": [
       "| 936     | 21m 6s       | 0.520998          | 0.496797                          |             |"
      ]
     },
     "metadata": {},
     "output_type": "display_data"
    },
    {
     "data": {
      "text/html": [
       "<pre>| 937     | 21m 7s       | 0.520876          | 0.496679                          |             |</pre>"
      ],
      "text/plain": [
       "| 937     | 21m 7s       | 0.520876          | 0.496679                          |             |"
      ]
     },
     "metadata": {},
     "output_type": "display_data"
    },
    {
     "data": {
      "text/html": [
       "<pre>| 938     | 21m 8s       | 0.520751          | 0.496558                          |             |</pre>"
      ],
      "text/plain": [
       "| 938     | 21m 8s       | 0.520751          | 0.496558                          |             |"
      ]
     },
     "metadata": {},
     "output_type": "display_data"
    },
    {
     "data": {
      "text/html": [
       "<pre>| 939     | 21m 10s      | 0.520631          | 0.496441                          |             |</pre>"
      ],
      "text/plain": [
       "| 939     | 21m 10s      | 0.520631          | 0.496441                          |             |"
      ]
     },
     "metadata": {},
     "output_type": "display_data"
    },
    {
     "data": {
      "text/html": [
       "<pre>| 940     | 21m 11s      | 0.520511          | 0.496326                          |             |</pre>"
      ],
      "text/plain": [
       "| 940     | 21m 11s      | 0.520511          | 0.496326                          |             |"
      ]
     },
     "metadata": {},
     "output_type": "display_data"
    },
    {
     "data": {
      "text/html": [
       "<pre>| 941     | 21m 12s      | 0.520388          | 0.496207                          |             |</pre>"
      ],
      "text/plain": [
       "| 941     | 21m 12s      | 0.520388          | 0.496207                          |             |"
      ]
     },
     "metadata": {},
     "output_type": "display_data"
    },
    {
     "data": {
      "text/html": [
       "<pre>| 942     | 21m 14s      | 0.520268          | 0.49609                           |             |</pre>"
      ],
      "text/plain": [
       "| 942     | 21m 14s      | 0.520268          | 0.49609                           |             |"
      ]
     },
     "metadata": {},
     "output_type": "display_data"
    },
    {
     "data": {
      "text/html": [
       "<pre>| 943     | 21m 15s      | 0.520145          | 0.495971                          |             |</pre>"
      ],
      "text/plain": [
       "| 943     | 21m 15s      | 0.520145          | 0.495971                          |             |"
      ]
     },
     "metadata": {},
     "output_type": "display_data"
    },
    {
     "data": {
      "text/html": [
       "<pre>| 944     | 21m 16s      | 0.520025          | 0.495854                          |             |</pre>"
      ],
      "text/plain": [
       "| 944     | 21m 16s      | 0.520025          | 0.495854                          |             |"
      ]
     },
     "metadata": {},
     "output_type": "display_data"
    },
    {
     "data": {
      "text/html": [
       "<pre>| 945     | 21m 18s      | 0.519907          | 0.495738                          |             |</pre>"
      ],
      "text/plain": [
       "| 945     | 21m 18s      | 0.519907          | 0.495738                          |             |"
      ]
     },
     "metadata": {},
     "output_type": "display_data"
    },
    {
     "data": {
      "text/html": [
       "<pre>| 946     | 21m 19s      | 0.519786          | 0.49562                           |             |</pre>"
      ],
      "text/plain": [
       "| 946     | 21m 19s      | 0.519786          | 0.49562                           |             |"
      ]
     },
     "metadata": {},
     "output_type": "display_data"
    },
    {
     "data": {
      "text/html": [
       "<pre>| 947     | 21m 20s      | 0.519666          | 0.495504                          |             |</pre>"
      ],
      "text/plain": [
       "| 947     | 21m 20s      | 0.519666          | 0.495504                          |             |"
      ]
     },
     "metadata": {},
     "output_type": "display_data"
    },
    {
     "data": {
      "text/html": [
       "<pre>| 948     | 21m 22s      | 0.519546          | 0.495386                          |             |</pre>"
      ],
      "text/plain": [
       "| 948     | 21m 22s      | 0.519546          | 0.495386                          |             |"
      ]
     },
     "metadata": {},
     "output_type": "display_data"
    },
    {
     "data": {
      "text/html": [
       "<pre>| 949     | 21m 23s      | 0.519428          | 0.495271                          |             |</pre>"
      ],
      "text/plain": [
       "| 949     | 21m 23s      | 0.519428          | 0.495271                          |             |"
      ]
     },
     "metadata": {},
     "output_type": "display_data"
    },
    {
     "data": {
      "text/html": [
       "<pre>| 950     | 21m 24s      | 0.519309          | 0.495155                          |             |</pre>"
      ],
      "text/plain": [
       "| 950     | 21m 24s      | 0.519309          | 0.495155                          |             |"
      ]
     },
     "metadata": {},
     "output_type": "display_data"
    },
    {
     "data": {
      "text/html": [
       "<pre>| 951     | 21m 25s      | 0.519191          | 0.495039                          |             |</pre>"
      ],
      "text/plain": [
       "| 951     | 21m 25s      | 0.519191          | 0.495039                          |             |"
      ]
     },
     "metadata": {},
     "output_type": "display_data"
    },
    {
     "data": {
      "text/html": [
       "<pre>| 952     | 21m 27s      | 0.519071          | 0.494922                          |             |</pre>"
      ],
      "text/plain": [
       "| 952     | 21m 27s      | 0.519071          | 0.494922                          |             |"
      ]
     },
     "metadata": {},
     "output_type": "display_data"
    },
    {
     "data": {
      "text/html": [
       "<pre>| 953     | 21m 28s      | 0.518954          | 0.494807                          |             |</pre>"
      ],
      "text/plain": [
       "| 953     | 21m 28s      | 0.518954          | 0.494807                          |             |"
      ]
     },
     "metadata": {},
     "output_type": "display_data"
    },
    {
     "data": {
      "text/html": [
       "<pre>| 954     | 21m 30s      | 0.518837          | 0.494693                          |             |</pre>"
      ],
      "text/plain": [
       "| 954     | 21m 30s      | 0.518837          | 0.494693                          |             |"
      ]
     },
     "metadata": {},
     "output_type": "display_data"
    },
    {
     "data": {
      "text/html": [
       "<pre>| 955     | 21m 31s      | 0.518719          | 0.494577                          |             |</pre>"
      ],
      "text/plain": [
       "| 955     | 21m 31s      | 0.518719          | 0.494577                          |             |"
      ]
     },
     "metadata": {},
     "output_type": "display_data"
    },
    {
     "data": {
      "text/html": [
       "<pre>| 956     | 21m 32s      | 0.518601          | 0.494462                          |             |</pre>"
      ],
      "text/plain": [
       "| 956     | 21m 32s      | 0.518601          | 0.494462                          |             |"
      ]
     },
     "metadata": {},
     "output_type": "display_data"
    },
    {
     "data": {
      "text/html": [
       "<pre>| 957     | 21m 34s      | 0.518487          | 0.494348                          |             |</pre>"
      ],
      "text/plain": [
       "| 957     | 21m 34s      | 0.518487          | 0.494348                          |             |"
      ]
     },
     "metadata": {},
     "output_type": "display_data"
    },
    {
     "data": {
      "text/html": [
       "<pre>| 958     | 21m 35s      | 0.518372          | 0.494234                          |             |</pre>"
      ],
      "text/plain": [
       "| 958     | 21m 35s      | 0.518372          | 0.494234                          |             |"
      ]
     },
     "metadata": {},
     "output_type": "display_data"
    },
    {
     "data": {
      "text/html": [
       "<pre>| 959     | 21m 36s      | 0.518254          | 0.494119                          |             |</pre>"
      ],
      "text/plain": [
       "| 959     | 21m 36s      | 0.518254          | 0.494119                          |             |"
      ]
     },
     "metadata": {},
     "output_type": "display_data"
    },
    {
     "data": {
      "text/html": [
       "<pre>| 960     | 21m 38s      | 0.518138          | 0.494005                          |             |</pre>"
      ],
      "text/plain": [
       "| 960     | 21m 38s      | 0.518138          | 0.494005                          |             |"
      ]
     },
     "metadata": {},
     "output_type": "display_data"
    },
    {
     "data": {
      "text/html": [
       "<pre>| 961     | 21m 39s      | 0.518025          | 0.493893                          |             |</pre>"
      ],
      "text/plain": [
       "| 961     | 21m 39s      | 0.518025          | 0.493893                          |             |"
      ]
     },
     "metadata": {},
     "output_type": "display_data"
    },
    {
     "data": {
      "text/html": [
       "<pre>| 962     | 21m 40s      | 0.51791           | 0.49378                           |             |</pre>"
      ],
      "text/plain": [
       "| 962     | 21m 40s      | 0.51791           | 0.49378                           |             |"
      ]
     },
     "metadata": {},
     "output_type": "display_data"
    },
    {
     "data": {
      "text/html": [
       "<pre>| 963     | 21m 42s      | 0.517796          | 0.493666                          |             |</pre>"
      ],
      "text/plain": [
       "| 963     | 21m 42s      | 0.517796          | 0.493666                          |             |"
      ]
     },
     "metadata": {},
     "output_type": "display_data"
    },
    {
     "data": {
      "text/html": [
       "<pre>| 964     | 21m 43s      | 0.517682          | 0.493552                          |             |</pre>"
      ],
      "text/plain": [
       "| 964     | 21m 43s      | 0.517682          | 0.493552                          |             |"
      ]
     },
     "metadata": {},
     "output_type": "display_data"
    },
    {
     "data": {
      "text/html": [
       "<pre>| 965     | 21m 44s      | 0.51757           | 0.49344                           |             |</pre>"
      ],
      "text/plain": [
       "| 965     | 21m 44s      | 0.51757           | 0.49344                           |             |"
      ]
     },
     "metadata": {},
     "output_type": "display_data"
    },
    {
     "data": {
      "text/html": [
       "<pre>| 966     | 21m 46s      | 0.517455          | 0.493327                          |             |</pre>"
      ],
      "text/plain": [
       "| 966     | 21m 46s      | 0.517455          | 0.493327                          |             |"
      ]
     },
     "metadata": {},
     "output_type": "display_data"
    },
    {
     "data": {
      "text/html": [
       "<pre>| 967     | 21m 47s      | 0.517342          | 0.493214                          |             |</pre>"
      ],
      "text/plain": [
       "| 967     | 21m 47s      | 0.517342          | 0.493214                          |             |"
      ]
     },
     "metadata": {},
     "output_type": "display_data"
    },
    {
     "data": {
      "text/html": [
       "<pre>| 968     | 21m 48s      | 0.517228          | 0.493101                          |             |</pre>"
      ],
      "text/plain": [
       "| 968     | 21m 48s      | 0.517228          | 0.493101                          |             |"
      ]
     },
     "metadata": {},
     "output_type": "display_data"
    },
    {
     "data": {
      "text/html": [
       "<pre>| 969     | 21m 50s      | 0.517115          | 0.492988                          |             |</pre>"
      ],
      "text/plain": [
       "| 969     | 21m 50s      | 0.517115          | 0.492988                          |             |"
      ]
     },
     "metadata": {},
     "output_type": "display_data"
    },
    {
     "data": {
      "text/html": [
       "<pre>| 970     | 21m 51s      | 0.517003          | 0.492876                          |             |</pre>"
      ],
      "text/plain": [
       "| 970     | 21m 51s      | 0.517003          | 0.492876                          |             |"
      ]
     },
     "metadata": {},
     "output_type": "display_data"
    },
    {
     "data": {
      "text/html": [
       "<pre>| 971     | 21m 53s      | 0.516891          | 0.492765                          |             |</pre>"
      ],
      "text/plain": [
       "| 971     | 21m 53s      | 0.516891          | 0.492765                          |             |"
      ]
     },
     "metadata": {},
     "output_type": "display_data"
    },
    {
     "data": {
      "text/html": [
       "<pre>| 972     | 21m 54s      | 0.51678           | 0.492654                          |             |</pre>"
      ],
      "text/plain": [
       "| 972     | 21m 54s      | 0.51678           | 0.492654                          |             |"
      ]
     },
     "metadata": {},
     "output_type": "display_data"
    },
    {
     "data": {
      "text/html": [
       "<pre>| 973     | 21m 55s      | 0.51667           | 0.492543                          |             |</pre>"
      ],
      "text/plain": [
       "| 973     | 21m 55s      | 0.51667           | 0.492543                          |             |"
      ]
     },
     "metadata": {},
     "output_type": "display_data"
    },
    {
     "data": {
      "text/html": [
       "<pre>| 974     | 21m 57s      | 0.51656           | 0.492433                          |             |</pre>"
      ],
      "text/plain": [
       "| 974     | 21m 57s      | 0.51656           | 0.492433                          |             |"
      ]
     },
     "metadata": {},
     "output_type": "display_data"
    },
    {
     "data": {
      "text/html": [
       "<pre>| 975     | 21m 58s      | 0.516449          | 0.49232                           |             |</pre>"
      ],
      "text/plain": [
       "| 975     | 21m 58s      | 0.516449          | 0.49232                           |             |"
      ]
     },
     "metadata": {},
     "output_type": "display_data"
    },
    {
     "data": {
      "text/html": [
       "<pre>| 976     | 21m 59s      | 0.516341          | 0.492212                          |             |</pre>"
      ],
      "text/plain": [
       "| 976     | 21m 59s      | 0.516341          | 0.492212                          |             |"
      ]
     },
     "metadata": {},
     "output_type": "display_data"
    },
    {
     "data": {
      "text/html": [
       "<pre>| 977     | 22m 1s       | 0.51623           | 0.492101                          |             |</pre>"
      ],
      "text/plain": [
       "| 977     | 22m 1s       | 0.51623           | 0.492101                          |             |"
      ]
     },
     "metadata": {},
     "output_type": "display_data"
    },
    {
     "data": {
      "text/html": [
       "<pre>| 978     | 22m 2s       | 0.51612           | 0.49199                           |             |</pre>"
      ],
      "text/plain": [
       "| 978     | 22m 2s       | 0.51612           | 0.49199                           |             |"
      ]
     },
     "metadata": {},
     "output_type": "display_data"
    },
    {
     "data": {
      "text/html": [
       "<pre>| 979     | 22m 3s       | 0.516011          | 0.491879                          |             |</pre>"
      ],
      "text/plain": [
       "| 979     | 22m 3s       | 0.516011          | 0.491879                          |             |"
      ]
     },
     "metadata": {},
     "output_type": "display_data"
    },
    {
     "data": {
      "text/html": [
       "<pre>| 980     | 22m 5s       | 0.515903          | 0.49177                           |             |</pre>"
      ],
      "text/plain": [
       "| 980     | 22m 5s       | 0.515903          | 0.49177                           |             |"
      ]
     },
     "metadata": {},
     "output_type": "display_data"
    },
    {
     "data": {
      "text/html": [
       "<pre>| 981     | 22m 6s       | 0.515795          | 0.49166                           |             |</pre>"
      ],
      "text/plain": [
       "| 981     | 22m 6s       | 0.515795          | 0.49166                           |             |"
      ]
     },
     "metadata": {},
     "output_type": "display_data"
    },
    {
     "data": {
      "text/html": [
       "<pre>| 982     | 22m 7s       | 0.515687          | 0.491551                          |             |</pre>"
      ],
      "text/plain": [
       "| 982     | 22m 7s       | 0.515687          | 0.491551                          |             |"
      ]
     },
     "metadata": {},
     "output_type": "display_data"
    },
    {
     "data": {
      "text/html": [
       "<pre>| 983     | 22m 9s       | 0.51558           | 0.491442                          |             |</pre>"
      ],
      "text/plain": [
       "| 983     | 22m 9s       | 0.51558           | 0.491442                          |             |"
      ]
     },
     "metadata": {},
     "output_type": "display_data"
    },
    {
     "data": {
      "text/html": [
       "<pre>| 984     | 22m 10s      | 0.51547           | 0.491332                          |             |</pre>"
      ],
      "text/plain": [
       "| 984     | 22m 10s      | 0.51547           | 0.491332                          |             |"
      ]
     },
     "metadata": {},
     "output_type": "display_data"
    },
    {
     "data": {
      "text/html": [
       "<pre>| 985     | 22m 12s      | 0.515363          | 0.491223                          |             |</pre>"
      ],
      "text/plain": [
       "| 985     | 22m 12s      | 0.515363          | 0.491223                          |             |"
      ]
     },
     "metadata": {},
     "output_type": "display_data"
    },
    {
     "data": {
      "text/html": [
       "<pre>| 986     | 22m 13s      | 0.515257          | 0.491115                          |             |</pre>"
      ],
      "text/plain": [
       "| 986     | 22m 13s      | 0.515257          | 0.491115                          |             |"
      ]
     },
     "metadata": {},
     "output_type": "display_data"
    },
    {
     "data": {
      "text/html": [
       "<pre>| 987     | 22m 14s      | 0.51515           | 0.491006                          |             |</pre>"
      ],
      "text/plain": [
       "| 987     | 22m 14s      | 0.51515           | 0.491006                          |             |"
      ]
     },
     "metadata": {},
     "output_type": "display_data"
    },
    {
     "data": {
      "text/html": [
       "<pre>| 988     | 22m 16s      | 0.515045          | 0.490899                          |             |</pre>"
      ],
      "text/plain": [
       "| 988     | 22m 16s      | 0.515045          | 0.490899                          |             |"
      ]
     },
     "metadata": {},
     "output_type": "display_data"
    },
    {
     "data": {
      "text/html": [
       "<pre>| 989     | 22m 17s      | 0.514936          | 0.490791                          |             |</pre>"
      ],
      "text/plain": [
       "| 989     | 22m 17s      | 0.514936          | 0.490791                          |             |"
      ]
     },
     "metadata": {},
     "output_type": "display_data"
    },
    {
     "data": {
      "text/html": [
       "<pre>| 990     | 22m 18s      | 0.514832          | 0.490682                          |             |</pre>"
      ],
      "text/plain": [
       "| 990     | 22m 18s      | 0.514832          | 0.490682                          |             |"
      ]
     },
     "metadata": {},
     "output_type": "display_data"
    },
    {
     "data": {
      "text/html": [
       "<pre>| 991     | 22m 20s      | 0.514727          | 0.490574                          |             |</pre>"
      ],
      "text/plain": [
       "| 991     | 22m 20s      | 0.514727          | 0.490574                          |             |"
      ]
     },
     "metadata": {},
     "output_type": "display_data"
    },
    {
     "data": {
      "text/html": [
       "<pre>| 992     | 22m 21s      | 0.51462           | 0.490465                          |             |</pre>"
      ],
      "text/plain": [
       "| 992     | 22m 21s      | 0.51462           | 0.490465                          |             |"
      ]
     },
     "metadata": {},
     "output_type": "display_data"
    },
    {
     "data": {
      "text/html": [
       "<pre>| 993     | 22m 22s      | 0.514516          | 0.490357                          |             |</pre>"
      ],
      "text/plain": [
       "| 993     | 22m 22s      | 0.514516          | 0.490357                          |             |"
      ]
     },
     "metadata": {},
     "output_type": "display_data"
    },
    {
     "data": {
      "text/html": [
       "<pre>| 994     | 22m 24s      | 0.514411          | 0.490249                          |             |</pre>"
      ],
      "text/plain": [
       "| 994     | 22m 24s      | 0.514411          | 0.490249                          |             |"
      ]
     },
     "metadata": {},
     "output_type": "display_data"
    },
    {
     "data": {
      "text/html": [
       "<pre>| 995     | 22m 25s      | 0.514306          | 0.490142                          |             |</pre>"
      ],
      "text/plain": [
       "| 995     | 22m 25s      | 0.514306          | 0.490142                          |             |"
      ]
     },
     "metadata": {},
     "output_type": "display_data"
    },
    {
     "data": {
      "text/html": [
       "<pre>| 996     | 22m 26s      | 0.5142            | 0.490034                          |             |</pre>"
      ],
      "text/plain": [
       "| 996     | 22m 26s      | 0.5142            | 0.490034                          |             |"
      ]
     },
     "metadata": {},
     "output_type": "display_data"
    },
    {
     "data": {
      "text/html": [
       "<pre>| 997     | 22m 28s      | 0.514098          | 0.489929                          |             |</pre>"
      ],
      "text/plain": [
       "| 997     | 22m 28s      | 0.514098          | 0.489929                          |             |"
      ]
     },
     "metadata": {},
     "output_type": "display_data"
    },
    {
     "data": {
      "text/html": [
       "<pre>| 998     | 22m 29s      | 0.513992          | 0.489819                          |             |</pre>"
      ],
      "text/plain": [
       "| 998     | 22m 29s      | 0.513992          | 0.489819                          |             |"
      ]
     },
     "metadata": {},
     "output_type": "display_data"
    },
    {
     "data": {
      "text/html": [
       "<pre>| 999     | 22m 30s      | 0.51389           | 0.489714                          |             |</pre>"
      ],
      "text/plain": [
       "| 999     | 22m 30s      | 0.51389           | 0.489714                          |             |"
      ]
     },
     "metadata": {},
     "output_type": "display_data"
    },
    {
     "data": {
      "text/html": [
       "<pre>| 1000    | 22m 32s      | 0.513787          | 0.489608                          |             |</pre>"
      ],
      "text/plain": [
       "| 1000    | 22m 32s      | 0.513787          | 0.489608                          |             |"
      ]
     },
     "metadata": {},
     "output_type": "display_data"
    },
    {
     "data": {
      "text/html": [
       "<pre>| 1001    | 22m 33s      | 0.513685          | 0.489502                          |             |</pre>"
      ],
      "text/plain": [
       "| 1001    | 22m 33s      | 0.513685          | 0.489502                          |             |"
      ]
     },
     "metadata": {},
     "output_type": "display_data"
    },
    {
     "data": {
      "text/html": [
       "<pre>| 1002    | 22m 34s      | 0.513581          | 0.489396                          |             |</pre>"
      ],
      "text/plain": [
       "| 1002    | 22m 34s      | 0.513581          | 0.489396                          |             |"
      ]
     },
     "metadata": {},
     "output_type": "display_data"
    },
    {
     "data": {
      "text/html": [
       "<pre>| 1003    | 22m 36s      | 0.51348           | 0.489291                          |             |</pre>"
      ],
      "text/plain": [
       "| 1003    | 22m 36s      | 0.51348           | 0.489291                          |             |"
      ]
     },
     "metadata": {},
     "output_type": "display_data"
    },
    {
     "data": {
      "text/html": [
       "<pre>| 1004    | 22m 37s      | 0.513378          | 0.489185                          |             |</pre>"
      ],
      "text/plain": [
       "| 1004    | 22m 37s      | 0.513378          | 0.489185                          |             |"
      ]
     },
     "metadata": {},
     "output_type": "display_data"
    },
    {
     "data": {
      "text/html": [
       "<pre>| 1005    | 22m 38s      | 0.513279          | 0.489081                          |             |</pre>"
      ],
      "text/plain": [
       "| 1005    | 22m 38s      | 0.513279          | 0.489081                          |             |"
      ]
     },
     "metadata": {},
     "output_type": "display_data"
    },
    {
     "data": {
      "text/html": [
       "<pre>| 1006    | 22m 40s      | 0.513177          | 0.488976                          |             |</pre>"
      ],
      "text/plain": [
       "| 1006    | 22m 40s      | 0.513177          | 0.488976                          |             |"
      ]
     },
     "metadata": {},
     "output_type": "display_data"
    },
    {
     "data": {
      "text/html": [
       "<pre>| 1007    | 22m 41s      | 0.513076          | 0.48887                           |             |</pre>"
      ],
      "text/plain": [
       "| 1007    | 22m 41s      | 0.513076          | 0.48887                           |             |"
      ]
     },
     "metadata": {},
     "output_type": "display_data"
    },
    {
     "data": {
      "text/html": [
       "<pre>| 1008    | 22m 42s      | 0.512975          | 0.488764                          |             |</pre>"
      ],
      "text/plain": [
       "| 1008    | 22m 42s      | 0.512975          | 0.488764                          |             |"
      ]
     },
     "metadata": {},
     "output_type": "display_data"
    },
    {
     "data": {
      "text/html": [
       "<pre>| 1009    | 22m 44s      | 0.512878          | 0.488663                          |             |</pre>"
      ],
      "text/plain": [
       "| 1009    | 22m 44s      | 0.512878          | 0.488663                          |             |"
      ]
     },
     "metadata": {},
     "output_type": "display_data"
    },
    {
     "data": {
      "text/html": [
       "<pre>| 1010    | 22m 45s      | 0.512779          | 0.48856                           |             |</pre>"
      ],
      "text/plain": [
       "| 1010    | 22m 45s      | 0.512779          | 0.48856                           |             |"
      ]
     },
     "metadata": {},
     "output_type": "display_data"
    },
    {
     "data": {
      "text/html": [
       "<pre>| 1011    | 22m 46s      | 0.512679          | 0.488454                          |             |</pre>"
      ],
      "text/plain": [
       "| 1011    | 22m 46s      | 0.512679          | 0.488454                          |             |"
      ]
     },
     "metadata": {},
     "output_type": "display_data"
    },
    {
     "data": {
      "text/html": [
       "<pre>| 1012    | 22m 48s      | 0.512581          | 0.488352                          |             |</pre>"
      ],
      "text/plain": [
       "| 1012    | 22m 48s      | 0.512581          | 0.488352                          |             |"
      ]
     },
     "metadata": {},
     "output_type": "display_data"
    },
    {
     "data": {
      "text/html": [
       "<pre>| 1013    | 22m 49s      | 0.512482          | 0.488248                          |             |</pre>"
      ],
      "text/plain": [
       "| 1013    | 22m 49s      | 0.512482          | 0.488248                          |             |"
      ]
     },
     "metadata": {},
     "output_type": "display_data"
    },
    {
     "data": {
      "text/html": [
       "<pre>| 1014    | 22m 50s      | 0.512383          | 0.488144                          |             |</pre>"
      ],
      "text/plain": [
       "| 1014    | 22m 50s      | 0.512383          | 0.488144                          |             |"
      ]
     },
     "metadata": {},
     "output_type": "display_data"
    },
    {
     "data": {
      "text/html": [
       "<pre>| 1015    | 22m 52s      | 0.512285          | 0.488041                          |             |</pre>"
      ],
      "text/plain": [
       "| 1015    | 22m 52s      | 0.512285          | 0.488041                          |             |"
      ]
     },
     "metadata": {},
     "output_type": "display_data"
    },
    {
     "data": {
      "text/html": [
       "<pre>| 1016    | 22m 53s      | 0.512189          | 0.487939                          |             |</pre>"
      ],
      "text/plain": [
       "| 1016    | 22m 53s      | 0.512189          | 0.487939                          |             |"
      ]
     },
     "metadata": {},
     "output_type": "display_data"
    },
    {
     "data": {
      "text/html": [
       "<pre>| 1017    | 22m 54s      | 0.51209           | 0.487844                          |             |</pre>"
      ],
      "text/plain": [
       "| 1017    | 22m 54s      | 0.51209           | 0.487844                          |             |"
      ]
     },
     "metadata": {},
     "output_type": "display_data"
    },
    {
     "data": {
      "text/html": [
       "<pre>| 1018    | 22m 56s      | 0.51203           | 0.487794                          |             |</pre>"
      ],
      "text/plain": [
       "| 1018    | 22m 56s      | 0.51203           | 0.487794                          |             |"
      ]
     },
     "metadata": {},
     "output_type": "display_data"
    },
    {
     "data": {
      "text/html": [
       "<pre>| 1019    | 22m 57s      | 0.511978          | 0.487752                          |             |</pre>"
      ],
      "text/plain": [
       "| 1019    | 22m 57s      | 0.511978          | 0.487752                          |             |"
      ]
     },
     "metadata": {},
     "output_type": "display_data"
    },
    {
     "data": {
      "text/html": [
       "<pre>| 1020    | 22m 59s      | 0.511927          | 0.487711                          |             |</pre>"
      ],
      "text/plain": [
       "| 1020    | 22m 59s      | 0.511927          | 0.487711                          |             |"
      ]
     },
     "metadata": {},
     "output_type": "display_data"
    },
    {
     "data": {
      "text/html": [
       "<pre>| 1021    | 23m 0s       | 0.511875          | 0.487668                          |             |</pre>"
      ],
      "text/plain": [
       "| 1021    | 23m 0s       | 0.511875          | 0.487668                          |             |"
      ]
     },
     "metadata": {},
     "output_type": "display_data"
    },
    {
     "data": {
      "text/html": [
       "<pre>| 1022    | 23m 1s       | 0.511824          | 0.487625                          |             |</pre>"
      ],
      "text/plain": [
       "| 1022    | 23m 1s       | 0.511824          | 0.487625                          |             |"
      ]
     },
     "metadata": {},
     "output_type": "display_data"
    },
    {
     "data": {
      "text/html": [
       "<pre>| 1023    | 23m 3s       | 0.511773          | 0.487584                          |             |</pre>"
      ],
      "text/plain": [
       "| 1023    | 23m 3s       | 0.511773          | 0.487584                          |             |"
      ]
     },
     "metadata": {},
     "output_type": "display_data"
    },
    {
     "data": {
      "text/html": [
       "<pre>| 1024    | 23m 4s       | 0.511722          | 0.487541                          |             |</pre>"
      ],
      "text/plain": [
       "| 1024    | 23m 4s       | 0.511722          | 0.487541                          |             |"
      ]
     },
     "metadata": {},
     "output_type": "display_data"
    },
    {
     "data": {
      "text/html": [
       "<pre>| 1025    | 23m 5s       | 0.51167           | 0.487499                          |             |</pre>"
      ],
      "text/plain": [
       "| 1025    | 23m 5s       | 0.51167           | 0.487499                          |             |"
      ]
     },
     "metadata": {},
     "output_type": "display_data"
    },
    {
     "data": {
      "text/html": [
       "<pre>| 1026    | 23m 7s       | 0.511621          | 0.487458                          |             |</pre>"
      ],
      "text/plain": [
       "| 1026    | 23m 7s       | 0.511621          | 0.487458                          |             |"
      ]
     },
     "metadata": {},
     "output_type": "display_data"
    },
    {
     "data": {
      "text/html": [
       "<pre>| 1027    | 23m 8s       | 0.511571          | 0.487417                          |             |</pre>"
      ],
      "text/plain": [
       "| 1027    | 23m 8s       | 0.511571          | 0.487417                          |             |"
      ]
     },
     "metadata": {},
     "output_type": "display_data"
    },
    {
     "data": {
      "text/html": [
       "<pre>| 1028    | 23m 9s       | 0.511523          | 0.487378                          |             |</pre>"
      ],
      "text/plain": [
       "| 1028    | 23m 9s       | 0.511523          | 0.487378                          |             |"
      ]
     },
     "metadata": {},
     "output_type": "display_data"
    },
    {
     "data": {
      "text/html": [
       "<pre>| 1029    | 23m 11s      | 0.511473          | 0.487336                          |             |</pre>"
      ],
      "text/plain": [
       "| 1029    | 23m 11s      | 0.511473          | 0.487336                          |             |"
      ]
     },
     "metadata": {},
     "output_type": "display_data"
    },
    {
     "data": {
      "text/html": [
       "<pre>| 1030    | 23m 12s      | 0.511422          | 0.487295                          |             |</pre>"
      ],
      "text/plain": [
       "| 1030    | 23m 12s      | 0.511422          | 0.487295                          |             |"
      ]
     },
     "metadata": {},
     "output_type": "display_data"
    },
    {
     "data": {
      "text/html": [
       "<pre>| 1031    | 23m 13s      | 0.511374          | 0.487253                          |             |</pre>"
      ],
      "text/plain": [
       "| 1031    | 23m 13s      | 0.511374          | 0.487253                          |             |"
      ]
     },
     "metadata": {},
     "output_type": "display_data"
    },
    {
     "data": {
      "text/html": [
       "<pre>| 1032    | 23m 15s      | 0.511325          | 0.487212                          |             |</pre>"
      ],
      "text/plain": [
       "| 1032    | 23m 15s      | 0.511325          | 0.487212                          |             |"
      ]
     },
     "metadata": {},
     "output_type": "display_data"
    },
    {
     "data": {
      "text/html": [
       "<pre>| 1033    | 23m 16s      | 0.511276          | 0.487172                          |             |</pre>"
      ],
      "text/plain": [
       "| 1033    | 23m 16s      | 0.511276          | 0.487172                          |             |"
      ]
     },
     "metadata": {},
     "output_type": "display_data"
    },
    {
     "data": {
      "text/html": [
       "<pre>| 1034    | 23m 18s      | 0.511226          | 0.48713                           |             |</pre>"
      ],
      "text/plain": [
       "| 1034    | 23m 18s      | 0.511226          | 0.48713                           |             |"
      ]
     },
     "metadata": {},
     "output_type": "display_data"
    },
    {
     "data": {
      "text/html": [
       "<pre>| 1035    | 23m 19s      | 0.511177          | 0.487088                          |             |</pre>"
      ],
      "text/plain": [
       "| 1035    | 23m 19s      | 0.511177          | 0.487088                          |             |"
      ]
     },
     "metadata": {},
     "output_type": "display_data"
    },
    {
     "data": {
      "text/html": [
       "<pre>| 1036    | 23m 20s      | 0.511129          | 0.487048                          |             |</pre>"
      ],
      "text/plain": [
       "| 1036    | 23m 20s      | 0.511129          | 0.487048                          |             |"
      ]
     },
     "metadata": {},
     "output_type": "display_data"
    },
    {
     "data": {
      "text/html": [
       "<pre>| 1037    | 23m 22s      | 0.511079          | 0.487006                          |             |</pre>"
      ],
      "text/plain": [
       "| 1037    | 23m 22s      | 0.511079          | 0.487006                          |             |"
      ]
     },
     "metadata": {},
     "output_type": "display_data"
    },
    {
     "data": {
      "text/html": [
       "<pre>| 1038    | 23m 23s      | 0.511031          | 0.486965                          |             |</pre>"
      ],
      "text/plain": [
       "| 1038    | 23m 23s      | 0.511031          | 0.486965                          |             |"
      ]
     },
     "metadata": {},
     "output_type": "display_data"
    },
    {
     "data": {
      "text/html": [
       "<pre>| 1039    | 23m 24s      | 0.510985          | 0.486926                          |             |</pre>"
      ],
      "text/plain": [
       "| 1039    | 23m 24s      | 0.510985          | 0.486926                          |             |"
      ]
     },
     "metadata": {},
     "output_type": "display_data"
    },
    {
     "data": {
      "text/html": [
       "<pre>| 1040    | 23m 25s      | 0.510936          | 0.486886                          |             |</pre>"
      ],
      "text/plain": [
       "| 1040    | 23m 25s      | 0.510936          | 0.486886                          |             |"
      ]
     },
     "metadata": {},
     "output_type": "display_data"
    },
    {
     "data": {
      "text/html": [
       "<pre>| 1041    | 23m 27s      | 0.510889          | 0.486845                          |             |</pre>"
      ],
      "text/plain": [
       "| 1041    | 23m 27s      | 0.510889          | 0.486845                          |             |"
      ]
     },
     "metadata": {},
     "output_type": "display_data"
    },
    {
     "data": {
      "text/html": [
       "<pre>| 1042    | 23m 28s      | 0.510842          | 0.486805                          |             |</pre>"
      ],
      "text/plain": [
       "| 1042    | 23m 28s      | 0.510842          | 0.486805                          |             |"
      ]
     },
     "metadata": {},
     "output_type": "display_data"
    },
    {
     "data": {
      "text/html": [
       "<pre>| 1043    | 23m 29s      | 0.510796          | 0.486764                          |             |</pre>"
      ],
      "text/plain": [
       "| 1043    | 23m 29s      | 0.510796          | 0.486764                          |             |"
      ]
     },
     "metadata": {},
     "output_type": "display_data"
    },
    {
     "data": {
      "text/html": [
       "<pre>| 1044    | 23m 31s      | 0.510749          | 0.486724                          |             |</pre>"
      ],
      "text/plain": [
       "| 1044    | 23m 31s      | 0.510749          | 0.486724                          |             |"
      ]
     },
     "metadata": {},
     "output_type": "display_data"
    },
    {
     "data": {
      "text/html": [
       "<pre>| 1045    | 23m 32s      | 0.510702          | 0.486684                          |             |</pre>"
      ],
      "text/plain": [
       "| 1045    | 23m 32s      | 0.510702          | 0.486684                          |             |"
      ]
     },
     "metadata": {},
     "output_type": "display_data"
    },
    {
     "data": {
      "text/html": [
       "<pre>| 1046    | 23m 33s      | 0.510656          | 0.486644                          |             |</pre>"
      ],
      "text/plain": [
       "| 1046    | 23m 33s      | 0.510656          | 0.486644                          |             |"
      ]
     },
     "metadata": {},
     "output_type": "display_data"
    },
    {
     "data": {
      "text/html": [
       "<pre>| 1047    | 23m 35s      | 0.510609          | 0.486603                          |             |</pre>"
      ],
      "text/plain": [
       "| 1047    | 23m 35s      | 0.510609          | 0.486603                          |             |"
      ]
     },
     "metadata": {},
     "output_type": "display_data"
    },
    {
     "data": {
      "text/html": [
       "<pre>| 1048    | 23m 36s      | 0.510564          | 0.486565                          |             |</pre>"
      ],
      "text/plain": [
       "| 1048    | 23m 36s      | 0.510564          | 0.486565                          |             |"
      ]
     },
     "metadata": {},
     "output_type": "display_data"
    },
    {
     "data": {
      "text/html": [
       "<pre>| 1049    | 23m 37s      | 0.510518          | 0.486525                          |             |</pre>"
      ],
      "text/plain": [
       "| 1049    | 23m 37s      | 0.510518          | 0.486525                          |             |"
      ]
     },
     "metadata": {},
     "output_type": "display_data"
    },
    {
     "data": {
      "text/html": [
       "<pre>| 1050    | 23m 39s      | 0.510471          | 0.486484                          |             |</pre>"
      ],
      "text/plain": [
       "| 1050    | 23m 39s      | 0.510471          | 0.486484                          |             |"
      ]
     },
     "metadata": {},
     "output_type": "display_data"
    },
    {
     "data": {
      "text/html": [
       "<pre>| 1051    | 23m 40s      | 0.510424          | 0.486444                          |             |</pre>"
      ],
      "text/plain": [
       "| 1051    | 23m 40s      | 0.510424          | 0.486444                          |             |"
      ]
     },
     "metadata": {},
     "output_type": "display_data"
    },
    {
     "data": {
      "text/html": [
       "<pre>| 1052    | 23m 41s      | 0.510378          | 0.486404                          |             |</pre>"
      ],
      "text/plain": [
       "| 1052    | 23m 41s      | 0.510378          | 0.486404                          |             |"
      ]
     },
     "metadata": {},
     "output_type": "display_data"
    },
    {
     "data": {
      "text/html": [
       "<pre>| 1053    | 23m 43s      | 0.510333          | 0.486363                          |             |</pre>"
      ],
      "text/plain": [
       "| 1053    | 23m 43s      | 0.510333          | 0.486363                          |             |"
      ]
     },
     "metadata": {},
     "output_type": "display_data"
    },
    {
     "data": {
      "text/html": [
       "<pre>| 1054    | 23m 44s      | 0.510287          | 0.486323                          |             |</pre>"
      ],
      "text/plain": [
       "| 1054    | 23m 44s      | 0.510287          | 0.486323                          |             |"
      ]
     },
     "metadata": {},
     "output_type": "display_data"
    },
    {
     "data": {
      "text/html": [
       "<pre>| 1055    | 23m 45s      | 0.510243          | 0.486284                          |             |</pre>"
      ],
      "text/plain": [
       "| 1055    | 23m 45s      | 0.510243          | 0.486284                          |             |"
      ]
     },
     "metadata": {},
     "output_type": "display_data"
    },
    {
     "data": {
      "text/html": [
       "<pre>| 1056    | 23m 47s      | 0.510198          | 0.486245                          |             |</pre>"
      ],
      "text/plain": [
       "| 1056    | 23m 47s      | 0.510198          | 0.486245                          |             |"
      ]
     },
     "metadata": {},
     "output_type": "display_data"
    },
    {
     "data": {
      "text/html": [
       "<pre>| 1057    | 23m 48s      | 0.510152          | 0.486204                          |             |</pre>"
      ],
      "text/plain": [
       "| 1057    | 23m 48s      | 0.510152          | 0.486204                          |             |"
      ]
     },
     "metadata": {},
     "output_type": "display_data"
    },
    {
     "data": {
      "text/html": [
       "<pre>| 1058    | 23m 49s      | 0.510108          | 0.486165                          |             |</pre>"
      ],
      "text/plain": [
       "| 1058    | 23m 49s      | 0.510108          | 0.486165                          |             |"
      ]
     },
     "metadata": {},
     "output_type": "display_data"
    },
    {
     "data": {
      "text/html": [
       "<pre>| 1059    | 23m 51s      | 0.510062          | 0.486123                          |             |</pre>"
      ],
      "text/plain": [
       "| 1059    | 23m 51s      | 0.510062          | 0.486123                          |             |"
      ]
     },
     "metadata": {},
     "output_type": "display_data"
    },
    {
     "data": {
      "text/html": [
       "<pre>| 1060    | 23m 52s      | 0.510017          | 0.486083                          |             |</pre>"
      ],
      "text/plain": [
       "| 1060    | 23m 52s      | 0.510017          | 0.486083                          |             |"
      ]
     },
     "metadata": {},
     "output_type": "display_data"
    },
    {
     "data": {
      "text/html": [
       "<pre>| 1061    | 23m 53s      | 0.509973          | 0.486044                          |             |</pre>"
      ],
      "text/plain": [
       "| 1061    | 23m 53s      | 0.509973          | 0.486044                          |             |"
      ]
     },
     "metadata": {},
     "output_type": "display_data"
    },
    {
     "data": {
      "text/html": [
       "<pre>| 1062    | 23m 54s      | 0.509928          | 0.486003                          |             |</pre>"
      ],
      "text/plain": [
       "| 1062    | 23m 54s      | 0.509928          | 0.486003                          |             |"
      ]
     },
     "metadata": {},
     "output_type": "display_data"
    },
    {
     "data": {
      "text/html": [
       "<pre>| 1063    | 23m 56s      | 0.509885          | 0.485964                          |             |</pre>"
      ],
      "text/plain": [
       "| 1063    | 23m 56s      | 0.509885          | 0.485964                          |             |"
      ]
     },
     "metadata": {},
     "output_type": "display_data"
    },
    {
     "data": {
      "text/html": [
       "<pre>| 1064    | 23m 57s      | 0.50984           | 0.485923                          |             |</pre>"
      ],
      "text/plain": [
       "| 1064    | 23m 57s      | 0.50984           | 0.485923                          |             |"
      ]
     },
     "metadata": {},
     "output_type": "display_data"
    },
    {
     "data": {
      "text/html": [
       "<pre>| 1065    | 23m 58s      | 0.509796          | 0.485883                          |             |</pre>"
      ],
      "text/plain": [
       "| 1065    | 23m 58s      | 0.509796          | 0.485883                          |             |"
      ]
     },
     "metadata": {},
     "output_type": "display_data"
    },
    {
     "data": {
      "text/html": [
       "<pre>| 1066    | 24m 0s       | 0.509751          | 0.485842                          |             |</pre>"
      ],
      "text/plain": [
       "| 1066    | 24m 0s       | 0.509751          | 0.485842                          |             |"
      ]
     },
     "metadata": {},
     "output_type": "display_data"
    },
    {
     "data": {
      "text/html": [
       "<pre>| 1067    | 24m 1s       | 0.509707          | 0.485802                          |             |</pre>"
      ],
      "text/plain": [
       "| 1067    | 24m 1s       | 0.509707          | 0.485802                          |             |"
      ]
     },
     "metadata": {},
     "output_type": "display_data"
    },
    {
     "data": {
      "text/html": [
       "<pre>| 1068    | 24m 3s       | 0.509663          | 0.485761                          |             |</pre>"
      ],
      "text/plain": [
       "| 1068    | 24m 3s       | 0.509663          | 0.485761                          |             |"
      ]
     },
     "metadata": {},
     "output_type": "display_data"
    },
    {
     "data": {
      "text/html": [
       "<pre>| 1069    | 24m 4s       | 0.50962           | 0.485722                          |             |</pre>"
      ],
      "text/plain": [
       "| 1069    | 24m 4s       | 0.50962           | 0.485722                          |             |"
      ]
     },
     "metadata": {},
     "output_type": "display_data"
    },
    {
     "data": {
      "text/html": [
       "<pre>| 1070    | 24m 6s       | 0.509576          | 0.485681                          |             |</pre>"
      ],
      "text/plain": [
       "| 1070    | 24m 6s       | 0.509576          | 0.485681                          |             |"
      ]
     },
     "metadata": {},
     "output_type": "display_data"
    },
    {
     "data": {
      "text/html": [
       "<pre>| 1071    | 24m 7s       | 0.509533          | 0.485642                          |             |</pre>"
      ],
      "text/plain": [
       "| 1071    | 24m 7s       | 0.509533          | 0.485642                          |             |"
      ]
     },
     "metadata": {},
     "output_type": "display_data"
    },
    {
     "data": {
      "text/html": [
       "<pre>| 1072    | 24m 8s       | 0.50949           | 0.485601                          |             |</pre>"
      ],
      "text/plain": [
       "| 1072    | 24m 8s       | 0.50949           | 0.485601                          |             |"
      ]
     },
     "metadata": {},
     "output_type": "display_data"
    },
    {
     "data": {
      "text/html": [
       "<pre>| 1073    | 24m 9s       | 0.509448          | 0.485562                          |             |</pre>"
      ],
      "text/plain": [
       "| 1073    | 24m 9s       | 0.509448          | 0.485562                          |             |"
      ]
     },
     "metadata": {},
     "output_type": "display_data"
    },
    {
     "data": {
      "text/html": [
       "<pre>| 1074    | 24m 11s      | 0.509405          | 0.485521                          |             |</pre>"
      ],
      "text/plain": [
       "| 1074    | 24m 11s      | 0.509405          | 0.485521                          |             |"
      ]
     },
     "metadata": {},
     "output_type": "display_data"
    },
    {
     "data": {
      "text/html": [
       "<pre>| 1075    | 24m 12s      | 0.509362          | 0.485481                          |             |</pre>"
      ],
      "text/plain": [
       "| 1075    | 24m 12s      | 0.509362          | 0.485481                          |             |"
      ]
     },
     "metadata": {},
     "output_type": "display_data"
    },
    {
     "data": {
      "text/html": [
       "<pre>| 1076    | 24m 13s      | 0.509319          | 0.485441                          |             |</pre>"
      ],
      "text/plain": [
       "| 1076    | 24m 13s      | 0.509319          | 0.485441                          |             |"
      ]
     },
     "metadata": {},
     "output_type": "display_data"
    },
    {
     "data": {
      "text/html": [
       "<pre>| 1077    | 24m 15s      | 0.509277          | 0.485401                          |             |</pre>"
      ],
      "text/plain": [
       "| 1077    | 24m 15s      | 0.509277          | 0.485401                          |             |"
      ]
     },
     "metadata": {},
     "output_type": "display_data"
    },
    {
     "data": {
      "text/html": [
       "<pre>| 1078    | 24m 16s      | 0.509236          | 0.485362                          |             |</pre>"
      ],
      "text/plain": [
       "| 1078    | 24m 16s      | 0.509236          | 0.485362                          |             |"
      ]
     },
     "metadata": {},
     "output_type": "display_data"
    },
    {
     "data": {
      "text/html": [
       "<pre>| 1079    | 24m 17s      | 0.509193          | 0.485322                          |             |</pre>"
      ],
      "text/plain": [
       "| 1079    | 24m 17s      | 0.509193          | 0.485322                          |             |"
      ]
     },
     "metadata": {},
     "output_type": "display_data"
    },
    {
     "data": {
      "text/html": [
       "<pre>| 1080    | 24m 19s      | 0.509152          | 0.485282                          |             |</pre>"
      ],
      "text/plain": [
       "| 1080    | 24m 19s      | 0.509152          | 0.485282                          |             |"
      ]
     },
     "metadata": {},
     "output_type": "display_data"
    },
    {
     "data": {
      "text/html": [
       "<pre>| 1081    | 24m 20s      | 0.50911           | 0.485243                          |             |</pre>"
      ],
      "text/plain": [
       "| 1081    | 24m 20s      | 0.50911           | 0.485243                          |             |"
      ]
     },
     "metadata": {},
     "output_type": "display_data"
    },
    {
     "data": {
      "text/html": [
       "<pre>| 1082    | 24m 22s      | 0.509071          | 0.485205                          |             |</pre>"
      ],
      "text/plain": [
       "| 1082    | 24m 22s      | 0.509071          | 0.485205                          |             |"
      ]
     },
     "metadata": {},
     "output_type": "display_data"
    },
    {
     "data": {
      "text/html": [
       "<pre>| 1083    | 24m 23s      | 0.509028          | 0.485164                          |             |</pre>"
      ],
      "text/plain": [
       "| 1083    | 24m 23s      | 0.509028          | 0.485164                          |             |"
      ]
     },
     "metadata": {},
     "output_type": "display_data"
    },
    {
     "data": {
      "text/html": [
       "<pre>| 1084    | 24m 24s      | 0.508987          | 0.485124                          |             |</pre>"
      ],
      "text/plain": [
       "| 1084    | 24m 24s      | 0.508987          | 0.485124                          |             |"
      ]
     },
     "metadata": {},
     "output_type": "display_data"
    },
    {
     "data": {
      "text/html": [
       "<pre>| 1085    | 24m 26s      | 0.508945          | 0.485083                          |             |</pre>"
      ],
      "text/plain": [
       "| 1085    | 24m 26s      | 0.508945          | 0.485083                          |             |"
      ]
     },
     "metadata": {},
     "output_type": "display_data"
    },
    {
     "data": {
      "text/html": [
       "<pre>| 1086    | 24m 27s      | 0.508905          | 0.485044                          |             |</pre>"
      ],
      "text/plain": [
       "| 1086    | 24m 27s      | 0.508905          | 0.485044                          |             |"
      ]
     },
     "metadata": {},
     "output_type": "display_data"
    },
    {
     "data": {
      "text/html": [
       "<pre>| 1087    | 24m 28s      | 0.508864          | 0.485004                          |             |</pre>"
      ],
      "text/plain": [
       "| 1087    | 24m 28s      | 0.508864          | 0.485004                          |             |"
      ]
     },
     "metadata": {},
     "output_type": "display_data"
    },
    {
     "data": {
      "text/html": [
       "<pre>| 1088    | 24m 30s      | 0.508822          | 0.484964                          |             |</pre>"
      ],
      "text/plain": [
       "| 1088    | 24m 30s      | 0.508822          | 0.484964                          |             |"
      ]
     },
     "metadata": {},
     "output_type": "display_data"
    },
    {
     "data": {
      "text/html": [
       "<pre>| 1089    | 24m 31s      | 0.508782          | 0.484925                          |             |</pre>"
      ],
      "text/plain": [
       "| 1089    | 24m 31s      | 0.508782          | 0.484925                          |             |"
      ]
     },
     "metadata": {},
     "output_type": "display_data"
    },
    {
     "data": {
      "text/html": [
       "<pre>| 1090    | 24m 32s      | 0.508741          | 0.484886                          |             |</pre>"
      ],
      "text/plain": [
       "| 1090    | 24m 32s      | 0.508741          | 0.484886                          |             |"
      ]
     },
     "metadata": {},
     "output_type": "display_data"
    },
    {
     "data": {
      "text/html": [
       "<pre>| 1091    | 24m 34s      | 0.508699          | 0.484845                          |             |</pre>"
      ],
      "text/plain": [
       "| 1091    | 24m 34s      | 0.508699          | 0.484845                          |             |"
      ]
     },
     "metadata": {},
     "output_type": "display_data"
    },
    {
     "data": {
      "text/html": [
       "<pre>| 1092    | 24m 35s      | 0.50866           | 0.484807                          |             |</pre>"
      ],
      "text/plain": [
       "| 1092    | 24m 35s      | 0.50866           | 0.484807                          |             |"
      ]
     },
     "metadata": {},
     "output_type": "display_data"
    },
    {
     "data": {
      "text/html": [
       "<pre>| 1093    | 24m 36s      | 0.508621          | 0.484768                          |             |</pre>"
      ],
      "text/plain": [
       "| 1093    | 24m 36s      | 0.508621          | 0.484768                          |             |"
      ]
     },
     "metadata": {},
     "output_type": "display_data"
    },
    {
     "data": {
      "text/html": [
       "<pre>| 1094    | 24m 38s      | 0.50858           | 0.484729                          |             |</pre>"
      ],
      "text/plain": [
       "| 1094    | 24m 38s      | 0.50858           | 0.484729                          |             |"
      ]
     },
     "metadata": {},
     "output_type": "display_data"
    },
    {
     "data": {
      "text/html": [
       "<pre>| 1095    | 24m 39s      | 0.508539          | 0.484689                          |             |</pre>"
      ],
      "text/plain": [
       "| 1095    | 24m 39s      | 0.508539          | 0.484689                          |             |"
      ]
     },
     "metadata": {},
     "output_type": "display_data"
    },
    {
     "data": {
      "text/html": [
       "<pre>| 1096    | 24m 41s      | 0.508499          | 0.48465                           |             |</pre>"
      ],
      "text/plain": [
       "| 1096    | 24m 41s      | 0.508499          | 0.48465                           |             |"
      ]
     },
     "metadata": {},
     "output_type": "display_data"
    },
    {
     "data": {
      "text/html": [
       "<pre>| 1097    | 24m 42s      | 0.508459          | 0.48461                           |             |</pre>"
      ],
      "text/plain": [
       "| 1097    | 24m 42s      | 0.508459          | 0.48461                           |             |"
      ]
     },
     "metadata": {},
     "output_type": "display_data"
    },
    {
     "data": {
      "text/html": [
       "<pre>| 1098    | 24m 43s      | 0.50842           | 0.484572                          |             |</pre>"
      ],
      "text/plain": [
       "| 1098    | 24m 43s      | 0.50842           | 0.484572                          |             |"
      ]
     },
     "metadata": {},
     "output_type": "display_data"
    },
    {
     "data": {
      "text/html": [
       "<pre>| 1099    | 24m 44s      | 0.508379          | 0.484532                          |             |</pre>"
      ],
      "text/plain": [
       "| 1099    | 24m 44s      | 0.508379          | 0.484532                          |             |"
      ]
     },
     "metadata": {},
     "output_type": "display_data"
    },
    {
     "data": {
      "text/html": [
       "<pre>| 1100    | 24m 46s      | 0.508341          | 0.484494                          |             |</pre>"
      ],
      "text/plain": [
       "| 1100    | 24m 46s      | 0.508341          | 0.484494                          |             |"
      ]
     },
     "metadata": {},
     "output_type": "display_data"
    },
    {
     "data": {
      "text/html": [
       "<pre>| 1101    | 24m 47s      | 0.508302          | 0.484455                          |             |</pre>"
      ],
      "text/plain": [
       "| 1101    | 24m 47s      | 0.508302          | 0.484455                          |             |"
      ]
     },
     "metadata": {},
     "output_type": "display_data"
    },
    {
     "data": {
      "text/html": [
       "<pre>| 1102    | 24m 48s      | 0.508263          | 0.484417                          |             |</pre>"
      ],
      "text/plain": [
       "| 1102    | 24m 48s      | 0.508263          | 0.484417                          |             |"
      ]
     },
     "metadata": {},
     "output_type": "display_data"
    },
    {
     "data": {
      "text/html": [
       "<pre>| 1103    | 24m 50s      | 0.508223          | 0.484378                          |             |</pre>"
      ],
      "text/plain": [
       "| 1103    | 24m 50s      | 0.508223          | 0.484378                          |             |"
      ]
     },
     "metadata": {},
     "output_type": "display_data"
    },
    {
     "data": {
      "text/html": [
       "<pre>| 1104    | 24m 51s      | 0.508184          | 0.48434                           |             |</pre>"
      ],
      "text/plain": [
       "| 1104    | 24m 51s      | 0.508184          | 0.48434                           |             |"
      ]
     },
     "metadata": {},
     "output_type": "display_data"
    },
    {
     "data": {
      "text/html": [
       "<pre>| 1105    | 24m 52s      | 0.508146          | 0.484302                          |             |</pre>"
      ],
      "text/plain": [
       "| 1105    | 24m 52s      | 0.508146          | 0.484302                          |             |"
      ]
     },
     "metadata": {},
     "output_type": "display_data"
    },
    {
     "data": {
      "text/html": [
       "<pre>| 1106    | 24m 54s      | 0.508107          | 0.484263                          |             |</pre>"
      ],
      "text/plain": [
       "| 1106    | 24m 54s      | 0.508107          | 0.484263                          |             |"
      ]
     },
     "metadata": {},
     "output_type": "display_data"
    },
    {
     "data": {
      "text/html": [
       "<pre>| 1107    | 24m 55s      | 0.508069          | 0.484226                          |             |</pre>"
      ],
      "text/plain": [
       "| 1107    | 24m 55s      | 0.508069          | 0.484226                          |             |"
      ]
     },
     "metadata": {},
     "output_type": "display_data"
    },
    {
     "data": {
      "text/html": [
       "<pre>| 1108    | 24m 56s      | 0.508031          | 0.484187                          |             |</pre>"
      ],
      "text/plain": [
       "| 1108    | 24m 56s      | 0.508031          | 0.484187                          |             |"
      ]
     },
     "metadata": {},
     "output_type": "display_data"
    },
    {
     "data": {
      "text/html": [
       "<pre>| 1109    | 24m 58s      | 0.507993          | 0.48415                           |             |</pre>"
      ],
      "text/plain": [
       "| 1109    | 24m 58s      | 0.507993          | 0.48415                           |             |"
      ]
     },
     "metadata": {},
     "output_type": "display_data"
    },
    {
     "data": {
      "text/html": [
       "<pre>| 1110    | 24m 59s      | 0.507957          | 0.484114                          |             |</pre>"
      ],
      "text/plain": [
       "| 1110    | 24m 59s      | 0.507957          | 0.484114                          |             |"
      ]
     },
     "metadata": {},
     "output_type": "display_data"
    },
    {
     "data": {
      "text/html": [
       "<pre>| 1111    | 25m 0s       | 0.507919          | 0.484076                          |             |</pre>"
      ],
      "text/plain": [
       "| 1111    | 25m 0s       | 0.507919          | 0.484076                          |             |"
      ]
     },
     "metadata": {},
     "output_type": "display_data"
    },
    {
     "data": {
      "text/html": [
       "<pre>| 1112    | 25m 2s       | 0.507881          | 0.484039                          |             |</pre>"
      ],
      "text/plain": [
       "| 1112    | 25m 2s       | 0.507881          | 0.484039                          |             |"
      ]
     },
     "metadata": {},
     "output_type": "display_data"
    },
    {
     "data": {
      "text/html": [
       "<pre>| 1113    | 25m 3s       | 0.507843          | 0.484001                          |             |</pre>"
      ],
      "text/plain": [
       "| 1113    | 25m 3s       | 0.507843          | 0.484001                          |             |"
      ]
     },
     "metadata": {},
     "output_type": "display_data"
    },
    {
     "data": {
      "text/html": [
       "<pre>| 1114    | 25m 4s       | 0.507807          | 0.483964                          |             |</pre>"
      ],
      "text/plain": [
       "| 1114    | 25m 4s       | 0.507807          | 0.483964                          |             |"
      ]
     },
     "metadata": {},
     "output_type": "display_data"
    },
    {
     "data": {
      "text/html": [
       "<pre>| 1115    | 25m 6s       | 0.507768          | 0.483925                          |             |</pre>"
      ],
      "text/plain": [
       "| 1115    | 25m 6s       | 0.507768          | 0.483925                          |             |"
      ]
     },
     "metadata": {},
     "output_type": "display_data"
    },
    {
     "data": {
      "text/html": [
       "<pre>| 1116    | 25m 7s       | 0.507731          | 0.483888                          |             |</pre>"
      ],
      "text/plain": [
       "| 1116    | 25m 7s       | 0.507731          | 0.483888                          |             |"
      ]
     },
     "metadata": {},
     "output_type": "display_data"
    },
    {
     "data": {
      "text/html": [
       "<pre>| 1117    | 25m 9s       | 0.507695          | 0.483851                          |             |</pre>"
      ],
      "text/plain": [
       "| 1117    | 25m 9s       | 0.507695          | 0.483851                          |             |"
      ]
     },
     "metadata": {},
     "output_type": "display_data"
    },
    {
     "data": {
      "text/html": [
       "<pre>| 1118    | 25m 10s      | 0.507657          | 0.483813                          |             |</pre>"
      ],
      "text/plain": [
       "| 1118    | 25m 10s      | 0.507657          | 0.483813                          |             |"
      ]
     },
     "metadata": {},
     "output_type": "display_data"
    },
    {
     "data": {
      "text/html": [
       "<pre>| 1119    | 25m 11s      | 0.507621          | 0.483777                          |             |</pre>"
      ],
      "text/plain": [
       "| 1119    | 25m 11s      | 0.507621          | 0.483777                          |             |"
      ]
     },
     "metadata": {},
     "output_type": "display_data"
    },
    {
     "data": {
      "text/html": [
       "<pre>| 1120    | 25m 13s      | 0.507585          | 0.48374                           |             |</pre>"
      ],
      "text/plain": [
       "| 1120    | 25m 13s      | 0.507585          | 0.48374                           |             |"
      ]
     },
     "metadata": {},
     "output_type": "display_data"
    },
    {
     "data": {
      "text/html": [
       "<pre>| 1121    | 25m 14s      | 0.507547          | 0.483701                          |             |</pre>"
      ],
      "text/plain": [
       "| 1121    | 25m 14s      | 0.507547          | 0.483701                          |             |"
      ]
     },
     "metadata": {},
     "output_type": "display_data"
    },
    {
     "data": {
      "text/html": [
       "<pre>| 1122    | 25m 15s      | 0.507509          | 0.483663                          |             |</pre>"
      ],
      "text/plain": [
       "| 1122    | 25m 15s      | 0.507509          | 0.483663                          |             |"
      ]
     },
     "metadata": {},
     "output_type": "display_data"
    },
    {
     "data": {
      "text/html": [
       "<pre>| 1123    | 25m 17s      | 0.507472          | 0.483625                          |             |</pre>"
      ],
      "text/plain": [
       "| 1123    | 25m 17s      | 0.507472          | 0.483625                          |             |"
      ]
     },
     "metadata": {},
     "output_type": "display_data"
    },
    {
     "data": {
      "text/html": [
       "<pre>| 1124    | 25m 18s      | 0.507436          | 0.483588                          |             |</pre>"
      ],
      "text/plain": [
       "| 1124    | 25m 18s      | 0.507436          | 0.483588                          |             |"
      ]
     },
     "metadata": {},
     "output_type": "display_data"
    },
    {
     "data": {
      "text/html": [
       "<pre>| 1125    | 25m 19s      | 0.507399          | 0.48355                           |             |</pre>"
      ],
      "text/plain": [
       "| 1125    | 25m 19s      | 0.507399          | 0.48355                           |             |"
      ]
     },
     "metadata": {},
     "output_type": "display_data"
    },
    {
     "data": {
      "text/html": [
       "<pre>| 1126    | 25m 20s      | 0.507361          | 0.483511                          |             |</pre>"
      ],
      "text/plain": [
       "| 1126    | 25m 20s      | 0.507361          | 0.483511                          |             |"
      ]
     },
     "metadata": {},
     "output_type": "display_data"
    },
    {
     "data": {
      "text/html": [
       "<pre>| 1127    | 25m 22s      | 0.507325          | 0.483473                          |             |</pre>"
      ],
      "text/plain": [
       "| 1127    | 25m 22s      | 0.507325          | 0.483473                          |             |"
      ]
     },
     "metadata": {},
     "output_type": "display_data"
    },
    {
     "data": {
      "text/html": [
       "<pre>| 1128    | 25m 23s      | 0.507288          | 0.483436                          |             |</pre>"
      ],
      "text/plain": [
       "| 1128    | 25m 23s      | 0.507288          | 0.483436                          |             |"
      ]
     },
     "metadata": {},
     "output_type": "display_data"
    },
    {
     "data": {
      "text/html": [
       "<pre>| 1129    | 25m 24s      | 0.507252          | 0.483398                          |             |</pre>"
      ],
      "text/plain": [
       "| 1129    | 25m 24s      | 0.507252          | 0.483398                          |             |"
      ]
     },
     "metadata": {},
     "output_type": "display_data"
    },
    {
     "data": {
      "text/html": [
       "<pre>| 1130    | 25m 26s      | 0.507215          | 0.48336                           |             |</pre>"
      ],
      "text/plain": [
       "| 1130    | 25m 26s      | 0.507215          | 0.48336                           |             |"
      ]
     },
     "metadata": {},
     "output_type": "display_data"
    },
    {
     "data": {
      "text/html": [
       "<pre>| 1131    | 25m 27s      | 0.507179          | 0.483323                          |             |</pre>"
      ],
      "text/plain": [
       "| 1131    | 25m 27s      | 0.507179          | 0.483323                          |             |"
      ]
     },
     "metadata": {},
     "output_type": "display_data"
    },
    {
     "data": {
      "text/html": [
       "<pre>| 1132    | 25m 29s      | 0.507143          | 0.483286                          |             |</pre>"
      ],
      "text/plain": [
       "| 1132    | 25m 29s      | 0.507143          | 0.483286                          |             |"
      ]
     },
     "metadata": {},
     "output_type": "display_data"
    },
    {
     "data": {
      "text/html": [
       "<pre>| 1133    | 25m 30s      | 0.507108          | 0.483248                          |             |</pre>"
      ],
      "text/plain": [
       "| 1133    | 25m 30s      | 0.507108          | 0.483248                          |             |"
      ]
     },
     "metadata": {},
     "output_type": "display_data"
    },
    {
     "data": {
      "text/html": [
       "<pre>| 1134    | 25m 32s      | 0.507072          | 0.483211                          |             |</pre>"
      ],
      "text/plain": [
       "| 1134    | 25m 32s      | 0.507072          | 0.483211                          |             |"
      ]
     },
     "metadata": {},
     "output_type": "display_data"
    },
    {
     "data": {
      "text/html": [
       "<pre>| 1135    | 25m 33s      | 0.507036          | 0.483173                          |             |</pre>"
      ],
      "text/plain": [
       "| 1135    | 25m 33s      | 0.507036          | 0.483173                          |             |"
      ]
     },
     "metadata": {},
     "output_type": "display_data"
    },
    {
     "data": {
      "text/html": [
       "<pre>| 1136    | 25m 34s      | 0.507002          | 0.483137                          |             |</pre>"
      ],
      "text/plain": [
       "| 1136    | 25m 34s      | 0.507002          | 0.483137                          |             |"
      ]
     },
     "metadata": {},
     "output_type": "display_data"
    },
    {
     "data": {
      "text/html": [
       "<pre>| 1137    | 25m 36s      | 0.506966          | 0.483099                          |             |</pre>"
      ],
      "text/plain": [
       "| 1137    | 25m 36s      | 0.506966          | 0.483099                          |             |"
      ]
     },
     "metadata": {},
     "output_type": "display_data"
    },
    {
     "data": {
      "text/html": [
       "<pre>| 1138    | 25m 37s      | 0.506932          | 0.483063                          |             |</pre>"
      ],
      "text/plain": [
       "| 1138    | 25m 37s      | 0.506932          | 0.483063                          |             |"
      ]
     },
     "metadata": {},
     "output_type": "display_data"
    },
    {
     "data": {
      "text/html": [
       "<pre>| 1139    | 25m 38s      | 0.506896          | 0.483025                          |             |</pre>"
      ],
      "text/plain": [
       "| 1139    | 25m 38s      | 0.506896          | 0.483025                          |             |"
      ]
     },
     "metadata": {},
     "output_type": "display_data"
    },
    {
     "data": {
      "text/html": [
       "<pre>| 1140    | 25m 40s      | 0.50686           | 0.482987                          |             |</pre>"
      ],
      "text/plain": [
       "| 1140    | 25m 40s      | 0.50686           | 0.482987                          |             |"
      ]
     },
     "metadata": {},
     "output_type": "display_data"
    },
    {
     "data": {
      "text/html": [
       "<pre>| 1141    | 25m 41s      | 0.506825          | 0.482949                          |             |</pre>"
      ],
      "text/plain": [
       "| 1141    | 25m 41s      | 0.506825          | 0.482949                          |             |"
      ]
     },
     "metadata": {},
     "output_type": "display_data"
    },
    {
     "data": {
      "text/html": [
       "<pre>| 1142    | 25m 42s      | 0.506789          | 0.482911                          |             |</pre>"
      ],
      "text/plain": [
       "| 1142    | 25m 42s      | 0.506789          | 0.482911                          |             |"
      ]
     },
     "metadata": {},
     "output_type": "display_data"
    },
    {
     "data": {
      "text/html": [
       "<pre>| 1143    | 25m 44s      | 0.506754          | 0.482873                          |             |</pre>"
      ],
      "text/plain": [
       "| 1143    | 25m 44s      | 0.506754          | 0.482873                          |             |"
      ]
     },
     "metadata": {},
     "output_type": "display_data"
    },
    {
     "data": {
      "text/html": [
       "<pre>| 1144    | 25m 45s      | 0.506719          | 0.482836                          |             |</pre>"
      ],
      "text/plain": [
       "| 1144    | 25m 45s      | 0.506719          | 0.482836                          |             |"
      ]
     },
     "metadata": {},
     "output_type": "display_data"
    },
    {
     "data": {
      "text/html": [
       "<pre>| 1145    | 25m 46s      | 0.506685          | 0.482799                          |             |</pre>"
      ],
      "text/plain": [
       "| 1145    | 25m 46s      | 0.506685          | 0.482799                          |             |"
      ]
     },
     "metadata": {},
     "output_type": "display_data"
    },
    {
     "data": {
      "text/html": [
       "<pre>| 1146    | 25m 48s      | 0.50665           | 0.482761                          |             |</pre>"
      ],
      "text/plain": [
       "| 1146    | 25m 48s      | 0.50665           | 0.482761                          |             |"
      ]
     },
     "metadata": {},
     "output_type": "display_data"
    },
    {
     "data": {
      "text/html": [
       "<pre>| 1147    | 25m 49s      | 0.506615          | 0.482724                          |             |</pre>"
      ],
      "text/plain": [
       "| 1147    | 25m 49s      | 0.506615          | 0.482724                          |             |"
      ]
     },
     "metadata": {},
     "output_type": "display_data"
    },
    {
     "data": {
      "text/html": [
       "<pre>| 1148    | 25m 50s      | 0.506582          | 0.482687                          |             |</pre>"
      ],
      "text/plain": [
       "| 1148    | 25m 50s      | 0.506582          | 0.482687                          |             |"
      ]
     },
     "metadata": {},
     "output_type": "display_data"
    },
    {
     "data": {
      "text/html": [
       "<pre>| 1149    | 25m 52s      | 0.506546          | 0.482649                          |             |</pre>"
      ],
      "text/plain": [
       "| 1149    | 25m 52s      | 0.506546          | 0.482649                          |             |"
      ]
     },
     "metadata": {},
     "output_type": "display_data"
    },
    {
     "data": {
      "text/html": [
       "<pre>| 1150    | 25m 53s      | 0.506512          | 0.482611                          |             |</pre>"
      ],
      "text/plain": [
       "| 1150    | 25m 53s      | 0.506512          | 0.482611                          |             |"
      ]
     },
     "metadata": {},
     "output_type": "display_data"
    },
    {
     "data": {
      "text/html": [
       "<pre>| 1151    | 25m 54s      | 0.506478          | 0.482574                          |             |</pre>"
      ],
      "text/plain": [
       "| 1151    | 25m 54s      | 0.506478          | 0.482574                          |             |"
      ]
     },
     "metadata": {},
     "output_type": "display_data"
    },
    {
     "data": {
      "text/html": [
       "<pre>| 1152    | 25m 55s      | 0.506444          | 0.482537                          |             |</pre>"
      ],
      "text/plain": [
       "| 1152    | 25m 55s      | 0.506444          | 0.482537                          |             |"
      ]
     },
     "metadata": {},
     "output_type": "display_data"
    },
    {
     "data": {
      "text/html": [
       "<pre>| 1153    | 25m 57s      | 0.506409          | 0.482498                          |             |</pre>"
      ],
      "text/plain": [
       "| 1153    | 25m 57s      | 0.506409          | 0.482498                          |             |"
      ]
     },
     "metadata": {},
     "output_type": "display_data"
    },
    {
     "data": {
      "text/html": [
       "<pre>| 1154    | 25m 58s      | 0.506375          | 0.482461                          |             |</pre>"
      ],
      "text/plain": [
       "| 1154    | 25m 58s      | 0.506375          | 0.482461                          |             |"
      ]
     },
     "metadata": {},
     "output_type": "display_data"
    },
    {
     "data": {
      "text/html": [
       "<pre>| 1155    | 25m 59s      | 0.506341          | 0.482423                          |             |</pre>"
      ],
      "text/plain": [
       "| 1155    | 25m 59s      | 0.506341          | 0.482423                          |             |"
      ]
     },
     "metadata": {},
     "output_type": "display_data"
    },
    {
     "data": {
      "text/html": [
       "<pre>| 1156    | 26m 1s       | 0.506306          | 0.482385                          |             |</pre>"
      ],
      "text/plain": [
       "| 1156    | 26m 1s       | 0.506306          | 0.482385                          |             |"
      ]
     },
     "metadata": {},
     "output_type": "display_data"
    },
    {
     "data": {
      "text/html": [
       "<pre>| 1157    | 26m 2s       | 0.506272          | 0.482347                          |             |</pre>"
      ],
      "text/plain": [
       "| 1157    | 26m 2s       | 0.506272          | 0.482347                          |             |"
      ]
     },
     "metadata": {},
     "output_type": "display_data"
    },
    {
     "data": {
      "text/html": [
       "<pre>| 1158    | 26m 3s       | 0.506238          | 0.482309                          |             |</pre>"
      ],
      "text/plain": [
       "| 1158    | 26m 3s       | 0.506238          | 0.482309                          |             |"
      ]
     },
     "metadata": {},
     "output_type": "display_data"
    },
    {
     "data": {
      "text/html": [
       "<pre>| 1159    | 26m 5s       | 0.506204          | 0.482272                          |             |</pre>"
      ],
      "text/plain": [
       "| 1159    | 26m 5s       | 0.506204          | 0.482272                          |             |"
      ]
     },
     "metadata": {},
     "output_type": "display_data"
    },
    {
     "data": {
      "text/html": [
       "<pre>| 1160    | 26m 6s       | 0.506171          | 0.482235                          |             |</pre>"
      ],
      "text/plain": [
       "| 1160    | 26m 6s       | 0.506171          | 0.482235                          |             |"
      ]
     },
     "metadata": {},
     "output_type": "display_data"
    },
    {
     "data": {
      "text/html": [
       "<pre>| 1161    | 26m 7s       | 0.506137          | 0.482197                          |             |</pre>"
      ],
      "text/plain": [
       "| 1161    | 26m 7s       | 0.506137          | 0.482197                          |             |"
      ]
     },
     "metadata": {},
     "output_type": "display_data"
    },
    {
     "data": {
      "text/html": [
       "<pre>| 1162    | 26m 9s       | 0.506102          | 0.482158                          |             |</pre>"
      ],
      "text/plain": [
       "| 1162    | 26m 9s       | 0.506102          | 0.482158                          |             |"
      ]
     },
     "metadata": {},
     "output_type": "display_data"
    },
    {
     "data": {
      "text/html": [
       "<pre>| 1163    | 26m 10s      | 0.506069          | 0.482122                          |             |</pre>"
      ],
      "text/plain": [
       "| 1163    | 26m 10s      | 0.506069          | 0.482122                          |             |"
      ]
     },
     "metadata": {},
     "output_type": "display_data"
    },
    {
     "data": {
      "text/html": [
       "<pre>| 1164    | 26m 11s      | 0.506035          | 0.482085                          |             |</pre>"
      ],
      "text/plain": [
       "| 1164    | 26m 11s      | 0.506035          | 0.482085                          |             |"
      ]
     },
     "metadata": {},
     "output_type": "display_data"
    },
    {
     "data": {
      "text/html": [
       "<pre>| 1165    | 26m 13s      | 0.506002          | 0.482047                          |             |</pre>"
      ],
      "text/plain": [
       "| 1165    | 26m 13s      | 0.506002          | 0.482047                          |             |"
      ]
     },
     "metadata": {},
     "output_type": "display_data"
    },
    {
     "data": {
      "text/html": [
       "<pre>| 1166    | 26m 14s      | 0.505968          | 0.482011                          |             |</pre>"
      ],
      "text/plain": [
       "| 1166    | 26m 14s      | 0.505968          | 0.482011                          |             |"
      ]
     },
     "metadata": {},
     "output_type": "display_data"
    },
    {
     "data": {
      "text/html": [
       "<pre>| 1167    | 26m 16s      | 0.505935          | 0.481974                          |             |</pre>"
      ],
      "text/plain": [
       "| 1167    | 26m 16s      | 0.505935          | 0.481974                          |             |"
      ]
     },
     "metadata": {},
     "output_type": "display_data"
    },
    {
     "data": {
      "text/html": [
       "<pre>| 1168    | 26m 17s      | 0.505902          | 0.481937                          |             |</pre>"
      ],
      "text/plain": [
       "| 1168    | 26m 17s      | 0.505902          | 0.481937                          |             |"
      ]
     },
     "metadata": {},
     "output_type": "display_data"
    },
    {
     "data": {
      "text/html": [
       "<pre>| 1169    | 26m 18s      | 0.505869          | 0.4819                            |             |</pre>"
      ],
      "text/plain": [
       "| 1169    | 26m 18s      | 0.505869          | 0.4819                            |             |"
      ]
     },
     "metadata": {},
     "output_type": "display_data"
    },
    {
     "data": {
      "text/html": [
       "<pre>| 1170    | 26m 20s      | 0.505836          | 0.481864                          |             |</pre>"
      ],
      "text/plain": [
       "| 1170    | 26m 20s      | 0.505836          | 0.481864                          |             |"
      ]
     },
     "metadata": {},
     "output_type": "display_data"
    },
    {
     "data": {
      "text/html": [
       "<pre>| 1171    | 26m 21s      | 0.505803          | 0.481827                          |             |</pre>"
      ],
      "text/plain": [
       "| 1171    | 26m 21s      | 0.505803          | 0.481827                          |             |"
      ]
     },
     "metadata": {},
     "output_type": "display_data"
    },
    {
     "data": {
      "text/html": [
       "<pre>| 1172    | 26m 22s      | 0.50577           | 0.48179                           |             |</pre>"
      ],
      "text/plain": [
       "| 1172    | 26m 22s      | 0.50577           | 0.48179                           |             |"
      ]
     },
     "metadata": {},
     "output_type": "display_data"
    },
    {
     "data": {
      "text/html": [
       "<pre>| 1173    | 26m 24s      | 0.505738          | 0.481755                          |             |</pre>"
      ],
      "text/plain": [
       "| 1173    | 26m 24s      | 0.505738          | 0.481755                          |             |"
      ]
     },
     "metadata": {},
     "output_type": "display_data"
    },
    {
     "data": {
      "text/html": [
       "<pre>| 1174    | 26m 25s      | 0.505706          | 0.481718                          |             |</pre>"
      ],
      "text/plain": [
       "| 1174    | 26m 25s      | 0.505706          | 0.481718                          |             |"
      ]
     },
     "metadata": {},
     "output_type": "display_data"
    },
    {
     "data": {
      "text/html": [
       "<pre>| 1175    | 26m 26s      | 0.505673          | 0.481683                          |             |</pre>"
      ],
      "text/plain": [
       "| 1175    | 26m 26s      | 0.505673          | 0.481683                          |             |"
      ]
     },
     "metadata": {},
     "output_type": "display_data"
    },
    {
     "data": {
      "text/html": [
       "<pre>| 1176    | 26m 28s      | 0.50564           | 0.481646                          |             |</pre>"
      ],
      "text/plain": [
       "| 1176    | 26m 28s      | 0.50564           | 0.481646                          |             |"
      ]
     },
     "metadata": {},
     "output_type": "display_data"
    },
    {
     "data": {
      "text/html": [
       "<pre>| 1177    | 26m 29s      | 0.505608          | 0.481611                          |             |</pre>"
      ],
      "text/plain": [
       "| 1177    | 26m 29s      | 0.505608          | 0.481611                          |             |"
      ]
     },
     "metadata": {},
     "output_type": "display_data"
    },
    {
     "data": {
      "text/html": [
       "<pre>| 1178    | 26m 30s      | 0.505577          | 0.481576                          |             |</pre>"
      ],
      "text/plain": [
       "| 1178    | 26m 30s      | 0.505577          | 0.481576                          |             |"
      ]
     },
     "metadata": {},
     "output_type": "display_data"
    },
    {
     "data": {
      "text/html": [
       "<pre>| 1179    | 26m 32s      | 0.505544          | 0.481539                          |             |</pre>"
      ],
      "text/plain": [
       "| 1179    | 26m 32s      | 0.505544          | 0.481539                          |             |"
      ]
     },
     "metadata": {},
     "output_type": "display_data"
    },
    {
     "data": {
      "text/html": [
       "<pre>| 1180    | 26m 33s      | 0.505512          | 0.481503                          |             |</pre>"
      ],
      "text/plain": [
       "| 1180    | 26m 33s      | 0.505512          | 0.481503                          |             |"
      ]
     },
     "metadata": {},
     "output_type": "display_data"
    },
    {
     "data": {
      "text/html": [
       "<pre>| 1181    | 26m 35s      | 0.505481          | 0.481467                          |             |</pre>"
      ],
      "text/plain": [
       "| 1181    | 26m 35s      | 0.505481          | 0.481467                          |             |"
      ]
     },
     "metadata": {},
     "output_type": "display_data"
    },
    {
     "data": {
      "text/html": [
       "<pre>| 1182    | 26m 36s      | 0.505449          | 0.481432                          |             |</pre>"
      ],
      "text/plain": [
       "| 1182    | 26m 36s      | 0.505449          | 0.481432                          |             |"
      ]
     },
     "metadata": {},
     "output_type": "display_data"
    },
    {
     "data": {
      "text/html": [
       "<pre>| 1183    | 26m 37s      | 0.505418          | 0.481397                          |             |</pre>"
      ],
      "text/plain": [
       "| 1183    | 26m 37s      | 0.505418          | 0.481397                          |             |"
      ]
     },
     "metadata": {},
     "output_type": "display_data"
    },
    {
     "data": {
      "text/html": [
       "<pre>| 1184    | 26m 39s      | 0.505385          | 0.48136                           |             |</pre>"
      ],
      "text/plain": [
       "| 1184    | 26m 39s      | 0.505385          | 0.48136                           |             |"
      ]
     },
     "metadata": {},
     "output_type": "display_data"
    },
    {
     "data": {
      "text/html": [
       "<pre>| 1185    | 26m 40s      | 0.505354          | 0.481325                          |             |</pre>"
      ],
      "text/plain": [
       "| 1185    | 26m 40s      | 0.505354          | 0.481325                          |             |"
      ]
     },
     "metadata": {},
     "output_type": "display_data"
    },
    {
     "data": {
      "text/html": [
       "<pre>| 1186    | 26m 41s      | 0.505322          | 0.481289                          |             |</pre>"
      ],
      "text/plain": [
       "| 1186    | 26m 41s      | 0.505322          | 0.481289                          |             |"
      ]
     },
     "metadata": {},
     "output_type": "display_data"
    },
    {
     "data": {
      "text/html": [
       "<pre>| 1187    | 26m 43s      | 0.505291          | 0.481254                          |             |</pre>"
      ],
      "text/plain": [
       "| 1187    | 26m 43s      | 0.505291          | 0.481254                          |             |"
      ]
     },
     "metadata": {},
     "output_type": "display_data"
    },
    {
     "data": {
      "text/html": [
       "<pre>| 1188    | 26m 44s      | 0.505259          | 0.481217                          |             |</pre>"
      ],
      "text/plain": [
       "| 1188    | 26m 44s      | 0.505259          | 0.481217                          |             |"
      ]
     },
     "metadata": {},
     "output_type": "display_data"
    },
    {
     "data": {
      "text/html": [
       "<pre>| 1189    | 26m 45s      | 0.505228          | 0.481183                          |             |</pre>"
      ],
      "text/plain": [
       "| 1189    | 26m 45s      | 0.505228          | 0.481183                          |             |"
      ]
     },
     "metadata": {},
     "output_type": "display_data"
    },
    {
     "data": {
      "text/html": [
       "<pre>| 1190    | 26m 46s      | 0.505198          | 0.481148                          |             |</pre>"
      ],
      "text/plain": [
       "| 1190    | 26m 46s      | 0.505198          | 0.481148                          |             |"
      ]
     },
     "metadata": {},
     "output_type": "display_data"
    },
    {
     "data": {
      "text/html": [
       "<pre>| 1191    | 26m 48s      | 0.505166          | 0.481111                          |             |</pre>"
      ],
      "text/plain": [
       "| 1191    | 26m 48s      | 0.505166          | 0.481111                          |             |"
      ]
     },
     "metadata": {},
     "output_type": "display_data"
    },
    {
     "data": {
      "text/html": [
       "<pre>| 1192    | 26m 49s      | 0.505134          | 0.481075                          |             |</pre>"
      ],
      "text/plain": [
       "| 1192    | 26m 49s      | 0.505134          | 0.481075                          |             |"
      ]
     },
     "metadata": {},
     "output_type": "display_data"
    },
    {
     "data": {
      "text/html": [
       "<pre>| 1193    | 26m 50s      | 0.505102          | 0.481038                          |             |</pre>"
      ],
      "text/plain": [
       "| 1193    | 26m 50s      | 0.505102          | 0.481038                          |             |"
      ]
     },
     "metadata": {},
     "output_type": "display_data"
    },
    {
     "data": {
      "text/html": [
       "<pre>| 1194    | 26m 52s      | 0.505072          | 0.481004                          |             |</pre>"
      ],
      "text/plain": [
       "| 1194    | 26m 52s      | 0.505072          | 0.481004                          |             |"
      ]
     },
     "metadata": {},
     "output_type": "display_data"
    },
    {
     "data": {
      "text/html": [
       "<pre>| 1195    | 26m 53s      | 0.505041          | 0.480967                          |             |</pre>"
      ],
      "text/plain": [
       "| 1195    | 26m 53s      | 0.505041          | 0.480967                          |             |"
      ]
     },
     "metadata": {},
     "output_type": "display_data"
    },
    {
     "data": {
      "text/html": [
       "<pre>| 1196    | 26m 54s      | 0.505009          | 0.480931                          |             |</pre>"
      ],
      "text/plain": [
       "| 1196    | 26m 54s      | 0.505009          | 0.480931                          |             |"
      ]
     },
     "metadata": {},
     "output_type": "display_data"
    },
    {
     "data": {
      "text/html": [
       "<pre>| 1197    | 26m 56s      | 0.504979          | 0.480897                          |             |</pre>"
      ],
      "text/plain": [
       "| 1197    | 26m 56s      | 0.504979          | 0.480897                          |             |"
      ]
     },
     "metadata": {},
     "output_type": "display_data"
    },
    {
     "data": {
      "text/html": [
       "<pre>| 1198    | 26m 57s      | 0.504947          | 0.48086                           |             |</pre>"
      ],
      "text/plain": [
       "| 1198    | 26m 57s      | 0.504947          | 0.48086                           |             |"
      ]
     },
     "metadata": {},
     "output_type": "display_data"
    },
    {
     "data": {
      "text/html": [
       "<pre>| 1199    | 26m 58s      | 0.504915          | 0.480823                          |             |</pre>"
      ],
      "text/plain": [
       "| 1199    | 26m 58s      | 0.504915          | 0.480823                          |             |"
      ]
     },
     "metadata": {},
     "output_type": "display_data"
    },
    {
     "data": {
      "text/html": [
       "<pre>| 1200    | 27m 0s       | 0.504884          | 0.480787                          |             |</pre>"
      ],
      "text/plain": [
       "| 1200    | 27m 0s       | 0.504884          | 0.480787                          |             |"
      ]
     },
     "metadata": {},
     "output_type": "display_data"
    },
    {
     "data": {
      "text/html": [
       "<pre>| 1201    | 27m 1s       | 0.504854          | 0.480751                          |             |</pre>"
      ],
      "text/plain": [
       "| 1201    | 27m 1s       | 0.504854          | 0.480751                          |             |"
      ]
     },
     "metadata": {},
     "output_type": "display_data"
    },
    {
     "data": {
      "text/html": [
       "<pre>| 1202    | 27m 2s       | 0.504822          | 0.480714                          |             |</pre>"
      ],
      "text/plain": [
       "| 1202    | 27m 2s       | 0.504822          | 0.480714                          |             |"
      ]
     },
     "metadata": {},
     "output_type": "display_data"
    },
    {
     "data": {
      "text/html": [
       "<pre>| 1203    | 27m 4s       | 0.50479           | 0.480677                          |             |</pre>"
      ],
      "text/plain": [
       "| 1203    | 27m 4s       | 0.50479           | 0.480677                          |             |"
      ]
     },
     "metadata": {},
     "output_type": "display_data"
    },
    {
     "data": {
      "text/html": [
       "<pre>| 1204    | 27m 5s       | 0.504759          | 0.480641                          |             |</pre>"
      ],
      "text/plain": [
       "| 1204    | 27m 5s       | 0.504759          | 0.480641                          |             |"
      ]
     },
     "metadata": {},
     "output_type": "display_data"
    },
    {
     "data": {
      "text/html": [
       "<pre>| 1205    | 27m 6s       | 0.504728          | 0.480604                          |             |</pre>"
      ],
      "text/plain": [
       "| 1205    | 27m 6s       | 0.504728          | 0.480604                          |             |"
      ]
     },
     "metadata": {},
     "output_type": "display_data"
    },
    {
     "data": {
      "text/html": [
       "<pre>| 1206    | 27m 8s       | 0.504696          | 0.480567                          |             |</pre>"
      ],
      "text/plain": [
       "| 1206    | 27m 8s       | 0.504696          | 0.480567                          |             |"
      ]
     },
     "metadata": {},
     "output_type": "display_data"
    },
    {
     "data": {
      "text/html": [
       "<pre>| 1207    | 27m 9s       | 0.504667          | 0.480531                          |             |</pre>"
      ],
      "text/plain": [
       "| 1207    | 27m 9s       | 0.504667          | 0.480531                          |             |"
      ]
     },
     "metadata": {},
     "output_type": "display_data"
    },
    {
     "data": {
      "text/html": [
       "<pre>| 1208    | 27m 10s      | 0.504635          | 0.480494                          |             |</pre>"
      ],
      "text/plain": [
       "| 1208    | 27m 10s      | 0.504635          | 0.480494                          |             |"
      ]
     },
     "metadata": {},
     "output_type": "display_data"
    },
    {
     "data": {
      "text/html": [
       "<pre>| 1209    | 27m 12s      | 0.504605          | 0.480458                          |             |</pre>"
      ],
      "text/plain": [
       "| 1209    | 27m 12s      | 0.504605          | 0.480458                          |             |"
      ]
     },
     "metadata": {},
     "output_type": "display_data"
    },
    {
     "data": {
      "text/html": [
       "<pre>| 1210    | 27m 13s      | 0.504572          | 0.48042                           |             |</pre>"
      ],
      "text/plain": [
       "| 1210    | 27m 13s      | 0.504572          | 0.48042                           |             |"
      ]
     },
     "metadata": {},
     "output_type": "display_data"
    },
    {
     "data": {
      "text/html": [
       "<pre>| 1211    | 27m 14s      | 0.504543          | 0.480384                          |             |</pre>"
      ],
      "text/plain": [
       "| 1211    | 27m 14s      | 0.504543          | 0.480384                          |             |"
      ]
     },
     "metadata": {},
     "output_type": "display_data"
    },
    {
     "data": {
      "text/html": [
       "<pre>| 1212    | 27m 15s      | 0.504513          | 0.480348                          |             |</pre>"
      ],
      "text/plain": [
       "| 1212    | 27m 15s      | 0.504513          | 0.480348                          |             |"
      ]
     },
     "metadata": {},
     "output_type": "display_data"
    },
    {
     "data": {
      "text/html": [
       "<pre>| 1213    | 27m 17s      | 0.504483          | 0.480312                          |             |</pre>"
      ],
      "text/plain": [
       "| 1213    | 27m 17s      | 0.504483          | 0.480312                          |             |"
      ]
     },
     "metadata": {},
     "output_type": "display_data"
    },
    {
     "data": {
      "text/html": [
       "<pre>| 1214    | 27m 18s      | 0.504452          | 0.480274                          |             |</pre>"
      ],
      "text/plain": [
       "| 1214    | 27m 18s      | 0.504452          | 0.480274                          |             |"
      ]
     },
     "metadata": {},
     "output_type": "display_data"
    },
    {
     "data": {
      "text/html": [
       "<pre>| 1215    | 27m 20s      | 0.504422          | 0.480237                          |             |</pre>"
      ],
      "text/plain": [
       "| 1215    | 27m 20s      | 0.504422          | 0.480237                          |             |"
      ]
     },
     "metadata": {},
     "output_type": "display_data"
    },
    {
     "data": {
      "text/html": [
       "<pre>| 1216    | 27m 21s      | 0.50439           | 0.480198                          |             |</pre>"
      ],
      "text/plain": [
       "| 1216    | 27m 21s      | 0.50439           | 0.480198                          |             |"
      ]
     },
     "metadata": {},
     "output_type": "display_data"
    },
    {
     "data": {
      "text/html": [
       "<pre>| 1217    | 27m 23s      | 0.50436           | 0.480161                          |             |</pre>"
      ],
      "text/plain": [
       "| 1217    | 27m 23s      | 0.50436           | 0.480161                          |             |"
      ]
     },
     "metadata": {},
     "output_type": "display_data"
    },
    {
     "data": {
      "text/html": [
       "<pre>| 1218    | 27m 24s      | 0.50433           | 0.480125                          |             |</pre>"
      ],
      "text/plain": [
       "| 1218    | 27m 24s      | 0.50433           | 0.480125                          |             |"
      ]
     },
     "metadata": {},
     "output_type": "display_data"
    },
    {
     "data": {
      "text/html": [
       "<pre>| 1219    | 27m 25s      | 0.504301          | 0.480089                          |             |</pre>"
      ],
      "text/plain": [
       "| 1219    | 27m 25s      | 0.504301          | 0.480089                          |             |"
      ]
     },
     "metadata": {},
     "output_type": "display_data"
    },
    {
     "data": {
      "text/html": [
       "<pre>| 1220    | 27m 26s      | 0.504271          | 0.480052                          |             |</pre>"
      ],
      "text/plain": [
       "| 1220    | 27m 26s      | 0.504271          | 0.480052                          |             |"
      ]
     },
     "metadata": {},
     "output_type": "display_data"
    },
    {
     "data": {
      "text/html": [
       "<pre>| 1221    | 27m 28s      | 0.504242          | 0.480017                          |             |</pre>"
      ],
      "text/plain": [
       "| 1221    | 27m 28s      | 0.504242          | 0.480017                          |             |"
      ]
     },
     "metadata": {},
     "output_type": "display_data"
    },
    {
     "data": {
      "text/html": [
       "<pre>| 1222    | 27m 29s      | 0.504212          | 0.47998                           |             |</pre>"
      ],
      "text/plain": [
       "| 1222    | 27m 29s      | 0.504212          | 0.47998                           |             |"
      ]
     },
     "metadata": {},
     "output_type": "display_data"
    },
    {
     "data": {
      "text/html": [
       "<pre>| 1223    | 27m 31s      | 0.504183          | 0.479945                          |             |</pre>"
      ],
      "text/plain": [
       "| 1223    | 27m 31s      | 0.504183          | 0.479945                          |             |"
      ]
     },
     "metadata": {},
     "output_type": "display_data"
    },
    {
     "data": {
      "text/html": [
       "<pre>| 1224    | 27m 32s      | 0.504153          | 0.479908                          |             |</pre>"
      ],
      "text/plain": [
       "| 1224    | 27m 32s      | 0.504153          | 0.479908                          |             |"
      ]
     },
     "metadata": {},
     "output_type": "display_data"
    },
    {
     "data": {
      "text/html": [
       "<pre>| 1225    | 27m 33s      | 0.504124          | 0.479873                          |             |</pre>"
      ],
      "text/plain": [
       "| 1225    | 27m 33s      | 0.504124          | 0.479873                          |             |"
      ]
     },
     "metadata": {},
     "output_type": "display_data"
    },
    {
     "data": {
      "text/html": [
       "<pre>| 1226    | 27m 35s      | 0.504094          | 0.479837                          |             |</pre>"
      ],
      "text/plain": [
       "| 1226    | 27m 35s      | 0.504094          | 0.479837                          |             |"
      ]
     },
     "metadata": {},
     "output_type": "display_data"
    },
    {
     "data": {
      "text/html": [
       "<pre>| 1227    | 27m 36s      | 0.504065          | 0.479802                          |             |</pre>"
      ],
      "text/plain": [
       "| 1227    | 27m 36s      | 0.504065          | 0.479802                          |             |"
      ]
     },
     "metadata": {},
     "output_type": "display_data"
    },
    {
     "data": {
      "text/html": [
       "<pre>| 1228    | 27m 37s      | 0.504036          | 0.479767                          |             |</pre>"
      ],
      "text/plain": [
       "| 1228    | 27m 37s      | 0.504036          | 0.479767                          |             |"
      ]
     },
     "metadata": {},
     "output_type": "display_data"
    },
    {
     "data": {
      "text/html": [
       "<pre>| 1229    | 27m 39s      | 0.504007          | 0.479731                          |             |</pre>"
      ],
      "text/plain": [
       "| 1229    | 27m 39s      | 0.504007          | 0.479731                          |             |"
      ]
     },
     "metadata": {},
     "output_type": "display_data"
    },
    {
     "data": {
      "text/html": [
       "<pre>| 1230    | 27m 40s      | 0.503978          | 0.479696                          |             |</pre>"
      ],
      "text/plain": [
       "| 1230    | 27m 40s      | 0.503978          | 0.479696                          |             |"
      ]
     },
     "metadata": {},
     "output_type": "display_data"
    },
    {
     "data": {
      "text/html": [
       "<pre>| 1231    | 27m 42s      | 0.50395           | 0.479662                          |             |</pre>"
      ],
      "text/plain": [
       "| 1231    | 27m 42s      | 0.50395           | 0.479662                          |             |"
      ]
     },
     "metadata": {},
     "output_type": "display_data"
    },
    {
     "data": {
      "text/html": [
       "<pre>| 1232    | 27m 43s      | 0.50392           | 0.479627                          |             |</pre>"
      ],
      "text/plain": [
       "| 1232    | 27m 43s      | 0.50392           | 0.479627                          |             |"
      ]
     },
     "metadata": {},
     "output_type": "display_data"
    },
    {
     "data": {
      "text/html": [
       "<pre>| 1233    | 27m 44s      | 0.503891          | 0.479592                          |             |</pre>"
      ],
      "text/plain": [
       "| 1233    | 27m 44s      | 0.503891          | 0.479592                          |             |"
      ]
     },
     "metadata": {},
     "output_type": "display_data"
    },
    {
     "data": {
      "text/html": [
       "<pre>| 1234    | 27m 46s      | 0.503862          | 0.479558                          |             |</pre>"
      ],
      "text/plain": [
       "| 1234    | 27m 46s      | 0.503862          | 0.479558                          |             |"
      ]
     },
     "metadata": {},
     "output_type": "display_data"
    },
    {
     "data": {
      "text/html": [
       "<pre>| 1235    | 27m 47s      | 0.503833          | 0.479523                          |             |</pre>"
      ],
      "text/plain": [
       "| 1235    | 27m 47s      | 0.503833          | 0.479523                          |             |"
      ]
     },
     "metadata": {},
     "output_type": "display_data"
    },
    {
     "data": {
      "text/html": [
       "<pre>| 1236    | 27m 48s      | 0.503804          | 0.479488                          |             |</pre>"
      ],
      "text/plain": [
       "| 1236    | 27m 48s      | 0.503804          | 0.479488                          |             |"
      ]
     },
     "metadata": {},
     "output_type": "display_data"
    },
    {
     "data": {
      "text/html": [
       "<pre>| 1237    | 27m 49s      | 0.503776          | 0.479455                          |             |</pre>"
      ],
      "text/plain": [
       "| 1237    | 27m 49s      | 0.503776          | 0.479455                          |             |"
      ]
     },
     "metadata": {},
     "output_type": "display_data"
    },
    {
     "data": {
      "text/html": [
       "<pre>| 1238    | 27m 51s      | 0.503748          | 0.479421                          |             |</pre>"
      ],
      "text/plain": [
       "| 1238    | 27m 51s      | 0.503748          | 0.479421                          |             |"
      ]
     },
     "metadata": {},
     "output_type": "display_data"
    },
    {
     "data": {
      "text/html": [
       "<pre>| 1239    | 27m 52s      | 0.503719          | 0.479386                          |             |</pre>"
      ],
      "text/plain": [
       "| 1239    | 27m 52s      | 0.503719          | 0.479386                          |             |"
      ]
     },
     "metadata": {},
     "output_type": "display_data"
    },
    {
     "data": {
      "text/html": [
       "<pre>| 1240    | 27m 53s      | 0.503692          | 0.479353                          |             |</pre>"
      ],
      "text/plain": [
       "| 1240    | 27m 53s      | 0.503692          | 0.479353                          |             |"
      ]
     },
     "metadata": {},
     "output_type": "display_data"
    },
    {
     "data": {
      "text/html": [
       "<pre>| 1241    | 27m 55s      | 0.503664          | 0.479319                          |             |</pre>"
      ],
      "text/plain": [
       "| 1241    | 27m 55s      | 0.503664          | 0.479319                          |             |"
      ]
     },
     "metadata": {},
     "output_type": "display_data"
    },
    {
     "data": {
      "text/html": [
       "<pre>| 1242    | 27m 56s      | 0.503635          | 0.479285                          |             |</pre>"
      ],
      "text/plain": [
       "| 1242    | 27m 56s      | 0.503635          | 0.479285                          |             |"
      ]
     },
     "metadata": {},
     "output_type": "display_data"
    },
    {
     "data": {
      "text/html": [
       "<pre>| 1243    | 27m 57s      | 0.503607          | 0.47925                           |             |</pre>"
      ],
      "text/plain": [
       "| 1243    | 27m 57s      | 0.503607          | 0.47925                           |             |"
      ]
     },
     "metadata": {},
     "output_type": "display_data"
    },
    {
     "data": {
      "text/html": [
       "<pre>| 1244    | 27m 59s      | 0.50358           | 0.479217                          |             |</pre>"
      ],
      "text/plain": [
       "| 1244    | 27m 59s      | 0.50358           | 0.479217                          |             |"
      ]
     },
     "metadata": {},
     "output_type": "display_data"
    },
    {
     "data": {
      "text/html": [
       "<pre>| 1245    | 28m 0s       | 0.503552          | 0.479183                          |             |</pre>"
      ],
      "text/plain": [
       "| 1245    | 28m 0s       | 0.503552          | 0.479183                          |             |"
      ]
     },
     "metadata": {},
     "output_type": "display_data"
    },
    {
     "data": {
      "text/html": [
       "<pre>| 1246    | 28m 1s       | 0.503525          | 0.479149                          |             |</pre>"
      ],
      "text/plain": [
       "| 1246    | 28m 1s       | 0.503525          | 0.479149                          |             |"
      ]
     },
     "metadata": {},
     "output_type": "display_data"
    },
    {
     "data": {
      "text/html": [
       "<pre>| 1247    | 28m 3s       | 0.503497          | 0.479115                          |             |</pre>"
      ],
      "text/plain": [
       "| 1247    | 28m 3s       | 0.503497          | 0.479115                          |             |"
      ]
     },
     "metadata": {},
     "output_type": "display_data"
    },
    {
     "data": {
      "text/html": [
       "<pre>| 1248    | 28m 4s       | 0.503469          | 0.479081                          |             |</pre>"
      ],
      "text/plain": [
       "| 1248    | 28m 4s       | 0.503469          | 0.479081                          |             |"
      ]
     },
     "metadata": {},
     "output_type": "display_data"
    },
    {
     "data": {
      "text/html": [
       "<pre>| 1249    | 28m 5s       | 0.503442          | 0.479048                          |             |</pre>"
      ],
      "text/plain": [
       "| 1249    | 28m 5s       | 0.503442          | 0.479048                          |             |"
      ]
     },
     "metadata": {},
     "output_type": "display_data"
    },
    {
     "data": {
      "text/html": [
       "<pre>| 1250    | 28m 7s       | 0.503413          | 0.479013                          |             |</pre>"
      ],
      "text/plain": [
       "| 1250    | 28m 7s       | 0.503413          | 0.479013                          |             |"
      ]
     },
     "metadata": {},
     "output_type": "display_data"
    },
    {
     "data": {
      "text/html": [
       "<pre>| 1251    | 28m 8s       | 0.503386          | 0.478979                          |             |</pre>"
      ],
      "text/plain": [
       "| 1251    | 28m 8s       | 0.503386          | 0.478979                          |             |"
      ]
     },
     "metadata": {},
     "output_type": "display_data"
    },
    {
     "data": {
      "text/html": [
       "<pre>| 1252    | 28m 9s       | 0.503357          | 0.478943                          |             |</pre>"
      ],
      "text/plain": [
       "| 1252    | 28m 9s       | 0.503357          | 0.478943                          |             |"
      ]
     },
     "metadata": {},
     "output_type": "display_data"
    },
    {
     "data": {
      "text/html": [
       "<pre>| 1253    | 28m 11s      | 0.50333           | 0.47891                           |             |</pre>"
      ],
      "text/plain": [
       "| 1253    | 28m 11s      | 0.50333           | 0.47891                           |             |"
      ]
     },
     "metadata": {},
     "output_type": "display_data"
    },
    {
     "data": {
      "text/html": [
       "<pre>| 1254    | 28m 12s      | 0.503302          | 0.478875                          |             |</pre>"
      ],
      "text/plain": [
       "| 1254    | 28m 12s      | 0.503302          | 0.478875                          |             |"
      ]
     },
     "metadata": {},
     "output_type": "display_data"
    },
    {
     "data": {
      "text/html": [
       "<pre>| 1255    | 28m 13s      | 0.503273          | 0.47884                           |             |</pre>"
      ],
      "text/plain": [
       "| 1255    | 28m 13s      | 0.503273          | 0.47884                           |             |"
      ]
     },
     "metadata": {},
     "output_type": "display_data"
    },
    {
     "data": {
      "text/html": [
       "<pre>| 1256    | 28m 15s      | 0.503244          | 0.478805                          |             |</pre>"
      ],
      "text/plain": [
       "| 1256    | 28m 15s      | 0.503244          | 0.478805                          |             |"
      ]
     },
     "metadata": {},
     "output_type": "display_data"
    },
    {
     "data": {
      "text/html": [
       "<pre>| 1257    | 28m 16s      | 0.503216          | 0.478771                          |             |</pre>"
      ],
      "text/plain": [
       "| 1257    | 28m 16s      | 0.503216          | 0.478771                          |             |"
      ]
     },
     "metadata": {},
     "output_type": "display_data"
    },
    {
     "data": {
      "text/html": [
       "<pre>| 1258    | 28m 17s      | 0.503188          | 0.478735                          |             |</pre>"
      ],
      "text/plain": [
       "| 1258    | 28m 17s      | 0.503188          | 0.478735                          |             |"
      ]
     },
     "metadata": {},
     "output_type": "display_data"
    },
    {
     "data": {
      "text/html": [
       "<pre>| 1259    | 28m 19s      | 0.503159          | 0.4787                            |             |</pre>"
      ],
      "text/plain": [
       "| 1259    | 28m 19s      | 0.503159          | 0.4787                            |             |"
      ]
     },
     "metadata": {},
     "output_type": "display_data"
    },
    {
     "data": {
      "text/html": [
       "<pre>| 1260    | 28m 20s      | 0.503131          | 0.478665                          |             |</pre>"
      ],
      "text/plain": [
       "| 1260    | 28m 20s      | 0.503131          | 0.478665                          |             |"
      ]
     },
     "metadata": {},
     "output_type": "display_data"
    },
    {
     "data": {
      "text/html": [
       "<pre>| 1261    | 28m 21s      | 0.503103          | 0.47863                           |             |</pre>"
      ],
      "text/plain": [
       "| 1261    | 28m 21s      | 0.503103          | 0.47863                           |             |"
      ]
     },
     "metadata": {},
     "output_type": "display_data"
    },
    {
     "data": {
      "text/html": [
       "<pre>| 1262    | 28m 23s      | 0.503075          | 0.478596                          |             |</pre>"
      ],
      "text/plain": [
       "| 1262    | 28m 23s      | 0.503075          | 0.478596                          |             |"
      ]
     },
     "metadata": {},
     "output_type": "display_data"
    },
    {
     "data": {
      "text/html": [
       "<pre>| 1263    | 28m 24s      | 0.503047          | 0.47856                           |             |</pre>"
      ],
      "text/plain": [
       "| 1263    | 28m 24s      | 0.503047          | 0.47856                           |             |"
      ]
     },
     "metadata": {},
     "output_type": "display_data"
    },
    {
     "data": {
      "text/html": [
       "<pre>| 1264    | 28m 26s      | 0.503019          | 0.478525                          |             |</pre>"
      ],
      "text/plain": [
       "| 1264    | 28m 26s      | 0.503019          | 0.478525                          |             |"
      ]
     },
     "metadata": {},
     "output_type": "display_data"
    },
    {
     "data": {
      "text/html": [
       "<pre>| 1265    | 28m 27s      | 0.502991          | 0.47849                           |             |</pre>"
      ],
      "text/plain": [
       "| 1265    | 28m 27s      | 0.502991          | 0.47849                           |             |"
      ]
     },
     "metadata": {},
     "output_type": "display_data"
    },
    {
     "data": {
      "text/html": [
       "<pre>| 1266    | 28m 28s      | 0.502964          | 0.478454                          |             |</pre>"
      ],
      "text/plain": [
       "| 1266    | 28m 28s      | 0.502964          | 0.478454                          |             |"
      ]
     },
     "metadata": {},
     "output_type": "display_data"
    },
    {
     "data": {
      "text/html": [
       "<pre>| 1267    | 28m 30s      | 0.502935          | 0.478418                          |             |</pre>"
      ],
      "text/plain": [
       "| 1267    | 28m 30s      | 0.502935          | 0.478418                          |             |"
      ]
     },
     "metadata": {},
     "output_type": "display_data"
    },
    {
     "data": {
      "text/html": [
       "<pre>| 1268    | 28m 31s      | 0.502908          | 0.478382                          |             |</pre>"
      ],
      "text/plain": [
       "| 1268    | 28m 31s      | 0.502908          | 0.478382                          |             |"
      ]
     },
     "metadata": {},
     "output_type": "display_data"
    },
    {
     "data": {
      "text/html": [
       "<pre>| 1269    | 28m 32s      | 0.502881          | 0.478347                          |             |</pre>"
      ],
      "text/plain": [
       "| 1269    | 28m 32s      | 0.502881          | 0.478347                          |             |"
      ]
     },
     "metadata": {},
     "output_type": "display_data"
    },
    {
     "data": {
      "text/html": [
       "<pre>| 1270    | 28m 34s      | 0.502853          | 0.478311                          |             |</pre>"
      ],
      "text/plain": [
       "| 1270    | 28m 34s      | 0.502853          | 0.478311                          |             |"
      ]
     },
     "metadata": {},
     "output_type": "display_data"
    },
    {
     "data": {
      "text/html": [
       "<pre>| 1271    | 28m 35s      | 0.502826          | 0.478275                          |             |</pre>"
      ],
      "text/plain": [
       "| 1271    | 28m 35s      | 0.502826          | 0.478275                          |             |"
      ]
     },
     "metadata": {},
     "output_type": "display_data"
    },
    {
     "data": {
      "text/html": [
       "<pre>| 1272    | 28m 36s      | 0.5028            | 0.478239                          |             |</pre>"
      ],
      "text/plain": [
       "| 1272    | 28m 36s      | 0.5028            | 0.478239                          |             |"
      ]
     },
     "metadata": {},
     "output_type": "display_data"
    },
    {
     "data": {
      "text/html": [
       "<pre>| 1273    | 28m 38s      | 0.502773          | 0.478203                          |             |</pre>"
      ],
      "text/plain": [
       "| 1273    | 28m 38s      | 0.502773          | 0.478203                          |             |"
      ]
     },
     "metadata": {},
     "output_type": "display_data"
    },
    {
     "data": {
      "text/html": [
       "<pre>| 1274    | 28m 39s      | 0.502746          | 0.478167                          |             |</pre>"
      ],
      "text/plain": [
       "| 1274    | 28m 39s      | 0.502746          | 0.478167                          |             |"
      ]
     },
     "metadata": {},
     "output_type": "display_data"
    },
    {
     "data": {
      "text/html": [
       "<pre>| 1275    | 28m 40s      | 0.502719          | 0.47813                           |             |</pre>"
      ],
      "text/plain": [
       "| 1275    | 28m 40s      | 0.502719          | 0.47813                           |             |"
      ]
     },
     "metadata": {},
     "output_type": "display_data"
    },
    {
     "data": {
      "text/html": [
       "<pre>| 1276    | 28m 42s      | 0.502692          | 0.478094                          |             |</pre>"
      ],
      "text/plain": [
       "| 1276    | 28m 42s      | 0.502692          | 0.478094                          |             |"
      ]
     },
     "metadata": {},
     "output_type": "display_data"
    },
    {
     "data": {
      "text/html": [
       "<pre>| 1277    | 28m 43s      | 0.502665          | 0.478057                          |             |</pre>"
      ],
      "text/plain": [
       "| 1277    | 28m 43s      | 0.502665          | 0.478057                          |             |"
      ]
     },
     "metadata": {},
     "output_type": "display_data"
    },
    {
     "data": {
      "text/html": [
       "<pre>| 1278    | 28m 44s      | 0.502639          | 0.478022                          |             |</pre>"
      ],
      "text/plain": [
       "| 1278    | 28m 44s      | 0.502639          | 0.478022                          |             |"
      ]
     },
     "metadata": {},
     "output_type": "display_data"
    },
    {
     "data": {
      "text/html": [
       "<pre>| 1279    | 28m 46s      | 0.502611          | 0.477985                          |             |</pre>"
      ],
      "text/plain": [
       "| 1279    | 28m 46s      | 0.502611          | 0.477985                          |             |"
      ]
     },
     "metadata": {},
     "output_type": "display_data"
    },
    {
     "data": {
      "text/html": [
       "<pre>| 1280    | 28m 47s      | 0.502584          | 0.477949                          |             |</pre>"
      ],
      "text/plain": [
       "| 1280    | 28m 47s      | 0.502584          | 0.477949                          |             |"
      ]
     },
     "metadata": {},
     "output_type": "display_data"
    },
    {
     "data": {
      "text/html": [
       "<pre>| 1281    | 28m 49s      | 0.502557          | 0.477913                          |             |</pre>"
      ],
      "text/plain": [
       "| 1281    | 28m 49s      | 0.502557          | 0.477913                          |             |"
      ]
     },
     "metadata": {},
     "output_type": "display_data"
    },
    {
     "data": {
      "text/html": [
       "<pre>| 1282    | 28m 50s      | 0.50253           | 0.477877                          |             |</pre>"
      ],
      "text/plain": [
       "| 1282    | 28m 50s      | 0.50253           | 0.477877                          |             |"
      ]
     },
     "metadata": {},
     "output_type": "display_data"
    },
    {
     "data": {
      "text/html": [
       "<pre>| 1283    | 28m 51s      | 0.502503          | 0.477842                          |             |</pre>"
      ],
      "text/plain": [
       "| 1283    | 28m 51s      | 0.502503          | 0.477842                          |             |"
      ]
     },
     "metadata": {},
     "output_type": "display_data"
    },
    {
     "data": {
      "text/html": [
       "<pre>| 1284    | 28m 53s      | 0.502477          | 0.477808                          |             |</pre>"
      ],
      "text/plain": [
       "| 1284    | 28m 53s      | 0.502477          | 0.477808                          |             |"
      ]
     },
     "metadata": {},
     "output_type": "display_data"
    },
    {
     "data": {
      "text/html": [
       "<pre>| 1285    | 28m 54s      | 0.502449          | 0.477773                          |             |</pre>"
      ],
      "text/plain": [
       "| 1285    | 28m 54s      | 0.502449          | 0.477773                          |             |"
      ]
     },
     "metadata": {},
     "output_type": "display_data"
    },
    {
     "data": {
      "text/html": [
       "<pre>| 1286    | 28m 55s      | 0.502423          | 0.477739                          |             |</pre>"
      ],
      "text/plain": [
       "| 1286    | 28m 55s      | 0.502423          | 0.477739                          |             |"
      ]
     },
     "metadata": {},
     "output_type": "display_data"
    },
    {
     "data": {
      "text/html": [
       "<pre>| 1287    | 28m 57s      | 0.502395          | 0.477704                          |             |</pre>"
      ],
      "text/plain": [
       "| 1287    | 28m 57s      | 0.502395          | 0.477704                          |             |"
      ]
     },
     "metadata": {},
     "output_type": "display_data"
    },
    {
     "data": {
      "text/html": [
       "<pre>| 1288    | 28m 58s      | 0.502368          | 0.47767                           |             |</pre>"
      ],
      "text/plain": [
       "| 1288    | 28m 58s      | 0.502368          | 0.47767                           |             |"
      ]
     },
     "metadata": {},
     "output_type": "display_data"
    },
    {
     "data": {
      "text/html": [
       "<pre>| 1289    | 28m 59s      | 0.502342          | 0.477638                          |             |</pre>"
      ],
      "text/plain": [
       "| 1289    | 28m 59s      | 0.502342          | 0.477638                          |             |"
      ]
     },
     "metadata": {},
     "output_type": "display_data"
    },
    {
     "data": {
      "text/html": [
       "<pre>| 1290    | 29m 1s       | 0.502316          | 0.477606                          |             |</pre>"
      ],
      "text/plain": [
       "| 1290    | 29m 1s       | 0.502316          | 0.477606                          |             |"
      ]
     },
     "metadata": {},
     "output_type": "display_data"
    },
    {
     "data": {
      "text/html": [
       "<pre>| 1291    | 29m 2s       | 0.502289          | 0.477573                          |             |</pre>"
      ],
      "text/plain": [
       "| 1291    | 29m 2s       | 0.502289          | 0.477573                          |             |"
      ]
     },
     "metadata": {},
     "output_type": "display_data"
    },
    {
     "data": {
      "text/html": [
       "<pre>| 1292    | 29m 3s       | 0.502264          | 0.477541                          |             |</pre>"
      ],
      "text/plain": [
       "| 1292    | 29m 3s       | 0.502264          | 0.477541                          |             |"
      ]
     },
     "metadata": {},
     "output_type": "display_data"
    },
    {
     "data": {
      "text/html": [
       "<pre>| 1293    | 29m 4s       | 0.502238          | 0.47751                           |             |</pre>"
      ],
      "text/plain": [
       "| 1293    | 29m 4s       | 0.502238          | 0.47751                           |             |"
      ]
     },
     "metadata": {},
     "output_type": "display_data"
    },
    {
     "data": {
      "text/html": [
       "<pre>| 1294    | 29m 6s       | 0.502212          | 0.477478                          |             |</pre>"
      ],
      "text/plain": [
       "| 1294    | 29m 6s       | 0.502212          | 0.477478                          |             |"
      ]
     },
     "metadata": {},
     "output_type": "display_data"
    },
    {
     "data": {
      "text/html": [
       "<pre>| 1295    | 29m 7s       | 0.502187          | 0.477446                          |             |</pre>"
      ],
      "text/plain": [
       "| 1295    | 29m 7s       | 0.502187          | 0.477446                          |             |"
      ]
     },
     "metadata": {},
     "output_type": "display_data"
    },
    {
     "data": {
      "text/html": [
       "<pre>| 1296    | 29m 8s       | 0.502163          | 0.477416                          |             |</pre>"
      ],
      "text/plain": [
       "| 1296    | 29m 8s       | 0.502163          | 0.477416                          |             |"
      ]
     },
     "metadata": {},
     "output_type": "display_data"
    },
    {
     "data": {
      "text/html": [
       "<pre>| 1297    | 29m 10s      | 0.502139          | 0.477385                          |             |</pre>"
      ],
      "text/plain": [
       "| 1297    | 29m 10s      | 0.502139          | 0.477385                          |             |"
      ]
     },
     "metadata": {},
     "output_type": "display_data"
    },
    {
     "data": {
      "text/html": [
       "<pre>| 1298    | 29m 11s      | 0.502116          | 0.477355                          |             |</pre>"
      ],
      "text/plain": [
       "| 1298    | 29m 11s      | 0.502116          | 0.477355                          |             |"
      ]
     },
     "metadata": {},
     "output_type": "display_data"
    },
    {
     "data": {
      "text/html": [
       "<pre>| 1299    | 29m 12s      | 0.502091          | 0.477322                          |             |</pre>"
      ],
      "text/plain": [
       "| 1299    | 29m 12s      | 0.502091          | 0.477322                          |             |"
      ]
     },
     "metadata": {},
     "output_type": "display_data"
    },
    {
     "data": {
      "text/html": [
       "<pre>| 1300    | 29m 14s      | 0.502065          | 0.477289                          |             |</pre>"
      ],
      "text/plain": [
       "| 1300    | 29m 14s      | 0.502065          | 0.477289                          |             |"
      ]
     },
     "metadata": {},
     "output_type": "display_data"
    },
    {
     "data": {
      "text/html": [
       "<pre>| 1301    | 29m 15s      | 0.502042          | 0.477258                          |             |</pre>"
      ],
      "text/plain": [
       "| 1301    | 29m 15s      | 0.502042          | 0.477258                          |             |"
      ]
     },
     "metadata": {},
     "output_type": "display_data"
    },
    {
     "data": {
      "text/html": [
       "<pre>| 1302    | 29m 16s      | 0.502018          | 0.477226                          |             |</pre>"
      ],
      "text/plain": [
       "| 1302    | 29m 16s      | 0.502018          | 0.477226                          |             |"
      ]
     },
     "metadata": {},
     "output_type": "display_data"
    },
    {
     "data": {
      "text/html": [
       "<pre>| 1303    | 29m 18s      | 0.501995          | 0.477194                          |             |</pre>"
      ],
      "text/plain": [
       "| 1303    | 29m 18s      | 0.501995          | 0.477194                          |             |"
      ]
     },
     "metadata": {},
     "output_type": "display_data"
    },
    {
     "data": {
      "text/html": [
       "<pre>| 1304    | 29m 19s      | 0.501971          | 0.477162                          |             |</pre>"
      ],
      "text/plain": [
       "| 1304    | 29m 19s      | 0.501971          | 0.477162                          |             |"
      ]
     },
     "metadata": {},
     "output_type": "display_data"
    },
    {
     "data": {
      "text/html": [
       "<pre>| 1305    | 29m 20s      | 0.501946          | 0.477128                          |             |</pre>"
      ],
      "text/plain": [
       "| 1305    | 29m 20s      | 0.501946          | 0.477128                          |             |"
      ]
     },
     "metadata": {},
     "output_type": "display_data"
    },
    {
     "data": {
      "text/html": [
       "<pre>| 1306    | 29m 22s      | 0.501922          | 0.477095                          |             |</pre>"
      ],
      "text/plain": [
       "| 1306    | 29m 22s      | 0.501922          | 0.477095                          |             |"
      ]
     },
     "metadata": {},
     "output_type": "display_data"
    },
    {
     "data": {
      "text/html": [
       "<pre>| 1307    | 29m 23s      | 0.501897          | 0.477062                          |             |</pre>"
      ],
      "text/plain": [
       "| 1307    | 29m 23s      | 0.501897          | 0.477062                          |             |"
      ]
     },
     "metadata": {},
     "output_type": "display_data"
    },
    {
     "data": {
      "text/html": [
       "<pre>| 1308    | 29m 24s      | 0.501872          | 0.477028                          |             |</pre>"
      ],
      "text/plain": [
       "| 1308    | 29m 24s      | 0.501872          | 0.477028                          |             |"
      ]
     },
     "metadata": {},
     "output_type": "display_data"
    },
    {
     "data": {
      "text/html": [
       "<pre>| 1309    | 29m 26s      | 0.501845          | 0.476994                          |             |</pre>"
      ],
      "text/plain": [
       "| 1309    | 29m 26s      | 0.501845          | 0.476994                          |             |"
      ]
     },
     "metadata": {},
     "output_type": "display_data"
    },
    {
     "data": {
      "text/html": [
       "<pre>| 1310    | 29m 27s      | 0.501819          | 0.47696                           |             |</pre>"
      ],
      "text/plain": [
       "| 1310    | 29m 27s      | 0.501819          | 0.47696                           |             |"
      ]
     },
     "metadata": {},
     "output_type": "display_data"
    },
    {
     "data": {
      "text/html": [
       "<pre>| 1311    | 29m 28s      | 0.501791          | 0.476925                          |             |</pre>"
      ],
      "text/plain": [
       "| 1311    | 29m 28s      | 0.501791          | 0.476925                          |             |"
      ]
     },
     "metadata": {},
     "output_type": "display_data"
    },
    {
     "data": {
      "text/html": [
       "<pre>| 1312    | 29m 30s      | 0.501764          | 0.476891                          |             |</pre>"
      ],
      "text/plain": [
       "| 1312    | 29m 30s      | 0.501764          | 0.476891                          |             |"
      ]
     },
     "metadata": {},
     "output_type": "display_data"
    },
    {
     "data": {
      "text/html": [
       "<pre>| 1313    | 29m 31s      | 0.501737          | 0.476856                          |             |</pre>"
      ],
      "text/plain": [
       "| 1313    | 29m 31s      | 0.501737          | 0.476856                          |             |"
      ]
     },
     "metadata": {},
     "output_type": "display_data"
    },
    {
     "data": {
      "text/html": [
       "<pre>| 1314    | 29m 33s      | 0.501709          | 0.476822                          |             |</pre>"
      ],
      "text/plain": [
       "| 1314    | 29m 33s      | 0.501709          | 0.476822                          |             |"
      ]
     },
     "metadata": {},
     "output_type": "display_data"
    },
    {
     "data": {
      "text/html": [
       "<pre>| 1315    | 29m 34s      | 0.50168           | 0.476787                          |             |</pre>"
      ],
      "text/plain": [
       "| 1315    | 29m 34s      | 0.50168           | 0.476787                          |             |"
      ]
     },
     "metadata": {},
     "output_type": "display_data"
    },
    {
     "data": {
      "text/html": [
       "<pre>| 1316    | 29m 35s      | 0.501653          | 0.476753                          |             |</pre>"
      ],
      "text/plain": [
       "| 1316    | 29m 35s      | 0.501653          | 0.476753                          |             |"
      ]
     },
     "metadata": {},
     "output_type": "display_data"
    },
    {
     "data": {
      "text/html": [
       "<pre>| 1317    | 29m 37s      | 0.501625          | 0.47672                           |             |</pre>"
      ],
      "text/plain": [
       "| 1317    | 29m 37s      | 0.501625          | 0.47672                           |             |"
      ]
     },
     "metadata": {},
     "output_type": "display_data"
    },
    {
     "data": {
      "text/html": [
       "<pre>| 1318    | 29m 38s      | 0.501599          | 0.476686                          |             |</pre>"
      ],
      "text/plain": [
       "| 1318    | 29m 38s      | 0.501599          | 0.476686                          |             |"
      ]
     },
     "metadata": {},
     "output_type": "display_data"
    },
    {
     "data": {
      "text/html": [
       "<pre>| 1319    | 29m 39s      | 0.501572          | 0.476653                          |             |</pre>"
      ],
      "text/plain": [
       "| 1319    | 29m 39s      | 0.501572          | 0.476653                          |             |"
      ]
     },
     "metadata": {},
     "output_type": "display_data"
    },
    {
     "data": {
      "text/html": [
       "<pre>| 1320    | 29m 41s      | 0.501546          | 0.476619                          |             |</pre>"
      ],
      "text/plain": [
       "| 1320    | 29m 41s      | 0.501546          | 0.476619                          |             |"
      ]
     },
     "metadata": {},
     "output_type": "display_data"
    },
    {
     "data": {
      "text/html": [
       "<pre>| 1321    | 29m 42s      | 0.501521          | 0.476586                          |             |</pre>"
      ],
      "text/plain": [
       "| 1321    | 29m 42s      | 0.501521          | 0.476586                          |             |"
      ]
     },
     "metadata": {},
     "output_type": "display_data"
    },
    {
     "data": {
      "text/html": [
       "<pre>| 1322    | 29m 43s      | 0.501496          | 0.476552                          |             |</pre>"
      ],
      "text/plain": [
       "| 1322    | 29m 43s      | 0.501496          | 0.476552                          |             |"
      ]
     },
     "metadata": {},
     "output_type": "display_data"
    },
    {
     "data": {
      "text/html": [
       "<pre>| 1323    | 29m 45s      | 0.50147           | 0.476517                          |             |</pre>"
      ],
      "text/plain": [
       "| 1323    | 29m 45s      | 0.50147           | 0.476517                          |             |"
      ]
     },
     "metadata": {},
     "output_type": "display_data"
    },
    {
     "data": {
      "text/html": [
       "<pre>| 1324    | 29m 46s      | 0.501447          | 0.476483                          |             |</pre>"
      ],
      "text/plain": [
       "| 1324    | 29m 46s      | 0.501447          | 0.476483                          |             |"
      ]
     },
     "metadata": {},
     "output_type": "display_data"
    },
    {
     "data": {
      "text/html": [
       "<pre>| 1325    | 29m 47s      | 0.501424          | 0.476448                          |             |</pre>"
      ],
      "text/plain": [
       "| 1325    | 29m 47s      | 0.501424          | 0.476448                          |             |"
      ]
     },
     "metadata": {},
     "output_type": "display_data"
    },
    {
     "data": {
      "text/html": [
       "<pre>| 1326    | 29m 49s      | 0.501401          | 0.476411                          |             |</pre>"
      ],
      "text/plain": [
       "| 1326    | 29m 49s      | 0.501401          | 0.476411                          |             |"
      ]
     },
     "metadata": {},
     "output_type": "display_data"
    },
    {
     "data": {
      "text/html": [
       "<pre>| 1327    | 29m 50s      | 0.501378          | 0.476375                          |             |</pre>"
      ],
      "text/plain": [
       "| 1327    | 29m 50s      | 0.501378          | 0.476375                          |             |"
      ]
     },
     "metadata": {},
     "output_type": "display_data"
    },
    {
     "data": {
      "text/html": [
       "<pre>| 1328    | 29m 52s      | 0.501357          | 0.476338                          |             |</pre>"
      ],
      "text/plain": [
       "| 1328    | 29m 52s      | 0.501357          | 0.476338                          |             |"
      ]
     },
     "metadata": {},
     "output_type": "display_data"
    },
    {
     "data": {
      "text/html": [
       "<pre>| 1329    | 29m 53s      | 0.501335          | 0.4763                            |             |</pre>"
      ],
      "text/plain": [
       "| 1329    | 29m 53s      | 0.501335          | 0.4763                            |             |"
      ]
     },
     "metadata": {},
     "output_type": "display_data"
    },
    {
     "data": {
      "text/html": [
       "<pre>| 1330    | 29m 54s      | 0.501313          | 0.476262                          |             |</pre>"
      ],
      "text/plain": [
       "| 1330    | 29m 54s      | 0.501313          | 0.476262                          |             |"
      ]
     },
     "metadata": {},
     "output_type": "display_data"
    },
    {
     "data": {
      "text/html": [
       "<pre>| 1331    | 29m 56s      | 0.501291          | 0.476223                          |             |</pre>"
      ],
      "text/plain": [
       "| 1331    | 29m 56s      | 0.501291          | 0.476223                          |             |"
      ]
     },
     "metadata": {},
     "output_type": "display_data"
    },
    {
     "data": {
      "text/html": [
       "<pre>| 1332    | 29m 57s      | 0.501268          | 0.476184                          |             |</pre>"
      ],
      "text/plain": [
       "| 1332    | 29m 57s      | 0.501268          | 0.476184                          |             |"
      ]
     },
     "metadata": {},
     "output_type": "display_data"
    },
    {
     "data": {
      "text/html": [
       "<pre>| 1333    | 29m 58s      | 0.501245          | 0.476144                          |             |</pre>"
      ],
      "text/plain": [
       "| 1333    | 29m 58s      | 0.501245          | 0.476144                          |             |"
      ]
     },
     "metadata": {},
     "output_type": "display_data"
    },
    {
     "data": {
      "text/html": [
       "<pre>| 1334    | 30m 0s       | 0.501221          | 0.476105                          |             |</pre>"
      ],
      "text/plain": [
       "| 1334    | 30m 0s       | 0.501221          | 0.476105                          |             |"
      ]
     },
     "metadata": {},
     "output_type": "display_data"
    },
    {
     "data": {
      "text/html": [
       "<pre>| 1335    | 30m 1s       | 0.501197          | 0.476066                          |             |</pre>"
      ],
      "text/plain": [
       "| 1335    | 30m 1s       | 0.501197          | 0.476066                          |             |"
      ]
     },
     "metadata": {},
     "output_type": "display_data"
    },
    {
     "data": {
      "text/html": [
       "<pre>| 1336    | 30m 2s       | 0.501172          | 0.476027                          |             |</pre>"
      ],
      "text/plain": [
       "| 1336    | 30m 2s       | 0.501172          | 0.476027                          |             |"
      ]
     },
     "metadata": {},
     "output_type": "display_data"
    },
    {
     "data": {
      "text/html": [
       "<pre>| 1337    | 30m 4s       | 0.501146          | 0.47599                           |             |</pre>"
      ],
      "text/plain": [
       "| 1337    | 30m 4s       | 0.501146          | 0.47599                           |             |"
      ]
     },
     "metadata": {},
     "output_type": "display_data"
    },
    {
     "data": {
      "text/html": [
       "<pre>| 1338    | 30m 5s       | 0.501119          | 0.475953                          |             |</pre>"
      ],
      "text/plain": [
       "| 1338    | 30m 5s       | 0.501119          | 0.475953                          |             |"
      ]
     },
     "metadata": {},
     "output_type": "display_data"
    },
    {
     "data": {
      "text/html": [
       "<pre>| 1339    | 30m 6s       | 0.501093          | 0.475918                          |             |</pre>"
      ],
      "text/plain": [
       "| 1339    | 30m 6s       | 0.501093          | 0.475918                          |             |"
      ]
     },
     "metadata": {},
     "output_type": "display_data"
    },
    {
     "data": {
      "text/html": [
       "<pre>| 1340    | 30m 8s       | 0.501065          | 0.475883                          |             |</pre>"
      ],
      "text/plain": [
       "| 1340    | 30m 8s       | 0.501065          | 0.475883                          |             |"
      ]
     },
     "metadata": {},
     "output_type": "display_data"
    },
    {
     "data": {
      "text/html": [
       "<pre>| 1341    | 30m 9s       | 0.501037          | 0.47585                           |             |</pre>"
      ],
      "text/plain": [
       "| 1341    | 30m 9s       | 0.501037          | 0.47585                           |             |"
      ]
     },
     "metadata": {},
     "output_type": "display_data"
    },
    {
     "data": {
      "text/html": [
       "<pre>| 1342    | 30m 10s      | 0.501009          | 0.475818                          |             |</pre>"
      ],
      "text/plain": [
       "| 1342    | 30m 10s      | 0.501009          | 0.475818                          |             |"
      ]
     },
     "metadata": {},
     "output_type": "display_data"
    },
    {
     "data": {
      "text/html": [
       "<pre>| 1343    | 30m 12s      | 0.500984          | 0.47579                           |             |</pre>"
      ],
      "text/plain": [
       "| 1343    | 30m 12s      | 0.500984          | 0.47579                           |             |"
      ]
     },
     "metadata": {},
     "output_type": "display_data"
    },
    {
     "data": {
      "text/html": [
       "<pre>| 1344    | 30m 13s      | 0.500958          | 0.475763                          |             |</pre>"
      ],
      "text/plain": [
       "| 1344    | 30m 13s      | 0.500958          | 0.475763                          |             |"
      ]
     },
     "metadata": {},
     "output_type": "display_data"
    },
    {
     "data": {
      "text/html": [
       "<pre>| 1345    | 30m 14s      | 0.500932          | 0.475736                          |             |</pre>"
      ],
      "text/plain": [
       "| 1345    | 30m 14s      | 0.500932          | 0.475736                          |             |"
      ]
     },
     "metadata": {},
     "output_type": "display_data"
    },
    {
     "data": {
      "text/html": [
       "<pre>| 1346    | 30m 15s      | 0.500908          | 0.475711                          |             |</pre>"
      ],
      "text/plain": [
       "| 1346    | 30m 15s      | 0.500908          | 0.475711                          |             |"
      ]
     },
     "metadata": {},
     "output_type": "display_data"
    },
    {
     "data": {
      "text/html": [
       "<pre>| 1347    | 30m 17s      | 0.500886          | 0.475687                          |             |</pre>"
      ],
      "text/plain": [
       "| 1347    | 30m 17s      | 0.500886          | 0.475687                          |             |"
      ]
     },
     "metadata": {},
     "output_type": "display_data"
    },
    {
     "data": {
      "text/html": [
       "<pre>| 1348    | 30m 18s      | 0.500865          | 0.475664                          |             |</pre>"
      ],
      "text/plain": [
       "| 1348    | 30m 18s      | 0.500865          | 0.475664                          |             |"
      ]
     },
     "metadata": {},
     "output_type": "display_data"
    },
    {
     "data": {
      "text/html": [
       "<pre>| 1349    | 30m 20s      | 0.500845          | 0.475641                          |             |</pre>"
      ],
      "text/plain": [
       "| 1349    | 30m 20s      | 0.500845          | 0.475641                          |             |"
      ]
     },
     "metadata": {},
     "output_type": "display_data"
    },
    {
     "data": {
      "text/html": [
       "<pre>| 1350    | 30m 21s      | 0.500827          | 0.475617                          |             |</pre>"
      ],
      "text/plain": [
       "| 1350    | 30m 21s      | 0.500827          | 0.475617                          |             |"
      ]
     },
     "metadata": {},
     "output_type": "display_data"
    },
    {
     "data": {
      "text/html": [
       "<pre>| 1351    | 30m 22s      | 0.50081           | 0.475592                          |             |</pre>"
      ],
      "text/plain": [
       "| 1351    | 30m 22s      | 0.50081           | 0.475592                          |             |"
      ]
     },
     "metadata": {},
     "output_type": "display_data"
    },
    {
     "data": {
      "text/html": [
       "<pre>| 1352    | 30m 24s      | 0.500796          | 0.475568                          |             |</pre>"
      ],
      "text/plain": [
       "| 1352    | 30m 24s      | 0.500796          | 0.475568                          |             |"
      ]
     },
     "metadata": {},
     "output_type": "display_data"
    },
    {
     "data": {
      "text/html": [
       "<pre>| 1353    | 30m 25s      | 0.500782          | 0.475542                          |             |</pre>"
      ],
      "text/plain": [
       "| 1353    | 30m 25s      | 0.500782          | 0.475542                          |             |"
      ]
     },
     "metadata": {},
     "output_type": "display_data"
    },
    {
     "data": {
      "text/html": [
       "<pre>| 1354    | 30m 26s      | 0.500769          | 0.475513                          |             |</pre>"
      ],
      "text/plain": [
       "| 1354    | 30m 26s      | 0.500769          | 0.475513                          |             |"
      ]
     },
     "metadata": {},
     "output_type": "display_data"
    },
    {
     "data": {
      "text/html": [
       "<pre>| 1355    | 30m 28s      | 0.500755          | 0.475482                          |             |</pre>"
      ],
      "text/plain": [
       "| 1355    | 30m 28s      | 0.500755          | 0.475482                          |             |"
      ]
     },
     "metadata": {},
     "output_type": "display_data"
    },
    {
     "data": {
      "text/html": [
       "<pre>| 1356    | 30m 29s      | 0.500741          | 0.475449                          |             |</pre>"
      ],
      "text/plain": [
       "| 1356    | 30m 29s      | 0.500741          | 0.475449                          |             |"
      ]
     },
     "metadata": {},
     "output_type": "display_data"
    },
    {
     "data": {
      "text/html": [
       "<pre>| 1357    | 30m 30s      | 0.500727          | 0.475415                          |             |</pre>"
      ],
      "text/plain": [
       "| 1357    | 30m 30s      | 0.500727          | 0.475415                          |             |"
      ]
     },
     "metadata": {},
     "output_type": "display_data"
    },
    {
     "data": {
      "text/html": [
       "<pre>| 1358    | 30m 32s      | 0.500712          | 0.475379                          |             |</pre>"
      ],
      "text/plain": [
       "| 1358    | 30m 32s      | 0.500712          | 0.475379                          |             |"
      ]
     },
     "metadata": {},
     "output_type": "display_data"
    },
    {
     "data": {
      "text/html": [
       "<pre>| 1359    | 30m 33s      | 0.500694          | 0.475341                          |             |</pre>"
      ],
      "text/plain": [
       "| 1359    | 30m 33s      | 0.500694          | 0.475341                          |             |"
      ]
     },
     "metadata": {},
     "output_type": "display_data"
    },
    {
     "data": {
      "text/html": [
       "<pre>| 1360    | 30m 34s      | 0.500674          | 0.475301                          |             |</pre>"
      ],
      "text/plain": [
       "| 1360    | 30m 34s      | 0.500674          | 0.475301                          |             |"
      ]
     },
     "metadata": {},
     "output_type": "display_data"
    },
    {
     "data": {
      "text/html": [
       "<pre>| 1361    | 30m 36s      | 0.500652          | 0.475261                          |             |</pre>"
      ],
      "text/plain": [
       "| 1361    | 30m 36s      | 0.500652          | 0.475261                          |             |"
      ]
     },
     "metadata": {},
     "output_type": "display_data"
    },
    {
     "data": {
      "text/html": [
       "<pre>| 1362    | 30m 37s      | 0.500627          | 0.475221                          |             |</pre>"
      ],
      "text/plain": [
       "| 1362    | 30m 37s      | 0.500627          | 0.475221                          |             |"
      ]
     },
     "metadata": {},
     "output_type": "display_data"
    },
    {
     "data": {
      "text/html": [
       "<pre>| 1363    | 30m 39s      | 0.500599          | 0.47518                           |             |</pre>"
      ],
      "text/plain": [
       "| 1363    | 30m 39s      | 0.500599          | 0.47518                           |             |"
      ]
     },
     "metadata": {},
     "output_type": "display_data"
    },
    {
     "data": {
      "text/html": [
       "<pre>| 1364    | 30m 40s      | 0.500569          | 0.47514                           |             |</pre>"
      ],
      "text/plain": [
       "| 1364    | 30m 40s      | 0.500569          | 0.47514                           |             |"
      ]
     },
     "metadata": {},
     "output_type": "display_data"
    },
    {
     "data": {
      "text/html": [
       "<pre>| 1365    | 30m 41s      | 0.500537          | 0.475101                          |             |</pre>"
      ],
      "text/plain": [
       "| 1365    | 30m 41s      | 0.500537          | 0.475101                          |             |"
      ]
     },
     "metadata": {},
     "output_type": "display_data"
    },
    {
     "data": {
      "text/html": [
       "<pre>| 1366    | 30m 43s      | 0.500503          | 0.475064                          |             |</pre>"
      ],
      "text/plain": [
       "| 1366    | 30m 43s      | 0.500503          | 0.475064                          |             |"
      ]
     },
     "metadata": {},
     "output_type": "display_data"
    },
    {
     "data": {
      "text/html": [
       "<pre>| 1367    | 30m 44s      | 0.500467          | 0.475028                          |             |</pre>"
      ],
      "text/plain": [
       "| 1367    | 30m 44s      | 0.500467          | 0.475028                          |             |"
      ]
     },
     "metadata": {},
     "output_type": "display_data"
    },
    {
     "data": {
      "text/html": [
       "<pre>| 1368    | 30m 45s      | 0.500431          | 0.474995                          |             |</pre>"
      ],
      "text/plain": [
       "| 1368    | 30m 45s      | 0.500431          | 0.474995                          |             |"
      ]
     },
     "metadata": {},
     "output_type": "display_data"
    },
    {
     "data": {
      "text/html": [
       "<pre>| 1369    | 30m 47s      | 0.500396          | 0.474965                          |             |</pre>"
      ],
      "text/plain": [
       "| 1369    | 30m 47s      | 0.500396          | 0.474965                          |             |"
      ]
     },
     "metadata": {},
     "output_type": "display_data"
    },
    {
     "data": {
      "text/html": [
       "<pre>| 1370    | 30m 48s      | 0.500362          | 0.474937                          |             |</pre>"
      ],
      "text/plain": [
       "| 1370    | 30m 48s      | 0.500362          | 0.474937                          |             |"
      ]
     },
     "metadata": {},
     "output_type": "display_data"
    },
    {
     "data": {
      "text/html": [
       "<pre>| 1371    | 30m 49s      | 0.50033           | 0.474911                          |             |</pre>"
      ],
      "text/plain": [
       "| 1371    | 30m 49s      | 0.50033           | 0.474911                          |             |"
      ]
     },
     "metadata": {},
     "output_type": "display_data"
    },
    {
     "data": {
      "text/html": [
       "<pre>| 1372    | 30m 51s      | 0.5003            | 0.474886                          |             |</pre>"
      ],
      "text/plain": [
       "| 1372    | 30m 51s      | 0.5003            | 0.474886                          |             |"
      ]
     },
     "metadata": {},
     "output_type": "display_data"
    },
    {
     "data": {
      "text/html": [
       "<pre>| 1373    | 30m 52s      | 0.500273          | 0.474863                          |             |</pre>"
      ],
      "text/plain": [
       "| 1373    | 30m 52s      | 0.500273          | 0.474863                          |             |"
      ]
     },
     "metadata": {},
     "output_type": "display_data"
    },
    {
     "data": {
      "text/html": [
       "<pre>| 1374    | 30m 53s      | 0.500251          | 0.474841                          |             |</pre>"
      ],
      "text/plain": [
       "| 1374    | 30m 53s      | 0.500251          | 0.474841                          |             |"
      ]
     },
     "metadata": {},
     "output_type": "display_data"
    },
    {
     "data": {
      "text/html": [
       "<pre>| 1375    | 30m 54s      | 0.500231          | 0.474816                          |             |</pre>"
      ],
      "text/plain": [
       "| 1375    | 30m 54s      | 0.500231          | 0.474816                          |             |"
      ]
     },
     "metadata": {},
     "output_type": "display_data"
    },
    {
     "data": {
      "text/html": [
       "<pre>| 1376    | 30m 56s      | 0.500216          | 0.474791                          |             |</pre>"
      ],
      "text/plain": [
       "| 1376    | 30m 56s      | 0.500216          | 0.474791                          |             |"
      ]
     },
     "metadata": {},
     "output_type": "display_data"
    },
    {
     "data": {
      "text/html": [
       "<pre>| 1377    | 30m 57s      | 0.500204          | 0.474764                          |             |</pre>"
      ],
      "text/plain": [
       "| 1377    | 30m 57s      | 0.500204          | 0.474764                          |             |"
      ]
     },
     "metadata": {},
     "output_type": "display_data"
    },
    {
     "data": {
      "text/html": [
       "<pre>| 1378    | 30m 59s      | 0.500197          | 0.474734                          |             |</pre>"
      ],
      "text/plain": [
       "| 1378    | 30m 59s      | 0.500197          | 0.474734                          |             |"
      ]
     },
     "metadata": {},
     "output_type": "display_data"
    },
    {
     "data": {
      "text/html": [
       "<pre>| 1379    | 31m 0s       | 0.500193          | 0.474699                          |             |</pre>"
      ],
      "text/plain": [
       "| 1379    | 31m 0s       | 0.500193          | 0.474699                          |             |"
      ]
     },
     "metadata": {},
     "output_type": "display_data"
    },
    {
     "data": {
      "text/html": [
       "<pre>| 1380    | 31m 1s       | 0.50019           | 0.474659                          |             |</pre>"
      ],
      "text/plain": [
       "| 1380    | 31m 1s       | 0.50019           | 0.474659                          |             |"
      ]
     },
     "metadata": {},
     "output_type": "display_data"
    },
    {
     "data": {
      "text/html": [
       "<pre>| 1381    | 31m 3s       | 0.50019           | 0.474616                          |             |</pre>"
      ],
      "text/plain": [
       "| 1381    | 31m 3s       | 0.50019           | 0.474616                          |             |"
      ]
     },
     "metadata": {},
     "output_type": "display_data"
    },
    {
     "data": {
      "text/html": [
       "<pre>+---------+--------------+-------------------+-----------------------------------+-------------+</pre>"
      ],
      "text/plain": [
       "+---------+--------------+-------------------+-----------------------------------+-------------+"
      ]
     },
     "metadata": {},
     "output_type": "display_data"
    },
    {
     "data": {
      "text/html": [
       "<pre>Optimization Complete: Convergence on objective within bounds.</pre>"
      ],
      "text/plain": [
       "Optimization Complete: Convergence on objective within bounds."
      ]
     },
     "metadata": {},
     "output_type": "display_data"
    },
    {
     "data": {
      "text/html": [
       "<pre>Computing final objective value and training Predictive Error.</pre>"
      ],
      "text/plain": [
       "Computing final objective value and training Predictive Error."
      ]
     },
     "metadata": {},
     "output_type": "display_data"
    },
    {
     "data": {
      "text/html": [
       "<pre>       Final objective value: 0.500235</pre>"
      ],
      "text/plain": [
       "       Final objective value: 0.500235"
      ]
     },
     "metadata": {},
     "output_type": "display_data"
    },
    {
     "data": {
      "text/html": [
       "<pre>       Final training Predictive Error: 0.474662</pre>"
      ],
      "text/plain": [
       "       Final training Predictive Error: 0.474662"
      ]
     },
     "metadata": {},
     "output_type": "display_data"
    }
   ],
   "source": [
    "m = gl.recommender.factorization_recommender.create(second_train_gl,user_id='uid',item_id='qid',\n",
    "                                                            user_data=second_user_data,item_data=second_item_data,\n",
    "                                                            target='label',\n",
    "                                                            #num_sampled_negative_examples =50,\n",
    "                                                            max_iterations=2000,solver='auto',\n",
    "                                                            binary_target=True,\n",
    "                                                            linear_regularization =0.006,regularization =0.006,\n",
    "                                                            side_data_factorization =True,\n",
    "                                                            #ranking_regularization =0.004,\n",
    "                                                            num_factors=1024,                      \n",
    "                                                            #unobserved_rating_value =0,\n",
    "                                                            random_seed=500 )\n",
    "m.save('second_ensemble.model')"
   ]
  },
  {
   "cell_type": "code",
   "execution_count": 37,
   "metadata": {
    "collapsed": true
   },
   "outputs": [],
   "source": [
    "second_validate_user_data =new_validate_for_predict[['uid','huidalv']] \n",
    "second_validate_item_data =new_validate_for_predict[['qid','q_label','q_sp']] \n",
    "second_recs = m.predict(second_validate_gl,new_user_data=second_validate_user_data,new_item_data=second_validate_item_data)"
   ]
  },
  {
   "cell_type": "code",
   "execution_count": 38,
   "metadata": {
    "collapsed": false
   },
   "outputs": [
    {
     "data": {
      "text/html": [
       "<div style=\"max-height:1000px;max-width:1500px;overflow:auto;\"><table frame=\"box\" rules=\"cols\">\n",
       "    <tr>\n",
       "        <th style=\"padding-left: 1em; padding-right: 1em; text-align: center\">uid</th>\n",
       "        <th style=\"padding-left: 1em; padding-right: 1em; text-align: center\">qid</th>\n",
       "        <th style=\"padding-left: 1em; padding-right: 1em; text-align: center\">label_huidalv</th>\n",
       "        <th style=\"padding-left: 1em; padding-right: 1em; text-align: center\">label_feature</th>\n",
       "        <th style=\"padding-left: 1em; padding-right: 1em; text-align: center\">label</th>\n",
       "    </tr>\n",
       "    <tr>\n",
       "        <td style=\"padding-left: 1em; padding-right: 1em; text-align: center; vertical-align: top\">9fd62346098d0dc38db95835c<br>85cfad8 ...</td>\n",
       "        <td style=\"padding-left: 1em; padding-right: 1em; text-align: center; vertical-align: top\">c4ea7890323733160a8ac1057<br>2a7e82b ...</td>\n",
       "        <td style=\"padding-left: 1em; padding-right: 1em; text-align: center; vertical-align: top\">0.076923077</td>\n",
       "        <td style=\"padding-left: 1em; padding-right: 1em; text-align: center; vertical-align: top\">0.30328992673</td>\n",
       "        <td style=\"padding-left: 1em; padding-right: 1em; text-align: center; vertical-align: top\">0.300564028695</td>\n",
       "    </tr>\n",
       "    <tr>\n",
       "        <td style=\"padding-left: 1em; padding-right: 1em; text-align: center; vertical-align: top\">9be98a49dc3fec089a6ba1b2d<br>16527f2 ...</td>\n",
       "        <td style=\"padding-left: 1em; padding-right: 1em; text-align: center; vertical-align: top\">2230fb779978bdd67efc36dde<br>378db95 ...</td>\n",
       "        <td style=\"padding-left: 1em; padding-right: 1em; text-align: center; vertical-align: top\">0.434782609</td>\n",
       "        <td style=\"padding-left: 1em; padding-right: 1em; text-align: center; vertical-align: top\">0.478467868451</td>\n",
       "        <td style=\"padding-left: 1em; padding-right: 1em; text-align: center; vertical-align: top\">0.484046993696</td>\n",
       "    </tr>\n",
       "    <tr>\n",
       "        <td style=\"padding-left: 1em; padding-right: 1em; text-align: center; vertical-align: top\">aead7ff49df1672d8a856aff3<br>e516326 ...</td>\n",
       "        <td style=\"padding-left: 1em; padding-right: 1em; text-align: center; vertical-align: top\">25d769e0ee4a62e21950f36dc<br>1bedf6f ...</td>\n",
       "        <td style=\"padding-left: 1em; padding-right: 1em; text-align: center; vertical-align: top\">0.108695652</td>\n",
       "        <td style=\"padding-left: 1em; padding-right: 1em; text-align: center; vertical-align: top\">0.302447850095</td>\n",
       "        <td style=\"padding-left: 1em; padding-right: 1em; text-align: center; vertical-align: top\">0.301030996412</td>\n",
       "    </tr>\n",
       "    <tr>\n",
       "        <td style=\"padding-left: 1em; padding-right: 1em; text-align: center; vertical-align: top\">c35e3dfad8652aab7d13dd218<br>26566ae ...</td>\n",
       "        <td style=\"padding-left: 1em; padding-right: 1em; text-align: center; vertical-align: top\">63f76d1bd32598f9cae613b07<br>9a10d71 ...</td>\n",
       "        <td style=\"padding-left: 1em; padding-right: 1em; text-align: center; vertical-align: top\">0.0</td>\n",
       "        <td style=\"padding-left: 1em; padding-right: 1em; text-align: center; vertical-align: top\">0.395821833011</td>\n",
       "        <td style=\"padding-left: 1em; padding-right: 1em; text-align: center; vertical-align: top\">0.399738024947</td>\n",
       "    </tr>\n",
       "    <tr>\n",
       "        <td style=\"padding-left: 1em; padding-right: 1em; text-align: center; vertical-align: top\">b9270484db950810dac40a280<br>42872e5 ...</td>\n",
       "        <td style=\"padding-left: 1em; padding-right: 1em; text-align: center; vertical-align: top\">afe3cb02f2d41f2d6bd2a7fce<br>d09a6d5 ...</td>\n",
       "        <td style=\"padding-left: 1em; padding-right: 1em; text-align: center; vertical-align: top\">0.0</td>\n",
       "        <td style=\"padding-left: 1em; padding-right: 1em; text-align: center; vertical-align: top\">0.396777237958</td>\n",
       "        <td style=\"padding-left: 1em; padding-right: 1em; text-align: center; vertical-align: top\">0.400243623357</td>\n",
       "    </tr>\n",
       "    <tr>\n",
       "        <td style=\"padding-left: 1em; padding-right: 1em; text-align: center; vertical-align: top\">869bc1678a1aaa3308ef6f037<br>bddcc95 ...</td>\n",
       "        <td style=\"padding-left: 1em; padding-right: 1em; text-align: center; vertical-align: top\">cd652f5a79d9e7a988b34d776<br>a5e1f5c ...</td>\n",
       "        <td style=\"padding-left: 1em; padding-right: 1em; text-align: center; vertical-align: top\">0.0</td>\n",
       "        <td style=\"padding-left: 1em; padding-right: 1em; text-align: center; vertical-align: top\">0.398655679829</td>\n",
       "        <td style=\"padding-left: 1em; padding-right: 1em; text-align: center; vertical-align: top\">0.403506768167</td>\n",
       "    </tr>\n",
       "    <tr>\n",
       "        <td style=\"padding-left: 1em; padding-right: 1em; text-align: center; vertical-align: top\">707ebfbd1175964805bc265ba<br>1fb8a11 ...</td>\n",
       "        <td style=\"padding-left: 1em; padding-right: 1em; text-align: center; vertical-align: top\">eab868cc0a6f346039abe08b4<br>479c669 ...</td>\n",
       "        <td style=\"padding-left: 1em; padding-right: 1em; text-align: center; vertical-align: top\">0.0</td>\n",
       "        <td style=\"padding-left: 1em; padding-right: 1em; text-align: center; vertical-align: top\">0.25849398685</td>\n",
       "        <td style=\"padding-left: 1em; padding-right: 1em; text-align: center; vertical-align: top\">0.25442256873</td>\n",
       "    </tr>\n",
       "    <tr>\n",
       "        <td style=\"padding-left: 1em; padding-right: 1em; text-align: center; vertical-align: top\">70c0135fc59ef2349af969777<br>49cb33c ...</td>\n",
       "        <td style=\"padding-left: 1em; padding-right: 1em; text-align: center; vertical-align: top\">12ce043b88b0a0de4f2b89812<br>ce640ce ...</td>\n",
       "        <td style=\"padding-left: 1em; padding-right: 1em; text-align: center; vertical-align: top\">0.0</td>\n",
       "        <td style=\"padding-left: 1em; padding-right: 1em; text-align: center; vertical-align: top\">0.263757252715</td>\n",
       "        <td style=\"padding-left: 1em; padding-right: 1em; text-align: center; vertical-align: top\">0.261116315494</td>\n",
       "    </tr>\n",
       "    <tr>\n",
       "        <td style=\"padding-left: 1em; padding-right: 1em; text-align: center; vertical-align: top\">926b71f1431de9e1362869ebb<br>5536cc4 ...</td>\n",
       "        <td style=\"padding-left: 1em; padding-right: 1em; text-align: center; vertical-align: top\">b018c1fe7f4ae86842adb8816<br>637f8a9 ...</td>\n",
       "        <td style=\"padding-left: 1em; padding-right: 1em; text-align: center; vertical-align: top\">0.0</td>\n",
       "        <td style=\"padding-left: 1em; padding-right: 1em; text-align: center; vertical-align: top\">0.422981260995</td>\n",
       "        <td style=\"padding-left: 1em; padding-right: 1em; text-align: center; vertical-align: top\">0.431839146471</td>\n",
       "    </tr>\n",
       "    <tr>\n",
       "        <td style=\"padding-left: 1em; padding-right: 1em; text-align: center; vertical-align: top\">9dd6e6f3103c75368357fd099<br>f3cb425 ...</td>\n",
       "        <td style=\"padding-left: 1em; padding-right: 1em; text-align: center; vertical-align: top\">fca24c20b595458ab3d6a1672<br>b1fd6d0 ...</td>\n",
       "        <td style=\"padding-left: 1em; padding-right: 1em; text-align: center; vertical-align: top\">0.0</td>\n",
       "        <td style=\"padding-left: 1em; padding-right: 1em; text-align: center; vertical-align: top\">0.393083421679</td>\n",
       "        <td style=\"padding-left: 1em; padding-right: 1em; text-align: center; vertical-align: top\">0.396031506931</td>\n",
       "    </tr>\n",
       "</table>\n",
       "[30466 rows x 5 columns]<br/>Note: Only the head of the SFrame is printed.<br/>You can use print_rows(num_rows=m, num_columns=n) to print more rows and columns.\n",
       "</div>"
      ],
      "text/plain": [
       "Columns:\n",
       "\tuid\tstr\n",
       "\tqid\tstr\n",
       "\tlabel_huidalv\tfloat\n",
       "\tlabel_feature\tfloat\n",
       "\tlabel\tfloat\n",
       "\n",
       "Rows: 30466\n",
       "\n",
       "Data:\n",
       "+-------------------------------+-------------------------------+---------------+\n",
       "|              uid              |              qid              | label_huidalv |\n",
       "+-------------------------------+-------------------------------+---------------+\n",
       "| 9fd62346098d0dc38db95835c8... | c4ea7890323733160a8ac10572... |  0.076923077  |\n",
       "| 9be98a49dc3fec089a6ba1b2d1... | 2230fb779978bdd67efc36dde3... |  0.434782609  |\n",
       "| aead7ff49df1672d8a856aff3e... | 25d769e0ee4a62e21950f36dc1... |  0.108695652  |\n",
       "| c35e3dfad8652aab7d13dd2182... | 63f76d1bd32598f9cae613b079... |      0.0      |\n",
       "| b9270484db950810dac40a2804... | afe3cb02f2d41f2d6bd2a7fced... |      0.0      |\n",
       "| 869bc1678a1aaa3308ef6f037b... | cd652f5a79d9e7a988b34d776a... |      0.0      |\n",
       "| 707ebfbd1175964805bc265ba1... | eab868cc0a6f346039abe08b44... |      0.0      |\n",
       "| 70c0135fc59ef2349af9697774... | 12ce043b88b0a0de4f2b89812c... |      0.0      |\n",
       "| 926b71f1431de9e1362869ebb5... | b018c1fe7f4ae86842adb88166... |      0.0      |\n",
       "| 9dd6e6f3103c75368357fd099f... | fca24c20b595458ab3d6a1672b... |      0.0      |\n",
       "+-------------------------------+-------------------------------+---------------+\n",
       "+----------------+----------------+\n",
       "| label_feature  |     label      |\n",
       "+----------------+----------------+\n",
       "| 0.30328992673  | 0.300564028695 |\n",
       "| 0.478467868451 | 0.484046993696 |\n",
       "| 0.302447850095 | 0.301030996412 |\n",
       "| 0.395821833011 | 0.399738024947 |\n",
       "| 0.396777237958 | 0.400243623357 |\n",
       "| 0.398655679829 | 0.403506768167 |\n",
       "| 0.25849398685  | 0.25442256873  |\n",
       "| 0.263757252715 | 0.261116315494 |\n",
       "| 0.422981260995 | 0.431839146471 |\n",
       "| 0.393083421679 | 0.396031506931 |\n",
       "+----------------+----------------+\n",
       "[30466 rows x 5 columns]\n",
       "Note: Only the head of the SFrame is printed.\n",
       "You can use print_rows(num_rows=m, num_columns=n) to print more rows and columns."
      ]
     },
     "execution_count": 38,
     "metadata": {},
     "output_type": "execute_result"
    }
   ],
   "source": [
    "second_validate_gl.add_column(second_recs,name='label')\n",
    "second_validate_gl"
   ]
  },
  {
   "cell_type": "code",
   "execution_count": 39,
   "metadata": {
    "collapsed": false
   },
   "outputs": [
    {
     "data": {
      "text/html": [
       "<div style=\"max-height:1000px;max-width:1500px;overflow:auto;\"><table frame=\"box\" rules=\"cols\">\n",
       "    <tr>\n",
       "        <th style=\"padding-left: 1em; padding-right: 1em; text-align: center\">qid</th>\n",
       "        <th style=\"padding-left: 1em; padding-right: 1em; text-align: center\">uid</th>\n",
       "        <th style=\"padding-left: 1em; padding-right: 1em; text-align: center\">label</th>\n",
       "    </tr>\n",
       "    <tr>\n",
       "        <td style=\"padding-left: 1em; padding-right: 1em; text-align: center; vertical-align: top\">c4ea7890323733160a8ac1057<br>2a7e82b ...</td>\n",
       "        <td style=\"padding-left: 1em; padding-right: 1em; text-align: center; vertical-align: top\">9fd62346098d0dc38db95835c<br>85cfad8 ...</td>\n",
       "        <td style=\"padding-left: 1em; padding-right: 1em; text-align: center; vertical-align: top\">0.300564028695</td>\n",
       "    </tr>\n",
       "    <tr>\n",
       "        <td style=\"padding-left: 1em; padding-right: 1em; text-align: center; vertical-align: top\">2230fb779978bdd67efc36dde<br>378db95 ...</td>\n",
       "        <td style=\"padding-left: 1em; padding-right: 1em; text-align: center; vertical-align: top\">9be98a49dc3fec089a6ba1b2d<br>16527f2 ...</td>\n",
       "        <td style=\"padding-left: 1em; padding-right: 1em; text-align: center; vertical-align: top\">0.484046993696</td>\n",
       "    </tr>\n",
       "    <tr>\n",
       "        <td style=\"padding-left: 1em; padding-right: 1em; text-align: center; vertical-align: top\">25d769e0ee4a62e21950f36dc<br>1bedf6f ...</td>\n",
       "        <td style=\"padding-left: 1em; padding-right: 1em; text-align: center; vertical-align: top\">aead7ff49df1672d8a856aff3<br>e516326 ...</td>\n",
       "        <td style=\"padding-left: 1em; padding-right: 1em; text-align: center; vertical-align: top\">0.301030996412</td>\n",
       "    </tr>\n",
       "    <tr>\n",
       "        <td style=\"padding-left: 1em; padding-right: 1em; text-align: center; vertical-align: top\">63f76d1bd32598f9cae613b07<br>9a10d71 ...</td>\n",
       "        <td style=\"padding-left: 1em; padding-right: 1em; text-align: center; vertical-align: top\">c35e3dfad8652aab7d13dd218<br>26566ae ...</td>\n",
       "        <td style=\"padding-left: 1em; padding-right: 1em; text-align: center; vertical-align: top\">0.399738024947</td>\n",
       "    </tr>\n",
       "    <tr>\n",
       "        <td style=\"padding-left: 1em; padding-right: 1em; text-align: center; vertical-align: top\">afe3cb02f2d41f2d6bd2a7fce<br>d09a6d5 ...</td>\n",
       "        <td style=\"padding-left: 1em; padding-right: 1em; text-align: center; vertical-align: top\">b9270484db950810dac40a280<br>42872e5 ...</td>\n",
       "        <td style=\"padding-left: 1em; padding-right: 1em; text-align: center; vertical-align: top\">0.400243623357</td>\n",
       "    </tr>\n",
       "    <tr>\n",
       "        <td style=\"padding-left: 1em; padding-right: 1em; text-align: center; vertical-align: top\">cd652f5a79d9e7a988b34d776<br>a5e1f5c ...</td>\n",
       "        <td style=\"padding-left: 1em; padding-right: 1em; text-align: center; vertical-align: top\">869bc1678a1aaa3308ef6f037<br>bddcc95 ...</td>\n",
       "        <td style=\"padding-left: 1em; padding-right: 1em; text-align: center; vertical-align: top\">0.403506768167</td>\n",
       "    </tr>\n",
       "    <tr>\n",
       "        <td style=\"padding-left: 1em; padding-right: 1em; text-align: center; vertical-align: top\">eab868cc0a6f346039abe08b4<br>479c669 ...</td>\n",
       "        <td style=\"padding-left: 1em; padding-right: 1em; text-align: center; vertical-align: top\">707ebfbd1175964805bc265ba<br>1fb8a11 ...</td>\n",
       "        <td style=\"padding-left: 1em; padding-right: 1em; text-align: center; vertical-align: top\">0.25442256873</td>\n",
       "    </tr>\n",
       "    <tr>\n",
       "        <td style=\"padding-left: 1em; padding-right: 1em; text-align: center; vertical-align: top\">12ce043b88b0a0de4f2b89812<br>ce640ce ...</td>\n",
       "        <td style=\"padding-left: 1em; padding-right: 1em; text-align: center; vertical-align: top\">70c0135fc59ef2349af969777<br>49cb33c ...</td>\n",
       "        <td style=\"padding-left: 1em; padding-right: 1em; text-align: center; vertical-align: top\">0.261116315494</td>\n",
       "    </tr>\n",
       "    <tr>\n",
       "        <td style=\"padding-left: 1em; padding-right: 1em; text-align: center; vertical-align: top\">b018c1fe7f4ae86842adb8816<br>637f8a9 ...</td>\n",
       "        <td style=\"padding-left: 1em; padding-right: 1em; text-align: center; vertical-align: top\">926b71f1431de9e1362869ebb<br>5536cc4 ...</td>\n",
       "        <td style=\"padding-left: 1em; padding-right: 1em; text-align: center; vertical-align: top\">0.431839146471</td>\n",
       "    </tr>\n",
       "    <tr>\n",
       "        <td style=\"padding-left: 1em; padding-right: 1em; text-align: center; vertical-align: top\">fca24c20b595458ab3d6a1672<br>b1fd6d0 ...</td>\n",
       "        <td style=\"padding-left: 1em; padding-right: 1em; text-align: center; vertical-align: top\">9dd6e6f3103c75368357fd099<br>f3cb425 ...</td>\n",
       "        <td style=\"padding-left: 1em; padding-right: 1em; text-align: center; vertical-align: top\">0.396031506931</td>\n",
       "    </tr>\n",
       "</table>\n",
       "[30466 rows x 3 columns]<br/>Note: Only the head of the SFrame is printed.<br/>You can use print_rows(num_rows=m, num_columns=n) to print more rows and columns.\n",
       "</div>"
      ],
      "text/plain": [
       "Columns:\n",
       "\tqid\tstr\n",
       "\tuid\tstr\n",
       "\tlabel\tfloat\n",
       "\n",
       "Rows: 30466\n",
       "\n",
       "Data:\n",
       "+-------------------------------+-------------------------------+----------------+\n",
       "|              qid              |              uid              |     label      |\n",
       "+-------------------------------+-------------------------------+----------------+\n",
       "| c4ea7890323733160a8ac10572... | 9fd62346098d0dc38db95835c8... | 0.300564028695 |\n",
       "| 2230fb779978bdd67efc36dde3... | 9be98a49dc3fec089a6ba1b2d1... | 0.484046993696 |\n",
       "| 25d769e0ee4a62e21950f36dc1... | aead7ff49df1672d8a856aff3e... | 0.301030996412 |\n",
       "| 63f76d1bd32598f9cae613b079... | c35e3dfad8652aab7d13dd2182... | 0.399738024947 |\n",
       "| afe3cb02f2d41f2d6bd2a7fced... | b9270484db950810dac40a2804... | 0.400243623357 |\n",
       "| cd652f5a79d9e7a988b34d776a... | 869bc1678a1aaa3308ef6f037b... | 0.403506768167 |\n",
       "| eab868cc0a6f346039abe08b44... | 707ebfbd1175964805bc265ba1... | 0.25442256873  |\n",
       "| 12ce043b88b0a0de4f2b89812c... | 70c0135fc59ef2349af9697774... | 0.261116315494 |\n",
       "| b018c1fe7f4ae86842adb88166... | 926b71f1431de9e1362869ebb5... | 0.431839146471 |\n",
       "| fca24c20b595458ab3d6a1672b... | 9dd6e6f3103c75368357fd099f... | 0.396031506931 |\n",
       "+-------------------------------+-------------------------------+----------------+\n",
       "[30466 rows x 3 columns]\n",
       "Note: Only the head of the SFrame is printed.\n",
       "You can use print_rows(num_rows=m, num_columns=n) to print more rows and columns."
      ]
     },
     "execution_count": 39,
     "metadata": {},
     "output_type": "execute_result"
    }
   ],
   "source": [
    "output=second_validate_gl[['qid','uid','label']]\n",
    "output"
   ]
  },
  {
   "cell_type": "code",
   "execution_count": 40,
   "metadata": {
    "collapsed": true
   },
   "outputs": [],
   "source": [
    "output.save('ensemble_1.csv') "
   ]
  },
  {
   "cell_type": "code",
   "execution_count": null,
   "metadata": {
    "collapsed": true
   },
   "outputs": [],
   "source": []
  }
 ],
 "metadata": {
  "kernelspec": {
   "display_name": "Python 2",
   "language": "python",
   "name": "python2"
  },
  "language_info": {
   "codemirror_mode": {
    "name": "ipython",
    "version": 2
   },
   "file_extension": ".py",
   "mimetype": "text/x-python",
   "name": "python",
   "nbconvert_exporter": "python",
   "pygments_lexer": "ipython2",
   "version": "2.7.11"
  }
 },
 "nbformat": 4,
 "nbformat_minor": 0
}
