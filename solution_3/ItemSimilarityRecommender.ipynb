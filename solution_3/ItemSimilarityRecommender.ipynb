{
 "cells": [
  {
   "cell_type": "code",
   "execution_count": 1,
   "metadata": {
    "collapsed": true
   },
   "outputs": [],
   "source": [
    "import graphlab as gl"
   ]
  },
  {
   "cell_type": "code",
   "execution_count": 2,
   "metadata": {
    "collapsed": false
   },
   "outputs": [
    {
     "name": "stdout",
     "output_type": "stream",
     "text": [
      "This non-commercial license of GraphLab Create for academic use is assigned to 847423348@qq.com and will expire on November 01, 2017.\n"
     ]
    },
    {
     "name": "stderr",
     "output_type": "stream",
     "text": [
      "[INFO] graphlab.cython.cy_server: GraphLab Create v2.1 started. Logging: C:\\Users\\ZHENGH~1\\AppData\\Local\\Temp\\graphlab_server_1479452420.log.0\n"
     ]
    },
    {
     "data": {
      "text/html": [
       "<pre>Finished parsing file H:\\天池\\2016Byte Cup国际机器学习竞赛\\bytecup_s2\\ensemble\\train_1115_huidalv_improve.csv</pre>"
      ],
      "text/plain": [
       "Finished parsing file H:\\天池\\2016Byte Cup国际机器学习竞赛\\bytecup_s2\\ensemble\\train_1115_huidalv_improve.csv"
      ]
     },
     "metadata": {},
     "output_type": "display_data"
    },
    {
     "data": {
      "text/html": [
       "<pre>Parsing completed. Parsed 100 lines in 1.20836 secs.</pre>"
      ],
      "text/plain": [
       "Parsing completed. Parsed 100 lines in 1.20836 secs."
      ]
     },
     "metadata": {},
     "output_type": "display_data"
    },
    {
     "name": "stdout",
     "output_type": "stream",
     "text": [
      "------------------------------------------------------\n",
      "Inferred types from first 100 line(s) of file as \n",
      "column_type_hints=[str,str,long,float,float,float,float,float,float,float,float,str,str,str,float,float,str,str,str,str]\n",
      "If parsing fails due to incorrect types, you can correct\n",
      "the inferred type list above and pass it to read_csv in\n",
      "the column_type_hints argument\n",
      "------------------------------------------------------\n"
     ]
    },
    {
     "data": {
      "text/html": [
       "<pre>Finished parsing file H:\\天池\\2016Byte Cup国际机器学习竞赛\\bytecup_s2\\ensemble\\train_1115_huidalv_improve.csv</pre>"
      ],
      "text/plain": [
       "Finished parsing file H:\\天池\\2016Byte Cup国际机器学习竞赛\\bytecup_s2\\ensemble\\train_1115_huidalv_improve.csv"
      ]
     },
     "metadata": {},
     "output_type": "display_data"
    },
    {
     "data": {
      "text/html": [
       "<pre>Parsing completed. Parsed 278376 lines in 1.36047 secs.</pre>"
      ],
      "text/plain": [
       "Parsing completed. Parsed 278376 lines in 1.36047 secs."
      ]
     },
     "metadata": {},
     "output_type": "display_data"
    }
   ],
   "source": [
    "train_all=gl.SFrame.read_csv(\"train_1115_huidalv_improve.csv\")"
   ]
  },
  {
   "cell_type": "code",
   "execution_count": 4,
   "metadata": {
    "collapsed": false
   },
   "outputs": [],
   "source": [
    "train_all['huidalv_cost']=train_all.apply(lambda x: x['huidalv']*1.0/1.2 if x['huidalv']>0.45 and x['zj_answers']*90<5 else x['huidalv'] )\n",
    "train_all['label_huidalv_cost']=train_all.apply(lambda x: x['label_huidalv']*1.0/1.2 if x['label_huidalv']>0.45 \n",
    "                                                and x['zj_q_label_answers']*90<5 \n",
    "                                                else x['label_huidalv'] )"
   ]
  },
  {
   "cell_type": "code",
   "execution_count": 5,
   "metadata": {
    "collapsed": false
   },
   "outputs": [
    {
     "data": {
      "text/html": [
       "<pre>Finished parsing file H:\\天池\\2016Byte Cup国际机器学习竞赛\\bytecup_s2\\ensemble\\validate_1115_for_predict.csv</pre>"
      ],
      "text/plain": [
       "Finished parsing file H:\\天池\\2016Byte Cup国际机器学习竞赛\\bytecup_s2\\ensemble\\validate_1115_for_predict.csv"
      ]
     },
     "metadata": {},
     "output_type": "display_data"
    },
    {
     "data": {
      "text/html": [
       "<pre>Parsing completed. Parsed 100 lines in 0.145103 secs.</pre>"
      ],
      "text/plain": [
       "Parsing completed. Parsed 100 lines in 0.145103 secs."
      ]
     },
     "metadata": {},
     "output_type": "display_data"
    },
    {
     "name": "stdout",
     "output_type": "stream",
     "text": [
      "------------------------------------------------------\n",
      "Inferred types from first 100 line(s) of file as \n",
      "column_type_hints=[str,str,str,float,float,float,float,float,float,float,float,str,str,str,float,float,str,str,str,str]\n",
      "If parsing fails due to incorrect types, you can correct\n",
      "the inferred type list above and pass it to read_csv in\n",
      "the column_type_hints argument\n",
      "------------------------------------------------------\n"
     ]
    },
    {
     "data": {
      "text/html": [
       "<pre>Finished parsing file H:\\天池\\2016Byte Cup国际机器学习竞赛\\bytecup_s2\\ensemble\\validate_1115_for_predict.csv</pre>"
      ],
      "text/plain": [
       "Finished parsing file H:\\天池\\2016Byte Cup国际机器学习竞赛\\bytecup_s2\\ensemble\\validate_1115_for_predict.csv"
      ]
     },
     "metadata": {},
     "output_type": "display_data"
    },
    {
     "data": {
      "text/html": [
       "<pre>Parsing completed. Parsed 30466 lines in 0.108577 secs.</pre>"
      ],
      "text/plain": [
       "Parsing completed. Parsed 30466 lines in 0.108577 secs."
      ]
     },
     "metadata": {},
     "output_type": "display_data"
    }
   ],
   "source": [
    "validate_all=gl.SFrame.read_csv(\"validate_1115_for_predict.csv\")"
   ]
  },
  {
   "cell_type": "code",
   "execution_count": 13,
   "metadata": {
    "collapsed": true
   },
   "outputs": [],
   "source": [
    "validate_all['huidalv_cost']=validate_all.apply(lambda x: x['huidalv']/1.2 if x['huidalv']>0.45 and x['zj_answers']*90<5 else x['huidalv'] )\n",
    "validate_all['label_huidalv_cost']=validate_all.apply(lambda x: x['label_huidalv']/1.2 if x['label_huidalv']>0.45\n",
    "                                                      and x['zj_q_label_answers']*90<5 \n",
    "                                                      else x['label_huidalv'] )"
   ]
  },
  {
   "cell_type": "code",
   "execution_count": 7,
   "metadata": {
    "collapsed": false
   },
   "outputs": [
    {
     "data": {
      "text/html": [
       "<div style=\"max-height:1000px;max-width:1500px;overflow:auto;\"><table frame=\"box\" rules=\"cols\">\n",
       "    <tr>\n",
       "        <th style=\"padding-left: 1em; padding-right: 1em; text-align: center\">qid</th>\n",
       "        <th style=\"padding-left: 1em; padding-right: 1em; text-align: center\">uid</th>\n",
       "        <th style=\"padding-left: 1em; padding-right: 1em; text-align: center\">label</th>\n",
       "        <th style=\"padding-left: 1em; padding-right: 1em; text-align: center\">zj_answers</th>\n",
       "        <th style=\"padding-left: 1em; padding-right: 1em; text-align: center\">zj_tuisong</th>\n",
       "        <th style=\"padding-left: 1em; padding-right: 1em; text-align: center\">zj_q_label_answers</th>\n",
       "    </tr>\n",
       "    <tr>\n",
       "        <td style=\"padding-left: 1em; padding-right: 1em; text-align: center; vertical-align: top\">c4ea7890323733160a8ac1057<br>2a7e82b ...</td>\n",
       "        <td style=\"padding-left: 1em; padding-right: 1em; text-align: center; vertical-align: top\">9fd62346098d0dc38db95835c<br>85cfad8 ...</td>\n",
       "        <td style=\"padding-left: 1em; padding-right: 1em; text-align: center; vertical-align: top\"></td>\n",
       "        <td style=\"padding-left: 1em; padding-right: 1em; text-align: center; vertical-align: top\">0.022222222</td>\n",
       "        <td style=\"padding-left: 1em; padding-right: 1em; text-align: center; vertical-align: top\">0.245454545</td>\n",
       "        <td style=\"padding-left: 1em; padding-right: 1em; text-align: center; vertical-align: top\">0.022222222</td>\n",
       "    </tr>\n",
       "    <tr>\n",
       "        <td style=\"padding-left: 1em; padding-right: 1em; text-align: center; vertical-align: top\">2230fb779978bdd67efc36dde<br>378db95 ...</td>\n",
       "        <td style=\"padding-left: 1em; padding-right: 1em; text-align: center; vertical-align: top\">9be98a49dc3fec089a6ba1b2d<br>16527f2 ...</td>\n",
       "        <td style=\"padding-left: 1em; padding-right: 1em; text-align: center; vertical-align: top\"></td>\n",
       "        <td style=\"padding-left: 1em; padding-right: 1em; text-align: center; vertical-align: top\">0.111111111</td>\n",
       "        <td style=\"padding-left: 1em; padding-right: 1em; text-align: center; vertical-align: top\">0.227272727</td>\n",
       "        <td style=\"padding-left: 1em; padding-right: 1em; text-align: center; vertical-align: top\">0.111111111</td>\n",
       "    </tr>\n",
       "    <tr>\n",
       "        <td style=\"padding-left: 1em; padding-right: 1em; text-align: center; vertical-align: top\">25d769e0ee4a62e21950f36dc<br>1bedf6f ...</td>\n",
       "        <td style=\"padding-left: 1em; padding-right: 1em; text-align: center; vertical-align: top\">aead7ff49df1672d8a856aff3<br>e516326 ...</td>\n",
       "        <td style=\"padding-left: 1em; padding-right: 1em; text-align: center; vertical-align: top\"></td>\n",
       "        <td style=\"padding-left: 1em; padding-right: 1em; text-align: center; vertical-align: top\">0.055555556</td>\n",
       "        <td style=\"padding-left: 1em; padding-right: 1em; text-align: center; vertical-align: top\">0.418181818</td>\n",
       "        <td style=\"padding-left: 1em; padding-right: 1em; text-align: center; vertical-align: top\">0.055555556</td>\n",
       "    </tr>\n",
       "    <tr>\n",
       "        <td style=\"padding-left: 1em; padding-right: 1em; text-align: center; vertical-align: top\">63f76d1bd32598f9cae613b07<br>9a10d71 ...</td>\n",
       "        <td style=\"padding-left: 1em; padding-right: 1em; text-align: center; vertical-align: top\">c35e3dfad8652aab7d13dd218<br>26566ae ...</td>\n",
       "        <td style=\"padding-left: 1em; padding-right: 1em; text-align: center; vertical-align: top\"></td>\n",
       "        <td style=\"padding-left: 1em; padding-right: 1em; text-align: center; vertical-align: top\">0.0</td>\n",
       "        <td style=\"padding-left: 1em; padding-right: 1em; text-align: center; vertical-align: top\">0.009090909</td>\n",
       "        <td style=\"padding-left: 1em; padding-right: 1em; text-align: center; vertical-align: top\">0.0</td>\n",
       "    </tr>\n",
       "    <tr>\n",
       "        <td style=\"padding-left: 1em; padding-right: 1em; text-align: center; vertical-align: top\">afe3cb02f2d41f2d6bd2a7fce<br>d09a6d5 ...</td>\n",
       "        <td style=\"padding-left: 1em; padding-right: 1em; text-align: center; vertical-align: top\">b9270484db950810dac40a280<br>42872e5 ...</td>\n",
       "        <td style=\"padding-left: 1em; padding-right: 1em; text-align: center; vertical-align: top\"></td>\n",
       "        <td style=\"padding-left: 1em; padding-right: 1em; text-align: center; vertical-align: top\">0.0</td>\n",
       "        <td style=\"padding-left: 1em; padding-right: 1em; text-align: center; vertical-align: top\">0.090909091</td>\n",
       "        <td style=\"padding-left: 1em; padding-right: 1em; text-align: center; vertical-align: top\">0.0</td>\n",
       "    </tr>\n",
       "    <tr>\n",
       "        <td style=\"padding-left: 1em; padding-right: 1em; text-align: center; vertical-align: top\">cd652f5a79d9e7a988b34d776<br>a5e1f5c ...</td>\n",
       "        <td style=\"padding-left: 1em; padding-right: 1em; text-align: center; vertical-align: top\">869bc1678a1aaa3308ef6f037<br>bddcc95 ...</td>\n",
       "        <td style=\"padding-left: 1em; padding-right: 1em; text-align: center; vertical-align: top\"></td>\n",
       "        <td style=\"padding-left: 1em; padding-right: 1em; text-align: center; vertical-align: top\">0.0</td>\n",
       "        <td style=\"padding-left: 1em; padding-right: 1em; text-align: center; vertical-align: top\">0.027272727</td>\n",
       "        <td style=\"padding-left: 1em; padding-right: 1em; text-align: center; vertical-align: top\">0.0</td>\n",
       "    </tr>\n",
       "    <tr>\n",
       "        <td style=\"padding-left: 1em; padding-right: 1em; text-align: center; vertical-align: top\">eab868cc0a6f346039abe08b4<br>479c669 ...</td>\n",
       "        <td style=\"padding-left: 1em; padding-right: 1em; text-align: center; vertical-align: top\">707ebfbd1175964805bc265ba<br>1fb8a11 ...</td>\n",
       "        <td style=\"padding-left: 1em; padding-right: 1em; text-align: center; vertical-align: top\"></td>\n",
       "        <td style=\"padding-left: 1em; padding-right: 1em; text-align: center; vertical-align: top\">0.0</td>\n",
       "        <td style=\"padding-left: 1em; padding-right: 1em; text-align: center; vertical-align: top\">0.081818182</td>\n",
       "        <td style=\"padding-left: 1em; padding-right: 1em; text-align: center; vertical-align: top\">0.0</td>\n",
       "    </tr>\n",
       "    <tr>\n",
       "        <td style=\"padding-left: 1em; padding-right: 1em; text-align: center; vertical-align: top\">12ce043b88b0a0de4f2b89812<br>ce640ce ...</td>\n",
       "        <td style=\"padding-left: 1em; padding-right: 1em; text-align: center; vertical-align: top\">70c0135fc59ef2349af969777<br>49cb33c ...</td>\n",
       "        <td style=\"padding-left: 1em; padding-right: 1em; text-align: center; vertical-align: top\"></td>\n",
       "        <td style=\"padding-left: 1em; padding-right: 1em; text-align: center; vertical-align: top\">0.0</td>\n",
       "        <td style=\"padding-left: 1em; padding-right: 1em; text-align: center; vertical-align: top\">0.1</td>\n",
       "        <td style=\"padding-left: 1em; padding-right: 1em; text-align: center; vertical-align: top\">0.0</td>\n",
       "    </tr>\n",
       "    <tr>\n",
       "        <td style=\"padding-left: 1em; padding-right: 1em; text-align: center; vertical-align: top\">b018c1fe7f4ae86842adb8816<br>637f8a9 ...</td>\n",
       "        <td style=\"padding-left: 1em; padding-right: 1em; text-align: center; vertical-align: top\">926b71f1431de9e1362869ebb<br>5536cc4 ...</td>\n",
       "        <td style=\"padding-left: 1em; padding-right: 1em; text-align: center; vertical-align: top\"></td>\n",
       "        <td style=\"padding-left: 1em; padding-right: 1em; text-align: center; vertical-align: top\">0.0</td>\n",
       "        <td style=\"padding-left: 1em; padding-right: 1em; text-align: center; vertical-align: top\">0.063636364</td>\n",
       "        <td style=\"padding-left: 1em; padding-right: 1em; text-align: center; vertical-align: top\">0.0</td>\n",
       "    </tr>\n",
       "    <tr>\n",
       "        <td style=\"padding-left: 1em; padding-right: 1em; text-align: center; vertical-align: top\">fca24c20b595458ab3d6a1672<br>b1fd6d0 ...</td>\n",
       "        <td style=\"padding-left: 1em; padding-right: 1em; text-align: center; vertical-align: top\">9dd6e6f3103c75368357fd099<br>f3cb425 ...</td>\n",
       "        <td style=\"padding-left: 1em; padding-right: 1em; text-align: center; vertical-align: top\"></td>\n",
       "        <td style=\"padding-left: 1em; padding-right: 1em; text-align: center; vertical-align: top\">0.0</td>\n",
       "        <td style=\"padding-left: 1em; padding-right: 1em; text-align: center; vertical-align: top\">0.018181818</td>\n",
       "        <td style=\"padding-left: 1em; padding-right: 1em; text-align: center; vertical-align: top\">0.0</td>\n",
       "    </tr>\n",
       "</table>\n",
       "<table frame=\"box\" rules=\"cols\">\n",
       "    <tr>\n",
       "        <th style=\"padding-left: 1em; padding-right: 1em; text-align: center\">zj_q_label_tuisong</th>\n",
       "        <th style=\"padding-left: 1em; padding-right: 1em; text-align: center\">huidalv</th>\n",
       "        <th style=\"padding-left: 1em; padding-right: 1em; text-align: center\">label_huidalv</th>\n",
       "        <th style=\"padding-left: 1em; padding-right: 1em; text-align: center\">huidabi</th>\n",
       "        <th style=\"padding-left: 1em; padding-right: 1em; text-align: center\">huidalvbi</th>\n",
       "        <th style=\"padding-left: 1em; padding-right: 1em; text-align: center\">q_label</th>\n",
       "        <th style=\"padding-left: 1em; padding-right: 1em; text-align: center\">zj_label</th>\n",
       "        <th style=\"padding-left: 1em; padding-right: 1em; text-align: center\">q_hot</th>\n",
       "        <th style=\"padding-left: 1em; padding-right: 1em; text-align: center\">q_sp</th>\n",
       "    </tr>\n",
       "    <tr>\n",
       "        <td style=\"padding-left: 1em; padding-right: 1em; text-align: center; vertical-align: top\">0.236363636</td>\n",
       "        <td style=\"padding-left: 1em; padding-right: 1em; text-align: center; vertical-align: top\">0.074074074</td>\n",
       "        <td style=\"padding-left: 1em; padding-right: 1em; text-align: center; vertical-align: top\">0.076923077</td>\n",
       "        <td style=\"padding-left: 1em; padding-right: 1em; text-align: center; vertical-align: top\">1.0</td>\n",
       "        <td style=\"padding-left: 1em; padding-right: 1em; text-align: center; vertical-align: top\">1.038461</td>\n",
       "        <td style=\"padding-left: 1em; padding-right: 1em; text-align: center; vertical-align: top\">ql8</td>\n",
       "        <td style=\"padding-left: 1em; padding-right: 1em; text-align: center; vertical-align: top\">0</td>\n",
       "        <td style=\"padding-left: 1em; padding-right: 1em; text-align: center; vertical-align: top\">hot1</td>\n",
       "        <td style=\"padding-left: 1em; padding-right: 1em; text-align: center; vertical-align: top\">0.1</td>\n",
       "    </tr>\n",
       "    <tr>\n",
       "        <td style=\"padding-left: 1em; padding-right: 1em; text-align: center; vertical-align: top\">0.209090909</td>\n",
       "        <td style=\"padding-left: 1em; padding-right: 1em; text-align: center; vertical-align: top\">0.4</td>\n",
       "        <td style=\"padding-left: 1em; padding-right: 1em; text-align: center; vertical-align: top\">0.434782609</td>\n",
       "        <td style=\"padding-left: 1em; padding-right: 1em; text-align: center; vertical-align: top\">1.0</td>\n",
       "        <td style=\"padding-left: 1em; padding-right: 1em; text-align: center; vertical-align: top\">1.086956</td>\n",
       "        <td style=\"padding-left: 1em; padding-right: 1em; text-align: center; vertical-align: top\">ql0</td>\n",
       "        <td style=\"padding-left: 1em; padding-right: 1em; text-align: center; vertical-align: top\">27/72/29/30</td>\n",
       "        <td style=\"padding-left: 1em; padding-right: 1em; text-align: center; vertical-align: top\">hot4</td>\n",
       "        <td style=\"padding-left: 1em; padding-right: 1em; text-align: center; vertical-align: top\">0.006</td>\n",
       "    </tr>\n",
       "    <tr>\n",
       "        <td style=\"padding-left: 1em; padding-right: 1em; text-align: center; vertical-align: top\">0.418181818</td>\n",
       "        <td style=\"padding-left: 1em; padding-right: 1em; text-align: center; vertical-align: top\">0.108695652</td>\n",
       "        <td style=\"padding-left: 1em; padding-right: 1em; text-align: center; vertical-align: top\">0.108695652</td>\n",
       "        <td style=\"padding-left: 1em; padding-right: 1em; text-align: center; vertical-align: top\">1.0</td>\n",
       "        <td style=\"padding-left: 1em; padding-right: 1em; text-align: center; vertical-align: top\">1.0</td>\n",
       "        <td style=\"padding-left: 1em; padding-right: 1em; text-align: center; vertical-align: top\">ql8</td>\n",
       "        <td style=\"padding-left: 1em; padding-right: 1em; text-align: center; vertical-align: top\">0/1</td>\n",
       "        <td style=\"padding-left: 1em; padding-right: 1em; text-align: center; vertical-align: top\">hot1</td>\n",
       "        <td style=\"padding-left: 1em; padding-right: 1em; text-align: center; vertical-align: top\">0.108</td>\n",
       "    </tr>\n",
       "    <tr>\n",
       "        <td style=\"padding-left: 1em; padding-right: 1em; text-align: center; vertical-align: top\">0.0</td>\n",
       "        <td style=\"padding-left: 1em; padding-right: 1em; text-align: center; vertical-align: top\">0.0</td>\n",
       "        <td style=\"padding-left: 1em; padding-right: 1em; text-align: center; vertical-align: top\">0.0</td>\n",
       "        <td style=\"padding-left: 1em; padding-right: 1em; text-align: center; vertical-align: top\">0.0</td>\n",
       "        <td style=\"padding-left: 1em; padding-right: 1em; text-align: center; vertical-align: top\">0.0</td>\n",
       "        <td style=\"padding-left: 1em; padding-right: 1em; text-align: center; vertical-align: top\">ql6</td>\n",
       "        <td style=\"padding-left: 1em; padding-right: 1em; text-align: center; vertical-align: top\">23</td>\n",
       "        <td style=\"padding-left: 1em; padding-right: 1em; text-align: center; vertical-align: top\">hot3</td>\n",
       "        <td style=\"padding-left: 1em; padding-right: 1em; text-align: center; vertical-align: top\">0.034</td>\n",
       "    </tr>\n",
       "    <tr>\n",
       "        <td style=\"padding-left: 1em; padding-right: 1em; text-align: center; vertical-align: top\">0.090909091</td>\n",
       "        <td style=\"padding-left: 1em; padding-right: 1em; text-align: center; vertical-align: top\">0.0</td>\n",
       "        <td style=\"padding-left: 1em; padding-right: 1em; text-align: center; vertical-align: top\">0.0</td>\n",
       "        <td style=\"padding-left: 1em; padding-right: 1em; text-align: center; vertical-align: top\">0.0</td>\n",
       "        <td style=\"padding-left: 1em; padding-right: 1em; text-align: center; vertical-align: top\">0.0</td>\n",
       "        <td style=\"padding-left: 1em; padding-right: 1em; text-align: center; vertical-align: top\">ql6</td>\n",
       "        <td style=\"padding-left: 1em; padding-right: 1em; text-align: center; vertical-align: top\">38/42/69/43</td>\n",
       "        <td style=\"padding-left: 1em; padding-right: 1em; text-align: center; vertical-align: top\">hot5</td>\n",
       "        <td style=\"padding-left: 1em; padding-right: 1em; text-align: center; vertical-align: top\">0.002</td>\n",
       "    </tr>\n",
       "    <tr>\n",
       "        <td style=\"padding-left: 1em; padding-right: 1em; text-align: center; vertical-align: top\">0.027272727</td>\n",
       "        <td style=\"padding-left: 1em; padding-right: 1em; text-align: center; vertical-align: top\">0.0</td>\n",
       "        <td style=\"padding-left: 1em; padding-right: 1em; text-align: center; vertical-align: top\">0.0</td>\n",
       "        <td style=\"padding-left: 1em; padding-right: 1em; text-align: center; vertical-align: top\">0.0</td>\n",
       "        <td style=\"padding-left: 1em; padding-right: 1em; text-align: center; vertical-align: top\">0.0</td>\n",
       "        <td style=\"padding-left: 1em; padding-right: 1em; text-align: center; vertical-align: top\">ql15</td>\n",
       "        <td style=\"padding-left: 1em; padding-right: 1em; text-align: center; vertical-align: top\">21/80</td>\n",
       "        <td style=\"padding-left: 1em; padding-right: 1em; text-align: center; vertical-align: top\">hot4</td>\n",
       "        <td style=\"padding-left: 1em; padding-right: 1em; text-align: center; vertical-align: top\">0.014</td>\n",
       "    </tr>\n",
       "    <tr>\n",
       "        <td style=\"padding-left: 1em; padding-right: 1em; text-align: center; vertical-align: top\">0.081818182</td>\n",
       "        <td style=\"padding-left: 1em; padding-right: 1em; text-align: center; vertical-align: top\">0.0</td>\n",
       "        <td style=\"padding-left: 1em; padding-right: 1em; text-align: center; vertical-align: top\">0.0</td>\n",
       "        <td style=\"padding-left: 1em; padding-right: 1em; text-align: center; vertical-align: top\">0.0</td>\n",
       "        <td style=\"padding-left: 1em; padding-right: 1em; text-align: center; vertical-align: top\">0.0</td>\n",
       "        <td style=\"padding-left: 1em; padding-right: 1em; text-align: center; vertical-align: top\">ql3</td>\n",
       "        <td style=\"padding-left: 1em; padding-right: 1em; text-align: center; vertical-align: top\">18/19/20</td>\n",
       "        <td style=\"padding-left: 1em; padding-right: 1em; text-align: center; vertical-align: top\">hot3</td>\n",
       "        <td style=\"padding-left: 1em; padding-right: 1em; text-align: center; vertical-align: top\">0.016</td>\n",
       "    </tr>\n",
       "    <tr>\n",
       "        <td style=\"padding-left: 1em; padding-right: 1em; text-align: center; vertical-align: top\">0.1</td>\n",
       "        <td style=\"padding-left: 1em; padding-right: 1em; text-align: center; vertical-align: top\">0.0</td>\n",
       "        <td style=\"padding-left: 1em; padding-right: 1em; text-align: center; vertical-align: top\">0.0</td>\n",
       "        <td style=\"padding-left: 1em; padding-right: 1em; text-align: center; vertical-align: top\">0.0</td>\n",
       "        <td style=\"padding-left: 1em; padding-right: 1em; text-align: center; vertical-align: top\">0.0</td>\n",
       "        <td style=\"padding-left: 1em; padding-right: 1em; text-align: center; vertical-align: top\">ql3</td>\n",
       "        <td style=\"padding-left: 1em; padding-right: 1em; text-align: center; vertical-align: top\">18/19/20</td>\n",
       "        <td style=\"padding-left: 1em; padding-right: 1em; text-align: center; vertical-align: top\">hot3</td>\n",
       "        <td style=\"padding-left: 1em; padding-right: 1em; text-align: center; vertical-align: top\">0.032</td>\n",
       "    </tr>\n",
       "    <tr>\n",
       "        <td style=\"padding-left: 1em; padding-right: 1em; text-align: center; vertical-align: top\">0.063636364</td>\n",
       "        <td style=\"padding-left: 1em; padding-right: 1em; text-align: center; vertical-align: top\">0.0</td>\n",
       "        <td style=\"padding-left: 1em; padding-right: 1em; text-align: center; vertical-align: top\">0.0</td>\n",
       "        <td style=\"padding-left: 1em; padding-right: 1em; text-align: center; vertical-align: top\">0.0</td>\n",
       "        <td style=\"padding-left: 1em; padding-right: 1em; text-align: center; vertical-align: top\">0.0</td>\n",
       "        <td style=\"padding-left: 1em; padding-right: 1em; text-align: center; vertical-align: top\">ql4</td>\n",
       "        <td style=\"padding-left: 1em; padding-right: 1em; text-align: center; vertical-align: top\">75</td>\n",
       "        <td style=\"padding-left: 1em; padding-right: 1em; text-align: center; vertical-align: top\">hot5</td>\n",
       "        <td style=\"padding-left: 1em; padding-right: 1em; text-align: center; vertical-align: top\">0.002</td>\n",
       "    </tr>\n",
       "    <tr>\n",
       "        <td style=\"padding-left: 1em; padding-right: 1em; text-align: center; vertical-align: top\">0.018181818</td>\n",
       "        <td style=\"padding-left: 1em; padding-right: 1em; text-align: center; vertical-align: top\">0.0</td>\n",
       "        <td style=\"padding-left: 1em; padding-right: 1em; text-align: center; vertical-align: top\">0.0</td>\n",
       "        <td style=\"padding-left: 1em; padding-right: 1em; text-align: center; vertical-align: top\">0.0</td>\n",
       "        <td style=\"padding-left: 1em; padding-right: 1em; text-align: center; vertical-align: top\">0.0</td>\n",
       "        <td style=\"padding-left: 1em; padding-right: 1em; text-align: center; vertical-align: top\">ql12</td>\n",
       "        <td style=\"padding-left: 1em; padding-right: 1em; text-align: center; vertical-align: top\">33/89</td>\n",
       "        <td style=\"padding-left: 1em; padding-right: 1em; text-align: center; vertical-align: top\">hot1</td>\n",
       "        <td style=\"padding-left: 1em; padding-right: 1em; text-align: center; vertical-align: top\">0.136</td>\n",
       "    </tr>\n",
       "</table>\n",
       "<table frame=\"box\" rules=\"cols\">\n",
       "    <tr>\n",
       "        <th style=\"padding-left: 1em; padding-right: 1em; text-align: center\">sp_rate</th>\n",
       "        <th style=\"padding-left: 1em; padding-right: 1em; text-align: center\">qz_word_ratio</th>\n",
       "        <th style=\"padding-left: 1em; padding-right: 1em; text-align: center\">qz_char_ratio</th>\n",
       "        <th style=\"padding-left: 1em; padding-right: 1em; text-align: center\">qz_word_dist</th>\n",
       "        <th style=\"padding-left: 1em; padding-right: 1em; text-align: center\">qz_char_dist</th>\n",
       "    </tr>\n",
       "    <tr>\n",
       "        <td style=\"padding-left: 1em; padding-right: 1em; text-align: center; vertical-align: top\">0.393700787</td>\n",
       "        <td style=\"padding-left: 1em; padding-right: 1em; text-align: center; vertical-align: top\">r4</td>\n",
       "        <td style=\"padding-left: 1em; padding-right: 1em; text-align: center; vertical-align: top\">r3</td>\n",
       "        <td style=\"padding-left: 1em; padding-right: 1em; text-align: center; vertical-align: top\">d4</td>\n",
       "        <td style=\"padding-left: 1em; padding-right: 1em; text-align: center; vertical-align: top\">d6</td>\n",
       "    </tr>\n",
       "    <tr>\n",
       "        <td style=\"padding-left: 1em; padding-right: 1em; text-align: center; vertical-align: top\">0.230769231</td>\n",
       "        <td style=\"padding-left: 1em; padding-right: 1em; text-align: center; vertical-align: top\">r3</td>\n",
       "        <td style=\"padding-left: 1em; padding-right: 1em; text-align: center; vertical-align: top\">r1</td>\n",
       "        <td style=\"padding-left: 1em; padding-right: 1em; text-align: center; vertical-align: top\">d6</td>\n",
       "        <td style=\"padding-left: 1em; padding-right: 1em; text-align: center; vertical-align: top\">d7</td>\n",
       "    </tr>\n",
       "    <tr>\n",
       "        <td style=\"padding-left: 1em; padding-right: 1em; text-align: center; vertical-align: top\">0.15</td>\n",
       "        <td style=\"padding-left: 1em; padding-right: 1em; text-align: center; vertical-align: top\">r5</td>\n",
       "        <td style=\"padding-left: 1em; padding-right: 1em; text-align: center; vertical-align: top\">r3</td>\n",
       "        <td style=\"padding-left: 1em; padding-right: 1em; text-align: center; vertical-align: top\">d4</td>\n",
       "        <td style=\"padding-left: 1em; padding-right: 1em; text-align: center; vertical-align: top\">d5</td>\n",
       "    </tr>\n",
       "    <tr>\n",
       "        <td style=\"padding-left: 1em; padding-right: 1em; text-align: center; vertical-align: top\">0.5</td>\n",
       "        <td style=\"padding-left: 1em; padding-right: 1em; text-align: center; vertical-align: top\">r4</td>\n",
       "        <td style=\"padding-left: 1em; padding-right: 1em; text-align: center; vertical-align: top\">r4</td>\n",
       "        <td style=\"padding-left: 1em; padding-right: 1em; text-align: center; vertical-align: top\">d4</td>\n",
       "        <td style=\"padding-left: 1em; padding-right: 1em; text-align: center; vertical-align: top\">d5</td>\n",
       "    </tr>\n",
       "    <tr>\n",
       "        <td style=\"padding-left: 1em; padding-right: 1em; text-align: center; vertical-align: top\">1.0</td>\n",
       "        <td style=\"padding-left: 1em; padding-right: 1em; text-align: center; vertical-align: top\">r3</td>\n",
       "        <td style=\"padding-left: 1em; padding-right: 1em; text-align: center; vertical-align: top\">r3</td>\n",
       "        <td style=\"padding-left: 1em; padding-right: 1em; text-align: center; vertical-align: top\">d5</td>\n",
       "        <td style=\"padding-left: 1em; padding-right: 1em; text-align: center; vertical-align: top\">d6</td>\n",
       "    </tr>\n",
       "    <tr>\n",
       "        <td style=\"padding-left: 1em; padding-right: 1em; text-align: center; vertical-align: top\">0.583333333</td>\n",
       "        <td style=\"padding-left: 1em; padding-right: 1em; text-align: center; vertical-align: top\">r4</td>\n",
       "        <td style=\"padding-left: 1em; padding-right: 1em; text-align: center; vertical-align: top\">r5</td>\n",
       "        <td style=\"padding-left: 1em; padding-right: 1em; text-align: center; vertical-align: top\">d4</td>\n",
       "        <td style=\"padding-left: 1em; padding-right: 1em; text-align: center; vertical-align: top\">d4</td>\n",
       "    </tr>\n",
       "    <tr>\n",
       "        <td style=\"padding-left: 1em; padding-right: 1em; text-align: center; vertical-align: top\">0.258064516</td>\n",
       "        <td style=\"padding-left: 1em; padding-right: 1em; text-align: center; vertical-align: top\">r4</td>\n",
       "        <td style=\"padding-left: 1em; padding-right: 1em; text-align: center; vertical-align: top\">r3</td>\n",
       "        <td style=\"padding-left: 1em; padding-right: 1em; text-align: center; vertical-align: top\">d4</td>\n",
       "        <td style=\"padding-left: 1em; padding-right: 1em; text-align: center; vertical-align: top\">d5</td>\n",
       "    </tr>\n",
       "    <tr>\n",
       "        <td style=\"padding-left: 1em; padding-right: 1em; text-align: center; vertical-align: top\">0.727272727</td>\n",
       "        <td style=\"padding-left: 1em; padding-right: 1em; text-align: center; vertical-align: top\">r3</td>\n",
       "        <td style=\"padding-left: 1em; padding-right: 1em; text-align: center; vertical-align: top\">r3</td>\n",
       "        <td style=\"padding-left: 1em; padding-right: 1em; text-align: center; vertical-align: top\">d4</td>\n",
       "        <td style=\"padding-left: 1em; padding-right: 1em; text-align: center; vertical-align: top\">d5</td>\n",
       "    </tr>\n",
       "    <tr>\n",
       "        <td style=\"padding-left: 1em; padding-right: 1em; text-align: center; vertical-align: top\">1.0</td>\n",
       "        <td style=\"padding-left: 1em; padding-right: 1em; text-align: center; vertical-align: top\">r2</td>\n",
       "        <td style=\"padding-left: 1em; padding-right: 1em; text-align: center; vertical-align: top\">r4</td>\n",
       "        <td style=\"padding-left: 1em; padding-right: 1em; text-align: center; vertical-align: top\">d5</td>\n",
       "        <td style=\"padding-left: 1em; padding-right: 1em; text-align: center; vertical-align: top\">d6</td>\n",
       "    </tr>\n",
       "    <tr>\n",
       "        <td style=\"padding-left: 1em; padding-right: 1em; text-align: center; vertical-align: top\">0.103030303</td>\n",
       "        <td style=\"padding-left: 1em; padding-right: 1em; text-align: center; vertical-align: top\">r3</td>\n",
       "        <td style=\"padding-left: 1em; padding-right: 1em; text-align: center; vertical-align: top\">r5</td>\n",
       "        <td style=\"padding-left: 1em; padding-right: 1em; text-align: center; vertical-align: top\">d4</td>\n",
       "        <td style=\"padding-left: 1em; padding-right: 1em; text-align: center; vertical-align: top\">d5</td>\n",
       "    </tr>\n",
       "</table>\n",
       "[30466 rows x 20 columns]<br/>Note: Only the head of the SFrame is printed.<br/>You can use print_rows(num_rows=m, num_columns=n) to print more rows and columns.\n",
       "</div>"
      ],
      "text/plain": [
       "Columns:\n",
       "\tqid\tstr\n",
       "\tuid\tstr\n",
       "\tlabel\tstr\n",
       "\tzj_answers\tfloat\n",
       "\tzj_tuisong\tfloat\n",
       "\tzj_q_label_answers\tfloat\n",
       "\tzj_q_label_tuisong\tfloat\n",
       "\thuidalv\tfloat\n",
       "\tlabel_huidalv\tfloat\n",
       "\thuidabi\tfloat\n",
       "\thuidalvbi\tfloat\n",
       "\tq_label\tstr\n",
       "\tzj_label\tstr\n",
       "\tq_hot\tstr\n",
       "\tq_sp\tfloat\n",
       "\tsp_rate\tfloat\n",
       "\tqz_word_ratio\tstr\n",
       "\tqz_char_ratio\tstr\n",
       "\tqz_word_dist\tstr\n",
       "\tqz_char_dist\tstr\n",
       "\n",
       "Rows: 30466\n",
       "\n",
       "Data:\n",
       "+-------------------------------+-------------------------------+-------+\n",
       "|              qid              |              uid              | label |\n",
       "+-------------------------------+-------------------------------+-------+\n",
       "| c4ea7890323733160a8ac10572... | 9fd62346098d0dc38db95835c8... |       |\n",
       "| 2230fb779978bdd67efc36dde3... | 9be98a49dc3fec089a6ba1b2d1... |       |\n",
       "| 25d769e0ee4a62e21950f36dc1... | aead7ff49df1672d8a856aff3e... |       |\n",
       "| 63f76d1bd32598f9cae613b079... | c35e3dfad8652aab7d13dd2182... |       |\n",
       "| afe3cb02f2d41f2d6bd2a7fced... | b9270484db950810dac40a2804... |       |\n",
       "| cd652f5a79d9e7a988b34d776a... | 869bc1678a1aaa3308ef6f037b... |       |\n",
       "| eab868cc0a6f346039abe08b44... | 707ebfbd1175964805bc265ba1... |       |\n",
       "| 12ce043b88b0a0de4f2b89812c... | 70c0135fc59ef2349af9697774... |       |\n",
       "| b018c1fe7f4ae86842adb88166... | 926b71f1431de9e1362869ebb5... |       |\n",
       "| fca24c20b595458ab3d6a1672b... | 9dd6e6f3103c75368357fd099f... |       |\n",
       "+-------------------------------+-------------------------------+-------+\n",
       "+-------------+-------------+--------------------+--------------------+\n",
       "|  zj_answers |  zj_tuisong | zj_q_label_answers | zj_q_label_tuisong |\n",
       "+-------------+-------------+--------------------+--------------------+\n",
       "| 0.022222222 | 0.245454545 |    0.022222222     |    0.236363636     |\n",
       "| 0.111111111 | 0.227272727 |    0.111111111     |    0.209090909     |\n",
       "| 0.055555556 | 0.418181818 |    0.055555556     |    0.418181818     |\n",
       "|     0.0     | 0.009090909 |        0.0         |        0.0         |\n",
       "|     0.0     | 0.090909091 |        0.0         |    0.090909091     |\n",
       "|     0.0     | 0.027272727 |        0.0         |    0.027272727     |\n",
       "|     0.0     | 0.081818182 |        0.0         |    0.081818182     |\n",
       "|     0.0     |     0.1     |        0.0         |        0.1         |\n",
       "|     0.0     | 0.063636364 |        0.0         |    0.063636364     |\n",
       "|     0.0     | 0.018181818 |        0.0         |    0.018181818     |\n",
       "+-------------+-------------+--------------------+--------------------+\n",
       "+-------------+---------------+---------+-----------+---------+-------------+\n",
       "|   huidalv   | label_huidalv | huidabi | huidalvbi | q_label |   zj_label  |\n",
       "+-------------+---------------+---------+-----------+---------+-------------+\n",
       "| 0.074074074 |  0.076923077  |   1.0   |  1.038461 |   ql8   |      0      |\n",
       "|     0.4     |  0.434782609  |   1.0   |  1.086956 |   ql0   | 27/72/29/30 |\n",
       "| 0.108695652 |  0.108695652  |   1.0   |    1.0    |   ql8   |     0/1     |\n",
       "|     0.0     |      0.0      |   0.0   |    0.0    |   ql6   |      23     |\n",
       "|     0.0     |      0.0      |   0.0   |    0.0    |   ql6   | 38/42/69/43 |\n",
       "|     0.0     |      0.0      |   0.0   |    0.0    |   ql15  |    21/80    |\n",
       "|     0.0     |      0.0      |   0.0   |    0.0    |   ql3   |   18/19/20  |\n",
       "|     0.0     |      0.0      |   0.0   |    0.0    |   ql3   |   18/19/20  |\n",
       "|     0.0     |      0.0      |   0.0   |    0.0    |   ql4   |      75     |\n",
       "|     0.0     |      0.0      |   0.0   |    0.0    |   ql12  |    33/89    |\n",
       "+-------------+---------------+---------+-----------+---------+-------------+\n",
       "+-------+-------+-------------+---------------+---------------+--------------+\n",
       "| q_hot |  q_sp |   sp_rate   | qz_word_ratio | qz_char_ratio | qz_word_dist |\n",
       "+-------+-------+-------------+---------------+---------------+--------------+\n",
       "|  hot1 |  0.1  | 0.393700787 |       r4      |       r3      |      d4      |\n",
       "|  hot4 | 0.006 | 0.230769231 |       r3      |       r1      |      d6      |\n",
       "|  hot1 | 0.108 |     0.15    |       r5      |       r3      |      d4      |\n",
       "|  hot3 | 0.034 |     0.5     |       r4      |       r4      |      d4      |\n",
       "|  hot5 | 0.002 |     1.0     |       r3      |       r3      |      d5      |\n",
       "|  hot4 | 0.014 | 0.583333333 |       r4      |       r5      |      d4      |\n",
       "|  hot3 | 0.016 | 0.258064516 |       r4      |       r3      |      d4      |\n",
       "|  hot3 | 0.032 | 0.727272727 |       r3      |       r3      |      d4      |\n",
       "|  hot5 | 0.002 |     1.0     |       r2      |       r4      |      d5      |\n",
       "|  hot1 | 0.136 | 0.103030303 |       r3      |       r5      |      d4      |\n",
       "+-------+-------+-------------+---------------+---------------+--------------+\n",
       "+--------------+\n",
       "| qz_char_dist |\n",
       "+--------------+\n",
       "|      d6      |\n",
       "|      d7      |\n",
       "|      d5      |\n",
       "|      d5      |\n",
       "|      d6      |\n",
       "|      d4      |\n",
       "|      d5      |\n",
       "|      d5      |\n",
       "|      d6      |\n",
       "|      d5      |\n",
       "+--------------+\n",
       "[30466 rows x 20 columns]\n",
       "Note: Only the head of the SFrame is printed.\n",
       "You can use print_rows(num_rows=m, num_columns=n) to print more rows and columns."
      ]
     },
     "execution_count": 7,
     "metadata": {},
     "output_type": "execute_result"
    }
   ],
   "source": [
    "validate_all"
   ]
  },
  {
   "cell_type": "code",
   "execution_count": 8,
   "metadata": {
    "collapsed": false
   },
   "outputs": [
    {
     "data": {
      "text/html": [
       "<pre>Finished parsing file H:\\天池\\2016Byte Cup国际机器学习竞赛\\bytecup_s2\\ensemble\\test_1115_for_predict.csv</pre>"
      ],
      "text/plain": [
       "Finished parsing file H:\\天池\\2016Byte Cup国际机器学习竞赛\\bytecup_s2\\ensemble\\test_1115_for_predict.csv"
      ]
     },
     "metadata": {},
     "output_type": "display_data"
    },
    {
     "data": {
      "text/html": [
       "<pre>Parsing completed. Parsed 100 lines in 0.08456 secs.</pre>"
      ],
      "text/plain": [
       "Parsing completed. Parsed 100 lines in 0.08456 secs."
      ]
     },
     "metadata": {},
     "output_type": "display_data"
    },
    {
     "name": "stdout",
     "output_type": "stream",
     "text": [
      "------------------------------------------------------\n",
      "Inferred types from first 100 line(s) of file as \n",
      "column_type_hints=[str,str,str,float,float,float,float,float,float,float,float,str,str,float,float]\n",
      "If parsing fails due to incorrect types, you can correct\n",
      "the inferred type list above and pass it to read_csv in\n",
      "the column_type_hints argument\n",
      "------------------------------------------------------\n"
     ]
    },
    {
     "data": {
      "text/html": [
       "<pre>Finished parsing file H:\\天池\\2016Byte Cup国际机器学习竞赛\\bytecup_s2\\ensemble\\test_1115_for_predict.csv</pre>"
      ],
      "text/plain": [
       "Finished parsing file H:\\天池\\2016Byte Cup国际机器学习竞赛\\bytecup_s2\\ensemble\\test_1115_for_predict.csv"
      ]
     },
     "metadata": {},
     "output_type": "display_data"
    },
    {
     "data": {
      "text/html": [
       "<pre>Parsing completed. Parsed 30167 lines in 0.080558 secs.</pre>"
      ],
      "text/plain": [
       "Parsing completed. Parsed 30167 lines in 0.080558 secs."
      ]
     },
     "metadata": {},
     "output_type": "display_data"
    }
   ],
   "source": [
    "test_all=gl.SFrame.read_csv(\"test_1115_for_predict.csv\")"
   ]
  },
  {
   "cell_type": "code",
   "execution_count": 9,
   "metadata": {
    "collapsed": true
   },
   "outputs": [],
   "source": [
    "test_all['huidalv_cost']=test_all.apply(lambda x: x['huidalv']/1.2 if x['huidalv']>0.45 and x['zj_answers']*90<5 else x['huidalv'] )\n",
    "test_all['label_huidalv_cost']=test_all.apply(lambda x: x['label_huidalv']/1.2 if x['label_huidalv']>0.45\n",
    "                                                      and x['zj_q_label_answers']*90<5 \n",
    "                                                      else x['label_huidalv'] )"
   ]
  },
  {
   "cell_type": "code",
   "execution_count": 10,
   "metadata": {
    "collapsed": false
   },
   "outputs": [],
   "source": [
    "user_data =train_all[['uid','huidalv_cost']] "
   ]
  },
  {
   "cell_type": "code",
   "execution_count": 11,
   "metadata": {
    "collapsed": false
   },
   "outputs": [],
   "source": [
    "item_data=train_all[['qid','q_label','q_sp']] "
   ]
  },
  {
   "cell_type": "code",
   "execution_count": 24,
   "metadata": {
    "collapsed": false
   },
   "outputs": [],
   "source": [
    "train_gl=train_all[['uid','qid','label','label_huidalv_cost']]\n",
    "validate_gl=validate_all[['uid','qid','label_huidalv_cost']]\n",
    "test_gl=test_all[['uid','qid','label_huidalv_cost']]"
   ]
  },
  {
   "cell_type": "code",
   "execution_count": 22,
   "metadata": {
    "collapsed": false,
    "scrolled": true
   },
   "outputs": [
    {
     "data": {
      "text/html": [
       "<pre>Recsys training: model = item_similarity</pre>"
      ],
      "text/plain": [
       "Recsys training: model = item_similarity"
      ]
     },
     "metadata": {},
     "output_type": "display_data"
    },
    {
     "data": {
      "text/html": [
       "<pre>Warning: Ignoring columns label_huidalv_cost;</pre>"
      ],
      "text/plain": [
       "Warning: Ignoring columns label_huidalv_cost;"
      ]
     },
     "metadata": {},
     "output_type": "display_data"
    },
    {
     "data": {
      "text/html": [
       "<pre>    To use these columns in scoring predictions, use a model that allows the use of additional features.</pre>"
      ],
      "text/plain": [
       "    To use these columns in scoring predictions, use a model that allows the use of additional features."
      ]
     },
     "metadata": {},
     "output_type": "display_data"
    },
    {
     "data": {
      "text/html": [
       "<pre>Preparing data set.</pre>"
      ],
      "text/plain": [
       "Preparing data set."
      ]
     },
     "metadata": {},
     "output_type": "display_data"
    },
    {
     "data": {
      "text/html": [
       "<pre>    Data has 278376 observations with 27127 users and 7708 items.</pre>"
      ],
      "text/plain": [
       "    Data has 278376 observations with 27127 users and 7708 items."
      ]
     },
     "metadata": {},
     "output_type": "display_data"
    },
    {
     "data": {
      "text/html": [
       "<pre>    Data prepared in: 0.576409s</pre>"
      ],
      "text/plain": [
       "    Data prepared in: 0.576409s"
      ]
     },
     "metadata": {},
     "output_type": "display_data"
    },
    {
     "data": {
      "text/html": [
       "<pre>Training model from provided data.</pre>"
      ],
      "text/plain": [
       "Training model from provided data."
      ]
     },
     "metadata": {},
     "output_type": "display_data"
    },
    {
     "data": {
      "text/html": [
       "<pre>Gathering per-item and per-user statistics.</pre>"
      ],
      "text/plain": [
       "Gathering per-item and per-user statistics."
      ]
     },
     "metadata": {},
     "output_type": "display_data"
    },
    {
     "data": {
      "text/html": [
       "<pre>+--------------------------------+------------+</pre>"
      ],
      "text/plain": [
       "+--------------------------------+------------+"
      ]
     },
     "metadata": {},
     "output_type": "display_data"
    },
    {
     "data": {
      "text/html": [
       "<pre>| Elapsed Time (Item Statistics) | % Complete |</pre>"
      ],
      "text/plain": [
       "| Elapsed Time (Item Statistics) | % Complete |"
      ]
     },
     "metadata": {},
     "output_type": "display_data"
    },
    {
     "data": {
      "text/html": [
       "<pre>+--------------------------------+------------+</pre>"
      ],
      "text/plain": [
       "+--------------------------------+------------+"
      ]
     },
     "metadata": {},
     "output_type": "display_data"
    },
    {
     "data": {
      "text/html": [
       "<pre>| 1.501ms                        | 33         |</pre>"
      ],
      "text/plain": [
       "| 1.501ms                        | 33         |"
      ]
     },
     "metadata": {},
     "output_type": "display_data"
    },
    {
     "data": {
      "text/html": [
       "<pre>| 4.503ms                        | 100        |</pre>"
      ],
      "text/plain": [
       "| 4.503ms                        | 100        |"
      ]
     },
     "metadata": {},
     "output_type": "display_data"
    },
    {
     "data": {
      "text/html": [
       "<pre>+--------------------------------+------------+</pre>"
      ],
      "text/plain": [
       "+--------------------------------+------------+"
      ]
     },
     "metadata": {},
     "output_type": "display_data"
    },
    {
     "data": {
      "text/html": [
       "<pre>Setting up lookup tables.</pre>"
      ],
      "text/plain": [
       "Setting up lookup tables."
      ]
     },
     "metadata": {},
     "output_type": "display_data"
    },
    {
     "data": {
      "text/html": [
       "<pre>Processing data in one pass using dense lookup tables.</pre>"
      ],
      "text/plain": [
       "Processing data in one pass using dense lookup tables."
      ]
     },
     "metadata": {},
     "output_type": "display_data"
    },
    {
     "data": {
      "text/html": [
       "<pre>+-------------------------------------+------------------+-----------------+</pre>"
      ],
      "text/plain": [
       "+-------------------------------------+------------------+-----------------+"
      ]
     },
     "metadata": {},
     "output_type": "display_data"
    },
    {
     "data": {
      "text/html": [
       "<pre>| Elapsed Time (Constructing Lookups) | Total % Complete | Items Processed |</pre>"
      ],
      "text/plain": [
       "| Elapsed Time (Constructing Lookups) | Total % Complete | Items Processed |"
      ]
     },
     "metadata": {},
     "output_type": "display_data"
    },
    {
     "data": {
      "text/html": [
       "<pre>+-------------------------------------+------------------+-----------------+</pre>"
      ],
      "text/plain": [
       "+-------------------------------------+------------------+-----------------+"
      ]
     },
     "metadata": {},
     "output_type": "display_data"
    },
    {
     "data": {
      "text/html": [
       "<pre>| 150.607ms                           | 0                | 4               |</pre>"
      ],
      "text/plain": [
       "| 150.607ms                           | 0                | 4               |"
      ]
     },
     "metadata": {},
     "output_type": "display_data"
    },
    {
     "data": {
      "text/html": [
       "<pre>| 705.001ms                           | 100              | 7708            |</pre>"
      ],
      "text/plain": [
       "| 705.001ms                           | 100              | 7708            |"
      ]
     },
     "metadata": {},
     "output_type": "display_data"
    },
    {
     "data": {
      "text/html": [
       "<pre>+-------------------------------------+------------------+-----------------+</pre>"
      ],
      "text/plain": [
       "+-------------------------------------+------------------+-----------------+"
      ]
     },
     "metadata": {},
     "output_type": "display_data"
    },
    {
     "data": {
      "text/html": [
       "<pre>Finalizing lookup tables.</pre>"
      ],
      "text/plain": [
       "Finalizing lookup tables."
      ]
     },
     "metadata": {},
     "output_type": "display_data"
    },
    {
     "data": {
      "text/html": [
       "<pre>Generating candidate set for working with new users.</pre>"
      ],
      "text/plain": [
       "Generating candidate set for working with new users."
      ]
     },
     "metadata": {},
     "output_type": "display_data"
    },
    {
     "data": {
      "text/html": [
       "<pre>Finished training in 0.754537s</pre>"
      ],
      "text/plain": [
       "Finished training in 0.754537s"
      ]
     },
     "metadata": {},
     "output_type": "display_data"
    }
   ],
   "source": [
    "m=gl.item_similarity_recommender.create(train_gl,user_id='uid',item_id='qid',\n",
    "                                        user_data=user_data,item_data=item_data,\n",
    "                                        target='label',similarity_type='pearson',\n",
    "                                        threshold=0.0001, only_top_k=128)\n",
    "\n",
    "m.save('item_similarity_recommender.model')"
   ]
  },
  {
   "cell_type": "code",
   "execution_count": 23,
   "metadata": {
    "collapsed": false
   },
   "outputs": [
    {
     "data": {
      "text/plain": [
       "Class                            : ItemSimilarityRecommender\n",
       "\n",
       "Schema\n",
       "------\n",
       "User ID                          : uid\n",
       "Item ID                          : qid\n",
       "Target                           : label\n",
       "Additional observation features  : 0\n",
       "User side features               : ['uid', 'huidalv_cost']\n",
       "Item side features               : ['qid', 'q_label', 'q_sp']\n",
       "\n",
       "Statistics\n",
       "----------\n",
       "Number of observations           : 278376\n",
       "Number of users                  : 27127\n",
       "Number of items                  : 7708\n",
       "\n",
       "Training summary\n",
       "----------------\n",
       "Training time                    : 0.7545\n",
       "\n",
       "Model Parameters\n",
       "----------------\n",
       "Model class                      : ItemSimilarityRecommender\n",
       "threshold                        : 0.0001\n",
       "similarity_type                  : pearson\n",
       "training_method                  : auto\n",
       "\n",
       "Other Settings\n",
       "--------------\n",
       "degree_approximation_threshold   : 4096\n",
       "sparse_density_estimation_sample_size : 4096\n",
       "max_data_passes                  : 4096\n",
       "target_memory_usage              : 8589934592\n",
       "seed_item_set_size               : 50\n",
       "nearest_neighbors_interaction_proportion_threshold : 0.05\n",
       "max_item_neighborhood_size       : 128"
      ]
     },
     "execution_count": 23,
     "metadata": {},
     "output_type": "execute_result"
    }
   ],
   "source": [
    "m"
   ]
  },
  {
   "cell_type": "code",
   "execution_count": 17,
   "metadata": {
    "collapsed": false
   },
   "outputs": [],
   "source": [
    "validate_user_data =validate_all[['uid','huidalv_cost']] \n",
    "validate_item_data =validate_all[['qid','q_label','q_sp']] "
   ]
  },
  {
   "cell_type": "code",
   "execution_count": 18,
   "metadata": {
    "collapsed": true
   },
   "outputs": [],
   "source": [
    "test_user_data =test_all[['uid','huidalv_cost']] \n",
    "test_item_data =test_all[['qid','q_label','q_sp']] "
   ]
  },
  {
   "cell_type": "code",
   "execution_count": 19,
   "metadata": {
    "collapsed": true
   },
   "outputs": [],
   "source": [
    "test_recs = m.predict(test_gl,new_user_data=test_user_data,new_item_data=test_item_data)"
   ]
  },
  {
   "cell_type": "code",
   "execution_count": 20,
   "metadata": {
    "collapsed": false
   },
   "outputs": [],
   "source": [
    "recs = m.predict(validate_gl,new_user_data=validate_user_data,new_item_data=validate_item_data)"
   ]
  },
  {
   "cell_type": "code",
   "execution_count": 21,
   "metadata": {
    "collapsed": false
   },
   "outputs": [
    {
     "data": {
      "text/plain": [
       "dtype: float\n",
       "Rows: 30466\n",
       "[0.004306632059591788, 0.018458645343780517, 0.00214408202604814, 0.0, 0.0, 0.0, 0.0, 0.0, 0.0, 0.0, 0.0, 0.0, 0.0, 0.061847486279227516, 0.0, 0.0, 0.06176656263845938, 0.03424419186733387, 0.0, 0.0, 0.0, 0.0, 0.0, 0.0, 0.0, 0.012800294619340163, 0.014577245937203461, 0.0, 0.0, 0.0, 0.0, 0.0275006373723348, 0.04967655800282955, 0.0, 0.0, 0.019230769230769232, 0.012123758792877198, 0.0, 0.0, 0.0031055893216814312, 0.0025510191917419434, 0.0, 0.0, 0.0, 0.0, 0.0, 0.0, 0.0, 0.0, 0.0, 0.0, 0.0, 0.02857142686843872, 0.0, 0.0, 0.0, 0.0, 0.0, 0.03071364164352417, 0.0, 0.0037878801425298056, 0.0078125, 0.0, 0.0, 0.0, 0.042711232837877776, 0.1025643317322982, 0.0, 0.0051082253456115724, 0.0, 0.0, 0.0, 0.0, 0.0, 0.0, 0.0, 0.012717510672176585, 0.007762763987887989, 0.0, 0.021155213868176495, 0.03416743874549866, 0.0, 0.009808470164575884, 0.0, 0.0, 0.0, 0.0, 0.0, 0.0, 0.0, 0.022819409499297272, 0.0, 0.0, 0.0, 0.015503559793744768, 0.0, 0.0, 0.0, 0.006818183830806187, 0.0, ... ]"
      ]
     },
     "execution_count": 21,
     "metadata": {},
     "output_type": "execute_result"
    }
   ],
   "source": [
    "recs"
   ]
  },
  {
   "cell_type": "code",
   "execution_count": 29,
   "metadata": {
    "collapsed": false
   },
   "outputs": [
    {
     "data": {
      "text/html": [
       "<div style=\"max-height:1000px;max-width:1500px;overflow:auto;\"><table frame=\"box\" rules=\"cols\">\n",
       "    <tr>\n",
       "        <th style=\"padding-left: 1em; padding-right: 1em; text-align: center\">uid</th>\n",
       "        <th style=\"padding-left: 1em; padding-right: 1em; text-align: center\">qid</th>\n",
       "        <th style=\"padding-left: 1em; padding-right: 1em; text-align: center\">label_huidalv</th>\n",
       "        <th style=\"padding-left: 1em; padding-right: 1em; text-align: center\">label</th>\n",
       "    </tr>\n",
       "    <tr>\n",
       "        <td style=\"padding-left: 1em; padding-right: 1em; text-align: center; vertical-align: top\">9fd62346098d0dc38db95835c<br>85cfad8 ...</td>\n",
       "        <td style=\"padding-left: 1em; padding-right: 1em; text-align: center; vertical-align: top\">c4ea7890323733160a8ac1057<br>2a7e82b ...</td>\n",
       "        <td style=\"padding-left: 1em; padding-right: 1em; text-align: center; vertical-align: top\">0.076923077</td>\n",
       "        <td style=\"padding-left: 1em; padding-right: 1em; text-align: center; vertical-align: top\">0.439859619396</td>\n",
       "    </tr>\n",
       "    <tr>\n",
       "        <td style=\"padding-left: 1em; padding-right: 1em; text-align: center; vertical-align: top\">9be98a49dc3fec089a6ba1b2d<br>16527f2 ...</td>\n",
       "        <td style=\"padding-left: 1em; padding-right: 1em; text-align: center; vertical-align: top\">2230fb779978bdd67efc36dde<br>378db95 ...</td>\n",
       "        <td style=\"padding-left: 1em; padding-right: 1em; text-align: center; vertical-align: top\">0.434782609</td>\n",
       "        <td style=\"padding-left: 1em; padding-right: 1em; text-align: center; vertical-align: top\">0.472358059767</td>\n",
       "    </tr>\n",
       "    <tr>\n",
       "        <td style=\"padding-left: 1em; padding-right: 1em; text-align: center; vertical-align: top\">aead7ff49df1672d8a856aff3<br>e516326 ...</td>\n",
       "        <td style=\"padding-left: 1em; padding-right: 1em; text-align: center; vertical-align: top\">25d769e0ee4a62e21950f36dc<br>1bedf6f ...</td>\n",
       "        <td style=\"padding-left: 1em; padding-right: 1em; text-align: center; vertical-align: top\">0.108695652</td>\n",
       "        <td style=\"padding-left: 1em; padding-right: 1em; text-align: center; vertical-align: top\">0.431086444496</td>\n",
       "    </tr>\n",
       "    <tr>\n",
       "        <td style=\"padding-left: 1em; padding-right: 1em; text-align: center; vertical-align: top\">c35e3dfad8652aab7d13dd218<br>26566ae ...</td>\n",
       "        <td style=\"padding-left: 1em; padding-right: 1em; text-align: center; vertical-align: top\">63f76d1bd32598f9cae613b07<br>9a10d71 ...</td>\n",
       "        <td style=\"padding-left: 1em; padding-right: 1em; text-align: center; vertical-align: top\">0.0</td>\n",
       "        <td style=\"padding-left: 1em; padding-right: 1em; text-align: center; vertical-align: top\">0.395017476814</td>\n",
       "    </tr>\n",
       "    <tr>\n",
       "        <td style=\"padding-left: 1em; padding-right: 1em; text-align: center; vertical-align: top\">b9270484db950810dac40a280<br>42872e5 ...</td>\n",
       "        <td style=\"padding-left: 1em; padding-right: 1em; text-align: center; vertical-align: top\">afe3cb02f2d41f2d6bd2a7fce<br>d09a6d5 ...</td>\n",
       "        <td style=\"padding-left: 1em; padding-right: 1em; text-align: center; vertical-align: top\">0.0</td>\n",
       "        <td style=\"padding-left: 1em; padding-right: 1em; text-align: center; vertical-align: top\">0.395748603828</td>\n",
       "    </tr>\n",
       "    <tr>\n",
       "        <td style=\"padding-left: 1em; padding-right: 1em; text-align: center; vertical-align: top\">869bc1678a1aaa3308ef6f037<br>bddcc95 ...</td>\n",
       "        <td style=\"padding-left: 1em; padding-right: 1em; text-align: center; vertical-align: top\">cd652f5a79d9e7a988b34d776<br>a5e1f5c ...</td>\n",
       "        <td style=\"padding-left: 1em; padding-right: 1em; text-align: center; vertical-align: top\">0.0</td>\n",
       "        <td style=\"padding-left: 1em; padding-right: 1em; text-align: center; vertical-align: top\">0.385675018576</td>\n",
       "    </tr>\n",
       "    <tr>\n",
       "        <td style=\"padding-left: 1em; padding-right: 1em; text-align: center; vertical-align: top\">707ebfbd1175964805bc265ba<br>1fb8a11 ...</td>\n",
       "        <td style=\"padding-left: 1em; padding-right: 1em; text-align: center; vertical-align: top\">eab868cc0a6f346039abe08b4<br>479c669 ...</td>\n",
       "        <td style=\"padding-left: 1em; padding-right: 1em; text-align: center; vertical-align: top\">0.0</td>\n",
       "        <td style=\"padding-left: 1em; padding-right: 1em; text-align: center; vertical-align: top\">0.412384385561</td>\n",
       "    </tr>\n",
       "    <tr>\n",
       "        <td style=\"padding-left: 1em; padding-right: 1em; text-align: center; vertical-align: top\">70c0135fc59ef2349af969777<br>49cb33c ...</td>\n",
       "        <td style=\"padding-left: 1em; padding-right: 1em; text-align: center; vertical-align: top\">12ce043b88b0a0de4f2b89812<br>ce640ce ...</td>\n",
       "        <td style=\"padding-left: 1em; padding-right: 1em; text-align: center; vertical-align: top\">0.0</td>\n",
       "        <td style=\"padding-left: 1em; padding-right: 1em; text-align: center; vertical-align: top\">0.432919056134</td>\n",
       "    </tr>\n",
       "    <tr>\n",
       "        <td style=\"padding-left: 1em; padding-right: 1em; text-align: center; vertical-align: top\">926b71f1431de9e1362869ebb<br>5536cc4 ...</td>\n",
       "        <td style=\"padding-left: 1em; padding-right: 1em; text-align: center; vertical-align: top\">b018c1fe7f4ae86842adb8816<br>637f8a9 ...</td>\n",
       "        <td style=\"padding-left: 1em; padding-right: 1em; text-align: center; vertical-align: top\">0.0</td>\n",
       "        <td style=\"padding-left: 1em; padding-right: 1em; text-align: center; vertical-align: top\">0.435575812009</td>\n",
       "    </tr>\n",
       "    <tr>\n",
       "        <td style=\"padding-left: 1em; padding-right: 1em; text-align: center; vertical-align: top\">9dd6e6f3103c75368357fd099<br>f3cb425 ...</td>\n",
       "        <td style=\"padding-left: 1em; padding-right: 1em; text-align: center; vertical-align: top\">fca24c20b595458ab3d6a1672<br>b1fd6d0 ...</td>\n",
       "        <td style=\"padding-left: 1em; padding-right: 1em; text-align: center; vertical-align: top\">0.0</td>\n",
       "        <td style=\"padding-left: 1em; padding-right: 1em; text-align: center; vertical-align: top\">0.378591175294</td>\n",
       "    </tr>\n",
       "</table>\n",
       "[30466 rows x 4 columns]<br/>Note: Only the head of the SFrame is printed.<br/>You can use print_rows(num_rows=m, num_columns=n) to print more rows and columns.\n",
       "</div>"
      ],
      "text/plain": [
       "Columns:\n",
       "\tuid\tstr\n",
       "\tqid\tstr\n",
       "\tlabel_huidalv\tfloat\n",
       "\tlabel\tfloat\n",
       "\n",
       "Rows: 30466\n",
       "\n",
       "Data:\n",
       "+-------------------------------+-------------------------------+---------------+\n",
       "|              uid              |              qid              | label_huidalv |\n",
       "+-------------------------------+-------------------------------+---------------+\n",
       "| 9fd62346098d0dc38db95835c8... | c4ea7890323733160a8ac10572... |  0.076923077  |\n",
       "| 9be98a49dc3fec089a6ba1b2d1... | 2230fb779978bdd67efc36dde3... |  0.434782609  |\n",
       "| aead7ff49df1672d8a856aff3e... | 25d769e0ee4a62e21950f36dc1... |  0.108695652  |\n",
       "| c35e3dfad8652aab7d13dd2182... | 63f76d1bd32598f9cae613b079... |      0.0      |\n",
       "| b9270484db950810dac40a2804... | afe3cb02f2d41f2d6bd2a7fced... |      0.0      |\n",
       "| 869bc1678a1aaa3308ef6f037b... | cd652f5a79d9e7a988b34d776a... |      0.0      |\n",
       "| 707ebfbd1175964805bc265ba1... | eab868cc0a6f346039abe08b44... |      0.0      |\n",
       "| 70c0135fc59ef2349af9697774... | 12ce043b88b0a0de4f2b89812c... |      0.0      |\n",
       "| 926b71f1431de9e1362869ebb5... | b018c1fe7f4ae86842adb88166... |      0.0      |\n",
       "| 9dd6e6f3103c75368357fd099f... | fca24c20b595458ab3d6a1672b... |      0.0      |\n",
       "+-------------------------------+-------------------------------+---------------+\n",
       "+----------------+\n",
       "|     label      |\n",
       "+----------------+\n",
       "| 0.439859619396 |\n",
       "| 0.472358059767 |\n",
       "| 0.431086444496 |\n",
       "| 0.395017476814 |\n",
       "| 0.395748603828 |\n",
       "| 0.385675018576 |\n",
       "| 0.412384385561 |\n",
       "| 0.432919056134 |\n",
       "| 0.435575812009 |\n",
       "| 0.378591175294 |\n",
       "+----------------+\n",
       "[30466 rows x 4 columns]\n",
       "Note: Only the head of the SFrame is printed.\n",
       "You can use print_rows(num_rows=m, num_columns=n) to print more rows and columns."
      ]
     },
     "execution_count": 29,
     "metadata": {},
     "output_type": "execute_result"
    }
   ],
   "source": [
    "validate_gl.add_column(recs,name='label')"
   ]
  },
  {
   "cell_type": "code",
   "execution_count": 15,
   "metadata": {
    "collapsed": false
   },
   "outputs": [
    {
     "data": {
      "text/html": [
       "<div style=\"max-height:1000px;max-width:1500px;overflow:auto;\"><table frame=\"box\" rules=\"cols\">\n",
       "    <tr>\n",
       "        <th style=\"padding-left: 1em; padding-right: 1em; text-align: center\">uid</th>\n",
       "        <th style=\"padding-left: 1em; padding-right: 1em; text-align: center\">qid</th>\n",
       "        <th style=\"padding-left: 1em; padding-right: 1em; text-align: center\">label_huidalv</th>\n",
       "        <th style=\"padding-left: 1em; padding-right: 1em; text-align: center\">label</th>\n",
       "    </tr>\n",
       "    <tr>\n",
       "        <td style=\"padding-left: 1em; padding-right: 1em; text-align: center; vertical-align: top\">c8dae6a8d94b0c60267c3baf2<br>4bb471f ...</td>\n",
       "        <td style=\"padding-left: 1em; padding-right: 1em; text-align: center; vertical-align: top\">3d31e9a8328518f98d00beabf<br>d7ce337 ...</td>\n",
       "        <td style=\"padding-left: 1em; padding-right: 1em; text-align: center; vertical-align: top\">0.0</td>\n",
       "        <td style=\"padding-left: 1em; padding-right: 1em; text-align: center; vertical-align: top\">0.376511819869</td>\n",
       "    </tr>\n",
       "    <tr>\n",
       "        <td style=\"padding-left: 1em; padding-right: 1em; text-align: center; vertical-align: top\">b6b3a645fdd05d80afb55cb98<br>73ce571 ...</td>\n",
       "        <td style=\"padding-left: 1em; padding-right: 1em; text-align: center; vertical-align: top\">58b9aa96712020827834a5357<br>93db3b6 ...</td>\n",
       "        <td style=\"padding-left: 1em; padding-right: 1em; text-align: center; vertical-align: top\">0.115384615</td>\n",
       "        <td style=\"padding-left: 1em; padding-right: 1em; text-align: center; vertical-align: top\">0.444780112478</td>\n",
       "    </tr>\n",
       "    <tr>\n",
       "        <td style=\"padding-left: 1em; padding-right: 1em; text-align: center; vertical-align: top\">b6b3a645fdd05d80afb55cb98<br>73ce571 ...</td>\n",
       "        <td style=\"padding-left: 1em; padding-right: 1em; text-align: center; vertical-align: top\">e3cd5546fa63fe120810c8971<br>ccc532c ...</td>\n",
       "        <td style=\"padding-left: 1em; padding-right: 1em; text-align: center; vertical-align: top\">0.115384615</td>\n",
       "        <td style=\"padding-left: 1em; padding-right: 1em; text-align: center; vertical-align: top\">0.445183753158</td>\n",
       "    </tr>\n",
       "    <tr>\n",
       "        <td style=\"padding-left: 1em; padding-right: 1em; text-align: center; vertical-align: top\">b6b3a645fdd05d80afb55cb98<br>73ce571 ...</td>\n",
       "        <td style=\"padding-left: 1em; padding-right: 1em; text-align: center; vertical-align: top\">e888f91bd5d4710599cf217ee<br>69dbdd6 ...</td>\n",
       "        <td style=\"padding-left: 1em; padding-right: 1em; text-align: center; vertical-align: top\">0.115384615</td>\n",
       "        <td style=\"padding-left: 1em; padding-right: 1em; text-align: center; vertical-align: top\">0.443369990423</td>\n",
       "    </tr>\n",
       "    <tr>\n",
       "        <td style=\"padding-left: 1em; padding-right: 1em; text-align: center; vertical-align: top\">b7175c64a65ff56fdac5ed799<br>db50c31 ...</td>\n",
       "        <td style=\"padding-left: 1em; padding-right: 1em; text-align: center; vertical-align: top\">929e035befdd897e56565aca8<br>3b56e46 ...</td>\n",
       "        <td style=\"padding-left: 1em; padding-right: 1em; text-align: center; vertical-align: top\">0.0</td>\n",
       "        <td style=\"padding-left: 1em; padding-right: 1em; text-align: center; vertical-align: top\">0.428036454185</td>\n",
       "    </tr>\n",
       "    <tr>\n",
       "        <td style=\"padding-left: 1em; padding-right: 1em; text-align: center; vertical-align: top\">9a08d2d18b2ddba7695e69523<br>e03313d ...</td>\n",
       "        <td style=\"padding-left: 1em; padding-right: 1em; text-align: center; vertical-align: top\">624add4fbd780fb9e61cbe509<br>d23b954 ...</td>\n",
       "        <td style=\"padding-left: 1em; padding-right: 1em; text-align: center; vertical-align: top\">0.0</td>\n",
       "        <td style=\"padding-left: 1em; padding-right: 1em; text-align: center; vertical-align: top\">0.39422911926</td>\n",
       "    </tr>\n",
       "    <tr>\n",
       "        <td style=\"padding-left: 1em; padding-right: 1em; text-align: center; vertical-align: top\">9e0ffeca058841af74d477c3f<br>103e40b ...</td>\n",
       "        <td style=\"padding-left: 1em; padding-right: 1em; text-align: center; vertical-align: top\">de8ac0376a95037d42abe5518<br>a089144 ...</td>\n",
       "        <td style=\"padding-left: 1em; padding-right: 1em; text-align: center; vertical-align: top\">0.2</td>\n",
       "        <td style=\"padding-left: 1em; padding-right: 1em; text-align: center; vertical-align: top\">0.426955677883</td>\n",
       "    </tr>\n",
       "    <tr>\n",
       "        <td style=\"padding-left: 1em; padding-right: 1em; text-align: center; vertical-align: top\">9e0ffeca058841af74d477c3f<br>103e40b ...</td>\n",
       "        <td style=\"padding-left: 1em; padding-right: 1em; text-align: center; vertical-align: top\">53cf4803a5628259b6ca756d2<br>8bdd2ff ...</td>\n",
       "        <td style=\"padding-left: 1em; padding-right: 1em; text-align: center; vertical-align: top\">0.2</td>\n",
       "        <td style=\"padding-left: 1em; padding-right: 1em; text-align: center; vertical-align: top\">0.426761543052</td>\n",
       "    </tr>\n",
       "    <tr>\n",
       "        <td style=\"padding-left: 1em; padding-right: 1em; text-align: center; vertical-align: top\">9e0ffeca058841af74d477c3f<br>103e40b ...</td>\n",
       "        <td style=\"padding-left: 1em; padding-right: 1em; text-align: center; vertical-align: top\">11214e3a0b482b08e02d7931a<br>6e33b9c ...</td>\n",
       "        <td style=\"padding-left: 1em; padding-right: 1em; text-align: center; vertical-align: top\">0.2</td>\n",
       "        <td style=\"padding-left: 1em; padding-right: 1em; text-align: center; vertical-align: top\">0.423842593644</td>\n",
       "    </tr>\n",
       "    <tr>\n",
       "        <td style=\"padding-left: 1em; padding-right: 1em; text-align: center; vertical-align: top\">9e4e3a64e537fd53993555104<br>c64a673 ...</td>\n",
       "        <td style=\"padding-left: 1em; padding-right: 1em; text-align: center; vertical-align: top\">1de7a84143ec9dffd656e5cf6<br>082505e ...</td>\n",
       "        <td style=\"padding-left: 1em; padding-right: 1em; text-align: center; vertical-align: top\">0.1</td>\n",
       "        <td style=\"padding-left: 1em; padding-right: 1em; text-align: center; vertical-align: top\">0.412436113408</td>\n",
       "    </tr>\n",
       "</table>\n",
       "[30167 rows x 4 columns]<br/>Note: Only the head of the SFrame is printed.<br/>You can use print_rows(num_rows=m, num_columns=n) to print more rows and columns.\n",
       "</div>"
      ],
      "text/plain": [
       "Columns:\n",
       "\tuid\tstr\n",
       "\tqid\tstr\n",
       "\tlabel_huidalv\tfloat\n",
       "\tlabel\tfloat\n",
       "\n",
       "Rows: 30167\n",
       "\n",
       "Data:\n",
       "+-------------------------------+-------------------------------+---------------+\n",
       "|              uid              |              qid              | label_huidalv |\n",
       "+-------------------------------+-------------------------------+---------------+\n",
       "| c8dae6a8d94b0c60267c3baf24... | 3d31e9a8328518f98d00beabfd... |      0.0      |\n",
       "| b6b3a645fdd05d80afb55cb987... | 58b9aa96712020827834a53579... |  0.115384615  |\n",
       "| b6b3a645fdd05d80afb55cb987... | e3cd5546fa63fe120810c8971c... |  0.115384615  |\n",
       "| b6b3a645fdd05d80afb55cb987... | e888f91bd5d4710599cf217ee6... |  0.115384615  |\n",
       "| b7175c64a65ff56fdac5ed799d... | 929e035befdd897e56565aca83... |      0.0      |\n",
       "| 9a08d2d18b2ddba7695e69523e... | 624add4fbd780fb9e61cbe509d... |      0.0      |\n",
       "| 9e0ffeca058841af74d477c3f1... | de8ac0376a95037d42abe5518a... |      0.2      |\n",
       "| 9e0ffeca058841af74d477c3f1... | 53cf4803a5628259b6ca756d28... |      0.2      |\n",
       "| 9e0ffeca058841af74d477c3f1... | 11214e3a0b482b08e02d7931a6... |      0.2      |\n",
       "| 9e4e3a64e537fd53993555104c... | 1de7a84143ec9dffd656e5cf60... |      0.1      |\n",
       "+-------------------------------+-------------------------------+---------------+\n",
       "+----------------+\n",
       "|     label      |\n",
       "+----------------+\n",
       "| 0.376511819869 |\n",
       "| 0.444780112478 |\n",
       "| 0.445183753158 |\n",
       "| 0.443369990423 |\n",
       "| 0.428036454185 |\n",
       "| 0.39422911926  |\n",
       "| 0.426955677883 |\n",
       "| 0.426761543052 |\n",
       "| 0.423842593644 |\n",
       "| 0.412436113408 |\n",
       "+----------------+\n",
       "[30167 rows x 4 columns]\n",
       "Note: Only the head of the SFrame is printed.\n",
       "You can use print_rows(num_rows=m, num_columns=n) to print more rows and columns."
      ]
     },
     "execution_count": 15,
     "metadata": {},
     "output_type": "execute_result"
    }
   ],
   "source": [
    "test_gl.add_column(test_recs,name='label')"
   ]
  },
  {
   "cell_type": "code",
   "execution_count": 30,
   "metadata": {
    "collapsed": false
   },
   "outputs": [],
   "source": [
    "output=validate_gl[['qid','uid','label']]\n",
    "output.save('output_validate1117_huidalv_improve_tiaocan_1.csv') "
   ]
  },
  {
   "cell_type": "code",
   "execution_count": 16,
   "metadata": {
    "collapsed": true
   },
   "outputs": [],
   "source": [
    "test_output=test_gl[['qid','uid','label']]\n",
    "test_output.save('output_test1117_huidalv_improve_tiaocan.csv') "
   ]
  },
  {
   "cell_type": "code",
   "execution_count": null,
   "metadata": {
    "collapsed": true
   },
   "outputs": [],
   "source": []
  }
 ],
 "metadata": {
  "kernelspec": {
   "display_name": "Python 2",
   "language": "python",
   "name": "python2"
  },
  "language_info": {
   "codemirror_mode": {
    "name": "ipython",
    "version": 2
   },
   "file_extension": ".py",
   "mimetype": "text/x-python",
   "name": "python",
   "nbconvert_exporter": "python",
   "pygments_lexer": "ipython2",
   "version": "2.7.11"
  }
 },
 "nbformat": 4,
 "nbformat_minor": 0
}
